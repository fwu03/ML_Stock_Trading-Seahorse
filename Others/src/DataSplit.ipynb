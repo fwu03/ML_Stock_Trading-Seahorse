{
 "cells": [
  {
   "cell_type": "code",
   "execution_count": 33,
   "metadata": {},
   "outputs": [],
   "source": [
    "import os\n",
    "import pandas as pd\n",
    "\n",
    "def data_import(folder_path):\n",
    "    \n",
    "    for filename in os.listdir(folder_path):\n",
    "        if filename.endswith(\".txt\"):\n",
    "            # Capture the stock name\n",
    "            pos = max(filename.find('S'), filename.find('B'))\n",
    "            if pos == -1:\n",
    "                pos = 45\n",
    "            stock = str(filename[0:pos]).replace('1','')\n",
    "            print(stock, \" \", end = '')\n",
    "          \n",
    "          # Read the data file\n",
    "            try:\n",
    "                temp_df = pd.read_csv(os.path.join(folder_path, filename), delimiter= '\\s+', header = None)\n",
    "            except:\n",
    "                print('The following file cannot be read: ' + folder_path + filename)\n",
    "                print('Please check the file path')\n",
    "          \n",
    "        \n",
    "          # Check the data format\n",
    "            if temp_df.shape[1] != 124:\n",
    "                temp_df = temp_df.iloc[:,1:]\n",
    "               \n",
    "          #Split the train-test sets\n",
    "            num_split = int(len(temp_df)*0.9)\n",
    "            strain = pd.Series([1]*num_split, name='data_type')\n",
    "            stest = pd.Series([0]*(len(temp_df) - num_split), name='data_type')\n",
    "            scomb = strain.append(stest)\n",
    "            scomb = scomb.reset_index(drop=True)\n",
    "            temp_df = pd.concat([scomb, temp_df], axis=1)\n",
    "            \n",
    "            df_gp = temp_df[temp_df['data_type'] == 1.0]\n",
    "            df_gp = df_gp.drop(['data_type'], axis=1)\n",
    "            df_gp = df_gp.reset_index(drop=True)\n",
    "            \n",
    "            df_test_gp = temp_df[temp_df['data_type'] == 0.0]\n",
    "            df_test_gp = df_test_gp.drop(['data_type'], axis=1)\n",
    "            df_test_gp = df_test_gp.iloc[:, :-1]\n",
    "            df_test_gp = df_test_gp.reset_index(drop=True)\n",
    "            \n",
    "            df_gp.to_csv('data/train/' + filename, sep='\\t', header=False, index=False)\n",
    "            df_test_gp.to_csv('data/test/' + filename, sep='\\t', header=False, index=False)\n",
    "\n",
    "\n",
    "        else:\n",
    "            continue\n"
   ]
  },
  {
   "cell_type": "code",
   "execution_count": 34,
   "metadata": {},
   "outputs": [
    {
     "name": "stdout",
     "output_type": "stream",
     "text": [
      "adbe  ions  hes  ssys  ati  itub  alny  mu  pxd  ufs  bac  uri  low  clf  lulu  dish  gs  txn  jnpr  crm  mas  cat  crus  pru  veev  puk  bidu  fslr  nvda  ibm  csiq  jec  db  ilmn  amp  lfc  acad  amd  cenx  ing  nsc  chtr  teck  meli  "
     ]
    }
   ],
   "source": [
    "data_import('data/buy/')"
   ]
  },
  {
   "cell_type": "code",
   "execution_count": 35,
   "metadata": {},
   "outputs": [
    {
     "name": "stdout",
     "output_type": "stream",
     "text": [
      "csiq  fslr  bidu  lvs  uri  mas  pxd  crm  crus  pru  meli  cenx  ufs  acad  amd  db  teck  alny  itub  ati  adsk  ssys  ions  adbe  gs  clf  bac  "
     ]
    }
   ],
   "source": [
    "data_import('data/sell/')"
   ]
  },
  {
   "cell_type": "code",
   "execution_count": null,
   "metadata": {},
   "outputs": [],
   "source": []
  }
 ],
 "metadata": {
  "kernelspec": {
   "display_name": "Python 3",
   "language": "python",
   "name": "python3"
  },
  "language_info": {
   "codemirror_mode": {
    "name": "ipython",
    "version": 3
   },
   "file_extension": ".py",
   "mimetype": "text/x-python",
   "name": "python",
   "nbconvert_exporter": "python",
   "pygments_lexer": "ipython3",
   "version": "3.7.1"
  }
 },
 "nbformat": 4,
 "nbformat_minor": 2
}
