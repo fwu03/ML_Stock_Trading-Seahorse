{
 "cells": [
  {
   "cell_type": "markdown",
   "metadata": {},
   "source": [
    "## Conv1D, using osc, prc and macd data and their derivatives"
   ]
  },
  {
   "cell_type": "code",
   "execution_count": 1,
   "metadata": {
    "colab": {},
    "colab_type": "code",
    "id": "W69sW5ZHFgjM"
   },
   "outputs": [],
   "source": [
    "import pandas as pd\n",
    "import numpy as np\n",
    "import scipy.signal\n",
    "from sys import getsizeof\n",
    "import matplotlib.pyplot as plt\n",
    "import re \n",
    "import os"
   ]
  },
  {
   "cell_type": "code",
   "execution_count": 2,
   "metadata": {
    "colab": {},
    "colab_type": "code",
    "id": "BMGbfyNVHNea"
   },
   "outputs": [
    {
     "name": "stderr",
     "output_type": "stream",
     "text": [
      "Using TensorFlow backend.\n"
     ]
    }
   ],
   "source": [
    "from sklearn.model_selection import train_test_split\n",
    "from sklearn.metrics import precision_score, classification_report\n",
    "from keras.layers import Dense, Dropout, Flatten, Activation, Conv1D, MaxPooling1D, Conv2D, MaxPooling2D\n",
    "from keras.models import Sequential, Model, clone_model\n",
    "from keras.utils import np_utils\n",
    "from keras.utils import to_categorical"
   ]
  },
  {
   "cell_type": "code",
   "execution_count": 3,
   "metadata": {},
   "outputs": [],
   "source": [
    "def normalize_data(data): \n",
    "    for i in range(data.shape[0]): \n",
    "        row = data.iloc[i, :] \n",
    "        data.iloc[i, :] = (row - min(row))/(max(row) - min(row)) \n",
    "    return data"
   ]
  },
  {
   "cell_type": "code",
   "execution_count": 4,
   "metadata": {},
   "outputs": [],
   "source": [
    "def read_data_files():\n",
    "    data = pd.DataFrame()\n",
    "    \n",
    "    for filename in os.listdir('../data/UBC/'):\n",
    "        if filename.endswith(\".txt\"): \n",
    "            # print('working on ', filename)\n",
    "            # symbol = filename.split(\"1\")[0]\n",
    "            tmp_df = pd.read_csv(os.path.join('../data/UBC/', filename), delimiter= '\\s+', header = None)\n",
    "            tmp_df = tmp_df.astype(float)\n",
    "            # tmp_df = pd.concat([pd.Series([symbol] * tmp_df.shape[0], name = 'symbol'), tmp_df], axis=1)\n",
    "            tmp_df = tmp_df.iloc[20:,:]\n",
    "            tmp_df[180] = (tmp_df[179] + tmp_df[181])/2    # column 180 data is wrong, so replace it with mean value of column 179 and 181\n",
    "            data = pd.concat([data, tmp_df])\n",
    "    \n",
    "    osc_names = ['osc' + str(i) for i in range(118)]\n",
    "    prc_names = ['prc' + str(i) for i in range(118)]\n",
    "    macd_names = ['macd' + str(i) for i in range(118)]\n",
    "    data.columns = osc_names + prc_names + macd_names + ['rtn']\n",
    "    \n",
    "    osc_data = data.iloc[:, :118].reset_index(drop=True)\n",
    "    osc_data = osc_data[osc_data.columns[::-1]]\n",
    "    # osc_data = normalize_data(osc_data)\n",
    "    \n",
    "    prc_data = data.iloc[:, 118:236].reset_index(drop=True)\n",
    "    prc_data = prc_data[prc_data.columns[::-1]]\n",
    "    # prc_data = normalize_data(prc_data)\n",
    "    \n",
    "    macd_data = data.iloc[:, 236:354].reset_index(drop=True)\n",
    "    macd_data = macd_data[macd_data.columns[::-1]]\n",
    "    # macd_data = normalize_data(macd_data) \n",
    "    \n",
    "    rtn = data['rtn'].reset_index(drop=True)\n",
    "    label = pd.Series(map(lambda x: 1 if x>0 else 0, rtn), name = 'label')\n",
    "    \n",
    "    data = pd.concat([osc_data, prc_data, macd_data, rtn, label], axis=1)\n",
    "    data = data.reset_index(drop=True)\n",
    "    \n",
    "    return data"
   ]
  },
  {
   "cell_type": "code",
   "execution_count": 5,
   "metadata": {},
   "outputs": [],
   "source": [
    "def remove_duplicates(data):\n",
    "    # target_names = list(data.columns)\n",
    "    # del target_names[0]\n",
    "    clean_data = data.drop_duplicates()\n",
    "    clean_data= clean_data.reset_index(drop=True)\n",
    "    return clean_data"
   ]
  },
  {
   "cell_type": "code",
   "execution_count": 6,
   "metadata": {},
   "outputs": [],
   "source": [
    "def remove_extreme_values(data): \n",
    "    data = data[(data['osc1'] > -7) & (data['osc1'] < 7)] \n",
    "    data = data.reset_index(drop=True)\n",
    "    return data"
   ]
  },
  {
   "cell_type": "code",
   "execution_count": 7,
   "metadata": {},
   "outputs": [],
   "source": [
    "def remove_pos_values(data):\n",
    "    data = data[data['osc1'] < 0]\n",
    "    data = data.reset_index(drop=True)\n",
    "    return data"
   ]
  },
  {
   "cell_type": "code",
   "execution_count": 8,
   "metadata": {},
   "outputs": [],
   "source": [
    "def calc_derivative(data, name):\n",
    "    derivatives = []\n",
    "    for i in range(data.shape[0]):\n",
    "        i_derivative = list(np.gradient(pd.Series(data.iloc[i,:])))\n",
    "        derivatives.append(i_derivative)\n",
    "    \n",
    "    names = []\n",
    "    for i in range(data.shape[1]):\n",
    "        names.append(name + \"_d\"+ str(40-i)) \n",
    "    \n",
    "    return pd.DataFrame(derivatives, columns=names, index=data.index)"
   ]
  },
  {
   "cell_type": "code",
   "execution_count": 9,
   "metadata": {},
   "outputs": [],
   "source": [
    "def add_derivatives(data):\n",
    "    osc = data.iloc[:, :118]\n",
    "    prc = data.iloc[:, 118:236]\n",
    "    macd = data.iloc[:, 236:354]\n",
    "    rtn = data['rtn']\n",
    "    label = data['label'] \n",
    "    osc_drv = calc_derivative(osc, 'osc')\n",
    "    prc_drv = calc_derivative(prc, 'prc')\n",
    "    macd_drv = calc_derivative(macd, 'macd')\n",
    "    data = pd.concat([osc, prc, macd, osc_drv, prc_drv, macd_drv, rtn, label], axis=1)\n",
    "    return data"
   ]
  },
  {
   "cell_type": "code",
   "execution_count": 10,
   "metadata": {
    "colab": {},
    "colab_type": "code",
    "id": "Fcq6zQ8KJaU9"
   },
   "outputs": [],
   "source": [
    "class StockData():\n",
    "    def __init__(self, data):\n",
    "\n",
    "        pos_data = data[data['label'] == 1]\n",
    "        neg_data = data[data['label'] == 0]\n",
    "        \n",
    "        # balance the data set \n",
    "        if pos_data.shape[0] > neg_data.shape[0]:\n",
    "            pos_data = pos_data.sample(neg_data.shape[0])\n",
    "        else:\n",
    "            neg_data = neg_data.sample(pos_data.shape[0])\n",
    "        \n",
    "        data = pd.concat([pos_data, neg_data], axis = 0)\n",
    "        data = data.reset_index(drop = True) \n",
    "        \n",
    "        X = data.iloc[:, :-1]\n",
    "        y = data['label']\n",
    "        \n",
    "        X_train_valid_w_rtn, X_test_w_rtn, y_train_valid, y_test = train_test_split(X, y, test_size=0.25) \n",
    "        # train_valid set\n",
    "        self.train_valid_rtn = X_train_valid_w_rtn['rtn']\n",
    "        self.X_train_valid = X_train_valid_w_rtn.drop(['rtn'], axis = 1)\n",
    "        self.y_train_valid = y_train_valid\n",
    "        \n",
    "        X_train_w_rtn, X_valid_w_rtn, y_train, y_valid = train_test_split(X_train_valid_w_rtn, y_train_valid, test_size=0.25) \n",
    "        # training set \n",
    "        self.train_rtn = X_train_w_rtn['rtn'] \n",
    "        self.X_train = X_train_w_rtn.drop(['rtn'], axis = 1)\n",
    "        self.y_train = y_train\n",
    "        # validation set\n",
    "        self.valid_rtn = X_valid_w_rtn['rtn']\n",
    "        self.X_valid = X_valid_w_rtn.drop(['rtn'], axis = 1) \n",
    "        self.y_valid = y_valid\n",
    "        # test set \n",
    "        self.test_rtn = X_test_w_rtn['rtn']\n",
    "        self.X_test = X_test_w_rtn.drop(['rtn'], axis = 1)        \n",
    "        self.y_test = y_test "
   ]
  },
  {
   "cell_type": "code",
   "execution_count": 11,
   "metadata": {},
   "outputs": [
    {
     "name": "stdout",
     "output_type": "stream",
     "text": [
      "(49109, 356)\n"
     ]
    }
   ],
   "source": [
    "data = read_data_files()\n",
    "data = remove_duplicates(data) \n",
    "data = remove_extreme_values(data)\n",
    "data = remove_pos_values(data)\n",
    "print(data.shape)\n",
    "# print(data.columns.values)"
   ]
  },
  {
   "cell_type": "code",
   "execution_count": 12,
   "metadata": {},
   "outputs": [
    {
     "name": "stdout",
     "output_type": "stream",
     "text": [
      "(49109, 710)\n"
     ]
    }
   ],
   "source": [
    "data = add_derivatives(data)\n",
    "print(data.shape)\n",
    "# print(data.columns.values)"
   ]
  },
  {
   "cell_type": "code",
   "execution_count": 13,
   "metadata": {},
   "outputs": [
    {
     "name": "stdout",
     "output_type": "stream",
     "text": [
      "(22774, 708)\n",
      "(7592, 708)\n",
      "(10122, 708)\n"
     ]
    }
   ],
   "source": [
    "stock_data = StockData(data)\n",
    "print(stock_data.X_train.shape)\n",
    "print(stock_data.X_valid.shape)\n",
    "print(stock_data.X_test.shape)"
   ]
  },
  {
   "cell_type": "code",
   "execution_count": 14,
   "metadata": {
    "colab": {
     "base_uri": "https://localhost:8080/",
     "height": 34
    },
    "colab_type": "code",
    "id": "P_3-kYuuddSR",
    "outputId": "6b6e2b40-9189-4fea-f229-9073b4b48b9d"
   },
   "outputs": [
    {
     "data": {
      "text/plain": [
       "0.49713495356648885"
      ]
     },
     "execution_count": 14,
     "metadata": {},
     "output_type": "execute_result"
    }
   ],
   "source": [
    "# check what is the percentage of '1' labels in test set \n",
    "sum(stock_data.y_test)/stock_data.y_test.shape[0]"
   ]
  },
  {
   "cell_type": "code",
   "execution_count": 15,
   "metadata": {
    "colab": {},
    "colab_type": "code",
    "id": "4QcojuDZGhFF"
   },
   "outputs": [],
   "source": [
    "X_train = np.array(stock_data.X_train).reshape(stock_data.X_train.shape[0], 6, 118)\n",
    "y_train = to_categorical(stock_data.y_train)\n",
    "X_valid = np.array(stock_data.X_valid).reshape(stock_data.X_valid.shape[0], 6, 118)\n",
    "y_valid = to_categorical(stock_data.y_valid)\n",
    "X_test = np.array(stock_data.X_test).reshape(stock_data.X_test.shape[0], 6, 118)\n",
    "y_test = to_categorical(stock_data.y_test)"
   ]
  },
  {
   "cell_type": "code",
   "execution_count": 16,
   "metadata": {
    "colab": {},
    "colab_type": "code",
    "id": "mg79UA8QYGIL"
   },
   "outputs": [],
   "source": [
    "X_train = np.transpose(X_train, (0, 2, 1))\n",
    "X_valid = np.transpose(X_valid, (0, 2, 1))\n",
    "X_test = np.transpose(X_test, (0, 2, 1))"
   ]
  },
  {
   "cell_type": "code",
   "execution_count": 17,
   "metadata": {
    "colab": {
     "base_uri": "https://localhost:8080/",
     "height": 826
    },
    "colab_type": "code",
    "id": "zxMFiFbkGiqD",
    "outputId": "6a319e01-a04d-4115-f08c-a7d1e50a282f"
   },
   "outputs": [
    {
     "name": "stdout",
     "output_type": "stream",
     "text": [
      "WARNING:tensorflow:From C:\\Users\\leiju\\Anaconda3\\lib\\site-packages\\tensorflow\\python\\framework\\op_def_library.py:263: colocate_with (from tensorflow.python.framework.ops) is deprecated and will be removed in a future version.\n",
      "Instructions for updating:\n",
      "Colocations handled automatically by placer.\n",
      "WARNING:tensorflow:From C:\\Users\\leiju\\Anaconda3\\lib\\site-packages\\tensorflow\\python\\ops\\math_ops.py:3066: to_int32 (from tensorflow.python.ops.math_ops) is deprecated and will be removed in a future version.\n",
      "Instructions for updating:\n",
      "Use tf.cast instead.\n",
      "Train on 22774 samples, validate on 7592 samples\n",
      "Epoch 1/20\n",
      "22774/22774 [==============================] - 4s 190us/step - loss: 0.6943 - acc: 0.5085 - val_loss: 0.6923 - val_acc: 0.5151\n",
      "Epoch 2/20\n",
      "22774/22774 [==============================] - 4s 164us/step - loss: 0.6920 - acc: 0.5139 - val_loss: 0.6925 - val_acc: 0.5109\n",
      "Epoch 3/20\n",
      "22774/22774 [==============================] - 3s 147us/step - loss: 0.6925 - acc: 0.5035 - val_loss: 0.6921 - val_acc: 0.5130\n",
      "Epoch 4/20\n",
      "22774/22774 [==============================] - 4s 162us/step - loss: 0.6917 - acc: 0.5141 - val_loss: 0.6921 - val_acc: 0.5133\n",
      "Epoch 5/20\n",
      "22774/22774 [==============================] - 4s 177us/step - loss: 0.6917 - acc: 0.5125 - val_loss: 0.6934 - val_acc: 0.4950\n",
      "Epoch 6/20\n",
      "22774/22774 [==============================] - 3s 153us/step - loss: 0.6918 - acc: 0.5075 - val_loss: 0.6922 - val_acc: 0.5163\n",
      "Epoch 7/20\n",
      "22774/22774 [==============================] - 3s 149us/step - loss: 0.6916 - acc: 0.5105 - val_loss: 0.6920 - val_acc: 0.5167\n",
      "Epoch 8/20\n",
      "22774/22774 [==============================] - 4s 157us/step - loss: 0.6918 - acc: 0.5082 - val_loss: 0.6919 - val_acc: 0.5162\n",
      "Epoch 9/20\n",
      "22774/22774 [==============================] - 4s 166us/step - loss: 0.6915 - acc: 0.5118 - val_loss: 0.6919 - val_acc: 0.5187\n",
      "Epoch 10/20\n",
      "22774/22774 [==============================] - 4s 169us/step - loss: 0.6914 - acc: 0.5111 - val_loss: 0.6931 - val_acc: 0.5149\n",
      "Epoch 11/20\n",
      "22774/22774 [==============================] - 4s 163us/step - loss: 0.6916 - acc: 0.5166 - val_loss: 0.6926 - val_acc: 0.5108\n",
      "Epoch 12/20\n",
      "22774/22774 [==============================] - 4s 168us/step - loss: 0.6916 - acc: 0.5114 - val_loss: 0.6922 - val_acc: 0.5137\n",
      "Epoch 13/20\n",
      "22774/22774 [==============================] - 5s 213us/step - loss: 0.6915 - acc: 0.5105 - val_loss: 0.6932 - val_acc: 0.5112\n",
      "Epoch 14/20\n",
      "22774/22774 [==============================] - 4s 191us/step - loss: 0.6915 - acc: 0.5079 - val_loss: 0.6923 - val_acc: 0.5100\n",
      "Epoch 15/20\n",
      "22774/22774 [==============================] - 4s 188us/step - loss: 0.6915 - acc: 0.5131 - val_loss: 0.6921 - val_acc: 0.5173\n",
      "Epoch 16/20\n",
      "22774/22774 [==============================] - 4s 191us/step - loss: 0.6914 - acc: 0.5154 - val_loss: 0.6920 - val_acc: 0.5165\n",
      "Epoch 17/20\n",
      "22774/22774 [==============================] - 4s 192us/step - loss: 0.6915 - acc: 0.5089 - val_loss: 0.6921 - val_acc: 0.5173\n",
      "Epoch 18/20\n",
      "22774/22774 [==============================] - 4s 194us/step - loss: 0.6914 - acc: 0.5112 - val_loss: 0.6922 - val_acc: 0.5161\n",
      "Epoch 19/20\n",
      "22774/22774 [==============================] - 4s 197us/step - loss: 0.6913 - acc: 0.5121 - val_loss: 0.6923 - val_acc: 0.5148\n",
      "Epoch 20/20\n",
      "22774/22774 [==============================] - 4s 195us/step - loss: 0.6912 - acc: 0.5168 - val_loss: 0.6920 - val_acc: 0.5174\n"
     ]
    }
   ],
   "source": [
    "model = Sequential()\n",
    "model.add(Conv1D(6, kernel_size=3, input_shape=(118,6), padding='same', activation='relu'))\n",
    "model.add(MaxPooling1D(pool_size=2))\n",
    "model.add(Conv1D(6, kernel_size=3, padding='same', activation='sigmoid'))\n",
    "model.add(MaxPooling1D(pool_size=2))\n",
    "model.add(Flatten())\n",
    "model.add(Dense(12, activation='sigmoid'))\n",
    "model.add(Dense(2, activation='softmax'))\n",
    "model.compile(loss='categorical_crossentropy', optimizer='adam', metrics=['accuracy'])\n",
    "history = model.fit(X_train, y_train, epochs=20, verbose=1, validation_data=(X_valid, y_valid))"
   ]
  },
  {
   "cell_type": "code",
   "execution_count": 18,
   "metadata": {},
   "outputs": [
    {
     "data": {
      "image/png": "[encoded data removed]",
      "text/plain": [
       "<Figure size 432x288 with 1 Axes>"
      ]
     },
     "metadata": {
      "needs_background": "light"
     },
     "output_type": "display_data"
    }
   ],
   "source": [
    "# results using training set and valid set \n",
    "plt.plot(history.history['acc'])\n",
    "plt.plot(history.history['val_acc'])\n",
    "plt.hlines(0.5, 0, 20, linestyles='dotted')\n",
    "plt.ylim(0.45, 0.55)\n",
    "plt.xticks(range(0, 20))\n",
    "plt.xlabel('epochs')\n",
    "plt.ylabel('accuracy')\n",
    "plt.legend(['train', 'valid']);"
   ]
  },
  {
   "cell_type": "code",
   "execution_count": 19,
   "metadata": {},
   "outputs": [
    {
     "name": "stdout",
     "output_type": "stream",
     "text": [
      "7592/7592 [==============================] - 1s 70us/step\n"
     ]
    },
    {
     "data": {
      "text/plain": [
       "[0.6919976444591084, 0.5173867228661749]"
      ]
     },
     "execution_count": 19,
     "metadata": {},
     "output_type": "execute_result"
    }
   ],
   "source": [
    "scores = model.evaluate(X_valid, y_valid, verbose=1)\n",
    "scores"
   ]
  },
  {
   "cell_type": "code",
   "execution_count": 20,
   "metadata": {
    "colab": {},
    "colab_type": "code",
    "id": "gVMgwIxat-_L"
   },
   "outputs": [
    {
     "data": {
      "text/html": [
       "<div>\n",
       "<style scoped>\n",
       "    .dataframe tbody tr th:only-of-type {\n",
       "        vertical-align: middle;\n",
       "    }\n",
       "\n",
       "    .dataframe tbody tr th {\n",
       "        vertical-align: top;\n",
       "    }\n",
       "\n",
       "    .dataframe thead th {\n",
       "        text-align: right;\n",
       "    }\n",
       "</style>\n",
       "<table border=\"1\" class=\"dataframe\">\n",
       "  <thead>\n",
       "    <tr style=\"text-align: right;\">\n",
       "      <th></th>\n",
       "      <th>predicted win prob</th>\n",
       "      <th>actual win rate</th>\n",
       "      <th>mean return</th>\n",
       "      <th># of trades</th>\n",
       "      <th>% of all trades</th>\n",
       "    </tr>\n",
       "    <tr>\n",
       "      <th>pred_prob_level</th>\n",
       "      <th></th>\n",
       "      <th></th>\n",
       "      <th></th>\n",
       "      <th></th>\n",
       "      <th></th>\n",
       "    </tr>\n",
       "  </thead>\n",
       "  <tbody>\n",
       "    <tr>\n",
       "      <th>0.20</th>\n",
       "      <td>0.228202</td>\n",
       "      <td>0.277778</td>\n",
       "      <td>0.263889</td>\n",
       "      <td>18</td>\n",
       "      <td>0.237092</td>\n",
       "    </tr>\n",
       "    <tr>\n",
       "      <th>0.25</th>\n",
       "      <td>0.277510</td>\n",
       "      <td>0.272727</td>\n",
       "      <td>-0.927727</td>\n",
       "      <td>22</td>\n",
       "      <td>0.289779</td>\n",
       "    </tr>\n",
       "    <tr>\n",
       "      <th>0.30</th>\n",
       "      <td>0.322479</td>\n",
       "      <td>0.341463</td>\n",
       "      <td>0.324634</td>\n",
       "      <td>41</td>\n",
       "      <td>0.540042</td>\n",
       "    </tr>\n",
       "    <tr>\n",
       "      <th>0.35</th>\n",
       "      <td>0.379368</td>\n",
       "      <td>0.448276</td>\n",
       "      <td>0.742069</td>\n",
       "      <td>29</td>\n",
       "      <td>0.381981</td>\n",
       "    </tr>\n",
       "    <tr>\n",
       "      <th>0.40</th>\n",
       "      <td>0.430054</td>\n",
       "      <td>0.426230</td>\n",
       "      <td>0.010492</td>\n",
       "      <td>61</td>\n",
       "      <td>0.803477</td>\n",
       "    </tr>\n",
       "    <tr>\n",
       "      <th>0.45</th>\n",
       "      <td>0.488848</td>\n",
       "      <td>0.471823</td>\n",
       "      <td>0.261923</td>\n",
       "      <td>905</td>\n",
       "      <td>11.920443</td>\n",
       "    </tr>\n",
       "    <tr>\n",
       "      <th>0.50</th>\n",
       "      <td>0.514834</td>\n",
       "      <td>0.513045</td>\n",
       "      <td>0.294236</td>\n",
       "      <td>6516</td>\n",
       "      <td>85.827187</td>\n",
       "    </tr>\n",
       "  </tbody>\n",
       "</table>\n",
       "</div>"
      ],
      "text/plain": [
       "                 predicted win prob  actual win rate  mean return  \\\n",
       "pred_prob_level                                                     \n",
       "0.20                       0.228202         0.277778     0.263889   \n",
       "0.25                       0.277510         0.272727    -0.927727   \n",
       "0.30                       0.322479         0.341463     0.324634   \n",
       "0.35                       0.379368         0.448276     0.742069   \n",
       "0.40                       0.430054         0.426230     0.010492   \n",
       "0.45                       0.488848         0.471823     0.261923   \n",
       "0.50                       0.514834         0.513045     0.294236   \n",
       "\n",
       "                 # of trades  % of all trades  \n",
       "pred_prob_level                                \n",
       "0.20                      18         0.237092  \n",
       "0.25                      22         0.289779  \n",
       "0.30                      41         0.540042  \n",
       "0.35                      29         0.381981  \n",
       "0.40                      61         0.803477  \n",
       "0.45                     905        11.920443  \n",
       "0.50                    6516        85.827187  "
      ]
     },
     "execution_count": 20,
     "metadata": {},
     "output_type": "execute_result"
    }
   ],
   "source": [
    "pred = model.predict(X_valid)\n",
    "pred_probs = pd.Series(pred[:, 1], name = \"pred_probs\")\n",
    "results = pd.concat([pred_probs, stock_data.y_valid.reset_index(drop = True), stock_data.valid_rtn.reset_index(drop = True)], \n",
    "                    axis = 1)\n",
    "results['pred_prob_level'] = [int(x * 20)/20 for x in results['pred_probs']]\n",
    "\n",
    "summary = pd.concat([results.groupby(['pred_prob_level']).mean(), \n",
    "                     results.groupby(['pred_prob_level']).count()['label'], \n",
    "                     100 * results.groupby(['pred_prob_level']).count()['label']/results.shape[0]], \n",
    "                    axis = 1)\n",
    "summary.columns = ['predicted win prob', 'actual win rate', 'mean return', '# of trades', '% of all trades']\n",
    "summary"
   ]
  },
  {
   "cell_type": "code",
   "execution_count": 21,
   "metadata": {},
   "outputs": [
    {
     "name": "stdout",
     "output_type": "stream",
     "text": [
      "Train on 22774 samples, validate on 10122 samples\n",
      "Epoch 1/20\n",
      "22774/22774 [==============================] - 5s 228us/step - loss: 0.6935 - acc: 0.5108 - val_loss: 0.6923 - val_acc: 0.5052\n",
      "Epoch 2/20\n",
      "22774/22774 [==============================] - 4s 180us/step - loss: 0.6920 - acc: 0.5090 - val_loss: 0.6921 - val_acc: 0.5029\n",
      "Epoch 3/20\n",
      "22774/22774 [==============================] - 4s 178us/step - loss: 0.6917 - acc: 0.5100 - val_loss: 0.6922 - val_acc: 0.5062\n",
      "Epoch 4/20\n",
      "22774/22774 [==============================] - 4s 188us/step - loss: 0.6916 - acc: 0.5098 - val_loss: 0.6918 - val_acc: 0.5029\n",
      "Epoch 5/20\n",
      "22774/22774 [==============================] - 4s 180us/step - loss: 0.6917 - acc: 0.5059 - val_loss: 0.6917 - val_acc: 0.5030\n",
      "Epoch 6/20\n",
      "22774/22774 [==============================] - 4s 178us/step - loss: 0.6916 - acc: 0.5086 - val_loss: 0.6920 - val_acc: 0.5069\n",
      "Epoch 7/20\n",
      "22774/22774 [==============================] - 4s 181us/step - loss: 0.6914 - acc: 0.5117 - val_loss: 0.6934 - val_acc: 0.5029\n",
      "Epoch 8/20\n",
      "22774/22774 [==============================] - 4s 179us/step - loss: 0.6915 - acc: 0.5036 - val_loss: 0.6920 - val_acc: 0.5072\n",
      "Epoch 9/20\n",
      "22774/22774 [==============================] - 4s 179us/step - loss: 0.6912 - acc: 0.5158 - val_loss: 0.6924 - val_acc: 0.5067\n",
      "Epoch 10/20\n",
      "22774/22774 [==============================] - 4s 180us/step - loss: 0.6916 - acc: 0.5100 - val_loss: 0.6918 - val_acc: 0.5063\n",
      "Epoch 11/20\n",
      "22774/22774 [==============================] - 4s 180us/step - loss: 0.6912 - acc: 0.5099 - val_loss: 0.6921 - val_acc: 0.5208\n",
      "Epoch 12/20\n",
      "22774/22774 [==============================] - 4s 181us/step - loss: 0.6912 - acc: 0.5101 - val_loss: 0.6920 - val_acc: 0.5088\n",
      "Epoch 13/20\n",
      "22774/22774 [==============================] - 4s 178us/step - loss: 0.6908 - acc: 0.5157 - val_loss: 0.6917 - val_acc: 0.5099\n",
      "Epoch 14/20\n",
      "22774/22774 [==============================] - 4s 192us/step - loss: 0.6906 - acc: 0.5131 - val_loss: 0.6922 - val_acc: 0.5029\n",
      "Epoch 15/20\n",
      "22774/22774 [==============================] - 4s 189us/step - loss: 0.6905 - acc: 0.5086 - val_loss: 0.6922 - val_acc: 0.5097\n",
      "Epoch 16/20\n",
      "22774/22774 [==============================] - 5s 200us/step - loss: 0.6897 - acc: 0.5148 - val_loss: 0.6938 - val_acc: 0.5087\n",
      "Epoch 17/20\n",
      "22774/22774 [==============================] - 4s 179us/step - loss: 0.6898 - acc: 0.5176 - val_loss: 0.6949 - val_acc: 0.5024\n",
      "Epoch 18/20\n",
      "22774/22774 [==============================] - 4s 177us/step - loss: 0.6899 - acc: 0.5131 - val_loss: 0.6930 - val_acc: 0.5160\n",
      "Epoch 19/20\n",
      "22774/22774 [==============================] - 4s 181us/step - loss: 0.6892 - acc: 0.5169 - val_loss: 0.6943 - val_acc: 0.5030\n",
      "Epoch 20/20\n",
      "22774/22774 [==============================] - 4s 186us/step - loss: 0.6888 - acc: 0.5210 - val_loss: 0.6950 - val_acc: 0.5068\n"
     ]
    }
   ],
   "source": [
    "model = Sequential()\n",
    "model.add(Conv1D(6, kernel_size=3, input_shape=(118,6), padding='same', activation='relu'))\n",
    "# model.add(MaxPooling1D(pool_size=2))\n",
    "model.add(Conv1D(6, kernel_size=3, padding='same', activation='sigmoid'))\n",
    "# model.add(MaxPooling1D(pool_size=2))\n",
    "model.add(Flatten())\n",
    "model.add(Dense(12, activation='sigmoid'))\n",
    "model.add(Dense(2, activation='softmax'))\n",
    "model.compile(loss='categorical_crossentropy', optimizer='adam', metrics=['accuracy'])\n",
    "history = model.fit(X_train, y_train, epochs=20, verbose=1, validation_data=(X_test, y_test))"
   ]
  },
  {
   "cell_type": "code",
   "execution_count": 22,
   "metadata": {},
   "outputs": [
    {
     "data": {
      "image/png": "[encoded data removed]",
      "text/plain": [
       "<Figure size 432x288 with 1 Axes>"
      ]
     },
     "metadata": {
      "needs_background": "light"
     },
     "output_type": "display_data"
    }
   ],
   "source": [
    "# results using training set and test set \n",
    "plt.plot(history.history['acc'])\n",
    "plt.plot(history.history['val_acc'])\n",
    "plt.hlines(0.5, 0, 20, linestyles='dotted')\n",
    "plt.ylim(0.45, 0.55)\n",
    "plt.xticks(range(0, 20))\n",
    "plt.xlabel('epochs')\n",
    "plt.ylabel('accuracy')\n",
    "plt.legend(['train', 'test']);"
   ]
  },
  {
   "cell_type": "code",
   "execution_count": 23,
   "metadata": {
    "colab": {
     "base_uri": "https://localhost:8080/",
     "height": 50
    },
    "colab_type": "code",
    "id": "TGtoOZsaKWNV",
    "outputId": "fcf1d647-959e-4d4f-a60b-347d6b0e7704"
   },
   "outputs": [
    {
     "name": "stdout",
     "output_type": "stream",
     "text": [
      "10122/10122 [==============================] - 1s 55us/step\n"
     ]
    },
    {
     "data": {
      "text/plain": [
       "[0.6949518876239684, 0.5068168346294417]"
      ]
     },
     "execution_count": 23,
     "metadata": {},
     "output_type": "execute_result"
    }
   ],
   "source": [
    "scores = model.evaluate(X_test, y_test, verbose=1)\n",
    "scores"
   ]
  },
  {
   "cell_type": "code",
   "execution_count": 24,
   "metadata": {
    "colab": {
     "base_uri": "https://localhost:8080/",
     "height": 195
    },
    "colab_type": "code",
    "id": "CKoZ2gtQlU0m",
    "outputId": "fe5250a9-ff5c-4081-fe91-4e0428832186"
   },
   "outputs": [
    {
     "data": {
      "text/html": [
       "<div>\n",
       "<style scoped>\n",
       "    .dataframe tbody tr th:only-of-type {\n",
       "        vertical-align: middle;\n",
       "    }\n",
       "\n",
       "    .dataframe tbody tr th {\n",
       "        vertical-align: top;\n",
       "    }\n",
       "\n",
       "    .dataframe thead th {\n",
       "        text-align: right;\n",
       "    }\n",
       "</style>\n",
       "<table border=\"1\" class=\"dataframe\">\n",
       "  <thead>\n",
       "    <tr style=\"text-align: right;\">\n",
       "      <th></th>\n",
       "      <th>predicted win prob</th>\n",
       "      <th>actual win rate</th>\n",
       "      <th>mean return</th>\n",
       "      <th># of trades</th>\n",
       "      <th>% of all trades</th>\n",
       "    </tr>\n",
       "    <tr>\n",
       "      <th>pred_prob_level</th>\n",
       "      <th></th>\n",
       "      <th></th>\n",
       "      <th></th>\n",
       "      <th></th>\n",
       "      <th></th>\n",
       "    </tr>\n",
       "  </thead>\n",
       "  <tbody>\n",
       "    <tr>\n",
       "      <th>0.05</th>\n",
       "      <td>0.082377</td>\n",
       "      <td>0.400000</td>\n",
       "      <td>0.230667</td>\n",
       "      <td>15</td>\n",
       "      <td>0.148192</td>\n",
       "    </tr>\n",
       "    <tr>\n",
       "      <th>0.10</th>\n",
       "      <td>0.126135</td>\n",
       "      <td>0.384615</td>\n",
       "      <td>0.793077</td>\n",
       "      <td>13</td>\n",
       "      <td>0.128433</td>\n",
       "    </tr>\n",
       "    <tr>\n",
       "      <th>0.15</th>\n",
       "      <td>0.176788</td>\n",
       "      <td>0.368421</td>\n",
       "      <td>-0.200000</td>\n",
       "      <td>38</td>\n",
       "      <td>0.375420</td>\n",
       "    </tr>\n",
       "    <tr>\n",
       "      <th>0.20</th>\n",
       "      <td>0.226347</td>\n",
       "      <td>0.354167</td>\n",
       "      <td>-0.623958</td>\n",
       "      <td>48</td>\n",
       "      <td>0.474215</td>\n",
       "    </tr>\n",
       "    <tr>\n",
       "      <th>0.25</th>\n",
       "      <td>0.271582</td>\n",
       "      <td>0.125000</td>\n",
       "      <td>-0.738750</td>\n",
       "      <td>32</td>\n",
       "      <td>0.316143</td>\n",
       "    </tr>\n",
       "    <tr>\n",
       "      <th>0.30</th>\n",
       "      <td>0.327309</td>\n",
       "      <td>0.321429</td>\n",
       "      <td>1.012857</td>\n",
       "      <td>28</td>\n",
       "      <td>0.276625</td>\n",
       "    </tr>\n",
       "    <tr>\n",
       "      <th>0.35</th>\n",
       "      <td>0.378010</td>\n",
       "      <td>0.350000</td>\n",
       "      <td>0.272250</td>\n",
       "      <td>40</td>\n",
       "      <td>0.395179</td>\n",
       "    </tr>\n",
       "    <tr>\n",
       "      <th>0.40</th>\n",
       "      <td>0.422639</td>\n",
       "      <td>0.396226</td>\n",
       "      <td>0.336038</td>\n",
       "      <td>53</td>\n",
       "      <td>0.523612</td>\n",
       "    </tr>\n",
       "    <tr>\n",
       "      <th>0.45</th>\n",
       "      <td>0.484044</td>\n",
       "      <td>0.472081</td>\n",
       "      <td>0.801878</td>\n",
       "      <td>197</td>\n",
       "      <td>1.946256</td>\n",
       "    </tr>\n",
       "    <tr>\n",
       "      <th>0.50</th>\n",
       "      <td>0.534620</td>\n",
       "      <td>0.502075</td>\n",
       "      <td>0.275096</td>\n",
       "      <td>9640</td>\n",
       "      <td>95.238095</td>\n",
       "    </tr>\n",
       "    <tr>\n",
       "      <th>0.55</th>\n",
       "      <td>0.574172</td>\n",
       "      <td>0.272727</td>\n",
       "      <td>-1.316364</td>\n",
       "      <td>11</td>\n",
       "      <td>0.108674</td>\n",
       "    </tr>\n",
       "    <tr>\n",
       "      <th>0.60</th>\n",
       "      <td>0.622178</td>\n",
       "      <td>1.000000</td>\n",
       "      <td>8.140000</td>\n",
       "      <td>2</td>\n",
       "      <td>0.019759</td>\n",
       "    </tr>\n",
       "    <tr>\n",
       "      <th>0.65</th>\n",
       "      <td>0.669944</td>\n",
       "      <td>1.000000</td>\n",
       "      <td>6.392500</td>\n",
       "      <td>4</td>\n",
       "      <td>0.039518</td>\n",
       "    </tr>\n",
       "    <tr>\n",
       "      <th>0.75</th>\n",
       "      <td>0.769395</td>\n",
       "      <td>0.000000</td>\n",
       "      <td>-2.640000</td>\n",
       "      <td>1</td>\n",
       "      <td>0.009879</td>\n",
       "    </tr>\n",
       "  </tbody>\n",
       "</table>\n",
       "</div>"
      ],
      "text/plain": [
       "                 predicted win prob  actual win rate  mean return  \\\n",
       "pred_prob_level                                                     \n",
       "0.05                       0.082377         0.400000     0.230667   \n",
       "0.10                       0.126135         0.384615     0.793077   \n",
       "0.15                       0.176788         0.368421    -0.200000   \n",
       "0.20                       0.226347         0.354167    -0.623958   \n",
       "0.25                       0.271582         0.125000    -0.738750   \n",
       "0.30                       0.327309         0.321429     1.012857   \n",
       "0.35                       0.378010         0.350000     0.272250   \n",
       "0.40                       0.422639         0.396226     0.336038   \n",
       "0.45                       0.484044         0.472081     0.801878   \n",
       "0.50                       0.534620         0.502075     0.275096   \n",
       "0.55                       0.574172         0.272727    -1.316364   \n",
       "0.60                       0.622178         1.000000     8.140000   \n",
       "0.65                       0.669944         1.000000     6.392500   \n",
       "0.75                       0.769395         0.000000    -2.640000   \n",
       "\n",
       "                 # of trades  % of all trades  \n",
       "pred_prob_level                                \n",
       "0.05                      15         0.148192  \n",
       "0.10                      13         0.128433  \n",
       "0.15                      38         0.375420  \n",
       "0.20                      48         0.474215  \n",
       "0.25                      32         0.316143  \n",
       "0.30                      28         0.276625  \n",
       "0.35                      40         0.395179  \n",
       "0.40                      53         0.523612  \n",
       "0.45                     197         1.946256  \n",
       "0.50                    9640        95.238095  \n",
       "0.55                      11         0.108674  \n",
       "0.60                       2         0.019759  \n",
       "0.65                       4         0.039518  \n",
       "0.75                       1         0.009879  "
      ]
     },
     "execution_count": 24,
     "metadata": {},
     "output_type": "execute_result"
    }
   ],
   "source": [
    "pred = model.predict(X_test)\n",
    "pred_probs = pd.Series(pred[:, 1], name = \"pred_probs\")\n",
    "results = pd.concat([pred_probs, stock_data.y_test.reset_index(drop = True), stock_data.test_rtn.reset_index(drop = True)], \n",
    "                    axis = 1)\n",
    "results['pred_prob_level'] = [int(x * 20)/20 for x in results['pred_probs']]\n",
    "\n",
    "summary = pd.concat([results.groupby(['pred_prob_level']).mean(), \n",
    "                     results.groupby(['pred_prob_level']).count()['label'], \n",
    "                     100 * results.groupby(['pred_prob_level']).count()['label']/results.shape[0]], \n",
    "                    axis = 1)\n",
    "summary.columns = ['predicted win prob', 'actual win rate', 'mean return', '# of trades', '% of all trades']\n",
    "summary"
   ]
  },
  {
   "cell_type": "code",
   "execution_count": null,
   "metadata": {},
   "outputs": [],
   "source": []
  }
 ],
 "metadata": {
  "accelerator": "GPU",
  "colab": {
   "collapsed_sections": [],
   "name": "Seahorse_CNN1.ipynb",
   "provenance": [],
   "version": "0.3.2"
  },
  "kernelspec": {
   "display_name": "Python 3",
   "language": "python",
   "name": "python3"
  },
  "language_info": {
   "codemirror_mode": {
    "name": "ipython",
    "version": 3
   },
   "file_extension": ".py",
   "mimetype": "text/x-python",
   "name": "python",
   "nbconvert_exporter": "python",
   "pygments_lexer": "ipython3",
   "version": "3.7.3"
  }
 },
 "nbformat": 4,
 "nbformat_minor": 1
}
