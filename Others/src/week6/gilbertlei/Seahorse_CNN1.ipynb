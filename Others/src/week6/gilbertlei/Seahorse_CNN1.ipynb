{
 "cells": [
  {
   "cell_type": "code",
   "execution_count": 0,
   "metadata": {
    "colab": {
     "base_uri": "https://localhost:8080/",
     "height": 121
    },
    "colab_type": "code",
    "id": "PagXGSVPFa0X",
    "outputId": "e061ae66-bea7-4968-8a64-05dd20475955"
   },
   "outputs": [
    {
     "name": "stdout",
     "output_type": "stream",
     "text": [
      "Go to this URL in a browser: https://accounts.google.com/o/oauth2/auth?client_id=947318989803-6bn6qk8qdgf4n4g3pfee6491hc0brc4i.apps.googleusercontent.com&redirect_uri=urn%3Aietf%3Awg%3Aoauth%3A2.0%3Aoob&scope=email%20https%3A%2F%2Fwww.googleapis.com%2Fauth%2Fdocs.test%20https%3A%2F%2Fwww.googleapis.com%2Fauth%2Fdrive%20https%3A%2F%2Fwww.googleapis.com%2Fauth%2Fdrive.photos.readonly%20https%3A%2F%2Fwww.googleapis.com%2Fauth%2Fpeopleapi.readonly&response_type=code\n",
      "\n",
      "Enter your authorization code:\n",
      "··········\n",
      "Mounted at /content/gdrive\n"
     ]
    }
   ],
   "source": [
    "from google.colab import drive\n",
    "drive.mount('/content/gdrive')\n",
    "file_path = 'gdrive/My Drive/ColabNotebooks/Seahorse/' "
   ]
  },
  {
   "cell_type": "code",
   "execution_count": 0,
   "metadata": {
    "colab": {},
    "colab_type": "code",
    "id": "W69sW5ZHFgjM"
   },
   "outputs": [],
   "source": [
    "import pandas as pd\n",
    "import numpy as np\n",
    "import scipy.signal\n",
    "from sys import getsizeof\n",
    "import matplotlib.pyplot as plt\n",
    "import re "
   ]
  },
  {
   "cell_type": "code",
   "execution_count": 0,
   "metadata": {
    "colab": {},
    "colab_type": "code",
    "id": "BMGbfyNVHNea"
   },
   "outputs": [],
   "source": [
    "from sklearn.model_selection import train_test_split\n",
    "from keras.layers import Dense, Dropout, Flatten, Activation, Conv1D, MaxPooling1D, Conv2D, MaxPooling2D\n",
    "from keras.models import Sequential, Model, clone_model\n",
    "from keras.utils import np_utils\n",
    "from keras.utils import to_categorical"
   ]
  },
  {
   "cell_type": "markdown",
   "metadata": {
    "colab_type": "text",
    "id": "Ta9_jFffqnrL"
   },
   "source": [
    "## try CNN model using 2D data (oscillator/price/macd plots)"
   ]
  },
  {
   "cell_type": "code",
   "execution_count": 0,
   "metadata": {
    "colab": {},
    "colab_type": "code",
    "id": "STjb7Cm2kyqj"
   },
   "outputs": [],
   "source": [
    "def normalize_data(data): \n",
    "    for i in range(data.shape[0]): \n",
    "        row = data.iloc[i, :] \n",
    "        data.iloc[i, :] = (row - min(row))/(max(row) - min(row)) \n",
    "    return data"
   ]
  },
  {
   "cell_type": "code",
   "execution_count": 0,
   "metadata": {
    "colab": {},
    "colab_type": "code",
    "id": "XXfJPj_SoINl"
   },
   "outputs": [],
   "source": [
    "class StockData_normalized():\n",
    "    def __init__(self, file_path):\n",
    "        '''\n",
    "        input parameter \"file_path\" refers to the data file that contains all of the cleaned data, including oscillator, price, macd, return, symbol and label. \n",
    "        '''\n",
    "        data = pd.read_csv(file_path, header=0, index_col=0) \n",
    "        print(\"read_csv done\")\n",
    "        \n",
    "        pos_data = data[data['label'] == 1]\n",
    "        neg_data = data[data['label'] == 0]\n",
    "        \n",
    "        sample_size = 15000\n",
    "        pos_data = pos_data.sample(int(sample_size/2))\n",
    "        neg_data = neg_data.sample(int(sample_size/2))\n",
    "        data = pd.concat([pos_data, neg_data], axis = 0)\n",
    "        data = data.reset_index(drop = True) \n",
    "         \n",
    "        osc_normalized = normalize_data(data.iloc[:, :41])\n",
    "        print(\"normalize osc done\")\n",
    "        prc_normalized = normalize_data(data.iloc[:, 41:82])\n",
    "        print(\"normalize prc done\")\n",
    "        macd_normalized = normalize_data(data.iloc[:, 82:123])\n",
    "        print(\"normalize macd done\")\n",
    "        rtn = data['rtn']\n",
    "        X = pd.concat([osc_normalized, prc_normalized, macd_normalized, rtn], axis=1)\n",
    "        y = data['label']\n",
    "        \n",
    "        X_train_valid_w_rtn, X_test_w_rtn, y_train_valid, y_test = train_test_split(X, y, test_size=0.25) \n",
    "        # train_valid set\n",
    "        self.train_valid_rtn = X_train_valid_w_rtn['rtn']\n",
    "        self.X_train_valid = X_train_valid_w_rtn.drop(['rtn'], axis = 1)\n",
    "        self.y_train_valid = y_train_valid\n",
    "        \n",
    "        X_train_w_rtn, X_valid_w_rtn, y_train, y_valid = train_test_split(X_train_valid_w_rtn, y_train_valid, test_size=0.25) \n",
    "        # training set \n",
    "        self.train_rtn = X_train_w_rtn['rtn'] \n",
    "        self.X_train = X_train_w_rtn.drop(['rtn'], axis = 1)\n",
    "        self.y_train = y_train\n",
    "        # validation set\n",
    "        self.valid_rtn = X_valid_w_rtn['rtn']\n",
    "        self.X_valid = X_valid_w_rtn.drop(['rtn'], axis = 1) \n",
    "        self.y_valid = y_valid\n",
    "        # test set \n",
    "        self.test_rtn = X_test_w_rtn['rtn']\n",
    "        self.X_test = X_test_w_rtn.drop(['rtn'], axis = 1)        \n",
    "        self.y_test = y_test "
   ]
  },
  {
   "cell_type": "code",
   "execution_count": 0,
   "metadata": {
    "colab": {
     "base_uri": "https://localhost:8080/",
     "height": 84
    },
    "colab_type": "code",
    "id": "o612KFcYt6ly",
    "outputId": "df61b38d-70a2-4fd1-99b0-efde21f19d7b"
   },
   "outputs": [
    {
     "name": "stdout",
     "output_type": "stream",
     "text": [
      "read_csv done\n",
      "normalize osc done\n",
      "normalize prc done\n",
      "normalize macd done\n"
     ]
    }
   ],
   "source": [
    "data_normalized = StockData_normalized(file_path + 'D1over5.csv')"
   ]
  },
  {
   "cell_type": "code",
   "execution_count": 0,
   "metadata": {
    "colab": {},
    "colab_type": "code",
    "id": "TevhmQpzt_L4"
   },
   "outputs": [],
   "source": [
    "def data_to_img(data):\n",
    "    fig = plt.figure(figsize = (3, 2), frameon=False)\n",
    "    fig.tight_layout(pad=0)\n",
    "    plt.plot(range(41), data[:41], 'r')\n",
    "    plt.plot(range(41), data[41:82], 'g')\n",
    "    plt.plot(range(41), data[82:], 'b')\n",
    "    plt.tick_params(axis = 'both', which = 'both', bottom=False, top=False, labelbottom=False, right=False, left=False, labelleft=False)\n",
    "    fig.canvas.draw()\n",
    "    img_arr = np.frombuffer(fig.canvas.tostring_rgb(), dtype=np.uint8)\n",
    "    img_arr = img_arr.reshape(fig.canvas.get_width_height()[::-1] + (3,))\n",
    "    plt.close()  \n",
    "    # print(getsizeof(img_arr))\n",
    "    return img_arr"
   ]
  },
  {
   "cell_type": "code",
   "execution_count": 0,
   "metadata": {
    "colab": {
     "base_uri": "https://localhost:8080/",
     "height": 34
    },
    "colab_type": "code",
    "id": "worf9Nwuw2jO",
    "outputId": "1d77c067-dc0d-406b-f7ab-6564b1653772"
   },
   "outputs": [
    {
     "data": {
      "text/plain": [
       "(144, 216, 3)"
      ]
     },
     "execution_count": 10,
     "metadata": {
      "tags": []
     },
     "output_type": "execute_result"
    }
   ],
   "source": [
    "# test whether the function works properly\n",
    "img_arr = data_to_img(data_normalized.X_train.iloc[0, :])\n",
    "img_arr.shape"
   ]
  },
  {
   "cell_type": "code",
   "execution_count": 0,
   "metadata": {
    "colab": {
     "base_uri": "https://localhost:8080/",
     "height": 34
    },
    "colab_type": "code",
    "id": "BVWxSBGDz1Xn",
    "outputId": "26941884-2f4d-403a-8250-25032ed14fcc"
   },
   "outputs": [
    {
     "name": "stdout",
     "output_type": "stream",
     "text": [
      "0 1000 2000 3000 4000 5000 6000 7000 8000 "
     ]
    },
    {
     "data": {
      "text/plain": [
       "(8437, 144, 216, 3)"
      ]
     },
     "execution_count": 11,
     "metadata": {
      "tags": []
     },
     "output_type": "execute_result"
    }
   ],
   "source": [
    "X_train_img = []\n",
    "for i in range(data_normalized.X_train.shape[0]):\n",
    "  X_train_img.append(data_to_img(data_normalized.X_train.iloc[i, :123])) \n",
    "  if i%1000 == 0:\n",
    "    print(i, end=' ')\n",
    "print('\\n')\n",
    "X_train_img = np.array(X_train_img)\n",
    "X_train_img.shape"
   ]
  },
  {
   "cell_type": "code",
   "execution_count": 0,
   "metadata": {
    "colab": {
     "base_uri": "https://localhost:8080/",
     "height": 34
    },
    "colab_type": "code",
    "id": "D4j-s8b5rHaj",
    "outputId": "2dececc4-5bb5-4270-953d-ac652c5001d0"
   },
   "outputs": [
    {
     "data": {
      "text/plain": [
       "(8437, 2)"
      ]
     },
     "execution_count": 19,
     "metadata": {
      "tags": []
     },
     "output_type": "execute_result"
    }
   ],
   "source": [
    "y_train = to_categorical(data_normalized.y_train)\n",
    "y_train.shape"
   ]
  },
  {
   "cell_type": "code",
   "execution_count": 0,
   "metadata": {
    "colab": {
     "base_uri": "https://localhost:8080/",
     "height": 67
    },
    "colab_type": "code",
    "id": "Md7qpy1vrUOU",
    "outputId": "62a11f17-b5e3-4704-a2f0-c016702633ed"
   },
   "outputs": [
    {
     "name": "stdout",
     "output_type": "stream",
     "text": [
      "0 1000 2000 \n",
      "\n"
     ]
    },
    {
     "data": {
      "text/plain": [
       "(2813, 144, 216, 3)"
      ]
     },
     "execution_count": 20,
     "metadata": {
      "tags": []
     },
     "output_type": "execute_result"
    }
   ],
   "source": [
    "X_valid_img = []\n",
    "for i in range(data_normalized.X_valid.shape[0]):\n",
    "  X_valid_img.append(data_to_img(data_normalized.X_valid.iloc[i, :123])) \n",
    "  if i%1000 == 0:\n",
    "    print(i, end=' ')\n",
    "print('\\n')\n",
    "X_valid_img = np.array(X_valid_img)\n",
    "X_valid_img.shape"
   ]
  },
  {
   "cell_type": "code",
   "execution_count": 0,
   "metadata": {
    "colab": {
     "base_uri": "https://localhost:8080/",
     "height": 34
    },
    "colab_type": "code",
    "id": "L15q9JlsrUSE",
    "outputId": "f669d9e6-5b66-4850-f319-518a39939632"
   },
   "outputs": [
    {
     "data": {
      "text/plain": [
       "(2813, 2)"
      ]
     },
     "execution_count": 21,
     "metadata": {
      "tags": []
     },
     "output_type": "execute_result"
    }
   ],
   "source": [
    "y_valid = to_categorical(data_normalized.y_valid)\n",
    "y_valid.shape"
   ]
  },
  {
   "cell_type": "code",
   "execution_count": 0,
   "metadata": {
    "colab": {
     "base_uri": "https://localhost:8080/",
     "height": 34
    },
    "colab_type": "code",
    "id": "wGZbqgFw1jJx",
    "outputId": "3136062c-a64b-459c-e387-6fae9b766bed"
   },
   "outputs": [
    {
     "name": "stdout",
     "output_type": "stream",
     "text": [
      "0 1000 2000 3000 "
     ]
    },
    {
     "data": {
      "text/plain": [
       "(3750, 144, 216, 3)"
      ]
     },
     "execution_count": 12,
     "metadata": {
      "tags": []
     },
     "output_type": "execute_result"
    }
   ],
   "source": [
    "X_test_img = []\n",
    "for i in range(data_normalized.X_test.shape[0]):\n",
    "  X_test_img.append(data_to_img(data_normalized.X_test.iloc[i, :123])) \n",
    "  if i%1000 == 0:\n",
    "    print(i, end=' ')\n",
    "print('\\n')\n",
    "X_test_img = np.array(X_test_img)\n",
    "X_test_img.shape"
   ]
  },
  {
   "cell_type": "code",
   "execution_count": 0,
   "metadata": {
    "colab": {
     "base_uri": "https://localhost:8080/",
     "height": 286
    },
    "colab_type": "code",
    "id": "v2XaWc7KtAsv",
    "outputId": "3f0b92f1-5003-4c27-9c45-74e9e20e3971"
   },
   "outputs": [
    {
     "data": {
      "text/plain": [
       "<matplotlib.image.AxesImage at 0x7f97fb28c940>"
      ]
     },
     "execution_count": 32,
     "metadata": {
      "tags": []
     },
     "output_type": "execute_result"
    },
    {
     "data": {
      "image/png": "[encoded data removed]",
      "text/plain": [
       "<Figure size 432x288 with 1 Axes>"
      ]
     },
     "metadata": {
      "tags": []
     },
     "output_type": "display_data"
    }
   ],
   "source": [
    "plt.imshow(X_test_img[0,:,:,:])"
   ]
  },
  {
   "cell_type": "code",
   "execution_count": 0,
   "metadata": {
    "colab": {
     "base_uri": "https://localhost:8080/",
     "height": 34
    },
    "colab_type": "code",
    "id": "zQjThL6tMWob",
    "outputId": "9f6453a0-5be3-4665-eba8-d207a8f07a07"
   },
   "outputs": [
    {
     "data": {
      "text/plain": [
       "(3750, 2)"
      ]
     },
     "execution_count": 22,
     "metadata": {
      "tags": []
     },
     "output_type": "execute_result"
    }
   ],
   "source": [
    "y_test = to_categorical(data_normalized.y_test)\n",
    "y_test.shape"
   ]
  },
  {
   "cell_type": "code",
   "execution_count": 0,
   "metadata": {
    "colab": {
     "base_uri": "https://localhost:8080/",
     "height": 706
    },
    "colab_type": "code",
    "id": "yZwskM1dCNS9",
    "outputId": "f4419396-d68a-4b90-c816-4d9e594cc216"
   },
   "outputs": [
    {
     "name": "stdout",
     "output_type": "stream",
     "text": [
      "Train on 8437 samples, validate on 3750 samples\n",
      "Epoch 1/20\n",
      "8437/8437 [==============================] - 9s 1ms/step - loss: 7.8883 - acc: 0.5018 - val_loss: 8.0633 - val_acc: 0.4997\n",
      "Epoch 2/20\n",
      "8437/8437 [==============================] - 8s 955us/step - loss: 7.8617 - acc: 0.4976 - val_loss: 8.0633 - val_acc: 0.4997\n",
      "Epoch 3/20\n",
      "8437/8437 [==============================] - 8s 954us/step - loss: 7.9100 - acc: 0.4932 - val_loss: 8.0633 - val_acc: 0.4997\n",
      "Epoch 4/20\n",
      "8437/8437 [==============================] - 8s 955us/step - loss: 7.7706 - acc: 0.5031 - val_loss: 8.0633 - val_acc: 0.4997\n",
      "Epoch 5/20\n",
      "8437/8437 [==============================] - 8s 945us/step - loss: 7.8236 - acc: 0.5003 - val_loss: 8.0633 - val_acc: 0.4997\n",
      "Epoch 6/20\n",
      "8437/8437 [==============================] - 8s 950us/step - loss: 7.9082 - acc: 0.4958 - val_loss: 8.0633 - val_acc: 0.4997\n",
      "Epoch 7/20\n",
      "8437/8437 [==============================] - 8s 961us/step - loss: 7.7632 - acc: 0.5034 - val_loss: 8.0633 - val_acc: 0.4997\n",
      "Epoch 8/20\n",
      "8437/8437 [==============================] - 8s 989us/step - loss: 7.7917 - acc: 0.5016 - val_loss: 8.0633 - val_acc: 0.4997\n",
      "Epoch 9/20\n",
      "8437/8437 [==============================] - 8s 956us/step - loss: 7.8084 - acc: 0.5007 - val_loss: 8.0633 - val_acc: 0.4997\n",
      "Epoch 10/20\n",
      "8437/8437 [==============================] - 8s 953us/step - loss: 7.9158 - acc: 0.4943 - val_loss: 8.0633 - val_acc: 0.4997\n",
      "Epoch 11/20\n",
      "8437/8437 [==============================] - 8s 952us/step - loss: 7.8863 - acc: 0.4980 - val_loss: 8.0633 - val_acc: 0.4997\n",
      "Epoch 12/20\n",
      "8437/8437 [==============================] - 8s 952us/step - loss: 7.8799 - acc: 0.4967 - val_loss: 8.0633 - val_acc: 0.4997\n",
      "Epoch 13/20\n",
      "8437/8437 [==============================] - 8s 948us/step - loss: 7.8107 - acc: 0.5004 - val_loss: 8.0633 - val_acc: 0.4997\n",
      "Epoch 14/20\n",
      "8437/8437 [==============================] - 8s 951us/step - loss: 7.7598 - acc: 0.5053 - val_loss: 8.0633 - val_acc: 0.4997\n",
      "Epoch 15/20\n",
      "8437/8437 [==============================] - 8s 958us/step - loss: 7.8481 - acc: 0.4982 - val_loss: 8.0633 - val_acc: 0.4997\n",
      "Epoch 16/20\n",
      "8437/8437 [==============================] - 8s 951us/step - loss: 7.8065 - acc: 0.5008 - val_loss: 8.0633 - val_acc: 0.4997\n",
      "Epoch 17/20\n",
      "8437/8437 [==============================] - 8s 980us/step - loss: 7.7785 - acc: 0.5040 - val_loss: 8.0633 - val_acc: 0.4997\n",
      "Epoch 18/20\n",
      "8437/8437 [==============================] - 8s 1ms/step - loss: 7.7952 - acc: 0.5017 - val_loss: 8.0633 - val_acc: 0.4997\n",
      "Epoch 19/20\n",
      "8437/8437 [==============================] - 8s 953us/step - loss: 7.9898 - acc: 0.4905 - val_loss: 8.0633 - val_acc: 0.4997\n",
      "Epoch 20/20\n",
      "8437/8437 [==============================] - 8s 948us/step - loss: 7.9183 - acc: 0.4953 - val_loss: 8.0633 - val_acc: 0.4997\n"
     ]
    }
   ],
   "source": [
    "model = Sequential()\n",
    "model.add(Conv2D(32, (3, 3), input_shape=(144, 216,3), activation='relu'))\n",
    "model.add(MaxPooling2D(pool_size = (2, 2)))\n",
    "model.add(Conv2D(32, (3, 3), activation='relu'))\n",
    "model.add(MaxPooling2D(pool_size = (2, 2)))\n",
    "model.add(Flatten())\n",
    "model.add(Dense(32, activation='relu'))\n",
    "model.add(Dropout(rate = 0.5))\n",
    "model.add(Dense(2, activation='softmax'))\n",
    "model.compile(loss='categorical_crossentropy', optimizer='adam', metrics=['accuracy'])\n",
    "history = model.fit(X_train_img, y_train, epochs=20, verbose=1, validation_data=(X_test_img, y_test))"
   ]
  },
  {
   "cell_type": "code",
   "execution_count": 0,
   "metadata": {
    "colab": {
     "base_uri": "https://localhost:8080/",
     "height": 283
    },
    "colab_type": "code",
    "id": "Gti336l5zmpC",
    "outputId": "a60e73ea-1f01-4eeb-a893-8ed24ce8bfe7"
   },
   "outputs": [
    {
     "data": {
      "image/png": "[encoded data removed]",
      "text/plain": [
       "<Figure size 432x288 with 1 Axes>"
      ]
     },
     "metadata": {
      "tags": []
     },
     "output_type": "display_data"
    }
   ],
   "source": [
    "# results using training set and valid set \n",
    "plt.plot(history.history['acc'])\n",
    "plt.plot(history.history['val_acc'])\n",
    "plt.ylim(0.45, 0.55)\n",
    "plt.xticks(range(0, 20))\n",
    "plt.xlabel('epochs')\n",
    "plt.ylabel('accuracy')\n",
    "plt.legend(['train', 'valid']);"
   ]
  },
  {
   "cell_type": "code",
   "execution_count": 0,
   "metadata": {
    "colab": {
     "base_uri": "https://localhost:8080/",
     "height": 283
    },
    "colab_type": "code",
    "id": "6HlEwaPDv-RA",
    "outputId": "47f4ddff-ec86-472b-f489-2e9d20aaf9e1"
   },
   "outputs": [
    {
     "data": {
      "image/png": "[encoded data removed]",
      "text/plain": [
       "<Figure size 432x288 with 1 Axes>"
      ]
     },
     "metadata": {
      "tags": []
     },
     "output_type": "display_data"
    }
   ],
   "source": [
    "# results using training set and test set \n",
    "plt.plot(history.history['acc'])\n",
    "plt.plot(history.history['val_acc'])\n",
    "plt.ylim(0.45, 0.55)\n",
    "plt.xticks(range(0, 20))\n",
    "plt.xlabel('epochs')\n",
    "plt.ylabel('accuracy')\n",
    "plt.legend(['train', 'test']);"
   ]
  },
  {
   "cell_type": "code",
   "execution_count": 0,
   "metadata": {
    "colab": {
     "base_uri": "https://localhost:8080/",
     "height": 185
    },
    "colab_type": "code",
    "id": "gmgbKEkksXX1",
    "outputId": "03037c1e-9c79-4612-c7ce-79323000fe9c"
   },
   "outputs": [
    {
     "data": {
      "text/plain": [
       "array([[1., 0.],\n",
       "       [1., 0.],\n",
       "       [1., 0.],\n",
       "       [1., 0.],\n",
       "       [1., 0.],\n",
       "       [1., 0.],\n",
       "       [1., 0.],\n",
       "       [1., 0.],\n",
       "       [1., 0.],\n",
       "       [1., 0.]], dtype=float32)"
      ]
     },
     "execution_count": 29,
     "metadata": {
      "tags": []
     },
     "output_type": "execute_result"
    }
   ],
   "source": [
    "pred = model.predict(X_valid_img)\n",
    "pred[:10]"
   ]
  },
  {
   "cell_type": "code",
   "execution_count": 0,
   "metadata": {
    "colab": {
     "base_uri": "https://localhost:8080/",
     "height": 34
    },
    "colab_type": "code",
    "id": "xhw770kmsrqP",
    "outputId": "d9eb1f66-1e0c-4779-e92b-d5f91e2f41f8"
   },
   "outputs": [
    {
     "data": {
      "text/plain": [
       "(2, 2813)"
      ]
     },
     "execution_count": 30,
     "metadata": {
      "tags": []
     },
     "output_type": "execute_result"
    }
   ],
   "source": [
    "tmp = np.transpose(pred, (1, 0))\n",
    "tmp.shape"
   ]
  },
  {
   "cell_type": "code",
   "execution_count": 0,
   "metadata": {
    "colab": {
     "base_uri": "https://localhost:8080/",
     "height": 34
    },
    "colab_type": "code",
    "id": "08v0WE-Xs7Vi",
    "outputId": "1223d5ef-18ad-46c3-e6fb-fb2eee9c31d6"
   },
   "outputs": [
    {
     "data": {
      "text/plain": [
       "2813.0"
      ]
     },
     "execution_count": 31,
     "metadata": {
      "tags": []
     },
     "output_type": "execute_result"
    }
   ],
   "source": [
    "sum(tmp[0,:])"
   ]
  },
  {
   "cell_type": "code",
   "execution_count": 0,
   "metadata": {
    "colab": {
     "base_uri": "https://localhost:8080/",
     "height": 34
    },
    "colab_type": "code",
    "id": "ta9CcK8DtqAt",
    "outputId": "12f93c0b-8a0d-4dc9-ad88-9c189b3ee719"
   },
   "outputs": [
    {
     "data": {
      "text/plain": [
       "array([0., 1.], dtype=float32)"
      ]
     },
     "execution_count": 34,
     "metadata": {
      "tags": []
     },
     "output_type": "execute_result"
    }
   ],
   "source": [
    "y_test[10,:]"
   ]
  },
  {
   "cell_type": "code",
   "execution_count": 0,
   "metadata": {
    "colab": {
     "base_uri": "https://localhost:8080/",
     "height": 34
    },
    "colab_type": "code",
    "id": "pr2ga4M7tuyV",
    "outputId": "843c1acf-b9d6-4118-9b9e-8c648f581204"
   },
   "outputs": [
    {
     "data": {
      "text/plain": [
       "1"
      ]
     },
     "execution_count": 35,
     "metadata": {
      "tags": []
     },
     "output_type": "execute_result"
    }
   ],
   "source": [
    "data_normalized.y_test[10]"
   ]
  },
  {
   "cell_type": "code",
   "execution_count": 0,
   "metadata": {
    "colab": {
     "base_uri": "https://localhost:8080/",
     "height": 34
    },
    "colab_type": "code",
    "id": "TnA1U7A7t0ZN",
    "outputId": "75dabef4-fae0-4e63-ed81-6baac068d97a"
   },
   "outputs": [
    {
     "data": {
      "text/plain": [
       "array([[1., 0.]], dtype=float32)"
      ]
     },
     "execution_count": 37,
     "metadata": {
      "tags": []
     },
     "output_type": "execute_result"
    }
   ],
   "source": [
    "model.predict(X_valid_img[10:11,:,:,:])"
   ]
  },
  {
   "cell_type": "code",
   "execution_count": 0,
   "metadata": {
    "colab": {},
    "colab_type": "code",
    "id": "gVMgwIxat-_L"
   },
   "outputs": [],
   "source": []
  }
 ],
 "metadata": {
  "accelerator": "GPU",
  "colab": {
   "collapsed_sections": [],
   "name": "Seahorse_CNN2.ipynb",
   "provenance": [],
   "version": "0.3.2"
  },
  "kernelspec": {
   "display_name": "Python 3",
   "language": "python",
   "name": "python3"
  },
  "language_info": {
   "codemirror_mode": {
    "name": "ipython",
    "version": 3
   },
   "file_extension": ".py",
   "mimetype": "text/x-python",
   "name": "python",
   "nbconvert_exporter": "python",
   "pygments_lexer": "ipython3",
   "version": "3.7.3"
  }
 },
 "nbformat": 4,
 "nbformat_minor": 1
}
