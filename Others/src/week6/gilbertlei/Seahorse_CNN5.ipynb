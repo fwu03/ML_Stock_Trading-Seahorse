{
 "cells": [
  {
   "cell_type": "code",
   "execution_count": 1,
   "metadata": {
    "colab": {},
    "colab_type": "code",
    "id": "W69sW5ZHFgjM"
   },
   "outputs": [],
   "source": [
    "import pandas as pd\n",
    "import numpy as np\n",
    "import scipy.signal\n",
    "from sys import getsizeof\n",
    "import matplotlib.pyplot as plt\n",
    "import re \n",
    "import os"
   ]
  },
  {
   "cell_type": "code",
   "execution_count": 2,
   "metadata": {
    "colab": {},
    "colab_type": "code",
    "id": "BMGbfyNVHNea"
   },
   "outputs": [
    {
     "name": "stderr",
     "output_type": "stream",
     "text": [
      "Using TensorFlow backend.\n"
     ]
    }
   ],
   "source": [
    "from sklearn.model_selection import train_test_split\n",
    "from sklearn.metrics import precision_score, classification_report\n",
    "from keras.layers import Dense, Dropout, Flatten, Activation, Conv1D, MaxPooling1D, Conv2D, MaxPooling2D\n",
    "from keras.models import Sequential, Model, clone_model\n",
    "from keras.utils import np_utils\n",
    "from keras.utils import to_categorical"
   ]
  },
  {
   "cell_type": "code",
   "execution_count": 3,
   "metadata": {},
   "outputs": [],
   "source": [
    "def normalize_data(data): \n",
    "    for i in range(data.shape[0]): \n",
    "        row = data.iloc[i, :] \n",
    "        data.iloc[i, :] = (row - min(row))/(max(row) - min(row)) \n",
    "    return data"
   ]
  },
  {
   "cell_type": "code",
   "execution_count": 4,
   "metadata": {},
   "outputs": [],
   "source": [
    "def read_data_files():\n",
    "    data = pd.DataFrame()\n",
    "    \n",
    "    for filename in os.listdir('../data/buy/'):\n",
    "        if filename.endswith(\".txt\"): \n",
    "            # symbol = filename.split(\"1\")[0]\n",
    "            tmp_df = pd.read_csv(os.path.join('../data/buy/', filename), delimiter= '\\s+', header = None)\n",
    "            tmp_df = tmp_df.astype(float)\n",
    "            # tmp_df = pd.concat([pd.Series([symbol] * tmp_df.shape[0], name = 'symbol'), tmp_df], axis=1)\n",
    "            tmp_df = tmp_df.iloc[20:,:]\n",
    "            data = pd.concat([data, tmp_df])\n",
    "    \n",
    "    osc_names = ['osc' + str(i+1) for i in range(41)]\n",
    "    prc_names = ['prc' + str(i+1) for i in range(41)]\n",
    "    macd_names = ['macd' + str(i+1) for i in range(41)]\n",
    "    data.columns = osc_names + prc_names + macd_names + ['rtn']\n",
    "    \n",
    "    osc_data = data.iloc[:, :41].reset_index(drop=True)\n",
    "    osc_data = osc_data[osc_data.columns[::-1]]\n",
    "    # osc_data = normalize_data(osc_data)\n",
    "    \n",
    "    prc_data = data.iloc[:, 41:82].reset_index(drop=True)\n",
    "    prc_data = prc_data[prc_data.columns[::-1]]\n",
    "    # prc_data = normalize_data(prc_data)\n",
    "    \n",
    "    macd_data = data.iloc[:, 82:123].reset_index(drop=True)\n",
    "    macd_data = macd_data[macd_data.columns[::-1]]\n",
    "    # macd_data = normalize_data(macd_data) \n",
    "    \n",
    "    rtn = data['rtn'].reset_index(drop=True)\n",
    "    label = pd.Series(map(lambda x: 1 if x>0 else 0, rtn), name = 'label')\n",
    "    \n",
    "    data = pd.concat([osc_data, prc_data, macd_data, rtn, label], axis=1)\n",
    "    data = data.reset_index(drop=True)\n",
    "    \n",
    "    return data"
   ]
  },
  {
   "cell_type": "code",
   "execution_count": 5,
   "metadata": {},
   "outputs": [],
   "source": [
    "def remove_duplicates(data):\n",
    "    # target_names = list(data.columns)\n",
    "    # del target_names[0]\n",
    "    clean_data = data.drop_duplicates()\n",
    "    clean_data= clean_data.reset_index(drop=True)\n",
    "    return clean_data"
   ]
  },
  {
   "cell_type": "code",
   "execution_count": 6,
   "metadata": {},
   "outputs": [],
   "source": [
    "def remove_extreme_values(data): \n",
    "    data = data[(data['osc1'] > -7) & (data['osc1'] < 7)] \n",
    "    data = data.reset_index(drop=True)\n",
    "    return data"
   ]
  },
  {
   "cell_type": "code",
   "execution_count": 7,
   "metadata": {},
   "outputs": [],
   "source": [
    "def remove_pos_values(data):\n",
    "    data = data[data['osc1'] < 0]\n",
    "    data = data.reset_index(drop=True)\n",
    "    return data"
   ]
  },
  {
   "cell_type": "code",
   "execution_count": 8,
   "metadata": {},
   "outputs": [],
   "source": [
    "def calc_derivative(data, name):\n",
    "    derivatives = []\n",
    "    for i in range(data.shape[0]):\n",
    "        i_derivative = list(np.gradient(pd.Series(data.iloc[i,:])))\n",
    "        derivatives.append(i_derivative)\n",
    "    \n",
    "    names = []\n",
    "    for i in range(data.shape[1]):\n",
    "        names.append(name + \"_d\"+ str(41-i)) \n",
    "    \n",
    "    return pd.DataFrame(derivatives, columns=names, index=data.index)"
   ]
  },
  {
   "cell_type": "code",
   "execution_count": 9,
   "metadata": {
    "colab": {},
    "colab_type": "code",
    "id": "Fcq6zQ8KJaU9"
   },
   "outputs": [],
   "source": [
    "class StockData():\n",
    "    def __init__(self, data):\n",
    "\n",
    "        pos_data = data[data['label'] == 1]\n",
    "        neg_data = data[data['label'] == 0]\n",
    "        \n",
    "        # balance the data set \n",
    "        if pos_data.shape[0] > neg_data.shape[0]:\n",
    "            pos_data = pos_data.sample(neg_data.shape[0])\n",
    "        else:\n",
    "            neg_data = neg_data.sample(pos_data.shape[0])\n",
    "        \n",
    "        data = pd.concat([pos_data, neg_data], axis = 0)\n",
    "        data = data.reset_index(drop = True) \n",
    "        \n",
    "        X = data.iloc[:, :-1]\n",
    "        y = data['label']\n",
    "        \n",
    "        X_train_valid_w_rtn, X_test_w_rtn, y_train_valid, y_test = train_test_split(X, y, test_size=0.25) \n",
    "        # train_valid set\n",
    "        self.train_valid_rtn = X_train_valid_w_rtn['rtn']\n",
    "        self.X_train_valid = X_train_valid_w_rtn.drop(['rtn'], axis = 1)\n",
    "        self.y_train_valid = y_train_valid\n",
    "        \n",
    "        X_train_w_rtn, X_valid_w_rtn, y_train, y_valid = train_test_split(X_train_valid_w_rtn, y_train_valid, test_size=0.25) \n",
    "        # training set \n",
    "        self.train_rtn = X_train_w_rtn['rtn'] \n",
    "        self.X_train = X_train_w_rtn.drop(['rtn'], axis = 1)\n",
    "        self.y_train = y_train\n",
    "        # validation set\n",
    "        self.valid_rtn = X_valid_w_rtn['rtn']\n",
    "        self.X_valid = X_valid_w_rtn.drop(['rtn'], axis = 1) \n",
    "        self.y_valid = y_valid\n",
    "        # test set \n",
    "        self.test_rtn = X_test_w_rtn['rtn']\n",
    "        self.X_test = X_test_w_rtn.drop(['rtn'], axis = 1)        \n",
    "        self.y_test = y_test "
   ]
  },
  {
   "cell_type": "code",
   "execution_count": 10,
   "metadata": {},
   "outputs": [
    {
     "name": "stdout",
     "output_type": "stream",
     "text": [
      "(63447, 125)\n",
      "['osc41' 'osc40' 'osc39' 'osc38' 'osc37' 'osc36' 'osc35' 'osc34' 'osc33'\n",
      " 'osc32' 'osc31' 'osc30' 'osc29' 'osc28' 'osc27' 'osc26' 'osc25' 'osc24'\n",
      " 'osc23' 'osc22' 'osc21' 'osc20' 'osc19' 'osc18' 'osc17' 'osc16' 'osc15'\n",
      " 'osc14' 'osc13' 'osc12' 'osc11' 'osc10' 'osc9' 'osc8' 'osc7' 'osc6'\n",
      " 'osc5' 'osc4' 'osc3' 'osc2' 'osc1' 'prc41' 'prc40' 'prc39' 'prc38'\n",
      " 'prc37' 'prc36' 'prc35' 'prc34' 'prc33' 'prc32' 'prc31' 'prc30' 'prc29'\n",
      " 'prc28' 'prc27' 'prc26' 'prc25' 'prc24' 'prc23' 'prc22' 'prc21' 'prc20'\n",
      " 'prc19' 'prc18' 'prc17' 'prc16' 'prc15' 'prc14' 'prc13' 'prc12' 'prc11'\n",
      " 'prc10' 'prc9' 'prc8' 'prc7' 'prc6' 'prc5' 'prc4' 'prc3' 'prc2' 'prc1'\n",
      " 'macd41' 'macd40' 'macd39' 'macd38' 'macd37' 'macd36' 'macd35' 'macd34'\n",
      " 'macd33' 'macd32' 'macd31' 'macd30' 'macd29' 'macd28' 'macd27' 'macd26'\n",
      " 'macd25' 'macd24' 'macd23' 'macd22' 'macd21' 'macd20' 'macd19' 'macd18'\n",
      " 'macd17' 'macd16' 'macd15' 'macd14' 'macd13' 'macd12' 'macd11' 'macd10'\n",
      " 'macd9' 'macd8' 'macd7' 'macd6' 'macd5' 'macd4' 'macd3' 'macd2' 'macd1'\n",
      " 'rtn' 'label']\n"
     ]
    }
   ],
   "source": [
    "data = read_data_files()\n",
    "data = remove_duplicates(data) \n",
    "data = remove_extreme_values(data)\n",
    "data = remove_pos_values(data)\n",
    "print(data.shape)\n",
    "print(data.columns.values)"
   ]
  },
  {
   "cell_type": "code",
   "execution_count": 11,
   "metadata": {},
   "outputs": [
    {
     "name": "stdout",
     "output_type": "stream",
     "text": [
      "(63447, 248)\n",
      "['osc41' 'osc40' 'osc39' 'osc38' 'osc37' 'osc36' 'osc35' 'osc34' 'osc33'\n",
      " 'osc32' 'osc31' 'osc30' 'osc29' 'osc28' 'osc27' 'osc26' 'osc25' 'osc24'\n",
      " 'osc23' 'osc22' 'osc21' 'osc20' 'osc19' 'osc18' 'osc17' 'osc16' 'osc15'\n",
      " 'osc14' 'osc13' 'osc12' 'osc11' 'osc10' 'osc9' 'osc8' 'osc7' 'osc6'\n",
      " 'osc5' 'osc4' 'osc3' 'osc2' 'osc1' 'prc41' 'prc40' 'prc39' 'prc38'\n",
      " 'prc37' 'prc36' 'prc35' 'prc34' 'prc33' 'prc32' 'prc31' 'prc30' 'prc29'\n",
      " 'prc28' 'prc27' 'prc26' 'prc25' 'prc24' 'prc23' 'prc22' 'prc21' 'prc20'\n",
      " 'prc19' 'prc18' 'prc17' 'prc16' 'prc15' 'prc14' 'prc13' 'prc12' 'prc11'\n",
      " 'prc10' 'prc9' 'prc8' 'prc7' 'prc6' 'prc5' 'prc4' 'prc3' 'prc2' 'prc1'\n",
      " 'macd41' 'macd40' 'macd39' 'macd38' 'macd37' 'macd36' 'macd35' 'macd34'\n",
      " 'macd33' 'macd32' 'macd31' 'macd30' 'macd29' 'macd28' 'macd27' 'macd26'\n",
      " 'macd25' 'macd24' 'macd23' 'macd22' 'macd21' 'macd20' 'macd19' 'macd18'\n",
      " 'macd17' 'macd16' 'macd15' 'macd14' 'macd13' 'macd12' 'macd11' 'macd10'\n",
      " 'macd9' 'macd8' 'macd7' 'macd6' 'macd5' 'macd4' 'macd3' 'macd2' 'macd1'\n",
      " 'osc_d41' 'osc_d40' 'osc_d39' 'osc_d38' 'osc_d37' 'osc_d36' 'osc_d35'\n",
      " 'osc_d34' 'osc_d33' 'osc_d32' 'osc_d31' 'osc_d30' 'osc_d29' 'osc_d28'\n",
      " 'osc_d27' 'osc_d26' 'osc_d25' 'osc_d24' 'osc_d23' 'osc_d22' 'osc_d21'\n",
      " 'osc_d20' 'osc_d19' 'osc_d18' 'osc_d17' 'osc_d16' 'osc_d15' 'osc_d14'\n",
      " 'osc_d13' 'osc_d12' 'osc_d11' 'osc_d10' 'osc_d9' 'osc_d8' 'osc_d7'\n",
      " 'osc_d6' 'osc_d5' 'osc_d4' 'osc_d3' 'osc_d2' 'osc_d1' 'prc_d41' 'prc_d40'\n",
      " 'prc_d39' 'prc_d38' 'prc_d37' 'prc_d36' 'prc_d35' 'prc_d34' 'prc_d33'\n",
      " 'prc_d32' 'prc_d31' 'prc_d30' 'prc_d29' 'prc_d28' 'prc_d27' 'prc_d26'\n",
      " 'prc_d25' 'prc_d24' 'prc_d23' 'prc_d22' 'prc_d21' 'prc_d20' 'prc_d19'\n",
      " 'prc_d18' 'prc_d17' 'prc_d16' 'prc_d15' 'prc_d14' 'prc_d13' 'prc_d12'\n",
      " 'prc_d11' 'prc_d10' 'prc_d9' 'prc_d8' 'prc_d7' 'prc_d6' 'prc_d5' 'prc_d4'\n",
      " 'prc_d3' 'prc_d2' 'prc_d1' 'macd_d41' 'macd_d40' 'macd_d39' 'macd_d38'\n",
      " 'macd_d37' 'macd_d36' 'macd_d35' 'macd_d34' 'macd_d33' 'macd_d32'\n",
      " 'macd_d31' 'macd_d30' 'macd_d29' 'macd_d28' 'macd_d27' 'macd_d26'\n",
      " 'macd_d25' 'macd_d24' 'macd_d23' 'macd_d22' 'macd_d21' 'macd_d20'\n",
      " 'macd_d19' 'macd_d18' 'macd_d17' 'macd_d16' 'macd_d15' 'macd_d14'\n",
      " 'macd_d13' 'macd_d12' 'macd_d11' 'macd_d10' 'macd_d9' 'macd_d8' 'macd_d7'\n",
      " 'macd_d6' 'macd_d5' 'macd_d4' 'macd_d3' 'macd_d2' 'macd_d1' 'rtn' 'label']\n"
     ]
    }
   ],
   "source": [
    "osc = data.iloc[:, :41]\n",
    "prc = data.iloc[:, 41:82]\n",
    "macd = data.iloc[:, 82:123]\n",
    "rtn = data['rtn']\n",
    "label = data['label'] \n",
    "osc_drv = calc_derivative(osc, 'osc')\n",
    "prc_drv = calc_derivative(prc, 'prc')\n",
    "macd_drv = calc_derivative(macd, 'macd')\n",
    "data = pd.concat([osc, prc, macd, osc_drv, prc_drv, macd_drv, rtn, label], axis=1)\n",
    "print(data.shape)\n",
    "print(data.columns.values)"
   ]
  },
  {
   "cell_type": "code",
   "execution_count": 12,
   "metadata": {},
   "outputs": [
    {
     "name": "stdout",
     "output_type": "stream",
     "text": [
      "(28914, 246)\n",
      "(9639, 246)\n",
      "(12851, 246)\n"
     ]
    }
   ],
   "source": [
    "stock_data = StockData(data)\n",
    "print(stock_data.X_train.shape)\n",
    "print(stock_data.X_valid.shape)\n",
    "print(stock_data.X_test.shape)"
   ]
  },
  {
   "cell_type": "code",
   "execution_count": 13,
   "metadata": {
    "colab": {
     "base_uri": "https://localhost:8080/",
     "height": 34
    },
    "colab_type": "code",
    "id": "P_3-kYuuddSR",
    "outputId": "6b6e2b40-9189-4fea-f229-9073b4b48b9d"
   },
   "outputs": [
    {
     "data": {
      "text/plain": [
       "0.49575908489611703"
      ]
     },
     "execution_count": 13,
     "metadata": {},
     "output_type": "execute_result"
    }
   ],
   "source": [
    "# check what is the percentage of '1' labels in test set \n",
    "sum(stock_data.y_test)/stock_data.y_test.shape[0]"
   ]
  },
  {
   "cell_type": "code",
   "execution_count": 14,
   "metadata": {
    "colab": {},
    "colab_type": "code",
    "id": "4QcojuDZGhFF"
   },
   "outputs": [],
   "source": [
    "X_train = np.array(stock_data.X_train).reshape(stock_data.X_train.shape[0], 6, 41)\n",
    "y_train = to_categorical(stock_data.y_train)\n",
    "X_valid = np.array(stock_data.X_valid).reshape(stock_data.X_valid.shape[0], 6, 41)\n",
    "y_valid = to_categorical(stock_data.y_valid)\n",
    "X_test = np.array(stock_data.X_test).reshape(stock_data.X_test.shape[0], 6, 41)\n",
    "y_test = to_categorical(stock_data.y_test)"
   ]
  },
  {
   "cell_type": "code",
   "execution_count": 15,
   "metadata": {
    "colab": {},
    "colab_type": "code",
    "id": "mg79UA8QYGIL"
   },
   "outputs": [],
   "source": [
    "X_train = np.transpose(X_train, (0, 2, 1))\n",
    "X_valid = np.transpose(X_valid, (0, 2, 1))\n",
    "X_test = np.transpose(X_test, (0, 2, 1))"
   ]
  },
  {
   "cell_type": "code",
   "execution_count": 38,
   "metadata": {
    "colab": {
     "base_uri": "https://localhost:8080/",
     "height": 826
    },
    "colab_type": "code",
    "id": "zxMFiFbkGiqD",
    "outputId": "6a319e01-a04d-4115-f08c-a7d1e50a282f"
   },
   "outputs": [],
   "source": [
    "model = Sequential()\n",
    "model.add(Conv1D(18, kernel_size=6, input_shape=(41,6), padding='same', activation='relu'))\n",
    "# model.add(MaxPooling1D(pool_size=2))\n",
    "model.add(Conv1D(18, kernel_size=6, padding='same', activation='sigmoid'))\n",
    "# model.add(MaxPooling1D(pool_size=2))\n",
    "model.add(Flatten())\n",
    "model.add(Dense(12, activation='sigmoid'))\n",
    "model.add(Dense(2, activation='softmax'))\n",
    "model.compile(loss='categorical_crossentropy', optimizer='adam', metrics=['accuracy'])\n",
    "history = model.fit(X_train, y_train, epochs=41, verbose=0, validation_data=(X_valid, y_valid))"
   ]
  },
  {
   "cell_type": "code",
   "execution_count": 39,
   "metadata": {},
   "outputs": [
    {
     "data": {
      "image/png": "[encoded data removed]",
      "text/plain": [
       "<Figure size 432x288 with 1 Axes>"
      ]
     },
     "metadata": {
      "needs_background": "light"
     },
     "output_type": "display_data"
    }
   ],
   "source": [
    "# results using training set and valid set \n",
    "plt.plot(history.history['acc'])\n",
    "plt.plot(history.history['val_acc'])\n",
    "plt.hlines(0.5, 0, 41, linestyles='dotted')\n",
    "plt.vlines(0, 0.45, 0.55, linestyles='dotted')\n",
    "# plt.ylim(0.45, 0.55)\n",
    "plt.xticks(range(0, 41))\n",
    "plt.xlabel('epochs')\n",
    "plt.ylabel('accuracy')\n",
    "plt.legend(['train', 'valid']);"
   ]
  },
  {
   "cell_type": "code",
   "execution_count": 40,
   "metadata": {},
   "outputs": [
    {
     "name": "stdout",
     "output_type": "stream",
     "text": [
      "9639/9639 [==============================] - 1s 70us/step\n"
     ]
    },
    {
     "data": {
      "text/plain": [
       "[0.6989212802478245, 0.5230833074001248]"
      ]
     },
     "execution_count": 40,
     "metadata": {},
     "output_type": "execute_result"
    }
   ],
   "source": [
    "scores = model.evaluate(X_valid, y_valid, verbose=1)\n",
    "scores"
   ]
  },
  {
   "cell_type": "code",
   "execution_count": 30,
   "metadata": {
    "colab": {},
    "colab_type": "code",
    "id": "gVMgwIxat-_L"
   },
   "outputs": [
    {
     "data": {
      "text/html": [
       "<div>\n",
       "<style scoped>\n",
       "    .dataframe tbody tr th:only-of-type {\n",
       "        vertical-align: middle;\n",
       "    }\n",
       "\n",
       "    .dataframe tbody tr th {\n",
       "        vertical-align: top;\n",
       "    }\n",
       "\n",
       "    .dataframe thead th {\n",
       "        text-align: right;\n",
       "    }\n",
       "</style>\n",
       "<table border=\"1\" class=\"dataframe\">\n",
       "  <thead>\n",
       "    <tr style=\"text-align: right;\">\n",
       "      <th></th>\n",
       "      <th>predicted win prob</th>\n",
       "      <th>actual win rate</th>\n",
       "      <th>mean return</th>\n",
       "      <th># of trades</th>\n",
       "      <th>% of all trades</th>\n",
       "    </tr>\n",
       "    <tr>\n",
       "      <th>pred_prob_level</th>\n",
       "      <th></th>\n",
       "      <th></th>\n",
       "      <th></th>\n",
       "      <th></th>\n",
       "      <th></th>\n",
       "    </tr>\n",
       "  </thead>\n",
       "  <tbody>\n",
       "    <tr>\n",
       "      <th>0.00</th>\n",
       "      <td>0.036290</td>\n",
       "      <td>0.133333</td>\n",
       "      <td>-0.580667</td>\n",
       "      <td>15</td>\n",
       "      <td>0.155618</td>\n",
       "    </tr>\n",
       "    <tr>\n",
       "      <th>0.05</th>\n",
       "      <td>0.083443</td>\n",
       "      <td>0.166667</td>\n",
       "      <td>-1.235833</td>\n",
       "      <td>12</td>\n",
       "      <td>0.124494</td>\n",
       "    </tr>\n",
       "    <tr>\n",
       "      <th>0.10</th>\n",
       "      <td>0.125303</td>\n",
       "      <td>0.304348</td>\n",
       "      <td>-0.172609</td>\n",
       "      <td>23</td>\n",
       "      <td>0.238614</td>\n",
       "    </tr>\n",
       "    <tr>\n",
       "      <th>0.15</th>\n",
       "      <td>0.179565</td>\n",
       "      <td>0.277778</td>\n",
       "      <td>-0.180000</td>\n",
       "      <td>18</td>\n",
       "      <td>0.186741</td>\n",
       "    </tr>\n",
       "    <tr>\n",
       "      <th>0.20</th>\n",
       "      <td>0.224610</td>\n",
       "      <td>0.210526</td>\n",
       "      <td>-0.130526</td>\n",
       "      <td>19</td>\n",
       "      <td>0.197116</td>\n",
       "    </tr>\n",
       "    <tr>\n",
       "      <th>0.25</th>\n",
       "      <td>0.283413</td>\n",
       "      <td>0.579710</td>\n",
       "      <td>0.655362</td>\n",
       "      <td>69</td>\n",
       "      <td>0.715842</td>\n",
       "    </tr>\n",
       "    <tr>\n",
       "      <th>0.30</th>\n",
       "      <td>0.325327</td>\n",
       "      <td>0.580000</td>\n",
       "      <td>0.600400</td>\n",
       "      <td>50</td>\n",
       "      <td>0.518726</td>\n",
       "    </tr>\n",
       "    <tr>\n",
       "      <th>0.35</th>\n",
       "      <td>0.375769</td>\n",
       "      <td>0.385965</td>\n",
       "      <td>0.696491</td>\n",
       "      <td>57</td>\n",
       "      <td>0.591348</td>\n",
       "    </tr>\n",
       "    <tr>\n",
       "      <th>0.40</th>\n",
       "      <td>0.446640</td>\n",
       "      <td>0.477612</td>\n",
       "      <td>0.448667</td>\n",
       "      <td>938</td>\n",
       "      <td>9.731300</td>\n",
       "    </tr>\n",
       "    <tr>\n",
       "      <th>0.45</th>\n",
       "      <td>0.471056</td>\n",
       "      <td>0.456992</td>\n",
       "      <td>0.197574</td>\n",
       "      <td>2267</td>\n",
       "      <td>23.519037</td>\n",
       "    </tr>\n",
       "    <tr>\n",
       "      <th>0.50</th>\n",
       "      <td>0.504045</td>\n",
       "      <td>0.523449</td>\n",
       "      <td>0.318348</td>\n",
       "      <td>6077</td>\n",
       "      <td>63.045959</td>\n",
       "    </tr>\n",
       "    <tr>\n",
       "      <th>0.55</th>\n",
       "      <td>0.573956</td>\n",
       "      <td>0.571429</td>\n",
       "      <td>1.396429</td>\n",
       "      <td>42</td>\n",
       "      <td>0.435730</td>\n",
       "    </tr>\n",
       "    <tr>\n",
       "      <th>0.60</th>\n",
       "      <td>0.618150</td>\n",
       "      <td>0.461538</td>\n",
       "      <td>0.190000</td>\n",
       "      <td>13</td>\n",
       "      <td>0.134869</td>\n",
       "    </tr>\n",
       "    <tr>\n",
       "      <th>0.65</th>\n",
       "      <td>0.669522</td>\n",
       "      <td>0.400000</td>\n",
       "      <td>-0.115333</td>\n",
       "      <td>15</td>\n",
       "      <td>0.155618</td>\n",
       "    </tr>\n",
       "    <tr>\n",
       "      <th>0.70</th>\n",
       "      <td>0.725225</td>\n",
       "      <td>0.714286</td>\n",
       "      <td>1.760000</td>\n",
       "      <td>7</td>\n",
       "      <td>0.072622</td>\n",
       "    </tr>\n",
       "    <tr>\n",
       "      <th>0.75</th>\n",
       "      <td>0.770365</td>\n",
       "      <td>0.200000</td>\n",
       "      <td>-1.540000</td>\n",
       "      <td>5</td>\n",
       "      <td>0.051873</td>\n",
       "    </tr>\n",
       "    <tr>\n",
       "      <th>0.80</th>\n",
       "      <td>0.832060</td>\n",
       "      <td>0.250000</td>\n",
       "      <td>-0.620000</td>\n",
       "      <td>4</td>\n",
       "      <td>0.041498</td>\n",
       "    </tr>\n",
       "    <tr>\n",
       "      <th>0.85</th>\n",
       "      <td>0.871649</td>\n",
       "      <td>0.142857</td>\n",
       "      <td>-0.774286</td>\n",
       "      <td>7</td>\n",
       "      <td>0.072622</td>\n",
       "    </tr>\n",
       "    <tr>\n",
       "      <th>0.90</th>\n",
       "      <td>0.933152</td>\n",
       "      <td>1.000000</td>\n",
       "      <td>3.860000</td>\n",
       "      <td>1</td>\n",
       "      <td>0.010375</td>\n",
       "    </tr>\n",
       "  </tbody>\n",
       "</table>\n",
       "</div>"
      ],
      "text/plain": [
       "                 predicted win prob  actual win rate  mean return  \\\n",
       "pred_prob_level                                                     \n",
       "0.00                       0.036290         0.133333    -0.580667   \n",
       "0.05                       0.083443         0.166667    -1.235833   \n",
       "0.10                       0.125303         0.304348    -0.172609   \n",
       "0.15                       0.179565         0.277778    -0.180000   \n",
       "0.20                       0.224610         0.210526    -0.130526   \n",
       "0.25                       0.283413         0.579710     0.655362   \n",
       "0.30                       0.325327         0.580000     0.600400   \n",
       "0.35                       0.375769         0.385965     0.696491   \n",
       "0.40                       0.446640         0.477612     0.448667   \n",
       "0.45                       0.471056         0.456992     0.197574   \n",
       "0.50                       0.504045         0.523449     0.318348   \n",
       "0.55                       0.573956         0.571429     1.396429   \n",
       "0.60                       0.618150         0.461538     0.190000   \n",
       "0.65                       0.669522         0.400000    -0.115333   \n",
       "0.70                       0.725225         0.714286     1.760000   \n",
       "0.75                       0.770365         0.200000    -1.540000   \n",
       "0.80                       0.832060         0.250000    -0.620000   \n",
       "0.85                       0.871649         0.142857    -0.774286   \n",
       "0.90                       0.933152         1.000000     3.860000   \n",
       "\n",
       "                 # of trades  % of all trades  \n",
       "pred_prob_level                                \n",
       "0.00                      15         0.155618  \n",
       "0.05                      12         0.124494  \n",
       "0.10                      23         0.238614  \n",
       "0.15                      18         0.186741  \n",
       "0.20                      19         0.197116  \n",
       "0.25                      69         0.715842  \n",
       "0.30                      50         0.518726  \n",
       "0.35                      57         0.591348  \n",
       "0.40                     938         9.731300  \n",
       "0.45                    2267        23.519037  \n",
       "0.50                    6077        63.045959  \n",
       "0.55                      42         0.435730  \n",
       "0.60                      13         0.134869  \n",
       "0.65                      15         0.155618  \n",
       "0.70                       7         0.072622  \n",
       "0.75                       5         0.051873  \n",
       "0.80                       4         0.041498  \n",
       "0.85                       7         0.072622  \n",
       "0.90                       1         0.010375  "
      ]
     },
     "execution_count": 30,
     "metadata": {},
     "output_type": "execute_result"
    }
   ],
   "source": [
    "pred = model.predict(X_valid)\n",
    "pred_probs = pd.Series(pred[:, 1], name = \"pred_probs\")\n",
    "results = pd.concat([pred_probs, stock_data.y_valid.reset_index(drop = True), stock_data.valid_rtn.reset_index(drop = True)], \n",
    "                    axis = 1)\n",
    "results['pred_prob_level'] = [int(x * 20)/20 for x in results['pred_probs']]\n",
    "\n",
    "summary = pd.concat([results.groupby(['pred_prob_level']).mean(), \n",
    "                     results.groupby(['pred_prob_level']).count()['label'], \n",
    "                     100 * results.groupby(['pred_prob_level']).count()['label']/results.shape[0]], \n",
    "                    axis = 1)\n",
    "summary.columns = ['predicted win prob', 'actual win rate', 'mean return', '# of trades', '% of all trades']\n",
    "summary"
   ]
  },
  {
   "cell_type": "code",
   "execution_count": 20,
   "metadata": {},
   "outputs": [
    {
     "name": "stdout",
     "output_type": "stream",
     "text": [
      "Train on 28914 samples, validate on 12851 samples\n",
      "Epoch 1/20\n",
      "28914/28914 [==============================] - 4s 141us/step - loss: 0.6946 - acc: 0.5058 - val_loss: 0.6922 - val_acc: 0.5142\n",
      "Epoch 2/20\n",
      "28914/28914 [==============================] - 3s 112us/step - loss: 0.6926 - acc: 0.5057 - val_loss: 0.6925 - val_acc: 0.5129\n",
      "Epoch 3/20\n",
      "28914/28914 [==============================] - 3s 118us/step - loss: 0.6925 - acc: 0.5078 - val_loss: 0.6922 - val_acc: 0.5167\n",
      "Epoch 4/20\n",
      "28914/28914 [==============================] - 3s 118us/step - loss: 0.6921 - acc: 0.5102 - val_loss: 0.6926 - val_acc: 0.5055\n",
      "Epoch 5/20\n",
      "28914/28914 [==============================] - 3s 110us/step - loss: 0.6921 - acc: 0.5109 - val_loss: 0.6922 - val_acc: 0.5130\n",
      "Epoch 6/20\n",
      "28914/28914 [==============================] - 3s 109us/step - loss: 0.6921 - acc: 0.5126 - val_loss: 0.6929 - val_acc: 0.5025\n",
      "Epoch 7/20\n",
      "28914/28914 [==============================] - 3s 113us/step - loss: 0.6920 - acc: 0.5093 - val_loss: 0.6924 - val_acc: 0.5053\n",
      "Epoch 8/20\n",
      "28914/28914 [==============================] - 3s 108us/step - loss: 0.6921 - acc: 0.5105 - val_loss: 0.6922 - val_acc: 0.5068\n",
      "Epoch 9/20\n",
      "28914/28914 [==============================] - 3s 114us/step - loss: 0.6920 - acc: 0.5108 - val_loss: 0.6928 - val_acc: 0.5043\n",
      "Epoch 10/20\n",
      "28914/28914 [==============================] - 3s 116us/step - loss: 0.6917 - acc: 0.5080 - val_loss: 0.6926 - val_acc: 0.5053\n",
      "Epoch 11/20\n",
      "28914/28914 [==============================] - 3s 109us/step - loss: 0.6915 - acc: 0.5147 - val_loss: 0.6918 - val_acc: 0.5157\n",
      "Epoch 12/20\n",
      "28914/28914 [==============================] - 3s 112us/step - loss: 0.6914 - acc: 0.5178 - val_loss: 0.6928 - val_acc: 0.5025\n",
      "Epoch 13/20\n",
      "28914/28914 [==============================] - 3s 110us/step - loss: 0.6910 - acc: 0.5167 - val_loss: 0.6920 - val_acc: 0.5068\n",
      "Epoch 14/20\n",
      "28914/28914 [==============================] - 3s 111us/step - loss: 0.6909 - acc: 0.5156 - val_loss: 0.6923 - val_acc: 0.5088\n",
      "Epoch 15/20\n",
      "28914/28914 [==============================] - 3s 113us/step - loss: 0.6906 - acc: 0.5197 - val_loss: 0.6923 - val_acc: 0.5118\n",
      "Epoch 16/20\n",
      "28914/28914 [==============================] - 3s 114us/step - loss: 0.6906 - acc: 0.5215 - val_loss: 0.6917 - val_acc: 0.5175\n",
      "Epoch 17/20\n",
      "28914/28914 [==============================] - 4s 122us/step - loss: 0.6902 - acc: 0.5198 - val_loss: 0.6917 - val_acc: 0.5199\n",
      "Epoch 18/20\n",
      "28914/28914 [==============================] - 3s 113us/step - loss: 0.6902 - acc: 0.5218 - val_loss: 0.6917 - val_acc: 0.5164\n",
      "Epoch 19/20\n",
      "28914/28914 [==============================] - 3s 117us/step - loss: 0.6905 - acc: 0.5172 - val_loss: 0.6932 - val_acc: 0.5101\n",
      "Epoch 20/20\n",
      "28914/28914 [==============================] - 4s 128us/step - loss: 0.6904 - acc: 0.5208 - val_loss: 0.6930 - val_acc: 0.5075\n"
     ]
    }
   ],
   "source": [
    "model = Sequential()\n",
    "model.add(Conv1D(6, kernel_size=3, input_shape=(41,6), padding='same', activation='relu'))\n",
    "# model.add(MaxPooling1D(pool_size=2))\n",
    "model.add(Conv1D(6, kernel_size=3, padding='same', activation='sigmoid'))\n",
    "# model.add(MaxPooling1D(pool_size=2))\n",
    "model.add(Flatten())\n",
    "model.add(Dense(12, activation='sigmoid'))\n",
    "model.add(Dense(2, activation='softmax'))\n",
    "model.compile(loss='categorical_crossentropy', optimizer='adam', metrics=['accuracy'])\n",
    "history = model.fit(X_train, y_train, epochs=40, verbose=1, validation_data=(X_test, y_test))"
   ]
  },
  {
   "cell_type": "code",
   "execution_count": 21,
   "metadata": {},
   "outputs": [
    {
     "data": {
      "image/png": "[encoded data removed]",
      "text/plain": [
       "<Figure size 432x288 with 1 Axes>"
      ]
     },
     "metadata": {
      "needs_background": "light"
     },
     "output_type": "display_data"
    }
   ],
   "source": [
    "# results using training set and test set \n",
    "plt.plot(history.history['acc'])\n",
    "plt.plot(history.history['val_acc'])\n",
    "plt.hlines(0.5, 0, 20, linestyles='dotted')\n",
    "plt.ylim(0.45, 0.55)\n",
    "plt.xticks(range(0, 20))\n",
    "plt.xlabel('epochs')\n",
    "plt.ylabel('accuracy')\n",
    "plt.legend(['train', 'test']);"
   ]
  },
  {
   "cell_type": "code",
   "execution_count": 22,
   "metadata": {
    "colab": {
     "base_uri": "https://localhost:8080/",
     "height": 50
    },
    "colab_type": "code",
    "id": "TGtoOZsaKWNV",
    "outputId": "fcf1d647-959e-4d4f-a60b-347d6b0e7704"
   },
   "outputs": [
    {
     "name": "stdout",
     "output_type": "stream",
     "text": [
      "12851/12851 [==============================] - 1s 42us/step\n"
     ]
    },
    {
     "data": {
      "text/plain": [
       "[0.6929570100398558, 0.5075091432758866]"
      ]
     },
     "execution_count": 22,
     "metadata": {},
     "output_type": "execute_result"
    }
   ],
   "source": [
    "scores = model.evaluate(X_test, y_test, verbose=1)\n",
    "scores"
   ]
  },
  {
   "cell_type": "code",
   "execution_count": 43,
   "metadata": {
    "colab": {
     "base_uri": "https://localhost:8080/",
     "height": 195
    },
    "colab_type": "code",
    "id": "CKoZ2gtQlU0m",
    "outputId": "fe5250a9-ff5c-4081-fe91-4e0428832186"
   },
   "outputs": [
    {
     "data": {
      "text/html": [
       "<div>\n",
       "<style scoped>\n",
       "    .dataframe tbody tr th:only-of-type {\n",
       "        vertical-align: middle;\n",
       "    }\n",
       "\n",
       "    .dataframe tbody tr th {\n",
       "        vertical-align: top;\n",
       "    }\n",
       "\n",
       "    .dataframe thead th {\n",
       "        text-align: right;\n",
       "    }\n",
       "</style>\n",
       "<table border=\"1\" class=\"dataframe\">\n",
       "  <thead>\n",
       "    <tr style=\"text-align: right;\">\n",
       "      <th></th>\n",
       "      <th>predicted win prob</th>\n",
       "      <th>actual win rate</th>\n",
       "      <th>mean return</th>\n",
       "      <th># of trades</th>\n",
       "      <th>% of all trades</th>\n",
       "    </tr>\n",
       "    <tr>\n",
       "      <th>pred_prob_level</th>\n",
       "      <th></th>\n",
       "      <th></th>\n",
       "      <th></th>\n",
       "      <th></th>\n",
       "      <th></th>\n",
       "    </tr>\n",
       "  </thead>\n",
       "  <tbody>\n",
       "    <tr>\n",
       "      <th>0.00</th>\n",
       "      <td>0.029864</td>\n",
       "      <td>0.208333</td>\n",
       "      <td>0.129583</td>\n",
       "      <td>24</td>\n",
       "      <td>0.186756</td>\n",
       "    </tr>\n",
       "    <tr>\n",
       "      <th>0.05</th>\n",
       "      <td>0.071214</td>\n",
       "      <td>0.370370</td>\n",
       "      <td>0.097407</td>\n",
       "      <td>27</td>\n",
       "      <td>0.210100</td>\n",
       "    </tr>\n",
       "    <tr>\n",
       "      <th>0.10</th>\n",
       "      <td>0.126711</td>\n",
       "      <td>0.409091</td>\n",
       "      <td>0.075000</td>\n",
       "      <td>22</td>\n",
       "      <td>0.171193</td>\n",
       "    </tr>\n",
       "    <tr>\n",
       "      <th>0.15</th>\n",
       "      <td>0.175455</td>\n",
       "      <td>0.432432</td>\n",
       "      <td>0.025135</td>\n",
       "      <td>37</td>\n",
       "      <td>0.287915</td>\n",
       "    </tr>\n",
       "    <tr>\n",
       "      <th>0.20</th>\n",
       "      <td>0.223096</td>\n",
       "      <td>0.435897</td>\n",
       "      <td>0.175897</td>\n",
       "      <td>39</td>\n",
       "      <td>0.303478</td>\n",
       "    </tr>\n",
       "    <tr>\n",
       "      <th>0.25</th>\n",
       "      <td>0.277289</td>\n",
       "      <td>0.342105</td>\n",
       "      <td>-0.104211</td>\n",
       "      <td>38</td>\n",
       "      <td>0.295697</td>\n",
       "    </tr>\n",
       "    <tr>\n",
       "      <th>0.30</th>\n",
       "      <td>0.326675</td>\n",
       "      <td>0.383562</td>\n",
       "      <td>0.418356</td>\n",
       "      <td>73</td>\n",
       "      <td>0.568049</td>\n",
       "    </tr>\n",
       "    <tr>\n",
       "      <th>0.35</th>\n",
       "      <td>0.380795</td>\n",
       "      <td>0.450292</td>\n",
       "      <td>0.506257</td>\n",
       "      <td>171</td>\n",
       "      <td>1.330636</td>\n",
       "    </tr>\n",
       "    <tr>\n",
       "      <th>0.40</th>\n",
       "      <td>0.429908</td>\n",
       "      <td>0.480463</td>\n",
       "      <td>0.356614</td>\n",
       "      <td>691</td>\n",
       "      <td>5.377013</td>\n",
       "    </tr>\n",
       "    <tr>\n",
       "      <th>0.45</th>\n",
       "      <td>0.484867</td>\n",
       "      <td>0.481299</td>\n",
       "      <td>0.285416</td>\n",
       "      <td>3663</td>\n",
       "      <td>28.503618</td>\n",
       "    </tr>\n",
       "    <tr>\n",
       "      <th>0.50</th>\n",
       "      <td>0.517267</td>\n",
       "      <td>0.506752</td>\n",
       "      <td>0.277703</td>\n",
       "      <td>6739</td>\n",
       "      <td>52.439499</td>\n",
       "    </tr>\n",
       "    <tr>\n",
       "      <th>0.55</th>\n",
       "      <td>0.569185</td>\n",
       "      <td>0.514202</td>\n",
       "      <td>0.510470</td>\n",
       "      <td>1021</td>\n",
       "      <td>7.944907</td>\n",
       "    </tr>\n",
       "    <tr>\n",
       "      <th>0.60</th>\n",
       "      <td>0.615723</td>\n",
       "      <td>0.532258</td>\n",
       "      <td>0.681989</td>\n",
       "      <td>186</td>\n",
       "      <td>1.447358</td>\n",
       "    </tr>\n",
       "    <tr>\n",
       "      <th>0.65</th>\n",
       "      <td>0.670311</td>\n",
       "      <td>0.547170</td>\n",
       "      <td>0.900189</td>\n",
       "      <td>53</td>\n",
       "      <td>0.412419</td>\n",
       "    </tr>\n",
       "    <tr>\n",
       "      <th>0.70</th>\n",
       "      <td>0.722153</td>\n",
       "      <td>0.590909</td>\n",
       "      <td>1.239091</td>\n",
       "      <td>22</td>\n",
       "      <td>0.171193</td>\n",
       "    </tr>\n",
       "    <tr>\n",
       "      <th>0.75</th>\n",
       "      <td>0.773721</td>\n",
       "      <td>0.444444</td>\n",
       "      <td>-0.178889</td>\n",
       "      <td>18</td>\n",
       "      <td>0.140067</td>\n",
       "    </tr>\n",
       "    <tr>\n",
       "      <th>0.80</th>\n",
       "      <td>0.815689</td>\n",
       "      <td>0.375000</td>\n",
       "      <td>-0.167500</td>\n",
       "      <td>8</td>\n",
       "      <td>0.062252</td>\n",
       "    </tr>\n",
       "    <tr>\n",
       "      <th>0.85</th>\n",
       "      <td>0.862179</td>\n",
       "      <td>0.500000</td>\n",
       "      <td>3.141000</td>\n",
       "      <td>10</td>\n",
       "      <td>0.077815</td>\n",
       "    </tr>\n",
       "    <tr>\n",
       "      <th>0.90</th>\n",
       "      <td>0.921384</td>\n",
       "      <td>0.571429</td>\n",
       "      <td>2.452857</td>\n",
       "      <td>7</td>\n",
       "      <td>0.054470</td>\n",
       "    </tr>\n",
       "    <tr>\n",
       "      <th>0.95</th>\n",
       "      <td>0.951204</td>\n",
       "      <td>0.000000</td>\n",
       "      <td>-3.265000</td>\n",
       "      <td>2</td>\n",
       "      <td>0.015563</td>\n",
       "    </tr>\n",
       "  </tbody>\n",
       "</table>\n",
       "</div>"
      ],
      "text/plain": [
       "                 predicted win prob  actual win rate  mean return  \\\n",
       "pred_prob_level                                                     \n",
       "0.00                       0.029864         0.208333     0.129583   \n",
       "0.05                       0.071214         0.370370     0.097407   \n",
       "0.10                       0.126711         0.409091     0.075000   \n",
       "0.15                       0.175455         0.432432     0.025135   \n",
       "0.20                       0.223096         0.435897     0.175897   \n",
       "0.25                       0.277289         0.342105    -0.104211   \n",
       "0.30                       0.326675         0.383562     0.418356   \n",
       "0.35                       0.380795         0.450292     0.506257   \n",
       "0.40                       0.429908         0.480463     0.356614   \n",
       "0.45                       0.484867         0.481299     0.285416   \n",
       "0.50                       0.517267         0.506752     0.277703   \n",
       "0.55                       0.569185         0.514202     0.510470   \n",
       "0.60                       0.615723         0.532258     0.681989   \n",
       "0.65                       0.670311         0.547170     0.900189   \n",
       "0.70                       0.722153         0.590909     1.239091   \n",
       "0.75                       0.773721         0.444444    -0.178889   \n",
       "0.80                       0.815689         0.375000    -0.167500   \n",
       "0.85                       0.862179         0.500000     3.141000   \n",
       "0.90                       0.921384         0.571429     2.452857   \n",
       "0.95                       0.951204         0.000000    -3.265000   \n",
       "\n",
       "                 # of trades  % of all trades  \n",
       "pred_prob_level                                \n",
       "0.00                      24         0.186756  \n",
       "0.05                      27         0.210100  \n",
       "0.10                      22         0.171193  \n",
       "0.15                      37         0.287915  \n",
       "0.20                      39         0.303478  \n",
       "0.25                      38         0.295697  \n",
       "0.30                      73         0.568049  \n",
       "0.35                     171         1.330636  \n",
       "0.40                     691         5.377013  \n",
       "0.45                    3663        28.503618  \n",
       "0.50                    6739        52.439499  \n",
       "0.55                    1021         7.944907  \n",
       "0.60                     186         1.447358  \n",
       "0.65                      53         0.412419  \n",
       "0.70                      22         0.171193  \n",
       "0.75                      18         0.140067  \n",
       "0.80                       8         0.062252  \n",
       "0.85                      10         0.077815  \n",
       "0.90                       7         0.054470  \n",
       "0.95                       2         0.015563  "
      ]
     },
     "execution_count": 43,
     "metadata": {},
     "output_type": "execute_result"
    }
   ],
   "source": [
    "pred = model.predict(X_test)\n",
    "pred_probs = pd.Series(pred[:, 1], name = \"pred_probs\")\n",
    "results = pd.concat([pred_probs, stock_data.y_test.reset_index(drop = True), stock_data.test_rtn.reset_index(drop = True)], \n",
    "                    axis = 1)\n",
    "results['pred_prob_level'] = [int(x * 20)/20 for x in results['pred_probs']]\n",
    "\n",
    "summary = pd.concat([results.groupby(['pred_prob_level']).mean(), \n",
    "                     results.groupby(['pred_prob_level']).count()['label'], \n",
    "                     100 * results.groupby(['pred_prob_level']).count()['label']/results.shape[0]], \n",
    "                    axis = 1)\n",
    "summary.columns = ['predicted win prob', 'actual win rate', 'mean return', '# of trades', '% of all trades']\n",
    "summary"
   ]
  },
  {
   "cell_type": "code",
   "execution_count": 42,
   "metadata": {},
   "outputs": [
    {
     "data": {
      "text/plain": [
       "array([[0.55010074, 0.44989923],\n",
       "       [0.48843524, 0.51156473],\n",
       "       [0.49721524, 0.5027848 ],\n",
       "       [0.5200271 , 0.47997293],\n",
       "       [0.49720767, 0.50279236],\n",
       "       [0.4997482 , 0.5002518 ],\n",
       "       [0.49720767, 0.50279236],\n",
       "       [0.4972078 , 0.50279224],\n",
       "       [0.49720767, 0.5027923 ],\n",
       "       [0.5499581 , 0.45004183]], dtype=float32)"
      ]
     },
     "execution_count": 42,
     "metadata": {},
     "output_type": "execute_result"
    }
   ],
   "source": [
    "pred[:10, :]"
   ]
  },
  {
   "cell_type": "code",
   "execution_count": 37,
   "metadata": {},
   "outputs": [
    {
     "data": {
      "text/plain": [
       "0.48527193"
      ]
     },
     "execution_count": 37,
     "metadata": {},
     "output_type": "execute_result"
    }
   ],
   "source": [
    "np.mean(pred[:, 1])"
   ]
  },
  {
   "cell_type": "code",
   "execution_count": null,
   "metadata": {},
   "outputs": [],
   "source": []
  }
 ],
 "metadata": {
  "accelerator": "GPU",
  "colab": {
   "collapsed_sections": [],
   "name": "Seahorse_CNN1.ipynb",
   "provenance": [],
   "version": "0.3.2"
  },
  "kernelspec": {
   "display_name": "Python 3",
   "language": "python",
   "name": "python3"
  },
  "language_info": {
   "codemirror_mode": {
    "name": "ipython",
    "version": 3
   },
   "file_extension": ".py",
   "mimetype": "text/x-python",
   "name": "python",
   "nbconvert_exporter": "python",
   "pygments_lexer": "ipython3",
   "version": "3.7.3"
  }
 },
 "nbformat": 4,
 "nbformat_minor": 1
}
