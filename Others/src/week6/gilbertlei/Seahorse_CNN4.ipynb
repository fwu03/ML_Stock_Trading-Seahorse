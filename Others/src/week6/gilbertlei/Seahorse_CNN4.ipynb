{
 "cells": [
  {
   "cell_type": "code",
   "execution_count": 1,
   "metadata": {
    "colab": {},
    "colab_type": "code",
    "id": "W69sW5ZHFgjM"
   },
   "outputs": [],
   "source": [
    "import pandas as pd\n",
    "import numpy as np\n",
    "import scipy.signal\n",
    "from sys import getsizeof\n",
    "import matplotlib.pyplot as plt\n",
    "import re "
   ]
  },
  {
   "cell_type": "code",
   "execution_count": 2,
   "metadata": {
    "colab": {},
    "colab_type": "code",
    "id": "BMGbfyNVHNea"
   },
   "outputs": [
    {
     "name": "stderr",
     "output_type": "stream",
     "text": [
      "Using TensorFlow backend.\n"
     ]
    }
   ],
   "source": [
    "from sklearn.model_selection import train_test_split\n",
    "from keras.layers import Dense, Dropout, Flatten, Activation, Conv1D, MaxPooling1D, Conv2D, MaxPooling2D\n",
    "from keras.models import Sequential, Model, clone_model\n",
    "from keras.utils import np_utils\n",
    "from keras.utils import to_categorical"
   ]
  },
  {
   "cell_type": "markdown",
   "metadata": {
    "colab_type": "text",
    "id": "ld16vUQDkm7R"
   },
   "source": [
    "## try CNN model using 1D data"
   ]
  },
  {
   "cell_type": "code",
   "execution_count": 3,
   "metadata": {
    "colab": {},
    "colab_type": "code",
    "id": "Fcq6zQ8KJaU9"
   },
   "outputs": [],
   "source": [
    "class StockData():\n",
    "    def __init__(self, file_path):\n",
    "        \n",
    "        data = pd.read_csv(file_path, header=0, index_col=0) \n",
    "        y = data['label'] \n",
    "        X = data.drop(['symbol', 'label'], axis = 1)\n",
    "        \n",
    "        X_train_valid_w_rtn, X_test_w_rtn, y_train_valid, y_test = train_test_split(X, y, test_size=0.25) \n",
    "        \n",
    "        # balance the train_valid data set\n",
    "        balance_data_set = True\n",
    "        if balance_data_set:\n",
    "            df = pd.concat([X_train_valid_w_rtn, y_train_valid], axis=1)\n",
    "            tmp_pos = df[df['rtn'] > 0] \n",
    "            tmp_neg = df[df['rtn'] < 0] \n",
    "            if tmp_pos.shape[0] > tmp_neg.shape[0]: \n",
    "                tmp_pos = tmp_pos.sample(tmp_neg.shape[0])\n",
    "            elif tmp_pos.shape[0] < tmp_neg.shape[0]:\n",
    "                tmp_neg = tmp_neg.sample(tmp_pos.shape[0])\n",
    "            df = pd.concat([tmp_pos, tmp_neg], axis = 0)\n",
    "            y_train_valid = df['label']\n",
    "            X_train_valid_w_rtn = df.drop(['label'], axis = 1)\n",
    "        \n",
    "        X_train_w_rtn, X_valid_w_rtn, y_train, y_valid = train_test_split(X_train_valid_w_rtn, y_train_valid, test_size=0.33) \n",
    "        # train_valid set\n",
    "        self.train_valid_rtn = X_train_valid_w_rtn['rtn']\n",
    "        self.X_train_valid = X_train_valid_w_rtn.drop(['rtn'], axis = 1)\n",
    "        self.y_train_valid = y_train_valid\n",
    "        # train set \n",
    "        self.train_rtn = X_train_w_rtn['rtn'] \n",
    "        self.X_train = X_train_w_rtn.drop(['rtn'], axis = 1)\n",
    "        self.y_train = y_train\n",
    "        # valid set\n",
    "        self.valid_rtn = X_valid_w_rtn['rtn']\n",
    "        self.X_valid = X_valid_w_rtn.drop(['rtn'], axis = 1) \n",
    "        self.y_valid = y_valid\n",
    "        # test set \n",
    "        self.test_rtn = X_test_w_rtn['rtn']\n",
    "        self.X_test = X_test_w_rtn.drop(['rtn'], axis = 1)        \n",
    "        self.y_test = y_test "
   ]
  },
  {
   "cell_type": "code",
   "execution_count": 4,
   "metadata": {
    "colab": {},
    "colab_type": "code",
    "id": "i_sGVJPTF1yl"
   },
   "outputs": [],
   "source": [
    "data = StockData('../data/D1over5.csv') "
   ]
  },
  {
   "cell_type": "code",
   "execution_count": 5,
   "metadata": {},
   "outputs": [
    {
     "data": {
      "text/plain": [
       "(40221, 123)"
      ]
     },
     "execution_count": 5,
     "metadata": {},
     "output_type": "execute_result"
    }
   ],
   "source": [
    "data.X_train.shape"
   ]
  },
  {
   "cell_type": "code",
   "execution_count": 9,
   "metadata": {
    "colab": {},
    "colab_type": "code",
    "id": "4QcojuDZGhFF"
   },
   "outputs": [],
   "source": [
    "X_train = np.array(data.X_train).reshape(data.X_train.shape[0], 3, 41)\n",
    "y_train = to_categorical(data.y_train)\n",
    "X_valid = np.array(data.X_valid).reshape(data.X_valid.shape[0], 3, 41)\n",
    "y_valid = to_categorical(data.y_valid)"
   ]
  },
  {
   "cell_type": "code",
   "execution_count": 10,
   "metadata": {
    "colab": {},
    "colab_type": "code",
    "id": "mg79UA8QYGIL"
   },
   "outputs": [],
   "source": [
    "X_train = np.transpose(X_train, (0, 2, 1))\n",
    "X_valid = np.transpose(X_valid, (0, 2, 1))"
   ]
  },
  {
   "cell_type": "code",
   "execution_count": 11,
   "metadata": {
    "colab": {
     "base_uri": "https://localhost:8080/",
     "height": 826
    },
    "colab_type": "code",
    "id": "zxMFiFbkGiqD",
    "outputId": "6a319e01-a04d-4115-f08c-a7d1e50a282f"
   },
   "outputs": [
    {
     "name": "stdout",
     "output_type": "stream",
     "text": [
      "WARNING:tensorflow:From C:\\Users\\leiju\\Anaconda3\\lib\\site-packages\\tensorflow\\python\\framework\\op_def_library.py:263: colocate_with (from tensorflow.python.framework.ops) is deprecated and will be removed in a future version.\n",
      "Instructions for updating:\n",
      "Colocations handled automatically by placer.\n",
      "WARNING:tensorflow:From C:\\Users\\leiju\\Anaconda3\\lib\\site-packages\\tensorflow\\python\\ops\\math_ops.py:3066: to_int32 (from tensorflow.python.ops.math_ops) is deprecated and will be removed in a future version.\n",
      "Instructions for updating:\n",
      "Use tf.cast instead.\n",
      "Train on 40221 samples, validate on 19811 samples\n",
      "Epoch 1/20\n",
      "40221/40221 [==============================] - 5s 127us/step - loss: 0.6940 - acc: 0.4998 - val_loss: 0.6932 - val_acc: 0.5044\n",
      "Epoch 2/20\n",
      "40221/40221 [==============================] - 4s 108us/step - loss: 0.6937 - acc: 0.5045 - val_loss: 0.6930 - val_acc: 0.5007\n",
      "Epoch 3/20\n",
      "40221/40221 [==============================] - 4s 108us/step - loss: 0.6935 - acc: 0.5029 - val_loss: 0.6942 - val_acc: 0.4979\n",
      "Epoch 4/20\n",
      "40221/40221 [==============================] - 5s 114us/step - loss: 0.6932 - acc: 0.5067 - val_loss: 0.6930 - val_acc: 0.5058\n",
      "Epoch 5/20\n",
      "40221/40221 [==============================] - 5s 115us/step - loss: 0.6933 - acc: 0.5036 - val_loss: 0.6943 - val_acc: 0.4983\n",
      "Epoch 6/20\n",
      "40221/40221 [==============================] - 5s 119us/step - loss: 0.6934 - acc: 0.5012 - val_loss: 0.6933 - val_acc: 0.5021\n",
      "Epoch 7/20\n",
      "40221/40221 [==============================] - 5s 114us/step - loss: 0.6931 - acc: 0.5088 - val_loss: 0.6927 - val_acc: 0.5100\n",
      "Epoch 8/20\n",
      "40221/40221 [==============================] - 5s 117us/step - loss: 0.6930 - acc: 0.5101 - val_loss: 0.6934 - val_acc: 0.5063\n",
      "Epoch 9/20\n",
      "40221/40221 [==============================] - 4s 112us/step - loss: 0.6931 - acc: 0.5073 - val_loss: 0.6929 - val_acc: 0.5106\n",
      "Epoch 10/20\n",
      "40221/40221 [==============================] - 5s 112us/step - loss: 0.6929 - acc: 0.5107 - val_loss: 0.6925 - val_acc: 0.5147\n",
      "Epoch 11/20\n",
      "40221/40221 [==============================] - 5s 112us/step - loss: 0.6930 - acc: 0.5088 - val_loss: 0.6925 - val_acc: 0.5115\n",
      "Epoch 12/20\n",
      "40221/40221 [==============================] - 5s 118us/step - loss: 0.6928 - acc: 0.5127 - val_loss: 0.6926 - val_acc: 0.5118\n",
      "Epoch 13/20\n",
      "40221/40221 [==============================] - 5s 129us/step - loss: 0.6928 - acc: 0.5126 - val_loss: 0.6926 - val_acc: 0.5136\n",
      "Epoch 14/20\n",
      "40221/40221 [==============================] - 6s 142us/step - loss: 0.6926 - acc: 0.5124 - val_loss: 0.6926 - val_acc: 0.5118\n",
      "Epoch 15/20\n",
      "40221/40221 [==============================] - 5s 135us/step - loss: 0.6927 - acc: 0.5139 - val_loss: 0.6924 - val_acc: 0.5154\n",
      "Epoch 16/20\n",
      "40221/40221 [==============================] - 6s 138us/step - loss: 0.6927 - acc: 0.5137 - val_loss: 0.6924 - val_acc: 0.5150\n",
      "Epoch 17/20\n",
      "40221/40221 [==============================] - 6s 137us/step - loss: 0.6927 - acc: 0.5147 - val_loss: 0.6926 - val_acc: 0.5124\n",
      "Epoch 18/20\n",
      "40221/40221 [==============================] - 6s 141us/step - loss: 0.6926 - acc: 0.5147 - val_loss: 0.6928 - val_acc: 0.5107\n",
      "Epoch 19/20\n",
      "40221/40221 [==============================] - 6s 141us/step - loss: 0.6923 - acc: 0.5192 - val_loss: 0.6937 - val_acc: 0.5051\n",
      "Epoch 20/20\n",
      "40221/40221 [==============================] - 6s 145us/step - loss: 0.6925 - acc: 0.5185 - val_loss: 0.6925 - val_acc: 0.5112\n"
     ]
    }
   ],
   "source": [
    "model = Sequential()\n",
    "model.add(Conv1D(6, kernel_size=3, input_shape=(41,3), padding='same', activation='relu'))\n",
    "model.add(MaxPooling1D(pool_size=2))\n",
    "model.add(Conv1D(6, kernel_size=3, padding='same', activation='sigmoid'))\n",
    "model.add(MaxPooling1D(pool_size=2))\n",
    "model.add(Flatten())\n",
    "model.add(Dense(12, activation='sigmoid'))\n",
    "model.add(Dense(2, activation='softmax'))\n",
    "model.compile(loss='categorical_crossentropy', optimizer='adam', metrics=['accuracy'])\n",
    "history = model.fit(X_train, y_train, epochs=20, verbose=1, validation_data=(X_valid, y_valid))"
   ]
  },
  {
   "cell_type": "code",
   "execution_count": 13,
   "metadata": {},
   "outputs": [
    {
     "data": {
      "image/png": "[encoded data removed]",
      "text/plain": [
       "<Figure size 432x288 with 1 Axes>"
      ]
     },
     "metadata": {
      "needs_background": "light"
     },
     "output_type": "display_data"
    }
   ],
   "source": [
    "# results using training set and valid set \n",
    "plt.plot(history.history['acc'])\n",
    "plt.plot(history.history['val_acc'])\n",
    "plt.hlines(0.5, 0, 20, linestyles='dotted')\n",
    "plt.ylim(0.45, 0.55)\n",
    "plt.xticks(range(0, 20))\n",
    "plt.xlabel('epochs')\n",
    "plt.ylabel('accuracy')\n",
    "plt.legend(['train', 'valid']);"
   ]
  },
  {
   "cell_type": "code",
   "execution_count": 0,
   "metadata": {
    "colab": {
     "base_uri": "https://localhost:8080/",
     "height": 50
    },
    "colab_type": "code",
    "id": "TGtoOZsaKWNV",
    "outputId": "fcf1d647-959e-4d4f-a60b-347d6b0e7704"
   },
   "outputs": [
    {
     "name": "stdout",
     "output_type": "stream",
     "text": [
      "24008/24008 [==============================] - 1s 45us/step\n"
     ]
    },
    {
     "data": {
      "text/plain": [
       "[0.6928916012037202, 0.508622125958014]"
      ]
     },
     "execution_count": 23,
     "metadata": {
      "tags": []
     },
     "output_type": "execute_result"
    }
   ],
   "source": [
    "scores = model.evaluate(X_test, y_test, verbose=1)\n",
    "# print(\"CNN Error: %.2f%%\" % (100-scores[1]*100))\n",
    "scores"
   ]
  },
  {
   "cell_type": "code",
   "execution_count": 0,
   "metadata": {
    "colab": {
     "base_uri": "https://localhost:8080/",
     "height": 34
    },
    "colab_type": "code",
    "id": "P_3-kYuuddSR",
    "outputId": "6b6e2b40-9189-4fea-f229-9073b4b48b9d"
   },
   "outputs": [
    {
     "data": {
      "text/plain": [
       "0.41152949016994333"
      ]
     },
     "execution_count": 24,
     "metadata": {
      "tags": []
     },
     "output_type": "execute_result"
    }
   ],
   "source": [
    "sum(data.y_test)/data.y_test.shape[0]"
   ]
  },
  {
   "cell_type": "code",
   "execution_count": 0,
   "metadata": {
    "colab": {},
    "colab_type": "code",
    "id": "Nz--fTpdgeuU"
   },
   "outputs": [],
   "source": [
    "pred = model.predict(X_test)"
   ]
  },
  {
   "cell_type": "code",
   "execution_count": 0,
   "metadata": {
    "colab": {},
    "colab_type": "code",
    "id": "L4xrWHxTicLp"
   },
   "outputs": [],
   "source": [
    "pred_probs = pd.Series(pred[:, 1], name = \"pred_probs\")\n",
    "results = pd.concat([pred_probs, data.y_test.reset_index(drop = True)], axis = 1)"
   ]
  },
  {
   "cell_type": "code",
   "execution_count": 0,
   "metadata": {
    "colab": {},
    "colab_type": "code",
    "id": "vyFrWzT_l7R_"
   },
   "outputs": [],
   "source": [
    "results['pred_prob_level'] = [int(x * 20)/20 for x in results['pred_probs']]"
   ]
  },
  {
   "cell_type": "code",
   "execution_count": 0,
   "metadata": {
    "colab": {
     "base_uri": "https://localhost:8080/",
     "height": 195
    },
    "colab_type": "code",
    "id": "CKoZ2gtQlU0m",
    "outputId": "fe5250a9-ff5c-4081-fe91-4e0428832186"
   },
   "outputs": [
    {
     "data": {
      "text/html": [
       "<div>\n",
       "<style scoped>\n",
       "    .dataframe tbody tr th:only-of-type {\n",
       "        vertical-align: middle;\n",
       "    }\n",
       "\n",
       "    .dataframe tbody tr th {\n",
       "        vertical-align: top;\n",
       "    }\n",
       "\n",
       "    .dataframe thead th {\n",
       "        text-align: right;\n",
       "    }\n",
       "</style>\n",
       "<table border=\"1\" class=\"dataframe\">\n",
       "  <thead>\n",
       "    <tr style=\"text-align: right;\">\n",
       "      <th></th>\n",
       "      <th>predicted win prob</th>\n",
       "      <th>actual win rate</th>\n",
       "      <th># of trades</th>\n",
       "      <th>% of all trades</th>\n",
       "    </tr>\n",
       "    <tr>\n",
       "      <th>pred_prob_level</th>\n",
       "      <th></th>\n",
       "      <th></th>\n",
       "      <th></th>\n",
       "      <th></th>\n",
       "    </tr>\n",
       "  </thead>\n",
       "  <tbody>\n",
       "    <tr>\n",
       "      <th>0.40</th>\n",
       "      <td>0.446339</td>\n",
       "      <td>0.277778</td>\n",
       "      <td>18</td>\n",
       "      <td>0.074975</td>\n",
       "    </tr>\n",
       "    <tr>\n",
       "      <th>0.45</th>\n",
       "      <td>0.487971</td>\n",
       "      <td>0.401275</td>\n",
       "      <td>11765</td>\n",
       "      <td>49.004499</td>\n",
       "    </tr>\n",
       "    <tr>\n",
       "      <th>0.50</th>\n",
       "      <td>0.512105</td>\n",
       "      <td>0.421734</td>\n",
       "      <td>12202</td>\n",
       "      <td>50.824725</td>\n",
       "    </tr>\n",
       "    <tr>\n",
       "      <th>0.55</th>\n",
       "      <td>0.554172</td>\n",
       "      <td>0.347826</td>\n",
       "      <td>23</td>\n",
       "      <td>0.095801</td>\n",
       "    </tr>\n",
       "  </tbody>\n",
       "</table>\n",
       "</div>"
      ],
      "text/plain": [
       "                 predicted win prob  ...  % of all trades\n",
       "pred_prob_level                      ...                 \n",
       "0.40                       0.446339  ...         0.074975\n",
       "0.45                       0.487971  ...        49.004499\n",
       "0.50                       0.512105  ...        50.824725\n",
       "0.55                       0.554172  ...         0.095801\n",
       "\n",
       "[4 rows x 4 columns]"
      ]
     },
     "execution_count": 29,
     "metadata": {
      "tags": []
     },
     "output_type": "execute_result"
    }
   ],
   "source": [
    "summary = pd.concat([results.groupby(['pred_prob_level']).mean(), \n",
    "                     results.groupby(['pred_prob_level']).count()['label'], \n",
    "                     100 * results.groupby(['pred_prob_level']).count()['label']/results.shape[0]], \n",
    "                    axis = 1)\n",
    "summary.columns = ['predicted win prob', 'actual win rate', '# of trades', '% of all trades']\n",
    "summary"
   ]
  },
  {
   "cell_type": "code",
   "execution_count": 0,
   "metadata": {
    "colab": {},
    "colab_type": "code",
    "id": "gVMgwIxat-_L"
   },
   "outputs": [],
   "source": []
  }
 ],
 "metadata": {
  "accelerator": "GPU",
  "colab": {
   "collapsed_sections": [],
   "name": "Seahorse_CNN1.ipynb",
   "provenance": [],
   "version": "0.3.2"
  },
  "kernelspec": {
   "display_name": "Python 3",
   "language": "python",
   "name": "python3"
  },
  "language_info": {
   "codemirror_mode": {
    "name": "ipython",
    "version": 3
   },
   "file_extension": ".py",
   "mimetype": "text/x-python",
   "name": "python",
   "nbconvert_exporter": "python",
   "pygments_lexer": "ipython3",
   "version": "3.7.3"
  }
 },
 "nbformat": 4,
 "nbformat_minor": 1
}
