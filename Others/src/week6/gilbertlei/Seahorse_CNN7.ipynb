{
 "cells": [
  {
   "cell_type": "markdown",
   "metadata": {},
   "source": [
    "## Conv1D, using only osc and its derivatives, 9 days data"
   ]
  },
  {
   "cell_type": "code",
   "execution_count": 10,
   "metadata": {
    "colab": {},
    "colab_type": "code",
    "id": "W69sW5ZHFgjM"
   },
   "outputs": [],
   "source": [
    "import pandas as pd\n",
    "import numpy as np\n",
    "import scipy.signal\n",
    "from sys import getsizeof\n",
    "import matplotlib.pyplot as plt\n",
    "import re \n",
    "import os"
   ]
  },
  {
   "cell_type": "code",
   "execution_count": 11,
   "metadata": {
    "colab": {},
    "colab_type": "code",
    "id": "BMGbfyNVHNea"
   },
   "outputs": [],
   "source": [
    "from sklearn.model_selection import train_test_split\n",
    "from sklearn.metrics import precision_score, classification_report\n",
    "from keras.layers import Dense, Dropout, Flatten, Activation, Conv1D, MaxPooling1D, Conv2D, MaxPooling2D\n",
    "from keras.models import Sequential, Model, clone_model\n",
    "from keras.utils import np_utils\n",
    "from keras.utils import to_categorical"
   ]
  },
  {
   "cell_type": "code",
   "execution_count": 12,
   "metadata": {},
   "outputs": [],
   "source": [
    "def normalize_data(data): \n",
    "    for i in range(data.shape[0]): \n",
    "        row = data.iloc[i, :] \n",
    "        data.iloc[i, :] = (row - min(row))/(max(row) - min(row)) \n",
    "    return data"
   ]
  },
  {
   "cell_type": "code",
   "execution_count": 13,
   "metadata": {},
   "outputs": [],
   "source": [
    "def read_data_files():\n",
    "    data = pd.DataFrame()\n",
    "    \n",
    "    for filename in os.listdir('../data/UBC/'):\n",
    "        if filename.endswith(\".txt\"): \n",
    "            # print('working on ', filename)\n",
    "            # symbol = filename.split(\"1\")[0]\n",
    "            tmp_df = pd.read_csv(os.path.join('../data/UBC/', filename), delimiter= '\\s+', header = None)\n",
    "            tmp_df = tmp_df.astype(float)\n",
    "            # tmp_df = pd.concat([pd.Series([symbol] * tmp_df.shape[0], name = 'symbol'), tmp_df], axis=1)\n",
    "            tmp_df = tmp_df.iloc[20:,:]\n",
    "            tmp_df[180] = (tmp_df[179] + tmp_df[181])/2    # column 180 data is wrong, so replace it with mean value of column 179 and 181\n",
    "            data = pd.concat([data, tmp_df])\n",
    "    \n",
    "    osc_names = ['osc' + str(i) for i in range(118)]\n",
    "    prc_names = ['prc' + str(i) for i in range(118)]\n",
    "    macd_names = ['macd' + str(i) for i in range(118)]\n",
    "    data.columns = osc_names + prc_names + macd_names + ['rtn']\n",
    "    \n",
    "    osc_data = data.iloc[:, :118].reset_index(drop=True)\n",
    "    osc_data = osc_data[osc_data.columns[::-1]]\n",
    "    # osc_data = normalize_data(osc_data)\n",
    "    \n",
    "    prc_data = data.iloc[:, 118:236].reset_index(drop=True)\n",
    "    prc_data = prc_data[prc_data.columns[::-1]]\n",
    "    # prc_data = normalize_data(prc_data)\n",
    "    \n",
    "    macd_data = data.iloc[:, 236:354].reset_index(drop=True)\n",
    "    macd_data = macd_data[macd_data.columns[::-1]]\n",
    "    # macd_data = normalize_data(macd_data) \n",
    "    \n",
    "    rtn = data['rtn'].reset_index(drop=True)\n",
    "    label = pd.Series(map(lambda x: 1 if x>0 else 0, rtn), name = 'label')\n",
    "    \n",
    "    # data = pd.concat([osc_data, prc_data, macd_data, rtn, label], axis=1)\n",
    "    data = pd.concat([osc_data, rtn, label], axis=1)\n",
    "    data = data.reset_index(drop=True)\n",
    "    \n",
    "    return data"
   ]
  },
  {
   "cell_type": "code",
   "execution_count": 14,
   "metadata": {},
   "outputs": [],
   "source": [
    "def remove_duplicates(data):\n",
    "    # target_names = list(data.columns)\n",
    "    # del target_names[0]\n",
    "    clean_data = data.drop_duplicates()\n",
    "    clean_data= clean_data.reset_index(drop=True)\n",
    "    return clean_data"
   ]
  },
  {
   "cell_type": "code",
   "execution_count": 15,
   "metadata": {},
   "outputs": [],
   "source": [
    "def remove_extreme_values(data): \n",
    "    data = data[(data['osc1'] > -7) & (data['osc1'] < 7)] \n",
    "    data = data.reset_index(drop=True)\n",
    "    return data"
   ]
  },
  {
   "cell_type": "code",
   "execution_count": 16,
   "metadata": {},
   "outputs": [],
   "source": [
    "def remove_pos_values(data):\n",
    "    data = data[data['osc1'] < 0]\n",
    "    data = data.reset_index(drop=True)\n",
    "    return data"
   ]
  },
  {
   "cell_type": "code",
   "execution_count": 17,
   "metadata": {},
   "outputs": [],
   "source": [
    "def calc_derivative(data, name):\n",
    "    derivatives = []\n",
    "    for i in range(data.shape[0]):\n",
    "        i_derivative = list(np.gradient(pd.Series(data.iloc[i,:])))\n",
    "        derivatives.append(i_derivative)\n",
    "    \n",
    "    names = []\n",
    "    for i in range(data.shape[1]):\n",
    "        names.append(name + \"_d\"+ str(40-i)) \n",
    "    \n",
    "    return pd.DataFrame(derivatives, columns=names, index=data.index)"
   ]
  },
  {
   "cell_type": "code",
   "execution_count": 18,
   "metadata": {},
   "outputs": [],
   "source": [
    "def add_derivatives(data):\n",
    "    osc = data.iloc[:, :118]\n",
    "    # prc = data.iloc[:, 118:236]\n",
    "    # macd = data.iloc[:, 236:354]\n",
    "    \n",
    "    rtn = data['rtn']\n",
    "    label = data['label'] \n",
    "    \n",
    "    osc_drv = calc_derivative(osc, 'osc')\n",
    "    # prc_drv = calc_derivative(prc, 'prc')\n",
    "    # macd_drv = calc_derivative(macd, 'macd')\n",
    "    \n",
    "    data = pd.concat([osc, osc_drv, rtn, label], axis=1)\n",
    "    return data"
   ]
  },
  {
   "cell_type": "code",
   "execution_count": 19,
   "metadata": {
    "colab": {},
    "colab_type": "code",
    "id": "Fcq6zQ8KJaU9"
   },
   "outputs": [],
   "source": [
    "class StockData():\n",
    "    def __init__(self, data):\n",
    "\n",
    "        pos_data = data[data['label'] == 1]\n",
    "        neg_data = data[data['label'] == 0]\n",
    "        \n",
    "        # balance the data set \n",
    "        if pos_data.shape[0] > neg_data.shape[0]:\n",
    "            pos_data = pos_data.sample(neg_data.shape[0])\n",
    "        else:\n",
    "            neg_data = neg_data.sample(pos_data.shape[0])\n",
    "        \n",
    "        data = pd.concat([pos_data, neg_data], axis = 0)\n",
    "        data = data.reset_index(drop = True) \n",
    "        \n",
    "        X = data.iloc[:, :-1]\n",
    "        y = data['label']\n",
    "        \n",
    "        X_train_valid_w_rtn, X_test_w_rtn, y_train_valid, y_test = train_test_split(X, y, test_size=0.25) \n",
    "        # train_valid set\n",
    "        self.train_valid_rtn = X_train_valid_w_rtn['rtn']\n",
    "        self.X_train_valid = X_train_valid_w_rtn.drop(['rtn'], axis = 1)\n",
    "        self.y_train_valid = y_train_valid\n",
    "        \n",
    "        X_train_w_rtn, X_valid_w_rtn, y_train, y_valid = train_test_split(X_train_valid_w_rtn, y_train_valid, test_size=0.25) \n",
    "        # training set \n",
    "        self.train_rtn = X_train_w_rtn['rtn'] \n",
    "        self.X_train = X_train_w_rtn.drop(['rtn'], axis = 1)\n",
    "        self.y_train = y_train\n",
    "        # validation set\n",
    "        self.valid_rtn = X_valid_w_rtn['rtn']\n",
    "        self.X_valid = X_valid_w_rtn.drop(['rtn'], axis = 1) \n",
    "        self.y_valid = y_valid\n",
    "        # test set \n",
    "        self.test_rtn = X_test_w_rtn['rtn']\n",
    "        self.X_test = X_test_w_rtn.drop(['rtn'], axis = 1)        \n",
    "        self.y_test = y_test "
   ]
  },
  {
   "cell_type": "code",
   "execution_count": 20,
   "metadata": {},
   "outputs": [
    {
     "name": "stdout",
     "output_type": "stream",
     "text": [
      "(49109, 120)\n"
     ]
    }
   ],
   "source": [
    "data = read_data_files()\n",
    "data = remove_duplicates(data) \n",
    "data = remove_extreme_values(data)\n",
    "data = remove_pos_values(data)\n",
    "print(data.shape)\n",
    "# print(data.columns.values)"
   ]
  },
  {
   "cell_type": "code",
   "execution_count": 21,
   "metadata": {},
   "outputs": [
    {
     "name": "stdout",
     "output_type": "stream",
     "text": [
      "(49109, 238)\n"
     ]
    }
   ],
   "source": [
    "data = add_derivatives(data)\n",
    "print(data.shape)\n",
    "# print(data.columns.values)"
   ]
  },
  {
   "cell_type": "code",
   "execution_count": 22,
   "metadata": {},
   "outputs": [
    {
     "name": "stdout",
     "output_type": "stream",
     "text": [
      "(22774, 236)\n",
      "(7592, 236)\n",
      "(10122, 236)\n"
     ]
    }
   ],
   "source": [
    "stock_data = StockData(data)\n",
    "print(stock_data.X_train.shape)\n",
    "print(stock_data.X_valid.shape)\n",
    "print(stock_data.X_test.shape)"
   ]
  },
  {
   "cell_type": "code",
   "execution_count": 34,
   "metadata": {
    "colab": {
     "base_uri": "https://localhost:8080/",
     "height": 34
    },
    "colab_type": "code",
    "id": "P_3-kYuuddSR",
    "outputId": "6b6e2b40-9189-4fea-f229-9073b4b48b9d"
   },
   "outputs": [
    {
     "name": "stdout",
     "output_type": "stream",
     "text": [
      "0.49877052779485376\n",
      "0.4992096944151739\n",
      "0.5033590199565303\n"
     ]
    }
   ],
   "source": [
    "# check how balanced are the three data sets\n",
    "print(sum(stock_data.y_train)/stock_data.y_train.shape[0])\n",
    "print(sum(stock_data.y_valid)/stock_data.y_valid.shape[0])\n",
    "print(sum(stock_data.y_test)/stock_data.y_test.shape[0])"
   ]
  },
  {
   "cell_type": "code",
   "execution_count": 24,
   "metadata": {
    "colab": {},
    "colab_type": "code",
    "id": "4QcojuDZGhFF"
   },
   "outputs": [],
   "source": [
    "X_train = np.array(stock_data.X_train).reshape(stock_data.X_train.shape[0], 2, 118)\n",
    "y_train = to_categorical(stock_data.y_train)\n",
    "X_valid = np.array(stock_data.X_valid).reshape(stock_data.X_valid.shape[0], 2, 118)\n",
    "y_valid = to_categorical(stock_data.y_valid)\n",
    "X_test = np.array(stock_data.X_test).reshape(stock_data.X_test.shape[0], 2, 118)\n",
    "y_test = to_categorical(stock_data.y_test)"
   ]
  },
  {
   "cell_type": "code",
   "execution_count": 25,
   "metadata": {
    "colab": {},
    "colab_type": "code",
    "id": "mg79UA8QYGIL"
   },
   "outputs": [],
   "source": [
    "X_train = np.transpose(X_train, (0, 2, 1))\n",
    "X_valid = np.transpose(X_valid, (0, 2, 1))\n",
    "X_test = np.transpose(X_test, (0, 2, 1))"
   ]
  },
  {
   "cell_type": "code",
   "execution_count": 26,
   "metadata": {
    "colab": {
     "base_uri": "https://localhost:8080/",
     "height": 826
    },
    "colab_type": "code",
    "id": "zxMFiFbkGiqD",
    "outputId": "6a319e01-a04d-4115-f08c-a7d1e50a282f"
   },
   "outputs": [
    {
     "name": "stdout",
     "output_type": "stream",
     "text": [
      "WARNING:tensorflow:From C:\\Users\\leiju\\Anaconda3\\lib\\site-packages\\tensorflow\\python\\framework\\op_def_library.py:263: colocate_with (from tensorflow.python.framework.ops) is deprecated and will be removed in a future version.\n",
      "Instructions for updating:\n",
      "Colocations handled automatically by placer.\n",
      "WARNING:tensorflow:From C:\\Users\\leiju\\Anaconda3\\lib\\site-packages\\tensorflow\\python\\ops\\math_ops.py:3066: to_int32 (from tensorflow.python.ops.math_ops) is deprecated and will be removed in a future version.\n",
      "Instructions for updating:\n",
      "Use tf.cast instead.\n",
      "Train on 22774 samples, validate on 7592 samples\n",
      "Epoch 1/20\n",
      "22774/22774 [==============================] - 5s 201us/step - loss: 0.6959 - acc: 0.5001 - val_loss: 0.6985 - val_acc: 0.4982\n",
      "Epoch 2/20\n",
      "22774/22774 [==============================] - 4s 168us/step - loss: 0.6948 - acc: 0.5022 - val_loss: 0.6965 - val_acc: 0.4980\n",
      "Epoch 3/20\n",
      "22774/22774 [==============================] - 4s 176us/step - loss: 0.6944 - acc: 0.5041 - val_loss: 0.6944 - val_acc: 0.4979\n",
      "Epoch 4/20\n",
      "22774/22774 [==============================] - 4s 165us/step - loss: 0.6938 - acc: 0.5060 - val_loss: 0.6989 - val_acc: 0.5001\n",
      "Epoch 5/20\n",
      "22774/22774 [==============================] - 4s 167us/step - loss: 0.6934 - acc: 0.5094 - val_loss: 0.7045 - val_acc: 0.5008\n",
      "Epoch 6/20\n",
      "22774/22774 [==============================] - 4s 167us/step - loss: 0.6936 - acc: 0.5052 - val_loss: 0.6938 - val_acc: 0.4939\n",
      "Epoch 7/20\n",
      "22774/22774 [==============================] - 4s 167us/step - loss: 0.6931 - acc: 0.5117 - val_loss: 0.6937 - val_acc: 0.4988\n",
      "Epoch 8/20\n",
      "22774/22774 [==============================] - 4s 168us/step - loss: 0.6932 - acc: 0.5121 - val_loss: 0.6945 - val_acc: 0.5004\n",
      "Epoch 9/20\n",
      "22774/22774 [==============================] - 4s 167us/step - loss: 0.6929 - acc: 0.5101 - val_loss: 0.6936 - val_acc: 0.4906\n",
      "Epoch 10/20\n",
      "22774/22774 [==============================] - 4s 165us/step - loss: 0.6927 - acc: 0.5084 - val_loss: 0.6948 - val_acc: 0.5008\n",
      "Epoch 11/20\n",
      "22774/22774 [==============================] - 4s 173us/step - loss: 0.6929 - acc: 0.5067 - val_loss: 0.6941 - val_acc: 0.4996\n",
      "Epoch 12/20\n",
      "22774/22774 [==============================] - 4s 171us/step - loss: 0.6930 - acc: 0.5120 - val_loss: 0.6940 - val_acc: 0.5040\n",
      "Epoch 13/20\n",
      "22774/22774 [==============================] - 4s 173us/step - loss: 0.6926 - acc: 0.5080 - val_loss: 0.6939 - val_acc: 0.5025\n",
      "Epoch 14/20\n",
      "22774/22774 [==============================] - 4s 188us/step - loss: 0.6927 - acc: 0.5117 - val_loss: 0.6937 - val_acc: 0.4926\n",
      "Epoch 15/20\n",
      "22774/22774 [==============================] - 4s 176us/step - loss: 0.6923 - acc: 0.5120 - val_loss: 0.6941 - val_acc: 0.4941\n",
      "Epoch 16/20\n",
      "22774/22774 [==============================] - 4s 180us/step - loss: 0.6921 - acc: 0.5133 - val_loss: 0.6936 - val_acc: 0.4996\n",
      "Epoch 17/20\n",
      "22774/22774 [==============================] - 4s 177us/step - loss: 0.6921 - acc: 0.5142 - val_loss: 0.6949 - val_acc: 0.5024\n",
      "Epoch 18/20\n",
      "22774/22774 [==============================] - 4s 173us/step - loss: 0.6920 - acc: 0.5137 - val_loss: 0.6943 - val_acc: 0.4913\n",
      "Epoch 19/20\n",
      "22774/22774 [==============================] - 4s 173us/step - loss: 0.6919 - acc: 0.5168 - val_loss: 0.6940 - val_acc: 0.4976\n",
      "Epoch 20/20\n",
      "22774/22774 [==============================] - 4s 176us/step - loss: 0.6920 - acc: 0.5147 - val_loss: 0.6943 - val_acc: 0.5018\n"
     ]
    }
   ],
   "source": [
    "model = Sequential()\n",
    "model.add(Conv1D(6, kernel_size=3, input_shape=(118, 2), padding='same', activation='relu'))\n",
    "model.add(MaxPooling1D(pool_size=2))\n",
    "model.add(Conv1D(6, kernel_size=3, padding='same', activation='sigmoid'))\n",
    "model.add(MaxPooling1D(pool_size=2))\n",
    "model.add(Flatten())\n",
    "model.add(Dense(12, activation='sigmoid'))\n",
    "model.add(Dense(2, activation='softmax'))\n",
    "model.compile(loss='categorical_crossentropy', optimizer='adam', metrics=['accuracy'])\n",
    "history = model.fit(X_train, y_train, epochs=20, verbose=1, validation_data=(X_valid, y_valid))"
   ]
  },
  {
   "cell_type": "code",
   "execution_count": 27,
   "metadata": {},
   "outputs": [
    {
     "data": {
      "image/png": "[encoded data removed]",
      "text/plain": [
       "<Figure size 432x288 with 1 Axes>"
      ]
     },
     "metadata": {
      "needs_background": "light"
     },
     "output_type": "display_data"
    }
   ],
   "source": [
    "# results using training set and valid set \n",
    "plt.plot(history.history['acc'])\n",
    "plt.plot(history.history['val_acc'])\n",
    "plt.hlines(0.5, 0, 20, linestyles='dotted')\n",
    "plt.ylim(0.45, 0.55)\n",
    "plt.xticks(range(0, 20))\n",
    "plt.xlabel('epochs')\n",
    "plt.ylabel('accuracy')\n",
    "plt.legend(['train', 'valid']);"
   ]
  },
  {
   "cell_type": "code",
   "execution_count": 28,
   "metadata": {},
   "outputs": [
    {
     "name": "stdout",
     "output_type": "stream",
     "text": [
      "7592/7592 [==============================] - 1s 67us/step\n"
     ]
    },
    {
     "data": {
      "text/plain": [
       "[0.6942975087713517, 0.5018440463645943]"
      ]
     },
     "execution_count": 28,
     "metadata": {},
     "output_type": "execute_result"
    }
   ],
   "source": [
    "scores = model.evaluate(X_valid, y_valid, verbose=1)\n",
    "scores"
   ]
  },
  {
   "cell_type": "code",
   "execution_count": 29,
   "metadata": {
    "colab": {},
    "colab_type": "code",
    "id": "gVMgwIxat-_L"
   },
   "outputs": [
    {
     "data": {
      "text/html": [
       "<div>\n",
       "<style scoped>\n",
       "    .dataframe tbody tr th:only-of-type {\n",
       "        vertical-align: middle;\n",
       "    }\n",
       "\n",
       "    .dataframe tbody tr th {\n",
       "        vertical-align: top;\n",
       "    }\n",
       "\n",
       "    .dataframe thead th {\n",
       "        text-align: right;\n",
       "    }\n",
       "</style>\n",
       "<table border=\"1\" class=\"dataframe\">\n",
       "  <thead>\n",
       "    <tr style=\"text-align: right;\">\n",
       "      <th></th>\n",
       "      <th>predicted win prob</th>\n",
       "      <th>actual win rate</th>\n",
       "      <th>mean return</th>\n",
       "      <th># of trades</th>\n",
       "      <th>% of all trades</th>\n",
       "    </tr>\n",
       "    <tr>\n",
       "      <th>pred_prob_level</th>\n",
       "      <th></th>\n",
       "      <th></th>\n",
       "      <th></th>\n",
       "      <th></th>\n",
       "      <th></th>\n",
       "    </tr>\n",
       "  </thead>\n",
       "  <tbody>\n",
       "    <tr>\n",
       "      <th>0.25</th>\n",
       "      <td>0.288386</td>\n",
       "      <td>0.666667</td>\n",
       "      <td>0.463333</td>\n",
       "      <td>3</td>\n",
       "      <td>0.039515</td>\n",
       "    </tr>\n",
       "    <tr>\n",
       "      <th>0.30</th>\n",
       "      <td>0.335014</td>\n",
       "      <td>0.550000</td>\n",
       "      <td>1.390500</td>\n",
       "      <td>20</td>\n",
       "      <td>0.263435</td>\n",
       "    </tr>\n",
       "    <tr>\n",
       "      <th>0.35</th>\n",
       "      <td>0.381236</td>\n",
       "      <td>0.354839</td>\n",
       "      <td>0.063226</td>\n",
       "      <td>62</td>\n",
       "      <td>0.816649</td>\n",
       "    </tr>\n",
       "    <tr>\n",
       "      <th>0.40</th>\n",
       "      <td>0.432557</td>\n",
       "      <td>0.492582</td>\n",
       "      <td>0.616617</td>\n",
       "      <td>337</td>\n",
       "      <td>4.438883</td>\n",
       "    </tr>\n",
       "    <tr>\n",
       "      <th>0.45</th>\n",
       "      <td>0.484597</td>\n",
       "      <td>0.500000</td>\n",
       "      <td>0.294498</td>\n",
       "      <td>2728</td>\n",
       "      <td>35.932561</td>\n",
       "    </tr>\n",
       "    <tr>\n",
       "      <th>0.50</th>\n",
       "      <td>0.511539</td>\n",
       "      <td>0.500457</td>\n",
       "      <td>0.272422</td>\n",
       "      <td>4372</td>\n",
       "      <td>57.586934</td>\n",
       "    </tr>\n",
       "    <tr>\n",
       "      <th>0.55</th>\n",
       "      <td>0.562705</td>\n",
       "      <td>0.521739</td>\n",
       "      <td>-0.001159</td>\n",
       "      <td>69</td>\n",
       "      <td>0.908851</td>\n",
       "    </tr>\n",
       "    <tr>\n",
       "      <th>0.60</th>\n",
       "      <td>0.615891</td>\n",
       "      <td>1.000000</td>\n",
       "      <td>4.370000</td>\n",
       "      <td>1</td>\n",
       "      <td>0.013172</td>\n",
       "    </tr>\n",
       "  </tbody>\n",
       "</table>\n",
       "</div>"
      ],
      "text/plain": [
       "                 predicted win prob  actual win rate  mean return  \\\n",
       "pred_prob_level                                                     \n",
       "0.25                       0.288386         0.666667     0.463333   \n",
       "0.30                       0.335014         0.550000     1.390500   \n",
       "0.35                       0.381236         0.354839     0.063226   \n",
       "0.40                       0.432557         0.492582     0.616617   \n",
       "0.45                       0.484597         0.500000     0.294498   \n",
       "0.50                       0.511539         0.500457     0.272422   \n",
       "0.55                       0.562705         0.521739    -0.001159   \n",
       "0.60                       0.615891         1.000000     4.370000   \n",
       "\n",
       "                 # of trades  % of all trades  \n",
       "pred_prob_level                                \n",
       "0.25                       3         0.039515  \n",
       "0.30                      20         0.263435  \n",
       "0.35                      62         0.816649  \n",
       "0.40                     337         4.438883  \n",
       "0.45                    2728        35.932561  \n",
       "0.50                    4372        57.586934  \n",
       "0.55                      69         0.908851  \n",
       "0.60                       1         0.013172  "
      ]
     },
     "execution_count": 29,
     "metadata": {},
     "output_type": "execute_result"
    }
   ],
   "source": [
    "pred = model.predict(X_valid)\n",
    "pred_probs = pd.Series(pred[:, 1], name = \"pred_probs\")\n",
    "results = pd.concat([pred_probs, stock_data.y_valid.reset_index(drop = True), stock_data.valid_rtn.reset_index(drop = True)], \n",
    "                    axis = 1)\n",
    "results['pred_prob_level'] = [int(x * 20)/20 for x in results['pred_probs']]\n",
    "\n",
    "summary = pd.concat([results.groupby(['pred_prob_level']).mean(), \n",
    "                     results.groupby(['pred_prob_level']).count()['label'], \n",
    "                     100 * results.groupby(['pred_prob_level']).count()['label']/results.shape[0]], \n",
    "                    axis = 1)\n",
    "summary.columns = ['predicted win prob', 'actual win rate', 'mean return', '# of trades', '% of all trades']\n",
    "summary"
   ]
  },
  {
   "cell_type": "code",
   "execution_count": 30,
   "metadata": {},
   "outputs": [
    {
     "name": "stdout",
     "output_type": "stream",
     "text": [
      "Train on 22774 samples, validate on 10122 samples\n",
      "Epoch 1/20\n",
      "22774/22774 [==============================] - 5s 202us/step - loss: 0.6961 - acc: 0.5017 - val_loss: 0.7054 - val_acc: 0.4966\n",
      "Epoch 2/20\n",
      "22774/22774 [==============================] - 4s 173us/step - loss: 0.6936 - acc: 0.5017 - val_loss: 0.6932 - val_acc: 0.5041\n",
      "Epoch 3/20\n",
      "22774/22774 [==============================] - 4s 158us/step - loss: 0.6936 - acc: 0.5011 - val_loss: 0.6944 - val_acc: 0.4966\n",
      "Epoch 4/20\n",
      "22774/22774 [==============================] - 4s 164us/step - loss: 0.6934 - acc: 0.4969 - val_loss: 0.6933 - val_acc: 0.5042\n",
      "Epoch 5/20\n",
      "22774/22774 [==============================] - 4s 164us/step - loss: 0.6934 - acc: 0.4993 - val_loss: 0.6931 - val_acc: 0.5040\n",
      "Epoch 6/20\n",
      "22774/22774 [==============================] - 4s 162us/step - loss: 0.6934 - acc: 0.5027 - val_loss: 0.6931 - val_acc: 0.5052\n",
      "Epoch 7/20\n",
      "22774/22774 [==============================] - 4s 176us/step - loss: 0.6935 - acc: 0.5043 - val_loss: 0.6951 - val_acc: 0.4966\n",
      "Epoch 8/20\n",
      "22774/22774 [==============================] - 4s 176us/step - loss: 0.6934 - acc: 0.5037 - val_loss: 0.6930 - val_acc: 0.5055\n",
      "Epoch 9/20\n",
      "22774/22774 [==============================] - 4s 170us/step - loss: 0.6933 - acc: 0.5049 - val_loss: 0.6936 - val_acc: 0.4966\n",
      "Epoch 10/20\n",
      "22774/22774 [==============================] - 4s 163us/step - loss: 0.6933 - acc: 0.5051 - val_loss: 0.6930 - val_acc: 0.5040\n",
      "Epoch 11/20\n",
      "22774/22774 [==============================] - 4s 166us/step - loss: 0.6933 - acc: 0.5010 - val_loss: 0.6938 - val_acc: 0.4965\n",
      "Epoch 12/20\n",
      "22774/22774 [==============================] - 4s 164us/step - loss: 0.6931 - acc: 0.5015 - val_loss: 0.6943 - val_acc: 0.5003\n",
      "Epoch 13/20\n",
      "22774/22774 [==============================] - 4s 166us/step - loss: 0.6930 - acc: 0.5007 - val_loss: 0.6930 - val_acc: 0.5041\n",
      "Epoch 14/20\n",
      "22774/22774 [==============================] - 4s 172us/step - loss: 0.6926 - acc: 0.5090 - val_loss: 0.6933 - val_acc: 0.5038\n",
      "Epoch 15/20\n",
      "22774/22774 [==============================] - 4s 164us/step - loss: 0.6921 - acc: 0.5065 - val_loss: 0.6942 - val_acc: 0.5081\n",
      "Epoch 16/20\n",
      "22774/22774 [==============================] - 4s 166us/step - loss: 0.6916 - acc: 0.5086 - val_loss: 0.6970 - val_acc: 0.5004\n",
      "Epoch 17/20\n",
      "22774/22774 [==============================] - 4s 163us/step - loss: 0.6912 - acc: 0.5082 - val_loss: 0.6944 - val_acc: 0.5042\n",
      "Epoch 18/20\n",
      "22774/22774 [==============================] - 4s 162us/step - loss: 0.6902 - acc: 0.5182 - val_loss: 0.6940 - val_acc: 0.5088\n",
      "Epoch 19/20\n",
      "22774/22774 [==============================] - 4s 168us/step - loss: 0.6896 - acc: 0.5192 - val_loss: 0.6948 - val_acc: 0.5033\n",
      "Epoch 20/20\n",
      "22774/22774 [==============================] - 4s 171us/step - loss: 0.6886 - acc: 0.5240 - val_loss: 0.6964 - val_acc: 0.5018\n"
     ]
    }
   ],
   "source": [
    "model = Sequential()\n",
    "model.add(Conv1D(6, kernel_size=3, input_shape=(118, 2), padding='same', activation='relu'))\n",
    "# model.add(MaxPooling1D(pool_size=2))\n",
    "model.add(Conv1D(6, kernel_size=3, padding='same', activation='sigmoid'))\n",
    "# model.add(MaxPooling1D(pool_size=2))\n",
    "model.add(Flatten())\n",
    "model.add(Dense(12, activation='sigmoid'))\n",
    "model.add(Dense(2, activation='softmax'))\n",
    "model.compile(loss='categorical_crossentropy', optimizer='adam', metrics=['accuracy'])\n",
    "history = model.fit(X_train, y_train, epochs=20, verbose=1, validation_data=(X_test, y_test))"
   ]
  },
  {
   "cell_type": "code",
   "execution_count": 31,
   "metadata": {},
   "outputs": [
    {
     "data": {
      "image/png": "[encoded data removed]",
      "text/plain": [
       "<Figure size 432x288 with 1 Axes>"
      ]
     },
     "metadata": {
      "needs_background": "light"
     },
     "output_type": "display_data"
    }
   ],
   "source": [
    "# results using training set and test set \n",
    "plt.plot(history.history['acc'])\n",
    "plt.plot(history.history['val_acc'])\n",
    "plt.hlines(0.5, 0, 20, linestyles='dotted')\n",
    "plt.ylim(0.45, 0.55)\n",
    "plt.xticks(range(0, 20))\n",
    "plt.xlabel('epochs')\n",
    "plt.ylabel('accuracy')\n",
    "plt.legend(['train', 'test']);"
   ]
  },
  {
   "cell_type": "code",
   "execution_count": 32,
   "metadata": {
    "colab": {
     "base_uri": "https://localhost:8080/",
     "height": 50
    },
    "colab_type": "code",
    "id": "TGtoOZsaKWNV",
    "outputId": "fcf1d647-959e-4d4f-a60b-347d6b0e7704"
   },
   "outputs": [
    {
     "name": "stdout",
     "output_type": "stream",
     "text": [
      "10122/10122 [==============================] - 1s 62us/step\n"
     ]
    },
    {
     "data": {
      "text/plain": [
       "[0.6963855203868984, 0.501778304682869]"
      ]
     },
     "execution_count": 32,
     "metadata": {},
     "output_type": "execute_result"
    }
   ],
   "source": [
    "scores = model.evaluate(X_test, y_test, verbose=1)\n",
    "scores"
   ]
  },
  {
   "cell_type": "code",
   "execution_count": 33,
   "metadata": {
    "colab": {
     "base_uri": "https://localhost:8080/",
     "height": 195
    },
    "colab_type": "code",
    "id": "CKoZ2gtQlU0m",
    "outputId": "fe5250a9-ff5c-4081-fe91-4e0428832186"
   },
   "outputs": [
    {
     "data": {
      "text/html": [
       "<div>\n",
       "<style scoped>\n",
       "    .dataframe tbody tr th:only-of-type {\n",
       "        vertical-align: middle;\n",
       "    }\n",
       "\n",
       "    .dataframe tbody tr th {\n",
       "        vertical-align: top;\n",
       "    }\n",
       "\n",
       "    .dataframe thead th {\n",
       "        text-align: right;\n",
       "    }\n",
       "</style>\n",
       "<table border=\"1\" class=\"dataframe\">\n",
       "  <thead>\n",
       "    <tr style=\"text-align: right;\">\n",
       "      <th></th>\n",
       "      <th>predicted win prob</th>\n",
       "      <th>actual win rate</th>\n",
       "      <th>mean return</th>\n",
       "      <th># of trades</th>\n",
       "      <th>% of all trades</th>\n",
       "    </tr>\n",
       "    <tr>\n",
       "      <th>pred_prob_level</th>\n",
       "      <th></th>\n",
       "      <th></th>\n",
       "      <th></th>\n",
       "      <th></th>\n",
       "      <th></th>\n",
       "    </tr>\n",
       "  </thead>\n",
       "  <tbody>\n",
       "    <tr>\n",
       "      <th>0.10</th>\n",
       "      <td>0.109618</td>\n",
       "      <td>0.000000</td>\n",
       "      <td>-3.215000</td>\n",
       "      <td>2</td>\n",
       "      <td>0.019759</td>\n",
       "    </tr>\n",
       "    <tr>\n",
       "      <th>0.15</th>\n",
       "      <td>0.180316</td>\n",
       "      <td>0.142857</td>\n",
       "      <td>-1.222857</td>\n",
       "      <td>7</td>\n",
       "      <td>0.069156</td>\n",
       "    </tr>\n",
       "    <tr>\n",
       "      <th>0.20</th>\n",
       "      <td>0.231251</td>\n",
       "      <td>0.555556</td>\n",
       "      <td>-0.037222</td>\n",
       "      <td>18</td>\n",
       "      <td>0.177830</td>\n",
       "    </tr>\n",
       "    <tr>\n",
       "      <th>0.25</th>\n",
       "      <td>0.277042</td>\n",
       "      <td>0.538462</td>\n",
       "      <td>1.016154</td>\n",
       "      <td>52</td>\n",
       "      <td>0.513732</td>\n",
       "    </tr>\n",
       "    <tr>\n",
       "      <th>0.30</th>\n",
       "      <td>0.328620</td>\n",
       "      <td>0.413793</td>\n",
       "      <td>0.210115</td>\n",
       "      <td>87</td>\n",
       "      <td>0.859514</td>\n",
       "    </tr>\n",
       "    <tr>\n",
       "      <th>0.35</th>\n",
       "      <td>0.376400</td>\n",
       "      <td>0.507576</td>\n",
       "      <td>0.475000</td>\n",
       "      <td>132</td>\n",
       "      <td>1.304090</td>\n",
       "    </tr>\n",
       "    <tr>\n",
       "      <th>0.40</th>\n",
       "      <td>0.430472</td>\n",
       "      <td>0.477723</td>\n",
       "      <td>0.307698</td>\n",
       "      <td>404</td>\n",
       "      <td>3.991306</td>\n",
       "    </tr>\n",
       "    <tr>\n",
       "      <th>0.45</th>\n",
       "      <td>0.480176</td>\n",
       "      <td>0.503102</td>\n",
       "      <td>0.240239</td>\n",
       "      <td>7736</td>\n",
       "      <td>76.427583</td>\n",
       "    </tr>\n",
       "    <tr>\n",
       "      <th>0.50</th>\n",
       "      <td>0.517993</td>\n",
       "      <td>0.517369</td>\n",
       "      <td>0.339993</td>\n",
       "      <td>1353</td>\n",
       "      <td>13.366924</td>\n",
       "    </tr>\n",
       "    <tr>\n",
       "      <th>0.55</th>\n",
       "      <td>0.570648</td>\n",
       "      <td>0.500000</td>\n",
       "      <td>0.327936</td>\n",
       "      <td>218</td>\n",
       "      <td>2.153725</td>\n",
       "    </tr>\n",
       "    <tr>\n",
       "      <th>0.60</th>\n",
       "      <td>0.620607</td>\n",
       "      <td>0.500000</td>\n",
       "      <td>0.676618</td>\n",
       "      <td>68</td>\n",
       "      <td>0.671804</td>\n",
       "    </tr>\n",
       "    <tr>\n",
       "      <th>0.65</th>\n",
       "      <td>0.674937</td>\n",
       "      <td>0.653846</td>\n",
       "      <td>0.756923</td>\n",
       "      <td>26</td>\n",
       "      <td>0.256866</td>\n",
       "    </tr>\n",
       "    <tr>\n",
       "      <th>0.70</th>\n",
       "      <td>0.722373</td>\n",
       "      <td>0.461538</td>\n",
       "      <td>-0.034615</td>\n",
       "      <td>13</td>\n",
       "      <td>0.128433</td>\n",
       "    </tr>\n",
       "    <tr>\n",
       "      <th>0.75</th>\n",
       "      <td>0.767491</td>\n",
       "      <td>0.400000</td>\n",
       "      <td>-0.036000</td>\n",
       "      <td>5</td>\n",
       "      <td>0.049397</td>\n",
       "    </tr>\n",
       "    <tr>\n",
       "      <th>0.80</th>\n",
       "      <td>0.820971</td>\n",
       "      <td>0.000000</td>\n",
       "      <td>-4.350000</td>\n",
       "      <td>1</td>\n",
       "      <td>0.009879</td>\n",
       "    </tr>\n",
       "  </tbody>\n",
       "</table>\n",
       "</div>"
      ],
      "text/plain": [
       "                 predicted win prob  actual win rate  mean return  \\\n",
       "pred_prob_level                                                     \n",
       "0.10                       0.109618         0.000000    -3.215000   \n",
       "0.15                       0.180316         0.142857    -1.222857   \n",
       "0.20                       0.231251         0.555556    -0.037222   \n",
       "0.25                       0.277042         0.538462     1.016154   \n",
       "0.30                       0.328620         0.413793     0.210115   \n",
       "0.35                       0.376400         0.507576     0.475000   \n",
       "0.40                       0.430472         0.477723     0.307698   \n",
       "0.45                       0.480176         0.503102     0.240239   \n",
       "0.50                       0.517993         0.517369     0.339993   \n",
       "0.55                       0.570648         0.500000     0.327936   \n",
       "0.60                       0.620607         0.500000     0.676618   \n",
       "0.65                       0.674937         0.653846     0.756923   \n",
       "0.70                       0.722373         0.461538    -0.034615   \n",
       "0.75                       0.767491         0.400000    -0.036000   \n",
       "0.80                       0.820971         0.000000    -4.350000   \n",
       "\n",
       "                 # of trades  % of all trades  \n",
       "pred_prob_level                                \n",
       "0.10                       2         0.019759  \n",
       "0.15                       7         0.069156  \n",
       "0.20                      18         0.177830  \n",
       "0.25                      52         0.513732  \n",
       "0.30                      87         0.859514  \n",
       "0.35                     132         1.304090  \n",
       "0.40                     404         3.991306  \n",
       "0.45                    7736        76.427583  \n",
       "0.50                    1353        13.366924  \n",
       "0.55                     218         2.153725  \n",
       "0.60                      68         0.671804  \n",
       "0.65                      26         0.256866  \n",
       "0.70                      13         0.128433  \n",
       "0.75                       5         0.049397  \n",
       "0.80                       1         0.009879  "
      ]
     },
     "execution_count": 33,
     "metadata": {},
     "output_type": "execute_result"
    }
   ],
   "source": [
    "pred = model.predict(X_test)\n",
    "pred_probs = pd.Series(pred[:, 1], name = \"pred_probs\")\n",
    "results = pd.concat([pred_probs, stock_data.y_test.reset_index(drop = True), stock_data.test_rtn.reset_index(drop = True)], \n",
    "                    axis = 1)\n",
    "results['pred_prob_level'] = [int(x * 20)/20 for x in results['pred_probs']]\n",
    "\n",
    "summary = pd.concat([results.groupby(['pred_prob_level']).mean(), \n",
    "                     results.groupby(['pred_prob_level']).count()['label'], \n",
    "                     100 * results.groupby(['pred_prob_level']).count()['label']/results.shape[0]], \n",
    "                    axis = 1)\n",
    "summary.columns = ['predicted win prob', 'actual win rate', 'mean return', '# of trades', '% of all trades']\n",
    "summary"
   ]
  },
  {
   "cell_type": "code",
   "execution_count": null,
   "metadata": {},
   "outputs": [],
   "source": []
  }
 ],
 "metadata": {
  "accelerator": "GPU",
  "colab": {
   "collapsed_sections": [],
   "name": "Seahorse_CNN1.ipynb",
   "provenance": [],
   "version": "0.3.2"
  },
  "kernelspec": {
   "display_name": "Python 3",
   "language": "python",
   "name": "python3"
  },
  "language_info": {
   "codemirror_mode": {
    "name": "ipython",
    "version": 3
   },
   "file_extension": ".py",
   "mimetype": "text/x-python",
   "name": "python",
   "nbconvert_exporter": "python",
   "pygments_lexer": "ipython3",
   "version": "3.7.3"
  }
 },
 "nbformat": 4,
 "nbformat_minor": 1
}
