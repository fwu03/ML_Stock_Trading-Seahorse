{
 "cells": [
  {
   "cell_type": "markdown",
   "metadata": {},
   "source": [
    "## Conv1D, using only osc and price data, 9 days"
   ]
  },
  {
   "cell_type": "code",
   "execution_count": 1,
   "metadata": {
    "colab": {},
    "colab_type": "code",
    "id": "W69sW5ZHFgjM"
   },
   "outputs": [],
   "source": [
    "import pandas as pd\n",
    "import numpy as np\n",
    "import scipy.signal\n",
    "from sys import getsizeof\n",
    "import matplotlib.pyplot as plt\n",
    "import re \n",
    "import os"
   ]
  },
  {
   "cell_type": "code",
   "execution_count": 2,
   "metadata": {
    "colab": {},
    "colab_type": "code",
    "id": "BMGbfyNVHNea"
   },
   "outputs": [
    {
     "name": "stderr",
     "output_type": "stream",
     "text": [
      "Using TensorFlow backend.\n"
     ]
    }
   ],
   "source": [
    "from sklearn.model_selection import train_test_split\n",
    "from sklearn.metrics import precision_score, classification_report\n",
    "from keras.layers import Dense, Dropout, Flatten, Activation, Conv1D, MaxPooling1D, Conv2D, MaxPooling2D\n",
    "from keras.models import Sequential, Model, clone_model\n",
    "from keras.utils import np_utils\n",
    "from keras.utils import to_categorical"
   ]
  },
  {
   "cell_type": "code",
   "execution_count": 12,
   "metadata": {},
   "outputs": [],
   "source": [
    "def normalize_data(data): \n",
    "    for i in range(data.shape[0]): \n",
    "        row = data.iloc[i, :] \n",
    "        data.iloc[i, :] = (row - min(row))/(max(row) - min(row)) \n",
    "    return data"
   ]
  },
  {
   "cell_type": "code",
   "execution_count": 47,
   "metadata": {},
   "outputs": [],
   "source": [
    "def read_data_files():\n",
    "    data = pd.DataFrame()\n",
    "    \n",
    "    for filename in os.listdir('../data/UBC/'):\n",
    "        if filename.endswith(\".txt\"): \n",
    "            # print('working on ', filename)\n",
    "            tmp_df = pd.read_csv(os.path.join('../data/UBC/', filename), delimiter= '\\s+', header = None)\n",
    "            tmp_df = tmp_df.astype(float)\n",
    "            # symbol = filename.split(\"1\")[0]\n",
    "            # tmp_df = pd.concat([pd.Series([symbol] * tmp_df.shape[0], name = 'symbol'), tmp_df], axis=1)\n",
    "            tmp_df = tmp_df.iloc[20:,:]\n",
    "            tmp_df[180] = (tmp_df[179] + tmp_df[181])/2    # column 180 data is wrong, so replace it with mean value of column 179 and 181\n",
    "            data = pd.concat([data, tmp_df])\n",
    "    \n",
    "    # adjust price data\n",
    "    for i in range(118):\n",
    "        data[235-i] = data[235-i]/data[118] \n",
    "        \n",
    "    osc_names = ['osc' + str(i) for i in range(118)]\n",
    "    prc_names = ['prc' + str(i) for i in range(118)]\n",
    "    macd_names = ['macd' + str(i) for i in range(118)]\n",
    "    data.columns = osc_names + prc_names + macd_names + ['rtn']\n",
    "    \n",
    "    osc_data = data.iloc[:, :118].reset_index(drop=True)\n",
    "    osc_data = osc_data[osc_data.columns[::-1]]\n",
    "    # osc_data = normalize_data(osc_data)\n",
    "    \n",
    "    prc_data = data.iloc[:, 118:236].reset_index(drop=True)\n",
    "    prc_data = prc_data[prc_data.columns[::-1]]\n",
    "    # prc_data = normalize_data(prc_data)\n",
    "    \n",
    "    macd_data = data.iloc[:, 236:354].reset_index(drop=True)\n",
    "    macd_data = macd_data[macd_data.columns[::-1]]\n",
    "    # macd_data = normalize_data(macd_data) \n",
    "    \n",
    "    rtn = data['rtn'].reset_index(drop=True)\n",
    "    label = pd.Series(map(lambda x: 1 if x>0 else 0, rtn), name = 'label')\n",
    "    \n",
    "    # data = pd.concat([osc_data, prc_data, macd_data, rtn, label], axis=1)\n",
    "    data = pd.concat([osc_data, prc_data, rtn, label], axis=1)\n",
    "    data = data.reset_index(drop=True)\n",
    "    \n",
    "    return data"
   ]
  },
  {
   "cell_type": "code",
   "execution_count": 4,
   "metadata": {},
   "outputs": [],
   "source": [
    "def remove_duplicates(data):\n",
    "    # target_names = list(data.columns)\n",
    "    # del target_names[0]\n",
    "    clean_data = data.drop_duplicates()\n",
    "    clean_data= clean_data.reset_index(drop=True)\n",
    "    return clean_data"
   ]
  },
  {
   "cell_type": "code",
   "execution_count": 5,
   "metadata": {},
   "outputs": [],
   "source": [
    "def remove_extreme_values(data): \n",
    "    data = data[(data['osc1'] > -7) & (data['osc1'] < 7)] \n",
    "    data = data.reset_index(drop=True)\n",
    "    return data"
   ]
  },
  {
   "cell_type": "code",
   "execution_count": 6,
   "metadata": {},
   "outputs": [],
   "source": [
    "def remove_pos_values(data):\n",
    "    data = data[data['osc1'] < 0]\n",
    "    data = data.reset_index(drop=True)\n",
    "    return data"
   ]
  },
  {
   "cell_type": "code",
   "execution_count": 17,
   "metadata": {},
   "outputs": [],
   "source": [
    "def calc_derivative(data, name):\n",
    "    derivatives = []\n",
    "    for i in range(data.shape[0]):\n",
    "        i_derivative = list(np.gradient(pd.Series(data.iloc[i,:])))\n",
    "        derivatives.append(i_derivative)\n",
    "    \n",
    "    names = []\n",
    "    for i in range(data.shape[1]):\n",
    "        names.append(name + \"_d\"+ str(40-i)) \n",
    "    \n",
    "    return pd.DataFrame(derivatives, columns=names, index=data.index)"
   ]
  },
  {
   "cell_type": "code",
   "execution_count": 18,
   "metadata": {},
   "outputs": [],
   "source": [
    "def add_derivatives(data):\n",
    "    osc = data.iloc[:, :118]\n",
    "    # prc = data.iloc[:, 118:236]\n",
    "    # macd = data.iloc[:, 236:354]\n",
    "    \n",
    "    rtn = data['rtn']\n",
    "    label = data['label'] \n",
    "    \n",
    "    osc_drv = calc_derivative(osc, 'osc')\n",
    "    # prc_drv = calc_derivative(prc, 'prc')\n",
    "    # macd_drv = calc_derivative(macd, 'macd')\n",
    "    \n",
    "    data = pd.concat([osc, osc_drv, rtn, label], axis=1)\n",
    "    return data"
   ]
  },
  {
   "cell_type": "code",
   "execution_count": 7,
   "metadata": {
    "colab": {},
    "colab_type": "code",
    "id": "Fcq6zQ8KJaU9"
   },
   "outputs": [],
   "source": [
    "class StockData():\n",
    "    def __init__(self, data):\n",
    "\n",
    "        # balance the data set \n",
    "        pos_data = data[data['label'] == 1]\n",
    "        neg_data = data[data['label'] == 0]\n",
    "        if pos_data.shape[0] > neg_data.shape[0]:\n",
    "            pos_data = pos_data.sample(neg_data.shape[0])\n",
    "        else:\n",
    "            neg_data = neg_data.sample(pos_data.shape[0])\n",
    "        data = pd.concat([pos_data, neg_data], axis = 0)\n",
    "        data = data.reset_index(drop = True) \n",
    "        \n",
    "        X = data.iloc[:, :-1]\n",
    "        y = data['label']\n",
    "        \n",
    "        X_train_valid_w_rtn, X_test_w_rtn, y_train_valid, y_test = train_test_split(X, y, test_size=0.25) \n",
    "        # train_valid set\n",
    "        self.train_valid_rtn = X_train_valid_w_rtn['rtn']\n",
    "        self.X_train_valid = X_train_valid_w_rtn.drop(['rtn'], axis = 1)\n",
    "        self.y_train_valid = y_train_valid\n",
    "        \n",
    "        X_train_w_rtn, X_valid_w_rtn, y_train, y_valid = train_test_split(X_train_valid_w_rtn, y_train_valid, test_size=0.25) \n",
    "        # training set \n",
    "        self.train_rtn = X_train_w_rtn['rtn'] \n",
    "        self.X_train = X_train_w_rtn.drop(['rtn'], axis = 1)\n",
    "        self.y_train = y_train\n",
    "        # validation set\n",
    "        self.valid_rtn = X_valid_w_rtn['rtn']\n",
    "        self.X_valid = X_valid_w_rtn.drop(['rtn'], axis = 1) \n",
    "        self.y_valid = y_valid\n",
    "        # test set \n",
    "        self.test_rtn = X_test_w_rtn['rtn']\n",
    "        self.X_test = X_test_w_rtn.drop(['rtn'], axis = 1)        \n",
    "        self.y_test = y_test "
   ]
  },
  {
   "cell_type": "code",
   "execution_count": 48,
   "metadata": {},
   "outputs": [
    {
     "name": "stdout",
     "output_type": "stream",
     "text": [
      "(49109, 238)\n"
     ]
    }
   ],
   "source": [
    "data = read_data_files()\n",
    "data = remove_duplicates(data) \n",
    "data = remove_extreme_values(data)\n",
    "data = remove_pos_values(data)\n",
    "print(data.shape)\n",
    "# print(data.columns.values)"
   ]
  },
  {
   "cell_type": "code",
   "execution_count": 49,
   "metadata": {},
   "outputs": [
    {
     "name": "stdout",
     "output_type": "stream",
     "text": [
      "(22774, 236)\n",
      "(7592, 236)\n",
      "(10122, 236)\n"
     ]
    }
   ],
   "source": [
    "stock_data = StockData(data)\n",
    "print(stock_data.X_train.shape)\n",
    "print(stock_data.X_valid.shape)\n",
    "print(stock_data.X_test.shape)"
   ]
  },
  {
   "cell_type": "code",
   "execution_count": 50,
   "metadata": {
    "colab": {
     "base_uri": "https://localhost:8080/",
     "height": 34
    },
    "colab_type": "code",
    "id": "P_3-kYuuddSR",
    "outputId": "6b6e2b40-9189-4fea-f229-9073b4b48b9d"
   },
   "outputs": [
    {
     "name": "stdout",
     "output_type": "stream",
     "text": [
      "0.4990778958461403\n",
      "0.5040832455216017\n",
      "0.49901205295396167\n"
     ]
    }
   ],
   "source": [
    "# check how balanced are the three data sets\n",
    "print(sum(stock_data.y_train)/stock_data.y_train.shape[0])\n",
    "print(sum(stock_data.y_valid)/stock_data.y_valid.shape[0])\n",
    "print(sum(stock_data.y_test)/stock_data.y_test.shape[0])"
   ]
  },
  {
   "cell_type": "code",
   "execution_count": 51,
   "metadata": {
    "colab": {},
    "colab_type": "code",
    "id": "4QcojuDZGhFF"
   },
   "outputs": [],
   "source": [
    "X_train = np.array(stock_data.X_train).reshape(stock_data.X_train.shape[0], 2, 118)\n",
    "y_train = to_categorical(stock_data.y_train)\n",
    "X_valid = np.array(stock_data.X_valid).reshape(stock_data.X_valid.shape[0], 2, 118)\n",
    "y_valid = to_categorical(stock_data.y_valid)\n",
    "X_test = np.array(stock_data.X_test).reshape(stock_data.X_test.shape[0], 2, 118)\n",
    "y_test = to_categorical(stock_data.y_test)"
   ]
  },
  {
   "cell_type": "code",
   "execution_count": 52,
   "metadata": {
    "colab": {},
    "colab_type": "code",
    "id": "mg79UA8QYGIL"
   },
   "outputs": [],
   "source": [
    "X_train = np.transpose(X_train, (0, 2, 1))\n",
    "X_valid = np.transpose(X_valid, (0, 2, 1))\n",
    "X_test = np.transpose(X_test, (0, 2, 1))"
   ]
  },
  {
   "cell_type": "code",
   "execution_count": 53,
   "metadata": {
    "colab": {
     "base_uri": "https://localhost:8080/",
     "height": 826
    },
    "colab_type": "code",
    "id": "zxMFiFbkGiqD",
    "outputId": "6a319e01-a04d-4115-f08c-a7d1e50a282f"
   },
   "outputs": [],
   "source": [
    "model = Sequential()\n",
    "model.add(Conv1D(32, kernel_size=6, input_shape=(118, 2), activation='relu'))\n",
    "model.add(MaxPooling1D(pool_size=2))\n",
    "model.add(Conv1D(32, kernel_size=6, activation='relu'))\n",
    "model.add(Flatten())\n",
    "model.add(Dense(32, activation='relu'))\n",
    "model.add(Dense(32, activation='relu'))\n",
    "model.add(Dense(2, activation='softmax'))\n",
    "model.compile(loss='categorical_crossentropy', optimizer='adam', metrics=['accuracy'])\n",
    "history = model.fit(X_train, y_train, epochs=40, verbose=0, validation_data=(X_valid, y_valid))"
   ]
  },
  {
   "cell_type": "code",
   "execution_count": 54,
   "metadata": {},
   "outputs": [
    {
     "data": {
      "image/png": "[encoded data removed]",
      "text/plain": [
       "<Figure size 432x288 with 1 Axes>"
      ]
     },
     "metadata": {
      "needs_background": "light"
     },
     "output_type": "display_data"
    }
   ],
   "source": [
    "# results using training set and valid set \n",
    "plt.plot(history.history['acc'])\n",
    "plt.plot(history.history['val_acc'])\n",
    "plt.hlines(0.5, 0, 40, linestyles='dotted')\n",
    "plt.ylim(0.45, 1)\n",
    "plt.xticks(range(0, 40))\n",
    "plt.xlabel('epochs')\n",
    "plt.ylabel('accuracy')\n",
    "plt.legend(['train', 'valid']);"
   ]
  },
  {
   "cell_type": "code",
   "execution_count": 55,
   "metadata": {},
   "outputs": [
    {
     "name": "stdout",
     "output_type": "stream",
     "text": [
      "7592/7592 [==============================] - 1s 115us/step\n"
     ]
    },
    {
     "data": {
      "text/plain": [
       "[0.7015084672652507, 0.5063224446786091]"
      ]
     },
     "execution_count": 55,
     "metadata": {},
     "output_type": "execute_result"
    }
   ],
   "source": [
    "scores = model.evaluate(X_valid, y_valid, verbose=1)\n",
    "scores"
   ]
  },
  {
   "cell_type": "code",
   "execution_count": 56,
   "metadata": {
    "colab": {},
    "colab_type": "code",
    "id": "gVMgwIxat-_L"
   },
   "outputs": [
    {
     "data": {
      "text/html": [
       "<div>\n",
       "<style scoped>\n",
       "    .dataframe tbody tr th:only-of-type {\n",
       "        vertical-align: middle;\n",
       "    }\n",
       "\n",
       "    .dataframe tbody tr th {\n",
       "        vertical-align: top;\n",
       "    }\n",
       "\n",
       "    .dataframe thead th {\n",
       "        text-align: right;\n",
       "    }\n",
       "</style>\n",
       "<table border=\"1\" class=\"dataframe\">\n",
       "  <thead>\n",
       "    <tr style=\"text-align: right;\">\n",
       "      <th></th>\n",
       "      <th>predicted win prob</th>\n",
       "      <th>actual win rate</th>\n",
       "      <th>mean return</th>\n",
       "      <th># of trades</th>\n",
       "      <th>% of all trades</th>\n",
       "    </tr>\n",
       "    <tr>\n",
       "      <th>pred_prob_level</th>\n",
       "      <th></th>\n",
       "      <th></th>\n",
       "      <th></th>\n",
       "      <th></th>\n",
       "      <th></th>\n",
       "    </tr>\n",
       "  </thead>\n",
       "  <tbody>\n",
       "    <tr>\n",
       "      <th>0.00</th>\n",
       "      <td>0.015476</td>\n",
       "      <td>0.200000</td>\n",
       "      <td>-1.536000</td>\n",
       "      <td>5</td>\n",
       "      <td>0.065859</td>\n",
       "    </tr>\n",
       "    <tr>\n",
       "      <th>0.05</th>\n",
       "      <td>0.080259</td>\n",
       "      <td>0.500000</td>\n",
       "      <td>0.450000</td>\n",
       "      <td>10</td>\n",
       "      <td>0.131718</td>\n",
       "    </tr>\n",
       "    <tr>\n",
       "      <th>0.10</th>\n",
       "      <td>0.140198</td>\n",
       "      <td>0.125000</td>\n",
       "      <td>-2.400000</td>\n",
       "      <td>8</td>\n",
       "      <td>0.105374</td>\n",
       "    </tr>\n",
       "    <tr>\n",
       "      <th>0.15</th>\n",
       "      <td>0.178759</td>\n",
       "      <td>0.600000</td>\n",
       "      <td>0.592000</td>\n",
       "      <td>15</td>\n",
       "      <td>0.197576</td>\n",
       "    </tr>\n",
       "    <tr>\n",
       "      <th>0.20</th>\n",
       "      <td>0.236987</td>\n",
       "      <td>0.400000</td>\n",
       "      <td>1.203000</td>\n",
       "      <td>10</td>\n",
       "      <td>0.131718</td>\n",
       "    </tr>\n",
       "    <tr>\n",
       "      <th>0.25</th>\n",
       "      <td>0.275115</td>\n",
       "      <td>0.550000</td>\n",
       "      <td>0.146750</td>\n",
       "      <td>40</td>\n",
       "      <td>0.526870</td>\n",
       "    </tr>\n",
       "    <tr>\n",
       "      <th>0.30</th>\n",
       "      <td>0.327662</td>\n",
       "      <td>0.505618</td>\n",
       "      <td>0.659888</td>\n",
       "      <td>89</td>\n",
       "      <td>1.172287</td>\n",
       "    </tr>\n",
       "    <tr>\n",
       "      <th>0.35</th>\n",
       "      <td>0.377811</td>\n",
       "      <td>0.502165</td>\n",
       "      <td>0.270216</td>\n",
       "      <td>231</td>\n",
       "      <td>3.042677</td>\n",
       "    </tr>\n",
       "    <tr>\n",
       "      <th>0.40</th>\n",
       "      <td>0.428876</td>\n",
       "      <td>0.497427</td>\n",
       "      <td>0.344494</td>\n",
       "      <td>583</td>\n",
       "      <td>7.679136</td>\n",
       "    </tr>\n",
       "    <tr>\n",
       "      <th>0.45</th>\n",
       "      <td>0.480519</td>\n",
       "      <td>0.497107</td>\n",
       "      <td>0.343399</td>\n",
       "      <td>2074</td>\n",
       "      <td>27.318230</td>\n",
       "    </tr>\n",
       "    <tr>\n",
       "      <th>0.50</th>\n",
       "      <td>0.520168</td>\n",
       "      <td>0.512338</td>\n",
       "      <td>0.252499</td>\n",
       "      <td>4093</td>\n",
       "      <td>53.912013</td>\n",
       "    </tr>\n",
       "    <tr>\n",
       "      <th>0.55</th>\n",
       "      <td>0.568143</td>\n",
       "      <td>0.472789</td>\n",
       "      <td>0.381224</td>\n",
       "      <td>294</td>\n",
       "      <td>3.872497</td>\n",
       "    </tr>\n",
       "    <tr>\n",
       "      <th>0.60</th>\n",
       "      <td>0.622037</td>\n",
       "      <td>0.492958</td>\n",
       "      <td>0.435211</td>\n",
       "      <td>71</td>\n",
       "      <td>0.935195</td>\n",
       "    </tr>\n",
       "    <tr>\n",
       "      <th>0.65</th>\n",
       "      <td>0.673450</td>\n",
       "      <td>0.500000</td>\n",
       "      <td>-0.030385</td>\n",
       "      <td>26</td>\n",
       "      <td>0.342466</td>\n",
       "    </tr>\n",
       "    <tr>\n",
       "      <th>0.70</th>\n",
       "      <td>0.723914</td>\n",
       "      <td>0.428571</td>\n",
       "      <td>0.513571</td>\n",
       "      <td>14</td>\n",
       "      <td>0.184405</td>\n",
       "    </tr>\n",
       "    <tr>\n",
       "      <th>0.75</th>\n",
       "      <td>0.770181</td>\n",
       "      <td>0.454545</td>\n",
       "      <td>0.761818</td>\n",
       "      <td>11</td>\n",
       "      <td>0.144889</td>\n",
       "    </tr>\n",
       "    <tr>\n",
       "      <th>0.80</th>\n",
       "      <td>0.818654</td>\n",
       "      <td>0.500000</td>\n",
       "      <td>1.771667</td>\n",
       "      <td>6</td>\n",
       "      <td>0.079031</td>\n",
       "    </tr>\n",
       "    <tr>\n",
       "      <th>0.85</th>\n",
       "      <td>0.869793</td>\n",
       "      <td>0.166667</td>\n",
       "      <td>-1.488333</td>\n",
       "      <td>6</td>\n",
       "      <td>0.079031</td>\n",
       "    </tr>\n",
       "    <tr>\n",
       "      <th>0.90</th>\n",
       "      <td>0.920530</td>\n",
       "      <td>0.333333</td>\n",
       "      <td>-0.353333</td>\n",
       "      <td>3</td>\n",
       "      <td>0.039515</td>\n",
       "    </tr>\n",
       "    <tr>\n",
       "      <th>0.95</th>\n",
       "      <td>0.988549</td>\n",
       "      <td>1.000000</td>\n",
       "      <td>1.185000</td>\n",
       "      <td>2</td>\n",
       "      <td>0.026344</td>\n",
       "    </tr>\n",
       "    <tr>\n",
       "      <th>1.00</th>\n",
       "      <td>1.000000</td>\n",
       "      <td>1.000000</td>\n",
       "      <td>18.690000</td>\n",
       "      <td>1</td>\n",
       "      <td>0.013172</td>\n",
       "    </tr>\n",
       "  </tbody>\n",
       "</table>\n",
       "</div>"
      ],
      "text/plain": [
       "                 predicted win prob  actual win rate  mean return  \\\n",
       "pred_prob_level                                                     \n",
       "0.00                       0.015476         0.200000    -1.536000   \n",
       "0.05                       0.080259         0.500000     0.450000   \n",
       "0.10                       0.140198         0.125000    -2.400000   \n",
       "0.15                       0.178759         0.600000     0.592000   \n",
       "0.20                       0.236987         0.400000     1.203000   \n",
       "0.25                       0.275115         0.550000     0.146750   \n",
       "0.30                       0.327662         0.505618     0.659888   \n",
       "0.35                       0.377811         0.502165     0.270216   \n",
       "0.40                       0.428876         0.497427     0.344494   \n",
       "0.45                       0.480519         0.497107     0.343399   \n",
       "0.50                       0.520168         0.512338     0.252499   \n",
       "0.55                       0.568143         0.472789     0.381224   \n",
       "0.60                       0.622037         0.492958     0.435211   \n",
       "0.65                       0.673450         0.500000    -0.030385   \n",
       "0.70                       0.723914         0.428571     0.513571   \n",
       "0.75                       0.770181         0.454545     0.761818   \n",
       "0.80                       0.818654         0.500000     1.771667   \n",
       "0.85                       0.869793         0.166667    -1.488333   \n",
       "0.90                       0.920530         0.333333    -0.353333   \n",
       "0.95                       0.988549         1.000000     1.185000   \n",
       "1.00                       1.000000         1.000000    18.690000   \n",
       "\n",
       "                 # of trades  % of all trades  \n",
       "pred_prob_level                                \n",
       "0.00                       5         0.065859  \n",
       "0.05                      10         0.131718  \n",
       "0.10                       8         0.105374  \n",
       "0.15                      15         0.197576  \n",
       "0.20                      10         0.131718  \n",
       "0.25                      40         0.526870  \n",
       "0.30                      89         1.172287  \n",
       "0.35                     231         3.042677  \n",
       "0.40                     583         7.679136  \n",
       "0.45                    2074        27.318230  \n",
       "0.50                    4093        53.912013  \n",
       "0.55                     294         3.872497  \n",
       "0.60                      71         0.935195  \n",
       "0.65                      26         0.342466  \n",
       "0.70                      14         0.184405  \n",
       "0.75                      11         0.144889  \n",
       "0.80                       6         0.079031  \n",
       "0.85                       6         0.079031  \n",
       "0.90                       3         0.039515  \n",
       "0.95                       2         0.026344  \n",
       "1.00                       1         0.013172  "
      ]
     },
     "execution_count": 56,
     "metadata": {},
     "output_type": "execute_result"
    }
   ],
   "source": [
    "pred = model.predict(X_valid)\n",
    "pred_probs = pd.Series(pred[:, 1], name = \"pred_probs\")\n",
    "results = pd.concat([pred_probs, stock_data.y_valid.reset_index(drop = True), stock_data.valid_rtn.reset_index(drop = True)], \n",
    "                    axis = 1)\n",
    "results['pred_prob_level'] = [int(x * 20)/20 for x in results['pred_probs']]\n",
    "\n",
    "summary = pd.concat([results.groupby(['pred_prob_level']).mean(), \n",
    "                     results.groupby(['pred_prob_level']).count()['label'], \n",
    "                     100 * results.groupby(['pred_prob_level']).count()['label']/results.shape[0]], \n",
    "                    axis = 1)\n",
    "summary.columns = ['predicted win prob', 'actual win rate', 'mean return', '# of trades', '% of all trades']\n",
    "summary"
   ]
  },
  {
   "cell_type": "code",
   "execution_count": 57,
   "metadata": {},
   "outputs": [],
   "source": [
    "model = Sequential()\n",
    "model.add(Conv1D(32, kernel_size=6, input_shape=(118, 2), activation='relu'))\n",
    "model.add(MaxPooling1D(pool_size=2))\n",
    "model.add(Conv1D(32, kernel_size=6, activation='relu'))\n",
    "model.add(Flatten())\n",
    "model.add(Dense(32, activation='relu'))\n",
    "model.add(Dense(32, activation='relu'))\n",
    "model.add(Dense(2, activation='softmax'))\n",
    "model.compile(loss='categorical_crossentropy', optimizer='adam', metrics=['accuracy'])\n",
    "history = model.fit(X_train, y_train, epochs=40, verbose=0, validation_data=(X_test, y_test))"
   ]
  },
  {
   "cell_type": "code",
   "execution_count": 58,
   "metadata": {},
   "outputs": [
    {
     "data": {
      "image/png": "[encoded data removed]",
      "text/plain": [
       "<Figure size 432x288 with 1 Axes>"
      ]
     },
     "metadata": {
      "needs_background": "light"
     },
     "output_type": "display_data"
    }
   ],
   "source": [
    "# results using training set and test set \n",
    "plt.plot(history.history['acc'])\n",
    "plt.plot(history.history['val_acc'])\n",
    "plt.hlines(0.5, 0, 40, linestyles='dotted')\n",
    "plt.ylim(0.45, 1)\n",
    "plt.xticks(range(0, 40))\n",
    "plt.xlabel('epochs')\n",
    "plt.ylabel('accuracy')\n",
    "plt.legend(['train', 'test']);"
   ]
  },
  {
   "cell_type": "code",
   "execution_count": 59,
   "metadata": {
    "colab": {
     "base_uri": "https://localhost:8080/",
     "height": 50
    },
    "colab_type": "code",
    "id": "TGtoOZsaKWNV",
    "outputId": "fcf1d647-959e-4d4f-a60b-347d6b0e7704"
   },
   "outputs": [
    {
     "name": "stdout",
     "output_type": "stream",
     "text": [
      "10122/10122 [==============================] - 1s 140us/step\n"
     ]
    },
    {
     "data": {
      "text/plain": [
       "[1.394798054251834, 0.5076071922427179]"
      ]
     },
     "execution_count": 59,
     "metadata": {},
     "output_type": "execute_result"
    }
   ],
   "source": [
    "scores = model.evaluate(X_test, y_test, verbose=1)\n",
    "scores"
   ]
  },
  {
   "cell_type": "code",
   "execution_count": 60,
   "metadata": {
    "colab": {
     "base_uri": "https://localhost:8080/",
     "height": 195
    },
    "colab_type": "code",
    "id": "CKoZ2gtQlU0m",
    "outputId": "fe5250a9-ff5c-4081-fe91-4e0428832186"
   },
   "outputs": [
    {
     "data": {
      "text/html": [
       "<div>\n",
       "<style scoped>\n",
       "    .dataframe tbody tr th:only-of-type {\n",
       "        vertical-align: middle;\n",
       "    }\n",
       "\n",
       "    .dataframe tbody tr th {\n",
       "        vertical-align: top;\n",
       "    }\n",
       "\n",
       "    .dataframe thead th {\n",
       "        text-align: right;\n",
       "    }\n",
       "</style>\n",
       "<table border=\"1\" class=\"dataframe\">\n",
       "  <thead>\n",
       "    <tr style=\"text-align: right;\">\n",
       "      <th></th>\n",
       "      <th>predicted win prob</th>\n",
       "      <th>actual win rate</th>\n",
       "      <th>mean return</th>\n",
       "      <th># of trades</th>\n",
       "      <th>% of all trades</th>\n",
       "    </tr>\n",
       "    <tr>\n",
       "      <th>pred_prob_level</th>\n",
       "      <th></th>\n",
       "      <th></th>\n",
       "      <th></th>\n",
       "      <th></th>\n",
       "      <th></th>\n",
       "    </tr>\n",
       "  </thead>\n",
       "  <tbody>\n",
       "    <tr>\n",
       "      <th>0.00</th>\n",
       "      <td>0.011760</td>\n",
       "      <td>0.462758</td>\n",
       "      <td>0.314501</td>\n",
       "      <td>1262</td>\n",
       "      <td>12.467892</td>\n",
       "    </tr>\n",
       "    <tr>\n",
       "      <th>0.05</th>\n",
       "      <td>0.074249</td>\n",
       "      <td>0.545692</td>\n",
       "      <td>0.556919</td>\n",
       "      <td>383</td>\n",
       "      <td>3.783837</td>\n",
       "    </tr>\n",
       "    <tr>\n",
       "      <th>0.10</th>\n",
       "      <td>0.124132</td>\n",
       "      <td>0.446809</td>\n",
       "      <td>-0.033936</td>\n",
       "      <td>282</td>\n",
       "      <td>2.786011</td>\n",
       "    </tr>\n",
       "    <tr>\n",
       "      <th>0.15</th>\n",
       "      <td>0.174457</td>\n",
       "      <td>0.520408</td>\n",
       "      <td>0.348095</td>\n",
       "      <td>294</td>\n",
       "      <td>2.904564</td>\n",
       "    </tr>\n",
       "    <tr>\n",
       "      <th>0.20</th>\n",
       "      <td>0.225660</td>\n",
       "      <td>0.506623</td>\n",
       "      <td>0.459669</td>\n",
       "      <td>302</td>\n",
       "      <td>2.983600</td>\n",
       "    </tr>\n",
       "    <tr>\n",
       "      <th>0.25</th>\n",
       "      <td>0.276220</td>\n",
       "      <td>0.469914</td>\n",
       "      <td>0.152464</td>\n",
       "      <td>349</td>\n",
       "      <td>3.447935</td>\n",
       "    </tr>\n",
       "    <tr>\n",
       "      <th>0.30</th>\n",
       "      <td>0.326446</td>\n",
       "      <td>0.476998</td>\n",
       "      <td>0.150194</td>\n",
       "      <td>413</td>\n",
       "      <td>4.080221</td>\n",
       "    </tr>\n",
       "    <tr>\n",
       "      <th>0.35</th>\n",
       "      <td>0.375388</td>\n",
       "      <td>0.534591</td>\n",
       "      <td>0.325870</td>\n",
       "      <td>477</td>\n",
       "      <td>4.712507</td>\n",
       "    </tr>\n",
       "    <tr>\n",
       "      <th>0.40</th>\n",
       "      <td>0.425417</td>\n",
       "      <td>0.496667</td>\n",
       "      <td>0.156500</td>\n",
       "      <td>600</td>\n",
       "      <td>5.927682</td>\n",
       "    </tr>\n",
       "    <tr>\n",
       "      <th>0.45</th>\n",
       "      <td>0.475695</td>\n",
       "      <td>0.497751</td>\n",
       "      <td>0.287361</td>\n",
       "      <td>667</td>\n",
       "      <td>6.589607</td>\n",
       "    </tr>\n",
       "    <tr>\n",
       "      <th>0.50</th>\n",
       "      <td>0.526943</td>\n",
       "      <td>0.485112</td>\n",
       "      <td>0.171030</td>\n",
       "      <td>806</td>\n",
       "      <td>7.962853</td>\n",
       "    </tr>\n",
       "    <tr>\n",
       "      <th>0.55</th>\n",
       "      <td>0.571905</td>\n",
       "      <td>0.538344</td>\n",
       "      <td>0.506089</td>\n",
       "      <td>652</td>\n",
       "      <td>6.441415</td>\n",
       "    </tr>\n",
       "    <tr>\n",
       "      <th>0.60</th>\n",
       "      <td>0.623280</td>\n",
       "      <td>0.516194</td>\n",
       "      <td>0.242470</td>\n",
       "      <td>494</td>\n",
       "      <td>4.880458</td>\n",
       "    </tr>\n",
       "    <tr>\n",
       "      <th>0.65</th>\n",
       "      <td>0.674633</td>\n",
       "      <td>0.496568</td>\n",
       "      <td>0.246728</td>\n",
       "      <td>437</td>\n",
       "      <td>4.317329</td>\n",
       "    </tr>\n",
       "    <tr>\n",
       "      <th>0.70</th>\n",
       "      <td>0.725178</td>\n",
       "      <td>0.530831</td>\n",
       "      <td>0.304531</td>\n",
       "      <td>373</td>\n",
       "      <td>3.685042</td>\n",
       "    </tr>\n",
       "    <tr>\n",
       "      <th>0.75</th>\n",
       "      <td>0.774273</td>\n",
       "      <td>0.498498</td>\n",
       "      <td>0.134895</td>\n",
       "      <td>333</td>\n",
       "      <td>3.289864</td>\n",
       "    </tr>\n",
       "    <tr>\n",
       "      <th>0.80</th>\n",
       "      <td>0.826685</td>\n",
       "      <td>0.520548</td>\n",
       "      <td>0.436438</td>\n",
       "      <td>292</td>\n",
       "      <td>2.884805</td>\n",
       "    </tr>\n",
       "    <tr>\n",
       "      <th>0.85</th>\n",
       "      <td>0.875868</td>\n",
       "      <td>0.566901</td>\n",
       "      <td>0.578521</td>\n",
       "      <td>284</td>\n",
       "      <td>2.805770</td>\n",
       "    </tr>\n",
       "    <tr>\n",
       "      <th>0.90</th>\n",
       "      <td>0.926484</td>\n",
       "      <td>0.466102</td>\n",
       "      <td>0.292175</td>\n",
       "      <td>354</td>\n",
       "      <td>3.497333</td>\n",
       "    </tr>\n",
       "    <tr>\n",
       "      <th>0.95</th>\n",
       "      <td>0.986623</td>\n",
       "      <td>0.491018</td>\n",
       "      <td>0.394561</td>\n",
       "      <td>1002</td>\n",
       "      <td>9.899229</td>\n",
       "    </tr>\n",
       "    <tr>\n",
       "      <th>1.00</th>\n",
       "      <td>1.000000</td>\n",
       "      <td>0.484848</td>\n",
       "      <td>0.087121</td>\n",
       "      <td>66</td>\n",
       "      <td>0.652045</td>\n",
       "    </tr>\n",
       "  </tbody>\n",
       "</table>\n",
       "</div>"
      ],
      "text/plain": [
       "                 predicted win prob  actual win rate  mean return  \\\n",
       "pred_prob_level                                                     \n",
       "0.00                       0.011760         0.462758     0.314501   \n",
       "0.05                       0.074249         0.545692     0.556919   \n",
       "0.10                       0.124132         0.446809    -0.033936   \n",
       "0.15                       0.174457         0.520408     0.348095   \n",
       "0.20                       0.225660         0.506623     0.459669   \n",
       "0.25                       0.276220         0.469914     0.152464   \n",
       "0.30                       0.326446         0.476998     0.150194   \n",
       "0.35                       0.375388         0.534591     0.325870   \n",
       "0.40                       0.425417         0.496667     0.156500   \n",
       "0.45                       0.475695         0.497751     0.287361   \n",
       "0.50                       0.526943         0.485112     0.171030   \n",
       "0.55                       0.571905         0.538344     0.506089   \n",
       "0.60                       0.623280         0.516194     0.242470   \n",
       "0.65                       0.674633         0.496568     0.246728   \n",
       "0.70                       0.725178         0.530831     0.304531   \n",
       "0.75                       0.774273         0.498498     0.134895   \n",
       "0.80                       0.826685         0.520548     0.436438   \n",
       "0.85                       0.875868         0.566901     0.578521   \n",
       "0.90                       0.926484         0.466102     0.292175   \n",
       "0.95                       0.986623         0.491018     0.394561   \n",
       "1.00                       1.000000         0.484848     0.087121   \n",
       "\n",
       "                 # of trades  % of all trades  \n",
       "pred_prob_level                                \n",
       "0.00                    1262        12.467892  \n",
       "0.05                     383         3.783837  \n",
       "0.10                     282         2.786011  \n",
       "0.15                     294         2.904564  \n",
       "0.20                     302         2.983600  \n",
       "0.25                     349         3.447935  \n",
       "0.30                     413         4.080221  \n",
       "0.35                     477         4.712507  \n",
       "0.40                     600         5.927682  \n",
       "0.45                     667         6.589607  \n",
       "0.50                     806         7.962853  \n",
       "0.55                     652         6.441415  \n",
       "0.60                     494         4.880458  \n",
       "0.65                     437         4.317329  \n",
       "0.70                     373         3.685042  \n",
       "0.75                     333         3.289864  \n",
       "0.80                     292         2.884805  \n",
       "0.85                     284         2.805770  \n",
       "0.90                     354         3.497333  \n",
       "0.95                    1002         9.899229  \n",
       "1.00                      66         0.652045  "
      ]
     },
     "execution_count": 60,
     "metadata": {},
     "output_type": "execute_result"
    }
   ],
   "source": [
    "pred = model.predict(X_test)\n",
    "pred_probs = pd.Series(pred[:, 1], name = \"pred_probs\")\n",
    "results = pd.concat([pred_probs, stock_data.y_test.reset_index(drop = True), stock_data.test_rtn.reset_index(drop = True)], \n",
    "                    axis = 1)\n",
    "results['pred_prob_level'] = [int(x * 20)/20 for x in results['pred_probs']]\n",
    "\n",
    "summary = pd.concat([results.groupby(['pred_prob_level']).mean(), \n",
    "                     results.groupby(['pred_prob_level']).count()['label'], \n",
    "                     100 * results.groupby(['pred_prob_level']).count()['label']/results.shape[0]], \n",
    "                    axis = 1)\n",
    "summary.columns = ['predicted win prob', 'actual win rate', 'mean return', '# of trades', '% of all trades']\n",
    "summary"
   ]
  },
  {
   "cell_type": "code",
   "execution_count": null,
   "metadata": {},
   "outputs": [],
   "source": []
  }
 ],
 "metadata": {
  "accelerator": "GPU",
  "colab": {
   "collapsed_sections": [],
   "name": "Seahorse_CNN1.ipynb",
   "provenance": [],
   "version": "0.3.2"
  },
  "kernelspec": {
   "display_name": "Python 3",
   "language": "python",
   "name": "python3"
  },
  "language_info": {
   "codemirror_mode": {
    "name": "ipython",
    "version": 3
   },
   "file_extension": ".py",
   "mimetype": "text/x-python",
   "name": "python",
   "nbconvert_exporter": "python",
   "pygments_lexer": "ipython3",
   "version": "3.7.3"
  }
 },
 "nbformat": 4,
 "nbformat_minor": 1
}
