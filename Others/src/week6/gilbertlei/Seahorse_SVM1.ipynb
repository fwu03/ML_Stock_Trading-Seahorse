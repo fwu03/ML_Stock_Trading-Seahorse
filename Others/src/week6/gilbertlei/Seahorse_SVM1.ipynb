{
 "cells": [
  {
   "cell_type": "markdown",
   "metadata": {},
   "source": [
    "## feature engineering: \n",
    "- smoothness of oscillator curves\n",
    "- smoothness of price curves\n",
    "- smoothness of MACD curves\n",
    "- daily price movement (percentage change %)\n",
    "- oscillator absolute value changes compared to day #40 \n",
    "- MACD values normalized \n",
    "- signal's oscillator level \n",
    "- signal's price level \n",
    "- signal's macd level "
   ]
  },
  {
   "cell_type": "code",
   "execution_count": 1,
   "metadata": {
    "colab": {},
    "colab_type": "code",
    "id": "q4l3pVVqOF39"
   },
   "outputs": [],
   "source": [
    "import pandas as pd\n",
    "import numpy as np\n",
    "import matplotlib.pyplot as plt\n",
    "import re \n",
    "import os\n",
    "from sklearn.model_selection import train_test_split, GridSearchCV\n",
    "from sklearn.feature_selection import RFE\n",
    "from sklearn.linear_model import LogisticRegression\n",
    "from sklearn.metrics import precision_score, classification_report\n",
    "from sklearn.ensemble import RandomForestClassifier\n",
    "from sklearn.neighbors import KNeighborsClassifier, KNeighborsRegressor\n",
    "from sklearn.svm import SVC\n",
    "import spectrum\n",
    "from spectrum import Periodogram, data_cosine"
   ]
  },
  {
   "cell_type": "code",
   "execution_count": 2,
   "metadata": {
    "colab": {},
    "colab_type": "code",
    "id": "poFunPctg2Sm"
   },
   "outputs": [],
   "source": [
    "def calc_smoothness(data, name): \n",
    "    smoothness = []\n",
    "    for i in range(data.shape[0]):\n",
    "        smth = np.std(list(data.iloc[i, :] - data.iloc[i, :].shift(1))[1:])\n",
    "        smoothness.append(smth)\n",
    "    return pd.Series(smoothness, name = name + '_smth', index = data.index)"
   ]
  },
  {
   "cell_type": "code",
   "execution_count": 3,
   "metadata": {},
   "outputs": [],
   "source": [
    "def calc_derivative(data, name):\n",
    "    derivatives = []\n",
    "    for i in range(data.shape[0]):\n",
    "        i_derivative = list(np.gradient(pd.Series(data.iloc[i,:]))/pd.Series(data.iloc[i,:]))\n",
    "        derivatives.append(i_derivative)\n",
    "    \n",
    "    names = []\n",
    "    for i in range(data.shape[1]):\n",
    "        names.append(name + \"_d\"+ str(i)) \n",
    "    \n",
    "    return pd.DataFrame(derivatives, columns=names, index = data.index)"
   ]
  },
  {
   "cell_type": "code",
   "execution_count": 4,
   "metadata": {},
   "outputs": [],
   "source": [
    "def calc_level(data, name):\n",
    "    \n",
    "    level = []\n",
    "    for i in range(data.shape[0]):\n",
    "        max_num = max(data.iloc[i, :])\n",
    "        min_num = min(data.iloc[i, :])\n",
    "        level.append((data.iloc[i, -1] - min_num)/(max_num - min_num))\n",
    "        \n",
    "    return pd.Series(level, name = name + '_lev', index = data.index)"
   ]
  },
  {
   "cell_type": "code",
   "execution_count": 5,
   "metadata": {},
   "outputs": [],
   "source": [
    "def normalize_data(data): \n",
    "    for i in range(data.shape[0]): \n",
    "        row = data.iloc[i, :] \n",
    "        data.iloc[i, :] = (row - min(row))/(max(row) - min(row)) \n",
    "    return data"
   ]
  },
  {
   "cell_type": "code",
   "execution_count": 6,
   "metadata": {
    "colab": {},
    "colab_type": "code",
    "id": "lCT6GLVAORaP"
   },
   "outputs": [],
   "source": [
    "def load_data():\n",
    "    data = pd.DataFrame()\n",
    "    \n",
    "    for filename in os.listdir('../data/buy/'):\n",
    "        if filename.endswith(\".txt\"): \n",
    "            tmp_df = pd.read_csv(os.path.join('../data/buy/', filename), delimiter= '\\s+', header = None)\n",
    "            tmp_df = tmp_df.astype(float)\n",
    "            # symbol = filename.split(\"1\")[0]\n",
    "            # tmp_df = pd.concat([pd.Series([symbol] * tmp_df.shape[0], name = 'symbol'), tmp_df], axis=1)\n",
    "            tmp_df = tmp_df.iloc[20:,:]\n",
    "            data = pd.concat([data, tmp_df])\n",
    "    \n",
    "    # remove duplicates \n",
    "    data = data.drop_duplicates()\n",
    "    \n",
    "    # remove extreme oscillator values \n",
    "    data = data[(data[0] > -7) & (data[0] < 7)] \n",
    "    \n",
    "    # remove positive oscillator values\n",
    "    # data = data[data[0] < 0]\n",
    "    \n",
    "    # reset index \n",
    "    data = data.reset_index(drop=True)\n",
    "    \n",
    "    # set column names \n",
    "    osc_names = ['osc' + str(i) for i in range(41)]\n",
    "    prc_names = ['prc' + str(i) for i in range(41)]\n",
    "    macd_names = ['macd' + str(i) for i in range(41)]\n",
    "    data.columns = osc_names + prc_names + macd_names + ['rtn']\n",
    "    \n",
    "    # preprocess oscillator data \n",
    "    osc_data = data.iloc[:, :41].reset_index(drop=True)\n",
    "    osc_data = osc_data[osc_data.columns[::-1]]\n",
    "    osc_smth = calc_smoothness(osc_data, 'osc')   # add oscillator smoothness feature \n",
    "    osc_lev = calc_level(osc_data, 'osc')   # calculate relative oscillator level \n",
    "    # benchmark oscillator values on oldest one \n",
    "    for i in range(osc_data.shape[0]):\n",
    "        osc_data.iloc[i, :] = osc_data.iloc[i, :] - osc_data.iloc[i, 0] \n",
    "    \n",
    "    # preprocess price data \n",
    "    prc_data = data.iloc[:, 41:82].reset_index(drop=True)\n",
    "    prc_data = prc_data[prc_data.columns[::-1]]\n",
    "    prc_smth = calc_smoothness(prc_data, 'prc')  # add price smoothness feature\n",
    "    prc_lev = calc_level(prc_data, 'prc')   # calculate relative price level \n",
    "    prc_drv = calc_derivative(prc_data, 'prc')   # calculate price derivatives \n",
    "    \n",
    "    # preprocess MACD data \n",
    "    macd_data = data.iloc[:, 82:123].reset_index(drop=True)\n",
    "    macd_data = macd_data[macd_data.columns[::-1]]\n",
    "    macd_smth = calc_smoothness(macd_data, 'macd')   # add macd smoothness feature\n",
    "    macd_lev = calc_level(macd_data, 'macd')    # calculate relative macd level \n",
    "    macd_data = normalize_data(macd_data)    # normalize macd data \n",
    "    \n",
    "    rtn = data['rtn'].reset_index(drop=True)\n",
    "    label = pd.Series(map(lambda x: 1 if x>0 else 0, rtn), name = 'label')\n",
    "    \n",
    "    data = pd.concat([osc_data, osc_smth, osc_lev,\n",
    "                      prc_drv, prc_smth, prc_lev, \n",
    "                      macd_data, macd_smth, macd_lev, \n",
    "                      rtn, label], axis=1)\n",
    "    data = data.reset_index(drop=True)\n",
    "    \n",
    "    return data"
   ]
  },
  {
   "cell_type": "code",
   "execution_count": 7,
   "metadata": {
    "colab": {},
    "colab_type": "code",
    "id": "whY6y89TTiuI"
   },
   "outputs": [],
   "source": [
    "class StockData():\n",
    "    def __init__(self, data):\n",
    "        \n",
    "        # balance the data set \n",
    "        pos_data = data[data['label'] == 1]\n",
    "        neg_data = data[data['label'] == 0]\n",
    "        if pos_data.shape[0] > neg_data.shape[0]:\n",
    "            pos_data = pos_data.sample(neg_data.shape[0])\n",
    "        else:\n",
    "            neg_data = neg_data.sample(pos_data.shape[0])\n",
    "        data = pd.concat([pos_data, neg_data], axis = 0)\n",
    "        data = data.reset_index(drop = True) \n",
    "        \n",
    "        X = data.iloc[:, :-1]\n",
    "        y = data['label']\n",
    "        \n",
    "        X_train_valid_w_rtn, X_test_w_rtn, y_train_valid, y_test = train_test_split(X, y, test_size=0.25) \n",
    "        # train_valid set\n",
    "        self.train_valid_rtn = X_train_valid_w_rtn['rtn']\n",
    "        self.X_train_valid = X_train_valid_w_rtn.drop(['rtn'], axis = 1)\n",
    "        self.y_train_valid = y_train_valid\n",
    "        \n",
    "        X_train_w_rtn, X_valid_w_rtn, y_train, y_valid = train_test_split(X_train_valid_w_rtn, y_train_valid, test_size=0.25) \n",
    "        # training set \n",
    "        self.train_rtn = X_train_w_rtn['rtn'] \n",
    "        self.X_train = X_train_w_rtn.drop(['rtn'], axis = 1)\n",
    "        self.y_train = y_train\n",
    "        # validation set\n",
    "        self.valid_rtn = X_valid_w_rtn['rtn']\n",
    "        self.X_valid = X_valid_w_rtn.drop(['rtn'], axis = 1) \n",
    "        self.y_valid = y_valid\n",
    "        # test set \n",
    "        self.test_rtn = X_test_w_rtn['rtn']\n",
    "        self.X_test = X_test_w_rtn.drop(['rtn'], axis = 1)        \n",
    "        self.y_test = y_test "
   ]
  },
  {
   "cell_type": "code",
   "execution_count": 19,
   "metadata": {
    "colab": {},
    "colab_type": "code",
    "id": "l6-gqOcRTmBZ"
   },
   "outputs": [],
   "source": [
    "class SeahorseBuyModel(): \n",
    "    def __init__(self):\n",
    "        self.clf = SVC(gamma='auto', probability=True)\n",
    "        self.features = []\n",
    "        return \n",
    "    \n",
    "    def fit(self, X_train, y_train):\n",
    "        self.clf.fit(X_train, y_train)\n",
    "        self.features = X_train.columns\n",
    "        return\n",
    "    \n",
    "    def score(self, X, y):\n",
    "        return self.clf.score(X, y)\n",
    "    \n",
    "    def evaluate(self, X, y, rtn):\n",
    "        probs = self.clf.predict_proba(X)\n",
    "\n",
    "        win_probs = []\n",
    "        for i in range(len(probs)):\n",
    "            win_probs.append(probs[i][1])\n",
    "\n",
    "        trade_classes = [int(x * 10)/10 for x in win_probs]\n",
    "            \n",
    "        results = pd.concat([pd.Series(win_probs, name='win_prob'), \n",
    "                             pd.Series(trade_classes, name='trade_class'), \n",
    "                             y.reset_index(drop=True), \n",
    "                             rtn.reset_index(drop=True)], \n",
    "                            axis = 1)\n",
    "\n",
    "        summary = pd.concat([results.groupby(['trade_class']).mean(), \n",
    "                             results.groupby(['trade_class']).count()['win_prob'], \n",
    "                             100 * results.groupby(['trade_class']).count()['win_prob']/results.shape[0]], \n",
    "                            axis=1)\n",
    "        summary.columns = ['predicted win prob', 'actual win rate', 'mean return', '# of trades', '% of all trades']\n",
    "        # summary = summary.reindex([i/10 for i in range(10)])\n",
    "        print(summary.to_string())\n",
    "        return \n",
    "    \n",
    "    def feature_importances(self):\n",
    "        f = {'f_name': list(self.features), \n",
    "             'f_importance': list(self.clf.feature_importances_)}\n",
    "        f = pd.DataFrame(f)\n",
    "        f = f.sort_values(by=['f_importance'], ascending=False)\n",
    "        return f"
   ]
  },
  {
   "cell_type": "code",
   "execution_count": 11,
   "metadata": {},
   "outputs": [],
   "source": [
    "data = pd.read_csv('../data/data_RF3.csv', header=0, index_col=0)"
   ]
  },
  {
   "cell_type": "code",
   "execution_count": 20,
   "metadata": {},
   "outputs": [
    {
     "data": {
      "text/plain": [
       "(100987, 131)"
      ]
     },
     "execution_count": 20,
     "metadata": {},
     "output_type": "execute_result"
    }
   ],
   "source": [
    "data.shape"
   ]
  },
  {
   "cell_type": "code",
   "execution_count": 13,
   "metadata": {},
   "outputs": [
    {
     "data": {
      "text/html": [
       "<div>\n",
       "<style scoped>\n",
       "    .dataframe tbody tr th:only-of-type {\n",
       "        vertical-align: middle;\n",
       "    }\n",
       "\n",
       "    .dataframe tbody tr th {\n",
       "        vertical-align: top;\n",
       "    }\n",
       "\n",
       "    .dataframe thead th {\n",
       "        text-align: right;\n",
       "    }\n",
       "</style>\n",
       "<table border=\"1\" class=\"dataframe\">\n",
       "  <thead>\n",
       "    <tr style=\"text-align: right;\">\n",
       "      <th></th>\n",
       "      <th>osc40</th>\n",
       "      <th>osc39</th>\n",
       "      <th>osc38</th>\n",
       "      <th>osc37</th>\n",
       "      <th>osc36</th>\n",
       "      <th>osc35</th>\n",
       "      <th>osc34</th>\n",
       "      <th>osc33</th>\n",
       "      <th>osc32</th>\n",
       "      <th>osc31</th>\n",
       "      <th>...</th>\n",
       "      <th>macd5</th>\n",
       "      <th>macd4</th>\n",
       "      <th>macd3</th>\n",
       "      <th>macd2</th>\n",
       "      <th>macd1</th>\n",
       "      <th>macd0</th>\n",
       "      <th>macd_smth</th>\n",
       "      <th>macd_lev</th>\n",
       "      <th>rtn</th>\n",
       "      <th>label</th>\n",
       "    </tr>\n",
       "  </thead>\n",
       "  <tbody>\n",
       "    <tr>\n",
       "      <th>100982</th>\n",
       "      <td>0.0</td>\n",
       "      <td>-0.15</td>\n",
       "      <td>-0.32</td>\n",
       "      <td>-0.56</td>\n",
       "      <td>-0.45</td>\n",
       "      <td>-0.38</td>\n",
       "      <td>-0.23</td>\n",
       "      <td>-0.14</td>\n",
       "      <td>-0.02</td>\n",
       "      <td>0.11</td>\n",
       "      <td>...</td>\n",
       "      <td>0.475728</td>\n",
       "      <td>0.422330</td>\n",
       "      <td>0.288026</td>\n",
       "      <td>0.257282</td>\n",
       "      <td>0.242718</td>\n",
       "      <td>0.229773</td>\n",
       "      <td>0.650905</td>\n",
       "      <td>0.229773</td>\n",
       "      <td>-0.33</td>\n",
       "      <td>0</td>\n",
       "    </tr>\n",
       "    <tr>\n",
       "      <th>100983</th>\n",
       "      <td>0.0</td>\n",
       "      <td>0.28</td>\n",
       "      <td>0.20</td>\n",
       "      <td>0.18</td>\n",
       "      <td>0.15</td>\n",
       "      <td>0.15</td>\n",
       "      <td>0.29</td>\n",
       "      <td>0.13</td>\n",
       "      <td>-0.07</td>\n",
       "      <td>-0.27</td>\n",
       "      <td>...</td>\n",
       "      <td>0.464853</td>\n",
       "      <td>0.374150</td>\n",
       "      <td>0.242630</td>\n",
       "      <td>0.197279</td>\n",
       "      <td>0.195011</td>\n",
       "      <td>0.215420</td>\n",
       "      <td>0.517516</td>\n",
       "      <td>0.215420</td>\n",
       "      <td>-0.11</td>\n",
       "      <td>0</td>\n",
       "    </tr>\n",
       "    <tr>\n",
       "      <th>100984</th>\n",
       "      <td>0.0</td>\n",
       "      <td>0.00</td>\n",
       "      <td>0.14</td>\n",
       "      <td>-0.02</td>\n",
       "      <td>-0.22</td>\n",
       "      <td>-0.42</td>\n",
       "      <td>-0.55</td>\n",
       "      <td>-0.66</td>\n",
       "      <td>-0.82</td>\n",
       "      <td>-0.97</td>\n",
       "      <td>...</td>\n",
       "      <td>0.231183</td>\n",
       "      <td>0.255376</td>\n",
       "      <td>0.303763</td>\n",
       "      <td>0.287634</td>\n",
       "      <td>0.247312</td>\n",
       "      <td>0.303763</td>\n",
       "      <td>0.494327</td>\n",
       "      <td>0.303763</td>\n",
       "      <td>1.04</td>\n",
       "      <td>1</td>\n",
       "    </tr>\n",
       "    <tr>\n",
       "      <th>100985</th>\n",
       "      <td>0.0</td>\n",
       "      <td>0.04</td>\n",
       "      <td>0.09</td>\n",
       "      <td>0.06</td>\n",
       "      <td>0.10</td>\n",
       "      <td>0.07</td>\n",
       "      <td>-0.10</td>\n",
       "      <td>-0.29</td>\n",
       "      <td>-0.48</td>\n",
       "      <td>-0.54</td>\n",
       "      <td>...</td>\n",
       "      <td>0.040404</td>\n",
       "      <td>0.161616</td>\n",
       "      <td>0.232323</td>\n",
       "      <td>0.228956</td>\n",
       "      <td>0.228956</td>\n",
       "      <td>0.208754</td>\n",
       "      <td>0.340592</td>\n",
       "      <td>0.208754</td>\n",
       "      <td>-0.86</td>\n",
       "      <td>0</td>\n",
       "    </tr>\n",
       "    <tr>\n",
       "      <th>100986</th>\n",
       "      <td>0.0</td>\n",
       "      <td>0.09</td>\n",
       "      <td>0.26</td>\n",
       "      <td>0.41</td>\n",
       "      <td>0.45</td>\n",
       "      <td>0.46</td>\n",
       "      <td>0.42</td>\n",
       "      <td>0.40</td>\n",
       "      <td>0.38</td>\n",
       "      <td>0.29</td>\n",
       "      <td>...</td>\n",
       "      <td>0.082405</td>\n",
       "      <td>0.160356</td>\n",
       "      <td>0.171492</td>\n",
       "      <td>0.256125</td>\n",
       "      <td>0.342984</td>\n",
       "      <td>0.505568</td>\n",
       "      <td>0.326886</td>\n",
       "      <td>0.505568</td>\n",
       "      <td>4.55</td>\n",
       "      <td>1</td>\n",
       "    </tr>\n",
       "  </tbody>\n",
       "</table>\n",
       "<p>5 rows × 131 columns</p>\n",
       "</div>"
      ],
      "text/plain": [
       "        osc40  osc39  osc38  osc37  osc36  osc35  osc34  osc33  osc32  osc31  \\\n",
       "100982    0.0  -0.15  -0.32  -0.56  -0.45  -0.38  -0.23  -0.14  -0.02   0.11   \n",
       "100983    0.0   0.28   0.20   0.18   0.15   0.15   0.29   0.13  -0.07  -0.27   \n",
       "100984    0.0   0.00   0.14  -0.02  -0.22  -0.42  -0.55  -0.66  -0.82  -0.97   \n",
       "100985    0.0   0.04   0.09   0.06   0.10   0.07  -0.10  -0.29  -0.48  -0.54   \n",
       "100986    0.0   0.09   0.26   0.41   0.45   0.46   0.42   0.40   0.38   0.29   \n",
       "\n",
       "        ...     macd5     macd4     macd3     macd2     macd1     macd0  \\\n",
       "100982  ...  0.475728  0.422330  0.288026  0.257282  0.242718  0.229773   \n",
       "100983  ...  0.464853  0.374150  0.242630  0.197279  0.195011  0.215420   \n",
       "100984  ...  0.231183  0.255376  0.303763  0.287634  0.247312  0.303763   \n",
       "100985  ...  0.040404  0.161616  0.232323  0.228956  0.228956  0.208754   \n",
       "100986  ...  0.082405  0.160356  0.171492  0.256125  0.342984  0.505568   \n",
       "\n",
       "        macd_smth  macd_lev   rtn  label  \n",
       "100982   0.650905  0.229773 -0.33      0  \n",
       "100983   0.517516  0.215420 -0.11      0  \n",
       "100984   0.494327  0.303763  1.04      1  \n",
       "100985   0.340592  0.208754 -0.86      0  \n",
       "100986   0.326886  0.505568  4.55      1  \n",
       "\n",
       "[5 rows x 131 columns]"
      ]
     },
     "execution_count": 13,
     "metadata": {},
     "output_type": "execute_result"
    }
   ],
   "source": [
    "data.tail()"
   ]
  },
  {
   "cell_type": "code",
   "execution_count": 14,
   "metadata": {},
   "outputs": [],
   "source": [
    "stock_data = StockData(data)"
   ]
  },
  {
   "cell_type": "code",
   "execution_count": 16,
   "metadata": {
    "colab": {},
    "colab_type": "code",
    "id": "dI3K8ZoIMySw"
   },
   "outputs": [
    {
     "name": "stderr",
     "output_type": "stream",
     "text": [
      "C:\\Users\\leiju\\Anaconda3\\lib\\site-packages\\sklearn\\svm\\base.py:196: FutureWarning: The default value of gamma will change from 'auto' to 'scale' in version 0.22 to account better for unscaled features. Set gamma explicitly to 'auto' or 'scale' to avoid this warning.\n",
      "  \"avoid this warning.\", FutureWarning)\n"
     ]
    }
   ],
   "source": [
    "model = SeahorseBuyModel()\n",
    "model.fit(stock_data.X_train, stock_data.y_train)"
   ]
  },
  {
   "cell_type": "code",
   "execution_count": 17,
   "metadata": {},
   "outputs": [
    {
     "name": "stdout",
     "output_type": "stream",
     "text": [
      "0.5507115718977397\n",
      "0.5111726447292163\n",
      "0.5059886023374868\n"
     ]
    }
   ],
   "source": [
    "print(model.score(stock_data.X_train, stock_data.y_train))\n",
    "print(model.score(stock_data.X_valid, stock_data.y_valid))\n",
    "print(model.score(stock_data.X_test, stock_data.y_test))"
   ]
  },
  {
   "cell_type": "code",
   "execution_count": 18,
   "metadata": {
    "colab": {
     "base_uri": "https://localhost:8080/",
     "height": 314
    },
    "colab_type": "code",
    "executionInfo": {
     "elapsed": 35090,
     "status": "ok",
     "timestamp": 1558072654687,
     "user": {
      "displayName": "Junxiong Lei",
      "photoUrl": "https://lh4.googleusercontent.com/-A_hLQrqfd5Q/AAAAAAAAAAI/AAAAAAAAAhA/VntD0J4mKNw/s64/photo.jpg",
      "userId": "11770709030165456358"
     },
     "user_tz": 420
    },
    "id": "idji2RKsMyQG",
    "outputId": "861ba6b9-d2ea-4ec5-84db-36e0581881f3"
   },
   "outputs": [
    {
     "ename": "AttributeError",
     "evalue": "predict_proba is not available when  probability=False",
     "output_type": "error",
     "traceback": [
      "\u001b[1;31m---------------------------------------------------------------------------\u001b[0m",
      "\u001b[1;31mAttributeError\u001b[0m                            Traceback (most recent call last)",
      "\u001b[1;32m<ipython-input-18-98f02b0f79f1>\u001b[0m in \u001b[0;36m<module>\u001b[1;34m\u001b[0m\n\u001b[1;32m----> 1\u001b[1;33m \u001b[0mmodel\u001b[0m\u001b[1;33m.\u001b[0m\u001b[0mevaluate\u001b[0m\u001b[1;33m(\u001b[0m\u001b[0mstock_data\u001b[0m\u001b[1;33m.\u001b[0m\u001b[0mX_valid\u001b[0m\u001b[1;33m,\u001b[0m \u001b[0mstock_data\u001b[0m\u001b[1;33m.\u001b[0m\u001b[0my_valid\u001b[0m\u001b[1;33m,\u001b[0m \u001b[0mstock_data\u001b[0m\u001b[1;33m.\u001b[0m\u001b[0mvalid_rtn\u001b[0m\u001b[1;33m)\u001b[0m\u001b[1;33m\u001b[0m\u001b[1;33m\u001b[0m\u001b[0m\n\u001b[0m",
      "\u001b[1;32m<ipython-input-15-af379e14cfe2>\u001b[0m in \u001b[0;36mevaluate\u001b[1;34m(self, X, y, rtn)\u001b[0m\n\u001b[0;32m     14\u001b[0m \u001b[1;33m\u001b[0m\u001b[0m\n\u001b[0;32m     15\u001b[0m     \u001b[1;32mdef\u001b[0m \u001b[0mevaluate\u001b[0m\u001b[1;33m(\u001b[0m\u001b[0mself\u001b[0m\u001b[1;33m,\u001b[0m \u001b[0mX\u001b[0m\u001b[1;33m,\u001b[0m \u001b[0my\u001b[0m\u001b[1;33m,\u001b[0m \u001b[0mrtn\u001b[0m\u001b[1;33m)\u001b[0m\u001b[1;33m:\u001b[0m\u001b[1;33m\u001b[0m\u001b[1;33m\u001b[0m\u001b[0m\n\u001b[1;32m---> 16\u001b[1;33m         \u001b[0mprobs\u001b[0m \u001b[1;33m=\u001b[0m \u001b[0mself\u001b[0m\u001b[1;33m.\u001b[0m\u001b[0mclf\u001b[0m\u001b[1;33m.\u001b[0m\u001b[0mpredict_proba\u001b[0m\u001b[1;33m(\u001b[0m\u001b[0mX\u001b[0m\u001b[1;33m)\u001b[0m\u001b[1;33m\u001b[0m\u001b[1;33m\u001b[0m\u001b[0m\n\u001b[0m\u001b[0;32m     17\u001b[0m \u001b[1;33m\u001b[0m\u001b[0m\n\u001b[0;32m     18\u001b[0m         \u001b[0mwin_probs\u001b[0m \u001b[1;33m=\u001b[0m \u001b[1;33m[\u001b[0m\u001b[1;33m]\u001b[0m\u001b[1;33m\u001b[0m\u001b[1;33m\u001b[0m\u001b[0m\n",
      "\u001b[1;32m~\\Anaconda3\\lib\\site-packages\\sklearn\\svm\\base.py\u001b[0m in \u001b[0;36mpredict_proba\u001b[1;34m(self)\u001b[0m\n\u001b[0;32m    616\u001b[0m         \u001b[0mdatasets\u001b[0m\u001b[1;33m.\u001b[0m\u001b[1;33m\u001b[0m\u001b[1;33m\u001b[0m\u001b[0m\n\u001b[0;32m    617\u001b[0m         \"\"\"\n\u001b[1;32m--> 618\u001b[1;33m         \u001b[0mself\u001b[0m\u001b[1;33m.\u001b[0m\u001b[0m_check_proba\u001b[0m\u001b[1;33m(\u001b[0m\u001b[1;33m)\u001b[0m\u001b[1;33m\u001b[0m\u001b[1;33m\u001b[0m\u001b[0m\n\u001b[0m\u001b[0;32m    619\u001b[0m         \u001b[1;32mreturn\u001b[0m \u001b[0mself\u001b[0m\u001b[1;33m.\u001b[0m\u001b[0m_predict_proba\u001b[0m\u001b[1;33m\u001b[0m\u001b[1;33m\u001b[0m\u001b[0m\n\u001b[0;32m    620\u001b[0m \u001b[1;33m\u001b[0m\u001b[0m\n",
      "\u001b[1;32m~\\Anaconda3\\lib\\site-packages\\sklearn\\svm\\base.py\u001b[0m in \u001b[0;36m_check_proba\u001b[1;34m(self)\u001b[0m\n\u001b[0;32m    583\u001b[0m     \u001b[1;32mdef\u001b[0m \u001b[0m_check_proba\u001b[0m\u001b[1;33m(\u001b[0m\u001b[0mself\u001b[0m\u001b[1;33m)\u001b[0m\u001b[1;33m:\u001b[0m\u001b[1;33m\u001b[0m\u001b[1;33m\u001b[0m\u001b[0m\n\u001b[0;32m    584\u001b[0m         \u001b[1;32mif\u001b[0m \u001b[1;32mnot\u001b[0m \u001b[0mself\u001b[0m\u001b[1;33m.\u001b[0m\u001b[0mprobability\u001b[0m\u001b[1;33m:\u001b[0m\u001b[1;33m\u001b[0m\u001b[1;33m\u001b[0m\u001b[0m\n\u001b[1;32m--> 585\u001b[1;33m             raise AttributeError(\"predict_proba is not available when \"\n\u001b[0m\u001b[0;32m    586\u001b[0m                                  \" probability=False\")\n\u001b[0;32m    587\u001b[0m         \u001b[1;32mif\u001b[0m \u001b[0mself\u001b[0m\u001b[1;33m.\u001b[0m\u001b[0m_impl\u001b[0m \u001b[1;32mnot\u001b[0m \u001b[1;32min\u001b[0m \u001b[1;33m(\u001b[0m\u001b[1;34m'c_svc'\u001b[0m\u001b[1;33m,\u001b[0m \u001b[1;34m'nu_svc'\u001b[0m\u001b[1;33m)\u001b[0m\u001b[1;33m:\u001b[0m\u001b[1;33m\u001b[0m\u001b[1;33m\u001b[0m\u001b[0m\n",
      "\u001b[1;31mAttributeError\u001b[0m: predict_proba is not available when  probability=False"
     ]
    }
   ],
   "source": [
    "model.evaluate(stock_data.X_valid, stock_data.y_valid, stock_data.valid_rtn)"
   ]
  },
  {
   "cell_type": "code",
   "execution_count": null,
   "metadata": {},
   "outputs": [],
   "source": []
  }
 ],
 "metadata": {
  "accelerator": "GPU",
  "colab": {
   "collapsed_sections": [],
   "name": "Seahorse.ipynb",
   "provenance": [],
   "version": "0.3.2"
  },
  "kernelspec": {
   "display_name": "Python 3",
   "language": "python",
   "name": "python3"
  },
  "language_info": {
   "codemirror_mode": {
    "name": "ipython",
    "version": 3
   },
   "file_extension": ".py",
   "mimetype": "text/x-python",
   "name": "python",
   "nbconvert_exporter": "python",
   "pygments_lexer": "ipython3",
   "version": "3.7.3"
  }
 },
 "nbformat": 4,
 "nbformat_minor": 1
}
