{
 "cells": [
  {
   "cell_type": "code",
   "execution_count": null,
   "metadata": {
    "colab": {
     "base_uri": "https://localhost:8080/",
     "height": 121
    },
    "colab_type": "code",
    "id": "PagXGSVPFa0X",
    "outputId": "96e56a69-fc51-413c-f0c4-7884c16d94e0"
   },
   "outputs": [],
   "source": [
    "'''\n",
    "from google.colab import drive\n",
    "drive.mount('/content/gdrive')\n",
    "file_path = 'gdrive/My Drive/ColabNotebooks/Seahorse/' \n",
    "'''"
   ]
  },
  {
   "cell_type": "code",
   "execution_count": 1,
   "metadata": {
    "colab": {},
    "colab_type": "code",
    "id": "W69sW5ZHFgjM"
   },
   "outputs": [],
   "source": [
    "import pandas as pd\n",
    "import numpy as np\n",
    "import scipy.signal\n",
    "from sys import getsizeof\n",
    "import matplotlib.pyplot as plt\n",
    "import re \n",
    "import os"
   ]
  },
  {
   "cell_type": "code",
   "execution_count": 2,
   "metadata": {
    "colab": {
     "base_uri": "https://localhost:8080/",
     "height": 34
    },
    "colab_type": "code",
    "id": "BMGbfyNVHNea",
    "outputId": "360d6c78-bc91-4028-ce2f-10fc5aa1a69c"
   },
   "outputs": [
    {
     "name": "stderr",
     "output_type": "stream",
     "text": [
      "Using TensorFlow backend.\n"
     ]
    }
   ],
   "source": [
    "from sklearn.model_selection import train_test_split\n",
    "from sklearn.metrics import precision_score, classification_report\n",
    "from keras.layers import Dense, Dropout, Flatten, Activation, Conv1D, MaxPooling1D, Conv2D, MaxPooling2D\n",
    "from keras.models import Sequential, Model, clone_model\n",
    "from keras.utils import np_utils\n",
    "from keras.utils import to_categorical"
   ]
  },
  {
   "cell_type": "code",
   "execution_count": 3,
   "metadata": {},
   "outputs": [],
   "source": [
    "def normalize_data(data): \n",
    "    for i in range(data.shape[0]): \n",
    "        row = data.iloc[i, :] \n",
    "        data.iloc[i, :] = (row - min(row))/(max(row) - min(row)) \n",
    "    return data"
   ]
  },
  {
   "cell_type": "code",
   "execution_count": 4,
   "metadata": {},
   "outputs": [],
   "source": [
    "def read_data_files():\n",
    "    data = pd.DataFrame()\n",
    "    \n",
    "    for filename in os.listdir('../data/buy/'):\n",
    "        if filename.endswith(\".txt\"): \n",
    "            # symbol = filename.split(\"1\")[0]\n",
    "            tmp_df = pd.read_csv(os.path.join('../data/buy/', filename), delimiter= '\\s+', header = None)\n",
    "            tmp_df = tmp_df.astype(float)\n",
    "            # tmp_df = pd.concat([pd.Series([symbol] * tmp_df.shape[0], name = 'symbol'), tmp_df], axis=1)\n",
    "            tmp_df = tmp_df.iloc[20:,:]\n",
    "            data = pd.concat([data, tmp_df])\n",
    "    \n",
    "    osc_names = ['osc' + str(i+1) for i in range(41)]\n",
    "    prc_names = ['prc' + str(i+1) for i in range(41)]\n",
    "    macd_names = ['macd' + str(i+1) for i in range(41)]\n",
    "    data.columns = osc_names + prc_names + macd_names + ['rtn']\n",
    "    \n",
    "    osc_data = data.iloc[:, :41].reset_index(drop=True)\n",
    "    osc_data = osc_data[osc_data.columns[::-1]]\n",
    "    prc_data = data.iloc[:, 41:82].reset_index(drop=True)\n",
    "    prc_data = prc_data[prc_data.columns[::-1]]\n",
    "    prc_data = normalize_data(prc_data)\n",
    "    macd_data = data.iloc[:, 82:123].reset_index(drop=True)\n",
    "    macd_data = macd_data[macd_data.columns[::-1]]\n",
    "    rtn = data['rtn'].reset_index(drop=True)\n",
    "    label = pd.Series(map(lambda x: 1 if x>0 else 0, rtn), name = 'label')\n",
    "    data = pd.concat([osc_data, prc_data, macd_data, rtn, label], axis=1)\n",
    "    data = data.reset_index(drop=True)\n",
    "    \n",
    "    return data"
   ]
  },
  {
   "cell_type": "code",
   "execution_count": 5,
   "metadata": {},
   "outputs": [],
   "source": [
    "def remove_duplicates(data):\n",
    "    # target_names = list(data.columns)\n",
    "    # del target_names[0]\n",
    "    clean_data = data.drop_duplicates()\n",
    "    clean_data= clean_data.reset_index(drop=True)\n",
    "    return clean_data"
   ]
  },
  {
   "cell_type": "code",
   "execution_count": 6,
   "metadata": {},
   "outputs": [],
   "source": [
    "def remove_extreme_values(data): \n",
    "    data = data[(data['osc1'] > -7) & (data['osc1'] < 7)] \n",
    "    data = data.reset_index(drop=True)\n",
    "    return data"
   ]
  },
  {
   "cell_type": "code",
   "execution_count": 7,
   "metadata": {},
   "outputs": [],
   "source": [
    "def remove_pos_values(data):\n",
    "    data = data[data['osc1'] < 0]\n",
    "    data = data.reset_index(drop=True)\n",
    "    return data"
   ]
  },
  {
   "cell_type": "code",
   "execution_count": 10,
   "metadata": {
    "colab": {},
    "colab_type": "code",
    "id": "XXfJPj_SoINl"
   },
   "outputs": [],
   "source": [
    "class StockData():\n",
    "    def __init__(self, data):\n",
    "\n",
    "        pos_data = data[data['label'] == 1]\n",
    "        neg_data = data[data['label'] == 0]\n",
    "        \n",
    "        sample_size = 10000\n",
    "        pos_data = pos_data.sample(int(sample_size/2))\n",
    "        neg_data = neg_data.sample(int(sample_size/2))\n",
    "        data = pd.concat([pos_data, neg_data], axis = 0)\n",
    "        data = data.reset_index(drop = True) \n",
    "        \n",
    "        X = data.iloc[:, :124]\n",
    "        y = data['label']\n",
    "        \n",
    "        X_train_valid_w_rtn, X_test_w_rtn, y_train_valid, y_test = train_test_split(X, y, test_size=0.25) \n",
    "        # train_valid set\n",
    "        self.train_valid_rtn = X_train_valid_w_rtn['rtn']\n",
    "        self.X_train_valid = X_train_valid_w_rtn.drop(['rtn'], axis = 1)\n",
    "        self.y_train_valid = y_train_valid\n",
    "        \n",
    "        X_train_w_rtn, X_valid_w_rtn, y_train, y_valid = train_test_split(X_train_valid_w_rtn, y_train_valid, test_size=0.25) \n",
    "        # training set \n",
    "        self.train_rtn = X_train_w_rtn['rtn'] \n",
    "        self.X_train = X_train_w_rtn.drop(['rtn'], axis = 1)\n",
    "        self.y_train = y_train\n",
    "        # validation set\n",
    "        self.valid_rtn = X_valid_w_rtn['rtn']\n",
    "        self.X_valid = X_valid_w_rtn.drop(['rtn'], axis = 1) \n",
    "        self.y_valid = y_valid\n",
    "        # test set \n",
    "        self.test_rtn = X_test_w_rtn['rtn']\n",
    "        self.X_test = X_test_w_rtn.drop(['rtn'], axis = 1)        \n",
    "        self.y_test = y_test "
   ]
  },
  {
   "cell_type": "code",
   "execution_count": 11,
   "metadata": {},
   "outputs": [
    {
     "name": "stdout",
     "output_type": "stream",
     "text": [
      "(5625, 123)\n",
      "(1875, 123)\n",
      "(2500, 123)\n"
     ]
    }
   ],
   "source": [
    "data = read_data_files()\n",
    "data = remove_duplicates(data) \n",
    "data = remove_extreme_values(data)\n",
    "# data = remove_pos_values(data)\n",
    "stock_data = StockData(data)\n",
    "print(stock_data.X_train.shape)\n",
    "print(stock_data.X_valid.shape)\n",
    "print(stock_data.X_test.shape)"
   ]
  },
  {
   "cell_type": "code",
   "execution_count": 16,
   "metadata": {
    "colab": {},
    "colab_type": "code",
    "id": "TevhmQpzt_L4"
   },
   "outputs": [],
   "source": [
    "def data_to_img(data):\n",
    "    fig, axes = plt.subplots(3, 1, sharex = True)\n",
    "    fig.set_figheight(3)\n",
    "    fig.set_figwidth(2)\n",
    "    fig.tight_layout(pad=0)\n",
    "    for i in range(3):\n",
    "        axes[i].plot(range(41), data[41*i:41*(i+1)], 'black')\n",
    "    \n",
    "    fig.canvas.draw()\n",
    "    img_arr = np.frombuffer(fig.canvas.tostring_rgb(), dtype=np.uint8)\n",
    "    img_arr = img_arr.reshape(fig.canvas.get_width_height()[::-1] + (3,))\n",
    "    plt.close()  \n",
    "    return img_arr"
   ]
  },
  {
   "cell_type": "code",
   "execution_count": 15,
   "metadata": {
    "colab": {
     "base_uri": "https://localhost:8080/",
     "height": 34
    },
    "colab_type": "code",
    "id": "worf9Nwuw2jO",
    "outputId": "341392d7-4e5e-4843-9b2c-97e3a78c72a7"
   },
   "outputs": [
    {
     "data": {
      "text/plain": [
       "(216, 144, 3)"
      ]
     },
     "execution_count": 15,
     "metadata": {},
     "output_type": "execute_result"
    },
    {
     "data": {
      "image/png": "[encoded data removed]",
      "text/plain": [
       "<Figure size 144x216 with 3 Axes>"
      ]
     },
     "metadata": {
      "needs_background": "light"
     },
     "output_type": "display_data"
    }
   ],
   "source": [
    "# test whether function 'data_to_img' works properly\n",
    "img_arr = data_to_img(stock_data.X_train.iloc[999, :])\n",
    "img_arr.shape"
   ]
  },
  {
   "cell_type": "code",
   "execution_count": 17,
   "metadata": {
    "colab": {
     "base_uri": "https://localhost:8080/",
     "height": 67
    },
    "colab_type": "code",
    "id": "BVWxSBGDz1Xn",
    "outputId": "d39aa828-e7c6-42f3-bd29-79af9f635f36"
   },
   "outputs": [
    {
     "name": "stdout",
     "output_type": "stream",
     "text": [
      "0 1000 2000 3000 4000 5000 \n",
      "\n"
     ]
    },
    {
     "data": {
      "text/plain": [
       "(5625, 216, 144, 3)"
      ]
     },
     "execution_count": 17,
     "metadata": {},
     "output_type": "execute_result"
    }
   ],
   "source": [
    "# initiate X_train_img\n",
    "X_train_img = []\n",
    "for i in range(stock_data.X_train.shape[0]):\n",
    "  X_train_img.append(data_to_img(stock_data.X_train.iloc[i, :])) \n",
    "  if i%1000 == 0:\n",
    "    print(i, end=' ')\n",
    "print('\\n')\n",
    "X_train_img = np.array(X_train_img)\n",
    "X_train_img.shape"
   ]
  },
  {
   "cell_type": "code",
   "execution_count": 18,
   "metadata": {
    "colab": {
     "base_uri": "https://localhost:8080/",
     "height": 286
    },
    "colab_type": "code",
    "id": "4D-pEByRRM-B",
    "outputId": "95b5865d-3fd5-4550-f6db-7c19a54d544e"
   },
   "outputs": [
    {
     "data": {
      "text/plain": [
       "<matplotlib.image.AxesImage at 0x27633380c50>"
      ]
     },
     "execution_count": 18,
     "metadata": {},
     "output_type": "execute_result"
    },
    {
     "data": {
      "image/png": "[encoded data removed]",
      "text/plain": [
       "<Figure size 432x288 with 1 Axes>"
      ]
     },
     "metadata": {
      "needs_background": "light"
     },
     "output_type": "display_data"
    }
   ],
   "source": [
    "# check whether we get the correct X_train_img\n",
    "plt.imshow(X_train_img[999,:,:,:])"
   ]
  },
  {
   "cell_type": "code",
   "execution_count": 20,
   "metadata": {
    "colab": {
     "base_uri": "https://localhost:8080/",
     "height": 34
    },
    "colab_type": "code",
    "id": "D4j-s8b5rHaj",
    "outputId": "1b4cfd60-ec58-46e6-8488-4f22610753db"
   },
   "outputs": [
    {
     "data": {
      "text/plain": [
       "(5625, 2)"
      ]
     },
     "execution_count": 20,
     "metadata": {},
     "output_type": "execute_result"
    }
   ],
   "source": [
    "y_train = to_categorical(stock_data.y_train)\n",
    "y_train.shape"
   ]
  },
  {
   "cell_type": "code",
   "execution_count": 21,
   "metadata": {
    "colab": {
     "base_uri": "https://localhost:8080/",
     "height": 67
    },
    "colab_type": "code",
    "id": "Md7qpy1vrUOU",
    "outputId": "62a11f17-b5e3-4704-a2f0-c016702633ed"
   },
   "outputs": [
    {
     "name": "stdout",
     "output_type": "stream",
     "text": [
      "0 1000 \n",
      "\n"
     ]
    },
    {
     "data": {
      "text/plain": [
       "(1875, 216, 144, 3)"
      ]
     },
     "execution_count": 21,
     "metadata": {},
     "output_type": "execute_result"
    }
   ],
   "source": [
    "# initiate X_valid_img\n",
    "X_valid_img = []\n",
    "for i in range(stock_data.X_valid.shape[0]):\n",
    "  X_valid_img.append(data_to_img(stock_data.X_valid.iloc[i, :123])) \n",
    "  if i%1000 == 0:\n",
    "    print(i, end=' ')\n",
    "print('\\n')\n",
    "X_valid_img = np.array(X_valid_img)\n",
    "X_valid_img.shape"
   ]
  },
  {
   "cell_type": "code",
   "execution_count": 22,
   "metadata": {
    "colab": {
     "base_uri": "https://localhost:8080/",
     "height": 34
    },
    "colab_type": "code",
    "id": "L15q9JlsrUSE",
    "outputId": "f669d9e6-5b66-4850-f319-518a39939632"
   },
   "outputs": [
    {
     "data": {
      "text/plain": [
       "(1875, 2)"
      ]
     },
     "execution_count": 22,
     "metadata": {},
     "output_type": "execute_result"
    }
   ],
   "source": [
    "y_valid = to_categorical(stock_data.y_valid)\n",
    "y_valid.shape"
   ]
  },
  {
   "cell_type": "code",
   "execution_count": 23,
   "metadata": {
    "colab": {
     "base_uri": "https://localhost:8080/",
     "height": 34
    },
    "colab_type": "code",
    "id": "wGZbqgFw1jJx",
    "outputId": "3136062c-a64b-459c-e387-6fae9b766bed"
   },
   "outputs": [
    {
     "name": "stdout",
     "output_type": "stream",
     "text": [
      "0 1000 2000 \n",
      "\n"
     ]
    },
    {
     "data": {
      "text/plain": [
       "(2500, 216, 144, 3)"
      ]
     },
     "execution_count": 23,
     "metadata": {},
     "output_type": "execute_result"
    }
   ],
   "source": [
    "# initiate X_test_img\n",
    "X_test_img = []\n",
    "for i in range(stock_data.X_test.shape[0]):\n",
    "  X_test_img.append(data_to_img(stock_data.X_test.iloc[i, :123])) \n",
    "  if i%1000 == 0:\n",
    "    print(i, end=' ')\n",
    "print('\\n')\n",
    "X_test_img = np.array(X_test_img)\n",
    "X_test_img.shape"
   ]
  },
  {
   "cell_type": "code",
   "execution_count": 25,
   "metadata": {
    "colab": {
     "base_uri": "https://localhost:8080/",
     "height": 34
    },
    "colab_type": "code",
    "id": "zQjThL6tMWob",
    "outputId": "9f6453a0-5be3-4665-eba8-d207a8f07a07"
   },
   "outputs": [
    {
     "data": {
      "text/plain": [
       "(2500, 2)"
      ]
     },
     "execution_count": 25,
     "metadata": {},
     "output_type": "execute_result"
    }
   ],
   "source": [
    "y_test = to_categorical(stock_data.y_test)\n",
    "y_test.shape"
   ]
  },
  {
   "cell_type": "markdown",
   "metadata": {
    "colab_type": "text",
    "id": "Ta9_jFffqnrL"
   },
   "source": [
    "## try CNN model using 2D data (oscillator/price/macd plots)"
   ]
  },
  {
   "cell_type": "code",
   "execution_count": 26,
   "metadata": {
    "colab": {
     "base_uri": "https://localhost:8080/",
     "height": 104
    },
    "colab_type": "code",
    "id": "yZwskM1dCNS9",
    "outputId": "4a0c36b5-ecfd-4a21-fc6b-2cc55cbaa538"
   },
   "outputs": [
    {
     "name": "stdout",
     "output_type": "stream",
     "text": [
      "WARNING:tensorflow:From C:\\Users\\leiju\\Anaconda3\\lib\\site-packages\\tensorflow\\python\\framework\\op_def_library.py:263: colocate_with (from tensorflow.python.framework.ops) is deprecated and will be removed in a future version.\n",
      "Instructions for updating:\n",
      "Colocations handled automatically by placer.\n",
      "WARNING:tensorflow:From C:\\Users\\leiju\\Anaconda3\\lib\\site-packages\\keras\\backend\\tensorflow_backend.py:3445: calling dropout (from tensorflow.python.ops.nn_ops) with keep_prob is deprecated and will be removed in a future version.\n",
      "Instructions for updating:\n",
      "Please use `rate` instead of `keep_prob`. Rate should be set to `rate = 1 - keep_prob`.\n",
      "WARNING:tensorflow:From C:\\Users\\leiju\\Anaconda3\\lib\\site-packages\\tensorflow\\python\\ops\\math_ops.py:3066: to_int32 (from tensorflow.python.ops.math_ops) is deprecated and will be removed in a future version.\n",
      "Instructions for updating:\n",
      "Use tf.cast instead.\n",
      "Train on 5625 samples, validate on 1875 samples\n",
      "Epoch 1/20\n",
      "5625/5625 [==============================] - 326s 58ms/step - loss: 8.0204 - acc: 0.5006 - val_loss: 8.2353 - val_acc: 0.4891\n",
      "Epoch 2/20\n",
      "5625/5625 [==============================] - 312s 56ms/step - loss: 7.8862 - acc: 0.5086 - val_loss: 8.2353 - val_acc: 0.4891\n",
      "Epoch 3/20\n",
      "5625/5625 [==============================] - 333s 59ms/step - loss: 7.8965 - acc: 0.5088 - val_loss: 8.2353 - val_acc: 0.4891\n",
      "Epoch 4/20\n",
      "5625/5625 [==============================] - 340s 60ms/step - loss: 7.9706 - acc: 0.5045 - val_loss: 8.2353 - val_acc: 0.4891\n",
      "Epoch 5/20\n",
      "5625/5625 [==============================] - 326s 58ms/step - loss: 7.9095 - acc: 0.5068 - val_loss: 8.2353 - val_acc: 0.4891\n",
      "Epoch 6/20\n",
      "5625/5625 [==============================] - 303s 54ms/step - loss: 8.0962 - acc: 0.4967 - val_loss: 8.2353 - val_acc: 0.4891\n",
      "Epoch 7/20\n",
      "5625/5625 [==============================] - 302s 54ms/step - loss: 7.8047 - acc: 0.5140 - val_loss: 8.2353 - val_acc: 0.4891\n",
      "Epoch 8/20\n",
      "5625/5625 [==============================] - 293s 52ms/step - loss: 7.9086 - acc: 0.5079 - val_loss: 8.2353 - val_acc: 0.4891\n",
      "Epoch 9/20\n",
      "5625/5625 [==============================] - 333s 59ms/step - loss: 8.0654 - acc: 0.4983 - val_loss: 8.2353 - val_acc: 0.4891\n",
      "Epoch 10/20\n",
      "5625/5625 [==============================] - 330s 59ms/step - loss: 7.9923 - acc: 0.5026 - val_loss: 8.2353 - val_acc: 0.4891\n",
      "Epoch 11/20\n",
      "5625/5625 [==============================] - 309s 55ms/step - loss: 7.8888 - acc: 0.5076 - val_loss: 8.2353 - val_acc: 0.4891\n",
      "Epoch 12/20\n",
      "5625/5625 [==============================] - 317s 56ms/step - loss: 8.0866 - acc: 0.4958 - val_loss: 8.2353 - val_acc: 0.4891\n",
      "Epoch 13/20\n",
      "5625/5625 [==============================] - 318s 57ms/step - loss: 7.9848 - acc: 0.5038 - val_loss: 8.2353 - val_acc: 0.4891\n",
      "Epoch 14/20\n",
      "5625/5625 [==============================] - 303s 54ms/step - loss: 8.0318 - acc: 0.4997 - val_loss: 8.2353 - val_acc: 0.4891\n",
      "Epoch 15/20\n",
      "5625/5625 [==============================] - 306s 54ms/step - loss: 8.0665 - acc: 0.4976 - val_loss: 8.2353 - val_acc: 0.4891\n",
      "Epoch 16/20\n",
      "5625/5625 [==============================] - 317s 56ms/step - loss: 7.9714 - acc: 0.5036 - val_loss: 8.2353 - val_acc: 0.4891\n",
      "Epoch 17/20\n",
      "5625/5625 [==============================] - 318s 56ms/step - loss: 8.1257 - acc: 0.4944 - val_loss: 8.2353 - val_acc: 0.4891\n",
      "Epoch 18/20\n",
      "5625/5625 [==============================] - 311s 55ms/step - loss: 8.1345 - acc: 0.4933 - val_loss: 8.2353 - val_acc: 0.4891\n",
      "Epoch 19/20\n",
      "5625/5625 [==============================] - 297s 53ms/step - loss: 8.0054 - acc: 0.5017 - val_loss: 8.2353 - val_acc: 0.4891\n",
      "Epoch 20/20\n",
      "5625/5625 [==============================] - 291s 52ms/step - loss: 8.0917 - acc: 0.4962 - val_loss: 8.2353 - val_acc: 0.4891\n"
     ]
    }
   ],
   "source": [
    "model = Sequential()\n",
    "model.add(Conv2D(32, (6, 6), input_shape=(216, 144,3), activation='relu'))\n",
    "model.add(MaxPooling2D(pool_size = (2, 2)))\n",
    "model.add(Conv2D(32, (6, 6), activation='relu'))\n",
    "model.add(MaxPooling2D(pool_size = (2, 2)))\n",
    "model.add(Flatten())\n",
    "model.add(Dense(16, activation='relu'))\n",
    "model.add(Dropout(rate = 0.5))\n",
    "model.add(Dense(2, activation='softmax'))\n",
    "model.compile(loss='categorical_crossentropy', optimizer='adam', metrics=['accuracy'])\n",
    "history = model.fit(X_train_img, y_train, epochs=20, verbose=1, validation_data=(X_valid_img, y_valid))"
   ]
  },
  {
   "cell_type": "code",
   "execution_count": 18,
   "metadata": {
    "colab": {
     "base_uri": "https://localhost:8080/",
     "height": 283
    },
    "colab_type": "code",
    "id": "Gti336l5zmpC",
    "outputId": "a60e73ea-1f01-4eeb-a893-8ed24ce8bfe7"
   },
   "outputs": [
    {
     "data": {
      "image/png": "[encoded data removed]",
      "text/plain": [
       "<Figure size 432x288 with 1 Axes>"
      ]
     },
     "metadata": {
      "needs_background": "light"
     },
     "output_type": "display_data"
    }
   ],
   "source": [
    "# results using training set and valid set \n",
    "plt.plot(history.history['acc'])\n",
    "plt.plot(history.history['val_acc'])\n",
    "plt.ylim(0.45, 0.55)\n",
    "plt.xticks(range(0, 20))\n",
    "plt.xlabel('epochs')\n",
    "plt.ylabel('accuracy')\n",
    "plt.legend(['train', 'valid']);"
   ]
  },
  {
   "cell_type": "code",
   "execution_count": null,
   "metadata": {},
   "outputs": [],
   "source": [
    "pred = model.predict(X_valid_img)\n",
    "print(classification_report(y_valid, pred))"
   ]
  },
  {
   "cell_type": "code",
   "execution_count": null,
   "metadata": {},
   "outputs": [],
   "source": [
    "model.compile(loss='categorical_crossentropy', optimizer='adam', metrics=['accuracy'])\n",
    "history = model.fit(X_train_img, y_train, epochs=20, verbose=1, validation_data=(X_test_img, y_test))"
   ]
  },
  {
   "cell_type": "code",
   "execution_count": null,
   "metadata": {
    "colab": {
     "base_uri": "https://localhost:8080/",
     "height": 283
    },
    "colab_type": "code",
    "id": "6HlEwaPDv-RA",
    "outputId": "47f4ddff-ec86-472b-f489-2e9d20aaf9e1"
   },
   "outputs": [],
   "source": [
    "# results using training set and test set \n",
    "plt.plot(history.history['acc'])\n",
    "plt.plot(history.history['val_acc'])\n",
    "plt.ylim(0.45, 0.55)\n",
    "plt.xticks(range(0, 20))\n",
    "plt.xlabel('epochs')\n",
    "plt.ylabel('accuracy')\n",
    "plt.legend(['train', 'test']);"
   ]
  },
  {
   "cell_type": "code",
   "execution_count": 22,
   "metadata": {
    "colab": {},
    "colab_type": "code",
    "id": "gVMgwIxat-_L"
   },
   "outputs": [],
   "source": [
    "pred = model.predict(X_test_img)\n",
    "print(classification_report(y_test, pred))"
   ]
  },
  {
   "cell_type": "code",
   "execution_count": 28,
   "metadata": {},
   "outputs": [
    {
     "data": {
      "text/html": [
       "<div>\n",
       "<style scoped>\n",
       "    .dataframe tbody tr th:only-of-type {\n",
       "        vertical-align: middle;\n",
       "    }\n",
       "\n",
       "    .dataframe tbody tr th {\n",
       "        vertical-align: top;\n",
       "    }\n",
       "\n",
       "    .dataframe thead th {\n",
       "        text-align: right;\n",
       "    }\n",
       "</style>\n",
       "<table border=\"1\" class=\"dataframe\">\n",
       "  <thead>\n",
       "    <tr style=\"text-align: right;\">\n",
       "      <th></th>\n",
       "      <th>osc41</th>\n",
       "      <th>osc40</th>\n",
       "      <th>osc39</th>\n",
       "      <th>osc38</th>\n",
       "      <th>osc37</th>\n",
       "      <th>osc36</th>\n",
       "      <th>osc35</th>\n",
       "      <th>osc34</th>\n",
       "      <th>osc33</th>\n",
       "      <th>osc32</th>\n",
       "      <th>...</th>\n",
       "      <th>macd8</th>\n",
       "      <th>macd7</th>\n",
       "      <th>macd6</th>\n",
       "      <th>macd5</th>\n",
       "      <th>macd4</th>\n",
       "      <th>macd3</th>\n",
       "      <th>macd2</th>\n",
       "      <th>macd1</th>\n",
       "      <th>rtn</th>\n",
       "      <th>label</th>\n",
       "    </tr>\n",
       "  </thead>\n",
       "  <tbody>\n",
       "    <tr>\n",
       "      <th>0</th>\n",
       "      <td>-5.68</td>\n",
       "      <td>-7.41</td>\n",
       "      <td>-9.97</td>\n",
       "      <td>-12.28</td>\n",
       "      <td>-13.99</td>\n",
       "      <td>-14.43</td>\n",
       "      <td>-14.78</td>\n",
       "      <td>-14.55</td>\n",
       "      <td>-14.44</td>\n",
       "      <td>-14.65</td>\n",
       "      <td>...</td>\n",
       "      <td>0.06</td>\n",
       "      <td>0.04</td>\n",
       "      <td>0.03</td>\n",
       "      <td>0.07</td>\n",
       "      <td>0.10</td>\n",
       "      <td>0.11</td>\n",
       "      <td>0.14</td>\n",
       "      <td>0.14</td>\n",
       "      <td>-1.06</td>\n",
       "      <td>0</td>\n",
       "    </tr>\n",
       "    <tr>\n",
       "      <th>1</th>\n",
       "      <td>-12.28</td>\n",
       "      <td>-13.99</td>\n",
       "      <td>-14.43</td>\n",
       "      <td>-14.78</td>\n",
       "      <td>-14.55</td>\n",
       "      <td>-14.44</td>\n",
       "      <td>-14.65</td>\n",
       "      <td>-13.67</td>\n",
       "      <td>-12.92</td>\n",
       "      <td>-12.43</td>\n",
       "      <td>...</td>\n",
       "      <td>0.07</td>\n",
       "      <td>0.10</td>\n",
       "      <td>0.11</td>\n",
       "      <td>0.14</td>\n",
       "      <td>0.14</td>\n",
       "      <td>0.13</td>\n",
       "      <td>0.11</td>\n",
       "      <td>0.10</td>\n",
       "      <td>-0.53</td>\n",
       "      <td>0</td>\n",
       "    </tr>\n",
       "    <tr>\n",
       "      <th>2</th>\n",
       "      <td>-14.43</td>\n",
       "      <td>-14.78</td>\n",
       "      <td>-14.55</td>\n",
       "      <td>-14.44</td>\n",
       "      <td>-14.65</td>\n",
       "      <td>-13.67</td>\n",
       "      <td>-12.92</td>\n",
       "      <td>-12.43</td>\n",
       "      <td>-11.79</td>\n",
       "      <td>-11.16</td>\n",
       "      <td>...</td>\n",
       "      <td>0.11</td>\n",
       "      <td>0.14</td>\n",
       "      <td>0.14</td>\n",
       "      <td>0.13</td>\n",
       "      <td>0.11</td>\n",
       "      <td>0.10</td>\n",
       "      <td>0.08</td>\n",
       "      <td>0.08</td>\n",
       "      <td>-5.32</td>\n",
       "      <td>0</td>\n",
       "    </tr>\n",
       "    <tr>\n",
       "      <th>3</th>\n",
       "      <td>0.78</td>\n",
       "      <td>1.40</td>\n",
       "      <td>2.16</td>\n",
       "      <td>2.75</td>\n",
       "      <td>3.26</td>\n",
       "      <td>2.89</td>\n",
       "      <td>1.93</td>\n",
       "      <td>0.61</td>\n",
       "      <td>-0.67</td>\n",
       "      <td>-2.43</td>\n",
       "      <td>...</td>\n",
       "      <td>0.03</td>\n",
       "      <td>0.02</td>\n",
       "      <td>0.00</td>\n",
       "      <td>0.01</td>\n",
       "      <td>0.02</td>\n",
       "      <td>0.01</td>\n",
       "      <td>0.01</td>\n",
       "      <td>0.00</td>\n",
       "      <td>-0.56</td>\n",
       "      <td>0</td>\n",
       "    </tr>\n",
       "    <tr>\n",
       "      <th>4</th>\n",
       "      <td>2.16</td>\n",
       "      <td>2.75</td>\n",
       "      <td>3.26</td>\n",
       "      <td>2.89</td>\n",
       "      <td>1.93</td>\n",
       "      <td>0.61</td>\n",
       "      <td>-0.67</td>\n",
       "      <td>-2.43</td>\n",
       "      <td>-4.29</td>\n",
       "      <td>-6.33</td>\n",
       "      <td>...</td>\n",
       "      <td>0.00</td>\n",
       "      <td>0.01</td>\n",
       "      <td>0.02</td>\n",
       "      <td>0.01</td>\n",
       "      <td>0.01</td>\n",
       "      <td>0.00</td>\n",
       "      <td>-0.01</td>\n",
       "      <td>-0.01</td>\n",
       "      <td>-5.03</td>\n",
       "      <td>0</td>\n",
       "    </tr>\n",
       "    <tr>\n",
       "      <th>5</th>\n",
       "      <td>-9.77</td>\n",
       "      <td>-8.67</td>\n",
       "      <td>-6.30</td>\n",
       "      <td>-3.78</td>\n",
       "      <td>-1.30</td>\n",
       "      <td>1.23</td>\n",
       "      <td>3.64</td>\n",
       "      <td>5.83</td>\n",
       "      <td>8.27</td>\n",
       "      <td>9.46</td>\n",
       "      <td>...</td>\n",
       "      <td>-0.18</td>\n",
       "      <td>-0.17</td>\n",
       "      <td>-0.16</td>\n",
       "      <td>-0.14</td>\n",
       "      <td>-0.12</td>\n",
       "      <td>-0.14</td>\n",
       "      <td>-0.11</td>\n",
       "      <td>0.02</td>\n",
       "      <td>2.29</td>\n",
       "      <td>1</td>\n",
       "    </tr>\n",
       "    <tr>\n",
       "      <th>6</th>\n",
       "      <td>-1.08</td>\n",
       "      <td>-1.32</td>\n",
       "      <td>-1.29</td>\n",
       "      <td>-1.29</td>\n",
       "      <td>-1.01</td>\n",
       "      <td>-0.66</td>\n",
       "      <td>-0.92</td>\n",
       "      <td>-1.41</td>\n",
       "      <td>-2.24</td>\n",
       "      <td>-3.37</td>\n",
       "      <td>...</td>\n",
       "      <td>0.12</td>\n",
       "      <td>0.14</td>\n",
       "      <td>0.14</td>\n",
       "      <td>0.13</td>\n",
       "      <td>0.12</td>\n",
       "      <td>0.10</td>\n",
       "      <td>0.08</td>\n",
       "      <td>0.07</td>\n",
       "      <td>1.12</td>\n",
       "      <td>1</td>\n",
       "    </tr>\n",
       "    <tr>\n",
       "      <th>7</th>\n",
       "      <td>-3.98</td>\n",
       "      <td>-4.75</td>\n",
       "      <td>-5.65</td>\n",
       "      <td>-6.49</td>\n",
       "      <td>-7.06</td>\n",
       "      <td>-7.60</td>\n",
       "      <td>-7.75</td>\n",
       "      <td>-7.92</td>\n",
       "      <td>-8.14</td>\n",
       "      <td>-6.89</td>\n",
       "      <td>...</td>\n",
       "      <td>0.02</td>\n",
       "      <td>-0.00</td>\n",
       "      <td>0.01</td>\n",
       "      <td>0.02</td>\n",
       "      <td>0.02</td>\n",
       "      <td>0.02</td>\n",
       "      <td>0.01</td>\n",
       "      <td>0.04</td>\n",
       "      <td>-0.53</td>\n",
       "      <td>0</td>\n",
       "    </tr>\n",
       "    <tr>\n",
       "      <th>8</th>\n",
       "      <td>-6.49</td>\n",
       "      <td>-7.06</td>\n",
       "      <td>-7.60</td>\n",
       "      <td>-7.75</td>\n",
       "      <td>-7.92</td>\n",
       "      <td>-8.14</td>\n",
       "      <td>-6.89</td>\n",
       "      <td>-5.67</td>\n",
       "      <td>-4.42</td>\n",
       "      <td>-2.62</td>\n",
       "      <td>...</td>\n",
       "      <td>0.02</td>\n",
       "      <td>0.02</td>\n",
       "      <td>0.02</td>\n",
       "      <td>0.01</td>\n",
       "      <td>0.04</td>\n",
       "      <td>0.05</td>\n",
       "      <td>0.05</td>\n",
       "      <td>0.05</td>\n",
       "      <td>-8.06</td>\n",
       "      <td>0</td>\n",
       "    </tr>\n",
       "    <tr>\n",
       "      <th>9</th>\n",
       "      <td>3.41</td>\n",
       "      <td>3.66</td>\n",
       "      <td>3.70</td>\n",
       "      <td>3.82</td>\n",
       "      <td>3.52</td>\n",
       "      <td>3.18</td>\n",
       "      <td>3.08</td>\n",
       "      <td>2.93</td>\n",
       "      <td>2.80</td>\n",
       "      <td>2.59</td>\n",
       "      <td>...</td>\n",
       "      <td>-0.14</td>\n",
       "      <td>-0.15</td>\n",
       "      <td>-0.16</td>\n",
       "      <td>-0.18</td>\n",
       "      <td>-0.17</td>\n",
       "      <td>-0.14</td>\n",
       "      <td>-0.13</td>\n",
       "      <td>-0.06</td>\n",
       "      <td>0.00</td>\n",
       "      <td>0</td>\n",
       "    </tr>\n",
       "  </tbody>\n",
       "</table>\n",
       "<p>10 rows × 125 columns</p>\n",
       "</div>"
      ],
      "text/plain": [
       "   osc41  osc40  osc39  osc38  osc37  osc36  osc35  osc34  osc33  osc32  ...  \\\n",
       "0  -5.68  -7.41  -9.97 -12.28 -13.99 -14.43 -14.78 -14.55 -14.44 -14.65  ...   \n",
       "1 -12.28 -13.99 -14.43 -14.78 -14.55 -14.44 -14.65 -13.67 -12.92 -12.43  ...   \n",
       "2 -14.43 -14.78 -14.55 -14.44 -14.65 -13.67 -12.92 -12.43 -11.79 -11.16  ...   \n",
       "3   0.78   1.40   2.16   2.75   3.26   2.89   1.93   0.61  -0.67  -2.43  ...   \n",
       "4   2.16   2.75   3.26   2.89   1.93   0.61  -0.67  -2.43  -4.29  -6.33  ...   \n",
       "5  -9.77  -8.67  -6.30  -3.78  -1.30   1.23   3.64   5.83   8.27   9.46  ...   \n",
       "6  -1.08  -1.32  -1.29  -1.29  -1.01  -0.66  -0.92  -1.41  -2.24  -3.37  ...   \n",
       "7  -3.98  -4.75  -5.65  -6.49  -7.06  -7.60  -7.75  -7.92  -8.14  -6.89  ...   \n",
       "8  -6.49  -7.06  -7.60  -7.75  -7.92  -8.14  -6.89  -5.67  -4.42  -2.62  ...   \n",
       "9   3.41   3.66   3.70   3.82   3.52   3.18   3.08   2.93   2.80   2.59  ...   \n",
       "\n",
       "   macd8  macd7  macd6  macd5  macd4  macd3  macd2  macd1   rtn  label  \n",
       "0   0.06   0.04   0.03   0.07   0.10   0.11   0.14   0.14 -1.06      0  \n",
       "1   0.07   0.10   0.11   0.14   0.14   0.13   0.11   0.10 -0.53      0  \n",
       "2   0.11   0.14   0.14   0.13   0.11   0.10   0.08   0.08 -5.32      0  \n",
       "3   0.03   0.02   0.00   0.01   0.02   0.01   0.01   0.00 -0.56      0  \n",
       "4   0.00   0.01   0.02   0.01   0.01   0.00  -0.01  -0.01 -5.03      0  \n",
       "5  -0.18  -0.17  -0.16  -0.14  -0.12  -0.14  -0.11   0.02  2.29      1  \n",
       "6   0.12   0.14   0.14   0.13   0.12   0.10   0.08   0.07  1.12      1  \n",
       "7   0.02  -0.00   0.01   0.02   0.02   0.02   0.01   0.04 -0.53      0  \n",
       "8   0.02   0.02   0.02   0.01   0.04   0.05   0.05   0.05 -8.06      0  \n",
       "9  -0.14  -0.15  -0.16  -0.18  -0.17  -0.14  -0.13  -0.06  0.00      0  \n",
       "\n",
       "[10 rows x 125 columns]"
      ]
     },
     "execution_count": 28,
     "metadata": {},
     "output_type": "execute_result"
    }
   ],
   "source": [
    "data.head(10)"
   ]
  },
  {
   "cell_type": "code",
   "execution_count": null,
   "metadata": {},
   "outputs": [],
   "source": []
  }
 ],
 "metadata": {
  "accelerator": "GPU",
  "colab": {
   "collapsed_sections": [],
   "name": "Copy of Seahorse_CNN3.ipynb",
   "provenance": [],
   "version": "0.3.2"
  },
  "kernelspec": {
   "display_name": "Python 3",
   "language": "python",
   "name": "python3"
  },
  "language_info": {
   "codemirror_mode": {
    "name": "ipython",
    "version": 3
   },
   "file_extension": ".py",
   "mimetype": "text/x-python",
   "name": "python",
   "nbconvert_exporter": "python",
   "pygments_lexer": "ipython3",
   "version": "3.7.3"
  }
 },
 "nbformat": 4,
 "nbformat_minor": 1
}
