{
 "cells": [
  {
   "cell_type": "code",
   "execution_count": 5,
   "metadata": {
    "colab": {
     "base_uri": "https://localhost:8080/",
     "height": 121
    },
    "colab_type": "code",
    "id": "PagXGSVPFa0X",
    "outputId": "96e56a69-fc51-413c-f0c4-7884c16d94e0"
   },
   "outputs": [
    {
     "data": {
      "text/plain": [
       "\"\\nfrom google.colab import drive\\ndrive.mount('/content/gdrive')\\nfile_path = 'gdrive/My Drive/ColabNotebooks/Seahorse/' \\n\""
      ]
     },
     "execution_count": 5,
     "metadata": {},
     "output_type": "execute_result"
    }
   ],
   "source": [
    "'''\n",
    "from google.colab import drive\n",
    "drive.mount('/content/gdrive')\n",
    "file_path = 'gdrive/My Drive/ColabNotebooks/Seahorse/' \n",
    "'''"
   ]
  },
  {
   "cell_type": "code",
   "execution_count": 1,
   "metadata": {
    "colab": {},
    "colab_type": "code",
    "id": "W69sW5ZHFgjM"
   },
   "outputs": [],
   "source": [
    "import pandas as pd\n",
    "import numpy as np\n",
    "import scipy.signal\n",
    "from sys import getsizeof\n",
    "import matplotlib.pyplot as plt\n",
    "import re "
   ]
  },
  {
   "cell_type": "code",
   "execution_count": 2,
   "metadata": {
    "colab": {
     "base_uri": "https://localhost:8080/",
     "height": 34
    },
    "colab_type": "code",
    "id": "BMGbfyNVHNea",
    "outputId": "360d6c78-bc91-4028-ce2f-10fc5aa1a69c"
   },
   "outputs": [
    {
     "name": "stderr",
     "output_type": "stream",
     "text": [
      "Using TensorFlow backend.\n"
     ]
    }
   ],
   "source": [
    "from sklearn.model_selection import train_test_split\n",
    "from keras.layers import Dense, Dropout, Flatten, Activation, Conv1D, MaxPooling1D, Conv2D, MaxPooling2D\n",
    "from keras.models import Sequential, Model, clone_model\n",
    "from keras.utils import np_utils\n",
    "from keras.utils import to_categorical"
   ]
  },
  {
   "cell_type": "markdown",
   "metadata": {
    "colab_type": "text",
    "id": "Ta9_jFffqnrL"
   },
   "source": [
    "## try CNN model using 2D data (oscillator/price/macd plots)"
   ]
  },
  {
   "cell_type": "code",
   "execution_count": 6,
   "metadata": {
    "colab": {},
    "colab_type": "code",
    "id": "STjb7Cm2kyqj"
   },
   "outputs": [],
   "source": [
    "def normalize_data(data): \n",
    "    for i in range(data.shape[0]): \n",
    "        row = data.iloc[i, :] \n",
    "        data.iloc[i, :] = (row - min(row))/(max(row) - min(row)) \n",
    "    return data"
   ]
  },
  {
   "cell_type": "code",
   "execution_count": 7,
   "metadata": {
    "colab": {},
    "colab_type": "code",
    "id": "XXfJPj_SoINl"
   },
   "outputs": [],
   "source": [
    "class StockData():\n",
    "    def __init__(self, file_path):\n",
    "        '''\n",
    "        input parameter \"file_path\" refers to the data file that contains all of the cleaned data, including oscillator, price, macd, return, symbol and label. \n",
    "        '''\n",
    "        data = pd.read_csv(file_path, header=0, index_col=0) \n",
    "        print(\"read_csv done\")\n",
    "        \n",
    "        pos_data = data[data['label'] == 1]\n",
    "        neg_data = data[data['label'] == 0]\n",
    "        \n",
    "        sample_size = 12000\n",
    "        pos_data = pos_data.sample(int(sample_size/2))\n",
    "        neg_data = neg_data.sample(int(sample_size/2))\n",
    "        data = pd.concat([pos_data, neg_data], axis = 0)\n",
    "        data = data.reset_index(drop = True) \n",
    "         \n",
    "        osc_normalized = normalize_data(data.iloc[:, :41])\n",
    "        print(\"normalize osc done\")\n",
    "        prc_normalized = normalize_data(data.iloc[:, 41:82])\n",
    "        print(\"normalize prc done\")\n",
    "        macd_normalized = normalize_data(data.iloc[:, 82:123])\n",
    "        print(\"normalize macd done\")\n",
    "        rtn = data['rtn']\n",
    "        X = pd.concat([osc_normalized, prc_normalized, macd_normalized, rtn], axis=1)\n",
    "        y = data['label']\n",
    "        \n",
    "        X_train_valid_w_rtn, X_test_w_rtn, y_train_valid, y_test = train_test_split(X, y, test_size=0.25) \n",
    "        # train_valid set\n",
    "        self.train_valid_rtn = X_train_valid_w_rtn['rtn']\n",
    "        self.X_train_valid = X_train_valid_w_rtn.drop(['rtn'], axis = 1)\n",
    "        self.y_train_valid = y_train_valid\n",
    "        \n",
    "        X_train_w_rtn, X_valid_w_rtn, y_train, y_valid = train_test_split(X_train_valid_w_rtn, y_train_valid, test_size=0.25) \n",
    "        # training set \n",
    "        self.train_rtn = X_train_w_rtn['rtn'] \n",
    "        self.X_train = X_train_w_rtn.drop(['rtn'], axis = 1)\n",
    "        self.y_train = y_train\n",
    "        # validation set\n",
    "        self.valid_rtn = X_valid_w_rtn['rtn']\n",
    "        self.X_valid = X_valid_w_rtn.drop(['rtn'], axis = 1) \n",
    "        self.y_valid = y_valid\n",
    "        # test set \n",
    "        self.test_rtn = X_test_w_rtn['rtn']\n",
    "        self.X_test = X_test_w_rtn.drop(['rtn'], axis = 1)        \n",
    "        self.y_test = y_test "
   ]
  },
  {
   "cell_type": "code",
   "execution_count": 8,
   "metadata": {
    "colab": {
     "base_uri": "https://localhost:8080/",
     "height": 101
    },
    "colab_type": "code",
    "id": "o612KFcYt6ly",
    "outputId": "0b050aea-722e-4d1c-f406-65c57ce63504"
   },
   "outputs": [
    {
     "name": "stdout",
     "output_type": "stream",
     "text": [
      "read_csv done\n",
      "normalize osc done\n",
      "normalize prc done\n",
      "normalize macd done\n"
     ]
    },
    {
     "data": {
      "text/plain": [
       "(6750, 123)"
      ]
     },
     "execution_count": 8,
     "metadata": {},
     "output_type": "execute_result"
    }
   ],
   "source": [
    "data = StockData('../data/D1over5.csv')\n",
    "data.X_train.shape"
   ]
  },
  {
   "cell_type": "code",
   "execution_count": 10,
   "metadata": {
    "colab": {},
    "colab_type": "code",
    "id": "TevhmQpzt_L4"
   },
   "outputs": [],
   "source": [
    "def data_to_img(data):\n",
    "    fig, axes = plt.subplots(3, 1, sharex = True)\n",
    "    fig.set_figheight(3)\n",
    "    fig.set_figwidth(3)\n",
    "    fig.tight_layout(pad=0)\n",
    "    for i in range(3):\n",
    "        axes[i].plot(range(41), data[41*i:41*(i+1)], 'black')\n",
    "        axes[i].tick_params(axis='both', which='both', bottom=False, top=False, labelbottom=False, right=False, left=False, labelleft=False)\n",
    "        axes[i].spines[\"top\"].set_visible(False)\n",
    "        # axes[i].spines[\"bottom\"].set_visible(False)\n",
    "        axes[i].spines[\"left\"].set_visible(False)\n",
    "        axes[i].spines[\"right\"].set_visible(False)\n",
    "    fig.canvas.draw()\n",
    "    img_arr = np.frombuffer(fig.canvas.tostring_rgb(), dtype=np.uint8)\n",
    "    img_arr = img_arr.reshape(fig.canvas.get_width_height()[::-1] + (3,))\n",
    "    plt.close()  \n",
    "    return img_arr"
   ]
  },
  {
   "cell_type": "code",
   "execution_count": 8,
   "metadata": {
    "colab": {
     "base_uri": "https://localhost:8080/",
     "height": 233
    },
    "colab_type": "code",
    "id": "X_EAg0g_xYRT",
    "outputId": "e7b15e6d-b6ea-49ad-8ce0-e4bd4f5f6ecf"
   },
   "outputs": [
    {
     "data": {
      "image/png": "[encoded data removed]",
      "text/plain": [
       "<Figure size 216x216 with 3 Axes>"
      ]
     },
     "metadata": {
      "tags": []
     },
     "output_type": "display_data"
    }
   ],
   "source": [
    "# explore how to convert one row of data into an image \n",
    "fig, axes = plt.subplots(3, 1, sharex = True)\n",
    "fig.set_figheight(3)\n",
    "fig.set_figwidth(3)\n",
    "fig.tight_layout(pad=0)\n",
    "for i in range(3):\n",
    "    axes[i].plot(range(41), data.X_train.iloc[111, 41*i:41*(i+1)], 'black')\n",
    "    axes[i].tick_params(axis = 'both', which = 'both', bottom=False, top=False, labelbottom=False, right=False, left=False, labelleft=False)\n",
    "    axes[i].spines[\"top\"].set_visible(False)\n",
    "    # axes[i].spines[\"bottom\"].set_visible(False)\n",
    "    axes[i].spines[\"left\"].set_visible(False)\n",
    "    axes[i].spines[\"right\"].set_visible(False)\n",
    "fig.savefig(file_path + \"figtest.png\")"
   ]
  },
  {
   "cell_type": "code",
   "execution_count": 11,
   "metadata": {
    "colab": {
     "base_uri": "https://localhost:8080/",
     "height": 34
    },
    "colab_type": "code",
    "id": "worf9Nwuw2jO",
    "outputId": "341392d7-4e5e-4843-9b2c-97e3a78c72a7"
   },
   "outputs": [
    {
     "data": {
      "text/plain": [
       "(216, 216, 3)"
      ]
     },
     "execution_count": 11,
     "metadata": {},
     "output_type": "execute_result"
    }
   ],
   "source": [
    "# test whether the function works properly\n",
    "img_arr = data_to_img(data.X_train.iloc[101, :])\n",
    "img_arr.shape"
   ]
  },
  {
   "cell_type": "code",
   "execution_count": 12,
   "metadata": {
    "colab": {
     "base_uri": "https://localhost:8080/",
     "height": 67
    },
    "colab_type": "code",
    "id": "BVWxSBGDz1Xn",
    "outputId": "d39aa828-e7c6-42f3-bd29-79af9f635f36"
   },
   "outputs": [
    {
     "name": "stdout",
     "output_type": "stream",
     "text": [
      "0 1000 2000 3000 4000 5000 6000 \n",
      "\n"
     ]
    },
    {
     "data": {
      "text/plain": [
       "(6750, 216, 216, 3)"
      ]
     },
     "execution_count": 12,
     "metadata": {},
     "output_type": "execute_result"
    }
   ],
   "source": [
    "# initiate X_train_img\n",
    "X_train_img = []\n",
    "for i in range(data.X_train.shape[0]):\n",
    "  X_train_img.append(data_to_img(data.X_train.iloc[i, :123])) \n",
    "  if i%1000 == 0:\n",
    "    print(i, end=' ')\n",
    "print('\\n')\n",
    "X_train_img = np.array(X_train_img)\n",
    "X_train_img.shape"
   ]
  },
  {
   "cell_type": "code",
   "execution_count": 13,
   "metadata": {
    "colab": {
     "base_uri": "https://localhost:8080/",
     "height": 286
    },
    "colab_type": "code",
    "id": "4D-pEByRRM-B",
    "outputId": "95b5865d-3fd5-4550-f6db-7c19a54d544e"
   },
   "outputs": [
    {
     "data": {
      "text/plain": [
       "<matplotlib.image.AxesImage at 0x264ce112e10>"
      ]
     },
     "execution_count": 13,
     "metadata": {},
     "output_type": "execute_result"
    },
    {
     "data": {
      "image/png": "[encoded data removed]",
      "text/plain": [
       "<Figure size 432x288 with 1 Axes>"
      ]
     },
     "metadata": {
      "needs_background": "light"
     },
     "output_type": "display_data"
    }
   ],
   "source": [
    "# check whether we get the correct X_train_img\n",
    "plt.imshow(X_train_img[0,:,:,:])"
   ]
  },
  {
   "cell_type": "code",
   "execution_count": 14,
   "metadata": {
    "colab": {
     "base_uri": "https://localhost:8080/",
     "height": 34
    },
    "colab_type": "code",
    "id": "D4j-s8b5rHaj",
    "outputId": "1b4cfd60-ec58-46e6-8488-4f22610753db"
   },
   "outputs": [
    {
     "data": {
      "text/plain": [
       "(6750, 2)"
      ]
     },
     "execution_count": 14,
     "metadata": {},
     "output_type": "execute_result"
    }
   ],
   "source": [
    "y_train = to_categorical(data.y_train)\n",
    "y_train.shape"
   ]
  },
  {
   "cell_type": "code",
   "execution_count": 15,
   "metadata": {
    "colab": {
     "base_uri": "https://localhost:8080/",
     "height": 67
    },
    "colab_type": "code",
    "id": "Md7qpy1vrUOU",
    "outputId": "62a11f17-b5e3-4704-a2f0-c016702633ed"
   },
   "outputs": [
    {
     "name": "stdout",
     "output_type": "stream",
     "text": [
      "0 1000 2000 \n",
      "\n"
     ]
    },
    {
     "data": {
      "text/plain": [
       "(2250, 216, 216, 3)"
      ]
     },
     "execution_count": 15,
     "metadata": {},
     "output_type": "execute_result"
    }
   ],
   "source": [
    "# initiate X_valid_img\n",
    "X_valid_img = []\n",
    "for i in range(data.X_valid.shape[0]):\n",
    "  X_valid_img.append(data_to_img(data.X_valid.iloc[i, :123])) \n",
    "  if i%1000 == 0:\n",
    "    print(i, end=' ')\n",
    "print('\\n')\n",
    "X_valid_img = np.array(X_valid_img)\n",
    "X_valid_img.shape"
   ]
  },
  {
   "cell_type": "code",
   "execution_count": 16,
   "metadata": {
    "colab": {
     "base_uri": "https://localhost:8080/",
     "height": 34
    },
    "colab_type": "code",
    "id": "L15q9JlsrUSE",
    "outputId": "f669d9e6-5b66-4850-f319-518a39939632"
   },
   "outputs": [
    {
     "data": {
      "text/plain": [
       "(2250, 2)"
      ]
     },
     "execution_count": 16,
     "metadata": {},
     "output_type": "execute_result"
    }
   ],
   "source": [
    "y_valid = to_categorical(data.y_valid)\n",
    "y_valid.shape"
   ]
  },
  {
   "cell_type": "code",
   "execution_count": 20,
   "metadata": {
    "colab": {
     "base_uri": "https://localhost:8080/",
     "height": 34
    },
    "colab_type": "code",
    "id": "wGZbqgFw1jJx",
    "outputId": "3136062c-a64b-459c-e387-6fae9b766bed"
   },
   "outputs": [
    {
     "name": "stdout",
     "output_type": "stream",
     "text": [
      "0 1000 2000 \n",
      "\n"
     ]
    },
    {
     "data": {
      "text/plain": [
       "(3000, 216, 216, 3)"
      ]
     },
     "execution_count": 20,
     "metadata": {},
     "output_type": "execute_result"
    }
   ],
   "source": [
    "# initiate X_test_img\n",
    "X_test_img = []\n",
    "for i in range(data.X_test.shape[0]):\n",
    "  X_test_img.append(data_to_img(data.X_test.iloc[i, :123])) \n",
    "  if i%1000 == 0:\n",
    "    print(i, end=' ')\n",
    "print('\\n')\n",
    "X_test_img = np.array(X_test_img)\n",
    "X_test_img.shape"
   ]
  },
  {
   "cell_type": "code",
   "execution_count": 30,
   "metadata": {
    "colab": {
     "base_uri": "https://localhost:8080/",
     "height": 34
    },
    "colab_type": "code",
    "id": "zQjThL6tMWob",
    "outputId": "9f6453a0-5be3-4665-eba8-d207a8f07a07"
   },
   "outputs": [
    {
     "data": {
      "text/plain": [
       "(3000, 2)"
      ]
     },
     "execution_count": 30,
     "metadata": {},
     "output_type": "execute_result"
    }
   ],
   "source": [
    "y_test = to_categorical(data.y_test)\n",
    "y_test.shape"
   ]
  },
  {
   "cell_type": "code",
   "execution_count": 17,
   "metadata": {
    "colab": {
     "base_uri": "https://localhost:8080/",
     "height": 104
    },
    "colab_type": "code",
    "id": "yZwskM1dCNS9",
    "outputId": "4a0c36b5-ecfd-4a21-fc6b-2cc55cbaa538"
   },
   "outputs": [
    {
     "name": "stdout",
     "output_type": "stream",
     "text": [
      "WARNING:tensorflow:From C:\\Users\\leiju\\Anaconda3\\lib\\site-packages\\tensorflow\\python\\framework\\op_def_library.py:263: colocate_with (from tensorflow.python.framework.ops) is deprecated and will be removed in a future version.\n",
      "Instructions for updating:\n",
      "Colocations handled automatically by placer.\n",
      "WARNING:tensorflow:From C:\\Users\\leiju\\Anaconda3\\lib\\site-packages\\keras\\backend\\tensorflow_backend.py:3445: calling dropout (from tensorflow.python.ops.nn_ops) with keep_prob is deprecated and will be removed in a future version.\n",
      "Instructions for updating:\n",
      "Please use `rate` instead of `keep_prob`. Rate should be set to `rate = 1 - keep_prob`.\n",
      "WARNING:tensorflow:From C:\\Users\\leiju\\Anaconda3\\lib\\site-packages\\tensorflow\\python\\ops\\math_ops.py:3066: to_int32 (from tensorflow.python.ops.math_ops) is deprecated and will be removed in a future version.\n",
      "Instructions for updating:\n",
      "Use tf.cast instead.\n",
      "Train on 6750 samples, validate on 2250 samples\n",
      "Epoch 1/20\n",
      "6750/6750 [==============================] - 133s 20ms/step - loss: 8.0352 - acc: 0.5010 - val_loss: 8.2166 - val_acc: 0.4902\n",
      "Epoch 2/20\n",
      "6750/6750 [==============================] - 134s 20ms/step - loss: 8.0768 - acc: 0.4951 - val_loss: 8.2166 - val_acc: 0.4902\n",
      "Epoch 3/20\n",
      "6750/6750 [==============================] - 135s 20ms/step - loss: 8.0281 - acc: 0.4975 - val_loss: 8.2166 - val_acc: 0.4902\n",
      "Epoch 4/20\n",
      "6750/6750 [==============================] - 134s 20ms/step - loss: 8.0358 - acc: 0.4975 - val_loss: 8.2166 - val_acc: 0.4902\n",
      "Epoch 5/20\n",
      "6750/6750 [==============================] - 132s 20ms/step - loss: 8.0132 - acc: 0.5003 - val_loss: 8.2166 - val_acc: 0.4902\n",
      "Epoch 6/20\n",
      "6750/6750 [==============================] - 147s 22ms/step - loss: 8.0827 - acc: 0.4976 - val_loss: 8.2166 - val_acc: 0.4902\n",
      "Epoch 7/20\n",
      "6750/6750 [==============================] - 151s 22ms/step - loss: 8.0483 - acc: 0.4984 - val_loss: 8.2166 - val_acc: 0.4902\n",
      "Epoch 8/20\n",
      "6750/6750 [==============================] - 147s 22ms/step - loss: 7.9878 - acc: 0.5025 - val_loss: 8.2166 - val_acc: 0.4902\n",
      "Epoch 9/20\n",
      "6750/6750 [==============================] - 141s 21ms/step - loss: 8.1149 - acc: 0.4942 - val_loss: 8.2166 - val_acc: 0.4902\n",
      "Epoch 10/20\n",
      "6750/6750 [==============================] - 131s 19ms/step - loss: 8.1027 - acc: 0.4950 - val_loss: 8.2166 - val_acc: 0.4902\n",
      "Epoch 11/20\n",
      "6750/6750 [==============================] - 131s 19ms/step - loss: 7.9956 - acc: 0.5010 - val_loss: 8.2166 - val_acc: 0.4902\n",
      "Epoch 12/20\n",
      "6750/6750 [==============================] - 134s 20ms/step - loss: 7.9968 - acc: 0.5021 - val_loss: 8.2166 - val_acc: 0.4902\n",
      "Epoch 13/20\n",
      "6750/6750 [==============================] - 136s 20ms/step - loss: 7.9334 - acc: 0.5058 - val_loss: 8.2166 - val_acc: 0.4902\n",
      "Epoch 14/20\n",
      "6750/6750 [==============================] - 135s 20ms/step - loss: 8.0185 - acc: 0.5013 - val_loss: 8.2166 - val_acc: 0.4902\n",
      "Epoch 15/20\n",
      "6750/6750 [==============================] - 136s 20ms/step - loss: 8.0597 - acc: 0.4979 - val_loss: 8.2166 - val_acc: 0.4902\n",
      "Epoch 16/20\n",
      "6750/6750 [==============================] - 133s 20ms/step - loss: 7.9637 - acc: 0.5039 - val_loss: 8.2166 - val_acc: 0.4902\n",
      "Epoch 17/20\n",
      "6750/6750 [==============================] - 133s 20ms/step - loss: 8.0115 - acc: 0.5015 - val_loss: 8.2166 - val_acc: 0.4902\n",
      "Epoch 18/20\n",
      "6750/6750 [==============================] - 140s 21ms/step - loss: 7.9760 - acc: 0.5037 - val_loss: 8.2166 - val_acc: 0.4902\n",
      "Epoch 19/20\n",
      "6750/6750 [==============================] - 130s 19ms/step - loss: 8.0548 - acc: 0.4979 - val_loss: 8.2166 - val_acc: 0.4902\n",
      "Epoch 20/20\n",
      "6750/6750 [==============================] - 130s 19ms/step - loss: 7.9999 - acc: 0.5016 - val_loss: 8.2166 - val_acc: 0.4902\n"
     ]
    }
   ],
   "source": [
    "model = Sequential()\n",
    "model.add(Conv2D(32, (3, 3), input_shape=(216, 216,3), activation='relu'))\n",
    "model.add(MaxPooling2D(pool_size = (2, 2)))\n",
    "model.add(Conv2D(32, (3, 3), activation='relu'))\n",
    "model.add(MaxPooling2D(pool_size = (2, 2)))\n",
    "model.add(Flatten())\n",
    "model.add(Dense(32, activation='relu'))\n",
    "model.add(Dropout(rate = 0.5))\n",
    "model.add(Dense(2, activation='softmax'))\n",
    "model.compile(loss='categorical_crossentropy', optimizer='adam', metrics=['accuracy'])\n",
    "history = model.fit(X_train_img, y_train, epochs=20, verbose=1, validation_data=(X_valid_img, y_valid))"
   ]
  },
  {
   "cell_type": "code",
   "execution_count": 18,
   "metadata": {
    "colab": {
     "base_uri": "https://localhost:8080/",
     "height": 283
    },
    "colab_type": "code",
    "id": "Gti336l5zmpC",
    "outputId": "a60e73ea-1f01-4eeb-a893-8ed24ce8bfe7"
   },
   "outputs": [
    {
     "data": {
      "image/png": "[encoded data removed]",
      "text/plain": [
       "<Figure size 432x288 with 1 Axes>"
      ]
     },
     "metadata": {
      "needs_background": "light"
     },
     "output_type": "display_data"
    }
   ],
   "source": [
    "# results using training set and valid set \n",
    "plt.plot(history.history['acc'])\n",
    "plt.plot(history.history['val_acc'])\n",
    "plt.ylim(0.45, 0.55)\n",
    "plt.xticks(range(0, 20))\n",
    "plt.xlabel('epochs')\n",
    "plt.ylabel('accuracy')\n",
    "plt.legend(['train', 'valid']);"
   ]
  },
  {
   "cell_type": "code",
   "execution_count": null,
   "metadata": {
    "colab": {
     "base_uri": "https://localhost:8080/",
     "height": 283
    },
    "colab_type": "code",
    "id": "6HlEwaPDv-RA",
    "outputId": "47f4ddff-ec86-472b-f489-2e9d20aaf9e1"
   },
   "outputs": [],
   "source": [
    "# results using training set and test set \n",
    "plt.plot(history.history['acc'])\n",
    "plt.plot(history.history['val_acc'])\n",
    "plt.ylim(0.45, 0.55)\n",
    "plt.xticks(range(0, 20))\n",
    "plt.xlabel('epochs')\n",
    "plt.ylabel('accuracy')\n",
    "plt.legend(['train', 'test']);"
   ]
  },
  {
   "cell_type": "code",
   "execution_count": 22,
   "metadata": {
    "colab": {},
    "colab_type": "code",
    "id": "gVMgwIxat-_L"
   },
   "outputs": [],
   "source": [
    "pred = model.predict(X_test_img)"
   ]
  },
  {
   "cell_type": "code",
   "execution_count": 24,
   "metadata": {},
   "outputs": [
    {
     "data": {
      "text/plain": [
       "array([[1., 0.],\n",
       "       [1., 0.],\n",
       "       [1., 0.],\n",
       "       [1., 0.],\n",
       "       [1., 0.],\n",
       "       [1., 0.],\n",
       "       [1., 0.],\n",
       "       [1., 0.],\n",
       "       [1., 0.],\n",
       "       [1., 0.]], dtype=float32)"
      ]
     },
     "execution_count": 24,
     "metadata": {},
     "output_type": "execute_result"
    }
   ],
   "source": [
    "pred[:10]"
   ]
  },
  {
   "cell_type": "code",
   "execution_count": 32,
   "metadata": {},
   "outputs": [
    {
     "data": {
      "text/plain": [
       "array([[0., 1.],\n",
       "       [1., 0.],\n",
       "       [1., 0.],\n",
       "       [1., 0.],\n",
       "       [1., 0.],\n",
       "       [1., 0.],\n",
       "       [1., 0.],\n",
       "       [1., 0.],\n",
       "       [1., 0.],\n",
       "       [0., 1.]], dtype=float32)"
      ]
     },
     "execution_count": 32,
     "metadata": {},
     "output_type": "execute_result"
    }
   ],
   "source": [
    "y_test[:10]"
   ]
  },
  {
   "cell_type": "code",
   "execution_count": 28,
   "metadata": {},
   "outputs": [
    {
     "data": {
      "text/html": [
       "<div>\n",
       "<style scoped>\n",
       "    .dataframe tbody tr th:only-of-type {\n",
       "        vertical-align: middle;\n",
       "    }\n",
       "\n",
       "    .dataframe tbody tr th {\n",
       "        vertical-align: top;\n",
       "    }\n",
       "\n",
       "    .dataframe thead th {\n",
       "        text-align: right;\n",
       "    }\n",
       "</style>\n",
       "<table border=\"1\" class=\"dataframe\">\n",
       "  <thead>\n",
       "    <tr style=\"text-align: right;\">\n",
       "      <th></th>\n",
       "      <th>osc41</th>\n",
       "      <th>osc40</th>\n",
       "      <th>osc39</th>\n",
       "      <th>osc38</th>\n",
       "      <th>osc37</th>\n",
       "      <th>osc36</th>\n",
       "      <th>osc35</th>\n",
       "      <th>osc34</th>\n",
       "      <th>osc33</th>\n",
       "      <th>osc32</th>\n",
       "      <th>...</th>\n",
       "      <th>macd10</th>\n",
       "      <th>macd9</th>\n",
       "      <th>macd8</th>\n",
       "      <th>macd7</th>\n",
       "      <th>macd6</th>\n",
       "      <th>macd5</th>\n",
       "      <th>macd4</th>\n",
       "      <th>macd3</th>\n",
       "      <th>macd2</th>\n",
       "      <th>macd1</th>\n",
       "    </tr>\n",
       "  </thead>\n",
       "  <tbody>\n",
       "    <tr>\n",
       "      <th>2890</th>\n",
       "      <td>0.088757</td>\n",
       "      <td>0.094675</td>\n",
       "      <td>0.094675</td>\n",
       "      <td>0.076923</td>\n",
       "      <td>0.100592</td>\n",
       "      <td>0.076923</td>\n",
       "      <td>0.053254</td>\n",
       "      <td>0.047337</td>\n",
       "      <td>0.047337</td>\n",
       "      <td>0.062130</td>\n",
       "      <td>...</td>\n",
       "      <td>1.000000</td>\n",
       "      <td>1.000000</td>\n",
       "      <td>0.916279</td>\n",
       "      <td>0.897674</td>\n",
       "      <td>0.981395</td>\n",
       "      <td>0.948837</td>\n",
       "      <td>0.851163</td>\n",
       "      <td>0.744186</td>\n",
       "      <td>0.748837</td>\n",
       "      <td>0.734884</td>\n",
       "    </tr>\n",
       "    <tr>\n",
       "      <th>10423</th>\n",
       "      <td>0.785989</td>\n",
       "      <td>0.930716</td>\n",
       "      <td>0.982294</td>\n",
       "      <td>1.000000</td>\n",
       "      <td>0.993072</td>\n",
       "      <td>0.996921</td>\n",
       "      <td>0.982294</td>\n",
       "      <td>0.865281</td>\n",
       "      <td>0.754426</td>\n",
       "      <td>0.638183</td>\n",
       "      <td>...</td>\n",
       "      <td>0.110169</td>\n",
       "      <td>0.127119</td>\n",
       "      <td>0.093220</td>\n",
       "      <td>0.084746</td>\n",
       "      <td>0.042373</td>\n",
       "      <td>0.042373</td>\n",
       "      <td>0.050847</td>\n",
       "      <td>0.033898</td>\n",
       "      <td>0.067797</td>\n",
       "      <td>0.093220</td>\n",
       "    </tr>\n",
       "    <tr>\n",
       "      <th>6565</th>\n",
       "      <td>0.812081</td>\n",
       "      <td>0.906040</td>\n",
       "      <td>1.000000</td>\n",
       "      <td>0.984340</td>\n",
       "      <td>0.966443</td>\n",
       "      <td>0.959732</td>\n",
       "      <td>0.973154</td>\n",
       "      <td>0.995526</td>\n",
       "      <td>0.872483</td>\n",
       "      <td>0.758389</td>\n",
       "      <td>...</td>\n",
       "      <td>0.377224</td>\n",
       "      <td>0.323843</td>\n",
       "      <td>0.341637</td>\n",
       "      <td>0.398577</td>\n",
       "      <td>0.480427</td>\n",
       "      <td>0.487544</td>\n",
       "      <td>0.501779</td>\n",
       "      <td>0.512456</td>\n",
       "      <td>0.494662</td>\n",
       "      <td>0.459075</td>\n",
       "    </tr>\n",
       "    <tr>\n",
       "      <th>9952</th>\n",
       "      <td>0.173469</td>\n",
       "      <td>0.204082</td>\n",
       "      <td>0.303571</td>\n",
       "      <td>0.461735</td>\n",
       "      <td>0.556122</td>\n",
       "      <td>0.670918</td>\n",
       "      <td>0.795918</td>\n",
       "      <td>0.869898</td>\n",
       "      <td>0.943878</td>\n",
       "      <td>0.992347</td>\n",
       "      <td>...</td>\n",
       "      <td>0.157191</td>\n",
       "      <td>0.143813</td>\n",
       "      <td>0.100334</td>\n",
       "      <td>0.096990</td>\n",
       "      <td>0.127090</td>\n",
       "      <td>0.137124</td>\n",
       "      <td>0.163880</td>\n",
       "      <td>0.090301</td>\n",
       "      <td>0.020067</td>\n",
       "      <td>0.066890</td>\n",
       "    </tr>\n",
       "    <tr>\n",
       "      <th>6164</th>\n",
       "      <td>0.130909</td>\n",
       "      <td>0.174545</td>\n",
       "      <td>0.214545</td>\n",
       "      <td>0.229091</td>\n",
       "      <td>0.265455</td>\n",
       "      <td>0.334545</td>\n",
       "      <td>0.385455</td>\n",
       "      <td>0.429091</td>\n",
       "      <td>0.458182</td>\n",
       "      <td>0.498182</td>\n",
       "      <td>...</td>\n",
       "      <td>0.334334</td>\n",
       "      <td>0.290290</td>\n",
       "      <td>0.254254</td>\n",
       "      <td>0.220220</td>\n",
       "      <td>0.197197</td>\n",
       "      <td>0.138138</td>\n",
       "      <td>0.170170</td>\n",
       "      <td>0.231231</td>\n",
       "      <td>0.301301</td>\n",
       "      <td>0.336336</td>\n",
       "    </tr>\n",
       "  </tbody>\n",
       "</table>\n",
       "<p>5 rows × 123 columns</p>\n",
       "</div>"
      ],
      "text/plain": [
       "          osc41     osc40     osc39     osc38     osc37     osc36     osc35  \\\n",
       "2890   0.088757  0.094675  0.094675  0.076923  0.100592  0.076923  0.053254   \n",
       "10423  0.785989  0.930716  0.982294  1.000000  0.993072  0.996921  0.982294   \n",
       "6565   0.812081  0.906040  1.000000  0.984340  0.966443  0.959732  0.973154   \n",
       "9952   0.173469  0.204082  0.303571  0.461735  0.556122  0.670918  0.795918   \n",
       "6164   0.130909  0.174545  0.214545  0.229091  0.265455  0.334545  0.385455   \n",
       "\n",
       "          osc34     osc33     osc32  ...    macd10     macd9     macd8  \\\n",
       "2890   0.047337  0.047337  0.062130  ...  1.000000  1.000000  0.916279   \n",
       "10423  0.865281  0.754426  0.638183  ...  0.110169  0.127119  0.093220   \n",
       "6565   0.995526  0.872483  0.758389  ...  0.377224  0.323843  0.341637   \n",
       "9952   0.869898  0.943878  0.992347  ...  0.157191  0.143813  0.100334   \n",
       "6164   0.429091  0.458182  0.498182  ...  0.334334  0.290290  0.254254   \n",
       "\n",
       "          macd7     macd6     macd5     macd4     macd3     macd2     macd1  \n",
       "2890   0.897674  0.981395  0.948837  0.851163  0.744186  0.748837  0.734884  \n",
       "10423  0.084746  0.042373  0.042373  0.050847  0.033898  0.067797  0.093220  \n",
       "6565   0.398577  0.480427  0.487544  0.501779  0.512456  0.494662  0.459075  \n",
       "9952   0.096990  0.127090  0.137124  0.163880  0.090301  0.020067  0.066890  \n",
       "6164   0.220220  0.197197  0.138138  0.170170  0.231231  0.301301  0.336336  \n",
       "\n",
       "[5 rows x 123 columns]"
      ]
     },
     "execution_count": 28,
     "metadata": {},
     "output_type": "execute_result"
    }
   ],
   "source": [
    "data.X_test.head()"
   ]
  },
  {
   "cell_type": "code",
   "execution_count": 34,
   "metadata": {},
   "outputs": [
    {
     "name": "stdout",
     "output_type": "stream",
     "text": [
      "              precision    recall  f1-score   support\n",
      "\n",
      "           0       1.00      0.51      0.68      3000\n",
      "           1       0.00      0.00      0.00         0\n",
      "\n",
      "   micro avg       0.51      0.51      0.51      3000\n",
      "   macro avg       0.50      0.26      0.34      3000\n",
      "weighted avg       1.00      0.51      0.68      3000\n",
      " samples avg       0.51      0.51      0.51      3000\n",
      "\n"
     ]
    }
   ],
   "source": [
    "from sklearn.metrics import precision_score, classification_report\n",
    "print(classification_report(pred, y_test))"
   ]
  },
  {
   "cell_type": "code",
   "execution_count": null,
   "metadata": {},
   "outputs": [],
   "source": []
  }
 ],
 "metadata": {
  "accelerator": "GPU",
  "colab": {
   "collapsed_sections": [],
   "name": "Copy of Seahorse_CNN3.ipynb",
   "provenance": [],
   "version": "0.3.2"
  },
  "kernelspec": {
   "display_name": "Python 3",
   "language": "python",
   "name": "python3"
  },
  "language_info": {
   "codemirror_mode": {
    "name": "ipython",
    "version": 3
   },
   "file_extension": ".py",
   "mimetype": "text/x-python",
   "name": "python",
   "nbconvert_exporter": "python",
   "pygments_lexer": "ipython3",
   "version": "3.7.3"
  }
 },
 "nbformat": 4,
 "nbformat_minor": 1
}
