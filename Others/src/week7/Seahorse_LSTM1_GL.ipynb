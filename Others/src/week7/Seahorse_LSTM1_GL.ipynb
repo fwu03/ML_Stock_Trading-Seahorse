{
  "nbformat": 4,
  "nbformat_minor": 0,
  "metadata": {
    "colab": {
      "name": "Seahorse_LSTM1.ipynb",
      "version": "0.3.2",
      "provenance": [],
      "collapsed_sections": []
    },
    "language_info": {
      "codemirror_mode": {
        "name": "ipython",
        "version": 3
      },
      "file_extension": ".py",
      "mimetype": "text/x-python",
      "name": "python",
      "nbconvert_exporter": "python",
      "pygments_lexer": "ipython3",
      "version": "3.7.3"
    },
    "kernelspec": {
      "display_name": "Python 3",
      "language": "python",
      "name": "python3"
    },
    "accelerator": "GPU"
  },
  "cells": [
    {
      "cell_type": "code",
      "metadata": {
        "colab_type": "code",
        "id": "W69sW5ZHFgjM",
        "colab": {}
      },
      "source": [
        "import pandas as pd\n",
        "import numpy as np\n",
        "import scipy.signal\n",
        "from sys import getsizeof\n",
        "import matplotlib.pyplot as plt\n",
        "import re \n",
        "import os\n",
        "import time"
      ],
      "execution_count": 0,
      "outputs": []
    },
    {
      "cell_type": "code",
      "metadata": {
        "colab_type": "code",
        "id": "BMGbfyNVHNea",
        "colab": {}
      },
      "source": [
        "from sklearn.model_selection import train_test_split\n",
        "from keras.layers import Input, Dense, LSTM, Dropout, Flatten, Activation, Conv1D, MaxPooling1D, Masking, Reshape\n",
        "from keras.layers import BatchNormalization, concatenate, Permute, GlobalAveragePooling1D, multiply\n",
        "from keras.models import Sequential, Model\n",
        "from keras import optimizers\n",
        "from keras.utils import np_utils\n",
        "from keras.utils import to_categorical"
      ],
      "execution_count": 0,
      "outputs": []
    },
    {
      "cell_type": "code",
      "metadata": {
        "id": "WpmsBvm1TzTa",
        "colab_type": "code",
        "colab": {
          "base_uri": "https://localhost:8080/",
          "height": 120
        },
        "outputId": "53945c52-0454-4193-ae41-f19f2a866e3c"
      },
      "source": [
        "from google.colab import drive\n",
        "drive.mount('/content/gdrive')"
      ],
      "execution_count": 4,
      "outputs": [
        {
          "output_type": "stream",
          "text": [
            "Go to this URL in a browser: https://accounts.google.com/o/oauth2/auth?client_id=947318989803-6bn6qk8qdgf4n4g3pfee6491hc0brc4i.apps.googleusercontent.com&redirect_uri=urn%3Aietf%3Awg%3Aoauth%3A2.0%3Aoob&scope=email%20https%3A%2F%2Fwww.googleapis.com%2Fauth%2Fdocs.test%20https%3A%2F%2Fwww.googleapis.com%2Fauth%2Fdrive%20https%3A%2F%2Fwww.googleapis.com%2Fauth%2Fdrive.photos.readonly%20https%3A%2F%2Fwww.googleapis.com%2Fauth%2Fpeopleapi.readonly&response_type=code\n",
            "\n",
            "Enter your authorization code:\n",
            "··········\n",
            "Mounted at /content/gdrive\n"
          ],
          "name": "stdout"
        }
      ]
    },
    {
      "cell_type": "code",
      "metadata": {
        "id": "crP2mwhHTaWV",
        "colab_type": "code",
        "colab": {}
      },
      "source": [
        "file_path = 'gdrive/My Drive/ColabNotebooks/Seahorse/buy/' \n",
        "n_bar = 41"
      ],
      "execution_count": 0,
      "outputs": []
    },
    {
      "cell_type": "code",
      "metadata": {
        "id": "6xfqxvP7TaWX",
        "colab_type": "code",
        "colab": {}
      },
      "source": [
        "def normalize_data(data): \n",
        "    for i in range(data.shape[0]): \n",
        "        row = data.iloc[i, :] \n",
        "        data.iloc[i, :] = (row - min(row))/(max(row) - min(row)) \n",
        "    return data"
      ],
      "execution_count": 0,
      "outputs": []
    },
    {
      "cell_type": "code",
      "metadata": {
        "id": "reQlrTz7TaWb",
        "colab_type": "code",
        "colab": {}
      },
      "source": [
        "def load_data():\n",
        "    \n",
        "    data = pd.DataFrame()\n",
        "    \n",
        "    for filename in os.listdir(file_path):\n",
        "        if filename.endswith(\".txt\"): \n",
        "            tmp_df = pd.read_csv(os.path.join(file_path, filename), delimiter= '\\s+', header = None)\n",
        "            tmp_df = tmp_df.astype(float)\n",
        "            tmp_df = tmp_df.iloc[10:,:]\n",
        "            data = pd.concat([data, tmp_df])\n",
        "    \n",
        "    # remove duplicate data entries \n",
        "    origin_len = data.shape[0]\n",
        "    data = data.drop_duplicates()\n",
        "    print('{} duplicate data entries removed.'.format(origin_len - data.shape[0]))\n",
        "    \n",
        "    # remove data entries whose stock prices are lower than 5.0\n",
        "    origin_len = data.shape[0]\n",
        "    data = data[data[n_bar] >= 5.0]\n",
        "    print('{} low stock price data entries removed.'.format(origin_len - data.shape[0]))\n",
        "    \n",
        "    # remove data entries with extreme oscillator values \n",
        "    origin_len = data.shape[0]\n",
        "    data = data[(data[0] > -7) & (data[0] < 7)] \n",
        "    print('{} extreme oscillator values  removed.'.format(origin_len - data.shape[0]))\n",
        "    \n",
        "    '''\n",
        "    # remove data entries with near-zero oscillator values \n",
        "    origin_len = data.shape[0]\n",
        "    data = data[(data[0] < -0.5) | (data[0] > 0.5)] \n",
        "    print('{} near-zero oscillator values  removed.'.format(origin_len - data.shape[0]))\n",
        "    '''\n",
        "    \n",
        "    # remove data entries with extreme return values\n",
        "    origin_len = data.shape[0]\n",
        "    data = data[(data[n_bar*3] > -50) & (data[n_bar*3] < 50)]\n",
        "    print('{} extreme return values removed.'.format(origin_len - data.shape[0]))\n",
        "    \n",
        "    # balance the data set\n",
        "    origin_len = data.shape[0]\n",
        "    pos = data[data[n_bar*3] > 0]\n",
        "    neg = data[data[n_bar*3] <= 0]\n",
        "    if pos.shape[0] > neg.shape[0]:\n",
        "      pos = pos.sample(neg.shape[0])\n",
        "    elif pos.shape[0] < neg.shape[0]:\n",
        "      neg = neg.sample(pos.shape[0])\n",
        "    data = pd.concat([pos, neg], axis=0)\n",
        "    print('balancing removed {} rows.'.format(origin_len - data.shape[0]))\n",
        "    \n",
        "    data = data.reset_index(drop=True)\n",
        "    \n",
        "    # set column names\n",
        "    osc_names = ['osc' + str(i) for i in range(n_bar)]\n",
        "    prc_names = ['prc' + str(i) for i in range(n_bar)]\n",
        "    macd_names = ['macd' + str(i) for i in range(n_bar)]\n",
        "    data.columns = osc_names + prc_names + macd_names + ['rtn']\n",
        "    \n",
        "    osc_data = data.iloc[:, :n_bar]\n",
        "    osc_data = osc_data[osc_data.columns[::-1]]\n",
        "    osc_data = normalize_data(osc_data)    # normalize oscillator data \n",
        "    \n",
        "    prc_data = data.iloc[:, n_bar:n_bar*2]\n",
        "    prc_data = prc_data[prc_data.columns[::-1]]\n",
        "    prc_data = normalize_data(prc_data)    # normalize price data\n",
        "    \n",
        "    macd_data = data.iloc[:, n_bar*2:n_bar*3]\n",
        "    macd_data = macd_data[macd_data.columns[::-1]]\n",
        "    macd_data = normalize_data(macd_data)    # normalize macd data \n",
        "    \n",
        "    rtn = data['rtn']\n",
        "    label = pd.Series(map(lambda x: 1 if x>0 else 0, rtn), name = 'label')\n",
        "    \n",
        "    return osc_data, prc_data, macd_data, rtn, label"
      ],
      "execution_count": 0,
      "outputs": []
    },
    {
      "cell_type": "code",
      "metadata": {
        "id": "fAZchrFaTaWh",
        "colab_type": "code",
        "colab": {
          "base_uri": "https://localhost:8080/",
          "height": 117
        },
        "outputId": "75cd6abe-771e-4ab9-d2bb-855588cdaa5e"
      },
      "source": [
        "osc_data, prc_data, macd_data, rtn, label = load_data()"
      ],
      "execution_count": 8,
      "outputs": [
        {
          "output_type": "stream",
          "text": [
            "735 duplicate data entries removed.\n",
            "5167 low stock price data entries removed.\n",
            "740 extreme oscillator values  removed.\n",
            "34438 near-zero oscillator values  removed.\n",
            "2 extreme return values removed.\n",
            "balancing removed 10477 rows.\n"
          ],
          "name": "stdout"
        }
      ]
    },
    {
      "cell_type": "code",
      "metadata": {
        "id": "rk_LXnh1TaWn",
        "colab_type": "code",
        "colab": {
          "base_uri": "https://localhost:8080/",
          "height": 33
        },
        "outputId": "4b713da7-4cab-4e98-b025-1c9d5fbea7bd"
      },
      "source": [
        "osc_data.shape"
      ],
      "execution_count": 11,
      "outputs": [
        {
          "output_type": "execute_result",
          "data": {
            "text/plain": [
              "(51332, 41)"
            ]
          },
          "metadata": {
            "tags": []
          },
          "execution_count": 11
        }
      ]
    },
    {
      "cell_type": "code",
      "metadata": {
        "id": "KaIo_s68TaWu",
        "colab_type": "code",
        "colab": {
          "base_uri": "https://localhost:8080/",
          "height": 84
        },
        "outputId": "77aad79f-11b5-4d93-b0d6-fe311804b764"
      },
      "source": [
        "X = pd.concat([osc_data, prc_data, macd_data], axis=1)\n",
        "y = label\n",
        "\n",
        "X_train, X_test, y_train, y_test = train_test_split(X, y, test_size=0.25) \n",
        "print(X_train.shape)\n",
        "print(y_train.shape)\n",
        "print(X_test.shape)\n",
        "print(y_test.shape)"
      ],
      "execution_count": 39,
      "outputs": [
        {
          "output_type": "stream",
          "text": [
            "(38499, 123)\n",
            "(38499,)\n",
            "(12833, 123)\n",
            "(12833,)\n"
          ],
          "name": "stdout"
        }
      ]
    },
    {
      "cell_type": "code",
      "metadata": {
        "id": "S_seI5BKYwdO",
        "colab_type": "code",
        "colab": {
          "base_uri": "https://localhost:8080/",
          "height": 33
        },
        "outputId": "1fad2057-c531-425e-806b-7290ffb85852"
      },
      "source": [
        "# balance training set\n",
        "tmp = pd.concat([X_train, y_train], axis=1)\n",
        "tmp_pos = tmp[tmp['label'] == 1]\n",
        "tmp_neg = tmp[tmp['label'] == 0]\n",
        "print('originally there are {} positive signals and {} negative signals in the training set.'.format(tmp_pos.shape[0], tmp_neg.shape[0]))\n",
        "\n",
        "if tmp_pos.shape[0] > tmp_neg.shape[0]: \n",
        "  tmp_pos = tmp_pos.sample(tmp_neg.shape[0])\n",
        "elif tmp_pos.shape[0] < tmp_neg.shape[0]:\n",
        "  tmp_neg = tmp_neg.sample(tmp_pos.shape[0])\n",
        "\n",
        "  tmp = pd.concat([tmp_pos, tmp_neg], axis = 0)\n",
        "y_train = tmp['label']\n",
        "X_train = tmp.drop(['label'], axis = 1)"
      ],
      "execution_count": 19,
      "outputs": [
        {
          "output_type": "stream",
          "text": [
            "originally there are 19263 positive signals and 27093 negative signals in the training set.\n"
          ],
          "name": "stdout"
        }
      ]
    },
    {
      "cell_type": "code",
      "metadata": {
        "id": "gd0mvYnJTaXa",
        "colab_type": "code",
        "colab": {
          "base_uri": "https://localhost:8080/",
          "height": 50
        },
        "outputId": "552b627f-2f02-44ca-f987-385b5c0299f9"
      },
      "source": [
        "# check how balanced are the balanced data sets\n",
        "print(sum(y_train)/y_train.shape[0])\n",
        "print(sum(y_test)/y_test.shape[0])"
      ],
      "execution_count": 40,
      "outputs": [
        {
          "output_type": "stream",
          "text": [
            "0.49853242941375103\n",
            "0.504402711758747\n"
          ],
          "name": "stdout"
        }
      ]
    },
    {
      "cell_type": "code",
      "metadata": {
        "id": "A-Tez_0gVpuX",
        "colab_type": "code",
        "colab": {}
      },
      "source": [
        "X_train = np.array(X_train).reshape(X_train.shape[0], 3, 41)\n",
        "y_train = to_categorical(y_train)\n",
        "X_test = np.array(X_test).reshape(X_test.shape[0], 3, 41)\n",
        "y_test = to_categorical(y_test)"
      ],
      "execution_count": 0,
      "outputs": []
    },
    {
      "cell_type": "code",
      "metadata": {
        "id": "EjLV4fgmj033",
        "colab_type": "code",
        "colab": {}
      },
      "source": [
        "X_train = np.transpose(X_train, (0, 2, 1))\n",
        "X_test = np.transpose(X_test, (0, 2, 1))"
      ],
      "execution_count": 0,
      "outputs": []
    },
    {
      "cell_type": "code",
      "metadata": {
        "id": "60gctusbl9IV",
        "colab_type": "code",
        "colab": {
          "base_uri": "https://localhost:8080/",
          "height": 84
        },
        "outputId": "d54aab8b-b010-4636-f254-2450eebdd080"
      },
      "source": [
        "print(X_train.shape)\n",
        "print(y_train.shape)\n",
        "print(X_test.shape)\n",
        "print(y_test.shape)"
      ],
      "execution_count": 43,
      "outputs": [
        {
          "output_type": "stream",
          "text": [
            "(38499, 41, 3)\n",
            "(38499, 2)\n",
            "(12833, 41, 3)\n",
            "(12833, 2)\n"
          ],
          "name": "stdout"
        }
      ]
    },
    {
      "cell_type": "code",
      "metadata": {
        "id": "MeT23JE8jkZk",
        "colab_type": "code",
        "colab": {}
      },
      "source": [
        "# this function is copied from https://github.com/titu1994/MLSTM-FCN/blob/master/ozone_model.py \n",
        "\n",
        "def squeeze_excite_block(input):\n",
        "    filters = input._keras_shape[-1]    # channel_axis = -1 for TF\n",
        "\n",
        "    se = GlobalAveragePooling1D()(input)\n",
        "    se = Reshape((1, filters))(se)\n",
        "    se = Dense(filters // 16,  activation='relu', kernel_initializer='he_normal', use_bias=False)(se)\n",
        "    se = Dense(filters, activation='sigmoid', kernel_initializer='he_normal', use_bias=False)(se)\n",
        "    se = multiply([input, se])\n",
        "    return se"
      ],
      "execution_count": 0,
      "outputs": []
    },
    {
      "cell_type": "code",
      "metadata": {
        "id": "KTpJSFSwTaW0",
        "colab_type": "code",
        "colab": {
          "base_uri": "https://localhost:8080/",
          "height": 33
        },
        "outputId": "4ff4d4eb-d055-46af-f89d-f8cb2a961f56"
      },
      "source": [
        "ip = Input(shape=(n_bar, 3))\n",
        "\n",
        "lstm = Masking()(ip)\n",
        "lstm = LSTM(8)(ip) \n",
        "lstm = Dropout(rate=0.2)(lstm) \n",
        "\n",
        "cnn = Permute((2, 1))(ip)\n",
        "cnn = Conv1D(128, 8, padding='same', kernel_initializer='he_uniform')(cnn)\n",
        "cnn = BatchNormalization()(cnn)\n",
        "cnn = Activation('relu')(cnn)\n",
        "cnn = squeeze_excite_block(cnn)\n",
        "\n",
        "cnn = Conv1D(256, 5, padding='same', kernel_initializer='he_uniform')(cnn) \n",
        "cnn = BatchNormalization()(cnn)\n",
        "cnn = Activation('relu')(cnn)\n",
        "cnn = squeeze_excite_block(cnn)\n",
        "\n",
        "cnn = Conv1D(128, 8, padding='same', kernel_initializer='he_uniform')(cnn)\n",
        "cnn = BatchNormalization()(cnn)\n",
        "cnn = Activation('relu')(cnn)\n",
        "\n",
        "cnn = GlobalAveragePooling1D()(cnn) \n",
        "\n",
        "lstm_cnn = concatenate([lstm, cnn])\n",
        "\n",
        "op = Dense(2, activation='softmax')(lstm_cnn)\n",
        "\n",
        "model = Model(ip, op)\n",
        "model.summary"
      ],
      "execution_count": 45,
      "outputs": [
        {
          "output_type": "execute_result",
          "data": {
            "text/plain": [
              "<bound method Network.summary of <keras.engine.training.Model object at 0x7fdebab1a400>>"
            ]
          },
          "metadata": {
            "tags": []
          },
          "execution_count": 45
        }
      ]
    },
    {
      "cell_type": "code",
      "metadata": {
        "id": "sXJzhP4bTaW6",
        "colab_type": "code",
        "colab": {
          "base_uri": "https://localhost:8080/",
          "height": 1706
        },
        "outputId": "11e25b65-74aa-4fa6-8480-0a43e8ce69a5"
      },
      "source": [
        "optm = optimizers.Adam(lr=1e-3)\n",
        "model.compile(optimizer=optm, loss='categorical_crossentropy', metrics=['accuracy'])\n",
        "history = model.fit(X_train, y_train, batch_size=128, epochs=50, verbose=2, validation_data=(X_test, y_test))"
      ],
      "execution_count": 46,
      "outputs": [
        {
          "output_type": "stream",
          "text": [
            "Train on 38499 samples, validate on 12833 samples\n",
            "Epoch 1/50\n",
            " - 24s - loss: 0.7033 - acc: 0.5038 - val_loss: 0.6971 - val_acc: 0.4985\n",
            "Epoch 2/50\n",
            " - 21s - loss: 0.6948 - acc: 0.5054 - val_loss: 0.6946 - val_acc: 0.5097\n",
            "Epoch 3/50\n",
            " - 21s - loss: 0.6939 - acc: 0.5112 - val_loss: 0.6931 - val_acc: 0.5102\n",
            "Epoch 4/50\n",
            " - 21s - loss: 0.6936 - acc: 0.5142 - val_loss: 0.6944 - val_acc: 0.5142\n",
            "Epoch 5/50\n",
            " - 21s - loss: 0.6938 - acc: 0.5140 - val_loss: 0.6945 - val_acc: 0.5106\n",
            "Epoch 6/50\n",
            " - 21s - loss: 0.6933 - acc: 0.5172 - val_loss: 0.7062 - val_acc: 0.4956\n",
            "Epoch 7/50\n",
            " - 21s - loss: 0.6933 - acc: 0.5162 - val_loss: 0.6939 - val_acc: 0.5081\n",
            "Epoch 8/50\n",
            " - 21s - loss: 0.6930 - acc: 0.5197 - val_loss: 0.6963 - val_acc: 0.5101\n",
            "Epoch 9/50\n",
            " - 21s - loss: 0.6926 - acc: 0.5151 - val_loss: 0.6939 - val_acc: 0.5162\n",
            "Epoch 10/50\n",
            " - 21s - loss: 0.6920 - acc: 0.5218 - val_loss: 0.7085 - val_acc: 0.4949\n",
            "Epoch 11/50\n",
            " - 21s - loss: 0.6916 - acc: 0.5243 - val_loss: 0.6972 - val_acc: 0.4989\n",
            "Epoch 12/50\n",
            " - 21s - loss: 0.6923 - acc: 0.5230 - val_loss: 0.6955 - val_acc: 0.5109\n",
            "Epoch 13/50\n",
            " - 21s - loss: 0.6916 - acc: 0.5243 - val_loss: 0.6957 - val_acc: 0.5097\n",
            "Epoch 14/50\n",
            " - 21s - loss: 0.6910 - acc: 0.5276 - val_loss: 0.6948 - val_acc: 0.5095\n",
            "Epoch 15/50\n",
            " - 21s - loss: 0.6912 - acc: 0.5294 - val_loss: 0.6934 - val_acc: 0.5116\n",
            "Epoch 16/50\n",
            " - 21s - loss: 0.6902 - acc: 0.5290 - val_loss: 0.6953 - val_acc: 0.5021\n",
            "Epoch 17/50\n",
            " - 21s - loss: 0.6899 - acc: 0.5324 - val_loss: 0.6972 - val_acc: 0.5090\n",
            "Epoch 18/50\n",
            " - 21s - loss: 0.6898 - acc: 0.5353 - val_loss: 0.6948 - val_acc: 0.5148\n",
            "Epoch 19/50\n",
            " - 21s - loss: 0.6891 - acc: 0.5376 - val_loss: 0.6987 - val_acc: 0.5057\n",
            "Epoch 20/50\n",
            " - 21s - loss: 0.6890 - acc: 0.5385 - val_loss: 0.7055 - val_acc: 0.5040\n",
            "Epoch 21/50\n",
            " - 21s - loss: 0.6879 - acc: 0.5414 - val_loss: 0.7048 - val_acc: 0.5021\n",
            "Epoch 22/50\n",
            " - 21s - loss: 0.6876 - acc: 0.5427 - val_loss: 0.7001 - val_acc: 0.5021\n",
            "Epoch 23/50\n",
            " - 21s - loss: 0.6871 - acc: 0.5414 - val_loss: 0.7053 - val_acc: 0.5044\n",
            "Epoch 24/50\n",
            " - 20s - loss: 0.6861 - acc: 0.5457 - val_loss: 0.7005 - val_acc: 0.5055\n",
            "Epoch 25/50\n",
            " - 21s - loss: 0.6855 - acc: 0.5462 - val_loss: 0.7024 - val_acc: 0.5064\n",
            "Epoch 26/50\n",
            " - 21s - loss: 0.6854 - acc: 0.5469 - val_loss: 0.7036 - val_acc: 0.5050\n",
            "Epoch 27/50\n",
            " - 20s - loss: 0.6839 - acc: 0.5527 - val_loss: 0.7012 - val_acc: 0.5067\n",
            "Epoch 28/50\n",
            " - 21s - loss: 0.6826 - acc: 0.5554 - val_loss: 0.7025 - val_acc: 0.5113\n",
            "Epoch 29/50\n",
            " - 21s - loss: 0.6815 - acc: 0.5580 - val_loss: 0.7078 - val_acc: 0.5064\n",
            "Epoch 30/50\n",
            " - 21s - loss: 0.6805 - acc: 0.5592 - val_loss: 0.7003 - val_acc: 0.5105\n",
            "Epoch 31/50\n",
            " - 21s - loss: 0.6792 - acc: 0.5631 - val_loss: 0.7049 - val_acc: 0.5101\n",
            "Epoch 32/50\n",
            " - 20s - loss: 0.6779 - acc: 0.5639 - val_loss: 0.7066 - val_acc: 0.5053\n",
            "Epoch 33/50\n",
            " - 21s - loss: 0.6760 - acc: 0.5711 - val_loss: 0.7124 - val_acc: 0.5063\n",
            "Epoch 34/50\n",
            " - 20s - loss: 0.6741 - acc: 0.5737 - val_loss: 0.7120 - val_acc: 0.5058\n",
            "Epoch 35/50\n",
            " - 20s - loss: 0.6718 - acc: 0.5765 - val_loss: 0.7350 - val_acc: 0.5011\n",
            "Epoch 36/50\n",
            " - 20s - loss: 0.6694 - acc: 0.5817 - val_loss: 0.7136 - val_acc: 0.5042\n",
            "Epoch 37/50\n",
            " - 21s - loss: 0.6669 - acc: 0.5861 - val_loss: 0.7167 - val_acc: 0.5050\n",
            "Epoch 38/50\n",
            " - 21s - loss: 0.6639 - acc: 0.5910 - val_loss: 0.7269 - val_acc: 0.5046\n",
            "Epoch 39/50\n",
            " - 20s - loss: 0.6608 - acc: 0.5952 - val_loss: 0.7239 - val_acc: 0.5039\n",
            "Epoch 40/50\n",
            " - 20s - loss: 0.6578 - acc: 0.6017 - val_loss: 0.7479 - val_acc: 0.5060\n",
            "Epoch 41/50\n",
            " - 21s - loss: 0.6535 - acc: 0.6073 - val_loss: 0.7330 - val_acc: 0.5038\n",
            "Epoch 42/50\n",
            " - 20s - loss: 0.6491 - acc: 0.6140 - val_loss: 0.7361 - val_acc: 0.5049\n",
            "Epoch 43/50\n",
            " - 20s - loss: 0.6447 - acc: 0.6142 - val_loss: 0.7443 - val_acc: 0.5004\n",
            "Epoch 44/50\n",
            " - 21s - loss: 0.6386 - acc: 0.6220 - val_loss: 0.7706 - val_acc: 0.5029\n",
            "Epoch 45/50\n",
            " - 21s - loss: 0.6344 - acc: 0.6275 - val_loss: 0.7783 - val_acc: 0.4989\n",
            "Epoch 46/50\n",
            " - 20s - loss: 0.6289 - acc: 0.6316 - val_loss: 0.7563 - val_acc: 0.5006\n",
            "Epoch 47/50\n",
            " - 20s - loss: 0.6225 - acc: 0.6393 - val_loss: 0.7780 - val_acc: 0.5044\n",
            "Epoch 48/50\n",
            " - 20s - loss: 0.6156 - acc: 0.6512 - val_loss: 0.7658 - val_acc: 0.5021\n",
            "Epoch 49/50\n",
            " - 21s - loss: 0.6096 - acc: 0.6521 - val_loss: 0.7703 - val_acc: 0.5031\n",
            "Epoch 50/50\n",
            " - 20s - loss: 0.6016 - acc: 0.6611 - val_loss: 0.7918 - val_acc: 0.5015\n"
          ],
          "name": "stdout"
        }
      ]
    },
    {
      "cell_type": "code",
      "metadata": {
        "id": "PLWllcxXTaX2",
        "colab_type": "code",
        "colab": {
          "base_uri": "https://localhost:8080/",
          "height": 283
        },
        "outputId": "e2077eea-f9f8-47f5-a30d-1873ff561aa6"
      },
      "source": [
        "# results using training set and valid set \n",
        "plt.plot(history.history['acc'])\n",
        "plt.plot(history.history['val_acc'])\n",
        "plt.hlines(0.5, 0, 50, linestyles='dotted')\n",
        "plt.ylim(0.45, 0.70)\n",
        "plt.xticks(range(0, 50))\n",
        "plt.xlabel('epochs')\n",
        "plt.ylabel('accuracy')\n",
        "plt.legend(['train', 'valid']);"
      ],
      "execution_count": 48,
      "outputs": [
        {
          "output_type": "display_data",
          "data": {
            "image/png": "[encoded data removed]",
            "text/plain": [
              "<Figure size 432x288 with 1 Axes>"
            ]
          },
          "metadata": {
            "tags": []
          }
        }
      ]
    },
    {
      "cell_type": "code",
      "metadata": {
        "colab_type": "code",
        "id": "TGtoOZsaKWNV",
        "outputId": "497c78bb-6383-40fb-a1ad-baff85fff825",
        "colab": {
          "base_uri": "https://localhost:8080/",
          "height": 50
        }
      },
      "source": [
        "print(model.evaluate(X_test, y_test, verbose=1))"
      ],
      "execution_count": 36,
      "outputs": [
        {
          "output_type": "stream",
          "text": [
            "12833/12833 [==============================] - 2s 124us/step\n",
            "[0.7347037167316158, 0.5051819527779943]\n"
          ],
          "name": "stdout"
        }
      ]
    },
    {
      "cell_type": "code",
      "metadata": {
        "colab_type": "code",
        "id": "Nz--fTpdgeuU",
        "colab": {}
      },
      "source": [
        "pred = model.predict(X_test)"
      ],
      "execution_count": 0,
      "outputs": []
    },
    {
      "cell_type": "code",
      "metadata": {
        "id": "BE3GrXJ4r8pq",
        "colab_type": "code",
        "colab": {
          "base_uri": "https://localhost:8080/",
          "height": 184
        },
        "outputId": "47548ec7-d8da-43b5-f30c-00d06c0f1d49"
      },
      "source": [
        "pred[:10, :]"
      ],
      "execution_count": 51,
      "outputs": [
        {
          "output_type": "execute_result",
          "data": {
            "text/plain": [
              "array([[0.23070341, 0.7692965 ],\n",
              "       [0.76599735, 0.23400263],\n",
              "       [0.15451215, 0.84548783],\n",
              "       [0.65897965, 0.34102032],\n",
              "       [0.43953037, 0.5604696 ],\n",
              "       [0.28754872, 0.7124513 ],\n",
              "       [0.63702834, 0.36297172],\n",
              "       [0.32686573, 0.67313427],\n",
              "       [0.9607487 , 0.03925136],\n",
              "       [0.604691  , 0.395309  ]], dtype=float32)"
            ]
          },
          "metadata": {
            "tags": []
          },
          "execution_count": 51
        }
      ]
    },
    {
      "cell_type": "code",
      "metadata": {
        "colab_type": "code",
        "id": "L4xrWHxTicLp",
        "colab": {}
      },
      "source": [
        "# pred_probs = pd.Series(pred[:, 1], name = \"pred_probs\")\n",
        "\n",
        "results = pd.concat([pd.Series(pred[:, 1], name = \"pred_probs\"), pd.Series(y_test[:, 1], name='label')], axis = 1)"
      ],
      "execution_count": 0,
      "outputs": []
    },
    {
      "cell_type": "code",
      "metadata": {
        "colab_type": "code",
        "id": "vyFrWzT_l7R_",
        "colab": {}
      },
      "source": [
        "results['pred_prob_level'] = [int(x * 20)/20 for x in results['pred_probs']]"
      ],
      "execution_count": 0,
      "outputs": []
    },
    {
      "cell_type": "code",
      "metadata": {
        "colab_type": "code",
        "id": "CKoZ2gtQlU0m",
        "outputId": "e2fb0ce3-31de-410b-b029-addd01bc683a",
        "colab": {
          "base_uri": "https://localhost:8080/",
          "height": 673
        }
      },
      "source": [
        "summary = pd.concat([results.groupby(['pred_prob_level']).mean(), \n",
        "                     results.groupby(['pred_prob_level']).count()['label'], \n",
        "                     100 * results.groupby(['pred_prob_level']).count()['label']/results.shape[0]], \n",
        "                    axis = 1)\n",
        "summary.columns = ['predicted win prob', 'actual win rate', '# of trades', '% of all trades']\n",
        "summary"
      ],
      "execution_count": 62,
      "outputs": [
        {
          "output_type": "execute_result",
          "data": {
            "text/html": [
              "<div>\n",
              "<style scoped>\n",
              "    .dataframe tbody tr th:only-of-type {\n",
              "        vertical-align: middle;\n",
              "    }\n",
              "\n",
              "    .dataframe tbody tr th {\n",
              "        vertical-align: top;\n",
              "    }\n",
              "\n",
              "    .dataframe thead th {\n",
              "        text-align: right;\n",
              "    }\n",
              "</style>\n",
              "<table border=\"1\" class=\"dataframe\">\n",
              "  <thead>\n",
              "    <tr style=\"text-align: right;\">\n",
              "      <th></th>\n",
              "      <th>predicted win prob</th>\n",
              "      <th>actual win rate</th>\n",
              "      <th># of trades</th>\n",
              "      <th>% of all trades</th>\n",
              "    </tr>\n",
              "    <tr>\n",
              "      <th>pred_prob_level</th>\n",
              "      <th></th>\n",
              "      <th></th>\n",
              "      <th></th>\n",
              "      <th></th>\n",
              "    </tr>\n",
              "  </thead>\n",
              "  <tbody>\n",
              "    <tr>\n",
              "      <th>0.00</th>\n",
              "      <td>0.030699</td>\n",
              "      <td>0.438776</td>\n",
              "      <td>98</td>\n",
              "      <td>0.763656</td>\n",
              "    </tr>\n",
              "    <tr>\n",
              "      <th>0.05</th>\n",
              "      <td>0.077011</td>\n",
              "      <td>0.532051</td>\n",
              "      <td>156</td>\n",
              "      <td>1.215616</td>\n",
              "    </tr>\n",
              "    <tr>\n",
              "      <th>0.10</th>\n",
              "      <td>0.126056</td>\n",
              "      <td>0.521739</td>\n",
              "      <td>207</td>\n",
              "      <td>1.613029</td>\n",
              "    </tr>\n",
              "    <tr>\n",
              "      <th>0.15</th>\n",
              "      <td>0.176061</td>\n",
              "      <td>0.484642</td>\n",
              "      <td>293</td>\n",
              "      <td>2.283176</td>\n",
              "    </tr>\n",
              "    <tr>\n",
              "      <th>0.20</th>\n",
              "      <td>0.225739</td>\n",
              "      <td>0.503704</td>\n",
              "      <td>405</td>\n",
              "      <td>3.155926</td>\n",
              "    </tr>\n",
              "    <tr>\n",
              "      <th>0.25</th>\n",
              "      <td>0.276661</td>\n",
              "      <td>0.517578</td>\n",
              "      <td>512</td>\n",
              "      <td>3.989714</td>\n",
              "    </tr>\n",
              "    <tr>\n",
              "      <th>0.30</th>\n",
              "      <td>0.326478</td>\n",
              "      <td>0.506438</td>\n",
              "      <td>699</td>\n",
              "      <td>5.446895</td>\n",
              "    </tr>\n",
              "    <tr>\n",
              "      <th>0.35</th>\n",
              "      <td>0.375568</td>\n",
              "      <td>0.497712</td>\n",
              "      <td>874</td>\n",
              "      <td>6.810567</td>\n",
              "    </tr>\n",
              "    <tr>\n",
              "      <th>0.40</th>\n",
              "      <td>0.425807</td>\n",
              "      <td>0.498513</td>\n",
              "      <td>1009</td>\n",
              "      <td>7.862542</td>\n",
              "    </tr>\n",
              "    <tr>\n",
              "      <th>0.45</th>\n",
              "      <td>0.475574</td>\n",
              "      <td>0.506791</td>\n",
              "      <td>1178</td>\n",
              "      <td>9.179459</td>\n",
              "    </tr>\n",
              "    <tr>\n",
              "      <th>0.50</th>\n",
              "      <td>0.525402</td>\n",
              "      <td>0.508719</td>\n",
              "      <td>1319</td>\n",
              "      <td>10.278189</td>\n",
              "    </tr>\n",
              "    <tr>\n",
              "      <th>0.55</th>\n",
              "      <td>0.574223</td>\n",
              "      <td>0.506033</td>\n",
              "      <td>1326</td>\n",
              "      <td>10.332736</td>\n",
              "    </tr>\n",
              "    <tr>\n",
              "      <th>0.60</th>\n",
              "      <td>0.625123</td>\n",
              "      <td>0.493711</td>\n",
              "      <td>1272</td>\n",
              "      <td>9.911946</td>\n",
              "    </tr>\n",
              "    <tr>\n",
              "      <th>0.65</th>\n",
              "      <td>0.673675</td>\n",
              "      <td>0.518583</td>\n",
              "      <td>1157</td>\n",
              "      <td>9.015819</td>\n",
              "    </tr>\n",
              "    <tr>\n",
              "      <th>0.70</th>\n",
              "      <td>0.723617</td>\n",
              "      <td>0.507312</td>\n",
              "      <td>889</td>\n",
              "      <td>6.927453</td>\n",
              "    </tr>\n",
              "    <tr>\n",
              "      <th>0.75</th>\n",
              "      <td>0.773282</td>\n",
              "      <td>0.487521</td>\n",
              "      <td>601</td>\n",
              "      <td>4.683239</td>\n",
              "    </tr>\n",
              "    <tr>\n",
              "      <th>0.80</th>\n",
              "      <td>0.823781</td>\n",
              "      <td>0.512755</td>\n",
              "      <td>392</td>\n",
              "      <td>3.054625</td>\n",
              "    </tr>\n",
              "    <tr>\n",
              "      <th>0.85</th>\n",
              "      <td>0.874372</td>\n",
              "      <td>0.491736</td>\n",
              "      <td>242</td>\n",
              "      <td>1.885763</td>\n",
              "    </tr>\n",
              "    <tr>\n",
              "      <th>0.90</th>\n",
              "      <td>0.923413</td>\n",
              "      <td>0.516340</td>\n",
              "      <td>153</td>\n",
              "      <td>1.192239</td>\n",
              "    </tr>\n",
              "    <tr>\n",
              "      <th>0.95</th>\n",
              "      <td>0.964256</td>\n",
              "      <td>0.509804</td>\n",
              "      <td>51</td>\n",
              "      <td>0.397413</td>\n",
              "    </tr>\n",
              "  </tbody>\n",
              "</table>\n",
              "</div>"
            ],
            "text/plain": [
              "                 predicted win prob  ...  % of all trades\n",
              "pred_prob_level                      ...                 \n",
              "0.00                       0.030699  ...         0.763656\n",
              "0.05                       0.077011  ...         1.215616\n",
              "0.10                       0.126056  ...         1.613029\n",
              "0.15                       0.176061  ...         2.283176\n",
              "0.20                       0.225739  ...         3.155926\n",
              "0.25                       0.276661  ...         3.989714\n",
              "0.30                       0.326478  ...         5.446895\n",
              "0.35                       0.375568  ...         6.810567\n",
              "0.40                       0.425807  ...         7.862542\n",
              "0.45                       0.475574  ...         9.179459\n",
              "0.50                       0.525402  ...        10.278189\n",
              "0.55                       0.574223  ...        10.332736\n",
              "0.60                       0.625123  ...         9.911946\n",
              "0.65                       0.673675  ...         9.015819\n",
              "0.70                       0.723617  ...         6.927453\n",
              "0.75                       0.773282  ...         4.683239\n",
              "0.80                       0.823781  ...         3.054625\n",
              "0.85                       0.874372  ...         1.885763\n",
              "0.90                       0.923413  ...         1.192239\n",
              "0.95                       0.964256  ...         0.397413\n",
              "\n",
              "[20 rows x 4 columns]"
            ]
          },
          "metadata": {
            "tags": []
          },
          "execution_count": 62
        }
      ]
    },
    {
      "cell_type": "code",
      "metadata": {
        "colab_type": "code",
        "id": "gVMgwIxat-_L",
        "colab": {}
      },
      "source": [
        ""
      ],
      "execution_count": 0,
      "outputs": []
    }
  ]
}