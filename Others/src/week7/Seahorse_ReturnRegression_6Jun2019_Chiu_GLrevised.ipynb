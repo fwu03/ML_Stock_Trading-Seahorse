{
 "cells": [
  {
   "cell_type": "markdown",
   "metadata": {
    "colab_type": "text",
    "id": "sQNzRed0sxIM"
   },
   "source": [
    "### Load Packages"
   ]
  },
  {
   "cell_type": "code",
   "execution_count": 1,
   "metadata": {
    "colab": {},
    "colab_type": "code",
    "id": "AjW4YMmRsxIN"
   },
   "outputs": [],
   "source": [
    "# primary EDA code\n",
    "import pandas as pd\n",
    "import numpy as np\n",
    "import os\n",
    "\n",
    "# packages for plots\n",
    "import matplotlib.pyplot as plt\n",
    "import seaborn as sns\n",
    "\n",
    "# warning ignore\n",
    "import warnings\n",
    "warnings.filterwarnings(\"ignore\")\n",
    "\n",
    "# packages for ML\n",
    "from sklearn.model_selection import train_test_split, GridSearchCV\n",
    "from sklearn.ensemble import RandomForestRegressor\n",
    "import lightgbm as lgb\n",
    "\n",
    "# packages for cross-validation\n",
    "from sklearn.model_selection import StratifiedKFold"
   ]
  },
  {
   "cell_type": "markdown",
   "metadata": {
    "colab_type": "text",
    "id": "hvB4xsqjsxIR"
   },
   "source": [
    "### Load Data & Filter NA/ Duplicate Records"
   ]
  },
  {
   "cell_type": "code",
   "execution_count": 0,
   "metadata": {
    "colab": {
     "base_uri": "https://localhost:8080/",
     "height": 128
    },
    "colab_type": "code",
    "id": "3hy_ryQAue4C",
    "outputId": "d266fdde-5128-4c67-8cd7-c12a7dc0691b"
   },
   "outputs": [
    {
     "name": "stdout",
     "output_type": "stream",
     "text": [
      "Go to this URL in a browser: https://accounts.google.com/o/oauth2/auth?client_id=947318989803-6bn6qk8qdgf4n4g3pfee6491hc0brc4i.apps.googleusercontent.com&redirect_uri=urn%3Aietf%3Awg%3Aoauth%3A2.0%3Aoob&scope=email%20https%3A%2F%2Fwww.googleapis.com%2Fauth%2Fdocs.test%20https%3A%2F%2Fwww.googleapis.com%2Fauth%2Fdrive%20https%3A%2F%2Fwww.googleapis.com%2Fauth%2Fdrive.photos.readonly%20https%3A%2F%2Fwww.googleapis.com%2Fauth%2Fpeopleapi.readonly&response_type=code\n",
      "\n",
      "Enter your authorization code:\n",
      "··········\n",
      "Mounted at /content/gdrive\n"
     ]
    }
   ],
   "source": [
    "# Read files from Google Drive\n",
    "from google.colab import drive\n",
    "drive.mount('/content/gdrive')"
   ]
  },
  {
   "cell_type": "code",
   "execution_count": 2,
   "metadata": {
    "colab": {},
    "colab_type": "code",
    "id": "d1-mM2lFu2KH"
   },
   "outputs": [],
   "source": [
    "file_path = '../data/' "
   ]
  },
  {
   "cell_type": "code",
   "execution_count": 3,
   "metadata": {
    "colab": {},
    "colab_type": "code",
    "id": "w1sv_BxzsxIS"
   },
   "outputs": [],
   "source": [
    "def data_import(folder_path, stock_list, signal_type = \"buy\", number_of_days = 3):\n",
    "    df_gp = pd.DataFrame()\n",
    "    print()\n",
    "    print(\"Loading\", signal_type, \"singal data:\")\n",
    "    for filename in os.listdir(folder_path):\n",
    "        if filename.endswith(\".txt\"):\n",
    "          \n",
    "            # Stock ID is assume to be 4 digits\n",
    "            pos = max(filename.find('S'), filename.find('B'))\n",
    "            if pos == -1:\n",
    "              pos = 45\n",
    "            stock = str(filename[0:pos]).replace('1','')\n",
    "            \n",
    "            print(stock, \" \", end = '')\n",
    "            try:\n",
    "                temp_df = pd.read_csv(os.path.join(folder_path, filename), delimiter= '\\s+', header = None)\n",
    "                \n",
    "                # Number of Days Adjustment\n",
    "                if number_of_days == 9:\n",
    "                  temp_df = pd.concat([temp_df.iloc[:, 0:41], temp_df.iloc[:, 118:159], temp_df.iloc[:, 236:277], temp_df.iloc[:, 354]],axis=1)\n",
    "                  \n",
    "                # Cut first 20 Records\n",
    "                temp_df = temp_df.iloc[21:,:]\n",
    "                temp_df = temp_df.reset_index(drop=True)\n",
    "                \n",
    "                # Buy/Sell Distinguished\n",
    "                temp_df.rename(columns={123:'rtn'}, inplace=True)\n",
    "                if signal_type == \"buy\":\n",
    "                  temp_df = pd.concat([pd.Series([1] * temp_df.shape[0], name = 'signal_type'), temp_df], axis=1)\n",
    "                else:\n",
    "                  temp_df = pd.concat([pd.Series([0] * temp_df.shape[0], name = 'signal_type'), temp_df], axis=1)\n",
    "                  temp_df['rtn'] = -temp_df['rtn']\n",
    "                  \n",
    "                # Add stock name\n",
    "                if stock not in stock_list:\n",
    "                  stock_list.append(stock)\n",
    "                temp_df = pd.concat([pd.Series([stock_list.index(stock)] * temp_df.shape[0], name = 'stock_name'), temp_df], axis=1)\n",
    "                \n",
    "                # Merge into the Output Database\n",
    "                df_gp = pd.concat([df_gp, temp_df])\n",
    "                continue\n",
    "                \n",
    "            except:\n",
    "                print('The following file cannot be read: ' + folder_path + filename)\n",
    "        else:\n",
    "            continue\n",
    "    \n",
    "    # Set all columns to numerics\n",
    "    for col in df_gp.columns:\n",
    "      if col != 'stock_name':\n",
    "        df_gp[col] = pd.to_numeric(df_gp[col],errors='coerce')\n",
    "    \n",
    "    # Rename the columns \n",
    "    osc_headers = []\n",
    "    stk_headers = []\n",
    "    macd_headers = []\n",
    "    for i in range(41):\n",
    "        osc_headers.append('osc' + str(i))\n",
    "        stk_headers.append('stk' + str(i))\n",
    "        macd_headers.append('macd' + str(i))\n",
    "    df_gp.columns = ['stock_name'] + ['signal_type'] + osc_headers + stk_headers + macd_headers + ['rtn']\n",
    "    \n",
    "    # Reset index\n",
    "    df_gp = df_gp.reset_index(drop=True)\n",
    "\n",
    "    return df_gp, stock_list"
   ]
  },
  {
   "cell_type": "code",
   "execution_count": 4,
   "metadata": {
    "colab": {
     "base_uri": "https://localhost:8080/",
     "height": 435
    },
    "colab_type": "code",
    "id": "YfGCcMLXsxIV",
    "outputId": "718f3743-b08c-47a3-d9e7-98a67c2a3665",
    "scrolled": false
   },
   "outputs": [
    {
     "name": "stdout",
     "output_type": "stream",
     "text": [
      "\n",
      "\n",
      "Loading buy singal data:\n",
      "acad  adbe  alny  amd  ati  bac  bidu  cenx  clf  crm  crus  csiq  db  gs  ions  itub  jec  jnpr  mas  meli  pru  pxd  ssys  teck  ufs  uri  \n",
      "\n",
      "Loading sell singal data:\n",
      "adbe  adsk  alny  amd  ati  bac  bidu  cenx  clf  crm  crus  csiq  db  fslr  gs  ions  itub  mas  meli  pru  pxd  ssys  teck  ufs  uri  \n",
      "\n",
      "Duplicates dropped: 858\n",
      "\n",
      "Record(s) w/ NaN dropped: 0\n",
      "\n",
      "Small osc values dropped: 68569\n",
      "\n",
      "Remained Records: 129043\n",
      "\n",
      "Positive returns: 48.58 %\n",
      "Zero returns: 3.28 %\n",
      "Negative returns: 48.13 %\n",
      "\n",
      "Avg Stock Movement % 0.04256402904458162\n",
      "Max Stock Movement % 77.43\n",
      "Min Stock Movement % -50.48\n"
     ]
    }
   ],
   "source": [
    "stock_list = []\n",
    "\n",
    "# Import Buy & Sell Data\n",
    "#df_buy9_gp, stock_list = data_import(file_path + '9days/', stock_list, signal_type = \"buy\", number_of_days = 9)\n",
    "print()\n",
    "df_buy_gp, stock_list = data_import(file_path + 'buy/', stock_list, signal_type = \"buy\")\n",
    "print()\n",
    "df_sell_gp, stock_list = data_import(file_path + 'sell/', stock_list, signal_type = \"sell\")\n",
    "\n",
    "#df_combined = df_buy_gp\n",
    "#df_combined = pd.concat([df_buy9_gp, df_buy_gp, df_sell_gp])\n",
    "df_combined = pd.concat([df_buy_gp, df_sell_gp])\n",
    "\n",
    "# Drop Duplicated Records\n",
    "len_before = df_combined.shape[0]\n",
    "df_combined = df_combined.drop_duplicates(subset = df_combined.columns[1:])\n",
    "print()\n",
    "print()\n",
    "print(\"Duplicates dropped:\", len_before - df_combined.shape[0])\n",
    "\n",
    "# Drop Records with NaN\n",
    "len_before = df_combined.shape[0]\n",
    "df_combined = df_combined.dropna()\n",
    "print()\n",
    "print(\"Record(s) w/ NaN dropped:\", len_before - df_combined.shape[0])\n",
    "print()\n",
    "\n",
    "# Only model OSC < 3 or up \n",
    "len_before = df_combined.shape[0]\n",
    "df_combined = df_combined[(df_combined.osc0 < -0.5) | (df_combined.osc0 > 0.5)]\n",
    "print(\"Small osc values dropped:\", len_before - df_combined.shape[0])\n",
    "print()\n",
    "\n",
    "# Reset Index\n",
    "df_combined = df_combined.reset_index(drop=True)\n",
    "\n",
    "print(\"Remained Records:\", df_combined.shape[0])\n",
    "print()\n",
    "\n",
    "# Check the balance of df_gp\n",
    "print('Positive returns:', round(np.sum(df_combined.rtn > 0)/len(df_combined.rtn) * 100, 2), '%')\n",
    "print('Zero returns:', round(np.sum(df_combined.rtn == 0)/len(df_combined.rtn) * 100, 2), '%')\n",
    "print('Negative returns:', round(np.sum(df_combined.rtn < 0)/len(df_combined.rtn) * 100, 2), '%')\n",
    "\n",
    "# Check stock movement\n",
    "print()\n",
    "print('Avg Stock Movement %', np.mean(df_combined.rtn))\n",
    "print('Max Stock Movement %', np.max(df_combined.rtn))\n",
    "print('Min Stock Movement %', np.min(df_combined.rtn))"
   ]
  },
  {
   "cell_type": "code",
   "execution_count": 5,
   "metadata": {
    "colab": {
     "base_uri": "https://localhost:8080/",
     "height": 477
    },
    "colab_type": "code",
    "id": "oz3jEggQuDc-",
    "outputId": "28c7cb0e-a83d-46ad-a79e-b3d0848238ae"
   },
   "outputs": [
    {
     "name": "stdout",
     "output_type": "stream",
     "text": [
      "0.4091028702304956\n",
      "2.2155704563678427\n",
      "0.5549047317382194\n"
     ]
    },
    {
     "data": {
      "text/plain": [
       "[Text(0, 0.5, 'Count of Signals'), Text(0.5, 0, 'Investement Return')]"
      ]
     },
     "execution_count": 5,
     "metadata": {},
     "output_type": "execute_result"
    },
    {
     "data": {
      "image/png": "[encoded data removed]",
      "text/plain": [
       "<Figure size 720x432 with 1 Axes>"
      ]
     },
     "metadata": {
      "needs_background": "light"
     },
     "output_type": "display_data"
    }
   ],
   "source": [
    "plt.figure(figsize=(10, 6))\n",
    "plot_list = df_buy_gp.rtn\n",
    "plot_list = plot_list[plot_list < 5]\n",
    "plot_list = plot_list[plot_list > -5]\n",
    "ax = sns.distplot(plot_list, bins = 50, kde = False)\n",
    "ax.axvline(0, ls='-')\n",
    "print(np.sum(df_buy_gp.rtn > 0)/len(df_buy_gp.rtn))\n",
    "print(np.std(df_buy_gp.rtn))\n",
    "print(np.sum(df_buy_gp.rtn < 0)/len(df_buy_gp.rtn))\n",
    "plt.title('Distribution of Returns from 102,794 Buy Signal')\n",
    "ax.set(xlabel='Investement Return', ylabel='Count of Signals')"
   ]
  },
  {
   "cell_type": "markdown",
   "metadata": {
    "colab_type": "text",
    "id": "0Qm_F2g2887q"
   },
   "source": [
    "### Split Data Into Parts"
   ]
  },
  {
   "cell_type": "code",
   "execution_count": 6,
   "metadata": {
    "colab": {},
    "colab_type": "code",
    "id": "S_stLDeUsxIZ"
   },
   "outputs": [],
   "source": [
    "def data_organize(df_gp):\n",
    "    try:\n",
    "        stock_gp = df_gp.iloc[:, 0]\n",
    "        signal_gp = df_gp.iloc[:, 1]\n",
    "        osc_gp = df_gp.iloc[:, 2:43]\n",
    "        stk_gp = df_gp.iloc[:, 43:84]\n",
    "        macd_gp = df_gp.iloc[:, 84:125]\n",
    "        rtn_gp = df_gp.iloc[:, 125]\n",
    "        label_gp = rtn_gp\n",
    "        \n",
    "        # Return Censorship for control over UpRate, if we want both\n",
    "        \n",
    "        #label_gp = (rtn_gp > 0).map({False: -1, True: 1})\n",
    "        #for i in range(len(label_gp)):\n",
    "        #  if rtn_gp[i] > 5:\n",
    "        #    label_gp[i] = 5\n",
    "        #  elif rtn_gp[i] < -5:\n",
    "        #    label_gp[i] = -5\n",
    "        \n",
    "        #print('5 :', round(np.sum(label_gp == 5)/len(label_gp) * 100, 2), '%')\n",
    "        #print('+ :', round(np.sum(label_gp > 0)/len(label_gp) * 100, 2), '%')\n",
    "        #print('0 :', round(np.sum(label_gp == 0)/len(label_gp) * 100, 2), '%')\n",
    "        #print('-:', round(np.sum(label_gp < 0)/len(label_gp) * 100, 2), '%')\n",
    "        #print('-5:', round(np.sum(label_gp == -5)/len(label_gp) * 100, 2), '%')\n",
    "        \n",
    "    except:\n",
    "        print('Please check the dataframe index')\n",
    "\n",
    "    return stock_gp, signal_gp, osc_gp, stk_gp, macd_gp, rtn_gp, label_gp"
   ]
  },
  {
   "cell_type": "code",
   "execution_count": 7,
   "metadata": {
    "colab": {},
    "colab_type": "code",
    "id": "1ShOqrL5Bvly"
   },
   "outputs": [],
   "source": [
    "stock_gp, signal_gp, osc_gp, stk_gp, macd_gp, rtn_gp, label_gp = data_organize(df_combined)\n",
    "#label_gp = rtn_gp"
   ]
  },
  {
   "cell_type": "markdown",
   "metadata": {
    "colab_type": "text",
    "id": "-ej6m9BzsxIe"
   },
   "source": [
    "### Feature Engineering - add Additional Features"
   ]
  },
  {
   "cell_type": "code",
   "execution_count": 8,
   "metadata": {
    "colab": {},
    "colab_type": "code",
    "id": "CyLbqr8BsxIf"
   },
   "outputs": [],
   "source": [
    "def smooth_generator(data, name = \"osc\"):\n",
    "    smooth_list = []\n",
    "    for i in range(data.shape[0]):\n",
    "        smooth_list.append(np.var(np.diff(np.diff(data.iloc[i,:10])))/np.mean(np.absolute(data.iloc[i,:10])))\n",
    "    smooth = pd.DataFrame(smooth_list, columns=[\"smooth_\" + name])\n",
    "    return smooth\n",
    "\n",
    "def derivative(data, space = 1, name = \"d\", relative = False):\n",
    "    dy = []\n",
    "    for i in range(data.shape[0]):\n",
    "        y = pd.Series(data.iloc[i,:])\n",
    "        # Relative change\n",
    "        if relative == True:\n",
    "            y = y/(np.mean(np.abs(y)))\n",
    "        temp_dy = list(np.diff(y))\n",
    "        #temp_dy = list(np.gradient(y, space))\n",
    "        dy.append(temp_dy)\n",
    "\n",
    "    col_name = []\n",
    "    for i in range(len(temp_dy)):\n",
    "        col_name.append(name + str(i))\n",
    "\n",
    "    deriv_df = pd.DataFrame(dy, columns=col_name)\n",
    "\n",
    "    return deriv_df\n",
    "  \n",
    "def ratio(osc_gp, stk, macd):\n",
    "    ratio_osc_stk0 = osc_gp.iloc[:, 0]/stk.iloc[:, 0]\n",
    "    ratio_osc_stk1 = osc_gp.iloc[:, 1]/stk.iloc[:, 1]\n",
    "    ratio_osc_stk2 = osc_gp.iloc[:, 2]/stk.iloc[:, 2]\n",
    "    ratio_osc_stk3 = osc_gp.iloc[:, 3]/stk.iloc[:, 3]\n",
    "    ratio_osc_stk4 = osc_gp.iloc[:, 4]/stk.iloc[:, 4]\n",
    "    ratio_osc_stk = pd.concat([ratio_osc_stk0, ratio_osc_stk1, ratio_osc_stk2, ratio_osc_stk3, ratio_osc_stk4], axis=1)\n",
    "    \n",
    "    #ratio_osc_macd0 = osc_gp.iloc[:, 0]/macd.iloc[:, 0]\n",
    "    #ratio_osc_macd1 = osc_gp.iloc[:, 1]/macd.iloc[:, 1]\n",
    "    #ratio_osc_macd2 = osc_gp.iloc[:, 2]/macd.iloc[:, 2]\n",
    "    #ratio_osc_macd3 = osc_gp.iloc[:, 3]/macd.iloc[:, 3]\n",
    "    #ratio_osc_macd4 = osc_gp.iloc[:, 4]/macd.iloc[:, 4]\n",
    "    #ratio_osc_macd = pd.concat([ratio_osc_macd0, ratio_osc_macd1, ratio_osc_macd2, ratio_osc_macd3, ratio_osc_macd4], axis=1)\n",
    "    \n",
    "    #ratio = pd.concat([pd.DataFrame(ratio_osc_stk.mean(axis = 1), columns=[\"ratio_osc_stk\"]), pd.DataFrame(ratio_osc_macd.mean(axis = 1), columns=[\"ratio_osc_macd\"])], axis=1)\n",
    "    ratio = pd.DataFrame(ratio_osc_stk.mean(axis = 1), columns=[\"ratio_osc_stk\"])\n",
    "                       \n",
    "    return ratio"
   ]
  },
  {
   "cell_type": "code",
   "execution_count": 9,
   "metadata": {
    "colab": {},
    "colab_type": "code",
    "id": "hbRL9CCMsxIj"
   },
   "outputs": [],
   "source": [
    "# calculate the dy for macd\n",
    "first_deriv_macd = derivative(macd_gp, name=\"d_macd\", relative = True)    \n",
    "\n",
    "# calculate the ddy for macd\n",
    "second_deriv_macd = derivative(first_deriv_macd, name=\"dd_macd\", relative = False) "
   ]
  },
  {
   "cell_type": "code",
   "execution_count": 10,
   "metadata": {
    "colab": {},
    "colab_type": "code",
    "id": "wdMzdU6bsxIk"
   },
   "outputs": [],
   "source": [
    "# calculate the dy for osc\n",
    "first_deriv_osc = derivative(osc_gp, name=\"d_osc\", relative = True)\n",
    "\n",
    "# calculate the ddy for osc\n",
    "second_deriv_osc = derivative(first_deriv_osc, name=\"dd_osc\", relative = False) "
   ]
  },
  {
   "cell_type": "code",
   "execution_count": 11,
   "metadata": {
    "colab": {},
    "colab_type": "code",
    "id": "afLTxrU3eopo"
   },
   "outputs": [],
   "source": [
    "# calculate the smooth for osc\n",
    "smooth_osc = smooth_generator(osc_gp, \"osc\")\n",
    "\n",
    "# calculate the smooth for osc\n",
    "smooth_stk = smooth_generator(stk_gp, \"stk\")\n",
    "\n",
    "# calculate the smooth for osc\n",
    "smooth_macd = smooth_generator(macd_gp, \"macd\")"
   ]
  },
  {
   "cell_type": "code",
   "execution_count": 12,
   "metadata": {
    "colab": {},
    "colab_type": "code",
    "id": "KKhQ5_b9sxIo"
   },
   "outputs": [],
   "source": [
    "# calculate the dy for stock\n",
    "first_deriv_stk = derivative(stk_gp, name=\"d_stk\", relative = True)\n",
    "\n",
    "# calculate the ddy for stock\n",
    "second_deriv_stk = derivative(first_deriv_stk, name=\"dd_stk\", relative = False)\n",
    "\n",
    "# calculate the dddy for stock\n",
    "third_deriv_stk = derivative(second_deriv_stk, name=\"ddd_stk\", relative = False)"
   ]
  },
  {
   "cell_type": "code",
   "execution_count": 13,
   "metadata": {
    "colab": {},
    "colab_type": "code",
    "id": "NyAnmmaEZmIu"
   },
   "outputs": [],
   "source": [
    "# Ratio\n",
    "ratios = ratio(osc_gp, stk_gp, macd_gp)"
   ]
  },
  {
   "cell_type": "markdown",
   "metadata": {
    "colab_type": "text",
    "id": "yZD616uqBXnk"
   },
   "source": [
    "### Combine Features"
   ]
  },
  {
   "cell_type": "code",
   "execution_count": 14,
   "metadata": {
    "colab": {},
    "colab_type": "code",
    "id": "KX841fPHsxIr"
   },
   "outputs": [],
   "source": [
    "Feature_matrix_w_rtn = pd.concat([rtn_gp, signal_gp, stock_gp, smooth_osc, smooth_stk, smooth_macd, first_deriv_stk, second_deriv_stk, third_deriv_stk, first_deriv_osc, second_deriv_osc, first_deriv_macd, second_deriv_macd, stk_gp, osc_gp, macd_gp], axis=1)\n"
   ]
  },
  {
   "cell_type": "markdown",
   "metadata": {
    "colab_type": "text",
    "id": "N6adWARO6pOM"
   },
   "source": [
    "### LGBM + 10 fold CV\n"
   ]
  },
  {
   "cell_type": "code",
   "execution_count": 61,
   "metadata": {
    "colab": {
     "base_uri": "https://localhost:8080/",
     "height": 926
    },
    "colab_type": "code",
    "id": "c7vlNtI50CsV",
    "outputId": "4887e68a-d6c9-4baa-9ad7-0eba9115a821"
   },
   "outputs": [
    {
     "name": "stdout",
     "output_type": "stream",
     "text": [
      "Avg Return(y_train): 0.04193401710284931\n",
      "Avg Return(y_valid): 0.04822550688747867\n",
      "Progress:  10.0 %\n",
      "Avg Return(y_train): 0.041886366767703964\n",
      "Avg Return(y_valid): 0.0486573751451802\n",
      "Progress:  20.0 %\n",
      "Avg Return(y_train): 0.041484383745661595\n",
      "Avg Return(y_valid): 0.05227272727272762\n",
      "Progress:  30.0 %\n",
      "Avg Return(y_train): 0.04176181865151057\n",
      "Avg Return(y_valid): 0.0497785177727867\n",
      "Progress:  40.0 %\n",
      "Avg Return(y_train): 0.04344280363370165\n",
      "Avg Return(y_valid): 0.03465757669662232\n",
      "Progress:  50.0 %\n",
      "Avg Return(y_train): 0.042467667774543465\n",
      "Avg Return(y_valid): 0.04343122820612166\n",
      "Progress:  60.0 %\n",
      "Avg Return(y_train): 0.04312325653476554\n",
      "Avg Return(y_valid): 0.03752694842962378\n",
      "Progress:  70.0 %\n",
      "Avg Return(y_train): 0.04276321340324153\n",
      "Avg Return(y_valid): 0.040769469438411435\n",
      "Progress:  80.0 %\n",
      "Avg Return(y_train): 0.04422198116293848\n",
      "Avg Return(y_valid): 0.02762277911397307\n",
      "Progress:  90.0 %\n",
      "Avg Return(y_train): 0.04255421728237725\n",
      "Avg Return(y_valid): 0.042652443754848605\n",
      "Progress:  100.0 %\n"
     ]
    }
   ],
   "source": [
    "results_t_col = pd.DataFrame()\n",
    "results_v_col = pd.DataFrame()\n",
    "\n",
    "t_top15_btm67_means = [] \n",
    "t_top15_top33_means = [] \n",
    "v_top15_btm67_means = [] \n",
    "v_top15_top33_means = [] \n",
    "\n",
    "#label_gp = label_gp.rank(pct = True)*100\n",
    "#label_gp = np.round(label_gp, -1)\n",
    "label_gp = np.round(label_gp, 0)\n",
    "\n",
    "# n-fold Cross Validation\n",
    "n = 10\n",
    "p = 0\n",
    "kf = StratifiedKFold(n_splits = n, shuffle = True)\n",
    "kf.get_n_splits(Feature_matrix_w_rtn, label_gp)\n",
    "\n",
    "# Within each fold\n",
    "for train_index, test_index in kf.split(Feature_matrix_w_rtn, label_gp):\n",
    "\n",
    "    # Define train/ validation set (convert X_w_rtn and y to np.array for indexing on the next line)\n",
    "    X_train_w_rtn, X_valid_w_rtn = Feature_matrix_w_rtn.values[train_index], Feature_matrix_w_rtn.values[test_index]\n",
    "    y_train, y_valid = rtn_gp.values[train_index], rtn_gp.values[test_index]\n",
    "    \n",
    "    # Separate returns from Feature matrix (convert X_w_rtn and y back to pandas)\n",
    "    X_train = pd.DataFrame(X_train_w_rtn).iloc[:, 1:]\n",
    "    X_valid = pd.DataFrame(X_valid_w_rtn).iloc[:, 1:]\n",
    "\n",
    "    rtn_train = pd.DataFrame(X_train_w_rtn).iloc[:, 0]\n",
    "    rtn_valid = pd.DataFrame(X_valid_w_rtn).iloc[:, 0]\n",
    "    \n",
    "    sig_train = pd.DataFrame(X_valid_w_rtn).iloc[:, 1]\n",
    "    sig_valid = pd.DataFrame(X_valid_w_rtn).iloc[:, 1]\n",
    "    \n",
    "    y_train = pd.Series(y_train)\n",
    "    y_valid = pd.Series(y_valid)\n",
    "    \n",
    "    # Reset indices on all\n",
    "    X_train = X_train.reset_index(drop=True)\n",
    "    y_train = y_train.reset_index(drop=True)\n",
    "    rtn_train = rtn_train.reset_index(drop=True)\n",
    "    \n",
    "    X_valid = X_valid.reset_index(drop=True)\n",
    "    y_valid = y_valid.reset_index(drop=True)\n",
    "    rtn_valid = rtn_valid.reset_index(drop=True)\n",
    "    \n",
    "    # Train LGBM Model\n",
    "    lg = lgb.LGBMRegressor(silent=False)\n",
    "    data_train = lgb.Dataset(X_train, label=y_train, categorical_feature=[0,1])\n",
    "    data_valid = lgb.Dataset(X_valid, label=y_valid, reference=data_train)\n",
    "    params = {\n",
    "    'application': 'regression_l2',\n",
    "    'num_leaves': 300,\n",
    "    'learning_rate': 0.005,\n",
    "    'max_depth': 100,\n",
    "    'n_estimators': 100\n",
    "    }\n",
    "\n",
    "    model2 = lgb.train(params, data_train) #, valid_sets=data_valid, early_stopping_rounds=15, verbose_eval=10)\n",
    "    \n",
    "    # Extracts the probabilities of being a good trade\n",
    "    return_train = model2.predict(X_train)\n",
    "    return_valid = model2.predict(X_valid)\n",
    "    valid_avg_rtn = np.mean(y_valid)\n",
    "    \n",
    "    print(\"Avg Return(y_train):\", np.mean(y_train))\n",
    "    print(\"Avg Return(y_valid):\", valid_avg_rtn)\n",
    "    \n",
    "    # Put Results Together\n",
    "    results_t = pd.concat([pd.DataFrame(return_train), y_train, sig_train], axis = 1)\n",
    "    results_v = pd.concat([pd.DataFrame(return_valid), y_valid, sig_valid], axis = 1)\n",
    "    results_t.columns = ['Prediction', 'Actual Return', 'BuySignal%']\n",
    "    results_v.columns = ['Prediction', 'Actual Return', 'BuySignal%']\n",
    "    \n",
    "    results_t['UpRate'] = results_t['Actual Return'] > 0\n",
    "    results_v['UpRate'] = results_v['Actual Return'] > 0\n",
    "    \n",
    "    t_pct85 = np.nanpercentile(results_t['Prediction'], 85)\n",
    "    \n",
    "    t_top15_df = results_t[results_t['Prediction'] >= t_pct85] \n",
    "    t_top15_pct67 = np.nanpercentile(t_top15_df['Prediction'], 67) \n",
    "    t_top15_btm67_df = t_top15_df[t_top15_df['Prediction'] <= t_top15_pct67] \n",
    "    t_top15_top33_df = t_top15_df[t_top15_df['Prediction'] > t_top15_pct67] \n",
    "    \n",
    "    v_top15_df = results_v[results_v['Prediction'] >= t_pct85] \n",
    "    v_top15_pct67 = np.nanpercentile(v_top15_df['Prediction'], 67) \n",
    "    v_top15_btm67_df = v_top15_df[v_top15_df['Prediction'] <= v_top15_pct67] \n",
    "    v_top15_top33_df = v_top15_df[v_top15_df['Prediction'] > v_top15_pct67]\n",
    "    \n",
    "    t_top15_btm67_means.append(t_top15_btm67_df['Actual Return'].mean())\n",
    "    t_top15_top33_means.append(t_top15_top33_df['Actual Return'].mean())\n",
    "    v_top15_btm67_means.append(v_top15_btm67_df['Actual Return'].mean())\n",
    "    v_top15_top33_means.append(v_top15_top33_df['Actual Return'].mean())\n",
    "    \n",
    "    '''\n",
    "    # Add Score(Percentile Rank)\n",
    "    results_t['Score'] = pd.DataFrame(results_t['Prediction']).rank(pct = True)\n",
    "    results_t['Score'] = results_t['Score']*100\n",
    "    results_t['Score_rd'] = np.round(results_t['Score'],-1)\n",
    "    results_v['Score'] = pd.DataFrame(results_v['Prediction']).rank(pct = True)\n",
    "    results_v['Score'] = results_v['Score']*100\n",
    "    results_v['Score_rd'] = np.round(results_v['Score'],-1)\n",
    "    \n",
    "    results_t['UpRate'] = results_t['Actual Return'] > 0\n",
    "    results_v['UpRate'] = results_v['Actual Return'] > 0\n",
    "    \n",
    "    #results_t = results_t.drop(columns=['Prediction','Score'])\n",
    "    #results_v = results_v.drop(columns=['Prediction','Score'])\n",
    "    \n",
    "    results_t = results_t.groupby(['Score_rd']).mean()\n",
    "    results_v = results_v.groupby(['Score_rd']).mean()\n",
    "    \n",
    "    print(\"100 group Return:\", results_v.loc[100.0][\"Actual Return\"])\n",
    "    print(\"90 group Return:\",results_v.loc[90.0][\"Actual Return\"])\n",
    "    ''' \n",
    "    \n",
    "    # results_t_col = pd.concat([results_t_col, results_t_g])\n",
    "    # results_v_col = pd.concat([results_v_col, results_v_g])\n",
    "   \n",
    "    # Print Progress\n",
    "    p = p + 1\n",
    "    print('Progress: ', round(p*100/n, 0), '%')"
   ]
  },
  {
   "cell_type": "code",
   "execution_count": 62,
   "metadata": {
    "colab": {
     "base_uri": "https://localhost:8080/",
     "height": 184
    },
    "colab_type": "code",
    "id": "_oPoQHf16t04",
    "outputId": "cdf5230b-4158-4790-d698-9a503fc9c7dd"
   },
   "outputs": [
    {
     "name": "stdout",
     "output_type": "stream",
     "text": [
      "1.0527480417891588\n",
      "3.707660085573848\n",
      "0.11802863241484987\n",
      "0.206343106250926\n"
     ]
    }
   ],
   "source": [
    "print(np.mean(t_top15_btm67_means))\n",
    "print(np.mean(t_top15_top33_means))\n",
    "print(np.mean(v_top15_btm67_means))\n",
    "print(np.mean(v_top15_top33_means))"
   ]
  },
  {
   "cell_type": "code",
   "execution_count": 74,
   "metadata": {
    "colab": {
     "base_uri": "https://localhost:8080/",
     "height": 184
    },
    "colab_type": "code",
    "id": "8wDhI-Vs6ztg",
    "outputId": "e8b76e65-a609-4ab7-e4d9-053d51e2a181"
   },
   "outputs": [
    {
     "data": {
      "text/plain": [
       "<matplotlib.collections.LineCollection at 0x23d8d5eb6a0>"
      ]
     },
     "execution_count": 74,
     "metadata": {},
     "output_type": "execute_result"
    },
    {
     "data": {
      "image/png": "[encoded data removed]",
      "text/plain": [
       "<Figure size 432x288 with 1 Axes>"
      ]
     },
     "metadata": {
      "needs_background": "light"
     },
     "output_type": "display_data"
    }
   ],
   "source": [
    "plt.boxplot([t_top15_btm67_means, t_top15_top33_means]);\n",
    "plt.hlines(0.04, xmin=0.5, xmax=2.5, linestyles='dotted')"
   ]
  },
  {
   "cell_type": "code",
   "execution_count": 77,
   "metadata": {},
   "outputs": [
    {
     "data": {
      "text/plain": [
       "<matplotlib.collections.LineCollection at 0x23d93861358>"
      ]
     },
     "execution_count": 77,
     "metadata": {},
     "output_type": "execute_result"
    },
    {
     "data": {
      "image/png": "[encoded data removed]",
      "text/plain": [
       "<Figure size 432x288 with 1 Axes>"
      ]
     },
     "metadata": {
      "needs_background": "light"
     },
     "output_type": "display_data"
    }
   ],
   "source": [
    "plt.boxplot([v_top15_btm67_means, v_top15_top33_means]);\n",
    "plt.hlines(0.04, xmin=0.5, xmax=2.5, linestyles='dotted')"
   ]
  },
  {
   "cell_type": "code",
   "execution_count": null,
   "metadata": {},
   "outputs": [],
   "source": []
  },
  {
   "cell_type": "code",
   "execution_count": 0,
   "metadata": {
    "colab": {},
    "colab_type": "code",
    "id": "e5Uk9oaia4Jl"
   },
   "outputs": [],
   "source": []
  }
 ],
 "metadata": {
  "accelerator": "GPU",
  "colab": {
   "collapsed_sections": [],
   "name": "Seahorse_ReturnRegression_6Jun2019_Chiu.ipynb",
   "provenance": [],
   "version": "0.3.2"
  },
  "kernelspec": {
   "display_name": "Python 3",
   "language": "python",
   "name": "python3"
  },
  "language_info": {
   "codemirror_mode": {
    "name": "ipython",
    "version": 3
   },
   "file_extension": ".py",
   "mimetype": "text/x-python",
   "name": "python",
   "nbconvert_exporter": "python",
   "pygments_lexer": "ipython3",
   "version": "3.7.3"
  }
 },
 "nbformat": 4,
 "nbformat_minor": 1
}
