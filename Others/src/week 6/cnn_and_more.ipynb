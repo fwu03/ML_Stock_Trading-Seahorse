{
  "nbformat": 4,
  "nbformat_minor": 0,
  "metadata": {
    "colab": {
      "name": "pip_line.ipynb",
      "version": "0.3.2",
      "provenance": [],
      "collapsed_sections": []
    },
    "language_info": {
      "codemirror_mode": {
        "name": "ipython",
        "version": 3
      },
      "file_extension": ".py",
      "mimetype": "text/x-python",
      "name": "python",
      "nbconvert_exporter": "python",
      "pygments_lexer": "ipython3",
      "version": "3.6.8"
    },
    "kernelspec": {
      "display_name": "Python 3",
      "language": "python",
      "name": "python3"
    }
  },
  "cells": [
    {
      "cell_type": "code",
      "metadata": {
        "id": "lksYGkJLVugq",
        "colab_type": "code",
        "colab": {}
      },
      "source": [
        "\n"
      ],
      "execution_count": 0,
      "outputs": []
    },
    {
      "cell_type": "code",
      "metadata": {
        "id": "9he2yP4cW9HD",
        "colab_type": "code",
        "outputId": "ecf1f5b7-dfa5-466a-d6eb-793654a98d31",
        "colab": {
          "base_uri": "https://localhost:8080/",
          "height": 189
        }
      },
      "source": [
        "from google.colab import drive\n",
        "drive.mount('/content/gdrive')"
      ],
      "execution_count": 1,
      "outputs": [
        {
          "output_type": "stream",
          "text": [
            "Go to this URL in a browser: https://accounts.google.com/o/oauth2/auth?client_id=947318989803-6bn6qk8qdgf4n4g3pfee6491hc0brc4i.apps.googleusercontent.com&redirect_uri=urn%3Aietf%3Awg%3Aoauth%3A2.0%3Aoob&scope=email%20https%3A%2F%2Fwww.googleapis.com%2Fauth%2Fdocs.test%20https%3A%2F%2Fwww.googleapis.com%2Fauth%2Fdrive%20https%3A%2F%2Fwww.googleapis.com%2Fauth%2Fdrive.photos.readonly%20https%3A%2F%2Fwww.googleapis.com%2Fauth%2Fpeopleapi.readonly&response_type=code\n",
            "\n",
            "Enter your authorization code:\n",
            "··········\n",
            "Mounted at /content/gdrive\n"
          ],
          "name": "stdout"
        }
      ]
    },
    {
      "cell_type": "code",
      "metadata": {
        "id": "V6bx73w_pgx_",
        "colab_type": "code",
        "colab": {
          "base_uri": "https://localhost:8080/",
          "height": 34
        },
        "outputId": "43992117-cfe0-400b-fea4-cb34eea15a07"
      },
      "source": [
        "# packages for basic python calculation\n",
        "import pandas as pd\n",
        "import numpy as np\n",
        "import os\n",
        "\n",
        "# warning ignore\n",
        "import warnings\n",
        "warnings.filterwarnings(\"ignore\")\n",
        "\n",
        "# packages for fft\n",
        "#import spectrum\n",
        "#from spectrum import Periodogram, data_cosine\n",
        "\n",
        "# packages for ML\n",
        "from sklearn.model_selection import train_test_split\n",
        "from sklearn.feature_selection import RFE\n",
        "\n",
        "from keras.preprocessing import sequence\n",
        "from keras.models import Sequential, Model\n",
        "from keras.layers import Dense, Input, LSTM, Embedding, Dropout, Activation, GRU\n",
        "from keras.layers import Bidirectional, GlobalMaxPool1D\n",
        "from keras.datasets import imdb\n",
        "from keras.preprocessing.text import Tokenizer\n",
        "from sklearn.model_selection import train_test_split\n",
        "\n",
        "# package for ploting\n",
        "import matplotlib.pyplot as plt\n",
        "plt.style.use('seaborn-talk')\n",
        "\n",
        "from random import sample \n",
        "\n",
        "\n",
        "\n",
        "# defind function for data readin\n",
        "def load_data(folder_path = \"../data/buy/\"):\n",
        "    df_gp = pd.DataFrame()\n",
        "    \n",
        "    for filename in os.listdir(folder_path):\n",
        "        if filename.endswith(\".txt\"): \n",
        "            stock = filename[0:4]\n",
        "            print(\"Loading stock data:\", stock, \",\")\n",
        "            temp_df = pd.read_csv(os.path.join(folder_path, filename), delimiter= '\\s+', header = None)\n",
        "            temp_df.rename(columns={123:'rtn'}, inplace=True)\n",
        "            temp_df = pd.concat([pd.Series([stock] * temp_df.shape[0], name = 'stock'), temp_df], axis=1)\n",
        "            df_gp = pd.concat([df_gp, temp_df], ignore_index=True)\n",
        "            df_gp.reset_index()\n",
        "            continue\n",
        "        else:\n",
        "            continue\n",
        "    \n",
        "    # drop rows with NA\n",
        "    rows_to_drop = []\n",
        "    for i in range(df_gp.shape[0]):\n",
        "        if sum(df_gp.iloc[i,:].isnull()):\n",
        "            rows_to_drop.append(i)\n",
        "    \n",
        "    df_gp = df_gp.drop(rows_to_drop, axis=0)\n",
        "    #df_gp = df_gp.iloc[:,1:]   \n",
        "    \n",
        "    # remove duplicates\n",
        "    df_gp = df_gp.drop_duplicates(subset=df_gp.columns.difference(['stock']))\n",
        "    \n",
        "    # change data type\n",
        "    df_gp.iloc[:, 1:] = df_gp.iloc[:, 1:].astype(float)\n",
        "    \n",
        "    df_gp = df_gp.reset_index(drop = True)\n",
        "    return df_gp"
      ],
      "execution_count": 2,
      "outputs": [
        {
          "output_type": "stream",
          "text": [
            "Using TensorFlow backend.\n"
          ],
          "name": "stderr"
        }
      ]
    },
    {
      "cell_type": "markdown",
      "metadata": {
        "id": "u9si_a2JVugx",
        "colab_type": "text"
      },
      "source": [
        "# Data Loading"
      ]
    },
    {
      "cell_type": "code",
      "metadata": {
        "id": "TnRBP6ueVugz",
        "colab_type": "code",
        "colab": {
          "base_uri": "https://localhost:8080/",
          "height": 476
        },
        "outputId": "161ca55b-3cf5-43e3-9ab3-799360eb5f1a"
      },
      "source": [
        "df_gp = load_data(\"/content/gdrive/My Drive/buy/\")"
      ],
      "execution_count": 3,
      "outputs": [
        {
          "output_type": "stream",
          "text": [
            "Loading stock data: adbe ,\n",
            "Loading stock data: ions ,\n",
            "Loading stock data: ssys ,\n",
            "Loading stock data: ati1 ,\n",
            "Loading stock data: itub ,\n",
            "Loading stock data: alny ,\n",
            "Loading stock data: pxd1 ,\n",
            "Loading stock data: ufs1 ,\n",
            "Loading stock data: bac1 ,\n",
            "Loading stock data: uri1 ,\n",
            "Loading stock data: clf1 ,\n",
            "Loading stock data: gs1B ,\n",
            "Loading stock data: jnpr ,\n",
            "Loading stock data: crm1 ,\n",
            "Loading stock data: mas1 ,\n",
            "Loading stock data: crus ,\n",
            "Loading stock data: pru1 ,\n",
            "Loading stock data: bidu ,\n",
            "Loading stock data: fslr ,\n",
            "Loading stock data: csiq ,\n",
            "Loading stock data: jec1 ,\n",
            "Loading stock data: db1B ,\n",
            "Loading stock data: acad ,\n",
            "Loading stock data: amd1 ,\n",
            "Loading stock data: cenx ,\n",
            "Loading stock data: teck ,\n",
            "Loading stock data: meli ,\n"
          ],
          "name": "stdout"
        }
      ]
    },
    {
      "cell_type": "code",
      "metadata": {
        "id": "TcyLLQT4CyUo",
        "colab_type": "code",
        "colab": {
          "base_uri": "https://localhost:8080/",
          "height": 273
        },
        "outputId": "e9a3a6d2-57fa-45ba-8641-d4fcade6e027"
      },
      "source": [
        "df_gp.head()"
      ],
      "execution_count": 4,
      "outputs": [
        {
          "output_type": "execute_result",
          "data": {
            "text/html": [
              "<div>\n",
              "<style scoped>\n",
              "    .dataframe tbody tr th:only-of-type {\n",
              "        vertical-align: middle;\n",
              "    }\n",
              "\n",
              "    .dataframe tbody tr th {\n",
              "        vertical-align: top;\n",
              "    }\n",
              "\n",
              "    .dataframe thead th {\n",
              "        text-align: right;\n",
              "    }\n",
              "</style>\n",
              "<table border=\"1\" class=\"dataframe\">\n",
              "  <thead>\n",
              "    <tr style=\"text-align: right;\">\n",
              "      <th></th>\n",
              "      <th>stock</th>\n",
              "      <th>0</th>\n",
              "      <th>1</th>\n",
              "      <th>2</th>\n",
              "      <th>3</th>\n",
              "      <th>4</th>\n",
              "      <th>5</th>\n",
              "      <th>6</th>\n",
              "      <th>7</th>\n",
              "      <th>8</th>\n",
              "      <th>9</th>\n",
              "      <th>10</th>\n",
              "      <th>11</th>\n",
              "      <th>12</th>\n",
              "      <th>13</th>\n",
              "      <th>14</th>\n",
              "      <th>15</th>\n",
              "      <th>16</th>\n",
              "      <th>17</th>\n",
              "      <th>18</th>\n",
              "      <th>19</th>\n",
              "      <th>20</th>\n",
              "      <th>21</th>\n",
              "      <th>22</th>\n",
              "      <th>23</th>\n",
              "      <th>24</th>\n",
              "      <th>25</th>\n",
              "      <th>26</th>\n",
              "      <th>27</th>\n",
              "      <th>28</th>\n",
              "      <th>29</th>\n",
              "      <th>30</th>\n",
              "      <th>31</th>\n",
              "      <th>32</th>\n",
              "      <th>33</th>\n",
              "      <th>34</th>\n",
              "      <th>35</th>\n",
              "      <th>36</th>\n",
              "      <th>37</th>\n",
              "      <th>38</th>\n",
              "      <th>...</th>\n",
              "      <th>84</th>\n",
              "      <th>85</th>\n",
              "      <th>86</th>\n",
              "      <th>87</th>\n",
              "      <th>88</th>\n",
              "      <th>89</th>\n",
              "      <th>90</th>\n",
              "      <th>91</th>\n",
              "      <th>92</th>\n",
              "      <th>93</th>\n",
              "      <th>94</th>\n",
              "      <th>95</th>\n",
              "      <th>96</th>\n",
              "      <th>97</th>\n",
              "      <th>98</th>\n",
              "      <th>99</th>\n",
              "      <th>100</th>\n",
              "      <th>101</th>\n",
              "      <th>102</th>\n",
              "      <th>103</th>\n",
              "      <th>104</th>\n",
              "      <th>105</th>\n",
              "      <th>106</th>\n",
              "      <th>107</th>\n",
              "      <th>108</th>\n",
              "      <th>109</th>\n",
              "      <th>110</th>\n",
              "      <th>111</th>\n",
              "      <th>112</th>\n",
              "      <th>113</th>\n",
              "      <th>114</th>\n",
              "      <th>115</th>\n",
              "      <th>116</th>\n",
              "      <th>117</th>\n",
              "      <th>118</th>\n",
              "      <th>119</th>\n",
              "      <th>120</th>\n",
              "      <th>121</th>\n",
              "      <th>122</th>\n",
              "      <th>rtn</th>\n",
              "    </tr>\n",
              "  </thead>\n",
              "  <tbody>\n",
              "    <tr>\n",
              "      <th>0</th>\n",
              "      <td>adbe</td>\n",
              "      <td>0.04</td>\n",
              "      <td>0.00</td>\n",
              "      <td>0.00</td>\n",
              "      <td>0.00</td>\n",
              "      <td>0.00</td>\n",
              "      <td>0.00</td>\n",
              "      <td>0.00</td>\n",
              "      <td>0.00</td>\n",
              "      <td>0.00</td>\n",
              "      <td>0.00</td>\n",
              "      <td>0.00</td>\n",
              "      <td>0.00</td>\n",
              "      <td>0.0</td>\n",
              "      <td>0.00</td>\n",
              "      <td>0.00</td>\n",
              "      <td>0.00</td>\n",
              "      <td>0.00</td>\n",
              "      <td>0.00</td>\n",
              "      <td>0.00</td>\n",
              "      <td>0.00</td>\n",
              "      <td>0.00</td>\n",
              "      <td>0.00</td>\n",
              "      <td>0.0</td>\n",
              "      <td>0.00</td>\n",
              "      <td>0.00</td>\n",
              "      <td>0.00</td>\n",
              "      <td>0.0</td>\n",
              "      <td>0.00</td>\n",
              "      <td>0.0</td>\n",
              "      <td>0.00</td>\n",
              "      <td>0.00</td>\n",
              "      <td>0.00</td>\n",
              "      <td>0.0</td>\n",
              "      <td>0.00</td>\n",
              "      <td>0.00</td>\n",
              "      <td>0.00</td>\n",
              "      <td>0.00</td>\n",
              "      <td>0.0</td>\n",
              "      <td>0.0</td>\n",
              "      <td>...</td>\n",
              "      <td>0.00</td>\n",
              "      <td>0.00</td>\n",
              "      <td>0.00</td>\n",
              "      <td>0.00</td>\n",
              "      <td>0.00</td>\n",
              "      <td>0.00</td>\n",
              "      <td>0.00</td>\n",
              "      <td>0.00</td>\n",
              "      <td>0.00</td>\n",
              "      <td>0.00</td>\n",
              "      <td>0.00</td>\n",
              "      <td>0.00</td>\n",
              "      <td>0.00</td>\n",
              "      <td>0.0</td>\n",
              "      <td>0.00</td>\n",
              "      <td>0.00</td>\n",
              "      <td>0.00</td>\n",
              "      <td>0.00</td>\n",
              "      <td>0.00</td>\n",
              "      <td>0.00</td>\n",
              "      <td>0.00</td>\n",
              "      <td>0.0</td>\n",
              "      <td>0.00</td>\n",
              "      <td>0.00</td>\n",
              "      <td>0.00</td>\n",
              "      <td>0.00</td>\n",
              "      <td>0.00</td>\n",
              "      <td>0.00</td>\n",
              "      <td>0.00</td>\n",
              "      <td>0.0</td>\n",
              "      <td>0.0</td>\n",
              "      <td>0.00</td>\n",
              "      <td>0.00</td>\n",
              "      <td>0.00</td>\n",
              "      <td>0.0</td>\n",
              "      <td>0.0</td>\n",
              "      <td>0.0</td>\n",
              "      <td>0.0</td>\n",
              "      <td>0.0</td>\n",
              "      <td>-1.55</td>\n",
              "    </tr>\n",
              "    <tr>\n",
              "      <th>1</th>\n",
              "      <td>adbe</td>\n",
              "      <td>-0.11</td>\n",
              "      <td>-0.12</td>\n",
              "      <td>-0.04</td>\n",
              "      <td>0.04</td>\n",
              "      <td>0.00</td>\n",
              "      <td>0.00</td>\n",
              "      <td>0.00</td>\n",
              "      <td>0.00</td>\n",
              "      <td>0.00</td>\n",
              "      <td>0.00</td>\n",
              "      <td>0.00</td>\n",
              "      <td>0.00</td>\n",
              "      <td>0.0</td>\n",
              "      <td>0.00</td>\n",
              "      <td>0.00</td>\n",
              "      <td>0.00</td>\n",
              "      <td>0.00</td>\n",
              "      <td>0.00</td>\n",
              "      <td>0.00</td>\n",
              "      <td>0.00</td>\n",
              "      <td>0.00</td>\n",
              "      <td>0.00</td>\n",
              "      <td>0.0</td>\n",
              "      <td>0.00</td>\n",
              "      <td>0.00</td>\n",
              "      <td>0.00</td>\n",
              "      <td>0.0</td>\n",
              "      <td>0.00</td>\n",
              "      <td>0.0</td>\n",
              "      <td>0.00</td>\n",
              "      <td>0.00</td>\n",
              "      <td>0.00</td>\n",
              "      <td>0.0</td>\n",
              "      <td>0.00</td>\n",
              "      <td>0.00</td>\n",
              "      <td>0.00</td>\n",
              "      <td>0.00</td>\n",
              "      <td>0.0</td>\n",
              "      <td>0.0</td>\n",
              "      <td>...</td>\n",
              "      <td>-0.07</td>\n",
              "      <td>0.00</td>\n",
              "      <td>0.00</td>\n",
              "      <td>0.00</td>\n",
              "      <td>0.00</td>\n",
              "      <td>0.00</td>\n",
              "      <td>0.00</td>\n",
              "      <td>0.00</td>\n",
              "      <td>0.00</td>\n",
              "      <td>0.00</td>\n",
              "      <td>0.00</td>\n",
              "      <td>0.00</td>\n",
              "      <td>0.00</td>\n",
              "      <td>0.0</td>\n",
              "      <td>0.00</td>\n",
              "      <td>0.00</td>\n",
              "      <td>0.00</td>\n",
              "      <td>0.00</td>\n",
              "      <td>0.00</td>\n",
              "      <td>0.00</td>\n",
              "      <td>0.00</td>\n",
              "      <td>0.0</td>\n",
              "      <td>0.00</td>\n",
              "      <td>0.00</td>\n",
              "      <td>0.00</td>\n",
              "      <td>0.00</td>\n",
              "      <td>0.00</td>\n",
              "      <td>0.00</td>\n",
              "      <td>0.00</td>\n",
              "      <td>0.0</td>\n",
              "      <td>0.0</td>\n",
              "      <td>0.00</td>\n",
              "      <td>0.00</td>\n",
              "      <td>0.00</td>\n",
              "      <td>0.0</td>\n",
              "      <td>0.0</td>\n",
              "      <td>0.0</td>\n",
              "      <td>0.0</td>\n",
              "      <td>0.0</td>\n",
              "      <td>-0.57</td>\n",
              "    </tr>\n",
              "    <tr>\n",
              "      <th>2</th>\n",
              "      <td>adbe</td>\n",
              "      <td>-0.12</td>\n",
              "      <td>-0.13</td>\n",
              "      <td>-0.11</td>\n",
              "      <td>-0.10</td>\n",
              "      <td>-0.11</td>\n",
              "      <td>-0.12</td>\n",
              "      <td>-0.04</td>\n",
              "      <td>0.04</td>\n",
              "      <td>0.00</td>\n",
              "      <td>0.00</td>\n",
              "      <td>0.00</td>\n",
              "      <td>0.00</td>\n",
              "      <td>0.0</td>\n",
              "      <td>0.00</td>\n",
              "      <td>0.00</td>\n",
              "      <td>0.00</td>\n",
              "      <td>0.00</td>\n",
              "      <td>0.00</td>\n",
              "      <td>0.00</td>\n",
              "      <td>0.00</td>\n",
              "      <td>0.00</td>\n",
              "      <td>0.00</td>\n",
              "      <td>0.0</td>\n",
              "      <td>0.00</td>\n",
              "      <td>0.00</td>\n",
              "      <td>0.00</td>\n",
              "      <td>0.0</td>\n",
              "      <td>0.00</td>\n",
              "      <td>0.0</td>\n",
              "      <td>0.00</td>\n",
              "      <td>0.00</td>\n",
              "      <td>0.00</td>\n",
              "      <td>0.0</td>\n",
              "      <td>0.00</td>\n",
              "      <td>0.00</td>\n",
              "      <td>0.00</td>\n",
              "      <td>0.00</td>\n",
              "      <td>0.0</td>\n",
              "      <td>0.0</td>\n",
              "      <td>...</td>\n",
              "      <td>-0.10</td>\n",
              "      <td>-0.10</td>\n",
              "      <td>-0.09</td>\n",
              "      <td>-0.11</td>\n",
              "      <td>-0.07</td>\n",
              "      <td>0.00</td>\n",
              "      <td>0.00</td>\n",
              "      <td>0.00</td>\n",
              "      <td>0.00</td>\n",
              "      <td>0.00</td>\n",
              "      <td>0.00</td>\n",
              "      <td>0.00</td>\n",
              "      <td>0.00</td>\n",
              "      <td>0.0</td>\n",
              "      <td>0.00</td>\n",
              "      <td>0.00</td>\n",
              "      <td>0.00</td>\n",
              "      <td>0.00</td>\n",
              "      <td>0.00</td>\n",
              "      <td>0.00</td>\n",
              "      <td>0.00</td>\n",
              "      <td>0.0</td>\n",
              "      <td>0.00</td>\n",
              "      <td>0.00</td>\n",
              "      <td>0.00</td>\n",
              "      <td>0.00</td>\n",
              "      <td>0.00</td>\n",
              "      <td>0.00</td>\n",
              "      <td>0.00</td>\n",
              "      <td>0.0</td>\n",
              "      <td>0.0</td>\n",
              "      <td>0.00</td>\n",
              "      <td>0.00</td>\n",
              "      <td>0.00</td>\n",
              "      <td>0.0</td>\n",
              "      <td>0.0</td>\n",
              "      <td>0.0</td>\n",
              "      <td>0.0</td>\n",
              "      <td>0.0</td>\n",
              "      <td>0.00</td>\n",
              "    </tr>\n",
              "    <tr>\n",
              "      <th>3</th>\n",
              "      <td>adbe</td>\n",
              "      <td>-0.15</td>\n",
              "      <td>-0.20</td>\n",
              "      <td>-0.12</td>\n",
              "      <td>-0.13</td>\n",
              "      <td>-0.11</td>\n",
              "      <td>-0.10</td>\n",
              "      <td>-0.11</td>\n",
              "      <td>-0.12</td>\n",
              "      <td>-0.04</td>\n",
              "      <td>0.04</td>\n",
              "      <td>0.00</td>\n",
              "      <td>0.00</td>\n",
              "      <td>0.0</td>\n",
              "      <td>0.00</td>\n",
              "      <td>0.00</td>\n",
              "      <td>0.00</td>\n",
              "      <td>0.00</td>\n",
              "      <td>0.00</td>\n",
              "      <td>0.00</td>\n",
              "      <td>0.00</td>\n",
              "      <td>0.00</td>\n",
              "      <td>0.00</td>\n",
              "      <td>0.0</td>\n",
              "      <td>0.00</td>\n",
              "      <td>0.00</td>\n",
              "      <td>0.00</td>\n",
              "      <td>0.0</td>\n",
              "      <td>0.00</td>\n",
              "      <td>0.0</td>\n",
              "      <td>0.00</td>\n",
              "      <td>0.00</td>\n",
              "      <td>0.00</td>\n",
              "      <td>0.0</td>\n",
              "      <td>0.00</td>\n",
              "      <td>0.00</td>\n",
              "      <td>0.00</td>\n",
              "      <td>0.00</td>\n",
              "      <td>0.0</td>\n",
              "      <td>0.0</td>\n",
              "      <td>...</td>\n",
              "      <td>-0.07</td>\n",
              "      <td>-0.09</td>\n",
              "      <td>-0.10</td>\n",
              "      <td>-0.10</td>\n",
              "      <td>-0.09</td>\n",
              "      <td>-0.11</td>\n",
              "      <td>-0.07</td>\n",
              "      <td>0.00</td>\n",
              "      <td>0.00</td>\n",
              "      <td>0.00</td>\n",
              "      <td>0.00</td>\n",
              "      <td>0.00</td>\n",
              "      <td>0.00</td>\n",
              "      <td>0.0</td>\n",
              "      <td>0.00</td>\n",
              "      <td>0.00</td>\n",
              "      <td>0.00</td>\n",
              "      <td>0.00</td>\n",
              "      <td>0.00</td>\n",
              "      <td>0.00</td>\n",
              "      <td>0.00</td>\n",
              "      <td>0.0</td>\n",
              "      <td>0.00</td>\n",
              "      <td>0.00</td>\n",
              "      <td>0.00</td>\n",
              "      <td>0.00</td>\n",
              "      <td>0.00</td>\n",
              "      <td>0.00</td>\n",
              "      <td>0.00</td>\n",
              "      <td>0.0</td>\n",
              "      <td>0.0</td>\n",
              "      <td>0.00</td>\n",
              "      <td>0.00</td>\n",
              "      <td>0.00</td>\n",
              "      <td>0.0</td>\n",
              "      <td>0.0</td>\n",
              "      <td>0.0</td>\n",
              "      <td>0.0</td>\n",
              "      <td>0.0</td>\n",
              "      <td>5.70</td>\n",
              "    </tr>\n",
              "    <tr>\n",
              "      <th>4</th>\n",
              "      <td>adbe</td>\n",
              "      <td>-1.36</td>\n",
              "      <td>-1.56</td>\n",
              "      <td>-1.53</td>\n",
              "      <td>-1.34</td>\n",
              "      <td>-0.95</td>\n",
              "      <td>-0.53</td>\n",
              "      <td>0.24</td>\n",
              "      <td>1.05</td>\n",
              "      <td>1.62</td>\n",
              "      <td>2.24</td>\n",
              "      <td>2.68</td>\n",
              "      <td>3.05</td>\n",
              "      <td>3.4</td>\n",
              "      <td>3.64</td>\n",
              "      <td>3.69</td>\n",
              "      <td>3.63</td>\n",
              "      <td>3.38</td>\n",
              "      <td>3.15</td>\n",
              "      <td>2.94</td>\n",
              "      <td>2.45</td>\n",
              "      <td>1.88</td>\n",
              "      <td>1.45</td>\n",
              "      <td>0.9</td>\n",
              "      <td>0.51</td>\n",
              "      <td>0.34</td>\n",
              "      <td>0.14</td>\n",
              "      <td>-0.1</td>\n",
              "      <td>-0.15</td>\n",
              "      <td>-0.2</td>\n",
              "      <td>-0.12</td>\n",
              "      <td>-0.13</td>\n",
              "      <td>-0.11</td>\n",
              "      <td>-0.1</td>\n",
              "      <td>-0.11</td>\n",
              "      <td>-0.12</td>\n",
              "      <td>-0.04</td>\n",
              "      <td>0.04</td>\n",
              "      <td>0.0</td>\n",
              "      <td>0.0</td>\n",
              "      <td>...</td>\n",
              "      <td>-0.27</td>\n",
              "      <td>-0.29</td>\n",
              "      <td>-0.28</td>\n",
              "      <td>-0.18</td>\n",
              "      <td>-0.06</td>\n",
              "      <td>0.01</td>\n",
              "      <td>0.06</td>\n",
              "      <td>0.08</td>\n",
              "      <td>0.09</td>\n",
              "      <td>0.13</td>\n",
              "      <td>0.14</td>\n",
              "      <td>0.14</td>\n",
              "      <td>0.14</td>\n",
              "      <td>0.2</td>\n",
              "      <td>0.31</td>\n",
              "      <td>0.37</td>\n",
              "      <td>0.41</td>\n",
              "      <td>0.44</td>\n",
              "      <td>0.39</td>\n",
              "      <td>0.36</td>\n",
              "      <td>0.25</td>\n",
              "      <td>0.2</td>\n",
              "      <td>0.18</td>\n",
              "      <td>0.11</td>\n",
              "      <td>-0.01</td>\n",
              "      <td>-0.03</td>\n",
              "      <td>-0.05</td>\n",
              "      <td>-0.07</td>\n",
              "      <td>-0.09</td>\n",
              "      <td>-0.1</td>\n",
              "      <td>-0.1</td>\n",
              "      <td>-0.09</td>\n",
              "      <td>-0.11</td>\n",
              "      <td>-0.07</td>\n",
              "      <td>0.0</td>\n",
              "      <td>0.0</td>\n",
              "      <td>0.0</td>\n",
              "      <td>0.0</td>\n",
              "      <td>0.0</td>\n",
              "      <td>-1.22</td>\n",
              "    </tr>\n",
              "  </tbody>\n",
              "</table>\n",
              "<p>5 rows × 125 columns</p>\n",
              "</div>"
            ],
            "text/plain": [
              "  stock     0     1     2     3     4  ...  118  119  120  121  122   rtn\n",
              "0  adbe  0.04  0.00  0.00  0.00  0.00  ...  0.0  0.0  0.0  0.0  0.0 -1.55\n",
              "1  adbe -0.11 -0.12 -0.04  0.04  0.00  ...  0.0  0.0  0.0  0.0  0.0 -0.57\n",
              "2  adbe -0.12 -0.13 -0.11 -0.10 -0.11  ...  0.0  0.0  0.0  0.0  0.0  0.00\n",
              "3  adbe -0.15 -0.20 -0.12 -0.13 -0.11  ...  0.0  0.0  0.0  0.0  0.0  5.70\n",
              "4  adbe -1.36 -1.56 -1.53 -1.34 -0.95  ...  0.0  0.0  0.0  0.0  0.0 -1.22\n",
              "\n",
              "[5 rows x 125 columns]"
            ]
          },
          "metadata": {
            "tags": []
          },
          "execution_count": 4
        }
      ]
    },
    {
      "cell_type": "code",
      "metadata": {
        "id": "UEdX7IIpC0_y",
        "colab_type": "code",
        "colab": {}
      },
      "source": [
        "# seperate indicators and returns\n",
        "# name_gp = df_gp.iloc[:, 0]\n",
        "osc_gp = df_gp.iloc[:, 1:42]\n",
        "stk_gp = df_gp.iloc[:, 42:83]\n",
        "macd_gp = df_gp.iloc[:, 83:124]\n",
        "rtn_gp = df_gp.iloc[:, 124]\n",
        "label_gp = np.sign(rtn_gp)\n",
        "label_gp = label_gp.map({1: 1, -1: 0, 0:0})\n",
        "results_gp = label_gp.map({1: 'EARN', 0: 'LOSS'})\n",
        "label_gp = pd.DataFrame({\"label\": label_gp})"
      ],
      "execution_count": 0,
      "outputs": []
    },
    {
      "cell_type": "markdown",
      "metadata": {
        "id": "QFH7kTSIFGoy",
        "colab_type": "text"
      },
      "source": [
        "# Convert data to array"
      ]
    },
    {
      "cell_type": "code",
      "metadata": {
        "id": "eeOUtPJpDM0t",
        "colab_type": "code",
        "colab": {}
      },
      "source": [
        "samples_full = []\n",
        "for i in range(osc_gp.shape[0]):\n",
        "  osc_list = osc_gp.iloc[i,:].tolist()\n",
        "  stk_list = stk_gp.iloc[i,:].tolist()\n",
        "  macd_list = macd_gp.iloc[i,:].tolist()\n",
        "  temp_array = np.array((osc_list, stk_list, macd_list), dtype=float)\n",
        "  samples_full.append(temp_array)"
      ],
      "execution_count": 0,
      "outputs": []
    },
    {
      "cell_type": "code",
      "metadata": {
        "id": "6C14JvEtFWz0",
        "colab_type": "code",
        "colab": {}
      },
      "source": [
        "# this cell is delated"
      ],
      "execution_count": 0,
      "outputs": []
    },
    {
      "cell_type": "code",
      "metadata": {
        "id": "AiPtJbXcHIOG",
        "colab_type": "code",
        "colab": {}
      },
      "source": [
        "sample_y_full = label_gp[\"label\"].tolist()\n",
        "# complete dataset\n",
        "X = np.array(samples_full)\n",
        "y = np.array(sample_y_full)"
      ],
      "execution_count": 0,
      "outputs": []
    },
    {
      "cell_type": "markdown",
      "metadata": {
        "id": "6xgrGn9lHJVl",
        "colab_type": "text"
      },
      "source": [
        "# Train/test split"
      ]
    },
    {
      "cell_type": "code",
      "metadata": {
        "id": "g7nfGWhmrRQL",
        "colab_type": "code",
        "colab": {}
      },
      "source": [
        "X = np.transpose(X, (0,2,1))"
      ],
      "execution_count": 0,
      "outputs": []
    },
    {
      "cell_type": "code",
      "metadata": {
        "id": "qhlJthAnKoaE",
        "colab_type": "code",
        "colab": {
          "base_uri": "https://localhost:8080/",
          "height": 34
        },
        "outputId": "8f2779ed-b567-4ea2-8152-76755c5729b3"
      },
      "source": [
        "X.shape"
      ],
      "execution_count": 10,
      "outputs": [
        {
          "output_type": "execute_result",
          "data": {
            "text/plain": [
              "(102408, 41, 3)"
            ]
          },
          "metadata": {
            "tags": []
          },
          "execution_count": 10
        }
      ]
    },
    {
      "cell_type": "code",
      "metadata": {
        "id": "pXLk4lkQHtQZ",
        "colab_type": "code",
        "colab": {
          "base_uri": "https://localhost:8080/",
          "height": 34
        },
        "outputId": "928924dd-c6d9-4a2e-a3ab-29f7a1ce9c38"
      },
      "source": [
        "y.shape"
      ],
      "execution_count": 11,
      "outputs": [
        {
          "output_type": "execute_result",
          "data": {
            "text/plain": [
              "(102408,)"
            ]
          },
          "metadata": {
            "tags": []
          },
          "execution_count": 11
        }
      ]
    },
    {
      "cell_type": "code",
      "metadata": {
        "id": "sTApF2ak30ED",
        "colab_type": "code",
        "colab": {}
      },
      "source": [
        "# get the index for validation set\n",
        "index_val = sample(list(range(X.shape[0])), int(X.shape[0]*0.2))\n",
        "# get the index for train set\n",
        "index_train = list(set(list(range(X.shape[0]))) - set(index_val))"
      ],
      "execution_count": 0,
      "outputs": []
    },
    {
      "cell_type": "code",
      "metadata": {
        "id": "gZuOV0Wk6RaN",
        "colab_type": "code",
        "colab": {
          "base_uri": "https://localhost:8080/",
          "height": 34
        },
        "outputId": "5e449826-d740-44a9-bb60-a2102e50caa4"
      },
      "source": [
        "len(index_val)"
      ],
      "execution_count": 46,
      "outputs": [
        {
          "output_type": "execute_result",
          "data": {
            "text/plain": [
              "20481"
            ]
          },
          "metadata": {
            "tags": []
          },
          "execution_count": 46
        }
      ]
    },
    {
      "cell_type": "code",
      "metadata": {
        "id": "LkhnwkZL6V6i",
        "colab_type": "code",
        "colab": {
          "base_uri": "https://localhost:8080/",
          "height": 34
        },
        "outputId": "1bdc5e2d-4cf8-4e71-9e01-630139a12d21"
      },
      "source": [
        "len(index_train)"
      ],
      "execution_count": 47,
      "outputs": [
        {
          "output_type": "execute_result",
          "data": {
            "text/plain": [
              "81927"
            ]
          },
          "metadata": {
            "tags": []
          },
          "execution_count": 47
        }
      ]
    },
    {
      "cell_type": "code",
      "metadata": {
        "id": "we_pGloy6aOY",
        "colab_type": "code",
        "colab": {}
      },
      "source": [
        "# the training dataset\n",
        "sample_X_train = list(samples_full[i] for i in index_train)\n",
        "sample_y_train = list(sample_y_full[i] for i in index_train)\n",
        "sample_X_train = np.transpose(sample_X_train, (0,2,1))\n",
        "\n",
        "# the test dataset\n",
        "sample_X_val = list(samples_full[i] for i in index_val)\n",
        "sample_y_val = list(sample_y_full[i] for i in index_val)\n",
        "sample_X_val = np.transpose(sample_X_val, (0,2,1))\n"
      ],
      "execution_count": 0,
      "outputs": []
    },
    {
      "cell_type": "code",
      "metadata": {
        "id": "kPmREOdU7GrX",
        "colab_type": "code",
        "colab": {}
      },
      "source": [
        "X_train = np.array(sample_X_train)\n",
        "y_train = np.array(sample_y_train)\n",
        "X_val = np.array(sample_X_val)\n",
        "y_val = np.array(sample_y_val)"
      ],
      "execution_count": 0,
      "outputs": []
    },
    {
      "cell_type": "markdown",
      "metadata": {
        "id": "nHdqvJ5xZzuc",
        "colab_type": "text"
      },
      "source": [
        "# Test the array with CNN"
      ]
    },
    {
      "cell_type": "code",
      "metadata": {
        "id": "szOIj4ZJFnAA",
        "colab_type": "code",
        "colab": {}
      },
      "source": [
        "from keras.datasets import mnist\n",
        "\n",
        "from keras.layers import Dense, Dropout, Flatten, Activation, Conv1D, MaxPooling1D, GlobalAveragePooling2D,BatchNormalization, Conv2D,MaxPooling2D\n",
        "\n",
        "from keras.models import Sequential, Model, load_model\n",
        "from keras.optimizers import Adam, SGD\n",
        "\n",
        "from keras.preprocessing.image import img_to_array, load_img\n",
        "\n",
        "from keras.utils import np_utils\n",
        "from keras.applications.inception_v3 import InceptionV3"
      ],
      "execution_count": 0,
      "outputs": []
    },
    {
      "cell_type": "code",
      "metadata": {
        "id": "6JZ_J7nrFsYR",
        "colab_type": "code",
        "colab": {}
      },
      "source": [
        "model = Sequential()\n",
        "model.add(Conv1D(filters=64, kernel_size=3, activation='relu', input_shape = (41,3)))\n",
        "model.add(MaxPooling1D(pool_size=2))\n",
        "model.add(Flatten())\n",
        "model.add(Dense(200, activation='relu'))\n",
        "# model.add(Dropout(0.3))\n",
        "model.add(Dense(200, activation='relu'))\n",
        "model.add(Dense(1, activation='sigmoid'))\n",
        "model.compile(optimizer=\"adam\", loss='binary_crossentropy', metrics=['accuracy'])\n",
        "\n"
      ],
      "execution_count": 0,
      "outputs": []
    },
    {
      "cell_type": "code",
      "metadata": {
        "id": "lOngLUtbpkAY",
        "colab_type": "code",
        "colab": {
          "base_uri": "https://localhost:8080/",
          "height": 340
        },
        "outputId": "a34370ae-eeea-4c90-cd36-1373b413c234"
      },
      "source": [
        "model.summary()"
      ],
      "execution_count": 56,
      "outputs": [
        {
          "output_type": "stream",
          "text": [
            "_________________________________________________________________\n",
            "Layer (type)                 Output Shape              Param #   \n",
            "=================================================================\n",
            "conv1d_6 (Conv1D)            (None, 39, 64)            640       \n",
            "_________________________________________________________________\n",
            "max_pooling1d_7 (MaxPooling1 (None, 19, 64)            0         \n",
            "_________________________________________________________________\n",
            "flatten_6 (Flatten)          (None, 1216)              0         \n",
            "_________________________________________________________________\n",
            "dense_16 (Dense)             (None, 200)               243400    \n",
            "_________________________________________________________________\n",
            "dense_17 (Dense)             (None, 200)               40200     \n",
            "_________________________________________________________________\n",
            "dense_18 (Dense)             (None, 1)                 201       \n",
            "=================================================================\n",
            "Total params: 284,441\n",
            "Trainable params: 284,441\n",
            "Non-trainable params: 0\n",
            "_________________________________________________________________\n"
          ],
          "name": "stdout"
        }
      ]
    },
    {
      "cell_type": "code",
      "metadata": {
        "id": "am4RNKzdPipL",
        "colab_type": "code",
        "colab": {
          "base_uri": "https://localhost:8080/",
          "height": 221
        },
        "outputId": "dd7a55df-2df8-4206-850e-0e6add34eda3"
      },
      "source": [
        "model.fit(X_train,y_train,\n",
        "      validation_data=(X_val,y_val),\n",
        "      epochs=5,\n",
        "      verbose=True) \n"
      ],
      "execution_count": 53,
      "outputs": [
        {
          "output_type": "stream",
          "text": [
            "Train on 81927 samples, validate on 20481 samples\n",
            "Epoch 1/5\n",
            "81927/81927 [==============================] - 20s 244us/step - loss: 0.6949 - acc: 0.5840 - val_loss: 0.6759 - val_acc: 0.5919\n",
            "Epoch 2/5\n",
            "81927/81927 [==============================] - 20s 239us/step - loss: 0.6769 - acc: 0.5891 - val_loss: 0.6758 - val_acc: 0.5920\n",
            "Epoch 3/5\n",
            "81927/81927 [==============================] - 20s 239us/step - loss: 0.6770 - acc: 0.5891 - val_loss: 0.6762 - val_acc: 0.5919\n",
            "Epoch 4/5\n",
            "81927/81927 [==============================] - 20s 244us/step - loss: 0.6762 - acc: 0.5895 - val_loss: 0.6762 - val_acc: 0.5919\n",
            "Epoch 5/5\n",
            "81927/81927 [==============================] - 19s 234us/step - loss: 0.6764 - acc: 0.5897 - val_loss: 0.6757 - val_acc: 0.5919\n"
          ],
          "name": "stdout"
        },
        {
          "output_type": "execute_result",
          "data": {
            "text/plain": [
              "<keras.callbacks.History at 0x7f11c4138470>"
            ]
          },
          "metadata": {
            "tags": []
          },
          "execution_count": 53
        }
      ]
    },
    {
      "cell_type": "code",
      "metadata": {
        "id": "SzoYX4Jvsv3a",
        "colab_type": "code",
        "colab": {
          "base_uri": "https://localhost:8080/",
          "height": 80
        },
        "outputId": "76cc286b-8bf9-4640-acf0-68da08a03454"
      },
      "source": [
        "df = pd.DataFrame(model.predict_classes(X_val), columns=[\"pre\"])\n",
        "df[df[\"pre\"] == 1]"
      ],
      "execution_count": 54,
      "outputs": [
        {
          "output_type": "execute_result",
          "data": {
            "text/html": [
              "<div>\n",
              "<style scoped>\n",
              "    .dataframe tbody tr th:only-of-type {\n",
              "        vertical-align: middle;\n",
              "    }\n",
              "\n",
              "    .dataframe tbody tr th {\n",
              "        vertical-align: top;\n",
              "    }\n",
              "\n",
              "    .dataframe thead th {\n",
              "        text-align: right;\n",
              "    }\n",
              "</style>\n",
              "<table border=\"1\" class=\"dataframe\">\n",
              "  <thead>\n",
              "    <tr style=\"text-align: right;\">\n",
              "      <th></th>\n",
              "      <th>pre</th>\n",
              "    </tr>\n",
              "  </thead>\n",
              "  <tbody>\n",
              "    <tr>\n",
              "      <th>13204</th>\n",
              "      <td>1</td>\n",
              "    </tr>\n",
              "  </tbody>\n",
              "</table>\n",
              "</div>"
            ],
            "text/plain": [
              "       pre\n",
              "13204    1"
            ]
          },
          "metadata": {
            "tags": []
          },
          "execution_count": 54
        }
      ]
    },
    {
      "cell_type": "code",
      "metadata": {
        "id": "Rtx3-gZD4SLI",
        "colab_type": "code",
        "colab": {
          "base_uri": "https://localhost:8080/",
          "height": 34
        },
        "outputId": "23f54a89-178f-4add-889d-1b52dd6989c3"
      },
      "source": [
        "sum(model.predict(X_val) > 0.5)\n"
      ],
      "execution_count": 57,
      "outputs": [
        {
          "output_type": "execute_result",
          "data": {
            "text/plain": [
              "array([1])"
            ]
          },
          "metadata": {
            "tags": []
          },
          "execution_count": 57
        }
      ]
    },
    {
      "cell_type": "markdown",
      "metadata": {
        "id": "hTH-nA1CdYPP",
        "colab_type": "text"
      },
      "source": [
        "# The position of the flatten layer and reactive function might matter"
      ]
    },
    {
      "cell_type": "markdown",
      "metadata": {
        "id": "0jXhtLQCe4sn",
        "colab_type": "text"
      },
      "source": [
        "## Test the optimizer\n",
        "\n",
        "### SGD"
      ]
    },
    {
      "cell_type": "code",
      "metadata": {
        "id": "QKMJ_ETqdW7n",
        "colab_type": "code",
        "colab": {
          "base_uri": "https://localhost:8080/",
          "height": 515
        },
        "outputId": "55a3d66c-9e5d-4c99-bc09-d89beed84089"
      },
      "source": [
        "model = Sequential()\n",
        "model.add(Conv1D(filters=64, kernel_size=3, activation='relu', input_shape = (41,3)))\n",
        "model.add(MaxPooling1D(pool_size=2))\n",
        "model.add(Flatten())\n",
        "model.add(Dense(200, activation='relu'))\n",
        "# model.add(Dropout(0.3))\n",
        "model.add(Dense(200, activation='relu'))\n",
        "model.add(Dense(1, activation='sigmoid'))\n",
        "model.compile(optimizer=\"sgd\", loss='binary_crossentropy', metrics=['accuracy'])\n",
        " \n",
        "\n",
        "model.fit(X_train,y_train,\n",
        "      validation_data=(X_val,y_val),\n",
        "      epochs=5,\n",
        "      verbose=True) \n",
        "\n",
        "df = pd.DataFrame(model.predict_classes(X_val), columns=[\"pre\"])\n",
        "df[df[\"pre\"] >0]"
      ],
      "execution_count": 59,
      "outputs": [
        {
          "output_type": "stream",
          "text": [
            "Train on 81927 samples, validate on 20481 samples\n",
            "Epoch 1/5\n",
            "81927/81927 [==============================] - 16s 199us/step - loss: 0.7089 - acc: 0.5871 - val_loss: 0.6760 - val_acc: 0.5919\n",
            "Epoch 2/5\n",
            "81927/81927 [==============================] - 16s 192us/step - loss: 0.6767 - acc: 0.5895 - val_loss: 0.6760 - val_acc: 0.5920\n",
            "Epoch 3/5\n",
            "81927/81927 [==============================] - 15s 188us/step - loss: 0.6765 - acc: 0.5896 - val_loss: 0.6761 - val_acc: 0.5921\n",
            "Epoch 4/5\n",
            "81927/81927 [==============================] - 16s 191us/step - loss: 0.6764 - acc: 0.5893 - val_loss: 0.6760 - val_acc: 0.5921\n",
            "Epoch 5/5\n",
            "81927/81927 [==============================] - 16s 189us/step - loss: 0.6763 - acc: 0.5897 - val_loss: 0.6757 - val_acc: 0.5921\n"
          ],
          "name": "stdout"
        },
        {
          "output_type": "execute_result",
          "data": {
            "text/html": [
              "<div>\n",
              "<style scoped>\n",
              "    .dataframe tbody tr th:only-of-type {\n",
              "        vertical-align: middle;\n",
              "    }\n",
              "\n",
              "    .dataframe tbody tr th {\n",
              "        vertical-align: top;\n",
              "    }\n",
              "\n",
              "    .dataframe thead th {\n",
              "        text-align: right;\n",
              "    }\n",
              "</style>\n",
              "<table border=\"1\" class=\"dataframe\">\n",
              "  <thead>\n",
              "    <tr style=\"text-align: right;\">\n",
              "      <th></th>\n",
              "      <th>pre</th>\n",
              "    </tr>\n",
              "  </thead>\n",
              "  <tbody>\n",
              "    <tr>\n",
              "      <th>2064</th>\n",
              "      <td>1</td>\n",
              "    </tr>\n",
              "    <tr>\n",
              "      <th>4106</th>\n",
              "      <td>1</td>\n",
              "    </tr>\n",
              "    <tr>\n",
              "      <th>5162</th>\n",
              "      <td>1</td>\n",
              "    </tr>\n",
              "    <tr>\n",
              "      <th>6296</th>\n",
              "      <td>1</td>\n",
              "    </tr>\n",
              "    <tr>\n",
              "      <th>8064</th>\n",
              "      <td>1</td>\n",
              "    </tr>\n",
              "    <tr>\n",
              "      <th>8848</th>\n",
              "      <td>1</td>\n",
              "    </tr>\n",
              "    <tr>\n",
              "      <th>9150</th>\n",
              "      <td>1</td>\n",
              "    </tr>\n",
              "    <tr>\n",
              "      <th>12795</th>\n",
              "      <td>1</td>\n",
              "    </tr>\n",
              "    <tr>\n",
              "      <th>13350</th>\n",
              "      <td>1</td>\n",
              "    </tr>\n",
              "  </tbody>\n",
              "</table>\n",
              "</div>"
            ],
            "text/plain": [
              "       pre\n",
              "2064     1\n",
              "4106     1\n",
              "5162     1\n",
              "6296     1\n",
              "8064     1\n",
              "8848     1\n",
              "9150     1\n",
              "12795    1\n",
              "13350    1"
            ]
          },
          "metadata": {
            "tags": []
          },
          "execution_count": 59
        }
      ]
    },
    {
      "cell_type": "markdown",
      "metadata": {
        "id": "938YBfkOgYnF",
        "colab_type": "text"
      },
      "source": [
        "### Adagrad"
      ]
    },
    {
      "cell_type": "code",
      "metadata": {
        "id": "kMzk6WbRgT93",
        "colab_type": "code",
        "colab": {
          "base_uri": "https://localhost:8080/",
          "height": 546
        },
        "outputId": "5e7c4f1a-6bcf-4fba-ac9c-e1dc9564edf3"
      },
      "source": [
        "model = Sequential()\n",
        "model.add(Conv1D(filters=64, kernel_size=3, activation='relu', input_shape = (41,3)))\n",
        "model.add(MaxPooling1D(pool_size=2))\n",
        "model.add(Flatten())\n",
        "model.add(Dense(200, activation='relu'))\n",
        "# model.add(Dropout(0.3))\n",
        "model.add(Dense(200, activation='relu'))\n",
        "model.add(Dense(1, activation='sigmoid'))\n",
        "model.compile(optimizer=\"adagrad\", loss='binary_crossentropy', metrics=['accuracy'])\n",
        "\n",
        "\n",
        "model.fit(X_train,y_train,\n",
        "      validation_data=(X_val,y_val),\n",
        "      epochs=5,\n",
        "      verbose=True) \n",
        "\n",
        "df = pd.DataFrame(model.predict_classes(X_val), columns=[\"pre\"])\n",
        "df[df[\"pre\"] >0]"
      ],
      "execution_count": 60,
      "outputs": [
        {
          "output_type": "stream",
          "text": [
            "Train on 81927 samples, validate on 20481 samples\n",
            "Epoch 1/5\n",
            "81927/81927 [==============================] - 20s 242us/step - loss: 0.8862 - acc: 0.5825 - val_loss: 0.6773 - val_acc: 0.5920\n",
            "Epoch 2/5\n",
            "81927/81927 [==============================] - 20s 240us/step - loss: 0.6765 - acc: 0.5888 - val_loss: 0.6780 - val_acc: 0.5822\n",
            "Epoch 3/5\n",
            "81927/81927 [==============================] - 20s 242us/step - loss: 0.6760 - acc: 0.5891 - val_loss: 0.6767 - val_acc: 0.5887\n",
            "Epoch 4/5\n",
            "81927/81927 [==============================] - 19s 230us/step - loss: 0.6755 - acc: 0.5892 - val_loss: 0.6759 - val_acc: 0.5915\n",
            "Epoch 5/5\n",
            "81927/81927 [==============================] - 19s 238us/step - loss: 0.6752 - acc: 0.5897 - val_loss: 0.6756 - val_acc: 0.5919\n"
          ],
          "name": "stdout"
        },
        {
          "output_type": "execute_result",
          "data": {
            "text/html": [
              "<div>\n",
              "<style scoped>\n",
              "    .dataframe tbody tr th:only-of-type {\n",
              "        vertical-align: middle;\n",
              "    }\n",
              "\n",
              "    .dataframe tbody tr th {\n",
              "        vertical-align: top;\n",
              "    }\n",
              "\n",
              "    .dataframe thead th {\n",
              "        text-align: right;\n",
              "    }\n",
              "</style>\n",
              "<table border=\"1\" class=\"dataframe\">\n",
              "  <thead>\n",
              "    <tr style=\"text-align: right;\">\n",
              "      <th></th>\n",
              "      <th>pre</th>\n",
              "    </tr>\n",
              "  </thead>\n",
              "  <tbody>\n",
              "    <tr>\n",
              "      <th>1113</th>\n",
              "      <td>1</td>\n",
              "    </tr>\n",
              "    <tr>\n",
              "      <th>2686</th>\n",
              "      <td>1</td>\n",
              "    </tr>\n",
              "    <tr>\n",
              "      <th>4086</th>\n",
              "      <td>1</td>\n",
              "    </tr>\n",
              "    <tr>\n",
              "      <th>4106</th>\n",
              "      <td>1</td>\n",
              "    </tr>\n",
              "    <tr>\n",
              "      <th>8848</th>\n",
              "      <td>1</td>\n",
              "    </tr>\n",
              "    <tr>\n",
              "      <th>9150</th>\n",
              "      <td>1</td>\n",
              "    </tr>\n",
              "    <tr>\n",
              "      <th>11082</th>\n",
              "      <td>1</td>\n",
              "    </tr>\n",
              "    <tr>\n",
              "      <th>12259</th>\n",
              "      <td>1</td>\n",
              "    </tr>\n",
              "    <tr>\n",
              "      <th>12795</th>\n",
              "      <td>1</td>\n",
              "    </tr>\n",
              "    <tr>\n",
              "      <th>13350</th>\n",
              "      <td>1</td>\n",
              "    </tr>\n",
              "  </tbody>\n",
              "</table>\n",
              "</div>"
            ],
            "text/plain": [
              "       pre\n",
              "1113     1\n",
              "2686     1\n",
              "4086     1\n",
              "4106     1\n",
              "8848     1\n",
              "9150     1\n",
              "11082    1\n",
              "12259    1\n",
              "12795    1\n",
              "13350    1"
            ]
          },
          "metadata": {
            "tags": []
          },
          "execution_count": 60
        }
      ]
    },
    {
      "cell_type": "markdown",
      "metadata": {
        "id": "m5-fdm1nhS-A",
        "colab_type": "text"
      },
      "source": [
        "### Nadam"
      ]
    },
    {
      "cell_type": "code",
      "metadata": {
        "id": "iBDJykSihSWQ",
        "colab_type": "code",
        "colab": {
          "base_uri": "https://localhost:8080/",
          "height": 230
        },
        "outputId": "e5747b41-e796-44b5-fd2b-3e54f14b078c"
      },
      "source": [
        "model = Sequential()\n",
        "model.add(Conv1D(filters=64, kernel_size=3, activation='relu', input_shape = (41,3)))\n",
        "model.add(MaxPooling1D(pool_size=2))\n",
        "model.add(Flatten())\n",
        "model.add(Dense(200, activation='relu'))\n",
        "# model.add(Dropout(0.3))\n",
        "model.add(Dense(200, activation='relu'))\n",
        "model.add(Dense(1, activation='sigmoid'))\n",
        "model.compile(optimizer=\"nadam\", loss='binary_crossentropy', metrics=['accuracy'])\n",
        "\n",
        "\n",
        "model.fit(X_train,y_train,\n",
        "      validation_data=(X_val,y_val),\n",
        "      epochs=3,\n",
        "      verbose=True) \n",
        "\n",
        "df = pd.DataFrame(model.predict_classes(X_val), columns=[\"pre\"])\n",
        "df[df[\"pre\"] >0]"
      ],
      "execution_count": 61,
      "outputs": [
        {
          "output_type": "stream",
          "text": [
            "Train on 81927 samples, validate on 20481 samples\n",
            "Epoch 1/3\n",
            "81927/81927 [==============================] - 25s 303us/step - loss: 0.7510 - acc: 0.5861 - val_loss: 0.6768 - val_acc: 0.5916\n",
            "Epoch 2/3\n",
            "81927/81927 [==============================] - 24s 288us/step - loss: 0.6768 - acc: 0.5894 - val_loss: 0.6755 - val_acc: 0.5919\n",
            "Epoch 3/3\n",
            "81927/81927 [==============================] - 24s 293us/step - loss: 0.6769 - acc: 0.5895 - val_loss: 0.6763 - val_acc: 0.5918\n"
          ],
          "name": "stdout"
        },
        {
          "output_type": "execute_result",
          "data": {
            "text/html": [
              "<div>\n",
              "<style scoped>\n",
              "    .dataframe tbody tr th:only-of-type {\n",
              "        vertical-align: middle;\n",
              "    }\n",
              "\n",
              "    .dataframe tbody tr th {\n",
              "        vertical-align: top;\n",
              "    }\n",
              "\n",
              "    .dataframe thead th {\n",
              "        text-align: right;\n",
              "    }\n",
              "</style>\n",
              "<table border=\"1\" class=\"dataframe\">\n",
              "  <thead>\n",
              "    <tr style=\"text-align: right;\">\n",
              "      <th></th>\n",
              "      <th>pre</th>\n",
              "    </tr>\n",
              "  </thead>\n",
              "  <tbody>\n",
              "    <tr>\n",
              "      <th>6081</th>\n",
              "      <td>1</td>\n",
              "    </tr>\n",
              "    <tr>\n",
              "      <th>6296</th>\n",
              "      <td>1</td>\n",
              "    </tr>\n",
              "  </tbody>\n",
              "</table>\n",
              "</div>"
            ],
            "text/plain": [
              "      pre\n",
              "6081    1\n",
              "6296    1"
            ]
          },
          "metadata": {
            "tags": []
          },
          "execution_count": 61
        }
      ]
    },
    {
      "cell_type": "markdown",
      "metadata": {
        "id": "yS9Ao_Z6huoZ",
        "colab_type": "text"
      },
      "source": [
        "As we can observe from above, changing the optimum function does not changes the acc very much but influence the amount of 1 prediction. "
      ]
    },
    {
      "cell_type": "markdown",
      "metadata": {
        "id": "jhJVivoW8o1p",
        "colab_type": "text"
      },
      "source": [
        "# The upper results look promissing, we could combine the data with the sell data"
      ]
    },
    {
      "cell_type": "code",
      "metadata": {
        "id": "vg1mS0RhiF01",
        "colab_type": "code",
        "colab": {
          "base_uri": "https://localhost:8080/",
          "height": 425
        },
        "outputId": "b2de9ff0-49d6-465c-bc3e-157357b32917"
      },
      "source": [
        "df_gp_sell = load_data(\"/content/gdrive/My Drive/sell/\")"
      ],
      "execution_count": 62,
      "outputs": [
        {
          "output_type": "stream",
          "text": [
            "Loading stock data: fslr ,\n",
            "Loading stock data: csiq ,\n",
            "Loading stock data: bidu ,\n",
            "Loading stock data: pxdS ,\n",
            "Loading stock data: masS ,\n",
            "Loading stock data: uriS ,\n",
            "Loading stock data: ufsS ,\n",
            "Loading stock data: cenx ,\n",
            "Loading stock data: meli ,\n",
            "Loading stock data: pruS ,\n",
            "Loading stock data: lvsS ,\n",
            "Loading stock data: crus ,\n",
            "Loading stock data: crmS ,\n",
            "Loading stock data: itub ,\n",
            "Loading stock data: alny ,\n",
            "Loading stock data: teck ,\n",
            "Loading stock data: dbSe ,\n",
            "Loading stock data: amdS ,\n",
            "Loading stock data: acad ,\n",
            "Loading stock data: adbe ,\n",
            "Loading stock data: ions ,\n",
            "Loading stock data: ssys ,\n",
            "Loading stock data: adsk ,\n",
            "Loading stock data: atiS ,\n"
          ],
          "name": "stdout"
        }
      ]
    },
    {
      "cell_type": "code",
      "metadata": {
        "id": "WINWVppijQpA",
        "colab_type": "code",
        "colab": {
          "base_uri": "https://localhost:8080/",
          "height": 273
        },
        "outputId": "d07d3933-f8a1-453c-de3c-71a4f7bc733b"
      },
      "source": [
        "df_gp_sell.head(5)"
      ],
      "execution_count": 63,
      "outputs": [
        {
          "output_type": "execute_result",
          "data": {
            "text/html": [
              "<div>\n",
              "<style scoped>\n",
              "    .dataframe tbody tr th:only-of-type {\n",
              "        vertical-align: middle;\n",
              "    }\n",
              "\n",
              "    .dataframe tbody tr th {\n",
              "        vertical-align: top;\n",
              "    }\n",
              "\n",
              "    .dataframe thead th {\n",
              "        text-align: right;\n",
              "    }\n",
              "</style>\n",
              "<table border=\"1\" class=\"dataframe\">\n",
              "  <thead>\n",
              "    <tr style=\"text-align: right;\">\n",
              "      <th></th>\n",
              "      <th>stock</th>\n",
              "      <th>0</th>\n",
              "      <th>1</th>\n",
              "      <th>2</th>\n",
              "      <th>3</th>\n",
              "      <th>4</th>\n",
              "      <th>5</th>\n",
              "      <th>6</th>\n",
              "      <th>7</th>\n",
              "      <th>8</th>\n",
              "      <th>9</th>\n",
              "      <th>10</th>\n",
              "      <th>11</th>\n",
              "      <th>12</th>\n",
              "      <th>13</th>\n",
              "      <th>14</th>\n",
              "      <th>15</th>\n",
              "      <th>16</th>\n",
              "      <th>17</th>\n",
              "      <th>18</th>\n",
              "      <th>19</th>\n",
              "      <th>20</th>\n",
              "      <th>21</th>\n",
              "      <th>22</th>\n",
              "      <th>23</th>\n",
              "      <th>24</th>\n",
              "      <th>25</th>\n",
              "      <th>26</th>\n",
              "      <th>27</th>\n",
              "      <th>28</th>\n",
              "      <th>29</th>\n",
              "      <th>30</th>\n",
              "      <th>31</th>\n",
              "      <th>32</th>\n",
              "      <th>33</th>\n",
              "      <th>34</th>\n",
              "      <th>35</th>\n",
              "      <th>36</th>\n",
              "      <th>37</th>\n",
              "      <th>38</th>\n",
              "      <th>...</th>\n",
              "      <th>84</th>\n",
              "      <th>85</th>\n",
              "      <th>86</th>\n",
              "      <th>87</th>\n",
              "      <th>88</th>\n",
              "      <th>89</th>\n",
              "      <th>90</th>\n",
              "      <th>91</th>\n",
              "      <th>92</th>\n",
              "      <th>93</th>\n",
              "      <th>94</th>\n",
              "      <th>95</th>\n",
              "      <th>96</th>\n",
              "      <th>97</th>\n",
              "      <th>98</th>\n",
              "      <th>99</th>\n",
              "      <th>100</th>\n",
              "      <th>101</th>\n",
              "      <th>102</th>\n",
              "      <th>103</th>\n",
              "      <th>104</th>\n",
              "      <th>105</th>\n",
              "      <th>106</th>\n",
              "      <th>107</th>\n",
              "      <th>108</th>\n",
              "      <th>109</th>\n",
              "      <th>110</th>\n",
              "      <th>111</th>\n",
              "      <th>112</th>\n",
              "      <th>113</th>\n",
              "      <th>114</th>\n",
              "      <th>115</th>\n",
              "      <th>116</th>\n",
              "      <th>117</th>\n",
              "      <th>118</th>\n",
              "      <th>119</th>\n",
              "      <th>120</th>\n",
              "      <th>121</th>\n",
              "      <th>122</th>\n",
              "      <th>rtn</th>\n",
              "    </tr>\n",
              "  </thead>\n",
              "  <tbody>\n",
              "    <tr>\n",
              "      <th>0</th>\n",
              "      <td>fslr</td>\n",
              "      <td>-0.02</td>\n",
              "      <td>0.00</td>\n",
              "      <td>0.00</td>\n",
              "      <td>0.00</td>\n",
              "      <td>0.00</td>\n",
              "      <td>0.00</td>\n",
              "      <td>0.00</td>\n",
              "      <td>0.00</td>\n",
              "      <td>0.00</td>\n",
              "      <td>0.00</td>\n",
              "      <td>0.00</td>\n",
              "      <td>0.00</td>\n",
              "      <td>0.00</td>\n",
              "      <td>0.00</td>\n",
              "      <td>0.00</td>\n",
              "      <td>0.00</td>\n",
              "      <td>0.00</td>\n",
              "      <td>0.00</td>\n",
              "      <td>0.00</td>\n",
              "      <td>0.00</td>\n",
              "      <td>0.00</td>\n",
              "      <td>0.00</td>\n",
              "      <td>0.00</td>\n",
              "      <td>0.00</td>\n",
              "      <td>0.00</td>\n",
              "      <td>0.00</td>\n",
              "      <td>0.00</td>\n",
              "      <td>0.00</td>\n",
              "      <td>0.00</td>\n",
              "      <td>0.00</td>\n",
              "      <td>0.00</td>\n",
              "      <td>0.00</td>\n",
              "      <td>0.00</td>\n",
              "      <td>0.00</td>\n",
              "      <td>0.00</td>\n",
              "      <td>0.00</td>\n",
              "      <td>0.00</td>\n",
              "      <td>0.00</td>\n",
              "      <td>0.00</td>\n",
              "      <td>...</td>\n",
              "      <td>0.00</td>\n",
              "      <td>0.00</td>\n",
              "      <td>0.00</td>\n",
              "      <td>0.00</td>\n",
              "      <td>0.00</td>\n",
              "      <td>0.00</td>\n",
              "      <td>0.00</td>\n",
              "      <td>0.00</td>\n",
              "      <td>0.00</td>\n",
              "      <td>0.00</td>\n",
              "      <td>0.00</td>\n",
              "      <td>0.00</td>\n",
              "      <td>0.00</td>\n",
              "      <td>0.00</td>\n",
              "      <td>0.00</td>\n",
              "      <td>0.00</td>\n",
              "      <td>0.00</td>\n",
              "      <td>0.00</td>\n",
              "      <td>0.00</td>\n",
              "      <td>0.00</td>\n",
              "      <td>0.00</td>\n",
              "      <td>0.00</td>\n",
              "      <td>0.00</td>\n",
              "      <td>0.00</td>\n",
              "      <td>0.00</td>\n",
              "      <td>0.00</td>\n",
              "      <td>0.00</td>\n",
              "      <td>0.00</td>\n",
              "      <td>0.00</td>\n",
              "      <td>0.00</td>\n",
              "      <td>0.00</td>\n",
              "      <td>0.00</td>\n",
              "      <td>0.00</td>\n",
              "      <td>0.00</td>\n",
              "      <td>0.00</td>\n",
              "      <td>0.00</td>\n",
              "      <td>0.00</td>\n",
              "      <td>0.00</td>\n",
              "      <td>0.00</td>\n",
              "      <td>0.12</td>\n",
              "    </tr>\n",
              "    <tr>\n",
              "      <th>1</th>\n",
              "      <td>fslr</td>\n",
              "      <td>-1.72</td>\n",
              "      <td>-1.63</td>\n",
              "      <td>-1.66</td>\n",
              "      <td>-1.61</td>\n",
              "      <td>-1.52</td>\n",
              "      <td>-1.41</td>\n",
              "      <td>-1.30</td>\n",
              "      <td>-1.24</td>\n",
              "      <td>-1.13</td>\n",
              "      <td>-0.98</td>\n",
              "      <td>-0.81</td>\n",
              "      <td>-0.74</td>\n",
              "      <td>-0.71</td>\n",
              "      <td>-0.65</td>\n",
              "      <td>-0.64</td>\n",
              "      <td>-0.60</td>\n",
              "      <td>-0.50</td>\n",
              "      <td>-0.44</td>\n",
              "      <td>-0.38</td>\n",
              "      <td>-0.27</td>\n",
              "      <td>-0.14</td>\n",
              "      <td>-0.09</td>\n",
              "      <td>-0.02</td>\n",
              "      <td>0.00</td>\n",
              "      <td>0.00</td>\n",
              "      <td>0.00</td>\n",
              "      <td>0.00</td>\n",
              "      <td>0.00</td>\n",
              "      <td>0.00</td>\n",
              "      <td>0.00</td>\n",
              "      <td>0.00</td>\n",
              "      <td>0.00</td>\n",
              "      <td>0.00</td>\n",
              "      <td>0.00</td>\n",
              "      <td>0.00</td>\n",
              "      <td>0.00</td>\n",
              "      <td>0.00</td>\n",
              "      <td>0.00</td>\n",
              "      <td>0.00</td>\n",
              "      <td>...</td>\n",
              "      <td>-1.34</td>\n",
              "      <td>-1.59</td>\n",
              "      <td>-1.60</td>\n",
              "      <td>-1.97</td>\n",
              "      <td>-1.96</td>\n",
              "      <td>-2.24</td>\n",
              "      <td>-2.19</td>\n",
              "      <td>-1.45</td>\n",
              "      <td>0.12</td>\n",
              "      <td>0.44</td>\n",
              "      <td>0.27</td>\n",
              "      <td>-0.39</td>\n",
              "      <td>-0.69</td>\n",
              "      <td>-0.57</td>\n",
              "      <td>0.12</td>\n",
              "      <td>0.08</td>\n",
              "      <td>-0.31</td>\n",
              "      <td>-0.60</td>\n",
              "      <td>-0.21</td>\n",
              "      <td>-0.41</td>\n",
              "      <td>0.00</td>\n",
              "      <td>0.00</td>\n",
              "      <td>0.00</td>\n",
              "      <td>0.00</td>\n",
              "      <td>0.00</td>\n",
              "      <td>0.00</td>\n",
              "      <td>0.00</td>\n",
              "      <td>0.00</td>\n",
              "      <td>0.00</td>\n",
              "      <td>0.00</td>\n",
              "      <td>0.00</td>\n",
              "      <td>0.00</td>\n",
              "      <td>0.00</td>\n",
              "      <td>0.00</td>\n",
              "      <td>0.00</td>\n",
              "      <td>0.00</td>\n",
              "      <td>0.00</td>\n",
              "      <td>0.00</td>\n",
              "      <td>0.00</td>\n",
              "      <td>1.49</td>\n",
              "    </tr>\n",
              "    <tr>\n",
              "      <th>2</th>\n",
              "      <td>fslr</td>\n",
              "      <td>0.05</td>\n",
              "      <td>0.15</td>\n",
              "      <td>-0.04</td>\n",
              "      <td>-0.17</td>\n",
              "      <td>-0.53</td>\n",
              "      <td>-0.79</td>\n",
              "      <td>-1.03</td>\n",
              "      <td>-1.30</td>\n",
              "      <td>-1.47</td>\n",
              "      <td>-1.81</td>\n",
              "      <td>-1.95</td>\n",
              "      <td>-2.10</td>\n",
              "      <td>-2.16</td>\n",
              "      <td>-2.37</td>\n",
              "      <td>-2.64</td>\n",
              "      <td>-2.67</td>\n",
              "      <td>-2.76</td>\n",
              "      <td>-2.63</td>\n",
              "      <td>-2.53</td>\n",
              "      <td>-2.45</td>\n",
              "      <td>-2.32</td>\n",
              "      <td>-2.10</td>\n",
              "      <td>-1.78</td>\n",
              "      <td>-1.72</td>\n",
              "      <td>-1.63</td>\n",
              "      <td>-1.66</td>\n",
              "      <td>-1.61</td>\n",
              "      <td>-1.52</td>\n",
              "      <td>-1.41</td>\n",
              "      <td>-1.30</td>\n",
              "      <td>-1.24</td>\n",
              "      <td>-1.13</td>\n",
              "      <td>-0.98</td>\n",
              "      <td>-0.81</td>\n",
              "      <td>-0.74</td>\n",
              "      <td>-0.71</td>\n",
              "      <td>-0.65</td>\n",
              "      <td>-0.64</td>\n",
              "      <td>-0.60</td>\n",
              "      <td>...</td>\n",
              "      <td>-2.46</td>\n",
              "      <td>-2.93</td>\n",
              "      <td>-3.79</td>\n",
              "      <td>-4.00</td>\n",
              "      <td>-4.57</td>\n",
              "      <td>-3.74</td>\n",
              "      <td>-1.66</td>\n",
              "      <td>0.60</td>\n",
              "      <td>1.17</td>\n",
              "      <td>0.96</td>\n",
              "      <td>1.32</td>\n",
              "      <td>1.05</td>\n",
              "      <td>-0.50</td>\n",
              "      <td>-1.57</td>\n",
              "      <td>-2.91</td>\n",
              "      <td>-3.73</td>\n",
              "      <td>-4.09</td>\n",
              "      <td>-4.05</td>\n",
              "      <td>-3.10</td>\n",
              "      <td>-1.88</td>\n",
              "      <td>0.12</td>\n",
              "      <td>0.29</td>\n",
              "      <td>0.15</td>\n",
              "      <td>-1.34</td>\n",
              "      <td>-1.59</td>\n",
              "      <td>-1.60</td>\n",
              "      <td>-1.97</td>\n",
              "      <td>-1.96</td>\n",
              "      <td>-2.24</td>\n",
              "      <td>-2.19</td>\n",
              "      <td>-1.45</td>\n",
              "      <td>0.12</td>\n",
              "      <td>0.44</td>\n",
              "      <td>0.27</td>\n",
              "      <td>-0.39</td>\n",
              "      <td>-0.69</td>\n",
              "      <td>-0.57</td>\n",
              "      <td>0.12</td>\n",
              "      <td>0.08</td>\n",
              "      <td>0.06</td>\n",
              "    </tr>\n",
              "    <tr>\n",
              "      <th>3</th>\n",
              "      <td>fslr</td>\n",
              "      <td>0.05</td>\n",
              "      <td>0.10</td>\n",
              "      <td>0.05</td>\n",
              "      <td>0.15</td>\n",
              "      <td>-0.04</td>\n",
              "      <td>-0.17</td>\n",
              "      <td>-0.53</td>\n",
              "      <td>-0.79</td>\n",
              "      <td>-1.03</td>\n",
              "      <td>-1.30</td>\n",
              "      <td>-1.47</td>\n",
              "      <td>-1.81</td>\n",
              "      <td>-1.95</td>\n",
              "      <td>-2.10</td>\n",
              "      <td>-2.16</td>\n",
              "      <td>-2.37</td>\n",
              "      <td>-2.64</td>\n",
              "      <td>-2.67</td>\n",
              "      <td>-2.76</td>\n",
              "      <td>-2.63</td>\n",
              "      <td>-2.53</td>\n",
              "      <td>-2.45</td>\n",
              "      <td>-2.32</td>\n",
              "      <td>-2.10</td>\n",
              "      <td>-1.78</td>\n",
              "      <td>-1.72</td>\n",
              "      <td>-1.63</td>\n",
              "      <td>-1.66</td>\n",
              "      <td>-1.61</td>\n",
              "      <td>-1.52</td>\n",
              "      <td>-1.41</td>\n",
              "      <td>-1.30</td>\n",
              "      <td>-1.24</td>\n",
              "      <td>-1.13</td>\n",
              "      <td>-0.98</td>\n",
              "      <td>-0.81</td>\n",
              "      <td>-0.74</td>\n",
              "      <td>-0.71</td>\n",
              "      <td>-0.65</td>\n",
              "      <td>...</td>\n",
              "      <td>-1.56</td>\n",
              "      <td>-2.07</td>\n",
              "      <td>-2.46</td>\n",
              "      <td>-2.93</td>\n",
              "      <td>-3.79</td>\n",
              "      <td>-4.00</td>\n",
              "      <td>-4.57</td>\n",
              "      <td>-3.74</td>\n",
              "      <td>-1.66</td>\n",
              "      <td>0.60</td>\n",
              "      <td>1.17</td>\n",
              "      <td>0.96</td>\n",
              "      <td>1.32</td>\n",
              "      <td>1.05</td>\n",
              "      <td>-0.50</td>\n",
              "      <td>-1.57</td>\n",
              "      <td>-2.91</td>\n",
              "      <td>-3.73</td>\n",
              "      <td>-4.09</td>\n",
              "      <td>-4.05</td>\n",
              "      <td>-3.10</td>\n",
              "      <td>-1.88</td>\n",
              "      <td>0.12</td>\n",
              "      <td>0.29</td>\n",
              "      <td>0.15</td>\n",
              "      <td>-1.34</td>\n",
              "      <td>-1.59</td>\n",
              "      <td>-1.60</td>\n",
              "      <td>-1.97</td>\n",
              "      <td>-1.96</td>\n",
              "      <td>-2.24</td>\n",
              "      <td>-2.19</td>\n",
              "      <td>-1.45</td>\n",
              "      <td>0.12</td>\n",
              "      <td>0.44</td>\n",
              "      <td>0.27</td>\n",
              "      <td>-0.39</td>\n",
              "      <td>-0.69</td>\n",
              "      <td>-0.57</td>\n",
              "      <td>-1.11</td>\n",
              "    </tr>\n",
              "    <tr>\n",
              "      <th>4</th>\n",
              "      <td>fslr</td>\n",
              "      <td>0.38</td>\n",
              "      <td>0.38</td>\n",
              "      <td>0.37</td>\n",
              "      <td>0.29</td>\n",
              "      <td>0.21</td>\n",
              "      <td>0.07</td>\n",
              "      <td>-0.05</td>\n",
              "      <td>-0.11</td>\n",
              "      <td>-0.04</td>\n",
              "      <td>0.05</td>\n",
              "      <td>0.10</td>\n",
              "      <td>0.05</td>\n",
              "      <td>0.15</td>\n",
              "      <td>-0.04</td>\n",
              "      <td>-0.17</td>\n",
              "      <td>-0.53</td>\n",
              "      <td>-0.79</td>\n",
              "      <td>-1.03</td>\n",
              "      <td>-1.30</td>\n",
              "      <td>-1.47</td>\n",
              "      <td>-1.81</td>\n",
              "      <td>-1.95</td>\n",
              "      <td>-2.10</td>\n",
              "      <td>-2.16</td>\n",
              "      <td>-2.37</td>\n",
              "      <td>-2.64</td>\n",
              "      <td>-2.67</td>\n",
              "      <td>-2.76</td>\n",
              "      <td>-2.63</td>\n",
              "      <td>-2.53</td>\n",
              "      <td>-2.45</td>\n",
              "      <td>-2.32</td>\n",
              "      <td>-2.10</td>\n",
              "      <td>-1.78</td>\n",
              "      <td>-1.72</td>\n",
              "      <td>-1.63</td>\n",
              "      <td>-1.66</td>\n",
              "      <td>-1.61</td>\n",
              "      <td>-1.52</td>\n",
              "      <td>...</td>\n",
              "      <td>3.46</td>\n",
              "      <td>2.17</td>\n",
              "      <td>1.35</td>\n",
              "      <td>0.07</td>\n",
              "      <td>0.16</td>\n",
              "      <td>-1.27</td>\n",
              "      <td>-1.17</td>\n",
              "      <td>-1.33</td>\n",
              "      <td>-1.08</td>\n",
              "      <td>-1.56</td>\n",
              "      <td>-2.07</td>\n",
              "      <td>-2.46</td>\n",
              "      <td>-2.93</td>\n",
              "      <td>-3.79</td>\n",
              "      <td>-4.00</td>\n",
              "      <td>-4.57</td>\n",
              "      <td>-3.74</td>\n",
              "      <td>-1.66</td>\n",
              "      <td>0.60</td>\n",
              "      <td>1.17</td>\n",
              "      <td>0.96</td>\n",
              "      <td>1.32</td>\n",
              "      <td>1.05</td>\n",
              "      <td>-0.50</td>\n",
              "      <td>-1.57</td>\n",
              "      <td>-2.91</td>\n",
              "      <td>-3.73</td>\n",
              "      <td>-4.09</td>\n",
              "      <td>-4.05</td>\n",
              "      <td>-3.10</td>\n",
              "      <td>-1.88</td>\n",
              "      <td>0.12</td>\n",
              "      <td>0.29</td>\n",
              "      <td>0.15</td>\n",
              "      <td>-1.34</td>\n",
              "      <td>-1.59</td>\n",
              "      <td>-1.60</td>\n",
              "      <td>-1.97</td>\n",
              "      <td>-1.96</td>\n",
              "      <td>-2.93</td>\n",
              "    </tr>\n",
              "  </tbody>\n",
              "</table>\n",
              "<p>5 rows × 125 columns</p>\n",
              "</div>"
            ],
            "text/plain": [
              "  stock     0     1     2     3     4  ...   118   119   120   121   122   rtn\n",
              "0  fslr -0.02  0.00  0.00  0.00  0.00  ...  0.00  0.00  0.00  0.00  0.00  0.12\n",
              "1  fslr -1.72 -1.63 -1.66 -1.61 -1.52  ...  0.00  0.00  0.00  0.00  0.00  1.49\n",
              "2  fslr  0.05  0.15 -0.04 -0.17 -0.53  ... -0.39 -0.69 -0.57  0.12  0.08  0.06\n",
              "3  fslr  0.05  0.10  0.05  0.15 -0.04  ...  0.44  0.27 -0.39 -0.69 -0.57 -1.11\n",
              "4  fslr  0.38  0.38  0.37  0.29  0.21  ... -1.34 -1.59 -1.60 -1.97 -1.96 -2.93\n",
              "\n",
              "[5 rows x 125 columns]"
            ]
          },
          "metadata": {
            "tags": []
          },
          "execution_count": 63
        }
      ]
    },
    {
      "cell_type": "markdown",
      "metadata": {
        "id": "ojee5cirjW48",
        "colab_type": "text"
      },
      "source": [
        "Here good return is actually represent going down of the stk, the prediction of the model will be focusing on whether the stock is going up or down. Thus, we convert the sign of rtn."
      ]
    },
    {
      "cell_type": "code",
      "metadata": {
        "id": "BIOHOy-6jhmm",
        "colab_type": "code",
        "colab": {
          "base_uri": "https://localhost:8080/",
          "height": 273
        },
        "outputId": "38675c21-15a4-4058-9118-091a361b6c84"
      },
      "source": [
        "df_gp_sell[\"rtn\"] = -1*df_gp_sell[\"rtn\"]\n",
        "df_gp_sell.head()"
      ],
      "execution_count": 66,
      "outputs": [
        {
          "output_type": "execute_result",
          "data": {
            "text/html": [
              "<div>\n",
              "<style scoped>\n",
              "    .dataframe tbody tr th:only-of-type {\n",
              "        vertical-align: middle;\n",
              "    }\n",
              "\n",
              "    .dataframe tbody tr th {\n",
              "        vertical-align: top;\n",
              "    }\n",
              "\n",
              "    .dataframe thead th {\n",
              "        text-align: right;\n",
              "    }\n",
              "</style>\n",
              "<table border=\"1\" class=\"dataframe\">\n",
              "  <thead>\n",
              "    <tr style=\"text-align: right;\">\n",
              "      <th></th>\n",
              "      <th>stock</th>\n",
              "      <th>0</th>\n",
              "      <th>1</th>\n",
              "      <th>2</th>\n",
              "      <th>3</th>\n",
              "      <th>4</th>\n",
              "      <th>5</th>\n",
              "      <th>6</th>\n",
              "      <th>7</th>\n",
              "      <th>8</th>\n",
              "      <th>9</th>\n",
              "      <th>10</th>\n",
              "      <th>11</th>\n",
              "      <th>12</th>\n",
              "      <th>13</th>\n",
              "      <th>14</th>\n",
              "      <th>15</th>\n",
              "      <th>16</th>\n",
              "      <th>17</th>\n",
              "      <th>18</th>\n",
              "      <th>19</th>\n",
              "      <th>20</th>\n",
              "      <th>21</th>\n",
              "      <th>22</th>\n",
              "      <th>23</th>\n",
              "      <th>24</th>\n",
              "      <th>25</th>\n",
              "      <th>26</th>\n",
              "      <th>27</th>\n",
              "      <th>28</th>\n",
              "      <th>29</th>\n",
              "      <th>30</th>\n",
              "      <th>31</th>\n",
              "      <th>32</th>\n",
              "      <th>33</th>\n",
              "      <th>34</th>\n",
              "      <th>35</th>\n",
              "      <th>36</th>\n",
              "      <th>37</th>\n",
              "      <th>38</th>\n",
              "      <th>...</th>\n",
              "      <th>84</th>\n",
              "      <th>85</th>\n",
              "      <th>86</th>\n",
              "      <th>87</th>\n",
              "      <th>88</th>\n",
              "      <th>89</th>\n",
              "      <th>90</th>\n",
              "      <th>91</th>\n",
              "      <th>92</th>\n",
              "      <th>93</th>\n",
              "      <th>94</th>\n",
              "      <th>95</th>\n",
              "      <th>96</th>\n",
              "      <th>97</th>\n",
              "      <th>98</th>\n",
              "      <th>99</th>\n",
              "      <th>100</th>\n",
              "      <th>101</th>\n",
              "      <th>102</th>\n",
              "      <th>103</th>\n",
              "      <th>104</th>\n",
              "      <th>105</th>\n",
              "      <th>106</th>\n",
              "      <th>107</th>\n",
              "      <th>108</th>\n",
              "      <th>109</th>\n",
              "      <th>110</th>\n",
              "      <th>111</th>\n",
              "      <th>112</th>\n",
              "      <th>113</th>\n",
              "      <th>114</th>\n",
              "      <th>115</th>\n",
              "      <th>116</th>\n",
              "      <th>117</th>\n",
              "      <th>118</th>\n",
              "      <th>119</th>\n",
              "      <th>120</th>\n",
              "      <th>121</th>\n",
              "      <th>122</th>\n",
              "      <th>rtn</th>\n",
              "    </tr>\n",
              "  </thead>\n",
              "  <tbody>\n",
              "    <tr>\n",
              "      <th>0</th>\n",
              "      <td>fslr</td>\n",
              "      <td>-0.02</td>\n",
              "      <td>0.00</td>\n",
              "      <td>0.00</td>\n",
              "      <td>0.00</td>\n",
              "      <td>0.00</td>\n",
              "      <td>0.00</td>\n",
              "      <td>0.00</td>\n",
              "      <td>0.00</td>\n",
              "      <td>0.00</td>\n",
              "      <td>0.00</td>\n",
              "      <td>0.00</td>\n",
              "      <td>0.00</td>\n",
              "      <td>0.00</td>\n",
              "      <td>0.00</td>\n",
              "      <td>0.00</td>\n",
              "      <td>0.00</td>\n",
              "      <td>0.00</td>\n",
              "      <td>0.00</td>\n",
              "      <td>0.00</td>\n",
              "      <td>0.00</td>\n",
              "      <td>0.00</td>\n",
              "      <td>0.00</td>\n",
              "      <td>0.00</td>\n",
              "      <td>0.00</td>\n",
              "      <td>0.00</td>\n",
              "      <td>0.00</td>\n",
              "      <td>0.00</td>\n",
              "      <td>0.00</td>\n",
              "      <td>0.00</td>\n",
              "      <td>0.00</td>\n",
              "      <td>0.00</td>\n",
              "      <td>0.00</td>\n",
              "      <td>0.00</td>\n",
              "      <td>0.00</td>\n",
              "      <td>0.00</td>\n",
              "      <td>0.00</td>\n",
              "      <td>0.00</td>\n",
              "      <td>0.00</td>\n",
              "      <td>0.00</td>\n",
              "      <td>...</td>\n",
              "      <td>0.00</td>\n",
              "      <td>0.00</td>\n",
              "      <td>0.00</td>\n",
              "      <td>0.00</td>\n",
              "      <td>0.00</td>\n",
              "      <td>0.00</td>\n",
              "      <td>0.00</td>\n",
              "      <td>0.00</td>\n",
              "      <td>0.00</td>\n",
              "      <td>0.00</td>\n",
              "      <td>0.00</td>\n",
              "      <td>0.00</td>\n",
              "      <td>0.00</td>\n",
              "      <td>0.00</td>\n",
              "      <td>0.00</td>\n",
              "      <td>0.00</td>\n",
              "      <td>0.00</td>\n",
              "      <td>0.00</td>\n",
              "      <td>0.00</td>\n",
              "      <td>0.00</td>\n",
              "      <td>0.00</td>\n",
              "      <td>0.00</td>\n",
              "      <td>0.00</td>\n",
              "      <td>0.00</td>\n",
              "      <td>0.00</td>\n",
              "      <td>0.00</td>\n",
              "      <td>0.00</td>\n",
              "      <td>0.00</td>\n",
              "      <td>0.00</td>\n",
              "      <td>0.00</td>\n",
              "      <td>0.00</td>\n",
              "      <td>0.00</td>\n",
              "      <td>0.00</td>\n",
              "      <td>0.00</td>\n",
              "      <td>0.00</td>\n",
              "      <td>0.00</td>\n",
              "      <td>0.00</td>\n",
              "      <td>0.00</td>\n",
              "      <td>0.00</td>\n",
              "      <td>-0.12</td>\n",
              "    </tr>\n",
              "    <tr>\n",
              "      <th>1</th>\n",
              "      <td>fslr</td>\n",
              "      <td>-1.72</td>\n",
              "      <td>-1.63</td>\n",
              "      <td>-1.66</td>\n",
              "      <td>-1.61</td>\n",
              "      <td>-1.52</td>\n",
              "      <td>-1.41</td>\n",
              "      <td>-1.30</td>\n",
              "      <td>-1.24</td>\n",
              "      <td>-1.13</td>\n",
              "      <td>-0.98</td>\n",
              "      <td>-0.81</td>\n",
              "      <td>-0.74</td>\n",
              "      <td>-0.71</td>\n",
              "      <td>-0.65</td>\n",
              "      <td>-0.64</td>\n",
              "      <td>-0.60</td>\n",
              "      <td>-0.50</td>\n",
              "      <td>-0.44</td>\n",
              "      <td>-0.38</td>\n",
              "      <td>-0.27</td>\n",
              "      <td>-0.14</td>\n",
              "      <td>-0.09</td>\n",
              "      <td>-0.02</td>\n",
              "      <td>0.00</td>\n",
              "      <td>0.00</td>\n",
              "      <td>0.00</td>\n",
              "      <td>0.00</td>\n",
              "      <td>0.00</td>\n",
              "      <td>0.00</td>\n",
              "      <td>0.00</td>\n",
              "      <td>0.00</td>\n",
              "      <td>0.00</td>\n",
              "      <td>0.00</td>\n",
              "      <td>0.00</td>\n",
              "      <td>0.00</td>\n",
              "      <td>0.00</td>\n",
              "      <td>0.00</td>\n",
              "      <td>0.00</td>\n",
              "      <td>0.00</td>\n",
              "      <td>...</td>\n",
              "      <td>-1.34</td>\n",
              "      <td>-1.59</td>\n",
              "      <td>-1.60</td>\n",
              "      <td>-1.97</td>\n",
              "      <td>-1.96</td>\n",
              "      <td>-2.24</td>\n",
              "      <td>-2.19</td>\n",
              "      <td>-1.45</td>\n",
              "      <td>0.12</td>\n",
              "      <td>0.44</td>\n",
              "      <td>0.27</td>\n",
              "      <td>-0.39</td>\n",
              "      <td>-0.69</td>\n",
              "      <td>-0.57</td>\n",
              "      <td>0.12</td>\n",
              "      <td>0.08</td>\n",
              "      <td>-0.31</td>\n",
              "      <td>-0.60</td>\n",
              "      <td>-0.21</td>\n",
              "      <td>-0.41</td>\n",
              "      <td>0.00</td>\n",
              "      <td>0.00</td>\n",
              "      <td>0.00</td>\n",
              "      <td>0.00</td>\n",
              "      <td>0.00</td>\n",
              "      <td>0.00</td>\n",
              "      <td>0.00</td>\n",
              "      <td>0.00</td>\n",
              "      <td>0.00</td>\n",
              "      <td>0.00</td>\n",
              "      <td>0.00</td>\n",
              "      <td>0.00</td>\n",
              "      <td>0.00</td>\n",
              "      <td>0.00</td>\n",
              "      <td>0.00</td>\n",
              "      <td>0.00</td>\n",
              "      <td>0.00</td>\n",
              "      <td>0.00</td>\n",
              "      <td>0.00</td>\n",
              "      <td>-1.49</td>\n",
              "    </tr>\n",
              "    <tr>\n",
              "      <th>2</th>\n",
              "      <td>fslr</td>\n",
              "      <td>0.05</td>\n",
              "      <td>0.15</td>\n",
              "      <td>-0.04</td>\n",
              "      <td>-0.17</td>\n",
              "      <td>-0.53</td>\n",
              "      <td>-0.79</td>\n",
              "      <td>-1.03</td>\n",
              "      <td>-1.30</td>\n",
              "      <td>-1.47</td>\n",
              "      <td>-1.81</td>\n",
              "      <td>-1.95</td>\n",
              "      <td>-2.10</td>\n",
              "      <td>-2.16</td>\n",
              "      <td>-2.37</td>\n",
              "      <td>-2.64</td>\n",
              "      <td>-2.67</td>\n",
              "      <td>-2.76</td>\n",
              "      <td>-2.63</td>\n",
              "      <td>-2.53</td>\n",
              "      <td>-2.45</td>\n",
              "      <td>-2.32</td>\n",
              "      <td>-2.10</td>\n",
              "      <td>-1.78</td>\n",
              "      <td>-1.72</td>\n",
              "      <td>-1.63</td>\n",
              "      <td>-1.66</td>\n",
              "      <td>-1.61</td>\n",
              "      <td>-1.52</td>\n",
              "      <td>-1.41</td>\n",
              "      <td>-1.30</td>\n",
              "      <td>-1.24</td>\n",
              "      <td>-1.13</td>\n",
              "      <td>-0.98</td>\n",
              "      <td>-0.81</td>\n",
              "      <td>-0.74</td>\n",
              "      <td>-0.71</td>\n",
              "      <td>-0.65</td>\n",
              "      <td>-0.64</td>\n",
              "      <td>-0.60</td>\n",
              "      <td>...</td>\n",
              "      <td>-2.46</td>\n",
              "      <td>-2.93</td>\n",
              "      <td>-3.79</td>\n",
              "      <td>-4.00</td>\n",
              "      <td>-4.57</td>\n",
              "      <td>-3.74</td>\n",
              "      <td>-1.66</td>\n",
              "      <td>0.60</td>\n",
              "      <td>1.17</td>\n",
              "      <td>0.96</td>\n",
              "      <td>1.32</td>\n",
              "      <td>1.05</td>\n",
              "      <td>-0.50</td>\n",
              "      <td>-1.57</td>\n",
              "      <td>-2.91</td>\n",
              "      <td>-3.73</td>\n",
              "      <td>-4.09</td>\n",
              "      <td>-4.05</td>\n",
              "      <td>-3.10</td>\n",
              "      <td>-1.88</td>\n",
              "      <td>0.12</td>\n",
              "      <td>0.29</td>\n",
              "      <td>0.15</td>\n",
              "      <td>-1.34</td>\n",
              "      <td>-1.59</td>\n",
              "      <td>-1.60</td>\n",
              "      <td>-1.97</td>\n",
              "      <td>-1.96</td>\n",
              "      <td>-2.24</td>\n",
              "      <td>-2.19</td>\n",
              "      <td>-1.45</td>\n",
              "      <td>0.12</td>\n",
              "      <td>0.44</td>\n",
              "      <td>0.27</td>\n",
              "      <td>-0.39</td>\n",
              "      <td>-0.69</td>\n",
              "      <td>-0.57</td>\n",
              "      <td>0.12</td>\n",
              "      <td>0.08</td>\n",
              "      <td>-0.06</td>\n",
              "    </tr>\n",
              "    <tr>\n",
              "      <th>3</th>\n",
              "      <td>fslr</td>\n",
              "      <td>0.05</td>\n",
              "      <td>0.10</td>\n",
              "      <td>0.05</td>\n",
              "      <td>0.15</td>\n",
              "      <td>-0.04</td>\n",
              "      <td>-0.17</td>\n",
              "      <td>-0.53</td>\n",
              "      <td>-0.79</td>\n",
              "      <td>-1.03</td>\n",
              "      <td>-1.30</td>\n",
              "      <td>-1.47</td>\n",
              "      <td>-1.81</td>\n",
              "      <td>-1.95</td>\n",
              "      <td>-2.10</td>\n",
              "      <td>-2.16</td>\n",
              "      <td>-2.37</td>\n",
              "      <td>-2.64</td>\n",
              "      <td>-2.67</td>\n",
              "      <td>-2.76</td>\n",
              "      <td>-2.63</td>\n",
              "      <td>-2.53</td>\n",
              "      <td>-2.45</td>\n",
              "      <td>-2.32</td>\n",
              "      <td>-2.10</td>\n",
              "      <td>-1.78</td>\n",
              "      <td>-1.72</td>\n",
              "      <td>-1.63</td>\n",
              "      <td>-1.66</td>\n",
              "      <td>-1.61</td>\n",
              "      <td>-1.52</td>\n",
              "      <td>-1.41</td>\n",
              "      <td>-1.30</td>\n",
              "      <td>-1.24</td>\n",
              "      <td>-1.13</td>\n",
              "      <td>-0.98</td>\n",
              "      <td>-0.81</td>\n",
              "      <td>-0.74</td>\n",
              "      <td>-0.71</td>\n",
              "      <td>-0.65</td>\n",
              "      <td>...</td>\n",
              "      <td>-1.56</td>\n",
              "      <td>-2.07</td>\n",
              "      <td>-2.46</td>\n",
              "      <td>-2.93</td>\n",
              "      <td>-3.79</td>\n",
              "      <td>-4.00</td>\n",
              "      <td>-4.57</td>\n",
              "      <td>-3.74</td>\n",
              "      <td>-1.66</td>\n",
              "      <td>0.60</td>\n",
              "      <td>1.17</td>\n",
              "      <td>0.96</td>\n",
              "      <td>1.32</td>\n",
              "      <td>1.05</td>\n",
              "      <td>-0.50</td>\n",
              "      <td>-1.57</td>\n",
              "      <td>-2.91</td>\n",
              "      <td>-3.73</td>\n",
              "      <td>-4.09</td>\n",
              "      <td>-4.05</td>\n",
              "      <td>-3.10</td>\n",
              "      <td>-1.88</td>\n",
              "      <td>0.12</td>\n",
              "      <td>0.29</td>\n",
              "      <td>0.15</td>\n",
              "      <td>-1.34</td>\n",
              "      <td>-1.59</td>\n",
              "      <td>-1.60</td>\n",
              "      <td>-1.97</td>\n",
              "      <td>-1.96</td>\n",
              "      <td>-2.24</td>\n",
              "      <td>-2.19</td>\n",
              "      <td>-1.45</td>\n",
              "      <td>0.12</td>\n",
              "      <td>0.44</td>\n",
              "      <td>0.27</td>\n",
              "      <td>-0.39</td>\n",
              "      <td>-0.69</td>\n",
              "      <td>-0.57</td>\n",
              "      <td>1.11</td>\n",
              "    </tr>\n",
              "    <tr>\n",
              "      <th>4</th>\n",
              "      <td>fslr</td>\n",
              "      <td>0.38</td>\n",
              "      <td>0.38</td>\n",
              "      <td>0.37</td>\n",
              "      <td>0.29</td>\n",
              "      <td>0.21</td>\n",
              "      <td>0.07</td>\n",
              "      <td>-0.05</td>\n",
              "      <td>-0.11</td>\n",
              "      <td>-0.04</td>\n",
              "      <td>0.05</td>\n",
              "      <td>0.10</td>\n",
              "      <td>0.05</td>\n",
              "      <td>0.15</td>\n",
              "      <td>-0.04</td>\n",
              "      <td>-0.17</td>\n",
              "      <td>-0.53</td>\n",
              "      <td>-0.79</td>\n",
              "      <td>-1.03</td>\n",
              "      <td>-1.30</td>\n",
              "      <td>-1.47</td>\n",
              "      <td>-1.81</td>\n",
              "      <td>-1.95</td>\n",
              "      <td>-2.10</td>\n",
              "      <td>-2.16</td>\n",
              "      <td>-2.37</td>\n",
              "      <td>-2.64</td>\n",
              "      <td>-2.67</td>\n",
              "      <td>-2.76</td>\n",
              "      <td>-2.63</td>\n",
              "      <td>-2.53</td>\n",
              "      <td>-2.45</td>\n",
              "      <td>-2.32</td>\n",
              "      <td>-2.10</td>\n",
              "      <td>-1.78</td>\n",
              "      <td>-1.72</td>\n",
              "      <td>-1.63</td>\n",
              "      <td>-1.66</td>\n",
              "      <td>-1.61</td>\n",
              "      <td>-1.52</td>\n",
              "      <td>...</td>\n",
              "      <td>3.46</td>\n",
              "      <td>2.17</td>\n",
              "      <td>1.35</td>\n",
              "      <td>0.07</td>\n",
              "      <td>0.16</td>\n",
              "      <td>-1.27</td>\n",
              "      <td>-1.17</td>\n",
              "      <td>-1.33</td>\n",
              "      <td>-1.08</td>\n",
              "      <td>-1.56</td>\n",
              "      <td>-2.07</td>\n",
              "      <td>-2.46</td>\n",
              "      <td>-2.93</td>\n",
              "      <td>-3.79</td>\n",
              "      <td>-4.00</td>\n",
              "      <td>-4.57</td>\n",
              "      <td>-3.74</td>\n",
              "      <td>-1.66</td>\n",
              "      <td>0.60</td>\n",
              "      <td>1.17</td>\n",
              "      <td>0.96</td>\n",
              "      <td>1.32</td>\n",
              "      <td>1.05</td>\n",
              "      <td>-0.50</td>\n",
              "      <td>-1.57</td>\n",
              "      <td>-2.91</td>\n",
              "      <td>-3.73</td>\n",
              "      <td>-4.09</td>\n",
              "      <td>-4.05</td>\n",
              "      <td>-3.10</td>\n",
              "      <td>-1.88</td>\n",
              "      <td>0.12</td>\n",
              "      <td>0.29</td>\n",
              "      <td>0.15</td>\n",
              "      <td>-1.34</td>\n",
              "      <td>-1.59</td>\n",
              "      <td>-1.60</td>\n",
              "      <td>-1.97</td>\n",
              "      <td>-1.96</td>\n",
              "      <td>2.93</td>\n",
              "    </tr>\n",
              "  </tbody>\n",
              "</table>\n",
              "<p>5 rows × 125 columns</p>\n",
              "</div>"
            ],
            "text/plain": [
              "  stock     0     1     2     3     4  ...   118   119   120   121   122   rtn\n",
              "0  fslr -0.02  0.00  0.00  0.00  0.00  ...  0.00  0.00  0.00  0.00  0.00 -0.12\n",
              "1  fslr -1.72 -1.63 -1.66 -1.61 -1.52  ...  0.00  0.00  0.00  0.00  0.00 -1.49\n",
              "2  fslr  0.05  0.15 -0.04 -0.17 -0.53  ... -0.39 -0.69 -0.57  0.12  0.08 -0.06\n",
              "3  fslr  0.05  0.10  0.05  0.15 -0.04  ...  0.44  0.27 -0.39 -0.69 -0.57  1.11\n",
              "4  fslr  0.38  0.38  0.37  0.29  0.21  ... -1.34 -1.59 -1.60 -1.97 -1.96  2.93\n",
              "\n",
              "[5 rows x 125 columns]"
            ]
          },
          "metadata": {
            "tags": []
          },
          "execution_count": 66
        }
      ]
    },
    {
      "cell_type": "code",
      "metadata": {
        "id": "8J3tK7OQkLXw",
        "colab_type": "code",
        "colab": {
          "base_uri": "https://localhost:8080/",
          "height": 34
        },
        "outputId": "46374116-90f6-4847-8f80-ccd35ceb8c92"
      },
      "source": [
        "df = pd.concat([df_gp, df_gp_sell]).reset_index(drop = True)\n",
        "print(df.shape, df_gp.shape, df_gp_sell.shape)"
      ],
      "execution_count": 85,
      "outputs": [
        {
          "output_type": "stream",
          "text": [
            "(189247, 125) (102408, 125) (86839, 125)\n"
          ],
          "name": "stdout"
        }
      ]
    },
    {
      "cell_type": "markdown",
      "metadata": {
        "id": "VZzViX7XknAs",
        "colab_type": "text"
      },
      "source": [
        "Here, the newly concat dataframe' rtn represents the movement of the stock market data. We can then study the distribution of the rtn values and determine the threshold."
      ]
    },
    {
      "cell_type": "code",
      "metadata": {
        "id": "4gCF8oAikmXm",
        "colab_type": "code",
        "colab": {
          "base_uri": "https://localhost:8080/",
          "height": 466
        },
        "outputId": "3fe678e2-08da-4869-f836-0fc318d4ad30"
      },
      "source": [
        "df[\"rtn\"].hist(bins = 1000)\n",
        "# the plot is so peaky due to the outliers"
      ],
      "execution_count": 86,
      "outputs": [
        {
          "output_type": "execute_result",
          "data": {
            "text/plain": [
              "<matplotlib.axes._subplots.AxesSubplot at 0x7f11bf5b2c18>"
            ]
          },
          "metadata": {
            "tags": []
          },
          "execution_count": 86
        },
        {
          "output_type": "display_data",
          "data": {
            "image/png": "[encoded data removed]",
            "text/plain": [
              "<Figure size 748.8x514.8 with 1 Axes>"
            ]
          },
          "metadata": {
            "tags": []
          }
        }
      ]
    },
    {
      "cell_type": "code",
      "metadata": {
        "id": "m6ycUhw7lISE",
        "colab_type": "code",
        "colab": {
          "base_uri": "https://localhost:8080/",
          "height": 466
        },
        "outputId": "df48b44e-0837-494d-e55e-8be7ea1146c0"
      },
      "source": [
        "df_cleaned = df[abs(df[\"rtn\"]) < 10]\n",
        "df_cleaned[\"rtn\"].hist(bins = 100)\n",
        "# it looks like a normal dist?\n",
        "# i would use the mean +/- 1/2sd as the two threshold for up, unsure, and down\n",
        "thre_up = df_cleaned[\"rtn\"].mean() + 0.5*df_cleaned[\"rtn\"].std()\n",
        "thre_down = df_cleaned[\"rtn\"].mean() - 0.5*df_cleaned[\"rtn\"].std()\n",
        "plt.axvline(x=thre_up, color = \"black\")\n",
        "plt.axvline(x = thre_down, color = \"black\")"
      ],
      "execution_count": 87,
      "outputs": [
        {
          "output_type": "execute_result",
          "data": {
            "text/plain": [
              "<matplotlib.lines.Line2D at 0x7f11bd4385c0>"
            ]
          },
          "metadata": {
            "tags": []
          },
          "execution_count": 87
        },
        {
          "output_type": "display_data",
          "data": {
            "image/png": "[encoded data removed]",
            "text/plain": [
              "<Figure size 748.8x514.8 with 1 Axes>"
            ]
          },
          "metadata": {
            "tags": []
          }
        }
      ]
    },
    {
      "cell_type": "code",
      "metadata": {
        "id": "IpIyooV8mGZc",
        "colab_type": "code",
        "colab": {}
      },
      "source": [
        "df_down = df[df[\"rtn\"] < thre_down]\n",
        "df_up = df[df[\"rtn\"] > thre_up]\n",
        "df_avg = df[(df[\"rtn\"] < thre_up) &(df[\"rtn\"] > thre_down)]"
      ],
      "execution_count": 0,
      "outputs": []
    },
    {
      "cell_type": "code",
      "metadata": {
        "id": "7KZvOJZ6l0oG",
        "colab_type": "code",
        "colab": {
          "base_uri": "https://localhost:8080/",
          "height": 34
        },
        "outputId": "25ef0b7c-a412-48c2-fa25-09f745a8ae91"
      },
      "source": [
        "print(df_down.shape, df_up.shape, df_avg.shape)"
      ],
      "execution_count": 93,
      "outputs": [
        {
          "output_type": "stream",
          "text": [
            "(37100, 125) (36708, 125) (115439, 125)\n"
          ],
          "name": "stdout"
        }
      ]
    },
    {
      "cell_type": "code",
      "metadata": {
        "id": "jqVq7D3QpXYs",
        "colab_type": "code",
        "colab": {
          "base_uri": "https://localhost:8080/",
          "height": 273
        },
        "outputId": "7060deb5-7798-4f00-a87b-0816ca9395fe"
      },
      "source": [
        "df_down[\"mov\"] = -1\n",
        "df_up[\"mov\"] = 1\n",
        "df_avg[\"mov\"] = 0\n",
        "\n",
        "df = pd.concat([df_down, df_up, df_avg]).reset_index(drop = True)\n",
        "\n",
        "from sklearn.utils import shuffle\n",
        "df = shuffle(df)\n",
        "\n",
        "\n",
        "df.head()"
      ],
      "execution_count": 132,
      "outputs": [
        {
          "output_type": "execute_result",
          "data": {
            "text/html": [
              "<div>\n",
              "<style scoped>\n",
              "    .dataframe tbody tr th:only-of-type {\n",
              "        vertical-align: middle;\n",
              "    }\n",
              "\n",
              "    .dataframe tbody tr th {\n",
              "        vertical-align: top;\n",
              "    }\n",
              "\n",
              "    .dataframe thead th {\n",
              "        text-align: right;\n",
              "    }\n",
              "</style>\n",
              "<table border=\"1\" class=\"dataframe\">\n",
              "  <thead>\n",
              "    <tr style=\"text-align: right;\">\n",
              "      <th></th>\n",
              "      <th>stock</th>\n",
              "      <th>0</th>\n",
              "      <th>1</th>\n",
              "      <th>2</th>\n",
              "      <th>3</th>\n",
              "      <th>4</th>\n",
              "      <th>5</th>\n",
              "      <th>6</th>\n",
              "      <th>7</th>\n",
              "      <th>8</th>\n",
              "      <th>9</th>\n",
              "      <th>10</th>\n",
              "      <th>11</th>\n",
              "      <th>12</th>\n",
              "      <th>13</th>\n",
              "      <th>14</th>\n",
              "      <th>15</th>\n",
              "      <th>16</th>\n",
              "      <th>17</th>\n",
              "      <th>18</th>\n",
              "      <th>19</th>\n",
              "      <th>20</th>\n",
              "      <th>21</th>\n",
              "      <th>22</th>\n",
              "      <th>23</th>\n",
              "      <th>24</th>\n",
              "      <th>25</th>\n",
              "      <th>26</th>\n",
              "      <th>27</th>\n",
              "      <th>28</th>\n",
              "      <th>29</th>\n",
              "      <th>30</th>\n",
              "      <th>31</th>\n",
              "      <th>32</th>\n",
              "      <th>33</th>\n",
              "      <th>34</th>\n",
              "      <th>35</th>\n",
              "      <th>36</th>\n",
              "      <th>37</th>\n",
              "      <th>38</th>\n",
              "      <th>...</th>\n",
              "      <th>85</th>\n",
              "      <th>86</th>\n",
              "      <th>87</th>\n",
              "      <th>88</th>\n",
              "      <th>89</th>\n",
              "      <th>90</th>\n",
              "      <th>91</th>\n",
              "      <th>92</th>\n",
              "      <th>93</th>\n",
              "      <th>94</th>\n",
              "      <th>95</th>\n",
              "      <th>96</th>\n",
              "      <th>97</th>\n",
              "      <th>98</th>\n",
              "      <th>99</th>\n",
              "      <th>100</th>\n",
              "      <th>101</th>\n",
              "      <th>102</th>\n",
              "      <th>103</th>\n",
              "      <th>104</th>\n",
              "      <th>105</th>\n",
              "      <th>106</th>\n",
              "      <th>107</th>\n",
              "      <th>108</th>\n",
              "      <th>109</th>\n",
              "      <th>110</th>\n",
              "      <th>111</th>\n",
              "      <th>112</th>\n",
              "      <th>113</th>\n",
              "      <th>114</th>\n",
              "      <th>115</th>\n",
              "      <th>116</th>\n",
              "      <th>117</th>\n",
              "      <th>118</th>\n",
              "      <th>119</th>\n",
              "      <th>120</th>\n",
              "      <th>121</th>\n",
              "      <th>122</th>\n",
              "      <th>rtn</th>\n",
              "      <th>mov</th>\n",
              "    </tr>\n",
              "  </thead>\n",
              "  <tbody>\n",
              "    <tr>\n",
              "      <th>38909</th>\n",
              "      <td>ssys</td>\n",
              "      <td>-1.22</td>\n",
              "      <td>-1.24</td>\n",
              "      <td>-1.20</td>\n",
              "      <td>-1.09</td>\n",
              "      <td>-1.04</td>\n",
              "      <td>-1.04</td>\n",
              "      <td>-1.12</td>\n",
              "      <td>-1.13</td>\n",
              "      <td>-1.03</td>\n",
              "      <td>-1.01</td>\n",
              "      <td>-0.98</td>\n",
              "      <td>-0.99</td>\n",
              "      <td>-0.90</td>\n",
              "      <td>-0.70</td>\n",
              "      <td>-0.51</td>\n",
              "      <td>-0.29</td>\n",
              "      <td>-0.16</td>\n",
              "      <td>0.01</td>\n",
              "      <td>0.13</td>\n",
              "      <td>0.23</td>\n",
              "      <td>0.29</td>\n",
              "      <td>0.31</td>\n",
              "      <td>0.36</td>\n",
              "      <td>0.31</td>\n",
              "      <td>0.37</td>\n",
              "      <td>0.39</td>\n",
              "      <td>0.36</td>\n",
              "      <td>0.32</td>\n",
              "      <td>0.31</td>\n",
              "      <td>0.32</td>\n",
              "      <td>0.29</td>\n",
              "      <td>0.39</td>\n",
              "      <td>0.48</td>\n",
              "      <td>0.53</td>\n",
              "      <td>0.65</td>\n",
              "      <td>0.79</td>\n",
              "      <td>0.82</td>\n",
              "      <td>0.76</td>\n",
              "      <td>0.68</td>\n",
              "      <td>...</td>\n",
              "      <td>-0.20</td>\n",
              "      <td>-0.21</td>\n",
              "      <td>-0.16</td>\n",
              "      <td>-0.27</td>\n",
              "      <td>-0.35</td>\n",
              "      <td>-0.34</td>\n",
              "      <td>-0.30</td>\n",
              "      <td>-0.33</td>\n",
              "      <td>-0.36</td>\n",
              "      <td>-0.42</td>\n",
              "      <td>-0.44</td>\n",
              "      <td>-0.40</td>\n",
              "      <td>-0.34</td>\n",
              "      <td>-0.29</td>\n",
              "      <td>-0.24</td>\n",
              "      <td>-0.19</td>\n",
              "      <td>-0.08</td>\n",
              "      <td>-0.04</td>\n",
              "      <td>-0.10</td>\n",
              "      <td>-0.04</td>\n",
              "      <td>-0.03</td>\n",
              "      <td>0.10</td>\n",
              "      <td>0.20</td>\n",
              "      <td>0.27</td>\n",
              "      <td>0.33</td>\n",
              "      <td>0.35</td>\n",
              "      <td>0.33</td>\n",
              "      <td>0.25</td>\n",
              "      <td>0.18</td>\n",
              "      <td>0.10</td>\n",
              "      <td>0.05</td>\n",
              "      <td>-0.06</td>\n",
              "      <td>-0.02</td>\n",
              "      <td>0.02</td>\n",
              "      <td>0.06</td>\n",
              "      <td>0.15</td>\n",
              "      <td>0.15</td>\n",
              "      <td>0.16</td>\n",
              "      <td>0.92</td>\n",
              "      <td>1</td>\n",
              "    </tr>\n",
              "    <tr>\n",
              "      <th>135309</th>\n",
              "      <td>meli</td>\n",
              "      <td>1.90</td>\n",
              "      <td>1.85</td>\n",
              "      <td>1.86</td>\n",
              "      <td>1.92</td>\n",
              "      <td>1.83</td>\n",
              "      <td>1.74</td>\n",
              "      <td>1.72</td>\n",
              "      <td>1.63</td>\n",
              "      <td>1.55</td>\n",
              "      <td>1.46</td>\n",
              "      <td>1.32</td>\n",
              "      <td>1.13</td>\n",
              "      <td>0.99</td>\n",
              "      <td>0.77</td>\n",
              "      <td>0.38</td>\n",
              "      <td>-0.01</td>\n",
              "      <td>-0.34</td>\n",
              "      <td>-0.62</td>\n",
              "      <td>-0.85</td>\n",
              "      <td>-1.09</td>\n",
              "      <td>-1.27</td>\n",
              "      <td>-1.43</td>\n",
              "      <td>-1.45</td>\n",
              "      <td>-1.42</td>\n",
              "      <td>-1.34</td>\n",
              "      <td>-1.36</td>\n",
              "      <td>-1.36</td>\n",
              "      <td>-1.01</td>\n",
              "      <td>-0.74</td>\n",
              "      <td>-0.41</td>\n",
              "      <td>-0.07</td>\n",
              "      <td>0.22</td>\n",
              "      <td>0.46</td>\n",
              "      <td>0.76</td>\n",
              "      <td>1.06</td>\n",
              "      <td>0.98</td>\n",
              "      <td>0.96</td>\n",
              "      <td>0.85</td>\n",
              "      <td>0.81</td>\n",
              "      <td>...</td>\n",
              "      <td>1.08</td>\n",
              "      <td>1.03</td>\n",
              "      <td>0.89</td>\n",
              "      <td>0.73</td>\n",
              "      <td>0.52</td>\n",
              "      <td>0.65</td>\n",
              "      <td>1.36</td>\n",
              "      <td>2.17</td>\n",
              "      <td>2.25</td>\n",
              "      <td>2.29</td>\n",
              "      <td>2.08</td>\n",
              "      <td>1.44</td>\n",
              "      <td>0.85</td>\n",
              "      <td>0.44</td>\n",
              "      <td>0.28</td>\n",
              "      <td>0.12</td>\n",
              "      <td>-0.04</td>\n",
              "      <td>0.02</td>\n",
              "      <td>-0.01</td>\n",
              "      <td>-0.33</td>\n",
              "      <td>-0.50</td>\n",
              "      <td>-0.67</td>\n",
              "      <td>-0.83</td>\n",
              "      <td>-1.06</td>\n",
              "      <td>-1.21</td>\n",
              "      <td>-1.95</td>\n",
              "      <td>-2.40</td>\n",
              "      <td>-2.37</td>\n",
              "      <td>-1.83</td>\n",
              "      <td>-1.27</td>\n",
              "      <td>-0.55</td>\n",
              "      <td>-0.10</td>\n",
              "      <td>-0.14</td>\n",
              "      <td>-0.31</td>\n",
              "      <td>-0.20</td>\n",
              "      <td>-0.22</td>\n",
              "      <td>0.15</td>\n",
              "      <td>0.40</td>\n",
              "      <td>0.21</td>\n",
              "      <td>0</td>\n",
              "    </tr>\n",
              "    <tr>\n",
              "      <th>7863</th>\n",
              "      <td>uri1</td>\n",
              "      <td>-3.82</td>\n",
              "      <td>-3.86</td>\n",
              "      <td>-3.66</td>\n",
              "      <td>-3.41</td>\n",
              "      <td>-3.10</td>\n",
              "      <td>-3.19</td>\n",
              "      <td>-3.54</td>\n",
              "      <td>-3.43</td>\n",
              "      <td>-3.40</td>\n",
              "      <td>-3.19</td>\n",
              "      <td>-2.77</td>\n",
              "      <td>-2.38</td>\n",
              "      <td>-1.98</td>\n",
              "      <td>-1.59</td>\n",
              "      <td>-0.82</td>\n",
              "      <td>-0.55</td>\n",
              "      <td>-0.36</td>\n",
              "      <td>-0.19</td>\n",
              "      <td>-0.25</td>\n",
              "      <td>0.01</td>\n",
              "      <td>-0.17</td>\n",
              "      <td>-0.53</td>\n",
              "      <td>-1.06</td>\n",
              "      <td>-1.57</td>\n",
              "      <td>-2.13</td>\n",
              "      <td>-2.51</td>\n",
              "      <td>-2.93</td>\n",
              "      <td>-3.54</td>\n",
              "      <td>-3.67</td>\n",
              "      <td>-3.49</td>\n",
              "      <td>-3.28</td>\n",
              "      <td>-2.86</td>\n",
              "      <td>-2.48</td>\n",
              "      <td>-2.12</td>\n",
              "      <td>-1.47</td>\n",
              "      <td>-0.81</td>\n",
              "      <td>-0.32</td>\n",
              "      <td>0.12</td>\n",
              "      <td>0.42</td>\n",
              "      <td>...</td>\n",
              "      <td>-0.73</td>\n",
              "      <td>-0.30</td>\n",
              "      <td>-0.19</td>\n",
              "      <td>-0.18</td>\n",
              "      <td>-0.17</td>\n",
              "      <td>-0.26</td>\n",
              "      <td>-0.35</td>\n",
              "      <td>-0.38</td>\n",
              "      <td>-0.32</td>\n",
              "      <td>-0.31</td>\n",
              "      <td>-0.30</td>\n",
              "      <td>-0.32</td>\n",
              "      <td>-0.30</td>\n",
              "      <td>-0.30</td>\n",
              "      <td>-0.20</td>\n",
              "      <td>-0.20</td>\n",
              "      <td>-0.04</td>\n",
              "      <td>0.09</td>\n",
              "      <td>0.44</td>\n",
              "      <td>0.45</td>\n",
              "      <td>0.51</td>\n",
              "      <td>0.58</td>\n",
              "      <td>0.65</td>\n",
              "      <td>0.53</td>\n",
              "      <td>0.06</td>\n",
              "      <td>-0.11</td>\n",
              "      <td>-0.20</td>\n",
              "      <td>-0.45</td>\n",
              "      <td>-0.53</td>\n",
              "      <td>-0.60</td>\n",
              "      <td>-0.64</td>\n",
              "      <td>-0.64</td>\n",
              "      <td>-0.57</td>\n",
              "      <td>-0.47</td>\n",
              "      <td>-0.25</td>\n",
              "      <td>-0.07</td>\n",
              "      <td>-0.03</td>\n",
              "      <td>0.05</td>\n",
              "      <td>-2.01</td>\n",
              "      <td>-1</td>\n",
              "    </tr>\n",
              "    <tr>\n",
              "      <th>40325</th>\n",
              "      <td>itub</td>\n",
              "      <td>-2.12</td>\n",
              "      <td>-2.17</td>\n",
              "      <td>-2.11</td>\n",
              "      <td>-1.95</td>\n",
              "      <td>-1.78</td>\n",
              "      <td>-1.52</td>\n",
              "      <td>-1.31</td>\n",
              "      <td>-0.93</td>\n",
              "      <td>-0.41</td>\n",
              "      <td>-0.17</td>\n",
              "      <td>-0.06</td>\n",
              "      <td>-0.14</td>\n",
              "      <td>-0.18</td>\n",
              "      <td>-0.25</td>\n",
              "      <td>-0.35</td>\n",
              "      <td>-0.63</td>\n",
              "      <td>-0.96</td>\n",
              "      <td>-1.13</td>\n",
              "      <td>-1.24</td>\n",
              "      <td>-1.21</td>\n",
              "      <td>-1.37</td>\n",
              "      <td>-1.51</td>\n",
              "      <td>-1.56</td>\n",
              "      <td>-1.24</td>\n",
              "      <td>-0.83</td>\n",
              "      <td>-0.47</td>\n",
              "      <td>-0.10</td>\n",
              "      <td>0.26</td>\n",
              "      <td>0.72</td>\n",
              "      <td>1.18</td>\n",
              "      <td>1.52</td>\n",
              "      <td>1.48</td>\n",
              "      <td>1.40</td>\n",
              "      <td>1.31</td>\n",
              "      <td>1.14</td>\n",
              "      <td>0.99</td>\n",
              "      <td>0.71</td>\n",
              "      <td>0.42</td>\n",
              "      <td>0.25</td>\n",
              "      <td>...</td>\n",
              "      <td>-0.07</td>\n",
              "      <td>-0.06</td>\n",
              "      <td>-0.10</td>\n",
              "      <td>-0.12</td>\n",
              "      <td>-0.15</td>\n",
              "      <td>-0.13</td>\n",
              "      <td>-0.13</td>\n",
              "      <td>-0.11</td>\n",
              "      <td>-0.11</td>\n",
              "      <td>-0.11</td>\n",
              "      <td>-0.10</td>\n",
              "      <td>-0.06</td>\n",
              "      <td>-0.04</td>\n",
              "      <td>-0.01</td>\n",
              "      <td>0.04</td>\n",
              "      <td>0.01</td>\n",
              "      <td>-0.01</td>\n",
              "      <td>-0.03</td>\n",
              "      <td>-0.07</td>\n",
              "      <td>-0.10</td>\n",
              "      <td>-0.14</td>\n",
              "      <td>-0.17</td>\n",
              "      <td>-0.19</td>\n",
              "      <td>-0.21</td>\n",
              "      <td>-0.22</td>\n",
              "      <td>-0.17</td>\n",
              "      <td>-0.08</td>\n",
              "      <td>-0.00</td>\n",
              "      <td>-0.00</td>\n",
              "      <td>-0.02</td>\n",
              "      <td>-0.02</td>\n",
              "      <td>-0.02</td>\n",
              "      <td>-0.02</td>\n",
              "      <td>-0.01</td>\n",
              "      <td>-0.03</td>\n",
              "      <td>-0.05</td>\n",
              "      <td>-0.07</td>\n",
              "      <td>-0.07</td>\n",
              "      <td>5.51</td>\n",
              "      <td>1</td>\n",
              "    </tr>\n",
              "    <tr>\n",
              "      <th>72440</th>\n",
              "      <td>adsk</td>\n",
              "      <td>1.05</td>\n",
              "      <td>1.08</td>\n",
              "      <td>1.05</td>\n",
              "      <td>0.92</td>\n",
              "      <td>0.82</td>\n",
              "      <td>0.72</td>\n",
              "      <td>0.58</td>\n",
              "      <td>0.42</td>\n",
              "      <td>0.30</td>\n",
              "      <td>0.25</td>\n",
              "      <td>0.29</td>\n",
              "      <td>0.34</td>\n",
              "      <td>0.39</td>\n",
              "      <td>0.45</td>\n",
              "      <td>0.52</td>\n",
              "      <td>0.61</td>\n",
              "      <td>0.75</td>\n",
              "      <td>0.87</td>\n",
              "      <td>0.95</td>\n",
              "      <td>1.09</td>\n",
              "      <td>1.26</td>\n",
              "      <td>1.42</td>\n",
              "      <td>1.52</td>\n",
              "      <td>1.48</td>\n",
              "      <td>1.46</td>\n",
              "      <td>1.40</td>\n",
              "      <td>1.36</td>\n",
              "      <td>1.34</td>\n",
              "      <td>1.32</td>\n",
              "      <td>1.28</td>\n",
              "      <td>1.29</td>\n",
              "      <td>1.36</td>\n",
              "      <td>1.37</td>\n",
              "      <td>1.36</td>\n",
              "      <td>1.22</td>\n",
              "      <td>0.96</td>\n",
              "      <td>0.59</td>\n",
              "      <td>0.24</td>\n",
              "      <td>-0.07</td>\n",
              "      <td>...</td>\n",
              "      <td>-0.19</td>\n",
              "      <td>-0.25</td>\n",
              "      <td>-0.04</td>\n",
              "      <td>-0.16</td>\n",
              "      <td>-0.51</td>\n",
              "      <td>-0.65</td>\n",
              "      <td>-0.79</td>\n",
              "      <td>-0.72</td>\n",
              "      <td>-0.59</td>\n",
              "      <td>-0.61</td>\n",
              "      <td>-0.66</td>\n",
              "      <td>-0.89</td>\n",
              "      <td>-1.22</td>\n",
              "      <td>-1.26</td>\n",
              "      <td>-1.27</td>\n",
              "      <td>-0.90</td>\n",
              "      <td>-0.56</td>\n",
              "      <td>0.10</td>\n",
              "      <td>0.65</td>\n",
              "      <td>1.36</td>\n",
              "      <td>2.05</td>\n",
              "      <td>2.64</td>\n",
              "      <td>2.86</td>\n",
              "      <td>3.18</td>\n",
              "      <td>3.27</td>\n",
              "      <td>2.77</td>\n",
              "      <td>2.04</td>\n",
              "      <td>1.35</td>\n",
              "      <td>1.89</td>\n",
              "      <td>2.31</td>\n",
              "      <td>2.63</td>\n",
              "      <td>2.90</td>\n",
              "      <td>2.97</td>\n",
              "      <td>2.87</td>\n",
              "      <td>2.84</td>\n",
              "      <td>2.44</td>\n",
              "      <td>2.27</td>\n",
              "      <td>2.22</td>\n",
              "      <td>14.86</td>\n",
              "      <td>1</td>\n",
              "    </tr>\n",
              "  </tbody>\n",
              "</table>\n",
              "<p>5 rows × 126 columns</p>\n",
              "</div>"
            ],
            "text/plain": [
              "       stock     0     1     2     3     4  ...   119   120   121   122    rtn  mov\n",
              "38909   ssys -1.22 -1.24 -1.20 -1.09 -1.04  ...  0.06  0.15  0.15  0.16   0.92    1\n",
              "135309  meli  1.90  1.85  1.86  1.92  1.83  ... -0.20 -0.22  0.15  0.40   0.21    0\n",
              "7863    uri1 -3.82 -3.86 -3.66 -3.41 -3.10  ... -0.25 -0.07 -0.03  0.05  -2.01   -1\n",
              "40325   itub -2.12 -2.17 -2.11 -1.95 -1.78  ... -0.03 -0.05 -0.07 -0.07   5.51    1\n",
              "72440   adsk  1.05  1.08  1.05  0.92  0.82  ...  2.84  2.44  2.27  2.22  14.86    1\n",
              "\n",
              "[5 rows x 126 columns]"
            ]
          },
          "metadata": {
            "tags": []
          },
          "execution_count": 132
        }
      ]
    },
    {
      "cell_type": "code",
      "metadata": {
        "id": "qDS-BLcSqo9a",
        "colab_type": "code",
        "colab": {}
      },
      "source": [
        "# because repeating the same code for multiple times is so boring to me...\n",
        "def generating_train_test(df_gp):\n",
        "  \n",
        "  osc_gp = df_gp.iloc[:, 1:42]\n",
        "  stk_gp = df_gp.iloc[:, 42:83]\n",
        "  macd_gp = df_gp.iloc[:, 83:124]\n",
        "  \n",
        "  # convert data to array\n",
        "  samples_full = []\n",
        "  for i in range(osc_gp.shape[0]):\n",
        "    osc_list = osc_gp.iloc[i,:].tolist()\n",
        "    stk_list = stk_gp.iloc[i,:].tolist()\n",
        "    macd_list = macd_gp.iloc[i,:].tolist()\n",
        "    temp_array = np.array((osc_list, stk_list, macd_list), dtype=float)\n",
        "    samples_full.append(temp_array)\n",
        "  \n",
        "  #print(len(samples_full))\n",
        "  print(\"Now the data are converted to arrays\")\n",
        " \n",
        "  # get the index for validation set\n",
        "  index_val = sample(list(range(df_gp.shape[0])), int(df_gp.shape[0]*0.2))\n",
        "  # get the index for train set\n",
        "  index_train = list(set(list(range(df_gp.shape[0]))) - set(index_val))\n",
        "   \n",
        "  #print(\"Now We generated the index for train and validation\")\n",
        "  # get the train and validation\n",
        "  samples_y_full = df_gp[\"mov\"].tolist()\n",
        "  # the training dataset\n",
        "  sample_X_train = list(samples_full[i] for i in index_train)\n",
        "  sample_y_train = list(samples_y_full[i] for i in index_train)\n",
        "  sample_X_train = np.transpose(sample_X_train, (0,2,1))\n",
        "  \n",
        "  print(\"We finished the spliting and transposing of Training dataset\")\n",
        "\n",
        "  # the validation dataset\n",
        "  sample_X_val = list(samples_full[i] for i in index_val)\n",
        "  sample_y_val = list(samples_y_full[i] for i in index_val)\n",
        "  sample_X_val = np.transpose(sample_X_val, (0,2,1))\n",
        "  print(\"We finished the spliting and transposing of validation dataset\")\n",
        "\n",
        "  X_train = np.array(sample_X_train)\n",
        "  y_train = np.array(sample_y_train)\n",
        "  X_val = np.array(sample_X_val)\n",
        "  y_val = np.array(sample_y_val)\n",
        "\n",
        "  return X_train, y_train, X_val, y_val"
      ],
      "execution_count": 0,
      "outputs": []
    },
    {
      "cell_type": "code",
      "metadata": {
        "id": "zk6mCj9pqiqf",
        "colab_type": "code",
        "colab": {
          "base_uri": "https://localhost:8080/",
          "height": 68
        },
        "outputId": "9bd1475d-538e-4f84-c12f-be940c6ea83d"
      },
      "source": [
        "X_train, y_train, X_val, y_val = generating_train_test(df)"
      ],
      "execution_count": 134,
      "outputs": [
        {
          "output_type": "stream",
          "text": [
            "Now the data are converted to arrays\n",
            "We finished the spliting and transposing of Training dataset\n",
            "We finished the spliting and transposing of validation dataset\n"
          ],
          "name": "stdout"
        }
      ]
    },
    {
      "cell_type": "code",
      "metadata": {
        "id": "CNOyi8QMqKhw",
        "colab_type": "code",
        "colab": {
          "base_uri": "https://localhost:8080/",
          "height": 221
        },
        "outputId": "feeb3c77-541a-4509-afcf-723b5da25fad"
      },
      "source": [
        "model = Sequential()\n",
        "model.add(Conv1D(filters=64, kernel_size=3, activation='relu', input_shape = (41,3)))\n",
        "model.add(MaxPooling1D(pool_size=6))\n",
        "model.add(Flatten())\n",
        "model.add(Dense(50, activation='tanh'))\n",
        "# model.add(Dropout(0.3))\n",
        "model.add(Dense(50, activation='tanh'))\n",
        "model.add(Dense(1, activation='softmax'))\n",
        "model.compile(optimizer=\"adam\", loss='squared_hinge', metrics=['accuracy'])\n",
        "\n",
        "\n",
        "model.fit(X_train,y_train,\n",
        "      validation_data=(X_val,y_val),\n",
        "      epochs=5,\n",
        "      verbose=True) \n",
        "\n",
        "#df = pd.DataFrame(model.predict_classes(X_val), columns=[\"pre\"])\n",
        "#df[df[\"pre\"] >0]"
      ],
      "execution_count": 140,
      "outputs": [
        {
          "output_type": "stream",
          "text": [
            "Train on 151398 samples, validate on 37849 samples\n",
            "Epoch 1/5\n",
            "151398/151398 [==============================] - 20s 131us/step - loss: 1.3932 - acc: 0.1943 - val_loss: 1.3981 - val_acc: 0.1927\n",
            "Epoch 2/5\n",
            "151398/151398 [==============================] - 18s 118us/step - loss: 1.3932 - acc: 0.1943 - val_loss: 1.3981 - val_acc: 0.1927\n",
            "Epoch 3/5\n",
            "151398/151398 [==============================] - 19s 125us/step - loss: 1.3932 - acc: 0.1943 - val_loss: 1.3981 - val_acc: 0.1927\n",
            "Epoch 4/5\n",
            "151398/151398 [==============================] - 18s 121us/step - loss: 1.3932 - acc: 0.1943 - val_loss: 1.3981 - val_acc: 0.1927\n",
            "Epoch 5/5\n",
            "151398/151398 [==============================] - 18s 121us/step - loss: 1.3932 - acc: 0.1943 - val_loss: 1.3981 - val_acc: 0.1927\n"
          ],
          "name": "stdout"
        },
        {
          "output_type": "execute_result",
          "data": {
            "text/plain": [
              "<keras.callbacks.History at 0x7f11b75d15c0>"
            ]
          },
          "metadata": {
            "tags": []
          },
          "execution_count": 140
        }
      ]
    },
    {
      "cell_type": "markdown",
      "metadata": {
        "id": "JXSJZ7OF2t3t",
        "colab_type": "text"
      },
      "source": [
        "The model structure that works fine for binary prediction seems does not work at all for multiclass...need some time to train a new structure maybe?"
      ]
    },
    {
      "cell_type": "code",
      "metadata": {
        "id": "8ybPHVQE25fW",
        "colab_type": "code",
        "colab": {
          "base_uri": "https://localhost:8080/",
          "height": 153
        },
        "outputId": "743ebc12-510d-4fab-b7b9-7b8b5d4b0580"
      },
      "source": [
        "model = Sequential()\n",
        "model.add(Conv1D(filters=64, kernel_size=3, activation='relu', input_shape = (41,3)))\n",
        "model.add(MaxPooling1D(pool_size=3))\n",
        "model.add(Flatten())\n",
        "model.add(Dense(1, activation='tanh'))\n",
        "opt = SGD(lr=0.01, momentum=0.9)\n",
        "model.compile(loss='squared_hinge', optimizer=opt, metrics=['accuracy'])\n",
        "\n",
        "model.fit(X_train,y_train,\n",
        "      validation_data=(X_val,y_val),\n",
        "      epochs=3) \n",
        "\n"
      ],
      "execution_count": 145,
      "outputs": [
        {
          "output_type": "stream",
          "text": [
            "Train on 151398 samples, validate on 37849 samples\n",
            "Epoch 1/3\n",
            "151398/151398 [==============================] - 19s 128us/step - loss: 1.3932 - acc: 0.1943 - val_loss: 1.3981 - val_acc: 0.1927\n",
            "Epoch 2/3\n",
            "151398/151398 [==============================] - 17s 115us/step - loss: 1.3932 - acc: 0.1943 - val_loss: 1.3981 - val_acc: 0.1927\n",
            "Epoch 3/3\n",
            "151398/151398 [==============================] - 17s 115us/step - loss: 1.3932 - acc: 0.1943 - val_loss: 1.3981 - val_acc: 0.1927\n"
          ],
          "name": "stdout"
        },
        {
          "output_type": "execute_result",
          "data": {
            "text/plain": [
              "<keras.callbacks.History at 0x7f11b6bdbcc0>"
            ]
          },
          "metadata": {
            "tags": []
          },
          "execution_count": 145
        }
      ]
    },
    {
      "cell_type": "markdown",
      "metadata": {
        "id": "k4pAm23c6G7a",
        "colab_type": "text"
      },
      "source": [
        "# Introducing the sell data does not really help with the case..what about look sell data alone\n",
        "\n"
      ]
    },
    {
      "cell_type": "code",
      "metadata": {
        "id": "ce7jGxNC6GRt",
        "colab_type": "code",
        "colab": {
          "base_uri": "https://localhost:8080/",
          "height": 476
        },
        "outputId": "7f905046-514e-41fd-d8d3-6c6945b9c9a1"
      },
      "source": [
        "df_gp_sell = load_data(\"/content/gdrive/My Drive/sell/\")"
      ],
      "execution_count": 3,
      "outputs": [
        {
          "output_type": "stream",
          "text": [
            "Loading stock data: csiq ,\n",
            "Loading stock data: fslr ,\n",
            "Loading stock data: bidu ,\n",
            "Loading stock data: lvsS ,\n",
            "Loading stock data: uriS ,\n",
            "Loading stock data: masS ,\n",
            "Loading stock data: pxdS ,\n",
            "Loading stock data: crmS ,\n",
            "Loading stock data: crus ,\n",
            "Loading stock data: pruS ,\n",
            "Loading stock data: meli ,\n",
            "Loading stock data: cenx ,\n",
            "Loading stock data: ufsS ,\n",
            "Loading stock data: acad ,\n",
            "Loading stock data: amdS ,\n",
            "Loading stock data: dbSe ,\n",
            "Loading stock data: teck ,\n",
            "Loading stock data: alny ,\n",
            "Loading stock data: itub ,\n",
            "Loading stock data: atiS ,\n",
            "Loading stock data: adsk ,\n",
            "Loading stock data: ssys ,\n",
            "Loading stock data: ions ,\n",
            "Loading stock data: adbe ,\n",
            "Loading stock data: gsSe ,\n",
            "Loading stock data: clfS ,\n",
            "Loading stock data: bacS ,\n"
          ],
          "name": "stdout"
        }
      ]
    },
    {
      "cell_type": "code",
      "metadata": {
        "id": "Hv-5drjE74WL",
        "colab_type": "code",
        "colab": {}
      },
      "source": [
        "# because repeating the same code for multiple times is so boring to me...\n",
        "def generating_train_test(df_gp):\n",
        "  \n",
        "  osc_gp = df_gp.iloc[:, 1:42]\n",
        "  stk_gp = df_gp.iloc[:, 42:83]\n",
        "  macd_gp = df_gp.iloc[:, 83:124]\n",
        "  rtn_gp = df_gp.iloc[:, 124]\n",
        "  label_gp = np.sign(rtn_gp)\n",
        "  label_gp = label_gp.map({1: 1, -1: 0, 0:0})\n",
        "  results_gp = label_gp.map({1: 'EARN', 0: 'LOSS'})\n",
        "  label_gp = pd.DataFrame({\"label\": label_gp})\n",
        "  \n",
        "  print(\"Starting converting data to arrays\")\n",
        "  # convert data to array\n",
        "  samples_full = []\n",
        "  for i in range(osc_gp.shape[0]):\n",
        "    osc_list = osc_gp.iloc[i,:].tolist()\n",
        "    stk_list = stk_gp.iloc[i,:].tolist()\n",
        "    macd_list = macd_gp.iloc[i,:].tolist()\n",
        "    temp_array = np.array((osc_list, stk_list, macd_list), dtype=float)\n",
        "    samples_full.append(temp_array)\n",
        "  \n",
        "  #print(len(samples_full))\n",
        "  print(\"Now the data are converted to arrays\")\n",
        " \n",
        "  # get the index for validation set\n",
        "  index_val = sample(list(range(df_gp.shape[0])), int(df_gp.shape[0]*0.2))\n",
        "  # get the index for train set\n",
        "  index_train = list(set(list(range(df_gp.shape[0]))) - set(index_val))\n",
        "   \n",
        "  print(\"Now We generated the index for train and validation\")\n",
        "  # get the train and validation\n",
        "  sample_y_full = label_gp[\"label\"].tolist()\n",
        "  # the training dataset\n",
        "  sample_X_train = list(samples_full[i] for i in index_train)\n",
        "  sample_y_train = list(sample_y_full[i] for i in index_train)\n",
        "  sample_X_train = np.transpose(sample_X_train, (0,2,1))\n",
        "  \n",
        "  print(\"We finished the spliting and transposing of Training dataset\")\n",
        "\n",
        "  # the validation dataset\n",
        "  sample_X_val = list(samples_full[i] for i in index_val)\n",
        "  sample_y_val = list(sample_y_full[i] for i in index_val)\n",
        "  sample_X_val = np.transpose(sample_X_val, (0,2,1))\n",
        "  print(\"We finished the spliting and transposing of validation dataset\")\n",
        "\n",
        "  X_train = np.array(sample_X_train)\n",
        "  y_train = np.array(sample_y_train)\n",
        "  X_val = np.array(sample_X_val)\n",
        "  y_val = np.array(sample_y_val)\n",
        "\n",
        "  return X_train, y_train, X_val, y_val"
      ],
      "execution_count": 0,
      "outputs": []
    },
    {
      "cell_type": "code",
      "metadata": {
        "id": "ppQ2RHYf6lML",
        "colab_type": "code",
        "colab": {
          "base_uri": "https://localhost:8080/",
          "height": 102
        },
        "outputId": "e14396be-ab5a-4a94-df09-3a81ad35e862"
      },
      "source": [
        "X_train, y_train, X_val, y_val = generating_train_test(df_gp_sell)"
      ],
      "execution_count": 151,
      "outputs": [
        {
          "output_type": "stream",
          "text": [
            "Starting converting data to arrays\n",
            "Now the data are converted to arrays\n",
            "Now We generated the index for train and validation\n",
            "We finished the spliting and transposing of Training dataset\n",
            "We finished the spliting and transposing of validation dataset\n"
          ],
          "name": "stdout"
        }
      ]
    },
    {
      "cell_type": "code",
      "metadata": {
        "id": "FnZajeMM8LMv",
        "colab_type": "code",
        "colab": {
          "base_uri": "https://localhost:8080/",
          "height": 850
        },
        "outputId": "71a73e3f-b13b-4d83-8c81-1d28888891dd"
      },
      "source": [
        "model = Sequential()\n",
        "model.add(Conv1D(filters=64, kernel_size=3, activation='relu', input_shape = (41,3)))\n",
        "model.add(MaxPooling1D(pool_size=2))\n",
        "model.add(Flatten())\n",
        "model.add(Dense(200, activation='relu'))\n",
        "# model.add(Dropout(0.3))\n",
        "model.add(Dense(200, activation='relu'))\n",
        "model.add(Dense(1, activation='sigmoid'))\n",
        "model.compile(optimizer=\"nadam\", loss='binary_crossentropy', metrics=['accuracy'])\n",
        "\n",
        "\n",
        "model.fit(X_train,y_train,\n",
        "      validation_data=(X_val,y_val),\n",
        "      epochs=3,\n",
        "      verbose=True) \n",
        "\n",
        "df = pd.DataFrame(model.predict_classes(X_val), columns=[\"pre\"])\n",
        "df[df[\"pre\"] >0]"
      ],
      "execution_count": 152,
      "outputs": [
        {
          "output_type": "stream",
          "text": [
            "Train on 82043 samples, validate on 20510 samples\n",
            "Epoch 1/3\n",
            "82043/82043 [==============================] - 28s 344us/step - loss: 0.7509 - acc: 0.5969 - val_loss: 0.6754 - val_acc: 0.5951\n",
            "Epoch 2/3\n",
            "82043/82043 [==============================] - 25s 305us/step - loss: 0.6738 - acc: 0.6006 - val_loss: 0.6758 - val_acc: 0.5944\n",
            "Epoch 3/3\n",
            "82043/82043 [==============================] - 25s 301us/step - loss: 0.6744 - acc: 0.6007 - val_loss: 0.6755 - val_acc: 0.5945\n"
          ],
          "name": "stdout"
        },
        {
          "output_type": "execute_result",
          "data": {
            "text/html": [
              "<div>\n",
              "<style scoped>\n",
              "    .dataframe tbody tr th:only-of-type {\n",
              "        vertical-align: middle;\n",
              "    }\n",
              "\n",
              "    .dataframe tbody tr th {\n",
              "        vertical-align: top;\n",
              "    }\n",
              "\n",
              "    .dataframe thead th {\n",
              "        text-align: right;\n",
              "    }\n",
              "</style>\n",
              "<table border=\"1\" class=\"dataframe\">\n",
              "  <thead>\n",
              "    <tr style=\"text-align: right;\">\n",
              "      <th></th>\n",
              "      <th>pre</th>\n",
              "    </tr>\n",
              "  </thead>\n",
              "  <tbody>\n",
              "    <tr>\n",
              "      <th>2210</th>\n",
              "      <td>1</td>\n",
              "    </tr>\n",
              "    <tr>\n",
              "      <th>3500</th>\n",
              "      <td>1</td>\n",
              "    </tr>\n",
              "    <tr>\n",
              "      <th>4566</th>\n",
              "      <td>1</td>\n",
              "    </tr>\n",
              "    <tr>\n",
              "      <th>4990</th>\n",
              "      <td>1</td>\n",
              "    </tr>\n",
              "    <tr>\n",
              "      <th>5685</th>\n",
              "      <td>1</td>\n",
              "    </tr>\n",
              "    <tr>\n",
              "      <th>6502</th>\n",
              "      <td>1</td>\n",
              "    </tr>\n",
              "    <tr>\n",
              "      <th>7538</th>\n",
              "      <td>1</td>\n",
              "    </tr>\n",
              "    <tr>\n",
              "      <th>8078</th>\n",
              "      <td>1</td>\n",
              "    </tr>\n",
              "    <tr>\n",
              "      <th>9543</th>\n",
              "      <td>1</td>\n",
              "    </tr>\n",
              "    <tr>\n",
              "      <th>11064</th>\n",
              "      <td>1</td>\n",
              "    </tr>\n",
              "    <tr>\n",
              "      <th>11410</th>\n",
              "      <td>1</td>\n",
              "    </tr>\n",
              "    <tr>\n",
              "      <th>11587</th>\n",
              "      <td>1</td>\n",
              "    </tr>\n",
              "    <tr>\n",
              "      <th>11603</th>\n",
              "      <td>1</td>\n",
              "    </tr>\n",
              "    <tr>\n",
              "      <th>11736</th>\n",
              "      <td>1</td>\n",
              "    </tr>\n",
              "    <tr>\n",
              "      <th>14089</th>\n",
              "      <td>1</td>\n",
              "    </tr>\n",
              "    <tr>\n",
              "      <th>15610</th>\n",
              "      <td>1</td>\n",
              "    </tr>\n",
              "    <tr>\n",
              "      <th>15895</th>\n",
              "      <td>1</td>\n",
              "    </tr>\n",
              "    <tr>\n",
              "      <th>17282</th>\n",
              "      <td>1</td>\n",
              "    </tr>\n",
              "    <tr>\n",
              "      <th>17966</th>\n",
              "      <td>1</td>\n",
              "    </tr>\n",
              "    <tr>\n",
              "      <th>19143</th>\n",
              "      <td>1</td>\n",
              "    </tr>\n",
              "    <tr>\n",
              "      <th>19665</th>\n",
              "      <td>1</td>\n",
              "    </tr>\n",
              "    <tr>\n",
              "      <th>19945</th>\n",
              "      <td>1</td>\n",
              "    </tr>\n",
              "  </tbody>\n",
              "</table>\n",
              "</div>"
            ],
            "text/plain": [
              "       pre\n",
              "2210     1\n",
              "3500     1\n",
              "4566     1\n",
              "4990     1\n",
              "5685     1\n",
              "6502     1\n",
              "7538     1\n",
              "8078     1\n",
              "9543     1\n",
              "11064    1\n",
              "11410    1\n",
              "11587    1\n",
              "11603    1\n",
              "11736    1\n",
              "14089    1\n",
              "15610    1\n",
              "15895    1\n",
              "17282    1\n",
              "17966    1\n",
              "19143    1\n",
              "19665    1\n",
              "19945    1"
            ]
          },
          "metadata": {
            "tags": []
          },
          "execution_count": 152
        }
      ]
    },
    {
      "cell_type": "markdown",
      "metadata": {
        "id": "v8ofTqyp8wC1",
        "colab_type": "text"
      },
      "source": [
        "# conclusion:\n",
        "\n",
        "As demonstrated above, the model works seperately instead of combining."
      ]
    },
    {
      "cell_type": "markdown",
      "metadata": {
        "id": "sUmTCVqI8_W9",
        "colab_type": "text"
      },
      "source": [
        "# We then can further explore the predicted results\n",
        "## For Buy data\n",
        "\n",
        "previous results lost due to internet disconnect...poor google colab...so start from reading data again"
      ]
    },
    {
      "cell_type": "code",
      "metadata": {
        "id": "6MzkAg8A89gG",
        "colab_type": "code",
        "colab": {
          "base_uri": "https://localhost:8080/",
          "height": 476
        },
        "outputId": "c2a0df80-f980-4cde-ea23-7f415e39d6bc"
      },
      "source": [
        "data_buy = load_data(\"/content/gdrive/My Drive/buy/\")"
      ],
      "execution_count": 4,
      "outputs": [
        {
          "output_type": "stream",
          "text": [
            "Loading stock data: adbe ,\n",
            "Loading stock data: ions ,\n",
            "Loading stock data: ssys ,\n",
            "Loading stock data: ati1 ,\n",
            "Loading stock data: itub ,\n",
            "Loading stock data: alny ,\n",
            "Loading stock data: pxd1 ,\n",
            "Loading stock data: ufs1 ,\n",
            "Loading stock data: bac1 ,\n",
            "Loading stock data: uri1 ,\n",
            "Loading stock data: clf1 ,\n",
            "Loading stock data: gs1B ,\n",
            "Loading stock data: jnpr ,\n",
            "Loading stock data: crm1 ,\n",
            "Loading stock data: mas1 ,\n",
            "Loading stock data: crus ,\n",
            "Loading stock data: pru1 ,\n",
            "Loading stock data: bidu ,\n",
            "Loading stock data: fslr ,\n",
            "Loading stock data: csiq ,\n",
            "Loading stock data: jec1 ,\n",
            "Loading stock data: db1B ,\n",
            "Loading stock data: acad ,\n",
            "Loading stock data: amd1 ,\n",
            "Loading stock data: cenx ,\n",
            "Loading stock data: teck ,\n",
            "Loading stock data: meli ,\n"
          ],
          "name": "stdout"
        }
      ]
    },
    {
      "cell_type": "code",
      "metadata": {
        "id": "-M4pHoD6-AhK",
        "colab_type": "code",
        "colab": {
          "base_uri": "https://localhost:8080/",
          "height": 102
        },
        "outputId": "588c0562-c079-459e-bd9d-08d8f86c39a2"
      },
      "source": [
        "X_train, y_train, X_val, y_val = generating_train_test(data_buy)"
      ],
      "execution_count": 24,
      "outputs": [
        {
          "output_type": "stream",
          "text": [
            "Starting converting data to arrays\n",
            "Now the data are converted to arrays\n",
            "Now We generated the index for train and validation\n",
            "We finished the spliting and transposing of Training dataset\n",
            "We finished the spliting and transposing of validation dataset\n"
          ],
          "name": "stdout"
        }
      ]
    },
    {
      "cell_type": "code",
      "metadata": {
        "id": "DinQTIR4-Rqi",
        "colab_type": "code",
        "colab": {
          "base_uri": "https://localhost:8080/",
          "height": 221
        },
        "outputId": "0bb5a8e2-409b-45d3-daa4-1166c4d21754"
      },
      "source": [
        "model = Sequential()\n",
        "model.add(Conv1D(filters=5, kernel_size=3, activation='relu', input_shape = (41,3)))\n",
        "model.add(MaxPooling1D(pool_size=2))\n",
        "model.add(Flatten())\n",
        "model.add(Dense(200, activation='relu'))\n",
        "# model.add(Dropout(0.3))\n",
        "model.add(Dense(164, activation='relu'))\n",
        "\n",
        "model.add(Dense(1, activation='relu'))\n",
        "model.compile(optimizer=\"adam\", loss='binary_crossentropy', metrics=['accuracy'])\n",
        "\n",
        "model.fit(X_train,y_train,\n",
        "      validation_data=(X_val,y_val),\n",
        "      epochs=5,\n",
        "      verbose=True) "
      ],
      "execution_count": 39,
      "outputs": [
        {
          "output_type": "stream",
          "text": [
            "Train on 81927 samples, validate on 20481 samples\n",
            "Epoch 1/5\n",
            "81927/81927 [==============================] - 11s 129us/step - loss: 6.5910 - acc: 0.5909 - val_loss: 6.6610 - val_acc: 0.5867\n",
            "Epoch 2/5\n",
            "81927/81927 [==============================] - 9s 115us/step - loss: 6.5929 - acc: 0.5910 - val_loss: 6.6610 - val_acc: 0.5867\n",
            "Epoch 3/5\n",
            "81927/81927 [==============================] - 9s 116us/step - loss: 6.5929 - acc: 0.5910 - val_loss: 6.6610 - val_acc: 0.5867\n",
            "Epoch 4/5\n",
            "81927/81927 [==============================] - 9s 116us/step - loss: 6.5929 - acc: 0.5910 - val_loss: 6.6610 - val_acc: 0.5867\n",
            "Epoch 5/5\n",
            "81927/81927 [==============================] - 9s 116us/step - loss: 6.5929 - acc: 0.5910 - val_loss: 6.6610 - val_acc: 0.5867\n"
          ],
          "name": "stdout"
        },
        {
          "output_type": "execute_result",
          "data": {
            "text/plain": [
              "<keras.callbacks.History at 0x7f93daa17c50>"
            ]
          },
          "metadata": {
            "tags": []
          },
          "execution_count": 39
        }
      ]
    },
    {
      "cell_type": "code",
      "metadata": {
        "id": "65hdHehM3SWQ",
        "colab_type": "code",
        "colab": {}
      },
      "source": [
        ""
      ],
      "execution_count": 0,
      "outputs": []
    },
    {
      "cell_type": "code",
      "metadata": {
        "id": "hT-TLpNSCwV8",
        "colab_type": "code",
        "colab": {}
      },
      "source": [
        "df = pd.DataFrame(model.predict(X_val), columns=[\"pre\"])\n",
        "df[\"true\"] = y_val"
      ],
      "execution_count": 0,
      "outputs": []
    },
    {
      "cell_type": "code",
      "metadata": {
        "id": "HAXSAJMn68eQ",
        "colab_type": "code",
        "colab": {}
      },
      "source": [
        ""
      ],
      "execution_count": 0,
      "outputs": []
    },
    {
      "cell_type": "markdown",
      "metadata": {
        "id": "7JwPhtym681E",
        "colab_type": "text"
      },
      "source": [
        "# Other things to try"
      ]
    },
    {
      "cell_type": "markdown",
      "metadata": {
        "id": "9R1qNgZJWwtJ",
        "colab_type": "text"
      },
      "source": [
        "1. We could explore the influence of data balancing to the train data\n",
        "2. We could explore the possibility of seting class weights\n",
        "3. We could explore the influence of data normalizing to the train data\n",
        "4. We could further explore the results with more detailed classification, greater upper, upper, average, lower, and great low by combining the sell data together"
      ]
    },
    {
      "cell_type": "code",
      "metadata": {
        "id": "we72wmYEkKsL",
        "colab_type": "code",
        "colab": {}
      },
      "source": [
        ""
      ],
      "execution_count": 0,
      "outputs": []
    },
    {
      "cell_type": "markdown",
      "metadata": {
        "id": "RMUNMGyoXdK8",
        "colab_type": "text"
      },
      "source": [
        "### Data balancing\n",
        "\n",
        "There are more loss than gain in the original dataset if we look"
      ]
    },
    {
      "cell_type": "code",
      "metadata": {
        "id": "XDe-Ne2tXlhr",
        "colab_type": "code",
        "colab": {
          "base_uri": "https://localhost:8080/",
          "height": 466
        },
        "outputId": "7165a857-ff28-43a8-fe78-106576465b0e"
      },
      "source": [
        "rtn_gp.hist(bins = 100)"
      ],
      "execution_count": 27,
      "outputs": [
        {
          "output_type": "execute_result",
          "data": {
            "text/plain": [
              "<matplotlib.axes._subplots.AxesSubplot at 0x7f11cbc57748>"
            ]
          },
          "metadata": {
            "tags": []
          },
          "execution_count": 27
        },
        {
          "output_type": "display_data",
          "data": {
            "image/png": "[encoded data removed]",
            "text/plain": [
              "<Figure size 748.8x514.8 with 1 Axes>"
            ]
          },
          "metadata": {
            "tags": []
          }
        }
      ]
    },
    {
      "cell_type": "code",
      "metadata": {
        "id": "_9OYbwWxYjio",
        "colab_type": "code",
        "colab": {
          "base_uri": "https://localhost:8080/",
          "height": 34
        },
        "outputId": "045405f6-2348-475e-e590-02598079eb63"
      },
      "source": [
        "print(\"The percentage of rtn lower than 0 is,\" ,sum(rtn_gp < 0)/rtn_gp.shape[0])"
      ],
      "execution_count": 28,
      "outputs": [
        {
          "output_type": "stream",
          "text": [
            "The percentage of rtn lower than 0 is, 0.5548101710803843\n"
          ],
          "name": "stdout"
        }
      ]
    },
    {
      "cell_type": "markdown",
      "metadata": {
        "id": "VzK_XlpaY3wc",
        "colab_type": "text"
      },
      "source": [
        "Thus we can see there are more returns is lower than 0. We can mannully balance the dataset."
      ]
    },
    {
      "cell_type": "code",
      "metadata": {
        "id": "yLy9jCtOY2ms",
        "colab_type": "code",
        "colab": {}
      },
      "source": [
        "from sklearn.utils import shuffle\n",
        "\n",
        "data_buy_pos = data_buy[data_buy[\"rtn\"] > 0]\n",
        "data_buy_neg = data_buy[data_buy[\"rtn\"] <= 0]\n",
        "#print(\"gain len\", data_buy_pos.shape[0])\n",
        "#print(\"loss len\", data_buy_neg.shape[0])\n",
        "\n",
        "data_buy_pos_sub = data_buy_pos\n",
        "data_buy_neg_sub = data_buy_neg.sample(n = data_buy_pos.shape[0])\n",
        "\n",
        "data_balance = data_buy_pos_sub.append(data_buy_neg_sub, ignore_index=True)\n",
        "data_balance = shuffle(data_balance)\n",
        "#data_combine = data_combine.reset_index(drop = True)\n",
        "#data_combine"
      ],
      "execution_count": 0,
      "outputs": []
    },
    {
      "cell_type": "markdown",
      "metadata": {
        "id": "fUk4zVfTZbMT",
        "colab_type": "text"
      },
      "source": [
        "Here, instead of df_gp, we have data_ban as our new dataset and all the classes are balanced.\\\n",
        "\\"
      ]
    },
    {
      "cell_type": "code",
      "metadata": {
        "id": "yFDDexRQXcWa",
        "colab_type": "code",
        "colab": {}
      },
      "source": [
        "# because repeating the same code for multiple times is so boring to me...\n",
        "def generating_train_test(df_gp):\n",
        "  \n",
        "  osc_gp = df_gp.iloc[:, 1:42]\n",
        "  stk_gp = df_gp.iloc[:, 42:83]\n",
        "  macd_gp = df_gp.iloc[:, 83:124]\n",
        "  rtn_gp = df_gp.iloc[:, 124]\n",
        "  label_gp = np.sign(rtn_gp)\n",
        "  label_gp = label_gp.map({1: 1, -1: 0, 0:0})\n",
        "  results_gp = label_gp.map({1: 'EARN', 0: 'LOSS'})\n",
        "  label_gp = pd.DataFrame({\"label\": label_gp})\n",
        "  \n",
        "  print(\"Starting converting data to arrays\")\n",
        "  # convert data to array\n",
        "  samples_full = []\n",
        "  for i in range(osc_gp.shape[0]):\n",
        "    osc_list = osc_gp.iloc[i,:].tolist()\n",
        "    stk_list = stk_gp.iloc[i,:].tolist()\n",
        "    macd_list = macd_gp.iloc[i,:].tolist()\n",
        "    temp_array = np.array((osc_list, stk_list, macd_list), dtype=float)\n",
        "    samples_full.append(temp_array)\n",
        "  \n",
        "  #print(len(samples_full))\n",
        "  print(\"Now the data are converted to arrays\")\n",
        " \n",
        "  # get the index for validation set\n",
        "  index_val = sample(list(range(df_gp.shape[0])), int(df_gp.shape[0]*0.2))\n",
        "  # get the index for train set\n",
        "  index_train = list(set(list(range(df_gp.shape[0]))) - set(index_val))\n",
        "   \n",
        "  print(\"Now We generated the index for train and validation\")\n",
        "  # get the train and validation\n",
        "  sample_y_full = label_gp[\"label\"].tolist()\n",
        "  # the training dataset\n",
        "  sample_X_train = list(samples_full[i] for i in index_train)\n",
        "  sample_y_train = list(sample_y_full[i] for i in index_train)\n",
        "  sample_X_train = np.transpose(sample_X_train, (0,2,1))\n",
        "  \n",
        "  print(\"We finished the spliting and transposing of Training dataset\")\n",
        "\n",
        "  # the validation dataset\n",
        "  sample_X_val = list(samples_full[i] for i in index_val)\n",
        "  sample_y_val = list(sample_y_full[i] for i in index_val)\n",
        "  # what if we do not use the transpose\n",
        "  sample_X_val = np.transpose(sample_X_val, (0,2,1))\n",
        "  print(\"We finished the spliting and transposing of validation dataset\")\n",
        "\n",
        "  X_train = np.array(sample_X_train)\n",
        "  y_train = np.array(sample_y_train)\n",
        "  X_val = np.array(sample_X_val)\n",
        "  y_val = np.array(sample_y_val)\n",
        "\n",
        "  return X_train, y_train, X_val, y_val"
      ],
      "execution_count": 0,
      "outputs": []
    },
    {
      "cell_type": "code",
      "metadata": {
        "id": "iPvN-GJGbVM7",
        "colab_type": "code",
        "colab": {
          "base_uri": "https://localhost:8080/",
          "height": 102
        },
        "outputId": "9e4c9e86-e976-416a-89da-36a5e1ff3363"
      },
      "source": [
        "# for the balanced datase\n",
        "X_train, y_train, X_val, y_val = generating_train_test(data_balance)"
      ],
      "execution_count": 87,
      "outputs": [
        {
          "output_type": "stream",
          "text": [
            "Starting converting data to arrays\n",
            "Now the data are converted to arrays\n",
            "Now We generated the index for train and validation\n",
            "We finished the spliting and transposing of Training dataset\n",
            "We finished the spliting and transposing of validation dataset\n"
          ],
          "name": "stdout"
        }
      ]
    },
    {
      "cell_type": "markdown",
      "metadata": {
        "id": "STkiPuAObSzt",
        "colab_type": "text"
      },
      "source": [
        "We will use the same model setting and to explore the difference"
      ]
    },
    {
      "cell_type": "code",
      "metadata": {
        "id": "mHuMup1Vd0Kj",
        "colab_type": "code",
        "colab": {
          "base_uri": "https://localhost:8080/",
          "height": 221
        },
        "outputId": "c59ff61c-1f3f-44f1-efd3-e2fa74390c57"
      },
      "source": [
        "model = Sequential()\n",
        "model.add(Conv1D(filters=5, kernel_size=3, activation='relu', input_shape = (41,3)))\n",
        "model.add(MaxPooling1D(pool_size=2))\n",
        "model.add(Flatten())\n",
        "model.add(Dense(200, activation='relu'))\n",
        "# model.add(Dropout(0.3))\n",
        "model.add(Dense(164, activation='relu'))\n",
        "\n",
        "model.add(Dense(1, activation='relu'))\n",
        "model.compile(optimizer=\"adam\", loss='binary_crossentropy', metrics=['accuracy'])\n",
        " \n",
        "\n",
        "model.fit(X_train,y_train,\n",
        "      validation_data=(X_val,y_val),\n",
        "      epochs=5,\n",
        "      verbose=True) "
      ],
      "execution_count": 59,
      "outputs": [
        {
          "output_type": "stream",
          "text": [
            "Train on 67160 samples, validate on 16790 samples\n",
            "Epoch 1/5\n",
            "67160/67160 [==============================] - 10s 152us/step - loss: 8.0698 - acc: 0.4993 - val_loss: 8.0158 - val_acc: 0.5027\n",
            "Epoch 2/5\n",
            "67160/67160 [==============================] - 8s 123us/step - loss: 8.0698 - acc: 0.4993 - val_loss: 8.0158 - val_acc: 0.5027\n",
            "Epoch 3/5\n",
            "67160/67160 [==============================] - 8s 123us/step - loss: 8.0698 - acc: 0.4993 - val_loss: 8.0158 - val_acc: 0.5027\n",
            "Epoch 4/5\n",
            "67160/67160 [==============================] - 8s 124us/step - loss: 8.0698 - acc: 0.4993 - val_loss: 8.0158 - val_acc: 0.5027\n",
            "Epoch 5/5\n",
            "67160/67160 [==============================] - 8s 122us/step - loss: 8.0698 - acc: 0.4993 - val_loss: 8.0158 - val_acc: 0.5027\n"
          ],
          "name": "stdout"
        },
        {
          "output_type": "execute_result",
          "data": {
            "text/plain": [
              "<keras.callbacks.History at 0x7f93d731fdd8>"
            ]
          },
          "metadata": {
            "tags": []
          },
          "execution_count": 59
        }
      ]
    },
    {
      "cell_type": "code",
      "metadata": {
        "id": "751SLkrKdBiN",
        "colab_type": "code",
        "colab": {
          "base_uri": "https://localhost:8080/",
          "height": 49
        },
        "outputId": "0114bfac-0cd2-4c80-c70b-37d108dc1d92"
      },
      "source": [
        "df = pd.DataFrame(model.predict_classes(X_val), columns=[\"pre\"])\n",
        "df[df[\"pre\"] > 0]\n"
      ],
      "execution_count": 61,
      "outputs": [
        {
          "output_type": "execute_result",
          "data": {
            "text/html": [
              "<div>\n",
              "<style scoped>\n",
              "    .dataframe tbody tr th:only-of-type {\n",
              "        vertical-align: middle;\n",
              "    }\n",
              "\n",
              "    .dataframe tbody tr th {\n",
              "        vertical-align: top;\n",
              "    }\n",
              "\n",
              "    .dataframe thead th {\n",
              "        text-align: right;\n",
              "    }\n",
              "</style>\n",
              "<table border=\"1\" class=\"dataframe\">\n",
              "  <thead>\n",
              "    <tr style=\"text-align: right;\">\n",
              "      <th></th>\n",
              "      <th>pre</th>\n",
              "    </tr>\n",
              "  </thead>\n",
              "  <tbody>\n",
              "  </tbody>\n",
              "</table>\n",
              "</div>"
            ],
            "text/plain": [
              "Empty DataFrame\n",
              "Columns: [pre]\n",
              "Index: []"
            ]
          },
          "metadata": {
            "tags": []
          },
          "execution_count": 61
        }
      ]
    },
    {
      "cell_type": "markdown",
      "metadata": {
        "id": "smB_zpUkekF0",
        "colab_type": "text"
      },
      "source": [
        "After balancing the data, the model performance actually goes down...It could be because the original model is more intended to predict 0 instead of 1, and balancing actually reduce the useful data?"
      ]
    },
    {
      "cell_type": "markdown",
      "metadata": {
        "id": "KzAFtwbse394",
        "colab_type": "text"
      },
      "source": [
        "## What about defining different class weights"
      ]
    },
    {
      "cell_type": "code",
      "metadata": {
        "id": "l-s1Fc_ae2Ss",
        "colab_type": "code",
        "colab": {
          "base_uri": "https://localhost:8080/",
          "height": 102
        },
        "outputId": "e5b01c47-ade1-494d-d174-10148926e287"
      },
      "source": [
        "# We still using the original dataset (unbalanced one)\n",
        "\n",
        "X_train, y_train, X_val, y_val = generating_train_test(data_buy)"
      ],
      "execution_count": 88,
      "outputs": [
        {
          "output_type": "stream",
          "text": [
            "Starting converting data to arrays\n",
            "Now the data are converted to arrays\n",
            "Now We generated the index for train and validation\n",
            "We finished the spliting and transposing of Training dataset\n",
            "We finished the spliting and transposing of validation dataset\n"
          ],
          "name": "stdout"
        }
      ]
    },
    {
      "cell_type": "code",
      "metadata": {
        "id": "BVWrq68K97XF",
        "colab_type": "code",
        "colab": {}
      },
      "source": [
        "from sklearn.utils import class_weight\n",
        "class_weights = class_weight.compute_class_weight('balanced',\n",
        "                                                 np.unique(y_train),\n",
        "                                                 y_train)"
      ],
      "execution_count": 0,
      "outputs": []
    },
    {
      "cell_type": "code",
      "metadata": {
        "id": "cUU6cKPxfWVW",
        "colab_type": "code",
        "colab": {
          "base_uri": "https://localhost:8080/",
          "height": 391
        },
        "outputId": "d85c21ef-e32c-4550-a847-b20a1cf87ca4"
      },
      "source": [
        "model = Sequential()\n",
        "model.add(Conv1D(filters=164, kernel_size=3, activation='relu', input_shape = (41,3)))\n",
        "model.add(MaxPooling1D(pool_size=2))\n",
        "# model.add(Dropout(0.3))\n",
        "model.add(Flatten())\n",
        "model.add(Dense(50, activation='relu'))\n",
        "model.add(Dense(1, activation='sigmoid'))\n",
        "\n",
        "model.compile(optimizer=\"adam\", loss='binary_crossentropy', metrics=['accuracy'])\n",
        "\n",
        "model.fit(X_train,y_train,\n",
        "      validation_data=(X_val,y_val),\n",
        "      epochs=10,\n",
        "      batch_size=32,\n",
        "      verbose=True,\n",
        "      class_weight=class_weights) "
      ],
      "execution_count": 92,
      "outputs": [
        {
          "output_type": "stream",
          "text": [
            "Train on 81927 samples, validate on 20481 samples\n",
            "Epoch 1/10\n",
            "81927/81927 [==============================] - 24s 288us/step - loss: 0.7105 - acc: 0.5800 - val_loss: 0.6774 - val_acc: 0.5897\n",
            "Epoch 2/10\n",
            "81927/81927 [==============================] - 20s 249us/step - loss: 0.6766 - acc: 0.5896 - val_loss: 0.6761 - val_acc: 0.5896\n",
            "Epoch 3/10\n",
            "81927/81927 [==============================] - 20s 247us/step - loss: 0.6764 - acc: 0.5899 - val_loss: 0.6757 - val_acc: 0.5896\n",
            "Epoch 4/10\n",
            "81927/81927 [==============================] - 20s 250us/step - loss: 0.6761 - acc: 0.5896 - val_loss: 0.6764 - val_acc: 0.5898\n",
            "Epoch 5/10\n",
            "81927/81927 [==============================] - 21s 251us/step - loss: 0.6760 - acc: 0.5901 - val_loss: 0.6766 - val_acc: 0.5898\n",
            "Epoch 6/10\n",
            "81927/81927 [==============================] - 20s 250us/step - loss: 0.6759 - acc: 0.5901 - val_loss: 0.6764 - val_acc: 0.5897\n",
            "Epoch 7/10\n",
            "81927/81927 [==============================] - 20s 250us/step - loss: 0.6759 - acc: 0.5900 - val_loss: 0.6760 - val_acc: 0.5895\n",
            "Epoch 8/10\n",
            "81927/81927 [==============================] - 20s 246us/step - loss: 0.6759 - acc: 0.5903 - val_loss: 0.6756 - val_acc: 0.5899\n",
            "Epoch 9/10\n",
            "81927/81927 [==============================] - 21s 251us/step - loss: 0.6756 - acc: 0.5902 - val_loss: 0.6797 - val_acc: 0.5897\n",
            "Epoch 10/10\n",
            "81927/81927 [==============================] - 21s 259us/step - loss: 0.6758 - acc: 0.5902 - val_loss: 0.6763 - val_acc: 0.5897\n"
          ],
          "name": "stdout"
        },
        {
          "output_type": "execute_result",
          "data": {
            "text/plain": [
              "<keras.callbacks.History at 0x7f93d5020390>"
            ]
          },
          "metadata": {
            "tags": []
          },
          "execution_count": 92
        }
      ]
    },
    {
      "cell_type": "code",
      "metadata": {
        "id": "IWneUAP4kF7-",
        "colab_type": "code",
        "colab": {
          "base_uri": "https://localhost:8080/",
          "height": 1969
        },
        "outputId": "84d33507-9d2f-4d04-b1f1-cb257cfdac9a"
      },
      "source": [
        "df = pd.DataFrame(model.predict_classes(X_val), columns=[\"predication\"])\n",
        "df[\"true\"]\n",
        "df[df[\"predication\"] == 1]\n"
      ],
      "execution_count": 64,
      "outputs": [
        {
          "output_type": "execute_result",
          "data": {
            "text/html": [
              "<div>\n",
              "<style scoped>\n",
              "    .dataframe tbody tr th:only-of-type {\n",
              "        vertical-align: middle;\n",
              "    }\n",
              "\n",
              "    .dataframe tbody tr th {\n",
              "        vertical-align: top;\n",
              "    }\n",
              "\n",
              "    .dataframe thead th {\n",
              "        text-align: right;\n",
              "    }\n",
              "</style>\n",
              "<table border=\"1\" class=\"dataframe\">\n",
              "  <thead>\n",
              "    <tr style=\"text-align: right;\">\n",
              "      <th></th>\n",
              "      <th>predication</th>\n",
              "      <th>true</th>\n",
              "    </tr>\n",
              "  </thead>\n",
              "  <tbody>\n",
              "    <tr>\n",
              "      <th>0</th>\n",
              "      <td>1</td>\n",
              "      <td>1</td>\n",
              "    </tr>\n",
              "    <tr>\n",
              "      <th>1</th>\n",
              "      <td>1</td>\n",
              "      <td>1</td>\n",
              "    </tr>\n",
              "    <tr>\n",
              "      <th>2</th>\n",
              "      <td>1</td>\n",
              "      <td>0</td>\n",
              "    </tr>\n",
              "    <tr>\n",
              "      <th>3</th>\n",
              "      <td>1</td>\n",
              "      <td>0</td>\n",
              "    </tr>\n",
              "    <tr>\n",
              "      <th>4</th>\n",
              "      <td>1</td>\n",
              "      <td>0</td>\n",
              "    </tr>\n",
              "    <tr>\n",
              "      <th>5</th>\n",
              "      <td>1</td>\n",
              "      <td>1</td>\n",
              "    </tr>\n",
              "    <tr>\n",
              "      <th>6</th>\n",
              "      <td>1</td>\n",
              "      <td>0</td>\n",
              "    </tr>\n",
              "    <tr>\n",
              "      <th>7</th>\n",
              "      <td>1</td>\n",
              "      <td>1</td>\n",
              "    </tr>\n",
              "    <tr>\n",
              "      <th>8</th>\n",
              "      <td>1</td>\n",
              "      <td>1</td>\n",
              "    </tr>\n",
              "    <tr>\n",
              "      <th>9</th>\n",
              "      <td>1</td>\n",
              "      <td>0</td>\n",
              "    </tr>\n",
              "    <tr>\n",
              "      <th>10</th>\n",
              "      <td>1</td>\n",
              "      <td>0</td>\n",
              "    </tr>\n",
              "    <tr>\n",
              "      <th>11</th>\n",
              "      <td>1</td>\n",
              "      <td>0</td>\n",
              "    </tr>\n",
              "    <tr>\n",
              "      <th>12</th>\n",
              "      <td>1</td>\n",
              "      <td>1</td>\n",
              "    </tr>\n",
              "    <tr>\n",
              "      <th>13</th>\n",
              "      <td>1</td>\n",
              "      <td>1</td>\n",
              "    </tr>\n",
              "    <tr>\n",
              "      <th>14</th>\n",
              "      <td>1</td>\n",
              "      <td>0</td>\n",
              "    </tr>\n",
              "    <tr>\n",
              "      <th>15</th>\n",
              "      <td>1</td>\n",
              "      <td>0</td>\n",
              "    </tr>\n",
              "    <tr>\n",
              "      <th>16</th>\n",
              "      <td>1</td>\n",
              "      <td>1</td>\n",
              "    </tr>\n",
              "    <tr>\n",
              "      <th>17</th>\n",
              "      <td>1</td>\n",
              "      <td>0</td>\n",
              "    </tr>\n",
              "    <tr>\n",
              "      <th>18</th>\n",
              "      <td>1</td>\n",
              "      <td>0</td>\n",
              "    </tr>\n",
              "    <tr>\n",
              "      <th>19</th>\n",
              "      <td>1</td>\n",
              "      <td>0</td>\n",
              "    </tr>\n",
              "    <tr>\n",
              "      <th>20</th>\n",
              "      <td>1</td>\n",
              "      <td>0</td>\n",
              "    </tr>\n",
              "    <tr>\n",
              "      <th>21</th>\n",
              "      <td>1</td>\n",
              "      <td>0</td>\n",
              "    </tr>\n",
              "    <tr>\n",
              "      <th>22</th>\n",
              "      <td>1</td>\n",
              "      <td>1</td>\n",
              "    </tr>\n",
              "    <tr>\n",
              "      <th>23</th>\n",
              "      <td>1</td>\n",
              "      <td>1</td>\n",
              "    </tr>\n",
              "    <tr>\n",
              "      <th>24</th>\n",
              "      <td>1</td>\n",
              "      <td>0</td>\n",
              "    </tr>\n",
              "    <tr>\n",
              "      <th>25</th>\n",
              "      <td>1</td>\n",
              "      <td>0</td>\n",
              "    </tr>\n",
              "    <tr>\n",
              "      <th>26</th>\n",
              "      <td>1</td>\n",
              "      <td>0</td>\n",
              "    </tr>\n",
              "    <tr>\n",
              "      <th>27</th>\n",
              "      <td>1</td>\n",
              "      <td>0</td>\n",
              "    </tr>\n",
              "    <tr>\n",
              "      <th>28</th>\n",
              "      <td>1</td>\n",
              "      <td>0</td>\n",
              "    </tr>\n",
              "    <tr>\n",
              "      <th>29</th>\n",
              "      <td>1</td>\n",
              "      <td>1</td>\n",
              "    </tr>\n",
              "    <tr>\n",
              "      <th>...</th>\n",
              "      <td>...</td>\n",
              "      <td>...</td>\n",
              "    </tr>\n",
              "    <tr>\n",
              "      <th>16757</th>\n",
              "      <td>1</td>\n",
              "      <td>0</td>\n",
              "    </tr>\n",
              "    <tr>\n",
              "      <th>16758</th>\n",
              "      <td>1</td>\n",
              "      <td>1</td>\n",
              "    </tr>\n",
              "    <tr>\n",
              "      <th>16759</th>\n",
              "      <td>1</td>\n",
              "      <td>1</td>\n",
              "    </tr>\n",
              "    <tr>\n",
              "      <th>16760</th>\n",
              "      <td>1</td>\n",
              "      <td>0</td>\n",
              "    </tr>\n",
              "    <tr>\n",
              "      <th>16761</th>\n",
              "      <td>1</td>\n",
              "      <td>0</td>\n",
              "    </tr>\n",
              "    <tr>\n",
              "      <th>16762</th>\n",
              "      <td>1</td>\n",
              "      <td>0</td>\n",
              "    </tr>\n",
              "    <tr>\n",
              "      <th>16763</th>\n",
              "      <td>1</td>\n",
              "      <td>0</td>\n",
              "    </tr>\n",
              "    <tr>\n",
              "      <th>16764</th>\n",
              "      <td>1</td>\n",
              "      <td>1</td>\n",
              "    </tr>\n",
              "    <tr>\n",
              "      <th>16765</th>\n",
              "      <td>1</td>\n",
              "      <td>0</td>\n",
              "    </tr>\n",
              "    <tr>\n",
              "      <th>16766</th>\n",
              "      <td>1</td>\n",
              "      <td>0</td>\n",
              "    </tr>\n",
              "    <tr>\n",
              "      <th>16768</th>\n",
              "      <td>1</td>\n",
              "      <td>1</td>\n",
              "    </tr>\n",
              "    <tr>\n",
              "      <th>16769</th>\n",
              "      <td>1</td>\n",
              "      <td>0</td>\n",
              "    </tr>\n",
              "    <tr>\n",
              "      <th>16770</th>\n",
              "      <td>1</td>\n",
              "      <td>0</td>\n",
              "    </tr>\n",
              "    <tr>\n",
              "      <th>16771</th>\n",
              "      <td>1</td>\n",
              "      <td>1</td>\n",
              "    </tr>\n",
              "    <tr>\n",
              "      <th>16773</th>\n",
              "      <td>1</td>\n",
              "      <td>1</td>\n",
              "    </tr>\n",
              "    <tr>\n",
              "      <th>16774</th>\n",
              "      <td>1</td>\n",
              "      <td>1</td>\n",
              "    </tr>\n",
              "    <tr>\n",
              "      <th>16775</th>\n",
              "      <td>1</td>\n",
              "      <td>1</td>\n",
              "    </tr>\n",
              "    <tr>\n",
              "      <th>16776</th>\n",
              "      <td>1</td>\n",
              "      <td>1</td>\n",
              "    </tr>\n",
              "    <tr>\n",
              "      <th>16777</th>\n",
              "      <td>1</td>\n",
              "      <td>1</td>\n",
              "    </tr>\n",
              "    <tr>\n",
              "      <th>16778</th>\n",
              "      <td>1</td>\n",
              "      <td>1</td>\n",
              "    </tr>\n",
              "    <tr>\n",
              "      <th>16779</th>\n",
              "      <td>1</td>\n",
              "      <td>1</td>\n",
              "    </tr>\n",
              "    <tr>\n",
              "      <th>16780</th>\n",
              "      <td>1</td>\n",
              "      <td>0</td>\n",
              "    </tr>\n",
              "    <tr>\n",
              "      <th>16781</th>\n",
              "      <td>1</td>\n",
              "      <td>1</td>\n",
              "    </tr>\n",
              "    <tr>\n",
              "      <th>16782</th>\n",
              "      <td>1</td>\n",
              "      <td>1</td>\n",
              "    </tr>\n",
              "    <tr>\n",
              "      <th>16783</th>\n",
              "      <td>1</td>\n",
              "      <td>0</td>\n",
              "    </tr>\n",
              "    <tr>\n",
              "      <th>16784</th>\n",
              "      <td>1</td>\n",
              "      <td>1</td>\n",
              "    </tr>\n",
              "    <tr>\n",
              "      <th>16785</th>\n",
              "      <td>1</td>\n",
              "      <td>1</td>\n",
              "    </tr>\n",
              "    <tr>\n",
              "      <th>16786</th>\n",
              "      <td>1</td>\n",
              "      <td>0</td>\n",
              "    </tr>\n",
              "    <tr>\n",
              "      <th>16787</th>\n",
              "      <td>1</td>\n",
              "      <td>1</td>\n",
              "    </tr>\n",
              "    <tr>\n",
              "      <th>16788</th>\n",
              "      <td>1</td>\n",
              "      <td>0</td>\n",
              "    </tr>\n",
              "  </tbody>\n",
              "</table>\n",
              "<p>16364 rows × 2 columns</p>\n",
              "</div>"
            ],
            "text/plain": [
              "       predication  true\n",
              "0                1     1\n",
              "1                1     1\n",
              "2                1     0\n",
              "3                1     0\n",
              "4                1     0\n",
              "5                1     1\n",
              "6                1     0\n",
              "7                1     1\n",
              "8                1     1\n",
              "9                1     0\n",
              "10               1     0\n",
              "11               1     0\n",
              "12               1     1\n",
              "13               1     1\n",
              "14               1     0\n",
              "15               1     0\n",
              "16               1     1\n",
              "17               1     0\n",
              "18               1     0\n",
              "19               1     0\n",
              "20               1     0\n",
              "21               1     0\n",
              "22               1     1\n",
              "23               1     1\n",
              "24               1     0\n",
              "25               1     0\n",
              "26               1     0\n",
              "27               1     0\n",
              "28               1     0\n",
              "29               1     1\n",
              "...            ...   ...\n",
              "16757            1     0\n",
              "16758            1     1\n",
              "16759            1     1\n",
              "16760            1     0\n",
              "16761            1     0\n",
              "16762            1     0\n",
              "16763            1     0\n",
              "16764            1     1\n",
              "16765            1     0\n",
              "16766            1     0\n",
              "16768            1     1\n",
              "16769            1     0\n",
              "16770            1     0\n",
              "16771            1     1\n",
              "16773            1     1\n",
              "16774            1     1\n",
              "16775            1     1\n",
              "16776            1     1\n",
              "16777            1     1\n",
              "16778            1     1\n",
              "16779            1     1\n",
              "16780            1     0\n",
              "16781            1     1\n",
              "16782            1     1\n",
              "16783            1     0\n",
              "16784            1     1\n",
              "16785            1     1\n",
              "16786            1     0\n",
              "16787            1     1\n",
              "16788            1     0\n",
              "\n",
              "[16364 rows x 2 columns]"
            ]
          },
          "metadata": {
            "tags": []
          },
          "execution_count": 64
        }
      ]
    },
    {
      "cell_type": "code",
      "metadata": {
        "id": "3PmUSljbinIE",
        "colab_type": "code",
        "colab": {}
      },
      "source": [
        "# explore the prediction distribution\n"
      ],
      "execution_count": 0,
      "outputs": []
    },
    {
      "cell_type": "code",
      "metadata": {
        "id": "_bpGbSTEgaCf",
        "colab_type": "code",
        "colab": {
          "base_uri": "https://localhost:8080/",
          "height": 391
        },
        "outputId": "cedec88c-c097-4f3a-84cf-05df806a631e"
      },
      "source": [
        "# what if we put more weights in the 1 class\n",
        "class_weight = {0: 1.,\n",
        "                1: 2.}\n",
        "\n",
        "model = Sequential()\n",
        "model.add(Conv1D(filters=64, kernel_size=3, activation='relu', input_shape = (41,3)))\n",
        "model.add(MaxPooling1D(pool_size=2))\n",
        "model.add(Flatten())\n",
        "model.add(Dense(200, activation='relu'))\n",
        "# model.add(Dropout(0.3)) \n",
        "model.add(Dense(200, activation='relu'))\n",
        "model.add(Dense(1, activation='sigmoid'))\n",
        "model.compile(optimizer=\"adam\", loss='binary_crossentropy', metrics=['accuracy'])\n",
        "\n",
        "\n",
        "model.fit(X_train, y_train, \n",
        "          validation_data=(X_val,y_val),\n",
        "          epochs=10, \n",
        "          class_weight=class_weights)\n"
      ],
      "execution_count": 107,
      "outputs": [
        {
          "output_type": "stream",
          "text": [
            "Train on 81927 samples, validate on 20481 samples\n",
            "Epoch 1/10\n",
            "81927/81927 [==============================] - 26s 323us/step - loss: 0.7015 - acc: 0.5833 - val_loss: 0.6767 - val_acc: 0.5898\n",
            "Epoch 2/10\n",
            "81927/81927 [==============================] - 24s 290us/step - loss: 0.6772 - acc: 0.5894 - val_loss: 0.6759 - val_acc: 0.5898\n",
            "Epoch 3/10\n",
            "81927/81927 [==============================] - 23s 278us/step - loss: 0.6763 - acc: 0.5901 - val_loss: 0.6758 - val_acc: 0.5898\n",
            "Epoch 4/10\n",
            "81927/81927 [==============================] - 24s 289us/step - loss: 0.6764 - acc: 0.5900 - val_loss: 0.6756 - val_acc: 0.5897\n",
            "Epoch 5/10\n",
            "81927/81927 [==============================] - 24s 293us/step - loss: 0.6763 - acc: 0.5901 - val_loss: 0.6764 - val_acc: 0.5895\n",
            "Epoch 6/10\n",
            "81927/81927 [==============================] - 25s 299us/step - loss: 0.6762 - acc: 0.5901 - val_loss: 0.6757 - val_acc: 0.5896\n",
            "Epoch 7/10\n",
            "81927/81927 [==============================] - 24s 295us/step - loss: 0.6762 - acc: 0.5902 - val_loss: 0.6758 - val_acc: 0.5897\n",
            "Epoch 8/10\n",
            "81927/81927 [==============================] - 24s 297us/step - loss: 0.6760 - acc: 0.5901 - val_loss: 0.6757 - val_acc: 0.5898\n",
            "Epoch 9/10\n",
            "81927/81927 [==============================] - 24s 288us/step - loss: 0.6760 - acc: 0.5900 - val_loss: 0.6759 - val_acc: 0.5898\n",
            "Epoch 10/10\n",
            "81927/81927 [==============================] - 24s 290us/step - loss: 0.6760 - acc: 0.5901 - val_loss: 0.6760 - val_acc: 0.5898\n"
          ],
          "name": "stdout"
        },
        {
          "output_type": "execute_result",
          "data": {
            "text/plain": [
              "<keras.callbacks.History at 0x7f93d4d5c860>"
            ]
          },
          "metadata": {
            "tags": []
          },
          "execution_count": 107
        }
      ]
    },
    {
      "cell_type": "markdown",
      "metadata": {
        "id": "RUkfMPd2qhSB",
        "colab_type": "text"
      },
      "source": [
        "\n",
        "# Conv1d vs.Conv2d"
      ]
    },
    {
      "cell_type": "code",
      "metadata": {
        "id": "jc5Ntm1dHaVm",
        "colab_type": "code",
        "colab": {
          "base_uri": "https://localhost:8080/",
          "height": 221
        },
        "outputId": "3d1623bc-2816-43d1-f888-df88bf7c9782"
      },
      "source": [
        "model = Sequential()\n",
        "model.add(Conv1D(filters=64, kernel_size=3, activation='relu', input_shape = (41,3)))\n",
        "model.add(Conv1D(filters=64, kernel_size=3, activation='relu'))\n",
        "\n",
        "model.add(MaxPooling1D(pool_size=2))\n",
        "model.add(Flatten())\n",
        "model.add(Dense(200, activation='relu'))\n",
        "# model.add(Dropout(0.3)) \n",
        "model.add(Dense(1, activation='sigmoid'))\n",
        "model.compile(optimizer=\"adam\", loss='binary_crossentropy', metrics=['accuracy'])\n",
        "\n",
        "model.fit(X_train, y_train, \n",
        "          validation_data=(X_val,y_val),\n",
        "          epochs=5, \n",
        "          class_weight=class_weights)"
      ],
      "execution_count": 108,
      "outputs": [
        {
          "output_type": "stream",
          "text": [
            "Train on 81927 samples, validate on 20481 samples\n",
            "Epoch 1/5\n",
            "81927/81927 [==============================] - 34s 409us/step - loss: 0.6919 - acc: 0.5885 - val_loss: 0.6773 - val_acc: 0.5896\n",
            "Epoch 2/5\n",
            "81927/81927 [==============================] - 30s 362us/step - loss: 0.6767 - acc: 0.5900 - val_loss: 0.6761 - val_acc: 0.5898\n",
            "Epoch 3/5\n",
            "81927/81927 [==============================] - 29s 360us/step - loss: 0.6766 - acc: 0.5902 - val_loss: 0.6763 - val_acc: 0.5896\n",
            "Epoch 4/5\n",
            "81927/81927 [==============================] - 30s 367us/step - loss: 0.6761 - acc: 0.5902 - val_loss: 0.6755 - val_acc: 0.5897\n",
            "Epoch 5/5\n",
            "81927/81927 [==============================] - 30s 369us/step - loss: 0.6764 - acc: 0.5901 - val_loss: 0.6766 - val_acc: 0.5899\n"
          ],
          "name": "stdout"
        },
        {
          "output_type": "execute_result",
          "data": {
            "text/plain": [
              "<keras.callbacks.History at 0x7f93d4717400>"
            ]
          },
          "metadata": {
            "tags": []
          },
          "execution_count": 108
        }
      ]
    },
    {
      "cell_type": "code",
      "metadata": {
        "id": "9f0EeKwQCLbC",
        "colab_type": "code",
        "colab": {}
      },
      "source": [
        "# 2d doesnot really work for this case\n"
      ],
      "execution_count": 0,
      "outputs": []
    },
    {
      "cell_type": "markdown",
      "metadata": {
        "id": "64rcTzjUGMM0",
        "colab_type": "text"
      },
      "source": [
        "# Because this is time series, we could also add LSTM layer\n"
      ]
    },
    {
      "cell_type": "code",
      "metadata": {
        "id": "nRyPdwfoGLgn",
        "colab_type": "code",
        "colab": {
          "base_uri": "https://localhost:8080/",
          "height": 561
        },
        "outputId": "01fc9c97-6e01-4c4e-91c6-79d46f05441f"
      },
      "source": [
        "model = Sequential()\n",
        "model.add(Conv1D(filters=64, kernel_size=3, activation='relu', input_shape = (41,3)))\n",
        "model.add(Conv1D(filters=64, kernel_size=8, activation='relu'))\n",
        "model.add(LSTM(32, return_sequences=True))\n",
        "model.add(MaxPooling1D(pool_size=2))\n",
        "model.add(Flatten())\n",
        "model.add(Dense(200, activation='relu'))\n",
        "# model.add(Dropout(0.3)) \n",
        "model.add(Dense(1, activation='sigmoid'))\n",
        "model.compile(optimizer=\"adam\", loss='binary_crossentropy', metrics=['accuracy'])\n",
        "\n",
        "model.fit(X_train, y_train, \n",
        "          validation_data=(X_val,y_val),\n",
        "          epochs=5, \n",
        "          class_weight=class_weights)\n",
        "\n",
        "model.summary()"
      ],
      "execution_count": 109,
      "outputs": [
        {
          "output_type": "stream",
          "text": [
            "Train on 81927 samples, validate on 20481 samples\n",
            "Epoch 1/5\n",
            "81927/81927 [==============================] - 97s 1ms/step - loss: 0.6787 - acc: 0.5875 - val_loss: 0.6756 - val_acc: 0.5898\n",
            "Epoch 2/5\n",
            "81927/81927 [==============================] - 93s 1ms/step - loss: 0.6769 - acc: 0.5902 - val_loss: 0.6795 - val_acc: 0.5898\n",
            "Epoch 3/5\n",
            "81927/81927 [==============================] - 92s 1ms/step - loss: 0.6772 - acc: 0.5898 - val_loss: 0.6759 - val_acc: 0.5898\n",
            "Epoch 4/5\n",
            "81927/81927 [==============================] - 93s 1ms/step - loss: 0.6763 - acc: 0.5902 - val_loss: 0.6763 - val_acc: 0.5898\n",
            "Epoch 5/5\n",
            "81927/81927 [==============================] - 93s 1ms/step - loss: 0.6764 - acc: 0.5902 - val_loss: 0.6757 - val_acc: 0.5898\n",
            "_________________________________________________________________\n",
            "Layer (type)                 Output Shape              Param #   \n",
            "=================================================================\n",
            "conv1d_82 (Conv1D)           (None, 39, 64)            640       \n",
            "_________________________________________________________________\n",
            "conv1d_83 (Conv1D)           (None, 32, 64)            32832     \n",
            "_________________________________________________________________\n",
            "lstm_1 (LSTM)                (None, 32, 32)            12416     \n",
            "_________________________________________________________________\n",
            "max_pooling1d_43 (MaxPooling (None, 16, 32)            0         \n",
            "_________________________________________________________________\n",
            "flatten_35 (Flatten)         (None, 512)               0         \n",
            "_________________________________________________________________\n",
            "dense_113 (Dense)            (None, 200)               102600    \n",
            "_________________________________________________________________\n",
            "dense_114 (Dense)            (None, 1)                 201       \n",
            "=================================================================\n",
            "Total params: 148,689\n",
            "Trainable params: 148,689\n",
            "Non-trainable params: 0\n",
            "_________________________________________________________________\n"
          ],
          "name": "stdout"
        }
      ]
    },
    {
      "cell_type": "markdown",
      "metadata": {
        "id": "0VIn1Fc-INSk",
        "colab_type": "text"
      },
      "source": [
        "Ok, one last thing for today i want to try is **Normalizing** !"
      ]
    },
    {
      "cell_type": "markdown",
      "metadata": {
        "id": "XeUQOugDIakf",
        "colab_type": "text"
      },
      "source": [
        "# Normalizing\n",
        "\n",
        "Because the next step is concat, and too tired to write the normalizing code again...I just use the class obj defined before"
      ]
    },
    {
      "cell_type": "code",
      "metadata": {
        "id": "pM9BloacIcxb",
        "colab_type": "code",
        "colab": {}
      },
      "source": [
        "class OSC_analyzing_pipeline():\n",
        "    \n",
        "    \"\"\"\n",
        "    This class is designed and modified for the Seahorse program. It is applicable for Random Forest\n",
        "    Classifier originally.\n",
        "    \n",
        "    Attributes:\n",
        "    ----------------------------------------------------------------------------\n",
        "    self.data: the input dataset that we will be using for training and testing\n",
        "    self.model: the classifier we want to explore\n",
        "    self.osc_gp: subset for the oscillator data\n",
        "    * new addition: self.stk: subset for original stock data\n",
        "    self.macd_gp: subset for the macd data\n",
        "    self.rtn_gp: subset for the return values\n",
        "    self.label_gp: the output for training and testing (the reponse variable)\n",
        "    \n",
        "    self.psd\n",
        "    self.smooth\n",
        "    self.first_derivitive_macd\n",
        "    self.second_derivitive_macd\n",
        "    self.first_derivitive_osc\n",
        "    self.second_derivitive_osc\n",
        "    self.partial_smooth\n",
        "    \n",
        "    self.feature_result_df: the feature matrix and label generated from the feature_generator function, it can be used to visual which feature is participated in model training\n",
        "    self.X_train: to visual and further call the training dataset\n",
        "    self.X_test: to visual and further call the test dataset\n",
        "    self.y_train: to visual and further call the training dataset\n",
        "    self.y_test: to visual and further call the test dataset\n",
        "    \n",
        "    self.report: generate the report to compare the winning rate with the original test\n",
        "    The class object also contains all the attributes belongs to the model/classifier originally.\n",
        "    \n",
        "    Functions:\n",
        "    ----------------------------------------------------------------------------\n",
        "    * new addition: EDA_visualization(): function for visualization the record\n",
        "    psd_calculator(): function calculate the fft values, callable with return value to be visualized\n",
        "    smooth_calculator(): function for calculating the smoothness value, already modified and can handle the amplitude changes\n",
        "    derivative_calculator(): function for calculating the derivitive for macd and osc\n",
        "    features_generator(): function to decide which feature can be used in the final model training, the input is True/False for certain feature to be involved. In this function, all three function above will be called\n",
        "    model_train(): training the model based on the feature matrix\n",
        "    \n",
        "    \"\"\"\n",
        "    \n",
        "    # define the init\n",
        "    def __init__(self, data):\n",
        "        \"\"\"\n",
        "        Keyword argument:\n",
        "        data -- (df) the input dataset for processing\n",
        "        model -- (ML model) the classifier we are interested of, currently it is just the random forest\n",
        "        \"\"\"\n",
        "        self.data = data\n",
        "        \n",
        "        # seperate indicators and returns\n",
        "        # name_gp = df_gp.iloc[:, 0]\n",
        "        self.osc_gp = self.data.iloc[:, 1:42]\n",
        "        self.stk_gp = self.data.iloc[:, 42:83]\n",
        "        self.macd_gp = self.data.iloc[:, 83:124]\n",
        "        self.rtn_gp = self.data.iloc[:, 124]\n",
        "        self.label_gp = np.sign(self.rtn_gp)\n",
        "        self.label_gp = self.label_gp.map({1: 1, -1: 0, 0:0})\n",
        "        self.results_gp = self.label_gp.map({1: 'EARN', 0: 'LOSS'})\n",
        "        self.label_gp = pd.DataFrame({\"label\": self.label_gp})\n",
        "        \n",
        "    \n",
        "    def EDA_visualization(self, index, osc_ind = True, stk_ind = False, macd_ind = False):\n",
        "        if osc_ind:\n",
        "            # plot Oscillator\n",
        "            plt.figure(figsize=(12,4))\n",
        "            plt.plot(range(41),  self.osc_gp.iloc[index,:])\n",
        "            plt.gca().invert_xaxis()\n",
        "            plt.axhline(y=0.0, color = \"black\",linestyle='--')\n",
        "            plt.ylabel(\"Oscillator\")\n",
        "            plt.xlabel(\"Time\")\n",
        "            plt.title(\"Oscillator 3-Day Time Series\")\n",
        "            plt.show()\n",
        "        \n",
        "\n",
        "        if stk_ind:\n",
        "            # plot stock price\n",
        "            plt.figure(figsize=(12,4))\n",
        "            plt.plot(range(41), self.stk_gp.iloc[index,:])\n",
        "            plt.legend()\n",
        "            plt.gca().invert_xaxis()\n",
        "            plt.ylabel(\"Stock Price\")\n",
        "            plt.xlabel(\"Time\")\n",
        "            plt.title(\"Stock Price 3-Day Time Series\")\n",
        "            plt.show()\n",
        "    \n",
        "        if macd_ind:\n",
        "        # plot MACD\n",
        "            plt.figure(figsize=(12,4))\n",
        "            plt.plot(range(41),  self.macd_gp.iloc[index,:])\n",
        "            plt.legend()\n",
        "            plt.gca().invert_xaxis()\n",
        "            plt.axhline(y=0.0, color = \"black\",linestyle='--')\n",
        "            plt.ylabel(\"MACD\")\n",
        "            plt.xlabel(\"Time\")\n",
        "            plt.title(\"MACD 3-Day Time Series\")\n",
        "            plt.show()\n",
        "        \n",
        "    # define function for psd calculation\n",
        "    # define function to calculate smoothness more directly\n",
        "    def smooth_calculator(self):\n",
        "        smooth_list = []\n",
        "        for i in range(self.osc_gp.shape[0]):\n",
        "            amp = np.mean(abs(self.osc_gp.iloc[i,:]))\n",
        "            if amp == 0:\n",
        "                smooth_list.append(0)\n",
        "            else:\n",
        "                smooth_list.append(np.var(np.diff(self.osc_gp.iloc[i,:]))/amp)\n",
        "        \n",
        "        smooth = pd.DataFrame(smooth_list, columns=[\"smooth\"]) \n",
        "        smooth.index = self.osc_gp.index\n",
        "\n",
        "        return smooth\n",
        "    \n",
        "    # define the function to explore the influence of partial smoothness\n",
        "    def smooth_partial(self):\n",
        "        # get the nearest 10 points\n",
        "        osc_10 = self.osc_gp.iloc[:,-10:]\n",
        "        # calculate the smoothness of 10 points\n",
        "        smooth_10 = []\n",
        "        for i in range(osc_10.shape[0]):\n",
        "            amp = np.mean(abs(osc_10.iloc[i,:]))\n",
        "            if amp == 0:\n",
        "                smooth_10.append(0)\n",
        "            else:\n",
        "                smooth_10.append(np.var(np.diff(osc_10.iloc[i,:]))/amp)\n",
        "        \n",
        "        \n",
        "        # get the nearest 20 points\n",
        "        osc_20 = self.osc_gp.iloc[:,-20:]\n",
        "        smooth_20 = []\n",
        "        for i in range(osc_20.shape[0]):\n",
        "            amp = np.mean(abs(osc_20.iloc[i,:]))\n",
        "            if amp == 0:\n",
        "                smooth_20.append(0)\n",
        "            else:\n",
        "                smooth_20.append(np.var(np.diff(osc_20.iloc[i,:]))/(np.mean(abs(osc_20.iloc[i,:]))))\n",
        "        \n",
        "        # get the nearest 30 points\n",
        "        osc_30 = self.osc_gp.iloc[:,-30:]\n",
        "        smooth_30 = []\n",
        "        for i in range(osc_30.shape[0]):\n",
        "            amp = np.mean(abs(osc_30.iloc[i,:]))\n",
        "            if amp == 0:\n",
        "                smooth_30.append(0)\n",
        "            else:\n",
        "                smooth_30.append(np.var(np.diff(osc_30.iloc[i,:]))/(np.mean(abs(osc_30.iloc[i,:]))))\n",
        "        \n",
        "        partial_smooth = pd.DataFrame({\"smooth_10\": smooth_10,\n",
        "                                      \"smooth_20\": smooth_20,\n",
        "                                      \"smooth_30\": smooth_30,})\n",
        "        \n",
        "        partial_smooth.index = self.osc_gp.index\n",
        "        return partial_smooth\n",
        "    \n",
        "    def amp_standardize(self, osc_std = True, stk_std = True, macd_std = True):\n",
        "        \n",
        "        # standardize osc\n",
        "        if osc_std == True:\n",
        "            norm_osc = []\n",
        "            mean_amp = []\n",
        "    \n",
        "            for i in range(self.osc_gp.shape[0]):\n",
        "                mean_amp_temp = np.mean(abs(self.osc_gp.iloc[i,:]))\n",
        "                mean_amp.append(mean_amp_temp)\n",
        "                if mean_amp == 0: \n",
        "                    std = lambda x: x*mean_amp_temp\n",
        "                    norm_osc_temp_list = list(map(std, self.osc_gp.iloc[i,:].tolist()))\n",
        "                    norm_osc.append(norm_osc_temp_list)\n",
        "                else:\n",
        "                    std = lambda x: x/mean_amp_temp\n",
        "                    norm_osc_temp_list = list(map(std, self.osc_gp.iloc[i,:].tolist()))\n",
        "                    norm_osc.append(norm_osc_temp_list)\n",
        "            \n",
        "    \n",
        "            col_name = []\n",
        "            for i in range(len(norm_osc[0])):\n",
        "                col_name.append(\"std_osc\"+str(i))\n",
        "            \n",
        "            amp_osc = pd.DataFrame(norm_osc, columns=col_name)\n",
        "            amp_osc[\"mean_amp_osc\"] = mean_amp\n",
        "            amp_osc.index = self.osc_gp.index\n",
        "        \n",
        "        if stk_std == True:\n",
        "            norm_stk = []\n",
        "            mean_amp_stk = []\n",
        "            \n",
        "            for i in range(self.stk_gp.shape[0]):\n",
        "                mean_amp_temp = np.mean(abs(self.stk_gp.iloc[i,:]))\n",
        "                mean_amp_stk.append(mean_amp_temp)\n",
        "                if mean_amp_temp == 0:\n",
        "                    std = lambda x: x*mean_amp_temp\n",
        "                    norm_stk_temp_list = list(map(std, self.stk_gp.iloc[i,:].tolist()))\n",
        "                    norm_stk.append(norm_stk_temp_list)\n",
        "                else:\n",
        "                    std = lambda x: x/mean_amp_temp\n",
        "                    norm_stk_temp_list = list(map(std, self.stk_gp.iloc[i,:].tolist()))\n",
        "                    norm_stk.append(norm_stk_temp_list)\n",
        "                    \n",
        "            col_name = []\n",
        "            for i in range(len(norm_stk[0])):\n",
        "                col_name.append(\"std_stk\"+str(i))\n",
        "            \n",
        "            amp_stk = pd.DataFrame(norm_stk, columns=col_name)\n",
        "            amp_stk[\"mean_amp_stk\"] = mean_amp_stk\n",
        "            amp_stk.index = self.stk_gp.index\n",
        "        \n",
        "        if macd_std == True:\n",
        "            norm_macd = []\n",
        "            mean_amp_macd = []\n",
        "            \n",
        "            for i in range(self.macd_gp.shape[0]):\n",
        "                mean_amp_temp = np.mean(abs(self.macd_gp.iloc[i,:]))\n",
        "                mean_amp_macd.append(mean_amp_temp)\n",
        "                if mean_amp_temp == 0:\n",
        "                    std = lambda x: x*mean_amp_temp\n",
        "                    norm_macd_temp_list = list(map(std, self.macd_gp.iloc[i,:].tolist()))\n",
        "                    norm_macd.append(norm_macd_temp_list)\n",
        "                else:\n",
        "                    std = lambda x: x/mean_amp_temp\n",
        "                    norm_macd_temp_list = list(map(std, self.macd_gp.iloc[i,:].tolist()))\n",
        "                    norm_macd.append(norm_macd_temp_list)\n",
        "                    \n",
        "            col_name = []\n",
        "            for i in range(len(norm_stk[0])):\n",
        "                col_name.append(\"std_macd\"+str(i))\n",
        "            \n",
        "            amp_macd = pd.DataFrame(norm_macd, columns=col_name)\n",
        "            amp_macd[\"mean_amp_macd\"] = mean_amp_macd\n",
        "            amp_macd.index = self.macd_gp.index\n",
        "            \n",
        "        return amp_osc, amp_stk, amp_macd\n",
        "    \n",
        "    def first_derivative_calculator(self, space = 1, name = \"macd\"):\n",
        "        \n",
        "        \n",
        "        if name == \"macd\":\n",
        "            dy = []\n",
        "            for i in range(self.macd_gp.shape[0]):\n",
        "                y = pd.Series(self.macd_gp.iloc[i,:])\n",
        "                temp_dy = list(np.gradient(y, space))\n",
        "                dy.append(temp_dy)\n",
        "    \n",
        "            col_name = []\n",
        "            for i in range(self.macd_gp.shape[1]):\n",
        "                col_name.append(name + \"deriv\"+ str(i))\n",
        "        \n",
        "            deriv_df = pd.DataFrame(dy, columns=col_name) \n",
        "            deriv_df.index = self.macd_gp.index\n",
        "            \n",
        "        if name == \"osc\":\n",
        "            dy = []\n",
        "            for i in range(self.osc_gp.shape[0]):\n",
        "                y = pd.Series(self.osc_gp.iloc[i,:])\n",
        "                temp_dy = list(np.gradient(y, space))\n",
        "                dy.append(temp_dy)\n",
        "    \n",
        "            col_name = []\n",
        "            for i in range(self.osc_gp.shape[1]):\n",
        "                col_name.append(name + \"deriv\"+ str(i))\n",
        "        \n",
        "            deriv_df = pd.DataFrame(dy, columns=col_name) \n",
        "            deriv_df.index = self.osc_gp.index\n",
        "            \n",
        "        if name == \"stk\":\n",
        "            dy = []\n",
        "            for i in range(self.stk_gp.shape[0]):\n",
        "                y = pd.Series(self.stk_gp.iloc[i,:])\n",
        "                temp_dy = list(np.gradient(y, space))\n",
        "                dy.append(temp_dy)\n",
        "    \n",
        "            col_name = []\n",
        "            for i in range(self.stk_gp.shape[1]):\n",
        "                col_name.append(name + \"deriv\"+ str(i))\n",
        "        \n",
        "            deriv_df = pd.DataFrame(dy, columns=col_name) \n",
        "            deriv_df.index = self.stk_gp.index\n",
        "        return deriv_df\n",
        "    \n",
        "    def second_derivative_calculator(self, space = 1, name = \"macd\"):\n",
        "        \n",
        "        if name == \"macd\":\n",
        "            \n",
        "            ddy = []\n",
        "            for i in range(self.first_deriv_macd.shape[0]):\n",
        "                y = pd.Series(self.first_deriv_macd.iloc[i,:])\n",
        "                temp_ddy = list(np.gradient(y, space))\n",
        "                ddy.append(temp_ddy)\n",
        "    \n",
        "            col_name = []\n",
        "            for i in range(self.first_deriv_macd.shape[1]):\n",
        "                col_name.append(name + \"sec_deriv\"+ str(i))\n",
        "        \n",
        "            sec_deriv_df = pd.DataFrame(ddy, columns=col_name) \n",
        "            sec_deriv_df.index = self.first_deriv_macd.index\n",
        "        \n",
        "        if name == \"osc\":\n",
        "            \n",
        "            ddy = []\n",
        "            for i in range(self.first_deriv_osc.shape[0]):\n",
        "                y = pd.Series(self.first_deriv_osc.iloc[i,:])\n",
        "                temp_ddy = list(np.gradient(y, space))\n",
        "                ddy.append(temp_ddy)\n",
        "    \n",
        "            col_name = []\n",
        "            for i in range(self.first_deriv_osc.shape[1]):\n",
        "                col_name.append(name + \"sec_deriv\"+ str(i))\n",
        "        \n",
        "            sec_deriv_df = pd.DataFrame(ddy, columns=col_name) \n",
        "            sec_deriv_df.index = self.first_deriv_osc.index\n",
        "        \n",
        "        \n",
        "        return sec_deriv_df\n",
        "    \n",
        "    def var_stock_price(self):\n",
        "        variance_stk = []\n",
        "        for i in range(self.stk_gp.shape[0]):\n",
        "            variance_stk.append(np.var(self.stk_gp.iloc[i,:]))\n",
        "        \n",
        "        variance = pd.DataFrame(variance_stk, columns=[\"stk_variance\"]) \n",
        "        variance.index = self.stk_gp.index\n",
        "        \n",
        "        return variance\n",
        "    \n",
        "    def features_generator(self,\n",
        "                           base_features = True,\n",
        "                           smooth=True, \n",
        "                           standardize = True, \n",
        "                           curvature=True, \n",
        "                           derivative = True, \n",
        "                           partial_smooth = True, \n",
        "                           var_stk = True):\n",
        "    # Feature order:\n",
        "    # 0-40, osc;\n",
        "    # 41-81, stk;\n",
        "    # 82-122: macd;\n",
        "    # 123-173: freq\n",
        "    # 174: smooth\n",
        "    # 175-215: first derivitive of osc\n",
        "    # 216-256: second derivitive of osc\n",
        "    # 257-297: first derivitive of macd\n",
        "    # 297-338: second derivitive of macd\n",
        "    \n",
        "    \n",
        "        self.stock = pd.DataFrame(self.data.stock)\n",
        "        self.stock = pd.get_dummies(self.stock)\n",
        "        self.stock.index = self.data.stock.index\n",
        "        \n",
        "        Feature_matrix = self.data.iloc[:,1:-1]\n",
        "        Feature_matrix = pd.merge(Feature_matrix, self.stock, left_index=True, right_index=True)\n",
        "\n",
        "\n",
        "        \n",
        "        # print(Feature_matrix)\n",
        "        # Feature_matrix = pd.concat([Feature_matrix, psd_osc])\n",
        "    \n",
        "    # Factor for smoothness\n",
        "        if smooth==True:\n",
        "            print(\"now generating smoothness\")\n",
        "            self.smooth_osc = self.smooth_calculator()\n",
        "            Feature_matrix = pd.merge(Feature_matrix, self.smooth_osc, left_index=True, right_index=True)\n",
        "        \n",
        "        if standardize == True:\n",
        "            print(\"Normalizing the original osc, stk, macd\")\n",
        "            self.std_osc, self.std_stk, self.std_macd = self.amp_standardize()\n",
        "            Feature_matrix = pd.merge(Feature_matrix, self.std_osc, left_index=True, right_index=True)\n",
        "            Feature_matrix = pd.merge(Feature_matrix, self.std_stk, left_index=True, right_index=True)\n",
        "            Feature_matrix = pd.merge(Feature_matrix, self.std_macd, left_index=True, right_index=True)\n",
        "            \n",
        "            \n",
        "        \n",
        "    # Factor for curvature\n",
        "        if curvature == True:\n",
        "            print(\"now generating osc derivitives\")\n",
        "        # calculate the dy for osc (way to study curvature)\n",
        "            self.first_deriv_osc = self.first_derivative_calculator(name = \"osc\")\n",
        "            Feature_matrix = pd.merge(Feature_matrix, self.first_deriv_osc, left_index=True, right_index=True)\n",
        "        # calculate the ddy for osc\n",
        "            self.second_deriv_osc = self.second_derivative_calculator(name = \"osc\")\n",
        "            Feature_matrix = pd.merge(Feature_matrix, self.second_deriv_osc, left_index=True, right_index=True)\n",
        "        \n",
        "    # MACD dirivative\n",
        "        if derivative == True:\n",
        "            print(\"now generating first derivitives\")\n",
        "            # calculate the dy for macd\n",
        "            self.first_deriv_macd = self.first_derivative_calculator(name = \"macd\")\n",
        "            Feature_matrix = pd.merge(Feature_matrix, self.first_deriv_macd, left_index=True, right_index=True)\n",
        "        # calculate the ddy for macd\n",
        "            self.second_deriv_macd = self.second_derivative_calculator(name = \"macd\")\n",
        "            Feature_matrix = pd.merge(Feature_matrix, self.second_deriv_macd, left_index=True, right_index=True)\n",
        "        # Feature_matrix = pd.concat([Feature_matrix, first_deriv_macd,second_deriv_macd])\n",
        "            self.first_deriv_stk = self.first_derivative_calculator(name = \"stk\")\n",
        "        \n",
        "      \n",
        "    \n",
        "    # partial smoothness\n",
        "        if partial_smooth == True:\n",
        "            print(\"now generating partial smoothness\")\n",
        "            self.partial_smooth = self.smooth_partial()\n",
        "            Feature_matrix = pd.merge(Feature_matrix, self.partial_smooth, left_index=True, right_index=True)\n",
        "        \n",
        "         # variance of stk\n",
        "        if var_stk == True:\n",
        "            print(\"now generating stk volatility\")\n",
        "            self.variance_stk = self.var_stock_price()\n",
        "            Feature_matrix = pd.merge(Feature_matrix, self.variance_stk, left_index=True, right_index=True)\n",
        "        \n",
        "        if base_features == False:\n",
        "            Feature_matrix = Feature_matrix.iloc[:,:123]\n",
        "        \n",
        "        self.feature_result_df = pd.merge(Feature_matrix, self.label_gp, left_index=True, right_index=True)"
      ],
      "execution_count": 0,
      "outputs": []
    },
    {
      "cell_type": "code",
      "metadata": {
        "id": "zuD0tL-XI7bc",
        "colab_type": "code",
        "colab": {}
      },
      "source": [
        "data_buy_norm = OSC_analyzing_pipeline(data_buy)"
      ],
      "execution_count": 0,
      "outputs": []
    },
    {
      "cell_type": "code",
      "metadata": {
        "id": "3Ezf9531JCJg",
        "colab_type": "code",
        "colab": {
          "base_uri": "https://localhost:8080/",
          "height": 164
        },
        "outputId": "754c37f7-9933-4904-9885-de1976761b3a"
      },
      "source": [
        "data_buy_norm.features_generator(False, False, True, False, False,False, False)"
      ],
      "execution_count": 144,
      "outputs": [
        {
          "output_type": "error",
          "ename": "TypeError",
          "evalue": "ignored",
          "traceback": [
            "\u001b[0;31m---------------------------------------------------------------------------\u001b[0m",
            "\u001b[0;31mTypeError\u001b[0m                                 Traceback (most recent call last)",
            "\u001b[0;32m<ipython-input-144-2be5e91ba233>\u001b[0m in \u001b[0;36m<module>\u001b[0;34m()\u001b[0m\n\u001b[0;32m----> 1\u001b[0;31m \u001b[0mdata_buy_norm\u001b[0m\u001b[0;34m.\u001b[0m\u001b[0mfeatures_generator\u001b[0m\u001b[0;34m(\u001b[0m\u001b[0;32mFalse\u001b[0m\u001b[0;34m,\u001b[0m \u001b[0;32mFalse\u001b[0m\u001b[0;34m,\u001b[0m \u001b[0;32mFalse\u001b[0m\u001b[0;34m,\u001b[0m \u001b[0;32mTrue\u001b[0m\u001b[0;34m,\u001b[0m \u001b[0;32mFalse\u001b[0m\u001b[0;34m,\u001b[0m \u001b[0;32mFalse\u001b[0m\u001b[0;34m,\u001b[0m\u001b[0;32mFalse\u001b[0m\u001b[0;34m,\u001b[0m \u001b[0;32mFalse\u001b[0m\u001b[0;34m)\u001b[0m\u001b[0;34m\u001b[0m\u001b[0;34m\u001b[0m\u001b[0m\n\u001b[0m",
            "\u001b[0;31mTypeError\u001b[0m: features_generator() takes from 1 to 8 positional arguments but 9 were given"
          ]
        }
      ]
    },
    {
      "cell_type": "code",
      "metadata": {
        "id": "cK9onFW4My53",
        "colab_type": "code",
        "colab": {}
      },
      "source": [
        "std_macd = data_buy_norm.std_macd\n",
        "std_osc = data_buy_norm.std_osc\n",
        "std_stk = data_buy_norm.std_stk\n",
        "\n",
        "samples_full = []\n",
        "for i in range(std_osc.shape[0]):\n",
        "    osc_list = std_osc.iloc[i,:].tolist()\n",
        "    stk_list = std_stk.iloc[i,:].tolist()\n",
        "    macd_list = std_macd.iloc[i,:].tolist()\n",
        "    temp_array = np.array((osc_list, stk_list, macd_list), dtype=float)\n",
        "    samples_full.append(temp_array)\n",
        "    \n",
        "# get the index for validation set\n",
        "index_val = sample(list(range(std_macd.shape[0])), int(std_macd.shape[0]*0.2))\n",
        "# get the index for train set\n",
        "index_train = list(set(list(range(std_macd.shape[0]))) - set(index_val))\n",
        "\n",
        "\n",
        "# get the train and validation\n",
        "sample_y_full = data_buy_norm.label_gp[\"label\"].tolist()\n",
        "  # the training dataset\n",
        "sample_X_train = list(samples_full[i] for i in index_train)\n",
        "sample_y_train = list(sample_y_full[i] for i in index_train)\n",
        "sample_X_train = np.transpose(sample_X_train, (0,2,1))\n",
        "\n",
        "\n",
        "sample_X_val = list(samples_full[i] for i in index_val)\n",
        "sample_y_val = list(sample_y_full[i] for i in index_val)\n",
        "  # what if we do not use the transpose\n",
        "sample_X_val = np.transpose(sample_X_val, (0,2,1))\n",
        "\n",
        "\n",
        "X_train = np.array(sample_X_train)\n",
        "y_train = np.array(sample_y_train)\n",
        "X_val = np.array(sample_X_val)\n",
        "y_val = np.array(sample_y_val)\n",
        "\n"
      ],
      "execution_count": 0,
      "outputs": []
    },
    {
      "cell_type": "code",
      "metadata": {
        "id": "HlwF0rrvQk9c",
        "colab_type": "code",
        "colab": {
          "base_uri": "https://localhost:8080/",
          "height": 391
        },
        "outputId": "8a044a6d-79d7-4c39-fc6b-de747eef894c"
      },
      "source": [
        "model = Sequential()\n",
        "model.add(Conv1D(filters=164, kernel_size=3, activation='relu', input_shape = (42,3)))\n",
        "model.add(MaxPooling1D(pool_size=2))\n",
        "# model.add(Dropout(0.3))\n",
        "model.add(Flatten())\n",
        "model.add(Dense(50, activation='relu'))\n",
        "model.add(Dense(1, activation='sigmoid'))\n",
        "\n",
        "model.compile(optimizer=\"adam\", loss='binary_crossentropy', metrics=['accuracy'])\n",
        "\n",
        "model.fit(X_train,y_train,\n",
        "      validation_data=(X_val,y_val),\n",
        "      epochs=10,\n",
        "      batch_size=32,\n",
        "      verbose=True) "
      ],
      "execution_count": 139,
      "outputs": [
        {
          "output_type": "stream",
          "text": [
            "Train on 81927 samples, validate on 20481 samples\n",
            "Epoch 1/10\n",
            "81927/81927 [==============================] - 35s 428us/step - loss: 0.6793 - acc: 0.5890 - val_loss: 0.6772 - val_acc: 0.5865\n",
            "Epoch 2/10\n",
            "81927/81927 [==============================] - 31s 383us/step - loss: 0.6760 - acc: 0.5910 - val_loss: 0.6776 - val_acc: 0.5866\n",
            "Epoch 3/10\n",
            "81927/81927 [==============================] - 30s 367us/step - loss: 0.6755 - acc: 0.5911 - val_loss: 0.6772 - val_acc: 0.5866\n",
            "Epoch 4/10\n",
            "81927/81927 [==============================] - 30s 370us/step - loss: 0.6752 - acc: 0.5910 - val_loss: 0.6770 - val_acc: 0.5866\n",
            "Epoch 5/10\n",
            "81927/81927 [==============================] - 30s 368us/step - loss: 0.6750 - acc: 0.5911 - val_loss: 0.6774 - val_acc: 0.5866\n",
            "Epoch 6/10\n",
            "81927/81927 [==============================] - 28s 347us/step - loss: 0.6748 - acc: 0.5911 - val_loss: 0.6771 - val_acc: 0.5866\n",
            "Epoch 7/10\n",
            "81927/81927 [==============================] - 31s 377us/step - loss: 0.6748 - acc: 0.5911 - val_loss: 0.6777 - val_acc: 0.5866\n",
            "Epoch 8/10\n",
            "81927/81927 [==============================] - 30s 366us/step - loss: 0.6746 - acc: 0.5911 - val_loss: 0.6836 - val_acc: 0.5866\n",
            "Epoch 9/10\n",
            "81927/81927 [==============================] - 29s 354us/step - loss: 0.6746 - acc: 0.5911 - val_loss: 0.6783 - val_acc: 0.5866\n",
            "Epoch 10/10\n",
            "81927/81927 [==============================] - 30s 365us/step - loss: 0.6745 - acc: 0.5909 - val_loss: 0.6775 - val_acc: 0.5866\n"
          ],
          "name": "stdout"
        },
        {
          "output_type": "execute_result",
          "data": {
            "text/plain": [
              "<keras.callbacks.History at 0x7f93d15eae10>"
            ]
          },
          "metadata": {
            "tags": []
          },
          "execution_count": 139
        }
      ]
    },
    {
      "cell_type": "markdown",
      "metadata": {
        "id": "DC0PuZYMHym9",
        "colab_type": "text"
      },
      "source": [
        "# No, No, No!!! What about concat????"
      ]
    },
    {
      "cell_type": "markdown",
      "metadata": {
        "id": "I7PX5OKQS9vm",
        "colab_type": "text"
      },
      "source": [
        "There are other features we considered in other models, the psd, smoothness, first and second derivitive and so on. We could use those features to build the model seperately and concat them together. "
      ]
    },
    {
      "cell_type": "code",
      "metadata": {
        "id": "3GadYxoUGu1d",
        "colab_type": "code",
        "colab": {
          "base_uri": "https://localhost:8080/",
          "height": 119
        },
        "outputId": "e2a2137a-6417-4cfc-d87e-c1da099c7101"
      },
      "source": [
        "data_buy_norm.features_generator()"
      ],
      "execution_count": 153,
      "outputs": [
        {
          "output_type": "stream",
          "text": [
            "now generating smoothness\n",
            "Normalizing the original osc, stk, macd\n",
            "now generating osc derivitives\n",
            "now generating first derivitives\n",
            "now generating partial smoothness\n",
            "now generating stk volatility\n"
          ],
          "name": "stdout"
        }
      ]
    },
    {
      "cell_type": "code",
      "metadata": {
        "id": "FrZu6ZL1e3HG",
        "colab_type": "code",
        "colab": {
          "base_uri": "https://localhost:8080/",
          "height": 68
        },
        "outputId": "a6bc8e06-a92e-4880-c566-85a19b953e31"
      },
      "source": [
        "data_length = data_buy_norm.data.shape[0]\n",
        "# smoothness\n",
        "smoothness = data_buy_norm.smooth_osc\n",
        "\n",
        "print(\"start processing the basic\")\n",
        "# sample for original data\n",
        "samples_full_basic = []\n",
        "for i in range(data_buy_norm.osc_gp.shape[0]):\n",
        "    osc_list = data_buy_norm.osc_gp.iloc[i,:].tolist()\n",
        "    stk_list = data_buy_norm.stk_gp.iloc[i,:].tolist()\n",
        "    macd_list = data_buy_norm.macd_gp.iloc[i,:].tolist()\n",
        "    temp_array = np.array((osc_list, stk_list, macd_list), dtype=float)\n",
        "    samples_full_basic.append(temp_array)\n",
        "\n",
        "\n",
        "print(\"start processing the deriv\")\n",
        "\n",
        "# sample for first derivitives for those three time series\n",
        "samples_full_deriv = []\n",
        "for i in range(data_buy_norm.first_deriv_macd.shape[0]):\n",
        "    osc_list = data_buy_norm.first_deriv_osc.iloc[i,:].tolist()\n",
        "    stk_list = data_buy_norm.first_deriv_stk.iloc[i,:].tolist()\n",
        "    macd_list = data_buy_norm.first_deriv_macd.iloc[i,:].tolist()\n",
        "    temp_array = np.array((osc_list, stk_list, macd_list), dtype=float)\n",
        "    samples_full_deriv.append(temp_array)\n",
        "    \n",
        "print(\"start processing the norm\")\n",
        "\n",
        "# sample for normalizing data    \n",
        "samples_full_norm = []\n",
        "for i in range(data_buy_norm.std_osc.shape[0]):\n",
        "    osc_list = data_buy_norm.std_osc.iloc[i,:].tolist()\n",
        "    stk_list = data_buy_norm.std_stk.iloc[i,:].tolist()\n",
        "    macd_list = data_buy_norm.std_macd.iloc[i,:].tolist()\n",
        "    temp_array = np.array((osc_list, stk_list, macd_list), dtype=float)\n",
        "    samples_full_norm.append(temp_array)\n",
        "    \n",
        "\n"
      ],
      "execution_count": 156,
      "outputs": [
        {
          "output_type": "stream",
          "text": [
            "start processing the basic\n",
            "start processing the deriv\n",
            "start processing the norm\n"
          ],
          "name": "stdout"
        }
      ]
    },
    {
      "cell_type": "code",
      "metadata": {
        "id": "rmT5ruWcssfB",
        "colab_type": "code",
        "colab": {
          "base_uri": "https://localhost:8080/",
          "height": 119
        },
        "outputId": "743bf229-604f-4b9b-9530-a622a09cce01"
      },
      "source": [
        "print(\"creating index\")\n",
        "# get the index for validation set\n",
        "index_val = sample(list(range(data_length)), int(data_length*0.2))\n",
        "# get the index for train set\n",
        "index_train = list(set(list(range(data_length))) - set(index_val))\n",
        "\n",
        "\n",
        "print(\"train/test split for y\")\n",
        "# get the train and validation for y\n",
        "sample_y_full = data_buy_norm.label_gp[\"label\"].tolist()\n",
        "sample_y_train = list(sample_y_full[i] for i in index_train)\n",
        "sample_y_val = list(sample_y_full[i] for i in index_val)\n",
        "y_train = np.array(sample_y_train)\n",
        "y_val = np.array(sample_y_val)\n",
        "\n",
        "\n",
        "print(\"train/test split for sample_basic\")                   \n",
        "# the training dataset for original dataset_ basic three factor\n",
        "sample_X_train_basic = list(samples_full_basic[i] for i in index_train)\n",
        "sample_X_train_basic = np.transpose(sample_X_train_basic, (0,2,1))\n",
        "sample_X_val_basic = list(samples_full_basic[i] for i in index_val)\n",
        "# what if we do not use the transpose\n",
        "sample_X_val_basic = np.transpose(sample_X_val_basic, (0,2,1))\n",
        "X_train_basic = np.array(sample_X_train_basic)\n",
        "X_val_basic = np.array(sample_X_val_basic)\n",
        "\n",
        "print(\"train/test spilt for sample_norm\")\n",
        "# the training dataset for normalized dataset_ norm three factor\n",
        "sample_X_train_norm = list(samples_full_norm[i] for i in index_train)\n",
        "sample_X_train_norm = np.transpose(sample_X_train_norm, (0,2,1))\n",
        "sample_X_val_norm = list(samples_full_norm[i] for i in index_val)\n",
        "# what if we do not use the transpose\n",
        "sample_X_val_norm = np.transpose(sample_X_val_norm, (0,2,1))\n",
        "X_train_norm = np.array(sample_X_train_norm)\n",
        "X_val_norm = np.array(sample_X_val_norm)\n",
        "\n",
        "print(\"train/test spilt for sample_deriv\")\n",
        "\n",
        "# # the training dataset for derivative dataset_ deriv three factor\n",
        "sample_X_train_deriv = list(samples_full_deriv[i] for i in index_train)\n",
        "sample_X_train_deriv = np.transpose(sample_X_train_deriv, (0,2,1))\n",
        "sample_X_val_deriv = list(samples_full_deriv[i] for i in index_val)\n",
        "# what if we do not use the transpose\n",
        "sample_X_val_deriv = np.transpose(sample_X_val_deriv, (0,2,1))\n",
        "X_train_deriv = np.array(sample_X_train_deriv)\n",
        "X_val_deriv = np.array(sample_X_val_deriv)\n",
        "\n",
        "\n",
        "print(\"train/test spilt for sample_smooth\")\n",
        "\n",
        "# the train/test for smoothness data  \n",
        "sample_X_train_smooth = smoothness.ix[index_train]\n",
        "\n",
        "sample_X_val_smooth = smoothness.ix[index_val]\n",
        "# what if we do not use the transpose\n",
        "X_train_smooth = np.array(sample_X_train_smooth)\n",
        "X_val_smooth = np.array(sample_X_val_smooth)"
      ],
      "execution_count": 160,
      "outputs": [
        {
          "output_type": "stream",
          "text": [
            "creating index\n",
            "train/test split for y\n",
            "train/test split for sample_basic\n",
            "train/test spilt for sample_norm\n",
            "train/test spilt for sample_deriv\n",
            "train/test spilt for sample_smooth\n"
          ],
          "name": "stdout"
        }
      ]
    },
    {
      "cell_type": "code",
      "metadata": {
        "id": "Bj1HK8GnxeP1",
        "colab_type": "code",
        "colab": {
          "base_uri": "https://localhost:8080/",
          "height": 34
        },
        "outputId": "bf35fe45-c2dd-41b5-abf9-87428f002416"
      },
      "source": [
        "X_val_deriv.shape"
      ],
      "execution_count": 171,
      "outputs": [
        {
          "output_type": "execute_result",
          "data": {
            "text/plain": [
              "(20481, 41, 3)"
            ]
          },
          "metadata": {
            "tags": []
          },
          "execution_count": 171
        }
      ]
    },
    {
      "cell_type": "markdown",
      "metadata": {
        "id": "NcbxRPCouKu7",
        "colab_type": "text"
      },
      "source": [
        "Exam model for each feature individually"
      ]
    },
    {
      "cell_type": "code",
      "metadata": {
        "id": "diJn_mvxuJ-U",
        "colab_type": "code",
        "colab": {
          "base_uri": "https://localhost:8080/",
          "height": 221
        },
        "outputId": "91861274-5747-43d1-ef5d-32ad151c5df6"
      },
      "source": [
        "# for basic\n",
        "convnet_basic_ts = Sequential()\n",
        "convnet_basic_ts.add(Conv1D(filters=164, kernel_size=8, activation='relu', input_shape = (41,3)))\n",
        "convnet_basic_ts.add(MaxPooling1D(pool_size=2))\n",
        "convnet_basic_ts.add(Flatten())\n",
        "convnet_basic_ts.add(Dense(50, activation='relu'))\n",
        "convnet_basic_ts.add(Dense(1, activation='sigmoid'))\n",
        "\n",
        "convnet_basic_ts.compile(optimizer=\"adam\", loss='binary_crossentropy', metrics=['accuracy'])\n",
        "\n",
        "\n",
        "convnet_basic_ts.fit(\n",
        "    X_train_basic,y_train,\n",
        "    validation_data=(X_val_basic,y_val),\n",
        "    epochs=5,\n",
        "verbose=True)\n",
        "\n"
      ],
      "execution_count": 165,
      "outputs": [
        {
          "output_type": "stream",
          "text": [
            "Train on 81927 samples, validate on 20481 samples\n",
            "Epoch 1/5\n",
            "81927/81927 [==============================] - 38s 460us/step - loss: 0.7086 - acc: 0.5832 - val_loss: 0.6798 - val_acc: 0.5879\n",
            "Epoch 2/5\n",
            "81927/81927 [==============================] - 32s 391us/step - loss: 0.6776 - acc: 0.5900 - val_loss: 0.6782 - val_acc: 0.5879\n",
            "Epoch 3/5\n",
            "81927/81927 [==============================] - 35s 433us/step - loss: 0.6764 - acc: 0.5906 - val_loss: 0.6775 - val_acc: 0.5878\n",
            "Epoch 4/5\n",
            "81927/81927 [==============================] - 36s 433us/step - loss: 0.6764 - acc: 0.5905 - val_loss: 0.6778 - val_acc: 0.5868\n",
            "Epoch 5/5\n",
            "81927/81927 [==============================] - 36s 439us/step - loss: 0.6762 - acc: 0.5904 - val_loss: 0.6778 - val_acc: 0.5879\n"
          ],
          "name": "stdout"
        },
        {
          "output_type": "execute_result",
          "data": {
            "text/plain": [
              "<keras.callbacks.History at 0x7f93ce6da7b8>"
            ]
          },
          "metadata": {
            "tags": []
          },
          "execution_count": 165
        }
      ]
    },
    {
      "cell_type": "code",
      "metadata": {
        "id": "3DV-LWeZBYSV",
        "colab_type": "code",
        "colab": {}
      },
      "source": [
        ""
      ],
      "execution_count": 0,
      "outputs": []
    },
    {
      "cell_type": "code",
      "metadata": {
        "id": "VG0oCTzgwA4w",
        "colab_type": "code",
        "colab": {
          "base_uri": "https://localhost:8080/",
          "height": 221
        },
        "outputId": "b83755a0-ee6d-4a80-f6e7-4a1ad1fd7a1b"
      },
      "source": [
        "# for norm\n",
        "convnet_norm_ts = Sequential()\n",
        "convnet_norm_ts.add(Conv1D(filters=164, kernel_size=8, activation='relu', input_shape = (42,3)))\n",
        "convnet_norm_ts.add(MaxPooling1D(pool_size=2))\n",
        "convnet_norm_ts.add(Flatten())\n",
        "convnet_norm_ts.add(Dense(50, activation='relu'))\n",
        "convnet_norm_ts.add(Dense(1, activation='sigmoid'))\n",
        "\n",
        "convnet_norm_ts.compile(optimizer=\"adam\", loss='binary_crossentropy', metrics=['accuracy'])\n",
        "\n",
        "\n",
        "convnet_norm_ts.fit(\n",
        "    X_train_norm,y_train,\n",
        "    validation_data=(X_val_norm,y_val),\n",
        "    epochs=5,\n",
        "verbose=True)\n",
        "\n"
      ],
      "execution_count": 170,
      "outputs": [
        {
          "output_type": "stream",
          "text": [
            "Train on 81927 samples, validate on 20481 samples\n",
            "Epoch 1/5\n",
            "81927/81927 [==============================] - 38s 470us/step - loss: 0.6783 - acc: 0.5896 - val_loss: 0.6777 - val_acc: 0.5880\n",
            "Epoch 2/5\n",
            "81927/81927 [==============================] - 32s 392us/step - loss: 0.6771 - acc: 0.5906 - val_loss: 0.6782 - val_acc: 0.5880\n",
            "Epoch 3/5\n",
            "81927/81927 [==============================] - 33s 397us/step - loss: 0.6766 - acc: 0.5907 - val_loss: 0.6774 - val_acc: 0.5880\n",
            "Epoch 4/5\n",
            "81927/81927 [==============================] - 31s 381us/step - loss: 0.6765 - acc: 0.5907 - val_loss: 0.6775 - val_acc: 0.5878\n",
            "Epoch 5/5\n",
            "81927/81927 [==============================] - 32s 387us/step - loss: 0.6764 - acc: 0.5907 - val_loss: 0.6774 - val_acc: 0.5879\n"
          ],
          "name": "stdout"
        },
        {
          "output_type": "execute_result",
          "data": {
            "text/plain": [
              "<keras.callbacks.History at 0x7f93cdaa1d30>"
            ]
          },
          "metadata": {
            "tags": []
          },
          "execution_count": 170
        }
      ]
    },
    {
      "cell_type": "code",
      "metadata": {
        "id": "4A-TahtvxJwa",
        "colab_type": "code",
        "colab": {
          "base_uri": "https://localhost:8080/",
          "height": 221
        },
        "outputId": "5bc4c8c8-4908-4b7c-f381-9d0c0edb456e"
      },
      "source": [
        "convnet_deriv_ts = Sequential()\n",
        "convnet_deriv_ts.add(Conv1D(filters=164, kernel_size=8, activation='relu', input_shape = (41,3)))\n",
        "convnet_deriv_ts.add(MaxPooling1D(pool_size=2))\n",
        "convnet_deriv_ts.add(Flatten())\n",
        "convnet_deriv_ts.add(Dense(50, activation='relu'))\n",
        "convnet_deriv_ts.add(Dense(1, activation='sigmoid'))\n",
        "\n",
        "convnet_deriv_ts.compile(optimizer=\"adam\", loss='binary_crossentropy', metrics=['accuracy'])\n",
        "\n",
        "\n",
        "convnet_deriv_ts.fit(\n",
        "    X_train_deriv,y_train,\n",
        "    validation_data=(X_val_deriv,y_val),\n",
        "    epochs=5,\n",
        "verbose=True)\n",
        "\n"
      ],
      "execution_count": 172,
      "outputs": [
        {
          "output_type": "stream",
          "text": [
            "Train on 81927 samples, validate on 20481 samples\n",
            "Epoch 1/5\n",
            "81927/81927 [==============================] - 27s 329us/step - loss: 0.6776 - acc: 0.5901 - val_loss: 0.6771 - val_acc: 0.5879\n",
            "Epoch 2/5\n",
            "81927/81927 [==============================] - 22s 272us/step - loss: 0.6762 - acc: 0.5904 - val_loss: 0.6764 - val_acc: 0.5879\n",
            "Epoch 3/5\n",
            "81927/81927 [==============================] - 23s 275us/step - loss: 0.6755 - acc: 0.5907 - val_loss: 0.6767 - val_acc: 0.5879\n",
            "Epoch 4/5\n",
            "81927/81927 [==============================] - 23s 279us/step - loss: 0.6753 - acc: 0.5907 - val_loss: 0.6761 - val_acc: 0.5879\n",
            "Epoch 5/5\n",
            "81927/81927 [==============================] - 23s 276us/step - loss: 0.6749 - acc: 0.5907 - val_loss: 0.6762 - val_acc: 0.5879\n"
          ],
          "name": "stdout"
        },
        {
          "output_type": "execute_result",
          "data": {
            "text/plain": [
              "<keras.callbacks.History at 0x7f93cd6dc5f8>"
            ]
          },
          "metadata": {
            "tags": []
          },
          "execution_count": 172
        }
      ]
    },
    {
      "cell_type": "code",
      "metadata": {
        "id": "dKvDj71yyG6m",
        "colab_type": "code",
        "colab": {
          "base_uri": "https://localhost:8080/",
          "height": 221
        },
        "outputId": "3e99882a-73b0-487d-937c-b34e802e7455"
      },
      "source": [
        "model_smooth = Sequential()\n",
        "model_smooth.add(Dense(output_dim =224, activation = 'relu', input_dim = 1))\n",
        "#model_smooth.add(Dense(output_dim = 12, activation = \"relu\"))\n",
        "model_smooth.add(Dense(output_dim = 1, activation = 'sigmoid'))\n",
        "\n",
        "model_smooth.compile(optimizer = 'adam', loss = 'binary_crossentropy', metrics = ['accuracy'])\n",
        "\n",
        "model_smooth.fit(X_train_smooth, y_train,\n",
        "                validation_data = (X_val_smooth, y_val),\n",
        "                epochs = 5,\n",
        "                verbose = True)"
      ],
      "execution_count": 177,
      "outputs": [
        {
          "output_type": "stream",
          "text": [
            "Train on 81927 samples, validate on 20481 samples\n",
            "Epoch 1/5\n",
            "81927/81927 [==============================] - 10s 121us/step - loss: 0.6769 - acc: 0.5905 - val_loss: 0.6777 - val_acc: 0.5879\n",
            "Epoch 2/5\n",
            "81927/81927 [==============================] - 6s 71us/step - loss: 0.6768 - acc: 0.5907 - val_loss: 0.6777 - val_acc: 0.5879\n",
            "Epoch 3/5\n",
            "81927/81927 [==============================] - 6s 71us/step - loss: 0.6767 - acc: 0.5907 - val_loss: 0.6777 - val_acc: 0.5879\n",
            "Epoch 4/5\n",
            "81927/81927 [==============================] - 6s 71us/step - loss: 0.6768 - acc: 0.5907 - val_loss: 0.6777 - val_acc: 0.5879\n",
            "Epoch 5/5\n",
            "81927/81927 [==============================] - 6s 71us/step - loss: 0.6766 - acc: 0.5907 - val_loss: 0.6782 - val_acc: 0.5879\n"
          ],
          "name": "stdout"
        },
        {
          "output_type": "execute_result",
          "data": {
            "text/plain": [
              "<keras.callbacks.History at 0x7f93ccfab860>"
            ]
          },
          "metadata": {
            "tags": []
          },
          "execution_count": 177
        }
      ]
    },
    {
      "cell_type": "code",
      "metadata": {
        "id": "GY7XygUmzfjA",
        "colab_type": "code",
        "colab": {
          "base_uri": "https://localhost:8080/",
          "height": 204
        },
        "outputId": "4fc833eb-f1f3-44ec-a1fb-383a0d84277b"
      },
      "source": [
        "model_smooth.summary()"
      ],
      "execution_count": 176,
      "outputs": [
        {
          "output_type": "stream",
          "text": [
            "_________________________________________________________________\n",
            "Layer (type)                 Output Shape              Param #   \n",
            "=================================================================\n",
            "dense_144 (Dense)            (None, 24)                48        \n",
            "_________________________________________________________________\n",
            "dense_145 (Dense)            (None, 1)                 25        \n",
            "=================================================================\n",
            "Total params: 73\n",
            "Trainable params: 73\n",
            "Non-trainable params: 0\n",
            "_________________________________________________________________\n"
          ],
          "name": "stdout"
        }
      ]
    },
    {
      "cell_type": "code",
      "metadata": {
        "id": "xby89o7c3Al_",
        "colab_type": "code",
        "colab": {
          "base_uri": "https://localhost:8080/",
          "height": 221
        },
        "outputId": "233a1bc2-3aa6-413c-ed26-c82d3633841d"
      },
      "source": [
        "# test if following code works\n",
        "convnet_basic_ts_in = Input(shape=(41,3))\n",
        "convnet_basic_ts_dense_1 = Conv1D(filters=164, kernel_size=8, activation='relu', input_shape = (41,3))(convnet_basic_ts_in)\n",
        "convnet_basic_ts_dense_2 = MaxPooling1D(pool_size=2)(convnet_basic_ts_dense_1)\n",
        "convnet_basic_ts_dense_3 = Flatten()(convnet_basic_ts_dense_2)\n",
        "convnet_basic_ts_dense_4 = Dense(50, activation='relu')(convnet_basic_ts_dense_3)\n",
        "convnet_basic_ts_dense_out = Dense(1, activation = \"sigmoid\")(convnet_basic_ts_dense_4)\n",
        "model1 = Model(convnet_basic_ts_in, convnet_basic_ts_dense_out)\n",
        "model1.compile(loss='binary_crossentropy', optimizer='adam', metrics=['accuracy'])\n",
        "\n",
        "\n",
        "model1.fit(X_train_basic, y_train,\n",
        "                validation_data = (X_val_basic, y_val),\n",
        "                epochs = 5,\n",
        "                verbose = True)"
      ],
      "execution_count": 191,
      "outputs": [
        {
          "output_type": "stream",
          "text": [
            "Train on 81927 samples, validate on 20481 samples\n",
            "Epoch 1/5\n",
            "81927/81927 [==============================] - 28s 337us/step - loss: 0.6974 - acc: 0.5849 - val_loss: 0.6788 - val_acc: 0.5876\n",
            "Epoch 2/5\n",
            "81927/81927 [==============================] - 22s 271us/step - loss: 0.6769 - acc: 0.5906 - val_loss: 0.6775 - val_acc: 0.5880\n",
            "Epoch 3/5\n",
            "81927/81927 [==============================] - 22s 264us/step - loss: 0.6770 - acc: 0.5905 - val_loss: 0.6773 - val_acc: 0.5881\n",
            "Epoch 4/5\n",
            "81927/81927 [==============================] - 22s 266us/step - loss: 0.6765 - acc: 0.5902 - val_loss: 0.6770 - val_acc: 0.5879\n",
            "Epoch 5/5\n",
            "81927/81927 [==============================] - 23s 275us/step - loss: 0.6763 - acc: 0.5901 - val_loss: 0.6790 - val_acc: 0.5840\n"
          ],
          "name": "stdout"
        },
        {
          "output_type": "execute_result",
          "data": {
            "text/plain": [
              "<keras.callbacks.History at 0x7f93cc420dd8>"
            ]
          },
          "metadata": {
            "tags": []
          },
          "execution_count": 191
        }
      ]
    },
    {
      "cell_type": "code",
      "metadata": {
        "id": "4wG_02hPTaT3",
        "colab_type": "code",
        "colab": {
          "base_uri": "https://localhost:8080/",
          "height": 391
        },
        "outputId": "799c29f2-3a97-4096-a52f-dcd5fc540360"
      },
      "source": [
        "from keras.layers.merge import concatenate\n",
        "\n",
        "# Since the upper code works fine\n",
        "# test if the following code will work\n",
        "\n",
        "convnet_basic_ts_in = Input(shape=(41,3))\n",
        "convnet_basic_ts_dense_1 = Conv1D(filters=164, kernel_size=8, activation='relu', input_shape = (41,3))(convnet_basic_ts_in)\n",
        "convnet_basic_ts_dense_2 = MaxPooling1D(pool_size=2)(convnet_basic_ts_dense_1)\n",
        "convnet_basic_ts_dense_3 = Flatten()(convnet_basic_ts_dense_2)\n",
        "convnet_basic_ts_dense_out = Dense(50, activation='relu')(convnet_basic_ts_dense_3)\n",
        "convnet_basic_ts_dense_model = Model(convnet_basic_ts_in, convnet_basic_ts_dense_out)\n",
        "\n",
        "convnet_norm_ts_in = Input(shape=(42,3))\n",
        "convnet_norm_ts_dense_1 = Conv1D(filters=164, kernel_size=8, activation='relu', input_shape = (41,3))(convnet_norm_ts_in)\n",
        "convnet_norm_ts_dense_2 = MaxPooling1D(pool_size=2)(convnet_norm_ts_dense_1)\n",
        "convnet_norm_ts_dense_3 = Flatten()(convnet_norm_ts_dense_2)\n",
        "convnet_norm_ts_dense_out = Dense(50, activation='relu')(convnet_norm_ts_dense_3)\n",
        "convnet_norm_ts_dense_model = Model(convnet_norm_ts_in, convnet_norm_ts_dense_out)\n",
        "\n",
        "convnet_deriv_ts_in = Input(shape=(41,3))\n",
        "convnet_deriv_ts_dense_1 = Conv1D(filters=164, kernel_size=8, activation='relu', input_shape = (41,3))(convnet_deriv_ts_in)\n",
        "convnet_deriv_ts_dense_2 = MaxPooling1D(pool_size=2)(convnet_deriv_ts_dense_1)\n",
        "convnet_deriv_ts_dense_3 = Flatten()(convnet_deriv_ts_dense_2)\n",
        "convnet_deriv_ts_dense_out = Dense(50, activation='relu')(convnet_deriv_ts_dense_3)\n",
        "convnet_deriv_ts_dense_model = Model(convnet_deriv_ts_in, convnet_deriv_ts_dense_out)\n",
        "\n",
        "\n",
        "concatenated = concatenate([convnet_basic_ts_dense_out, convnet_norm_ts_dense_out, convnet_deriv_ts_dense_out])\n",
        "out = Dense(1, activation='sigmoid', name='output_layer')(concatenated)\n",
        "\n",
        "merged_model = Model([convnet_basic_ts_in, convnet_norm_ts_in, convnet_deriv_ts_in], out)\n",
        "merged_model.compile(loss='binary_crossentropy', optimizer='adam', metrics=['accuracy'])\n",
        "\n",
        "merged_model.fit([X_train_basic, X_train_norm, X_train_deriv], y=y_train, epochs=10,\n",
        "             verbose=1, validation_split=0.1, shuffle=True)"
      ],
      "execution_count": 195,
      "outputs": [
        {
          "output_type": "stream",
          "text": [
            "Train on 73734 samples, validate on 8193 samples\n",
            "Epoch 1/10\n",
            "73734/73734 [==============================] - 62s 837us/step - loss: 0.6933 - acc: 0.5864 - val_loss: 0.6862 - val_acc: 0.5875\n",
            "Epoch 2/10\n",
            "73734/73734 [==============================] - 56s 760us/step - loss: 0.6769 - acc: 0.5908 - val_loss: 0.6784 - val_acc: 0.5877\n",
            "Epoch 3/10\n",
            "73734/73734 [==============================] - 56s 760us/step - loss: 0.6763 - acc: 0.5910 - val_loss: 0.6769 - val_acc: 0.5877\n",
            "Epoch 4/10\n",
            "73734/73734 [==============================] - 56s 756us/step - loss: 0.6760 - acc: 0.5910 - val_loss: 0.6769 - val_acc: 0.5878\n",
            "Epoch 5/10\n",
            "73734/73734 [==============================] - 56s 760us/step - loss: 0.6763 - acc: 0.5909 - val_loss: 0.6768 - val_acc: 0.5877\n",
            "Epoch 6/10\n",
            "73734/73734 [==============================] - 55s 743us/step - loss: 0.6756 - acc: 0.5911 - val_loss: 0.6769 - val_acc: 0.5877\n",
            "Epoch 7/10\n",
            "73734/73734 [==============================] - 55s 744us/step - loss: 0.6754 - acc: 0.5911 - val_loss: 0.6767 - val_acc: 0.5877\n",
            "Epoch 8/10\n",
            "73734/73734 [==============================] - 54s 729us/step - loss: 0.6754 - acc: 0.5911 - val_loss: 0.6767 - val_acc: 0.5877\n",
            "Epoch 9/10\n",
            "73734/73734 [==============================] - 54s 736us/step - loss: 0.6754 - acc: 0.5908 - val_loss: 0.6771 - val_acc: 0.5877\n",
            "Epoch 10/10\n",
            "73734/73734 [==============================] - 55s 749us/step - loss: 0.6752 - acc: 0.5909 - val_loss: 0.6773 - val_acc: 0.5878\n"
          ],
          "name": "stdout"
        },
        {
          "output_type": "execute_result",
          "data": {
            "text/plain": [
              "<keras.callbacks.History at 0x7f93cb45a7f0>"
            ]
          },
          "metadata": {
            "tags": []
          },
          "execution_count": 195
        }
      ]
    },
    {
      "cell_type": "code",
      "metadata": {
        "id": "itUHtz7E0mif",
        "colab_type": "code",
        "colab": {
          "base_uri": "https://localhost:8080/",
          "height": 391
        },
        "outputId": "9c02d56a-d62c-4eb4-dd90-22a3803efb6d"
      },
      "source": [
        "from keras.layers.merge import concatenate\n",
        "\n",
        "# Since the upper code works fine\n",
        "# test if the following code will work\n",
        "\n",
        "# basic ts\n",
        "convnet_basic_ts_in = Input(shape=(41,3))\n",
        "convnet_basic_ts_dense_1 = Conv1D(filters=164, kernel_size=8, activation='relu', input_shape = (41,3))(convnet_basic_ts_in)\n",
        "convnet_basic_ts_dense_2 = MaxPooling1D(pool_size=2)(convnet_basic_ts_dense_1)\n",
        "convnet_basic_ts_dense_3 = Flatten()(convnet_basic_ts_dense_2)\n",
        "convnet_basic_ts_dense_out = Dense(50, activation='relu')(convnet_basic_ts_dense_3)\n",
        "convnet_basic_ts_dense_model = Model(convnet_basic_ts_in, convnet_basic_ts_dense_out)\n",
        "\n",
        "\n",
        "# normalized ts\n",
        "convnet_norm_ts_in = Input(shape=(42,3))\n",
        "convnet_norm_ts_dense_1 = Conv1D(filters=164, kernel_size=8, activation='relu', input_shape = (41,3))(convnet_norm_ts_in)\n",
        "convnet_norm_ts_dense_2 = MaxPooling1D(pool_size=2)(convnet_norm_ts_dense_1)\n",
        "convnet_norm_ts_dense_3 = Flatten()(convnet_norm_ts_dense_2)\n",
        "convnet_norm_ts_dense_out = Dense(50, activation='relu')(convnet_norm_ts_dense_3)\n",
        "convnet_norm_ts_dense_model = Model(convnet_norm_ts_in, convnet_norm_ts_dense_out)\n",
        "\n",
        "# derivitives ts\n",
        "convnet_deriv_ts_in = Input(shape=(41,3))\n",
        "convnet_deriv_ts_dense_1 = Conv1D(filters=164, kernel_size=8, activation='relu', input_shape = (41,3))(convnet_deriv_ts_in)\n",
        "convnet_deriv_ts_dense_2 = MaxPooling1D(pool_size=2)(convnet_deriv_ts_dense_1)\n",
        "convnet_deriv_ts_dense_3 = Flatten()(convnet_deriv_ts_dense_2)\n",
        "convnet_deriv_ts_dense_out = Dense(50, activation='relu')(convnet_deriv_ts_dense_3)\n",
        "convnet_deriv_ts_dense_model = Model(convnet_deriv_ts_in, convnet_deriv_ts_dense_out)\n",
        "\n",
        "\n",
        "\n",
        "concatenated = concatenate([convnet_basic_ts_dense_out, convnet_norm_ts_dense_out, convnet_deriv_ts_dense_out])\n",
        "out = Dense(1, activation='sigmoid', name='output_layer')(concatenated)\n",
        "\n",
        "merged_model = Model([convnet_basic_ts_in, convnet_norm_ts_in, convnet_deriv_ts_in], out)\n",
        "merged_model.compile(loss='binary_crossentropy', optimizer='adam', metrics=['accuracy'])\n",
        "\n",
        "merged_model.fit([X_train_basic, X_train_norm, X_train_deriv], y=y_train, epochs=10,\n",
        "             verbose=1, validation_split=0.1, shuffle=True)"
      ],
      "execution_count": 205,
      "outputs": [
        {
          "output_type": "stream",
          "text": [
            "Train on 73734 samples, validate on 8193 samples\n",
            "Epoch 1/10\n",
            "73734/73734 [==============================] - 61s 822us/step - loss: 0.6955 - acc: 0.5862 - val_loss: 0.6909 - val_acc: 0.5870\n",
            "Epoch 2/10\n",
            "73734/73734 [==============================] - 55s 751us/step - loss: 0.6766 - acc: 0.5905 - val_loss: 0.6773 - val_acc: 0.5877\n",
            "Epoch 3/10\n",
            "73734/73734 [==============================] - 55s 741us/step - loss: 0.6764 - acc: 0.5904 - val_loss: 0.6771 - val_acc: 0.5875\n",
            "Epoch 4/10\n",
            "73734/73734 [==============================] - 53s 724us/step - loss: 0.6754 - acc: 0.5908 - val_loss: 0.6769 - val_acc: 0.5875\n",
            "Epoch 5/10\n",
            "73734/73734 [==============================] - 55s 747us/step - loss: 0.6751 - acc: 0.5910 - val_loss: 0.6765 - val_acc: 0.5871\n",
            "Epoch 6/10\n",
            "73734/73734 [==============================] - 55s 750us/step - loss: 0.6747 - acc: 0.5911 - val_loss: 0.6812 - val_acc: 0.5854\n",
            "Epoch 7/10\n",
            "73734/73734 [==============================] - 52s 704us/step - loss: 0.6743 - acc: 0.5918 - val_loss: 0.6778 - val_acc: 0.5856\n",
            "Epoch 8/10\n",
            "73734/73734 [==============================] - 51s 689us/step - loss: 0.6737 - acc: 0.5921 - val_loss: 0.6777 - val_acc: 0.5862\n",
            "Epoch 9/10\n",
            "73734/73734 [==============================] - 53s 712us/step - loss: 0.6732 - acc: 0.5920 - val_loss: 0.6807 - val_acc: 0.5861\n",
            "Epoch 10/10\n",
            "73734/73734 [==============================] - 51s 690us/step - loss: 0.6727 - acc: 0.5921 - val_loss: 0.6783 - val_acc: 0.5865\n"
          ],
          "name": "stdout"
        },
        {
          "output_type": "execute_result",
          "data": {
            "text/plain": [
              "<keras.callbacks.History at 0x7f93ca011c50>"
            ]
          },
          "metadata": {
            "tags": []
          },
          "execution_count": 205
        }
      ]
    },
    {
      "cell_type": "code",
      "metadata": {
        "id": "lJASqq1S1esW",
        "colab_type": "code",
        "colab": {}
      },
      "source": [
        "shamodel_smooth = Sequential()\n",
        "model_smooth.add(Dense(output_dim =224, activation = 'relu', input_dim = 1))\n",
        "#model_smooth.add(Dense(output_dim = 12, activation = \"relu\"))\n",
        "model_smooth.add(Dense(output_dim = 1, activation = 'sigmoid'))\n",
        "\n",
        "model_smooth.compile(optimizer = 'adam', loss = 'binary_crossentropy', metrics = ['accuracy'])\n",
        "\n",
        "model_smooth.fit(X_train_smooth, y_train,\n",
        "                validation_data = (X_val_smooth, y_val),\n",
        "                epochs = 5,\n",
        "                verbose = True)"
      ],
      "execution_count": 0,
      "outputs": []
    }
  ]
}
