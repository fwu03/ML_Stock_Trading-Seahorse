{
  "nbformat": 4,
  "nbformat_minor": 0,
  "metadata": {
    "colab": {
      "name": "pip_line.ipynb",
      "version": "0.3.2",
      "provenance": []
    },
    "language_info": {
      "codemirror_mode": {
        "name": "ipython",
        "version": 3
      },
      "file_extension": ".py",
      "mimetype": "text/x-python",
      "name": "python",
      "nbconvert_exporter": "python",
      "pygments_lexer": "ipython3",
      "version": "3.6.8"
    },
    "kernelspec": {
      "display_name": "Python 3",
      "language": "python",
      "name": "python3"
    }
  },
  "cells": [
    {
      "cell_type": "code",
      "metadata": {
        "id": "FsYVFc9yV23a",
        "colab_type": "code",
        "outputId": "097fdf13-b3ea-48c7-8da7-890254de2b8b",
        "colab": {
          "base_uri": "https://localhost:8080/",
          "height": 398
        }
      },
      "source": [
        "!pip install spectrum"
      ],
      "execution_count": 0,
      "outputs": [
        {
          "output_type": "stream",
          "text": [
            "Collecting spectrum\n",
            "\u001b[?25l  Downloading https://files.pythonhosted.org/packages/24/bd/5c3352f8f7ce47be59bdf45830a99c3d82bf944779d90f693a71f02cdfcb/spectrum-0.7.5.tar.gz (227kB)\n",
            "\u001b[K    100% |████████████████████████████████| 235kB 7.5MB/s \n",
            "\u001b[?25hRequirement already satisfied: numpy in /usr/local/lib/python3.6/dist-packages (from spectrum) (1.16.3)\n",
            "Requirement already satisfied: scipy in /usr/local/lib/python3.6/dist-packages (from spectrum) (1.2.1)\n",
            "Requirement already satisfied: matplotlib in /usr/local/lib/python3.6/dist-packages (from spectrum) (3.0.3)\n",
            "Requirement already satisfied: cycler>=0.10 in /usr/local/lib/python3.6/dist-packages (from matplotlib->spectrum) (0.10.0)\n",
            "Requirement already satisfied: pyparsing!=2.0.4,!=2.1.2,!=2.1.6,>=2.0.1 in /usr/local/lib/python3.6/dist-packages (from matplotlib->spectrum) (2.4.0)\n",
            "Requirement already satisfied: kiwisolver>=1.0.1 in /usr/local/lib/python3.6/dist-packages (from matplotlib->spectrum) (1.0.1)\n",
            "Requirement already satisfied: python-dateutil>=2.1 in /usr/local/lib/python3.6/dist-packages (from matplotlib->spectrum) (2.5.3)\n",
            "Requirement already satisfied: six in /usr/local/lib/python3.6/dist-packages (from cycler>=0.10->matplotlib->spectrum) (1.12.0)\n",
            "Requirement already satisfied: setuptools in /usr/local/lib/python3.6/dist-packages (from kiwisolver>=1.0.1->matplotlib->spectrum) (40.9.0)\n",
            "Building wheels for collected packages: spectrum\n",
            "  Building wheel for spectrum (setup.py) ... \u001b[?25ldone\n",
            "\u001b[?25h  Stored in directory: /root/.cache/pip/wheels/77/45/82/05503d66a576e2361ab90f4e93f4491c3b83211cfe4eafb581\n",
            "Successfully built spectrum\n",
            "Installing collected packages: spectrum\n",
            "Successfully installed spectrum-0.7.5\n"
          ],
          "name": "stdout"
        }
      ]
    },
    {
      "cell_type": "code",
      "metadata": {
        "id": "lksYGkJLVugq",
        "colab_type": "code",
        "colab": {}
      },
      "source": [
        "\n"
      ],
      "execution_count": 0,
      "outputs": []
    },
    {
      "cell_type": "code",
      "metadata": {
        "id": "9he2yP4cW9HD",
        "colab_type": "code",
        "outputId": "ec37462a-ed05-4504-e4d1-6570b00127bf",
        "colab": {
          "base_uri": "https://localhost:8080/",
          "height": 189
        }
      },
      "source": [
        "from google.colab import drive\n",
        "drive.mount('/content/gdrive')"
      ],
      "execution_count": 4,
      "outputs": [
        {
          "output_type": "stream",
          "text": [
            "Go to this URL in a browser: https://accounts.google.com/o/oauth2/auth?client_id=947318989803-6bn6qk8qdgf4n4g3pfee6491hc0brc4i.apps.googleusercontent.com&redirect_uri=urn%3Aietf%3Awg%3Aoauth%3A2.0%3Aoob&scope=email%20https%3A%2F%2Fwww.googleapis.com%2Fauth%2Fdocs.test%20https%3A%2F%2Fwww.googleapis.com%2Fauth%2Fdrive%20https%3A%2F%2Fwww.googleapis.com%2Fauth%2Fdrive.photos.readonly%20https%3A%2F%2Fwww.googleapis.com%2Fauth%2Fpeopleapi.readonly&response_type=code\n",
            "\n",
            "Enter your authorization code:\n",
            "··········\n",
            "Mounted at /content/gdrive\n"
          ],
          "name": "stdout"
        }
      ]
    },
    {
      "cell_type": "code",
      "metadata": {
        "id": "V6bx73w_pgx_",
        "colab_type": "code",
        "colab": {}
      },
      "source": [
        "# packages for basic python calculation\n",
        "import pandas as pd\n",
        "import numpy as np\n",
        "import os\n",
        "\n",
        "# warning ignore\n",
        "import warnings\n",
        "warnings.filterwarnings(\"ignore\")\n",
        "\n",
        "# packages for fft\n",
        "#import spectrum\n",
        "#from spectrum import Periodogram, data_cosine\n",
        "\n",
        "# packages for ML\n",
        "from sklearn.model_selection import train_test_split\n",
        "from sklearn.feature_selection import RFE\n",
        "\n",
        "from keras.preprocessing import sequence\n",
        "from keras.models import Sequential, Model\n",
        "from keras.layers import Dense, Input, LSTM, Embedding, Dropout, Activation, GRU\n",
        "from keras.layers import Bidirectional, GlobalMaxPool1D\n",
        "from keras.datasets import imdb\n",
        "from keras.preprocessing.text import Tokenizer\n",
        "from sklearn.model_selection import train_test_split\n",
        "\n",
        "# package for ploting\n",
        "import matplotlib.pyplot as plt\n",
        "plt.style.use('seaborn-talk')\n",
        "\n",
        "\n",
        "\n",
        "# defind function for data readin\n",
        "def load_data(folder_path = \"../data/buy/\"):\n",
        "    df_gp = pd.DataFrame()\n",
        "    \n",
        "    for filename in os.listdir(folder_path):\n",
        "        if filename.endswith(\".txt\"): \n",
        "            stock = filename[0:4]\n",
        "            # print(\"Loading stock data:\", stock, \",\")\n",
        "            temp_df = pd.read_csv(os.path.join(folder_path, filename), delimiter= '\\s+', header = None)\n",
        "            temp_df.rename(columns={123:'rtn'}, inplace=True)\n",
        "            temp_df = pd.concat([pd.Series([stock] * temp_df.shape[0], name = 'stock'), temp_df], axis=1)\n",
        "            df_gp = pd.concat([df_gp, temp_df], ignore_index=True)\n",
        "            df_gp.reset_index()\n",
        "            continue\n",
        "        else:\n",
        "            continue\n",
        "    \n",
        "    # drop rows with NA\n",
        "    rows_to_drop = []\n",
        "    for i in range(df_gp.shape[0]):\n",
        "        if sum(df_gp.iloc[i,:].isnull()):\n",
        "            rows_to_drop.append(i)\n",
        "    \n",
        "    df_gp = df_gp.drop(rows_to_drop, axis=0)\n",
        "    #df_gp = df_gp.iloc[:,1:]   \n",
        "    \n",
        "    # remove duplicates\n",
        "    df_gp = df_gp.drop_duplicates(subset=df_gp.columns.difference(['stock']))\n",
        "    \n",
        "    # change data type\n",
        "    df_gp.iloc[:, 1:] = df_gp.iloc[:, 1:].astype(float)\n",
        "    \n",
        "    df_gp = df_gp.reset_index(drop = True)\n",
        "    return df_gp"
      ],
      "execution_count": 0,
      "outputs": []
    },
    {
      "cell_type": "markdown",
      "metadata": {
        "id": "u9si_a2JVugx",
        "colab_type": "text"
      },
      "source": [
        "# Data Loading"
      ]
    },
    {
      "cell_type": "code",
      "metadata": {
        "id": "TnRBP6ueVugz",
        "colab_type": "code",
        "colab": {}
      },
      "source": [
        "df_gp = load_data(\"/content/gdrive/My Drive/buy/\")"
      ],
      "execution_count": 0,
      "outputs": []
    },
    {
      "cell_type": "markdown",
      "metadata": {
        "id": "nHdqvJ5xZzuc",
        "colab_type": "text"
      },
      "source": [
        ""
      ]
    },
    {
      "cell_type": "markdown",
      "metadata": {
        "id": "RUkfMPd2qhSB",
        "colab_type": "text"
      },
      "source": [
        "\n",
        "# Function design"
      ]
    },
    {
      "cell_type": "code",
      "metadata": {
        "id": "X1yy5jt9qgSi",
        "colab_type": "code",
        "colab": {}
      },
      "source": [
        "class OSC_analyzing_pipeline():\n",
        "    \n",
        "    \"\"\"\n",
        "    This class is designed and modified for the Seahorse program. It is applicable for Random Forest\n",
        "    Classifier originally.\n",
        "    \n",
        "    Attributes:\n",
        "    ----------------------------------------------------------------------------\n",
        "    self.data: the input dataset that we will be using for training and testing\n",
        "    self.model: the classifier we want to explore\n",
        "    self.osc_gp: subset for the oscillator data\n",
        "    * new addition: self.stk: subset for original stock data\n",
        "    self.macd_gp: subset for the macd data\n",
        "    self.rtn_gp: subset for the return values\n",
        "    self.label_gp: the output for training and testing (the reponse variable)\n",
        "    \n",
        "    self.psd\n",
        "    self.smooth\n",
        "    self.first_derivitive_macd\n",
        "    self.second_derivitive_macd\n",
        "    self.first_derivitive_osc\n",
        "    self.second_derivitive_osc\n",
        "    self.partial_smooth\n",
        "    \n",
        "    self.feature_result_df: the feature matrix and label generated from the feature_generator function, it can be used to visual which feature is participated in model training\n",
        "    self.X_train: to visual and further call the training dataset\n",
        "    self.X_test: to visual and further call the test dataset\n",
        "    self.y_train: to visual and further call the training dataset\n",
        "    self.y_test: to visual and further call the test dataset\n",
        "    \n",
        "    self.report: generate the report to compare the winning rate with the original test\n",
        "    The class object also contains all the attributes belongs to the model/classifier originally.\n",
        "    \n",
        "    Functions:\n",
        "    ----------------------------------------------------------------------------\n",
        "    * new addition: EDA_visualization(): function for visualization the record\n",
        "    psd_calculator(): function calculate the fft values, callable with return value to be visualized\n",
        "    smooth_calculator(): function for calculating the smoothness value, already modified and can handle the amplitude changes\n",
        "    derivative_calculator(): function for calculating the derivitive for macd and osc\n",
        "    features_generator(): function to decide which feature can be used in the final model training, the input is True/False for certain feature to be involved. In this function, all three function above will be called\n",
        "    model_train(): training the model based on the feature matrix\n",
        "    \n",
        "    \"\"\"\n",
        "    \n",
        "    # define the init\n",
        "    def __init__(self, data):\n",
        "        \"\"\"\n",
        "        Keyword argument:\n",
        "        data -- (df) the input dataset for processing\n",
        "        model -- (ML model) the classifier we are interested of, currently it is just the random forest\n",
        "        \"\"\"\n",
        "        self.data = data\n",
        "        \n",
        "        # seperate indicators and returns\n",
        "        # name_gp = df_gp.iloc[:, 0]\n",
        "        self.osc_gp = self.data.iloc[:, 1:42]\n",
        "        self.stk_gp = self.data.iloc[:, 42:83]\n",
        "        self.macd_gp = self.data.iloc[:, 83:124]\n",
        "        self.rtn_gp = self.data.iloc[:, 124]\n",
        "        self.label_gp = np.sign(self.rtn_gp)\n",
        "        self.label_gp = self.label_gp.map({1: 1, -1: 0, 0:0})\n",
        "        self.results_gp = self.label_gp.map({1: 'EARN', 0: 'LOSS'})\n",
        "        self.label_gp = pd.DataFrame({\"label\": self.label_gp})\n",
        "        \n",
        "    \n",
        "    def EDA_visualization(self, index, osc_ind = True, stk_ind = False, macd_ind = False):\n",
        "        if osc_ind:\n",
        "            # plot Oscillator\n",
        "            plt.figure(figsize=(12,4))\n",
        "            plt.plot(range(41),  self.osc_gp.iloc[index,:])\n",
        "            plt.gca().invert_xaxis()\n",
        "            plt.axhline(y=0.0, color = \"black\",linestyle='--')\n",
        "            plt.ylabel(\"Oscillator\")\n",
        "            plt.xlabel(\"Time\")\n",
        "            plt.title(\"Oscillator 3-Day Time Series\")\n",
        "            plt.show()\n",
        "        \n",
        "\n",
        "        if stk_ind:\n",
        "            # plot stock price\n",
        "            plt.figure(figsize=(12,4))\n",
        "            plt.plot(range(41), self.stk_gp.iloc[index,:])\n",
        "            plt.legend()\n",
        "            plt.gca().invert_xaxis()\n",
        "            plt.ylabel(\"Stock Price\")\n",
        "            plt.xlabel(\"Time\")\n",
        "            plt.title(\"Stock Price 3-Day Time Series\")\n",
        "            plt.show()\n",
        "    \n",
        "        if macd_ind:\n",
        "        # plot MACD\n",
        "            plt.figure(figsize=(12,4))\n",
        "            plt.plot(range(41),  self.macd_gp.iloc[index,:])\n",
        "            plt.legend()\n",
        "            plt.gca().invert_xaxis()\n",
        "            plt.axhline(y=0.0, color = \"black\",linestyle='--')\n",
        "            plt.ylabel(\"MACD\")\n",
        "            plt.xlabel(\"Time\")\n",
        "            plt.title(\"MACD 3-Day Time Series\")\n",
        "            plt.show()\n",
        "        \n",
        "    # define function for psd calculation\n",
        "    def psd_calculator(self, NFFT = 100, name = \"osc\"):\n",
        "        \"\"\"\n",
        "        calculate the psd seq as new feature\n",
        "        \"\"\"\n",
        "        freq = []\n",
        "        for i in range(self.osc_gp.shape[0]):\n",
        "            data_osc = self.osc_gp.iloc[i,:]\n",
        "            p = Periodogram(data_osc, NFFT=NFFT)\n",
        "            temp_list = list(p.psd)\n",
        "            freq.append(temp_list)\n",
        "        col_name = []\n",
        "        for i in range(int(NFFT/2)+1):\n",
        "            col_name.append(\"freq\"+str(i))\n",
        "    \n",
        "        psd_df = pd.DataFrame(freq, columns=col_name)\n",
        "        psd_df.index = self.osc_gp.index\n",
        "        \n",
        "        return psd_df\n",
        "    \n",
        "    # define function to calculate smoothness more directly\n",
        "    def smooth_calculator(self):\n",
        "        smooth_list = []\n",
        "        for i in range(self.osc_gp.shape[0]):\n",
        "            amp = np.mean(abs(self.osc_gp.iloc[i,:]))\n",
        "            if amp == 0:\n",
        "                smooth_list.append(0)\n",
        "            else:\n",
        "                smooth_list.append(np.var(np.diff(self.osc_gp.iloc[i,:]))/amp)\n",
        "        \n",
        "        smooth = pd.DataFrame(smooth_list, columns=[\"smooth\"]) \n",
        "        smooth.index = self.osc_gp.index\n",
        "\n",
        "        return smooth\n",
        "    \n",
        "    # define the function to explore the influence of partial smoothness\n",
        "    def smooth_partial(self):\n",
        "        # get the nearest 10 points\n",
        "        osc_10 = self.osc_gp.iloc[:,-10:]\n",
        "        # calculate the smoothness of 10 points\n",
        "        smooth_10 = []\n",
        "        for i in range(osc_10.shape[0]):\n",
        "            amp = np.mean(abs(osc_10.iloc[i,:]))\n",
        "            if amp == 0:\n",
        "                smooth_10.append(0)\n",
        "            else:\n",
        "                smooth_10.append(np.var(np.diff(osc_10.iloc[i,:]))/amp)\n",
        "        \n",
        "        \n",
        "        # get the nearest 20 points\n",
        "        osc_20 = self.osc_gp.iloc[:,-20:]\n",
        "        smooth_20 = []\n",
        "        for i in range(osc_20.shape[0]):\n",
        "            amp = np.mean(abs(osc_20.iloc[i,:]))\n",
        "            if amp == 0:\n",
        "                smooth_20.append(0)\n",
        "                \n",
        "            else:\n",
        "                smooth_20.append(np.var(np.diff(osc_20.iloc[i,:]))/(np.mean(abs(osc_20.iloc[i,:]))))\n",
        "        \n",
        "        # get the nearest 30 points\n",
        "        osc_30 = self.osc_gp.iloc[:,-30:]\n",
        "        smooth_30 = []\n",
        "        for i in range(osc_30.shape[0]):\n",
        "            amp = np.mean(abs(osc_30.iloc[i,:]))\n",
        "            if amp == 0:\n",
        "                smooth_30.append(0)\n",
        "            else:\n",
        "                smooth_30.append(np.var(np.diff(osc_30.iloc[i,:]))/(np.mean(abs(osc_30.iloc[i,:]))))\n",
        "        \n",
        "        partial_smooth = pd.DataFrame({\"smooth_10\": smooth_10,\n",
        "                                      \"smooth_20\": smooth_20,\n",
        "                                      \"smooth_30\": smooth_30,})\n",
        "        \n",
        "        partial_smooth.index = self.osc_gp.index\n",
        "        return partial_smooth\n",
        "    \n",
        "    def amp_standardize(self, osc_std = True, stk_std = True, macd_std = True):\n",
        "        \n",
        "        # standardize osc\n",
        "        if osc_std == True:\n",
        "            norm_osc = []\n",
        "            mean_amp = []\n",
        "    \n",
        "            for i in range(self.osc_gp.shape[0]):\n",
        "                mean_amp_temp = np.mean(abs(self.osc_gp.iloc[i,:]))\n",
        "                mean_amp.append(mean_amp_temp)\n",
        "                if mean_amp == 0: \n",
        "                    std = lambda x: x*mean_amp_temp\n",
        "                    norm_osc_temp_list = list(map(std, self.osc_gp.iloc[i,:].tolist()))\n",
        "                    norm_osc.append(norm_osc_temp_list)\n",
        "                else:\n",
        "                    std = lambda x: x/mean_amp_temp\n",
        "                    norm_osc_temp_list = list(map(std, self.osc_gp.iloc[i,:].tolist()))\n",
        "                    norm_osc.append(norm_osc_temp_list)\n",
        "            \n",
        "    \n",
        "            col_name = []\n",
        "            for i in range(len(norm_osc[0])):\n",
        "                col_name.append(\"std_osc\"+str(i))\n",
        "            \n",
        "            amp_osc = pd.DataFrame(norm_osc, columns=col_name)\n",
        "            amp_osc[\"mean_amp_osc\"] = mean_amp\n",
        "            amp_osc.index = self.osc_gp.index\n",
        "        \n",
        "        if stk_std == True:\n",
        "            norm_stk = []\n",
        "            mean_amp_stk = []\n",
        "            \n",
        "            for i in range(self.stk_gp.shape[0]):\n",
        "                mean_amp_temp = np.mean(abs(self.stk_gp.iloc[i,:]))\n",
        "                mean_amp_stk.append(mean_amp_temp)\n",
        "                if mean_amp_temp == 0:\n",
        "                    std = lambda x: x*mean_amp_temp\n",
        "                    norm_stk_temp_list = list(map(std, self.stk_gp.iloc[i,:].tolist()))\n",
        "                    norm_stk.append(norm_stk_temp_list)\n",
        "                else:\n",
        "                    std = lambda x: x/mean_amp_temp\n",
        "                    norm_stk_temp_list = list(map(std, self.stk_gp.iloc[i,:].tolist()))\n",
        "                    norm_stk.append(norm_stk_temp_list)\n",
        "                    \n",
        "            col_name = []\n",
        "            for i in range(len(norm_stk[0])):\n",
        "                col_name.append(\"std_stk\"+str(i))\n",
        "            \n",
        "            amp_stk = pd.DataFrame(norm_stk, columns=col_name)\n",
        "            amp_stk[\"mean_amp_osc\"] = mean_amp_stk\n",
        "            amp_stk.index = self.stk_gp.index\n",
        "        \n",
        "        if macd_std == True:\n",
        "            norm_macd = []\n",
        "            mean_amp_macd = []\n",
        "            \n",
        "            for i in range(self.macd_gp.shape[0]):\n",
        "                mean_amp_temp = np.mean(abs(self.macd_gp.iloc[i,:]))\n",
        "                mean_amp_macd.append(mean_amp_temp)\n",
        "                if mean_amp_temp == 0:\n",
        "                    std = lambda x: x*mean_amp_temp\n",
        "                    norm_macd_temp_list = list(map(std, self.macd_gp.iloc[i,:].tolist()))\n",
        "                    norm_macd.append(norm_macd_temp_list)\n",
        "                else:\n",
        "                    std = lambda x: x/mean_amp_temp\n",
        "                    norm_macd_temp_list = list(map(std, self.macd_gp.iloc[i,:].tolist()))\n",
        "                    norm_macd.append(norm_macd_temp_list)\n",
        "                    \n",
        "            col_name = []\n",
        "            for i in range(len(norm_stk[0])):\n",
        "                col_name.append(\"std_macd\"+str(i))\n",
        "            \n",
        "            amp_macd = pd.DataFrame(norm_macd, columns=col_name)\n",
        "            amp_macd[\"mean_amp_osc\"] = mean_amp_macd\n",
        "            amp_macd.index = self.macd_gp.index\n",
        "            \n",
        "        return amp_osc, amp_stk, amp_macd\n",
        "    \n",
        "    def first_derivative_calculator(self, space = 1, name = \"macd\"):\n",
        "        \n",
        "        \n",
        "        if name == \"macd\":\n",
        "            dy = []\n",
        "            for i in range(self.macd_gp.shape[0]):\n",
        "                y = pd.Series(self.macd_gp.iloc[i,:])\n",
        "                temp_dy = list(np.gradient(y, space))\n",
        "                dy.append(temp_dy)\n",
        "    \n",
        "            col_name = []\n",
        "            for i in range(self.macd_gp.shape[1]):\n",
        "                col_name.append(name + \"deriv\"+ str(i))\n",
        "        \n",
        "            deriv_df = pd.DataFrame(dy, columns=col_name) \n",
        "            deriv_df.index = self.macd_gp.index\n",
        "            \n",
        "        if name == \"osc\":\n",
        "            dy = []\n",
        "            for i in range(self.osc_gp.shape[0]):\n",
        "                y = pd.Series(self.osc_gp.iloc[i,:])\n",
        "                temp_dy = list(np.gradient(y, space))\n",
        "                dy.append(temp_dy)\n",
        "    \n",
        "            col_name = []\n",
        "            for i in range(self.osc_gp.shape[1]):\n",
        "                col_name.append(name + \"deriv\"+ str(i))\n",
        "        \n",
        "            deriv_df = pd.DataFrame(dy, columns=col_name) \n",
        "            deriv_df.index = self.osc_gp.index\n",
        "            \n",
        "        return deriv_df\n",
        "    \n",
        "    def second_derivative_calculator(self, space = 1, name = \"macd\"):\n",
        "        \n",
        "        if name == \"macd\":\n",
        "            \n",
        "            ddy = []\n",
        "            for i in range(self.first_deriv_macd.shape[0]):\n",
        "                y = pd.Series(self.first_deriv_macd.iloc[i,:])\n",
        "                temp_ddy = list(np.gradient(y, space))\n",
        "                ddy.append(temp_ddy)\n",
        "    \n",
        "            col_name = []\n",
        "            for i in range(self.first_deriv_macd.shape[1]):\n",
        "                col_name.append(name + \"sec_deriv\"+ str(i))\n",
        "        \n",
        "            sec_deriv_df = pd.DataFrame(ddy, columns=col_name) \n",
        "            sec_deriv_df.index = self.first_deriv_macd.index\n",
        "        \n",
        "        if name == \"osc\":\n",
        "            \n",
        "            ddy = []\n",
        "            for i in range(self.first_deriv_osc.shape[0]):\n",
        "                y = pd.Series(self.first_deriv_osc.iloc[i,:])\n",
        "                temp_ddy = list(np.gradient(y, space))\n",
        "                ddy.append(temp_ddy)\n",
        "    \n",
        "            col_name = []\n",
        "            for i in range(self.first_deriv_osc.shape[1]):\n",
        "                col_name.append(name + \"sec_deriv\"+ str(i))\n",
        "        \n",
        "            sec_deriv_df = pd.DataFrame(ddy, columns=col_name) \n",
        "            sec_deriv_df.index = self.first_deriv_osc.index\n",
        "        \n",
        "        \n",
        "        return sec_deriv_df\n",
        "    \n",
        "    def var_stock_price(self):\n",
        "        variance_stk = []\n",
        "        for i in range(self.stk_gp.shape[0]):\n",
        "            variance_stk.append(np.var(self.stk_gp.iloc[i,:]))\n",
        "        \n",
        "        variance = pd.DataFrame(variance_stk, columns=[\"stk_variance\"]) \n",
        "        variance.index = self.stk_gp.index\n",
        "        \n",
        "        return variance\n",
        "    \n",
        "    def features_generator(self,\n",
        "                           base_features = True,\n",
        "                           psd=True, \n",
        "                           smooth=True, \n",
        "                           standardize = False, \n",
        "                           curvature=True, \n",
        "                           MACD_derivative = True, \n",
        "                           partial_smooth = True, \n",
        "                           var_stk = True):\n",
        "    # Feature order:\n",
        "    # 0-40, osc;\n",
        "    # 41-81, stk;\n",
        "    # 82-122: macd;\n",
        "    # 123-173: freq\n",
        "    # 174: smooth\n",
        "    # 175-215: first derivitive of osc\n",
        "    # 216-256: second derivitive of osc\n",
        "    # 257-297: first derivitive of macd\n",
        "    # 297-338: second derivitive of macd\n",
        "    \n",
        "    \n",
        "        self.stock = pd.DataFrame(self.data.stock)\n",
        "        self.stock = pd.get_dummies(self.stock)\n",
        "        self.stock.index = self.data.stock.index\n",
        "        \n",
        "        Feature_matrix = self.data.iloc[:,1:-1]\n",
        "        Feature_matrix = pd.merge(Feature_matrix, self.stock, left_index=True, right_index=True)\n",
        "\n",
        "\n",
        "        \n",
        "        # calculate the fft frequencies distribution for the oscillator\n",
        "        if psd==True:\n",
        "            print(\"now generating psd frequency\")\n",
        "            self.psd_osc = self.psd_calculator(NFFT = 100)\n",
        "            Feature_matrix = pd.merge(Feature_matrix, self.psd_osc, left_index=True, right_index=True)\n",
        "        \n",
        "        # print(Feature_matrix)\n",
        "        # Feature_matrix = pd.concat([Feature_matrix, psd_osc])\n",
        "    \n",
        "    # Factor for smoothness\n",
        "        if smooth==True:\n",
        "            print(\"now generating smoothness\")\n",
        "            self.smooth_osc = self.smooth_calculator()\n",
        "            Feature_matrix = pd.merge(Feature_matrix, self.smooth_osc, left_index=True, right_index=True)\n",
        "        \n",
        "        if standardize == True:\n",
        "            print(\"Normalizing the original osc, stk, macd\")\n",
        "            self.std_osc, self.std_stk, self.std_macd = self.amp_standardize()\n",
        "            Feature_matrix = pd.merge(Feature_matrix, self.std_osc, left_index=True, right_index=True)\n",
        "            Feature_matrix = pd.merge(Feature_matrix, self.std_stk, left_index=True, right_index=True)\n",
        "            Feature_matrix = pd.merge(Feature_matrix, self.std_macd, left_index=True, right_index=True)\n",
        "            \n",
        "            \n",
        "        \n",
        "    # Factor for curvature\n",
        "        if curvature == True:\n",
        "            print(\"now generating osc derivitives\")\n",
        "        # calculate the dy for osc (way to study curvature)\n",
        "            self.first_deriv_osc = self.first_derivative_calculator(name = \"osc\")\n",
        "            Feature_matrix = pd.merge(Feature_matrix, self.first_deriv_osc, left_index=True, right_index=True)\n",
        "        # calculate the ddy for osc\n",
        "            self.second_deriv_osc = self.second_derivative_calculator(name = \"osc\")\n",
        "            Feature_matrix = pd.merge(Feature_matrix, self.second_deriv_osc, left_index=True, right_index=True)\n",
        "        \n",
        "    # MACD dirivative\n",
        "        if MACD_derivative == True:\n",
        "            print(\"now generating MACD derivitives\")\n",
        "            # calculate the dy for macd\n",
        "            self.first_deriv_macd = self.first_derivative_calculator(name = \"macd\")\n",
        "            Feature_matrix = pd.merge(Feature_matrix, self.first_deriv_macd, left_index=True, right_index=True)\n",
        "        # calculate the ddy for macd\n",
        "            self.second_deriv_macd = self.second_derivative_calculator(name = \"macd\")\n",
        "            Feature_matrix = pd.merge(Feature_matrix, self.second_deriv_macd, left_index=True, right_index=True)\n",
        "        # Feature_matrix = pd.concat([Feature_matrix, first_deriv_macd,second_deriv_macd])\n",
        "    \n",
        "    # partial smoothness\n",
        "        if partial_smooth == True:\n",
        "            print(\"now generating partial smoothness\")\n",
        "            self.partial_smooth = self.smooth_partial()\n",
        "            Feature_matrix = pd.merge(Feature_matrix, self.partial_smooth, left_index=True, right_index=True)\n",
        "        \n",
        "         # variance of stk\n",
        "        if var_stk == True:\n",
        "            print(\"now generating stk volatility\")\n",
        "            self.variance_stk = self.var_stock_price()\n",
        "            Feature_matrix = pd.merge(Feature_matrix, self.variance_stk, left_index=True, right_index=True)\n",
        "        \n",
        "        if base_features == False:\n",
        "            Feature_matrix = Feature_matrix.iloc[:,:123]\n",
        "        \n",
        "        self.feature_result_df = pd.merge(Feature_matrix, self.label_gp, left_index=True, right_index=True)\n",
        "    \n",
        "    \n",
        "    def model_train(self, model_type = \"RandomForest\", n_estimators = 20, max_depth = 80):\n",
        "        \n",
        "        if model_type == \"RandomForest\":\n",
        "            self.model = RandomForestClassifier(n_estimators=n_estimators, max_depth=max_depth)\n",
        "            \n",
        "        Feature_matrix = self.feature_result_df.iloc[:,:-1]\n",
        "        label_gp = self.feature_result_df.iloc[:,-1]\n",
        "        \n",
        "        #Split test set\n",
        "        self.X, self.X_test, self.y, self.y_test = train_test_split(Feature_matrix, label_gp, test_size=0.2)\n",
        "\n",
        "        #Split train/validation set\n",
        "        # self.X_train, self.X_valid, self.y_train, self.y_valid = train_test_split(X, y, test_size=0.2)\n",
        "        \n",
        "        self.model.fit(self.X, self.y)\n",
        "        \n",
        "        scores = cross_val_score(self.model, self.X, self.y, cv=5)\n",
        "        \n",
        "        print(\"Validation Accuracy: %0.2f (+/- %0.2f)\" % (scores.mean(), scores.std() * 2))\n",
        "        print(\"Test Accuracy:\", self.model.score(self.X_test, self.y_test))\n",
        "        \n",
        "        \n",
        "        prob = self.model.predict_proba(self.X_test)\n",
        "        # not quite familar and confortable with the log probability, just going to the normal probability\n",
        "    \n",
        "        # get the probbability of being 1\n",
        "        proba_1 = []\n",
        "        for probs in prob:\n",
        "            proba_1.append(probs[1])\n",
        "    \n",
        "        df_result = pd.DataFrame({\"predicted_prob\":proba_1,\n",
        "                             \"true_label\": self.y_test})\n",
        "    \n",
        "        df_count = df_result.groupby(\"predicted_prob\").count()\n",
        "        df_win = df_result.groupby(\"predicted_prob\").sum()\n",
        "    \n",
        "        self.report = pd.DataFrame(df_win/df_count[[\"true_label\"]])\n",
        "        self.report[\"count\"] = df_count\n",
        "    \n",
        "        self.report.columns = [\"true_win_rate\", \"count\"]\n",
        "        \n",
        "    #def feature_analyzing(self):\n",
        "        "
      ],
      "execution_count": 0,
      "outputs": []
    },
    {
      "cell_type": "code",
      "metadata": {
        "id": "w57jNCC1t-D2",
        "colab_type": "code",
        "colab": {}
      },
      "source": [
        "OSC_buy = OSC_analyzing_pipeline(df_gp)"
      ],
      "execution_count": 0,
      "outputs": []
    },
    {
      "cell_type": "code",
      "metadata": {
        "id": "XAYtAiHLZ3Gl",
        "colab_type": "code",
        "colab": {}
      },
      "source": [
        "def fit_plot(index, df):\n",
        "    \n",
        "    list_x = range(41)\n",
        "    list_y = df.iloc[index,:]\n",
        "    with plt.style.context(style = 'bmh'):\n",
        "        plt.figure()\n",
        "        poly = np.polyfit(list_x,list_y,5)\n",
        "        poly_y = np.poly1d(poly)(list_x)\n",
        "        plt.plot(list_x,poly_y)\n",
        "        plt.plot(list_x,list_y)\n",
        "        plt.xlabel(\"three days ---> signal\")\n",
        "        plt.ylabel(\"OSC values\")\n",
        "        plt.title(\"smoothness = 45\")\n",
        "        plt.show()"
      ],
      "execution_count": 0,
      "outputs": []
    },
    {
      "cell_type": "markdown",
      "metadata": {
        "id": "hPawwwAJVug3",
        "colab_type": "text"
      },
      "source": [
        "# Subset a smaller dataframe for function testing"
      ]
    },
    {
      "cell_type": "code",
      "metadata": {
        "id": "FSSLoRWnVug4",
        "colab_type": "code",
        "colab": {}
      },
      "source": [
        "df_test = pd.DataFrame(df_gp.iloc[100:110, :].reset_index(drop = True))"
      ],
      "execution_count": 0,
      "outputs": []
    },
    {
      "cell_type": "code",
      "metadata": {
        "id": "Vog4W6jHVug6",
        "colab_type": "code",
        "colab": {
          "base_uri": "https://localhost:8080/",
          "height": 393
        },
        "outputId": "5ffea028-9f0f-4a5f-ae24-a0a5f69965d6"
      },
      "source": [
        "df_test.head()\n",
        "# use merge instead of concat!\n",
        "# do not use same name for different variables..."
      ],
      "execution_count": 19,
      "outputs": [
        {
          "output_type": "execute_result",
          "data": {
            "text/html": [
              "<div>\n",
              "<style scoped>\n",
              "    .dataframe tbody tr th:only-of-type {\n",
              "        vertical-align: middle;\n",
              "    }\n",
              "\n",
              "    .dataframe tbody tr th {\n",
              "        vertical-align: top;\n",
              "    }\n",
              "\n",
              "    .dataframe thead th {\n",
              "        text-align: right;\n",
              "    }\n",
              "</style>\n",
              "<table border=\"1\" class=\"dataframe\">\n",
              "  <thead>\n",
              "    <tr style=\"text-align: right;\">\n",
              "      <th></th>\n",
              "      <th>stock</th>\n",
              "      <th>0</th>\n",
              "      <th>1</th>\n",
              "      <th>2</th>\n",
              "      <th>3</th>\n",
              "      <th>4</th>\n",
              "      <th>5</th>\n",
              "      <th>6</th>\n",
              "      <th>7</th>\n",
              "      <th>8</th>\n",
              "      <th>9</th>\n",
              "      <th>10</th>\n",
              "      <th>11</th>\n",
              "      <th>12</th>\n",
              "      <th>13</th>\n",
              "      <th>14</th>\n",
              "      <th>15</th>\n",
              "      <th>16</th>\n",
              "      <th>17</th>\n",
              "      <th>18</th>\n",
              "      <th>19</th>\n",
              "      <th>20</th>\n",
              "      <th>21</th>\n",
              "      <th>22</th>\n",
              "      <th>23</th>\n",
              "      <th>24</th>\n",
              "      <th>25</th>\n",
              "      <th>26</th>\n",
              "      <th>27</th>\n",
              "      <th>28</th>\n",
              "      <th>29</th>\n",
              "      <th>30</th>\n",
              "      <th>31</th>\n",
              "      <th>32</th>\n",
              "      <th>33</th>\n",
              "      <th>34</th>\n",
              "      <th>35</th>\n",
              "      <th>36</th>\n",
              "      <th>37</th>\n",
              "      <th>38</th>\n",
              "      <th>...</th>\n",
              "      <th>84</th>\n",
              "      <th>85</th>\n",
              "      <th>86</th>\n",
              "      <th>87</th>\n",
              "      <th>88</th>\n",
              "      <th>89</th>\n",
              "      <th>90</th>\n",
              "      <th>91</th>\n",
              "      <th>92</th>\n",
              "      <th>93</th>\n",
              "      <th>94</th>\n",
              "      <th>95</th>\n",
              "      <th>96</th>\n",
              "      <th>97</th>\n",
              "      <th>98</th>\n",
              "      <th>99</th>\n",
              "      <th>100</th>\n",
              "      <th>101</th>\n",
              "      <th>102</th>\n",
              "      <th>103</th>\n",
              "      <th>104</th>\n",
              "      <th>105</th>\n",
              "      <th>106</th>\n",
              "      <th>107</th>\n",
              "      <th>108</th>\n",
              "      <th>109</th>\n",
              "      <th>110</th>\n",
              "      <th>111</th>\n",
              "      <th>112</th>\n",
              "      <th>113</th>\n",
              "      <th>114</th>\n",
              "      <th>115</th>\n",
              "      <th>116</th>\n",
              "      <th>117</th>\n",
              "      <th>118</th>\n",
              "      <th>119</th>\n",
              "      <th>120</th>\n",
              "      <th>121</th>\n",
              "      <th>122</th>\n",
              "      <th>rtn</th>\n",
              "    </tr>\n",
              "  </thead>\n",
              "  <tbody>\n",
              "    <tr>\n",
              "      <th>0</th>\n",
              "      <td>adbe</td>\n",
              "      <td>-1.74</td>\n",
              "      <td>-1.95</td>\n",
              "      <td>-1.94</td>\n",
              "      <td>-1.83</td>\n",
              "      <td>-1.59</td>\n",
              "      <td>-1.20</td>\n",
              "      <td>-0.72</td>\n",
              "      <td>-0.39</td>\n",
              "      <td>0.02</td>\n",
              "      <td>0.44</td>\n",
              "      <td>0.72</td>\n",
              "      <td>1.09</td>\n",
              "      <td>1.32</td>\n",
              "      <td>1.46</td>\n",
              "      <td>1.66</td>\n",
              "      <td>1.80</td>\n",
              "      <td>1.87</td>\n",
              "      <td>2.06</td>\n",
              "      <td>2.22</td>\n",
              "      <td>2.27</td>\n",
              "      <td>2.36</td>\n",
              "      <td>2.34</td>\n",
              "      <td>2.31</td>\n",
              "      <td>2.38</td>\n",
              "      <td>2.33</td>\n",
              "      <td>2.17</td>\n",
              "      <td>2.04</td>\n",
              "      <td>1.92</td>\n",
              "      <td>1.79</td>\n",
              "      <td>1.73</td>\n",
              "      <td>1.73</td>\n",
              "      <td>1.62</td>\n",
              "      <td>1.63</td>\n",
              "      <td>1.58</td>\n",
              "      <td>1.53</td>\n",
              "      <td>1.45</td>\n",
              "      <td>1.31</td>\n",
              "      <td>1.28</td>\n",
              "      <td>1.21</td>\n",
              "      <td>...</td>\n",
              "      <td>-0.50</td>\n",
              "      <td>-0.61</td>\n",
              "      <td>-0.72</td>\n",
              "      <td>-0.76</td>\n",
              "      <td>-0.67</td>\n",
              "      <td>-0.65</td>\n",
              "      <td>-0.65</td>\n",
              "      <td>-0.56</td>\n",
              "      <td>-0.47</td>\n",
              "      <td>-0.29</td>\n",
              "      <td>-0.27</td>\n",
              "      <td>-0.29</td>\n",
              "      <td>-0.26</td>\n",
              "      <td>-0.22</td>\n",
              "      <td>-0.16</td>\n",
              "      <td>-0.08</td>\n",
              "      <td>0.05</td>\n",
              "      <td>0.12</td>\n",
              "      <td>0.15</td>\n",
              "      <td>0.14</td>\n",
              "      <td>0.10</td>\n",
              "      <td>0.12</td>\n",
              "      <td>0.13</td>\n",
              "      <td>0.04</td>\n",
              "      <td>0.05</td>\n",
              "      <td>0.08</td>\n",
              "      <td>0.04</td>\n",
              "      <td>0.09</td>\n",
              "      <td>0.12</td>\n",
              "      <td>0.17</td>\n",
              "      <td>0.22</td>\n",
              "      <td>0.26</td>\n",
              "      <td>0.27</td>\n",
              "      <td>0.24</td>\n",
              "      <td>0.13</td>\n",
              "      <td>-0.02</td>\n",
              "      <td>-0.10</td>\n",
              "      <td>-0.08</td>\n",
              "      <td>-0.05</td>\n",
              "      <td>3.07</td>\n",
              "    </tr>\n",
              "    <tr>\n",
              "      <th>1</th>\n",
              "      <td>adbe</td>\n",
              "      <td>2.47</td>\n",
              "      <td>2.34</td>\n",
              "      <td>2.38</td>\n",
              "      <td>2.63</td>\n",
              "      <td>2.79</td>\n",
              "      <td>2.89</td>\n",
              "      <td>3.03</td>\n",
              "      <td>3.11</td>\n",
              "      <td>3.06</td>\n",
              "      <td>2.79</td>\n",
              "      <td>2.27</td>\n",
              "      <td>1.71</td>\n",
              "      <td>1.22</td>\n",
              "      <td>0.68</td>\n",
              "      <td>0.10</td>\n",
              "      <td>-0.50</td>\n",
              "      <td>-1.24</td>\n",
              "      <td>-1.58</td>\n",
              "      <td>-1.74</td>\n",
              "      <td>-1.95</td>\n",
              "      <td>-1.94</td>\n",
              "      <td>-1.83</td>\n",
              "      <td>-1.59</td>\n",
              "      <td>-1.20</td>\n",
              "      <td>-0.72</td>\n",
              "      <td>-0.39</td>\n",
              "      <td>0.02</td>\n",
              "      <td>0.44</td>\n",
              "      <td>0.72</td>\n",
              "      <td>1.09</td>\n",
              "      <td>1.32</td>\n",
              "      <td>1.46</td>\n",
              "      <td>1.66</td>\n",
              "      <td>1.80</td>\n",
              "      <td>1.87</td>\n",
              "      <td>2.06</td>\n",
              "      <td>2.22</td>\n",
              "      <td>2.27</td>\n",
              "      <td>2.36</td>\n",
              "      <td>...</td>\n",
              "      <td>0.45</td>\n",
              "      <td>0.20</td>\n",
              "      <td>0.09</td>\n",
              "      <td>0.13</td>\n",
              "      <td>0.17</td>\n",
              "      <td>0.26</td>\n",
              "      <td>0.32</td>\n",
              "      <td>0.44</td>\n",
              "      <td>0.50</td>\n",
              "      <td>0.56</td>\n",
              "      <td>0.61</td>\n",
              "      <td>0.63</td>\n",
              "      <td>0.57</td>\n",
              "      <td>0.41</td>\n",
              "      <td>0.16</td>\n",
              "      <td>-0.08</td>\n",
              "      <td>-0.18</td>\n",
              "      <td>-0.35</td>\n",
              "      <td>-0.50</td>\n",
              "      <td>-0.61</td>\n",
              "      <td>-0.72</td>\n",
              "      <td>-0.76</td>\n",
              "      <td>-0.67</td>\n",
              "      <td>-0.65</td>\n",
              "      <td>-0.65</td>\n",
              "      <td>-0.56</td>\n",
              "      <td>-0.47</td>\n",
              "      <td>-0.29</td>\n",
              "      <td>-0.27</td>\n",
              "      <td>-0.29</td>\n",
              "      <td>-0.26</td>\n",
              "      <td>-0.22</td>\n",
              "      <td>-0.16</td>\n",
              "      <td>-0.08</td>\n",
              "      <td>0.05</td>\n",
              "      <td>0.12</td>\n",
              "      <td>0.15</td>\n",
              "      <td>0.14</td>\n",
              "      <td>0.10</td>\n",
              "      <td>-1.00</td>\n",
              "    </tr>\n",
              "    <tr>\n",
              "      <th>2</th>\n",
              "      <td>adbe</td>\n",
              "      <td>-0.89</td>\n",
              "      <td>-0.95</td>\n",
              "      <td>-0.89</td>\n",
              "      <td>-0.47</td>\n",
              "      <td>-0.01</td>\n",
              "      <td>0.55</td>\n",
              "      <td>1.02</td>\n",
              "      <td>1.69</td>\n",
              "      <td>2.31</td>\n",
              "      <td>2.90</td>\n",
              "      <td>3.42</td>\n",
              "      <td>3.59</td>\n",
              "      <td>3.71</td>\n",
              "      <td>3.76</td>\n",
              "      <td>3.84</td>\n",
              "      <td>3.77</td>\n",
              "      <td>3.52</td>\n",
              "      <td>3.24</td>\n",
              "      <td>3.00</td>\n",
              "      <td>2.82</td>\n",
              "      <td>2.57</td>\n",
              "      <td>2.47</td>\n",
              "      <td>2.34</td>\n",
              "      <td>2.38</td>\n",
              "      <td>2.63</td>\n",
              "      <td>2.79</td>\n",
              "      <td>2.89</td>\n",
              "      <td>3.03</td>\n",
              "      <td>3.11</td>\n",
              "      <td>3.06</td>\n",
              "      <td>2.79</td>\n",
              "      <td>2.27</td>\n",
              "      <td>1.71</td>\n",
              "      <td>1.22</td>\n",
              "      <td>0.68</td>\n",
              "      <td>0.10</td>\n",
              "      <td>-0.50</td>\n",
              "      <td>-1.24</td>\n",
              "      <td>-1.58</td>\n",
              "      <td>...</td>\n",
              "      <td>-0.52</td>\n",
              "      <td>-0.48</td>\n",
              "      <td>-0.49</td>\n",
              "      <td>-0.47</td>\n",
              "      <td>-0.43</td>\n",
              "      <td>-0.36</td>\n",
              "      <td>-0.27</td>\n",
              "      <td>-0.16</td>\n",
              "      <td>0.00</td>\n",
              "      <td>0.01</td>\n",
              "      <td>-0.03</td>\n",
              "      <td>0.05</td>\n",
              "      <td>0.21</td>\n",
              "      <td>0.35</td>\n",
              "      <td>0.45</td>\n",
              "      <td>0.62</td>\n",
              "      <td>0.73</td>\n",
              "      <td>0.89</td>\n",
              "      <td>0.92</td>\n",
              "      <td>0.89</td>\n",
              "      <td>0.74</td>\n",
              "      <td>0.45</td>\n",
              "      <td>0.20</td>\n",
              "      <td>0.09</td>\n",
              "      <td>0.13</td>\n",
              "      <td>0.17</td>\n",
              "      <td>0.26</td>\n",
              "      <td>0.32</td>\n",
              "      <td>0.44</td>\n",
              "      <td>0.50</td>\n",
              "      <td>0.56</td>\n",
              "      <td>0.61</td>\n",
              "      <td>0.63</td>\n",
              "      <td>0.57</td>\n",
              "      <td>0.41</td>\n",
              "      <td>0.16</td>\n",
              "      <td>-0.08</td>\n",
              "      <td>-0.18</td>\n",
              "      <td>-0.35</td>\n",
              "      <td>-0.39</td>\n",
              "    </tr>\n",
              "    <tr>\n",
              "      <th>3</th>\n",
              "      <td>adbe</td>\n",
              "      <td>-0.88</td>\n",
              "      <td>-0.91</td>\n",
              "      <td>-0.89</td>\n",
              "      <td>-0.95</td>\n",
              "      <td>-0.89</td>\n",
              "      <td>-0.47</td>\n",
              "      <td>-0.01</td>\n",
              "      <td>0.55</td>\n",
              "      <td>1.02</td>\n",
              "      <td>1.69</td>\n",
              "      <td>2.31</td>\n",
              "      <td>2.90</td>\n",
              "      <td>3.42</td>\n",
              "      <td>3.59</td>\n",
              "      <td>3.71</td>\n",
              "      <td>3.76</td>\n",
              "      <td>3.84</td>\n",
              "      <td>3.77</td>\n",
              "      <td>3.52</td>\n",
              "      <td>3.24</td>\n",
              "      <td>3.00</td>\n",
              "      <td>2.82</td>\n",
              "      <td>2.57</td>\n",
              "      <td>2.47</td>\n",
              "      <td>2.34</td>\n",
              "      <td>2.38</td>\n",
              "      <td>2.63</td>\n",
              "      <td>2.79</td>\n",
              "      <td>2.89</td>\n",
              "      <td>3.03</td>\n",
              "      <td>3.11</td>\n",
              "      <td>3.06</td>\n",
              "      <td>2.79</td>\n",
              "      <td>2.27</td>\n",
              "      <td>1.71</td>\n",
              "      <td>1.22</td>\n",
              "      <td>0.68</td>\n",
              "      <td>0.10</td>\n",
              "      <td>-0.50</td>\n",
              "      <td>...</td>\n",
              "      <td>-0.52</td>\n",
              "      <td>-0.49</td>\n",
              "      <td>-0.52</td>\n",
              "      <td>-0.48</td>\n",
              "      <td>-0.49</td>\n",
              "      <td>-0.47</td>\n",
              "      <td>-0.43</td>\n",
              "      <td>-0.36</td>\n",
              "      <td>-0.27</td>\n",
              "      <td>-0.16</td>\n",
              "      <td>0.00</td>\n",
              "      <td>0.01</td>\n",
              "      <td>-0.03</td>\n",
              "      <td>0.05</td>\n",
              "      <td>0.21</td>\n",
              "      <td>0.35</td>\n",
              "      <td>0.45</td>\n",
              "      <td>0.62</td>\n",
              "      <td>0.73</td>\n",
              "      <td>0.89</td>\n",
              "      <td>0.92</td>\n",
              "      <td>0.89</td>\n",
              "      <td>0.74</td>\n",
              "      <td>0.45</td>\n",
              "      <td>0.20</td>\n",
              "      <td>0.09</td>\n",
              "      <td>0.13</td>\n",
              "      <td>0.17</td>\n",
              "      <td>0.26</td>\n",
              "      <td>0.32</td>\n",
              "      <td>0.44</td>\n",
              "      <td>0.50</td>\n",
              "      <td>0.56</td>\n",
              "      <td>0.61</td>\n",
              "      <td>0.63</td>\n",
              "      <td>0.57</td>\n",
              "      <td>0.41</td>\n",
              "      <td>0.16</td>\n",
              "      <td>-0.08</td>\n",
              "      <td>-1.55</td>\n",
              "    </tr>\n",
              "    <tr>\n",
              "      <th>4</th>\n",
              "      <td>adbe</td>\n",
              "      <td>-1.08</td>\n",
              "      <td>-1.13</td>\n",
              "      <td>-0.88</td>\n",
              "      <td>-0.91</td>\n",
              "      <td>-0.89</td>\n",
              "      <td>-0.95</td>\n",
              "      <td>-0.89</td>\n",
              "      <td>-0.47</td>\n",
              "      <td>-0.01</td>\n",
              "      <td>0.55</td>\n",
              "      <td>1.02</td>\n",
              "      <td>1.69</td>\n",
              "      <td>2.31</td>\n",
              "      <td>2.90</td>\n",
              "      <td>3.42</td>\n",
              "      <td>3.59</td>\n",
              "      <td>3.71</td>\n",
              "      <td>3.76</td>\n",
              "      <td>3.84</td>\n",
              "      <td>3.77</td>\n",
              "      <td>3.52</td>\n",
              "      <td>3.24</td>\n",
              "      <td>3.00</td>\n",
              "      <td>2.82</td>\n",
              "      <td>2.57</td>\n",
              "      <td>2.47</td>\n",
              "      <td>2.34</td>\n",
              "      <td>2.38</td>\n",
              "      <td>2.63</td>\n",
              "      <td>2.79</td>\n",
              "      <td>2.89</td>\n",
              "      <td>3.03</td>\n",
              "      <td>3.11</td>\n",
              "      <td>3.06</td>\n",
              "      <td>2.79</td>\n",
              "      <td>2.27</td>\n",
              "      <td>1.71</td>\n",
              "      <td>1.22</td>\n",
              "      <td>0.68</td>\n",
              "      <td>...</td>\n",
              "      <td>-0.46</td>\n",
              "      <td>-0.56</td>\n",
              "      <td>-0.52</td>\n",
              "      <td>-0.49</td>\n",
              "      <td>-0.52</td>\n",
              "      <td>-0.48</td>\n",
              "      <td>-0.49</td>\n",
              "      <td>-0.47</td>\n",
              "      <td>-0.43</td>\n",
              "      <td>-0.36</td>\n",
              "      <td>-0.27</td>\n",
              "      <td>-0.16</td>\n",
              "      <td>0.00</td>\n",
              "      <td>0.01</td>\n",
              "      <td>-0.03</td>\n",
              "      <td>0.05</td>\n",
              "      <td>0.21</td>\n",
              "      <td>0.35</td>\n",
              "      <td>0.45</td>\n",
              "      <td>0.62</td>\n",
              "      <td>0.73</td>\n",
              "      <td>0.89</td>\n",
              "      <td>0.92</td>\n",
              "      <td>0.89</td>\n",
              "      <td>0.74</td>\n",
              "      <td>0.45</td>\n",
              "      <td>0.20</td>\n",
              "      <td>0.09</td>\n",
              "      <td>0.13</td>\n",
              "      <td>0.17</td>\n",
              "      <td>0.26</td>\n",
              "      <td>0.32</td>\n",
              "      <td>0.44</td>\n",
              "      <td>0.50</td>\n",
              "      <td>0.56</td>\n",
              "      <td>0.61</td>\n",
              "      <td>0.63</td>\n",
              "      <td>0.57</td>\n",
              "      <td>0.41</td>\n",
              "      <td>-0.47</td>\n",
              "    </tr>\n",
              "  </tbody>\n",
              "</table>\n",
              "<p>5 rows × 125 columns</p>\n",
              "</div>"
            ],
            "text/plain": [
              "  stock     0     1     2     3     4  ...   118   119   120   121   122   rtn\n",
              "0  adbe -1.74 -1.95 -1.94 -1.83 -1.59  ...  0.13 -0.02 -0.10 -0.08 -0.05  3.07\n",
              "1  adbe  2.47  2.34  2.38  2.63  2.79  ...  0.05  0.12  0.15  0.14  0.10 -1.00\n",
              "2  adbe -0.89 -0.95 -0.89 -0.47 -0.01  ...  0.41  0.16 -0.08 -0.18 -0.35 -0.39\n",
              "3  adbe -0.88 -0.91 -0.89 -0.95 -0.89  ...  0.63  0.57  0.41  0.16 -0.08 -1.55\n",
              "4  adbe -1.08 -1.13 -0.88 -0.91 -0.89  ...  0.56  0.61  0.63  0.57  0.41 -0.47\n",
              "\n",
              "[5 rows x 125 columns]"
            ]
          },
          "metadata": {
            "tags": []
          },
          "execution_count": 19
        }
      ]
    },
    {
      "cell_type": "code",
      "metadata": {
        "id": "7pd3YvW2rRST",
        "colab_type": "code",
        "colab": {}
      },
      "source": [
        "osc_test = df_test.iloc[:,1:42]\n",
        "#osc_test.head()\n",
        "rtn_test = df_test.iloc[:,123]\n"
      ],
      "execution_count": 0,
      "outputs": []
    },
    {
      "cell_type": "code",
      "metadata": {
        "id": "UQa57YYDVug8",
        "colab_type": "code",
        "colab": {}
      },
      "source": [
        "# Exploring smoothness with fit\n",
        "smooth = []\n",
        "smooth_op_degree = []\n",
        "list_x = range(41)\n",
        "for i in range(osc_test.shape[0]):\n",
        "  \n",
        "    list_y = osc_test.iloc[i,:]\n",
        "    \n",
        "    temp_smooth = []\n",
        "    poly_4 = np.polyfit(list_x,list_y,4, full = True)\n",
        "    poly_5 = np.polyfit(list_x,list_y,5, full = True)\n",
        "    poly_6 = np.polyfit(list_x,list_y,6, full = True)\n",
        "    \n",
        "    temp_smooth.append(poly_4[1][0])\n",
        "    temp_smooth.append(poly_5[1][0])\n",
        "    temp_smooth.append(poly_6[1][0])\n",
        "    \n",
        "    # find the optimum smoothness\n",
        "    smooth.append(min(temp_smooth))\n",
        "    # find the degree that gives the optimum smoothness\n",
        "    smooth_op_degree.append(np.argmin(temp_smooth) + 4) \n",
        "        \n",
        "df_smoo_rtn = pd.DataFrame({\"smooth\": smooth,\n",
        "                            \"smooth_degree\":smooth_op_degree,\n",
        "                           \"rtn\": rtn_test})"
      ],
      "execution_count": 0,
      "outputs": []
    },
    {
      "cell_type": "code",
      "metadata": {
        "id": "7U4soBZltjUH",
        "colab_type": "code",
        "colab": {
          "base_uri": "https://localhost:8080/",
          "height": 111
        },
        "outputId": "1cc87a1e-9e35-44bf-9db4-fc767b71c8c3"
      },
      "source": [
        "df_smoo_rtn.groupby(\"smooth_degree\").count()"
      ],
      "execution_count": 33,
      "outputs": [
        {
          "output_type": "execute_result",
          "data": {
            "text/html": [
              "<div>\n",
              "<style scoped>\n",
              "    .dataframe tbody tr th:only-of-type {\n",
              "        vertical-align: middle;\n",
              "    }\n",
              "\n",
              "    .dataframe tbody tr th {\n",
              "        vertical-align: top;\n",
              "    }\n",
              "\n",
              "    .dataframe thead th {\n",
              "        text-align: right;\n",
              "    }\n",
              "</style>\n",
              "<table border=\"1\" class=\"dataframe\">\n",
              "  <thead>\n",
              "    <tr style=\"text-align: right;\">\n",
              "      <th></th>\n",
              "      <th>smooth</th>\n",
              "      <th>rtn</th>\n",
              "    </tr>\n",
              "    <tr>\n",
              "      <th>smooth_degree</th>\n",
              "      <th></th>\n",
              "      <th></th>\n",
              "    </tr>\n",
              "  </thead>\n",
              "  <tbody>\n",
              "    <tr>\n",
              "      <th>6</th>\n",
              "      <td>10</td>\n",
              "      <td>10</td>\n",
              "    </tr>\n",
              "  </tbody>\n",
              "</table>\n",
              "</div>"
            ],
            "text/plain": [
              "               smooth  rtn\n",
              "smooth_degree             \n",
              "6                  10   10"
            ]
          },
          "metadata": {
            "tags": []
          },
          "execution_count": 33
        }
      ]
    },
    {
      "cell_type": "markdown",
      "metadata": {
        "id": "Eyyj1hWmtz4F",
        "colab_type": "text"
      },
      "source": [
        "# What about the whole dataset"
      ]
    },
    {
      "cell_type": "code",
      "metadata": {
        "id": "NIY-tG1ttyp3",
        "colab_type": "code",
        "colab": {
          "base_uri": "https://localhost:8080/",
          "height": 375
        },
        "outputId": "212d89ea-7070-4314-a956-90985aaa0ce0"
      },
      "source": [
        "# Exploring smoothness with fit\n",
        "smooth = []\n",
        "smooth_op_degree = []\n",
        "list_x = range(41)\n",
        "for i in range(OSC_buy.osc_gp.shape[0]):\n",
        "  \n",
        "    list_y = OSC_buy.osc_gp.iloc[i,:]\n",
        "    \n",
        "    temp_smooth = []\n",
        "    poly_4 = np.polyfit(list_x,list_y,4, full = True)\n",
        "    poly_5 = np.polyfit(list_x,list_y,5, full = True)\n",
        "    poly_6 = np.polyfit(list_x,list_y,6, full = True)\n",
        "    \n",
        "    temp_smooth.append(poly_4[1][0])\n",
        "    temp_smooth.append(poly_5[1][0])\n",
        "    temp_smooth.append(poly_6[1][0])\n",
        "    \n",
        "    # find the optimum smoothness\n",
        "    smooth.append(min(temp_smooth))\n",
        "    # find the degree that gives the optimum smoothness\n",
        "    smooth_op_degree.append(np.argmin(temp_smooth) + 4) \n",
        "        \n",
        "df_smoo_rtn = pd.DataFrame({\"smooth\": smooth,\n",
        "                            \"smooth_degree\":smooth_op_degree,\n",
        "                           \"rtn\": OSC_buy.rtn_gp})"
      ],
      "execution_count": 11,
      "outputs": [
        {
          "output_type": "error",
          "ename": "KeyboardInterrupt",
          "evalue": "ignored",
          "traceback": [
            "\u001b[0;31m---------------------------------------------------------------------------\u001b[0m",
            "\u001b[0;31mKeyboardInterrupt\u001b[0m                         Traceback (most recent call last)",
            "\u001b[0;32m<ipython-input-11-a3faed53484e>\u001b[0m in \u001b[0;36m<module>\u001b[0;34m()\u001b[0m\n\u001b[1;32m      9\u001b[0m     \u001b[0mpoly_4\u001b[0m \u001b[0;34m=\u001b[0m \u001b[0mnp\u001b[0m\u001b[0;34m.\u001b[0m\u001b[0mpolyfit\u001b[0m\u001b[0;34m(\u001b[0m\u001b[0mlist_x\u001b[0m\u001b[0;34m,\u001b[0m\u001b[0mlist_y\u001b[0m\u001b[0;34m,\u001b[0m\u001b[0;36m4\u001b[0m\u001b[0;34m,\u001b[0m \u001b[0mfull\u001b[0m \u001b[0;34m=\u001b[0m \u001b[0;32mTrue\u001b[0m\u001b[0;34m)\u001b[0m\u001b[0;34m\u001b[0m\u001b[0;34m\u001b[0m\u001b[0m\n\u001b[1;32m     10\u001b[0m     \u001b[0mpoly_5\u001b[0m \u001b[0;34m=\u001b[0m \u001b[0mnp\u001b[0m\u001b[0;34m.\u001b[0m\u001b[0mpolyfit\u001b[0m\u001b[0;34m(\u001b[0m\u001b[0mlist_x\u001b[0m\u001b[0;34m,\u001b[0m\u001b[0mlist_y\u001b[0m\u001b[0;34m,\u001b[0m\u001b[0;36m5\u001b[0m\u001b[0;34m,\u001b[0m \u001b[0mfull\u001b[0m \u001b[0;34m=\u001b[0m \u001b[0;32mTrue\u001b[0m\u001b[0;34m)\u001b[0m\u001b[0;34m\u001b[0m\u001b[0;34m\u001b[0m\u001b[0m\n\u001b[0;32m---> 11\u001b[0;31m     \u001b[0mpoly_6\u001b[0m \u001b[0;34m=\u001b[0m \u001b[0mnp\u001b[0m\u001b[0;34m.\u001b[0m\u001b[0mpolyfit\u001b[0m\u001b[0;34m(\u001b[0m\u001b[0mlist_x\u001b[0m\u001b[0;34m,\u001b[0m\u001b[0mlist_y\u001b[0m\u001b[0;34m,\u001b[0m\u001b[0;36m6\u001b[0m\u001b[0;34m,\u001b[0m \u001b[0mfull\u001b[0m \u001b[0;34m=\u001b[0m \u001b[0;32mTrue\u001b[0m\u001b[0;34m)\u001b[0m\u001b[0;34m\u001b[0m\u001b[0;34m\u001b[0m\u001b[0m\n\u001b[0m\u001b[1;32m     12\u001b[0m \u001b[0;34m\u001b[0m\u001b[0m\n\u001b[1;32m     13\u001b[0m     \u001b[0mtemp_smooth\u001b[0m\u001b[0;34m.\u001b[0m\u001b[0mappend\u001b[0m\u001b[0;34m(\u001b[0m\u001b[0mpoly_4\u001b[0m\u001b[0;34m[\u001b[0m\u001b[0;36m1\u001b[0m\u001b[0;34m]\u001b[0m\u001b[0;34m[\u001b[0m\u001b[0;36m0\u001b[0m\u001b[0;34m]\u001b[0m\u001b[0;34m)\u001b[0m\u001b[0;34m\u001b[0m\u001b[0;34m\u001b[0m\u001b[0m\n",
            "\u001b[0;32m/usr/local/lib/python3.6/dist-packages/numpy/lib/polynomial.py\u001b[0m in \u001b[0;36mpolyfit\u001b[0;34m(x, y, deg, rcond, full, w, cov)\u001b[0m\n\u001b[1;32m    626\u001b[0m     \u001b[0mscale\u001b[0m \u001b[0;34m=\u001b[0m \u001b[0mNX\u001b[0m\u001b[0;34m.\u001b[0m\u001b[0msqrt\u001b[0m\u001b[0;34m(\u001b[0m\u001b[0;34m(\u001b[0m\u001b[0mlhs\u001b[0m\u001b[0;34m*\u001b[0m\u001b[0mlhs\u001b[0m\u001b[0;34m)\u001b[0m\u001b[0;34m.\u001b[0m\u001b[0msum\u001b[0m\u001b[0;34m(\u001b[0m\u001b[0maxis\u001b[0m\u001b[0;34m=\u001b[0m\u001b[0;36m0\u001b[0m\u001b[0;34m)\u001b[0m\u001b[0;34m)\u001b[0m\u001b[0;34m\u001b[0m\u001b[0;34m\u001b[0m\u001b[0m\n\u001b[1;32m    627\u001b[0m     \u001b[0mlhs\u001b[0m \u001b[0;34m/=\u001b[0m \u001b[0mscale\u001b[0m\u001b[0;34m\u001b[0m\u001b[0;34m\u001b[0m\u001b[0m\n\u001b[0;32m--> 628\u001b[0;31m     \u001b[0mc\u001b[0m\u001b[0;34m,\u001b[0m \u001b[0mresids\u001b[0m\u001b[0;34m,\u001b[0m \u001b[0mrank\u001b[0m\u001b[0;34m,\u001b[0m \u001b[0ms\u001b[0m \u001b[0;34m=\u001b[0m \u001b[0mlstsq\u001b[0m\u001b[0;34m(\u001b[0m\u001b[0mlhs\u001b[0m\u001b[0;34m,\u001b[0m \u001b[0mrhs\u001b[0m\u001b[0;34m,\u001b[0m \u001b[0mrcond\u001b[0m\u001b[0;34m)\u001b[0m\u001b[0;34m\u001b[0m\u001b[0;34m\u001b[0m\u001b[0m\n\u001b[0m\u001b[1;32m    629\u001b[0m     \u001b[0mc\u001b[0m \u001b[0;34m=\u001b[0m \u001b[0;34m(\u001b[0m\u001b[0mc\u001b[0m\u001b[0;34m.\u001b[0m\u001b[0mT\u001b[0m\u001b[0;34m/\u001b[0m\u001b[0mscale\u001b[0m\u001b[0;34m)\u001b[0m\u001b[0;34m.\u001b[0m\u001b[0mT\u001b[0m  \u001b[0;31m# broadcast scale coefficients\u001b[0m\u001b[0;34m\u001b[0m\u001b[0;34m\u001b[0m\u001b[0m\n\u001b[1;32m    630\u001b[0m \u001b[0;34m\u001b[0m\u001b[0m\n",
            "\u001b[0;32m/usr/local/lib/python3.6/dist-packages/numpy/linalg/linalg.py\u001b[0m in \u001b[0;36mlstsq\u001b[0;34m(a, b, rcond)\u001b[0m\n\u001b[1;32m   2234\u001b[0m         \u001b[0;31m# lapack can't handle n_rhs = 0 - so allocate the array one larger in that axis\u001b[0m\u001b[0;34m\u001b[0m\u001b[0;34m\u001b[0m\u001b[0;34m\u001b[0m\u001b[0m\n\u001b[1;32m   2235\u001b[0m         \u001b[0mb\u001b[0m \u001b[0;34m=\u001b[0m \u001b[0mzeros\u001b[0m\u001b[0;34m(\u001b[0m\u001b[0mb\u001b[0m\u001b[0;34m.\u001b[0m\u001b[0mshape\u001b[0m\u001b[0;34m[\u001b[0m\u001b[0;34m:\u001b[0m\u001b[0;34m-\u001b[0m\u001b[0;36m2\u001b[0m\u001b[0;34m]\u001b[0m \u001b[0;34m+\u001b[0m \u001b[0;34m(\u001b[0m\u001b[0mm\u001b[0m\u001b[0;34m,\u001b[0m \u001b[0mn_rhs\u001b[0m \u001b[0;34m+\u001b[0m \u001b[0;36m1\u001b[0m\u001b[0;34m)\u001b[0m\u001b[0;34m,\u001b[0m \u001b[0mdtype\u001b[0m\u001b[0;34m=\u001b[0m\u001b[0mb\u001b[0m\u001b[0;34m.\u001b[0m\u001b[0mdtype\u001b[0m\u001b[0;34m)\u001b[0m\u001b[0;34m\u001b[0m\u001b[0;34m\u001b[0m\u001b[0m\n\u001b[0;32m-> 2236\u001b[0;31m     \u001b[0mx\u001b[0m\u001b[0;34m,\u001b[0m \u001b[0mresids\u001b[0m\u001b[0;34m,\u001b[0m \u001b[0mrank\u001b[0m\u001b[0;34m,\u001b[0m \u001b[0ms\u001b[0m \u001b[0;34m=\u001b[0m \u001b[0mgufunc\u001b[0m\u001b[0;34m(\u001b[0m\u001b[0ma\u001b[0m\u001b[0;34m,\u001b[0m \u001b[0mb\u001b[0m\u001b[0;34m,\u001b[0m \u001b[0mrcond\u001b[0m\u001b[0;34m,\u001b[0m \u001b[0msignature\u001b[0m\u001b[0;34m=\u001b[0m\u001b[0msignature\u001b[0m\u001b[0;34m,\u001b[0m \u001b[0mextobj\u001b[0m\u001b[0;34m=\u001b[0m\u001b[0mextobj\u001b[0m\u001b[0;34m)\u001b[0m\u001b[0;34m\u001b[0m\u001b[0;34m\u001b[0m\u001b[0m\n\u001b[0m\u001b[1;32m   2237\u001b[0m     \u001b[0;32mif\u001b[0m \u001b[0mm\u001b[0m \u001b[0;34m==\u001b[0m \u001b[0;36m0\u001b[0m\u001b[0;34m:\u001b[0m\u001b[0;34m\u001b[0m\u001b[0;34m\u001b[0m\u001b[0m\n\u001b[1;32m   2238\u001b[0m         \u001b[0mx\u001b[0m\u001b[0;34m[\u001b[0m\u001b[0;34m...\u001b[0m\u001b[0;34m]\u001b[0m \u001b[0;34m=\u001b[0m \u001b[0;36m0\u001b[0m\u001b[0;34m\u001b[0m\u001b[0;34m\u001b[0m\u001b[0m\n",
            "\u001b[0;31mKeyboardInterrupt\u001b[0m: "
          ]
        }
      ]
    },
    {
      "cell_type": "code",
      "metadata": {
        "id": "bzj4Ge8XuUtF",
        "colab_type": "code",
        "colab": {
          "base_uri": "https://localhost:8080/",
          "height": 111
        },
        "outputId": "43516403-bb72-4fd3-fa23-02fb90b6538d"
      },
      "source": [
        "df_smoo_rtn.groupby(\"smooth_degree\").count()"
      ],
      "execution_count": 144,
      "outputs": [
        {
          "output_type": "execute_result",
          "data": {
            "text/html": [
              "<div>\n",
              "<style scoped>\n",
              "    .dataframe tbody tr th:only-of-type {\n",
              "        vertical-align: middle;\n",
              "    }\n",
              "\n",
              "    .dataframe tbody tr th {\n",
              "        vertical-align: top;\n",
              "    }\n",
              "\n",
              "    .dataframe thead th {\n",
              "        text-align: right;\n",
              "    }\n",
              "</style>\n",
              "<table border=\"1\" class=\"dataframe\">\n",
              "  <thead>\n",
              "    <tr style=\"text-align: right;\">\n",
              "      <th></th>\n",
              "      <th>smooth</th>\n",
              "      <th>rtn</th>\n",
              "    </tr>\n",
              "    <tr>\n",
              "      <th>smooth_degree</th>\n",
              "      <th></th>\n",
              "      <th></th>\n",
              "    </tr>\n",
              "  </thead>\n",
              "  <tbody>\n",
              "    <tr>\n",
              "      <th>6</th>\n",
              "      <td>102408</td>\n",
              "      <td>102408</td>\n",
              "    </tr>\n",
              "  </tbody>\n",
              "</table>\n",
              "</div>"
            ],
            "text/plain": [
              "               smooth     rtn\n",
              "smooth_degree                \n",
              "6              102408  102408"
            ]
          },
          "metadata": {
            "tags": []
          },
          "execution_count": 144
        }
      ]
    },
    {
      "cell_type": "markdown",
      "metadata": {
        "id": "PuYpLJv2vC2r",
        "colab_type": "text"
      },
      "source": [
        "It looks like degree 6 is fitting for almost all condition."
      ]
    },
    {
      "cell_type": "markdown",
      "metadata": {
        "id": "g4RCFd4-vKn8",
        "colab_type": "text"
      },
      "source": [
        "# Using this to study the decline ratio in osc and stk"
      ]
    },
    {
      "cell_type": "code",
      "metadata": {
        "id": "NPPHy6xwvIjj",
        "colab_type": "code",
        "colab": {}
      },
      "source": [
        "# convert the original data into a fitted line\n",
        "\n",
        "smooth = []\n",
        "fit_data_osc = []\n",
        "list_x = range(41)\n",
        "\n",
        "for i in range(OSC_buy.osc_gp.shape[0]):\n",
        "  \n",
        "    list_y = OSC_buy.osc_gp.iloc[i,:]\n",
        "    poly = np.polyfit(list_x,list_y,6, full = True)\n",
        "    smooth.append(poly[1][0])\n",
        "    fit_data_osc.append(np.poly1d(poly[0])(list_x))      \n"
      ],
      "execution_count": 0,
      "outputs": []
    },
    {
      "cell_type": "code",
      "metadata": {
        "id": "g02YHaSOv0Fj",
        "colab_type": "code",
        "colab": {}
      },
      "source": [
        "col_name = []\n",
        "for x in list_x:\n",
        "  col_name.append(\"osc_fitted\" + str(x))\n",
        "fitted_osc = pd.DataFrame(fit_data_osc, columns=col_name)\n"
      ],
      "execution_count": 0,
      "outputs": []
    },
    {
      "cell_type": "code",
      "metadata": {
        "id": "2zX7K9nLw9ur",
        "colab_type": "code",
        "colab": {
          "base_uri": "https://localhost:8080/",
          "height": 244
        },
        "outputId": "f4a50c69-5f04-4de6-f54b-543906a30f74"
      },
      "source": [
        "fitted_osc.head()"
      ],
      "execution_count": 15,
      "outputs": [
        {
          "output_type": "execute_result",
          "data": {
            "text/html": [
              "<div>\n",
              "<style scoped>\n",
              "    .dataframe tbody tr th:only-of-type {\n",
              "        vertical-align: middle;\n",
              "    }\n",
              "\n",
              "    .dataframe tbody tr th {\n",
              "        vertical-align: top;\n",
              "    }\n",
              "\n",
              "    .dataframe thead th {\n",
              "        text-align: right;\n",
              "    }\n",
              "</style>\n",
              "<table border=\"1\" class=\"dataframe\">\n",
              "  <thead>\n",
              "    <tr style=\"text-align: right;\">\n",
              "      <th></th>\n",
              "      <th>osc_fitted0</th>\n",
              "      <th>osc_fitted1</th>\n",
              "      <th>osc_fitted2</th>\n",
              "      <th>osc_fitted3</th>\n",
              "      <th>osc_fitted4</th>\n",
              "      <th>osc_fitted5</th>\n",
              "      <th>osc_fitted6</th>\n",
              "      <th>osc_fitted7</th>\n",
              "      <th>osc_fitted8</th>\n",
              "      <th>osc_fitted9</th>\n",
              "      <th>osc_fitted10</th>\n",
              "      <th>osc_fitted11</th>\n",
              "      <th>osc_fitted12</th>\n",
              "      <th>osc_fitted13</th>\n",
              "      <th>osc_fitted14</th>\n",
              "      <th>osc_fitted15</th>\n",
              "      <th>osc_fitted16</th>\n",
              "      <th>osc_fitted17</th>\n",
              "      <th>osc_fitted18</th>\n",
              "      <th>osc_fitted19</th>\n",
              "      <th>osc_fitted20</th>\n",
              "      <th>osc_fitted21</th>\n",
              "      <th>osc_fitted22</th>\n",
              "      <th>osc_fitted23</th>\n",
              "      <th>osc_fitted24</th>\n",
              "      <th>osc_fitted25</th>\n",
              "      <th>osc_fitted26</th>\n",
              "      <th>osc_fitted27</th>\n",
              "      <th>osc_fitted28</th>\n",
              "      <th>osc_fitted29</th>\n",
              "      <th>osc_fitted30</th>\n",
              "      <th>osc_fitted31</th>\n",
              "      <th>osc_fitted32</th>\n",
              "      <th>osc_fitted33</th>\n",
              "      <th>osc_fitted34</th>\n",
              "      <th>osc_fitted35</th>\n",
              "      <th>osc_fitted36</th>\n",
              "      <th>osc_fitted37</th>\n",
              "      <th>osc_fitted38</th>\n",
              "      <th>osc_fitted39</th>\n",
              "      <th>osc_fitted40</th>\n",
              "    </tr>\n",
              "  </thead>\n",
              "  <tbody>\n",
              "    <tr>\n",
              "      <th>0</th>\n",
              "      <td>0.028142</td>\n",
              "      <td>0.014526</td>\n",
              "      <td>0.005587</td>\n",
              "      <td>0.000176</td>\n",
              "      <td>-0.002659</td>\n",
              "      <td>-0.003699</td>\n",
              "      <td>-0.003566</td>\n",
              "      <td>-0.002749</td>\n",
              "      <td>-0.001618</td>\n",
              "      <td>-0.000441</td>\n",
              "      <td>0.000599</td>\n",
              "      <td>0.001391</td>\n",
              "      <td>0.001882</td>\n",
              "      <td>0.002065</td>\n",
              "      <td>0.001964</td>\n",
              "      <td>0.001632</td>\n",
              "      <td>0.001135</td>\n",
              "      <td>0.000543</td>\n",
              "      <td>-0.000068</td>\n",
              "      <td>-0.000632</td>\n",
              "      <td>-0.001091</td>\n",
              "      <td>-0.001403</td>\n",
              "      <td>-0.001541</td>\n",
              "      <td>-0.001494</td>\n",
              "      <td>-0.001274</td>\n",
              "      <td>-0.000905</td>\n",
              "      <td>-0.000431</td>\n",
              "      <td>0.000095</td>\n",
              "      <td>0.000607</td>\n",
              "      <td>0.001041</td>\n",
              "      <td>0.001331</td>\n",
              "      <td>0.001423</td>\n",
              "      <td>0.001282</td>\n",
              "      <td>0.000900</td>\n",
              "      <td>0.000307</td>\n",
              "      <td>-0.000415</td>\n",
              "      <td>-0.001122</td>\n",
              "      <td>-0.001595</td>\n",
              "      <td>-0.001521</td>\n",
              "      <td>-0.000479</td>\n",
              "      <td>0.002075</td>\n",
              "    </tr>\n",
              "    <tr>\n",
              "      <th>1</th>\n",
              "      <td>-0.126379</td>\n",
              "      <td>-0.074574</td>\n",
              "      <td>-0.038680</td>\n",
              "      <td>-0.015084</td>\n",
              "      <td>-0.000753</td>\n",
              "      <td>0.006823</td>\n",
              "      <td>0.009692</td>\n",
              "      <td>0.009487</td>\n",
              "      <td>0.007485</td>\n",
              "      <td>0.004651</td>\n",
              "      <td>0.001679</td>\n",
              "      <td>-0.000957</td>\n",
              "      <td>-0.002974</td>\n",
              "      <td>-0.004236</td>\n",
              "      <td>-0.004727</td>\n",
              "      <td>-0.004519</td>\n",
              "      <td>-0.003742</td>\n",
              "      <td>-0.002566</td>\n",
              "      <td>-0.001175</td>\n",
              "      <td>0.000248</td>\n",
              "      <td>0.001537</td>\n",
              "      <td>0.002553</td>\n",
              "      <td>0.003197</td>\n",
              "      <td>0.003414</td>\n",
              "      <td>0.003193</td>\n",
              "      <td>0.002571</td>\n",
              "      <td>0.001627</td>\n",
              "      <td>0.000481</td>\n",
              "      <td>-0.000723</td>\n",
              "      <td>-0.001822</td>\n",
              "      <td>-0.002653</td>\n",
              "      <td>-0.003069</td>\n",
              "      <td>-0.002960</td>\n",
              "      <td>-0.002280</td>\n",
              "      <td>-0.001070</td>\n",
              "      <td>0.000511</td>\n",
              "      <td>0.002151</td>\n",
              "      <td>0.003350</td>\n",
              "      <td>0.003382</td>\n",
              "      <td>0.001254</td>\n",
              "      <td>-0.004344</td>\n",
              "    </tr>\n",
              "    <tr>\n",
              "      <th>2</th>\n",
              "      <td>-0.128215</td>\n",
              "      <td>-0.126488</td>\n",
              "      <td>-0.116646</td>\n",
              "      <td>-0.101725</td>\n",
              "      <td>-0.084149</td>\n",
              "      <td>-0.065798</td>\n",
              "      <td>-0.048079</td>\n",
              "      <td>-0.031990</td>\n",
              "      <td>-0.018179</td>\n",
              "      <td>-0.007002</td>\n",
              "      <td>0.001425</td>\n",
              "      <td>0.007178</td>\n",
              "      <td>0.010478</td>\n",
              "      <td>0.011655</td>\n",
              "      <td>0.011107</td>\n",
              "      <td>0.009268</td>\n",
              "      <td>0.006580</td>\n",
              "      <td>0.003469</td>\n",
              "      <td>0.000322</td>\n",
              "      <td>-0.002529</td>\n",
              "      <td>-0.004821</td>\n",
              "      <td>-0.006368</td>\n",
              "      <td>-0.007066</td>\n",
              "      <td>-0.006896</td>\n",
              "      <td>-0.005920</td>\n",
              "      <td>-0.004275</td>\n",
              "      <td>-0.002161</td>\n",
              "      <td>0.000170</td>\n",
              "      <td>0.002437</td>\n",
              "      <td>0.004349</td>\n",
              "      <td>0.005632</td>\n",
              "      <td>0.006059</td>\n",
              "      <td>0.005488</td>\n",
              "      <td>0.003892</td>\n",
              "      <td>0.001411</td>\n",
              "      <td>-0.001612</td>\n",
              "      <td>-0.004572</td>\n",
              "      <td>-0.006556</td>\n",
              "      <td>-0.006278</td>\n",
              "      <td>-0.002022</td>\n",
              "      <td>0.008423</td>\n",
              "    </tr>\n",
              "    <tr>\n",
              "      <th>3</th>\n",
              "      <td>-0.159706</td>\n",
              "      <td>-0.161730</td>\n",
              "      <td>-0.153824</td>\n",
              "      <td>-0.139287</td>\n",
              "      <td>-0.120796</td>\n",
              "      <td>-0.100478</td>\n",
              "      <td>-0.079977</td>\n",
              "      <td>-0.060511</td>\n",
              "      <td>-0.042935</td>\n",
              "      <td>-0.027792</td>\n",
              "      <td>-0.015365</td>\n",
              "      <td>-0.005725</td>\n",
              "      <td>0.001228</td>\n",
              "      <td>0.005719</td>\n",
              "      <td>0.008071</td>\n",
              "      <td>0.008661</td>\n",
              "      <td>0.007900</td>\n",
              "      <td>0.006201</td>\n",
              "      <td>0.003963</td>\n",
              "      <td>0.001544</td>\n",
              "      <td>-0.000744</td>\n",
              "      <td>-0.002657</td>\n",
              "      <td>-0.004016</td>\n",
              "      <td>-0.004720</td>\n",
              "      <td>-0.004742</td>\n",
              "      <td>-0.004125</td>\n",
              "      <td>-0.002981</td>\n",
              "      <td>-0.001475</td>\n",
              "      <td>0.000187</td>\n",
              "      <td>0.001774</td>\n",
              "      <td>0.003052</td>\n",
              "      <td>0.003808</td>\n",
              "      <td>0.003879</td>\n",
              "      <td>0.003184</td>\n",
              "      <td>0.001758</td>\n",
              "      <td>-0.000208</td>\n",
              "      <td>-0.002326</td>\n",
              "      <td>-0.003962</td>\n",
              "      <td>-0.004190</td>\n",
              "      <td>-0.001736</td>\n",
              "      <td>0.005079</td>\n",
              "    </tr>\n",
              "    <tr>\n",
              "      <th>4</th>\n",
              "      <td>-1.087109</td>\n",
              "      <td>-1.685922</td>\n",
              "      <td>-1.784189</td>\n",
              "      <td>-1.522256</td>\n",
              "      <td>-1.018006</td>\n",
              "      <td>-0.368946</td>\n",
              "      <td>0.345785</td>\n",
              "      <td>1.063507</td>\n",
              "      <td>1.736173</td>\n",
              "      <td>2.328633</td>\n",
              "      <td>2.817000</td>\n",
              "      <td>3.187085</td>\n",
              "      <td>3.432941</td>\n",
              "      <td>3.555488</td>\n",
              "      <td>3.561227</td>\n",
              "      <td>3.461049</td>\n",
              "      <td>3.269128</td>\n",
              "      <td>3.001911</td>\n",
              "      <td>2.677190</td>\n",
              "      <td>2.313272</td>\n",
              "      <td>1.928231</td>\n",
              "      <td>1.539256</td>\n",
              "      <td>1.162086</td>\n",
              "      <td>0.810536</td>\n",
              "      <td>0.496112</td>\n",
              "      <td>0.227718</td>\n",
              "      <td>0.011447</td>\n",
              "      <td>-0.149525</td>\n",
              "      <td>-0.254976</td>\n",
              "      <td>-0.307560</td>\n",
              "      <td>-0.312662</td>\n",
              "      <td>-0.278146</td>\n",
              "      <td>-0.214026</td>\n",
              "      <td>-0.132036</td>\n",
              "      <td>-0.045118</td>\n",
              "      <td>0.033184</td>\n",
              "      <td>0.089418</td>\n",
              "      <td>0.111007</td>\n",
              "      <td>0.087127</td>\n",
              "      <td>0.009670</td>\n",
              "      <td>-0.125703</td>\n",
              "    </tr>\n",
              "  </tbody>\n",
              "</table>\n",
              "</div>"
            ],
            "text/plain": [
              "   osc_fitted0  osc_fitted1  ...  osc_fitted39  osc_fitted40\n",
              "0     0.028142     0.014526  ...     -0.000479      0.002075\n",
              "1    -0.126379    -0.074574  ...      0.001254     -0.004344\n",
              "2    -0.128215    -0.126488  ...     -0.002022      0.008423\n",
              "3    -0.159706    -0.161730  ...     -0.001736      0.005079\n",
              "4    -1.087109    -1.685922  ...      0.009670     -0.125703\n",
              "\n",
              "[5 rows x 41 columns]"
            ]
          },
          "metadata": {
            "tags": []
          },
          "execution_count": 15
        }
      ]
    },
    {
      "cell_type": "markdown",
      "metadata": {
        "id": "AhvfburfzCJr",
        "colab_type": "text"
      },
      "source": [
        "# We could do the same thing to stock price"
      ]
    },
    {
      "cell_type": "code",
      "metadata": {
        "id": "uBAgXOzxzBaR",
        "colab_type": "code",
        "colab": {}
      },
      "source": [
        "smooth_stk = []\n",
        "fit_data_stk = []\n",
        "list_x = range(41)\n",
        "\n",
        "for i in range(OSC_buy.stk_gp.shape[0]):\n",
        "  \n",
        "    list_y = OSC_buy.stk_gp.iloc[i,:]\n",
        "    poly = np.polyfit(list_x,list_y,6, full = True)\n",
        "    smooth_stk.append(poly[1][0])\n",
        "    fit_data_stk.append(np.poly1d(poly[0])(list_x))      \n",
        "\n"
      ],
      "execution_count": 0,
      "outputs": []
    },
    {
      "cell_type": "code",
      "metadata": {
        "id": "Sf08wbigzYaw",
        "colab_type": "code",
        "colab": {}
      },
      "source": [
        "col_name = []\n",
        "for x in list_x:\n",
        "  col_name.append(\"stk_fitted\" + str(x))\n",
        "fitted_stk = pd.DataFrame(fit_data_stk, columns=col_name)"
      ],
      "execution_count": 0,
      "outputs": []
    },
    {
      "cell_type": "code",
      "metadata": {
        "id": "mJf33tT5zoWy",
        "colab_type": "code",
        "colab": {
          "base_uri": "https://localhost:8080/",
          "height": 34
        },
        "outputId": "3fdef977-e8d0-44a7-fffb-65e63a1ca41b"
      },
      "source": [
        "fitted_stk.shape"
      ],
      "execution_count": 18,
      "outputs": [
        {
          "output_type": "execute_result",
          "data": {
            "text/plain": [
              "(102408, 41)"
            ]
          },
          "metadata": {
            "tags": []
          },
          "execution_count": 18
        }
      ]
    },
    {
      "cell_type": "code",
      "metadata": {
        "id": "jzoBh19EJjnd",
        "colab_type": "code",
        "colab": {
          "base_uri": "https://localhost:8080/",
          "height": 34
        },
        "outputId": "d438942e-3756-4ab7-e51d-9d7016737d72"
      },
      "source": [
        "OSC_buy.stk_gp.shape\n"
      ],
      "execution_count": 19,
      "outputs": [
        {
          "output_type": "execute_result",
          "data": {
            "text/plain": [
              "(102408, 41)"
            ]
          },
          "metadata": {
            "tags": []
          },
          "execution_count": 19
        }
      ]
    },
    {
      "cell_type": "markdown",
      "metadata": {
        "id": "GMz3TXRyztCg",
        "colab_type": "text"
      },
      "source": [
        "# Here comes the fun part, how could we find the declined/rise ratio\n",
        "\n",
        "we find the last three \"turning points\" before the signal, based on the first derivitives"
      ]
    },
    {
      "cell_type": "code",
      "metadata": {
        "id": "tUTpMLCIzrDj",
        "colab_type": "code",
        "colab": {}
      },
      "source": [
        "# for oscillator\n",
        "fit_osc_dy = []\n",
        "for i in range(fitted_osc.shape[0]):\n",
        "  y = pd.Series(fitted_osc.iloc[i,:])\n",
        "  temp_dy = list(np.gradient(y, 1))\n",
        "  # fit_osc_dy.append(temp_dy)\n",
        "  # find all the turning points\n",
        "  turn_points = []\n",
        "  for i in range(len(temp_dy)):\n",
        "    if temp_dy[i-1] <= 0 and temp_dy[i] > 0:\n",
        "      turn_points.append(i-1)\n",
        "    if temp_dy[i-1] >= 0 and temp_dy[i] < 0:\n",
        "      turn_points.append(i-1)\n",
        "  \n",
        "  \n",
        "  if len(turn_points)>=3:\n",
        "    fit_osc_dy.append(turn_points[:3])\n",
        "  if len(turn_points) == 2:\n",
        "    turn_points.insert(0,0)\n",
        "    fit_osc_dy.append(turn_points[:3])\n",
        "  if len(turn_points) == 1:\n",
        "    turn_points.insert(0,0)\n",
        "    turn_points.insert(1,0)\n",
        "    fit_osc_dy.append(turn_points[:3])\n",
        "  if len(turn_points) == 0:\n",
        "    turn_points = [0,0,0]\n",
        "    fit_osc_dy.append(turn_points[:3])\n"
      ],
      "execution_count": 0,
      "outputs": []
    },
    {
      "cell_type": "code",
      "metadata": {
        "id": "XMFpGLWQ2NlF",
        "colab_type": "code",
        "colab": {
          "base_uri": "https://localhost:8080/",
          "height": 34
        },
        "outputId": "6927d403-888d-4cd7-f95a-1f5c9b4bfd17"
      },
      "source": [
        "turning_points_rec_for_osc = pd.DataFrame(fit_osc_dy)\n",
        "turning_points_rec_for_osc.shape"
      ],
      "execution_count": 21,
      "outputs": [
        {
          "output_type": "execute_result",
          "data": {
            "text/plain": [
              "(102408, 3)"
            ]
          },
          "metadata": {
            "tags": []
          },
          "execution_count": 21
        }
      ]
    },
    {
      "cell_type": "code",
      "metadata": {
        "id": "3kaZQY9C4cZ5",
        "colab_type": "code",
        "colab": {}
      },
      "source": [
        "# for stock price\n",
        "fit_stk_dy = []\n",
        "for i in range(fitted_stk.shape[0]):\n",
        "  y = pd.Series(fitted_stk.iloc[i,:])\n",
        "  temp_dy = list(np.gradient(y, 1))\n",
        "  # fit_osc_dy.append(temp_dy)\n",
        "  # find all the turning points\n",
        "  turn_points = []\n",
        "  for i in range(len(temp_dy)):\n",
        "    if temp_dy[i-1] <= 0 and temp_dy[i] > 0:\n",
        "      turn_points.append(i-1)\n",
        "    if temp_dy[i-1] >= 0 and temp_dy[i] < 0:\n",
        "      turn_points.append(i-1)\n",
        "    \n",
        "  if len(turn_points)>=3:\n",
        "    fit_stk_dy.append(turn_points[-3:])\n",
        "  if len(turn_points) == 2:\n",
        "    turn_points.insert(0,0)\n",
        "    fit_stk_dy.append(turn_points[-3:])\n",
        "  if len(turn_points) == 1:\n",
        "    turn_points.insert(0,0)\n",
        "    turn_points.insert(1,0)\n",
        "    fit_stk_dy.append(turn_points[-3:])\n",
        "  if len(turn_points) == 0:\n",
        "    turn_points = [0,0,0]\n",
        "    fit_stk_dy.append(turn_points[-3:])"
      ],
      "execution_count": 0,
      "outputs": []
    },
    {
      "cell_type": "code",
      "metadata": {
        "id": "adDqQKjZ4xGf",
        "colab_type": "code",
        "colab": {
          "base_uri": "https://localhost:8080/",
          "height": 34
        },
        "outputId": "70be326a-4be2-4b7e-9303-1296fc12ce88"
      },
      "source": [
        "turning_points_rec_for_stk = pd.DataFrame(fit_stk_dy)\n",
        "turning_points_rec_for_stk.shape\n",
        "# fitted_stk.shape"
      ],
      "execution_count": 23,
      "outputs": [
        {
          "output_type": "execute_result",
          "data": {
            "text/plain": [
              "(102408, 3)"
            ]
          },
          "metadata": {
            "tags": []
          },
          "execution_count": 23
        }
      ]
    },
    {
      "cell_type": "code",
      "metadata": {
        "id": "MuLlX3-z9J8G",
        "colab_type": "code",
        "colab": {
          "base_uri": "https://localhost:8080/",
          "height": 896
        },
        "outputId": "119723f3-d35b-472b-d322-cf771a4c0e71"
      },
      "source": [
        "OSC_buy.EDA_visualization(102378,True, True, True)"
      ],
      "execution_count": 114,
      "outputs": [
        {
          "output_type": "display_data",
          "data": {
            "image/png": "[encoded data removed]",
            "text/plain": [
              "<Figure size 864x288 with 1 Axes>"
            ]
          },
          "metadata": {
            "tags": []
          }
        },
        {
          "output_type": "display_data",
          "data": {
            "image/png": "[encoded data removed]",
            "text/plain": [
              "<Figure size 864x288 with 1 Axes>"
            ]
          },
          "metadata": {
            "tags": []
          }
        },
        {
          "output_type": "display_data",
          "data": {
            "image/png": "[encoded data removed]",
            "text/plain": [
              "<Figure size 864x288 with 1 Axes>"
            ]
          },
          "metadata": {
            "tags": []
          }
        }
      ]
    },
    {
      "cell_type": "code",
      "metadata": {
        "id": "_xfBuahlDzhB",
        "colab_type": "code",
        "colab": {}
      },
      "source": [
        "#OSC_buy.stk_gp"
      ],
      "execution_count": 0,
      "outputs": []
    },
    {
      "cell_type": "markdown",
      "metadata": {
        "id": "t7FjKeLw473L",
        "colab_type": "text"
      },
      "source": [
        "# Let the party begin, we can finally calculated the decline/rise ratio for both the stk and osc!\n",
        "\n",
        "For the recorded points, those are considered to be the closest turning points before the "
      ]
    },
    {
      "cell_type": "code",
      "metadata": {
        "id": "3ZCnOqxC7pdH",
        "colab_type": "code",
        "colab": {}
      },
      "source": [
        "# For osc value\n",
        "\n",
        "value_rec = []\n",
        "rise_ratio = []\n",
        "for i in range(turning_points_rec_for_osc.shape[0]):\n",
        "  temp_value = []\n",
        "  col_0 = int(turning_points_rec_for_osc.iloc[i,0])\n",
        "  col_1 = int(turning_points_rec_for_osc.iloc[i,1])\n",
        "  col_2 = int(turning_points_rec_for_osc.iloc[i,2])\n",
        "  \n",
        "  value_0 = fitted_osc.iloc[i,col_0]\n",
        "  value_1 = fitted_osc.iloc[i,col_1]\n",
        "  value_2 = fitted_osc.iloc[i,col_2]\n",
        "  \n",
        "  temp_value.append(value_0)\n",
        "  temp_value.append(value_1)\n",
        "  temp_value.append(value_2)\n",
        "  \n",
        "  value_rec.append(temp_value)\n",
        "  rise_ratio.append(abs(value_1 - value_2)/abs(value_0 - value_1))"
      ],
      "execution_count": 0,
      "outputs": []
    },
    {
      "cell_type": "code",
      "metadata": {
        "id": "_XBiKX6aE3qL",
        "colab_type": "code",
        "colab": {
          "base_uri": "https://localhost:8080/",
          "height": 34
        },
        "outputId": "93f802b2-9e5e-47b1-eb87-4a2f3b863cfe"
      },
      "source": [
        "# OSC_buy.stk_gp.shape"
      ],
      "execution_count": 159,
      "outputs": [
        {
          "output_type": "execute_result",
          "data": {
            "text/plain": [
              "(102408, 41)"
            ]
          },
          "metadata": {
            "tags": []
          },
          "execution_count": 159
        }
      ]
    },
    {
      "cell_type": "code",
      "metadata": {
        "id": "nyEyp6GkEq0m",
        "colab_type": "code",
        "colab": {}
      },
      "source": [
        "# turning_points_rec_for_stk.iloc[102408,:]"
      ],
      "execution_count": 0,
      "outputs": []
    },
    {
      "cell_type": "code",
      "metadata": {
        "id": "4tULCR2-DZPp",
        "colab_type": "code",
        "colab": {}
      },
      "source": [
        "# for stk value\n",
        "\n",
        "value_rec_stk = []\n",
        "rise_ratio_stk = []\n",
        "\n",
        "for i in range(turning_points_rec_for_stk.shape[0]):\n",
        "  temp_value = []\n",
        "  col_0 = int(turning_points_rec_for_stk.iloc[i,0])\n",
        "  col_1 = int(turning_points_rec_for_stk.iloc[i,1])\n",
        "  col_2 = int(turning_points_rec_for_stk.iloc[i,2])\n",
        "  # print(col_0, col_1, col_2)\n",
        "  # print(i)\n",
        "  value_0 = fitted_stk.iloc[i,col_0]\n",
        "  value_1 = fitted_stk.iloc[i,col_1]\n",
        "  value_2 = fitted_stk.iloc[i,col_2]\n",
        "  \n",
        "  temp_value.append(value_0)\n",
        "  temp_value.append(value_1)\n",
        "  temp_value.append(value_2)\n",
        "  \n",
        "  value_rec_stk.append(temp_value)\n",
        "  rise_ratio_stk.append(abs(value_1 - value_2)/abs(value_0 - value_1))"
      ],
      "execution_count": 0,
      "outputs": []
    },
    {
      "cell_type": "code",
      "metadata": {
        "id": "aO9haQS5MTQo",
        "colab_type": "code",
        "colab": {
          "base_uri": "https://localhost:8080/",
          "height": 34
        },
        "outputId": "b121dbf1-c9d7-494e-a597-fd585775a14d"
      },
      "source": [
        "turning_points_rec_for_stk.shape"
      ],
      "execution_count": 189,
      "outputs": [
        {
          "output_type": "execute_result",
          "data": {
            "text/plain": [
              "(102408, 3)"
            ]
          },
          "metadata": {
            "tags": []
          },
          "execution_count": 189
        }
      ]
    },
    {
      "cell_type": "markdown",
      "metadata": {
        "id": "GX9oXBx7Kd57",
        "colab_type": "text"
      },
      "source": [
        "# Now we can explore the returns with the rise ratio"
      ]
    },
    {
      "cell_type": "code",
      "metadata": {
        "id": "T9FPtx3aKc-M",
        "colab_type": "code",
        "colab": {}
      },
      "source": [
        "osc_rise_ratio = pd.DataFrame({\"rise_ratio\": rise_ratio,\n",
        "             \"rtn\": OSC_buy.rtn_gp})"
      ],
      "execution_count": 0,
      "outputs": []
    },
    {
      "cell_type": "code",
      "metadata": {
        "id": "qAm2Q9bQLHBK",
        "colab_type": "code",
        "colab": {}
      },
      "source": [
        "osc_rise_ratio_clean = osc_rise_ratio[abs(osc_rise_ratio[\"rise_ratio\"]) <= 1]\n",
        "osc_rise_ratio_clean = osc_rise_ratio_clean[abs(osc_rise_ratio_clean[\"rtn\"]) < 25]\n"
      ],
      "execution_count": 0,
      "outputs": []
    },
    {
      "cell_type": "code",
      "metadata": {
        "id": "WUcRZ-uvK018",
        "colab_type": "code",
        "colab": {
          "base_uri": "https://localhost:8080/",
          "height": 484
        },
        "outputId": "1840c4a1-8928-493b-9850-99512a7a8257"
      },
      "source": [
        "plt.scatter(osc_rise_ratio_clean[\"rise_ratio\"], osc_rise_ratio_clean[\"rtn\"], alpha = 0.5)\n",
        "plt.axhline(y = 0, color = \"black\", linestyle = \"--\")\n",
        "plt.xlabel(\"rise_ratio for Oscillator value\")\n",
        "plt.ylabel(\"Return\")"
      ],
      "execution_count": 51,
      "outputs": [
        {
          "output_type": "execute_result",
          "data": {
            "text/plain": [
              "Text(0, 0.5, 'Return')"
            ]
          },
          "metadata": {
            "tags": []
          },
          "execution_count": 51
        },
        {
          "output_type": "display_data",
          "data": {
            "image/png": "[encoded data removed]",
            "text/plain": [
              "<Figure size 748.8x514.8 with 1 Axes>"
            ]
          },
          "metadata": {
            "tags": []
          }
        }
      ]
    },
    {
      "cell_type": "code",
      "metadata": {
        "id": "bwySl58IRN_U",
        "colab_type": "code",
        "colab": {
          "base_uri": "https://localhost:8080/",
          "height": 555
        },
        "outputId": "3e00a737-9ef3-4a99-9e2b-683395e3796f"
      },
      "source": [
        "import seaborn as sns\n",
        "osc_rise_ratio_clean[\"groups\"] = pd.cut(osc_rise_ratio_clean[\"rise_ratio\"], 5)\n",
        "sns.boxplot(x = \"groups\", y = \"rtn\", data = osc_rise_ratio_clean)\n",
        "plt.xticks(rotation = 45)"
      ],
      "execution_count": 45,
      "outputs": [
        {
          "output_type": "execute_result",
          "data": {
            "text/plain": [
              "(array([0, 1, 2, 3, 4]), <a list of 5 Text xticklabel objects>)"
            ]
          },
          "metadata": {
            "tags": []
          },
          "execution_count": 45
        },
        {
          "output_type": "display_data",
          "data": {
            "image/png": "[encoded data removed]",
            "text/plain": [
              "<Figure size 748.8x514.8 with 1 Axes>"
            ]
          },
          "metadata": {
            "tags": []
          }
        }
      ]
    },
    {
      "cell_type": "code",
      "metadata": {
        "id": "ICU9s08tMHss",
        "colab_type": "code",
        "colab": {}
      },
      "source": [
        "stk_rise_ratio = pd.DataFrame({\"rise_ratio\": rise_ratio_stk,\n",
        "             \"rtn\": OSC_buy.rtn_gp})"
      ],
      "execution_count": 0,
      "outputs": []
    },
    {
      "cell_type": "code",
      "metadata": {
        "id": "f5ol2A0A444M",
        "colab_type": "code",
        "colab": {
          "base_uri": "https://localhost:8080/",
          "height": 555
        },
        "outputId": "f610f8ca-ceb4-4813-ce03-78bbe9a6e355"
      },
      "source": [
        "\n",
        "stk_rise_ratio_clean = stk_rise_ratio[abs(stk_rise_ratio[\"rise_ratio\"]) < 1]\n",
        "stk_rise_ratio_clean = stk_rise_ratio_clean[abs(stk_rise_ratio_clean[\"rtn\"]) < 25]\n",
        "stk_rise_ratio_clean[\"groups\"] = pd.cut(stk_rise_ratio_clean[\"rise_ratio\"], 5)\n",
        "sns.boxplot(x = \"groups\", y = \"rtn\", data = stk_rise_ratio_clean)\n",
        "plt.xticks(rotation = 45)"
      ],
      "execution_count": 48,
      "outputs": [
        {
          "output_type": "execute_result",
          "data": {
            "text/plain": [
              "(array([0, 1, 2, 3, 4]), <a list of 5 Text xticklabel objects>)"
            ]
          },
          "metadata": {
            "tags": []
          },
          "execution_count": 48
        },
        {
          "output_type": "display_data",
          "data": {
            "image/png": "[encoded data removed]",
            "text/plain": [
              "<Figure size 748.8x514.8 with 1 Axes>"
            ]
          },
          "metadata": {
            "tags": []
          }
        }
      ]
    },
    {
      "cell_type": "code",
      "metadata": {
        "id": "SPHSljdPNycb",
        "colab_type": "code",
        "colab": {
          "base_uri": "https://localhost:8080/",
          "height": 484
        },
        "outputId": "a0989cc8-9bf5-4595-8f3e-caff581e764f"
      },
      "source": [
        "plt.scatter(stk_rise_ratio_clean[\"rise_ratio\"], stk_rise_ratio_clean[\"rtn\"], alpha = 0.5)\n",
        "plt.axhline(y = 0, color = \"black\", linestyle = \"--\")\n",
        "plt.xlabel(\"rise_ratio for stock price\")\n",
        "plt.ylabel(\"Return\")"
      ],
      "execution_count": 49,
      "outputs": [
        {
          "output_type": "execute_result",
          "data": {
            "text/plain": [
              "Text(0, 0.5, 'Return')"
            ]
          },
          "metadata": {
            "tags": []
          },
          "execution_count": 49
        },
        {
          "output_type": "display_data",
          "data": {
            "image/png": "[encoded data removed]",
            "text/plain": [
              "<Figure size 748.8x514.8 with 1 Axes>"
            ]
          },
          "metadata": {
            "tags": []
          }
        }
      ]
    },
    {
      "cell_type": "code",
      "metadata": {
        "id": "Eo_6V1dARkE-",
        "colab_type": "code",
        "colab": {}
      },
      "source": [
        "ratio_diff = [a_i - b_i for a_i, b_i in zip(rise_ratio, rise_ratio_stk)]\n",
        "combined_results_sign = np.sign(ratio_diff)\n",
        "rtn_sign = np.sign(OSC_buy.rtn_gp)\n",
        "combined_results = pd.DataFrame({\"ratio_diff\": ratio_diff,\n",
        "                                \"ratio_sign\": combined_results_sign,\n",
        "                               \"rtn\": OSC_buy.rtn_gp,\n",
        "                               \"rtn_sign\":rtn_sign })\n",
        "\n",
        "\n"
      ],
      "execution_count": 0,
      "outputs": []
    },
    {
      "cell_type": "code",
      "metadata": {
        "id": "ERXOn1Vgoxn6",
        "colab_type": "code",
        "colab": {
          "base_uri": "https://localhost:8080/",
          "height": 484
        },
        "outputId": "162aaf0d-27ba-4294-cbcf-40383e31ccd8"
      },
      "source": [
        "combined_results_cleaned = combined_results[abs(combined_results[\"ratio_diff\"]) < 1]\n",
        "combined_results_cleaned = combined_results_cleaned[combined_results_cleaned[\"rtn\"] < 125]\n",
        "plt.scatter(combined_results_cleaned[\"ratio_diff\"], combined_results_cleaned[\"rtn\"], alpha = 0.5)\n",
        "plt.axhline(y = 0, color = \"black\", linestyle = \"--\")\n",
        "plt.xlabel(\"rise_ratio for stock price\")\n",
        "plt.ylabel(\"Return\")"
      ],
      "execution_count": 64,
      "outputs": [
        {
          "output_type": "execute_result",
          "data": {
            "text/plain": [
              "Text(0, 0.5, 'Return')"
            ]
          },
          "metadata": {
            "tags": []
          },
          "execution_count": 64
        },
        {
          "output_type": "display_data",
          "data": {
            "image/png": "[encoded data removed]",
            "text/plain": [
              "<Figure size 748.8x514.8 with 1 Axes>"
            ]
          },
          "metadata": {
            "tags": []
          }
        }
      ]
    },
    {
      "cell_type": "code",
      "metadata": {
        "id": "923CpMldTR1R",
        "colab_type": "code",
        "colab": {}
      },
      "source": [
        "# cobined_results_clean = cobined_results[abs(cobined_results[\"ratio_diff\"]) < 1]\n",
        "\n",
        "combined_results_clean = combined_results[combined_results[\"rtn\"] < 25]"
      ],
      "execution_count": 0,
      "outputs": []
    },
    {
      "cell_type": "code",
      "metadata": {
        "id": "h8Ypka-xR4jW",
        "colab_type": "code",
        "colab": {
          "base_uri": "https://localhost:8080/",
          "height": 386
        },
        "outputId": "bb8828cb-4c28-42fd-80d6-5c940c7db3bf"
      },
      "source": [
        "sns.catplot(x = \"ratio_sign\", y = \"rtn\", kind = \"boxen\", data = cobined_results_cleaned)\n",
        "plt.xlabel(\"if the rise ratio of osc is bigger than stk\")\n",
        "plt.ylabel(\"Return\")"
      ],
      "execution_count": 67,
      "outputs": [
        {
          "output_type": "execute_result",
          "data": {
            "text/plain": [
              "Text(0.04999999999999716, 0.5, 'Return')"
            ]
          },
          "metadata": {
            "tags": []
          },
          "execution_count": 67
        },
        {
          "output_type": "display_data",
          "data": {
            "image/png": "[encoded data removed]",
            "text/plain": [
              "<Figure size 360x360 with 1 Axes>"
            ]
          },
          "metadata": {
            "tags": []
          }
        }
      ]
    },
    {
      "cell_type": "code",
      "metadata": {
        "id": "TJy8uwVUXr7d",
        "colab_type": "code",
        "colab": {
          "base_uri": "https://localhost:8080/",
          "height": 173
        },
        "outputId": "dc14a034-882b-4b11-d58a-41a5584a1b03"
      },
      "source": [
        "hm = pd.DataFrame(cobined_results.groupby([\"ratio_sign\", \"rtn_sign\"]).count())\n",
        "hm = hm.reset_index().iloc[:, :-1]\n",
        "hm = hm.pivot(index = \"rtn_sign\", columns = \"ratio_sign\", values = \"ratio_diff\")\n",
        "hm"
      ],
      "execution_count": 71,
      "outputs": [
        {
          "output_type": "execute_result",
          "data": {
            "text/html": [
              "<div>\n",
              "<style scoped>\n",
              "    .dataframe tbody tr th:only-of-type {\n",
              "        vertical-align: middle;\n",
              "    }\n",
              "\n",
              "    .dataframe tbody tr th {\n",
              "        vertical-align: top;\n",
              "    }\n",
              "\n",
              "    .dataframe thead th {\n",
              "        text-align: right;\n",
              "    }\n",
              "</style>\n",
              "<table border=\"1\" class=\"dataframe\">\n",
              "  <thead>\n",
              "    <tr style=\"text-align: right;\">\n",
              "      <th>ratio_sign</th>\n",
              "      <th>-1.0</th>\n",
              "      <th>1.0</th>\n",
              "    </tr>\n",
              "    <tr>\n",
              "      <th>rtn_sign</th>\n",
              "      <th></th>\n",
              "      <th></th>\n",
              "    </tr>\n",
              "  </thead>\n",
              "  <tbody>\n",
              "    <tr>\n",
              "      <th>-1.0</th>\n",
              "      <td>24439</td>\n",
              "      <td>31228</td>\n",
              "    </tr>\n",
              "    <tr>\n",
              "      <th>0.0</th>\n",
              "      <td>1544</td>\n",
              "      <td>2002</td>\n",
              "    </tr>\n",
              "    <tr>\n",
              "      <th>1.0</th>\n",
              "      <td>18261</td>\n",
              "      <td>22948</td>\n",
              "    </tr>\n",
              "  </tbody>\n",
              "</table>\n",
              "</div>"
            ],
            "text/plain": [
              "ratio_sign   -1.0    1.0\n",
              "rtn_sign                \n",
              "-1.0        24439  31228\n",
              " 0.0         1544   2002\n",
              " 1.0        18261  22948"
            ]
          },
          "metadata": {
            "tags": []
          },
          "execution_count": 71
        }
      ]
    },
    {
      "cell_type": "code",
      "metadata": {
        "id": "lYPRJ5NyqWW1",
        "colab_type": "code",
        "colab": {}
      },
      "source": [
        "hm.iloc[:,0] = hm.iloc[:,0]/(24439+1544+18261)"
      ],
      "execution_count": 0,
      "outputs": []
    },
    {
      "cell_type": "code",
      "metadata": {
        "id": "eEt1b66JqlnC",
        "colab_type": "code",
        "colab": {}
      },
      "source": [
        "hm.iloc[:,1] = hm.iloc[:,1]/(31228+2002+22948)"
      ],
      "execution_count": 0,
      "outputs": []
    },
    {
      "cell_type": "code",
      "metadata": {
        "id": "GjllRhcmppf-",
        "colab_type": "code",
        "colab": {
          "base_uri": "https://localhost:8080/",
          "height": 484
        },
        "outputId": "3d09e679-e584-4934-a73b-94d5656467e3"
      },
      "source": [
        "sns.heatmap(hm,annot=True)\n",
        "plt.xlabel(\"RiseRatio_osc - RiseRatio_stk, pos or neg\")\n",
        "plt.ylabel(\"Return, gain or lose\")"
      ],
      "execution_count": 83,
      "outputs": [
        {
          "output_type": "execute_result",
          "data": {
            "text/plain": [
              "Text(64.00000000000001, 0.5, 'Return, gain or lose')"
            ]
          },
          "metadata": {
            "tags": []
          },
          "execution_count": 83
        },
        {
          "output_type": "display_data",
          "data": {
            "image/png": "[encoded data removed]",
            "text/plain": [
              "<Figure size 748.8x514.8 with 2 Axes>"
            ]
          },
          "metadata": {
            "tags": []
          }
        }
      ]
    },
    {
      "cell_type": "markdown",
      "metadata": {
        "id": "LiDaU-3MVuhB",
        "colab_type": "text"
      },
      "source": [
        "# Generate Original Features vs. New Features"
      ]
    },
    {
      "cell_type": "code",
      "metadata": {
        "id": "yLVTlAsEVuhB",
        "colab_type": "code",
        "colab": {}
      },
      "source": [
        "Features_original = features_generator(df_gp, False, False, False, False)\n",
        "Feature_psd = features_generator(df_gp, True, False, False, False)\n",
        "Feature_smooth = features_generator(df_gp, False, True, False, False)\n",
        "Feature_curvature = features_generator(df_gp, False, False, True, False)\n",
        "Feature_macd = features_generator(df_gp, False, False, False, True)"
      ],
      "execution_count": 0,
      "outputs": []
    },
    {
      "cell_type": "markdown",
      "metadata": {
        "id": "qG935-tFVuhD",
        "colab_type": "text"
      },
      "source": [
        "After all the feature matrix are generated, don't touch the cell above every again! If we have more features to add, we can add new cells."
      ]
    },
    {
      "cell_type": "markdown",
      "metadata": {
        "id": "7DZQZDU8VuhD",
        "colab_type": "text"
      },
      "source": [
        "Generating features before the model training, reduce the programming time"
      ]
    },
    {
      "cell_type": "markdown",
      "metadata": {
        "id": "J4gMdXm4VuhE",
        "colab_type": "text"
      },
      "source": [
        "# Model training with the original features\n",
        "\n",
        "OSC, STK, and MACD"
      ]
    },
    {
      "cell_type": "markdown",
      "metadata": {
        "id": "C0i7LAlmVuhE",
        "colab_type": "text"
      },
      "source": [
        "- **Logistic Regression**\n",
        "\n",
        "    - Because of its efficient and straightforward nature, doesn't require high computation power, easy to implement, easily interpretable, used widely by data analyst and scientist. Also, it doesn't require scaling of features. Logistic regression provides a probability score for observations.\n",
        "    - Logistic regression is not able to handle a large number of categorical features/variables. It is vulnerable to overfitting. Also, can't solve the non-linear problem with the logistic regression that is why it requires a transformation of non-linear features. Logistic regression will not perform well with independent variables that are not correlated to the target variable and are very similar or correlated to each other."
      ]
    },
    {
      "cell_type": "code",
      "metadata": {
        "id": "KHssonMtVuhF",
        "colab_type": "code",
        "outputId": "43c42d37-4314-42f2-97b1-f553644a951b",
        "colab": {}
      },
      "source": [
        "from sklearn.linear_model import LogisticRegression\n",
        "model = LogisticRegression(solver = 'lbfgs')\n",
        "precision_pipline(Features_original, model)"
      ],
      "execution_count": 0,
      "outputs": [
        {
          "output_type": "stream",
          "text": [
            "Training Accuracy: 0.5889071110914115\n",
            "Test Accuracy: 0.595527398231762\n",
            "Test precision: 0.3883495145631068\n"
          ],
          "name": "stdout"
        },
        {
          "output_type": "execute_result",
          "data": {
            "text/plain": [
              "array([0, 0, 0, ..., 0, 0, 0])"
            ]
          },
          "metadata": {
            "tags": []
          },
          "execution_count": 7
        }
      ]
    },
    {
      "cell_type": "markdown",
      "metadata": {
        "id": "6dbaCvm2VuhH",
        "colab_type": "text"
      },
      "source": [
        "- **Naive Bayes**\n",
        "    - GaussianNB: implements the Gaussian Naive Bayes algorithm for classification. The likelihood of the features is assumed to be Gaussian\n",
        "    - Bernoulli Naive Bayes: might not fit in this case"
      ]
    },
    {
      "cell_type": "code",
      "metadata": {
        "id": "JUP-LiDsVuhH",
        "colab_type": "code",
        "outputId": "21c65d98-cf3c-447b-a173-cacd55a06b50",
        "colab": {}
      },
      "source": [
        "from sklearn.naive_bayes import GaussianNB\n",
        "model = GaussianNB()\n",
        "precision_pipline(Features_original, model)"
      ],
      "execution_count": 0,
      "outputs": [
        {
          "output_type": "stream",
          "text": [
            "Training Accuracy: 0.5595792148693173\n",
            "Test Accuracy: 0.5628575481064725\n",
            "Test precision: 0.43171422348072314\n"
          ],
          "name": "stdout"
        },
        {
          "output_type": "execute_result",
          "data": {
            "text/plain": [
              "array([0, 0, 0, ..., 0, 0, 0])"
            ]
          },
          "metadata": {
            "tags": []
          },
          "execution_count": 8
        }
      ]
    },
    {
      "cell_type": "markdown",
      "metadata": {
        "id": "4YzoutUJVuhJ",
        "colab_type": "text"
      },
      "source": [
        "- **Random Forest**"
      ]
    },
    {
      "cell_type": "code",
      "metadata": {
        "id": "C1je8jdJVuhJ",
        "colab_type": "code",
        "outputId": "db539839-b1f0-4fac-8bdc-db973163bbae",
        "colab": {}
      },
      "source": [
        "from sklearn.ensemble import RandomForestClassifier\n",
        "model = RandomForestClassifier()\n",
        "precision_pipline(Features_original, model)"
      ],
      "execution_count": 0,
      "outputs": [
        {
          "output_type": "stream",
          "text": [
            "Training Accuracy: 0.9810587592157558\n",
            "Test Accuracy: 0.5670181078908799\n",
            "Test precision: 0.4504388781845429\n"
          ],
          "name": "stdout"
        },
        {
          "output_type": "execute_result",
          "data": {
            "text/plain": [
              "array([1, 1, 0, ..., 0, 0, 0])"
            ]
          },
          "metadata": {
            "tags": []
          },
          "execution_count": 274
        }
      ]
    },
    {
      "cell_type": "markdown",
      "metadata": {
        "id": "PsiXRcmZVuhL",
        "colab_type": "text"
      },
      "source": [
        "- **svm** (requires sufficient time for training)"
      ]
    },
    {
      "cell_type": "code",
      "metadata": {
        "id": "uQUZz8PYVuhL",
        "colab_type": "code",
        "colab": {}
      },
      "source": [
        "#from sklearn.svm import SVC\n",
        "#model = SVC(C=100, gamma=\"scale\")\n",
        "#precision_pipline(Features_original, model)"
      ],
      "execution_count": 0,
      "outputs": []
    },
    {
      "cell_type": "markdown",
      "metadata": {
        "id": "fkT5CEOoVuhM",
        "colab_type": "text"
      },
      "source": [
        ""
      ]
    },
    {
      "cell_type": "markdown",
      "metadata": {
        "id": "I4MDyA_wVuhN",
        "colab_type": "text"
      },
      "source": [
        "# Testing the models with psd as new feature"
      ]
    },
    {
      "cell_type": "code",
      "metadata": {
        "id": "CMbBq509VuhN",
        "colab_type": "code",
        "outputId": "e8c0acf7-dfe3-4653-e4dc-5eebe3b45913",
        "colab": {}
      },
      "source": [
        "model = LogisticRegression(solver = 'lbfgs')\n",
        "precision_pipline(Feature_psd, model)"
      ],
      "execution_count": 0,
      "outputs": [
        {
          "output_type": "stream",
          "text": [
            "Training Accuracy: 0.5903254879364095\n",
            "Test Accuracy: 0.5873953950167841\n",
            "Test precision: 0.42032967032967034\n"
          ],
          "name": "stdout"
        },
        {
          "output_type": "execute_result",
          "data": {
            "text/plain": [
              "array([0, 0, 1, ..., 0, 0, 0])"
            ]
          },
          "metadata": {
            "tags": []
          },
          "execution_count": 5
        }
      ]
    },
    {
      "cell_type": "code",
      "metadata": {
        "id": "bXcwHU6SVuhO",
        "colab_type": "code",
        "outputId": "8d66d6ba-44b4-4183-8888-537b09c79da0",
        "colab": {}
      },
      "source": [
        "model = GaussianNB()\n",
        "precision_pipline(Feature_psd, model)"
      ],
      "execution_count": 0,
      "outputs": [
        {
          "output_type": "stream",
          "text": [
            "Training Accuracy: 0.4174755847110796\n",
            "Test Accuracy: 0.40811309157959436\n",
            "Test precision: 0.4025541909282184\n"
          ],
          "name": "stdout"
        },
        {
          "output_type": "execute_result",
          "data": {
            "text/plain": [
              "array([1, 1, 1, ..., 1, 1, 1])"
            ]
          },
          "metadata": {
            "tags": []
          },
          "execution_count": 9
        }
      ]
    },
    {
      "cell_type": "code",
      "metadata": {
        "id": "sQgPCDRwVuhQ",
        "colab_type": "code",
        "outputId": "55912df8-572e-4249-f646-64a567089395",
        "colab": {}
      },
      "source": [
        "from sklearn.ensemble import RandomForestClassifier\n",
        "model = RandomForestClassifier()\n",
        "precision_pipline(Feature_psd, model)"
      ],
      "execution_count": 0,
      "outputs": [
        {
          "output_type": "stream",
          "text": [
            "Training Accuracy: 0.982063442814296\n",
            "Test Accuracy: 0.5683892014561959\n",
            "Test precision: 0.4572753367189225\n"
          ],
          "name": "stdout"
        },
        {
          "output_type": "execute_result",
          "data": {
            "text/plain": [
              "array([0, 0, 0, ..., 0, 1, 0])"
            ]
          },
          "metadata": {
            "tags": []
          },
          "execution_count": 11
        }
      ]
    },
    {
      "cell_type": "markdown",
      "metadata": {
        "id": "QQjWmhi6VuhS",
        "colab_type": "text"
      },
      "source": [
        "# Testing the models with smooth as new feature"
      ]
    },
    {
      "cell_type": "code",
      "metadata": {
        "id": "iou7YOv5VuhS",
        "colab_type": "code",
        "outputId": "6cca3c39-3f80-4c52-9b0f-6f82cbbaacf8",
        "colab": {}
      },
      "source": [
        "model = LogisticRegression(solver = 'lbfgs')\n",
        "precision_pipline(Feature_smooth, model)\n"
      ],
      "execution_count": 0,
      "outputs": [
        {
          "output_type": "stream",
          "text": [
            "Training Accuracy: 0.5881240488749021\n",
            "Test Accuracy: 0.5902794194127937\n",
            "Test precision: 0.43283582089552236\n"
          ],
          "name": "stdout"
        },
        {
          "output_type": "execute_result",
          "data": {
            "text/plain": [
              "array([1, 0, 0, ..., 0, 0, 0])"
            ]
          },
          "metadata": {
            "tags": []
          },
          "execution_count": 12
        }
      ]
    },
    {
      "cell_type": "code",
      "metadata": {
        "id": "Mhuga660VuhT",
        "colab_type": "code",
        "outputId": "479cc5eb-0d88-44f7-dc59-2bfe1c7c0d0f",
        "colab": {}
      },
      "source": [
        "model = GaussianNB()\n",
        "precision_pipline(Feature_smooth, model)"
      ],
      "execution_count": 0,
      "outputs": [
        {
          "output_type": "stream",
          "text": [
            "Training Accuracy: 0.5450408522080877\n",
            "Test Accuracy: 0.5471136116495674\n",
            "Test precision: 0.43059792556436854\n"
          ],
          "name": "stdout"
        },
        {
          "output_type": "execute_result",
          "data": {
            "text/plain": [
              "array([0, 0, 0, ..., 0, 1, 0])"
            ]
          },
          "metadata": {
            "tags": []
          },
          "execution_count": 13
        }
      ]
    },
    {
      "cell_type": "code",
      "metadata": {
        "id": "tMRv7cDDVuhV",
        "colab_type": "code",
        "outputId": "aecf1bc2-16c9-42c9-db83-a89d7c5f313b",
        "colab": {}
      },
      "source": [
        "model = RandomForestClassifier()\n",
        "precision_pipline(Feature_smooth, model)"
      ],
      "execution_count": 0,
      "outputs": [
        {
          "output_type": "stream",
          "text": [
            "Training Accuracy: 0.9804973183812774\n",
            "Test Accuracy: 0.5735426220982459\n",
            "Test precision: 0.4553980370774264\n"
          ],
          "name": "stdout"
        },
        {
          "output_type": "execute_result",
          "data": {
            "text/plain": [
              "array([0, 0, 0, ..., 0, 0, 0])"
            ]
          },
          "metadata": {
            "tags": []
          },
          "execution_count": 14
        }
      ]
    },
    {
      "cell_type": "markdown",
      "metadata": {
        "id": "BhP4KTJoVuhX",
        "colab_type": "text"
      },
      "source": [
        "# Testing models with curvature"
      ]
    },
    {
      "cell_type": "code",
      "metadata": {
        "id": "79z2dRvIVuhX",
        "colab_type": "code",
        "outputId": "dbbbb5e6-11f2-45d1-87d7-4a78f5861a65",
        "colab": {}
      },
      "source": [
        "model = LogisticRegression(solver = 'lbfgs')\n",
        "precision_pipline(Feature_curvature, model)"
      ],
      "execution_count": 0,
      "outputs": [
        {
          "output_type": "stream",
          "text": [
            "Training Accuracy: 0.5898822451723476\n",
            "Test Accuracy: 0.5995461207507919\n",
            "Test precision: 0.4\n"
          ],
          "name": "stdout"
        },
        {
          "output_type": "execute_result",
          "data": {
            "text/plain": [
              "array([0, 0, 0, ..., 0, 0, 0])"
            ]
          },
          "metadata": {
            "tags": []
          },
          "execution_count": 15
        }
      ]
    },
    {
      "cell_type": "code",
      "metadata": {
        "id": "zpCjeNISVuhZ",
        "colab_type": "code",
        "outputId": "bbb6beec-0a82-4a51-ed31-f81fe1eb9630",
        "colab": {}
      },
      "source": [
        "model = GaussianNB()\n",
        "precision_pipline(Feature_curvature, model)"
      ],
      "execution_count": 0,
      "outputs": [
        {
          "output_type": "stream",
          "text": [
            "Training Accuracy: 0.4716398504794409\n",
            "Test Accuracy: 0.4697650229303579\n",
            "Test precision: 0.4128452758830283\n"
          ],
          "name": "stdout"
        },
        {
          "output_type": "execute_result",
          "data": {
            "text/plain": [
              "array([1, 1, 0, ..., 1, 1, 1])"
            ]
          },
          "metadata": {
            "tags": []
          },
          "execution_count": 16
        }
      ]
    },
    {
      "cell_type": "code",
      "metadata": {
        "id": "3CfUHgLBVuhb",
        "colab_type": "code",
        "outputId": "b3b34656-cf3f-4f70-80a5-201342a581cc",
        "colab": {}
      },
      "source": [
        "model = RandomForestClassifier()\n",
        "precision_pipline(Feature_curvature, model)\n"
      ],
      "execution_count": 0,
      "outputs": [
        {
          "output_type": "stream",
          "text": [
            "Training Accuracy: 0.9814576777034115\n",
            "Test Accuracy: 0.5791688336248877\n",
            "Test precision: 0.4636992221261884\n"
          ],
          "name": "stdout"
        },
        {
          "output_type": "execute_result",
          "data": {
            "text/plain": [
              "array([1, 1, 0, ..., 0, 0, 0])"
            ]
          },
          "metadata": {
            "tags": []
          },
          "execution_count": 17
        }
      ]
    },
    {
      "cell_type": "markdown",
      "metadata": {
        "id": "Tj2utp1zVuhc",
        "colab_type": "text"
      },
      "source": [
        "# Testing models with MACD derivitive\n"
      ]
    },
    {
      "cell_type": "code",
      "metadata": {
        "id": "gTGVdIDWVuhd",
        "colab_type": "code",
        "outputId": "db5925d6-a5e0-418b-c945-57ab0784dcb3",
        "colab": {}
      },
      "source": [
        "model = LogisticRegression(solver = 'lbfgs')\n",
        "precision_pipline(Feature_macd, model)"
      ],
      "execution_count": 0,
      "outputs": [
        {
          "output_type": "stream",
          "text": [
            "Training Accuracy: 0.5887298139857867\n",
            "Test Accuracy: 0.5937780719587726\n",
            "Test precision: 0.44565217391304346\n"
          ],
          "name": "stdout"
        },
        {
          "output_type": "execute_result",
          "data": {
            "text/plain": [
              "array([0, 0, 0, ..., 0, 0, 0])"
            ]
          },
          "metadata": {
            "tags": []
          },
          "execution_count": 18
        }
      ]
    },
    {
      "cell_type": "code",
      "metadata": {
        "id": "t8EP17kgVuhf",
        "colab_type": "code",
        "outputId": "f0fa8a7d-52a0-493f-c75a-36d1d0c0629d",
        "colab": {}
      },
      "source": [
        "model = GaussianNB()\n",
        "precision_pipline(Feature_macd, model)"
      ],
      "execution_count": 0,
      "outputs": [
        {
          "output_type": "stream",
          "text": [
            "Training Accuracy: 0.5622386714536886\n",
            "Test Accuracy: 0.5644650371140845\n",
            "Test precision: 0.42588522588522587\n"
          ],
          "name": "stdout"
        },
        {
          "output_type": "execute_result",
          "data": {
            "text/plain": [
              "array([0, 0, 1, ..., 0, 0, 0])"
            ]
          },
          "metadata": {
            "tags": []
          },
          "execution_count": 19
        }
      ]
    },
    {
      "cell_type": "code",
      "metadata": {
        "id": "IRMpJX-eVuhg",
        "colab_type": "code",
        "outputId": "7a520fe4-3e56-4a2c-b978-7032c3032aa8",
        "colab": {}
      },
      "source": [
        "model = RandomForestClassifier()\n",
        "precision_pipline(Feature_macd, model)"
      ],
      "execution_count": 0,
      "outputs": [
        {
          "output_type": "stream",
          "text": [
            "Training Accuracy: 0.9828317302720033\n",
            "Test Accuracy: 0.5733062266559501\n",
            "Test precision: 0.4585048754062839\n"
          ],
          "name": "stdout"
        },
        {
          "output_type": "execute_result",
          "data": {
            "text/plain": [
              "array([0, 1, 0, ..., 0, 0, 1])"
            ]
          },
          "metadata": {
            "tags": []
          },
          "execution_count": 20
        }
      ]
    },
    {
      "cell_type": "markdown",
      "metadata": {
        "id": "CXj6ytw6Vuhi",
        "colab_type": "text"
      },
      "source": [
        "# Maybe include other Oscillators "
      ]
    },
    {
      "cell_type": "markdown",
      "metadata": {
        "id": "bj363R12Vuhi",
        "colab_type": "text"
      },
      "source": [
        "# Pre-test for NN"
      ]
    },
    {
      "cell_type": "code",
      "metadata": {
        "id": "rIHmzh5uVuhi",
        "colab_type": "code",
        "colab": {}
      },
      "source": [
        ""
      ],
      "execution_count": 0,
      "outputs": []
    }
  ]
}