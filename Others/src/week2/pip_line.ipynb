{
 "cells": [
  {
   "cell_type": "code",
   "execution_count": 45,
   "metadata": {},
   "outputs": [],
   "source": [
    "# packages for basic python calculation\n",
    "import pandas as pd\n",
    "import numpy as np\n",
    "import os\n",
    "\n",
    "# warning ignore\n",
    "import warnings\n",
    "warnings.filterwarnings(\"ignore\")\n",
    "\n",
    "# packages for fft\n",
    "import spectrum\n",
    "from spectrum import Periodogram, data_cosine\n",
    "\n",
    "# packages for ML\n",
    "from sklearn.model_selection import train_test_split\n",
    "from sklearn.feature_selection import RFE\n",
    "\n",
    "\n",
    "# defind function for data readin\n",
    "def load_data(folder_path = \"../data/buy/\"):\n",
    "    df_gp = pd.DataFrame()\n",
    "    \n",
    "    for filename in os.listdir(folder_path):\n",
    "        if filename.endswith(\".txt\"): \n",
    "            stock = filename[0:4]\n",
    "            # print(\"Loading stock data:\", stock, \",\")\n",
    "            temp_df = pd.read_csv(os.path.join(folder_path, filename), delimiter= '\\s+', header = None)\n",
    "            temp_df.rename(columns={123:'rtn'}, inplace=True)\n",
    "            temp_df = pd.concat([pd.Series([stock] * temp_df.shape[0], name = 'stock'), temp_df], axis=1)\n",
    "            df_gp = pd.concat([df_gp, temp_df])\n",
    "            continue\n",
    "        else:\n",
    "            continue\n",
    "        \n",
    "    return df_gp\n",
    "    \n",
    "\n",
    "# Extract feature for smoothness\n",
    "# define function for psd calculation\n",
    "def psd_generator(data, NFFT = 100, name = \"osc\"):\n",
    "    freq = []\n",
    "    for i in range(data.shape[0]):\n",
    "        data_osc = data.iloc[i,:]\n",
    "        p = Periodogram(data_osc, NFFT=NFFT)\n",
    "        temp_list = list(p.psd)\n",
    "        freq.append(temp_list)\n",
    "    col_name = []\n",
    "    for i in range(int(NFFT/2)+1):\n",
    "        col_name.append(\"freq\"+str(i))\n",
    "    \n",
    "    psd_df = pd.DataFrame(freq, columns=col_name) \n",
    "    return psd_df\n",
    "\n",
    "# define function to calculate smoothness more directly\n",
    "def smooth_generator(data):\n",
    "    smooth_list = []\n",
    "    for i in range(data.shape[0]):\n",
    "        smooth_list.append(np.var(abs(np.diff(data.iloc[i,:]))))\n",
    "    smooth = pd.DataFrame(smooth_list, columns=[\"smooth\"]) \n",
    "\n",
    "    return smooth\n",
    "\n",
    "# define function for numerical differentiation\n",
    "def derivative(data, space = 1, name = \"macd\"):\n",
    "    dy = []\n",
    "    for i in range(data.shape[0]):\n",
    "        y = pd.Series(data.iloc[i,:])\n",
    "        temp_dy = list(np.gradient(y, space))\n",
    "        dy.append(temp_dy)\n",
    "    \n",
    "    col_name = []\n",
    "    for i in range(data.shape[1]):\n",
    "        col_name.append(name + \"deriv\"+ str(i))\n",
    "        \n",
    "    deriv_df = pd.DataFrame(dy, columns=col_name) \n",
    "    \n",
    "    return deriv_df\n",
    "\n",
    "\n",
    "\n",
    "def precision_pipline(df_gp, model):\n",
    "    \n",
    "    # seperate indicators  \n",
    "    name_gp = df_gp.iloc[21:100, 0].reset_index()\n",
    "    osc_gp = df_gp.iloc[21:100, 1:42].reset_index()\n",
    "    stk_gp = df_gp.iloc[21:100, 42:83].reset_index()\n",
    "    macd_gp = df_gp.iloc[21:100, 83:124].reset_index()\n",
    "    rtn_gp = df_gp.iloc[21:100, 124]\n",
    "    label_gp = np.sign(rtn_gp)\n",
    "    label_gp = label_gp.map({1: 1, -1: 0, 0:0})\n",
    "    results_gp = label_gp.map({1: 'EARN', 0: 'LOSS'})\n",
    "    \n",
    "    # Factor for smoothness\n",
    "    # calculate the fft frequencies distribution for the oscillator\n",
    "    psd_osc = psd_generator(osc_gp, NFFT = 100)\n",
    "    smooth_osc = smooth_generator(osc_gp)\n",
    "    \n",
    "    # calculate the dy for macd\n",
    "    first_deriv_macd = derivative(macd_gp)    \n",
    "    # calculate the ddy for macd\n",
    "    second_deriv_macd = derivative(first_deriv_macd) \n",
    "    \n",
    "    \n",
    "    # calculate the dy for osc (way to study curvature)\n",
    "    first_deriv_osc = derivative(osc_gp)\n",
    "    # calculate the ddy for osc\n",
    "    second_deriv_osc = derivative(first_deriv_osc)\n",
    "\n",
    "    Feature_matrix = pd.concat([osc_gp, stk_gp, macd_gp, psd_osc, smooth_osc, first_deriv_macd, second_deriv_macd, first_deriv_osc, second_deriv_osc], axis=1)\n",
    "    # Feature_matrix.head()\n",
    "\n",
    "    #Split test set\n",
    "    X, X_test, y, y_test = train_test_split(Feature_matrix, label_gp, test_size=0.2)\n",
    "\n",
    "    #Split train/validation set\n",
    "    X_train, X_valid, y_train, y_valid = train_test_split(X, y, test_size=0.2)\n",
    "    \n",
    "    model.fit(X_train, y_train)\n",
    "    \n",
    "    print(\"Training Accuracy:\", model.score(X_train, y_train))\n",
    "    print(\"Test Accuracy:\", model.score(X_test, y_test))\n",
    "    \n",
    "    pre = model.predict(X_test)\n",
    "    true = y_test\n",
    "    df_ana = pd.DataFrame({\"pre\":pre,\"true\":true})\n",
    "    \n",
    "    \n",
    "        \n",
    "    percision = sum(df_ana[\"true\"] & df_ana[\"pre\"])/sum(df_ana[\"pre\"])\n",
    "    print(\"Test precision:\", percision)\n",
    "    return pre\n",
    "\n"
   ]
  },
  {
   "cell_type": "code",
   "execution_count": 9,
   "metadata": {},
   "outputs": [],
   "source": [
    "df_gp = load_data()"
   ]
  },
  {
   "cell_type": "code",
   "execution_count": 46,
   "metadata": {},
   "outputs": [
    {
     "name": "stdout",
     "output_type": "stream",
     "text": [
      "Training Accuracy: 0.9\n",
      "Test Accuracy: 0.5625\n",
      "Test precision: 0.5\n"
     ]
    },
    {
     "data": {
      "text/plain": [
       "array([1, 1, 1, 1, 1, 1, 0, 0, 0, 0, 0, 0, 1, 0, 1, 0])"
      ]
     },
     "execution_count": 46,
     "metadata": {},
     "output_type": "execute_result"
    }
   ],
   "source": [
    "\n",
    "\n",
    "from sklearn.linear_model import LogisticRegression\n",
    "model = LogisticRegression(solver = 'lbfgs')\n",
    "precision_pipline(df_gp, model)"
   ]
  },
  {
   "cell_type": "code",
   "execution_count": 54,
   "metadata": {},
   "outputs": [
    {
     "name": "stdout",
     "output_type": "stream",
     "text": [
      "Training Accuracy: 0.78\n",
      "Test Accuracy: 0.6875\n",
      "Test precision: 0.6666666666666666\n"
     ]
    },
    {
     "data": {
      "text/plain": [
       "array([0, 0, 0, 0, 0, 1, 0, 0, 0, 0, 1, 0, 0, 0, 0, 1])"
      ]
     },
     "execution_count": 54,
     "metadata": {},
     "output_type": "execute_result"
    }
   ],
   "source": [
    "from sklearn.naive_bayes import BernoulliNB\n",
    "model = BernoulliNB()\n",
    "precision_pipline(df_gp, model)"
   ]
  },
  {
   "cell_type": "code",
   "execution_count": 58,
   "metadata": {},
   "outputs": [
    {
     "name": "stdout",
     "output_type": "stream",
     "text": [
      "Training Accuracy: 1.0\n",
      "Test Accuracy: 0.5\n",
      "Test precision: 0.4\n"
     ]
    },
    {
     "data": {
      "text/plain": [
       "array([1, 1, 0, 0, 1, 0, 0, 1, 0, 0, 0, 0, 0, 0, 1, 0])"
      ]
     },
     "execution_count": 58,
     "metadata": {},
     "output_type": "execute_result"
    }
   ],
   "source": [
    "from sklearn.ensemble import RandomForestClassifier\n",
    "model = RandomForestClassifier()\n",
    "precision_pipline(df_gp, model)"
   ]
  },
  {
   "cell_type": "code",
   "execution_count": 63,
   "metadata": {},
   "outputs": [
    {
     "name": "stdout",
     "output_type": "stream",
     "text": [
      "Training Accuracy: 1.0\n",
      "Test Accuracy: 0.75\n",
      "Test precision: 0.5\n"
     ]
    },
    {
     "data": {
      "text/plain": [
       "array([0, 0, 0, 0, 0, 0, 0, 1, 0, 0, 0, 0, 1, 0, 0, 0])"
      ]
     },
     "execution_count": 63,
     "metadata": {},
     "output_type": "execute_result"
    }
   ],
   "source": [
    "from sklearn.svm import SVC\n",
    "model = SVC(C=100, gamma=\"scale\")\n",
    "precision_pipline(df_gp, model)"
   ]
  },
  {
   "cell_type": "code",
   "execution_count": null,
   "metadata": {},
   "outputs": [],
   "source": []
  },
  {
   "cell_type": "code",
   "execution_count": null,
   "metadata": {},
   "outputs": [],
   "source": []
  }
 ],
 "metadata": {
  "kernelspec": {
   "display_name": "Python 3",
   "language": "python",
   "name": "python3"
  },
  "language_info": {
   "codemirror_mode": {
    "name": "ipython",
    "version": 3
   },
   "file_extension": ".py",
   "mimetype": "text/x-python",
   "name": "python",
   "nbconvert_exporter": "python",
   "pygments_lexer": "ipython3",
   "version": "3.6.8"
  }
 },
 "nbformat": 4,
 "nbformat_minor": 2
}
