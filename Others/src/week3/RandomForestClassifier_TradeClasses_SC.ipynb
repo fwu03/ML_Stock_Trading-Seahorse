{
 "cells": [
  {
   "cell_type": "markdown",
   "metadata": {},
   "source": [
    "### Load Packages"
   ]
  },
  {
   "cell_type": "code",
   "execution_count": 1,
   "metadata": {},
   "outputs": [],
   "source": [
    "# primary EDA code\n",
    "import pandas as pd\n",
    "import numpy as np\n",
    "import os\n",
    "\n",
    "# packages for plots\n",
    "import matplotlib.pyplot as plt\n",
    "import seaborn as sns\n",
    "\n",
    "# warning ignore\n",
    "import warnings\n",
    "warnings.filterwarnings(\"ignore\")\n",
    "\n",
    "# packages for statistics\n",
    "from statsmodels.tsa.api import ExponentialSmoothing, SimpleExpSmoothing, Holt\n",
    "import statsmodels.formula.api as smf\n",
    "import statsmodels.tsa.api as smt\n",
    "import statsmodels.api as sm\n",
    "import scipy.stats as scs\n",
    "\n",
    "# packages for fft\n",
    "import spectrum\n",
    "from spectrum import Periodogram, data_cosine\n",
    "\n",
    "# packages for ML\n",
    "from sklearn.model_selection import train_test_split\n",
    "from sklearn.feature_selection import RFE\n",
    "from sklearn.linear_model import LinearRegression, LogisticRegression\n",
    "from sklearn.svm import SVC, SVR\n",
    "from sklearn.naive_bayes import MultinomialNB\n",
    "from sklearn.tree import DecisionTreeClassifier\n",
    "from sklearn.neighbors import KNeighborsClassifier\n",
    "from sklearn.ensemble import RandomForestClassifier\n",
    "from sklearn.neural_network import MLPClassifier\n",
    "\n",
    "# packages for self-made logistic regression\n",
    "from scipy.optimize import fmin_tnc"
   ]
  },
  {
   "cell_type": "markdown",
   "metadata": {},
   "source": [
    "### Load Data & Split into parts"
   ]
  },
  {
   "cell_type": "code",
   "execution_count": 2,
   "metadata": {},
   "outputs": [],
   "source": [
    "df_gp = pd.DataFrame()\n",
    "for filename in os.listdir('data/buy/'):\n",
    "    if filename.endswith(\".txt\"): \n",
    "        stock = filename[0:4]\n",
    "        # print(\"Loading stock data:\", stock, \",\")\n",
    "        temp_df = pd.read_csv(os.path.join('data/buy/', filename), delimiter= '\\s+', header = None)\n",
    "        temp_df.rename(columns={123:'rtn'}, inplace=True)\n",
    "        temp_df = pd.concat([pd.Series([stock] * temp_df.shape[0], name = 'stock'), temp_df], axis=1)\n",
    "        temp_df = temp_df.iloc[21:,:]\n",
    "        df_gp = pd.concat([df_gp, temp_df])\n",
    "        continue\n",
    "    else:\n",
    "        continue\n",
    "        \n",
    "df_gp = df_gp.reset_index(drop=True)"
   ]
  },
  {
   "cell_type": "code",
   "execution_count": 3,
   "metadata": {},
   "outputs": [],
   "source": [
    "name_gp = df_gp.iloc[:, 0]\n",
    "osc_gp = df_gp.iloc[:, 1:42]\n",
    "stk_gp = df_gp.iloc[:, 42:83]\n",
    "macd_gp = df_gp.iloc[:, 83:124]\n",
    "rtn_gp = df_gp.iloc[:, 124]\n",
    "label_gp = np.sign(rtn_gp).map({1: 1, -1: 0, 0:0})\n",
    "results_gp = label_gp.map({1: 'EARN', 0: 'LOSS'})"
   ]
  },
  {
   "cell_type": "markdown",
   "metadata": {},
   "source": [
    "### Data Wrangling - add Smoothiness & PSD"
   ]
  },
  {
   "cell_type": "code",
   "execution_count": 4,
   "metadata": {},
   "outputs": [],
   "source": [
    "# define function to calculate smoothness\n",
    "def smooth_generator(data):\n",
    "    smooth_list = []\n",
    "    for i in range(data.shape[0]):\n",
    "        smooth_list.append(np.var(abs(np.diff(data.iloc[i,:]))))\n",
    "    smooth = pd.DataFrame(smooth_list, columns=[\"smooth\"]) \n",
    "\n",
    "    return smooth"
   ]
  },
  {
   "cell_type": "code",
   "execution_count": 5,
   "metadata": {},
   "outputs": [],
   "source": [
    "# define function for psd calculation\n",
    "def psd_generator(data, NFFT = 100, name = \"osc\"):\n",
    "    freq = []\n",
    "    for i in range(data.shape[0]):\n",
    "        data_osc = data.iloc[i,:]\n",
    "        p = Periodogram(data_osc, NFFT=NFFT)\n",
    "        temp_list = list(p.psd)\n",
    "        freq.append(temp_list)\n",
    "    col_name = []\n",
    "    for i in range(int(NFFT/2)+1):\n",
    "        col_name.append(\"freq\"+str(i))\n",
    "    \n",
    "    psd_df = pd.DataFrame(freq, columns=col_name) \n",
    "    return psd_df"
   ]
  },
  {
   "cell_type": "code",
   "execution_count": 6,
   "metadata": {},
   "outputs": [],
   "source": [
    "# define function for numerical differentiation\n",
    "def derivative(data, space = 1, name = \"macd\"):\n",
    "    dy = []\n",
    "    for i in range(data.shape[0]):\n",
    "        y = pd.Series(data.iloc[i,:])\n",
    "        temp_dy = list(np.gradient(y, space))\n",
    "        dy.append(temp_dy)\n",
    "    \n",
    "    col_name = []\n",
    "    for i in range(data.shape[1]):\n",
    "        col_name.append(name + \"deriv\"+ str(i))\n",
    "        \n",
    "    deriv_df = pd.DataFrame(dy, columns=col_name) \n",
    "    \n",
    "    return deriv_df"
   ]
  },
  {
   "cell_type": "code",
   "execution_count": 7,
   "metadata": {},
   "outputs": [],
   "source": [
    "# Factor for smoothness\n",
    "smooth_osc = smooth_generator(osc_gp)\n",
    "# calculate the dy for macd\n",
    "first_deriv_macd = derivative(macd_gp)    \n",
    "# calculate the ddy for macd\n",
    "second_deriv_macd = derivative(first_deriv_macd) \n",
    "# calculate the dy for osc (way to study curvature)\n",
    "first_deriv_osc = derivative(osc_gp)"
   ]
  },
  {
   "cell_type": "markdown",
   "metadata": {},
   "source": [
    "### Combine Selected Features"
   ]
  },
  {
   "cell_type": "code",
   "execution_count": 8,
   "metadata": {},
   "outputs": [],
   "source": [
    "Feature_matrix_w_rtn = pd.concat([rtn_gp, osc_gp, smooth_osc, first_deriv_macd, second_deriv_macd, first_deriv_osc], axis=1)"
   ]
  },
  {
   "cell_type": "code",
   "execution_count": 66,
   "metadata": {},
   "outputs": [],
   "source": [
    "#Split test set\n",
    "X_w_rtn, X_test_w_rtn, y, y_test = train_test_split(Feature_matrix_w_rtn, label_gp, test_size=0.2)\n",
    "\n",
    "#Separate returns from Feature matrix\n",
    "X_test = X_test_w_rtn.iloc[:, 1:]\n",
    "rtn_test = X_test_w_rtn.iloc[:, 0]\n",
    "\n",
    "#reset indices on all\n",
    "X_test = X_test.reset_index(drop=True)\n",
    "y_test = y_test.reset_index(drop=True)\n",
    "rtn_test = rtn_test.reset_index(drop=True)"
   ]
  },
  {
   "cell_type": "code",
   "execution_count": 67,
   "metadata": {},
   "outputs": [],
   "source": [
    "#Split train/validation set\n",
    "X_train_w_rtn, X_valid_w_rtn, y_train, y_valid = train_test_split(X_w_rtn, y, test_size=0.2)\n",
    "\n",
    "#Separate returns from Feature matrix\n",
    "X_train = X_train_w_rtn.iloc[:, 1:]\n",
    "X_valid = X_valid_w_rtn.iloc[:, 1:]\n",
    "\n",
    "rtn_train = X_train_w_rtn.iloc[:, 0]\n",
    "rtn_valid = X_valid_w_rtn.iloc[:, 0]\n",
    "\n",
    "#reset indices on all\n",
    "X_train = X_train.reset_index(drop=True)\n",
    "y_train = y_train.reset_index(drop=True)\n",
    "rtn_train = rtn_train.reset_index(drop=True)\n",
    "X_valid = X_valid.reset_index(drop=True)\n",
    "y_valid = y_valid.reset_index(drop=True)\n",
    "rtn_valid = rtn_valid.reset_index(drop=True)"
   ]
  },
  {
   "cell_type": "markdown",
   "metadata": {},
   "source": [
    "### Random Forest Classifier - Log Proba Output"
   ]
  },
  {
   "cell_type": "code",
   "execution_count": 72,
   "metadata": {
    "scrolled": true
   },
   "outputs": [
    {
     "data": {
      "text/plain": [
       "RandomForestClassifier(bootstrap=True, class_weight=None, criterion='gini',\n",
       "            max_depth=None, max_features='auto', max_leaf_nodes=None,\n",
       "            min_impurity_decrease=0.0, min_impurity_split=None,\n",
       "            min_samples_leaf=1, min_samples_split=2,\n",
       "            min_weight_fraction_leaf=0.0, n_estimators=10, n_jobs=None,\n",
       "            oob_score=False, random_state=None, verbose=0,\n",
       "            warm_start=False)"
      ]
     },
     "execution_count": 72,
     "metadata": {},
     "output_type": "execute_result"
    }
   ],
   "source": [
    "# Fit Logistic Regression\n",
    "lr = RandomForestClassifier()\n",
    "lr.fit(X_train, y_train)\n",
    "#print(\"Training accuracy: \", round(lr.score(X_train, y_train),4))\n",
    "#print(\"Validation accuracy: \", round(lr.score(X_valid, y_valid),4))"
   ]
  },
  {
   "cell_type": "code",
   "execution_count": 70,
   "metadata": {},
   "outputs": [],
   "source": [
    "# Extracts the probabilities of being a good trade\n",
    "predicitions = lr.predict_log_proba(X_valid)\n",
    "pred_extracts = []\n",
    "for prob in range(len(predicitions)):\n",
    "    pred_extracts.append(-predicitions[prob][0])\n",
    "\n",
    "# Classify the Classes of the Trades\n",
    "# Log Proba Inf - Excellent\n",
    "# Log Proba 2.3 or above - Great\n",
    "# Log Proba 1.5 - 2.2 - Good\n",
    "# Log Proba < 1.5 - Average\n",
    "\n",
    "trade_classes = ['Average'] * len(pred_extracts)\n",
    "for i in range(len(pred_extracts)):\n",
    "    if pred_extracts[i] == np.inf:\n",
    "        trade_classes[i] = 'Excellent'\n",
    "    elif pred_extracts[i] > 2.2:\n",
    "        trade_classes[i] = 'Great'\n",
    "    elif pred_extracts[i] > 1.5:\n",
    "        trade_classes[i] = 'Good'\n",
    "    \n",
    "results = pd.concat([pd.DataFrame(pred_extracts), pd.DataFrame(trade_classes), y_valid, rtn_valid], axis =1)\n",
    "results.columns = ['prob', 'trade_class', 'label', 'return']\n"
   ]
  },
  {
   "cell_type": "markdown",
   "metadata": {},
   "source": [
    "### Results Summary - Validation Set"
   ]
  },
  {
   "cell_type": "code",
   "execution_count": 77,
   "metadata": {},
   "outputs": [
    {
     "data": {
      "text/html": [
       "<div>\n",
       "<style scoped>\n",
       "    .dataframe tbody tr th:only-of-type {\n",
       "        vertical-align: middle;\n",
       "    }\n",
       "\n",
       "    .dataframe tbody tr th {\n",
       "        vertical-align: top;\n",
       "    }\n",
       "\n",
       "    .dataframe thead th {\n",
       "        text-align: right;\n",
       "    }\n",
       "</style>\n",
       "<table border=\"1\" class=\"dataframe\">\n",
       "  <thead>\n",
       "    <tr style=\"text-align: right;\">\n",
       "      <th></th>\n",
       "      <th>WinRate</th>\n",
       "      <th>Count</th>\n",
       "      <th>Avg. Return</th>\n",
       "      <th>% of All Trades</th>\n",
       "    </tr>\n",
       "    <tr>\n",
       "      <th>trade_class</th>\n",
       "      <th></th>\n",
       "      <th></th>\n",
       "      <th></th>\n",
       "      <th></th>\n",
       "    </tr>\n",
       "  </thead>\n",
       "  <tbody>\n",
       "    <tr>\n",
       "      <th>Excellent</th>\n",
       "      <td>0.976744</td>\n",
       "      <td>43</td>\n",
       "      <td>1.776279</td>\n",
       "      <td>0.26</td>\n",
       "    </tr>\n",
       "    <tr>\n",
       "      <th>Great</th>\n",
       "      <td>0.704545</td>\n",
       "      <td>132</td>\n",
       "      <td>1.012652</td>\n",
       "      <td>0.78</td>\n",
       "    </tr>\n",
       "    <tr>\n",
       "      <th>Good</th>\n",
       "      <td>0.552023</td>\n",
       "      <td>346</td>\n",
       "      <td>0.333295</td>\n",
       "      <td>2.06</td>\n",
       "    </tr>\n",
       "    <tr>\n",
       "      <th>Average</th>\n",
       "      <td>0.402171</td>\n",
       "      <td>16309</td>\n",
       "      <td>0.039046</td>\n",
       "      <td>96.90</td>\n",
       "    </tr>\n",
       "  </tbody>\n",
       "</table>\n",
       "</div>"
      ],
      "text/plain": [
       "              WinRate  Count  Avg. Return  % of All Trades\n",
       "trade_class                                               \n",
       "Excellent    0.976744     43     1.776279             0.26\n",
       "Great        0.704545    132     1.012652             0.78\n",
       "Good         0.552023    346     0.333295             2.06\n",
       "Average      0.402171  16309     0.039046            96.90"
      ]
     },
     "execution_count": 77,
     "metadata": {},
     "output_type": "execute_result"
    }
   ],
   "source": [
    "results_summary = pd.concat([results.groupby(['trade_class']).mean()['label'], results.groupby(['trade_class']).count()['label'], results.groupby(['trade_class']).mean()['return']],axis=1)\n",
    "results_summary.columns = ['WinRate', 'Count', 'Avg. Return']\n",
    "results_summary['% of All Trades'] = np.round(results_summary['Count']/np.sum(results_summary['Count']),4)*100 \n",
    "results_summary.reindex(['Excellent', 'Great', 'Good', 'Average'])\n"
   ]
  }
 ],
 "metadata": {
  "kernelspec": {
   "display_name": "Python 3",
   "language": "python",
   "name": "python3"
  },
  "language_info": {
   "codemirror_mode": {
    "name": "ipython",
    "version": 3
   },
   "file_extension": ".py",
   "mimetype": "text/x-python",
   "name": "python",
   "nbconvert_exporter": "python",
   "pygments_lexer": "ipython3",
   "version": "3.7.3"
  }
 },
 "nbformat": 4,
 "nbformat_minor": 2
}
