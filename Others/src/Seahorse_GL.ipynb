{
 "cells": [
  {
   "cell_type": "code",
   "execution_count": 2,
   "metadata": {
    "colab": {},
    "colab_type": "code",
    "id": "q4l3pVVqOF39"
   },
   "outputs": [],
   "source": [
    "import pandas as pd\n",
    "import numpy as np\n",
    "import matplotlib.pyplot as plt\n",
    "import re \n",
    "import os\n",
    "from sklearn.model_selection import train_test_split, GridSearchCV\n",
    "from sklearn.feature_selection import RFE\n",
    "from sklearn.linear_model import LogisticRegression\n",
    "from sklearn.metrics import precision_score, classification_report\n",
    "from sklearn.ensemble import RandomForestClassifier\n",
    "from sklearn.neighbors import KNeighborsClassifier, KNeighborsRegressor\n",
    "from sklearn.preprocessing import normalize\n",
    "import spectrum\n",
    "from spectrum import Periodogram, data_cosine"
   ]
  },
  {
   "cell_type": "code",
   "execution_count": 5,
   "metadata": {
    "colab": {},
    "colab_type": "code",
    "id": "lCT6GLVAORaP"
   },
   "outputs": [],
   "source": [
    "def read_data_files():\n",
    "    raw_data = pd.DataFrame()\n",
    "    \n",
    "    for filename in os.listdir('../data/buy/'):\n",
    "        if filename.endswith(\".txt\"): \n",
    "            symbol = filename.split(\"1\")[0]\n",
    "            tmp_df = pd.read_csv(os.path.join('../data/buy/', filename), delimiter= '\\s+', header = None)\n",
    "            tmp_df = tmp_df.astype(float)\n",
    "            tmp_df = pd.concat([pd.Series([symbol] * tmp_df.shape[0], name = 'symbol'), tmp_df], axis=1)\n",
    "            tmp_df = tmp_df.iloc[20:,:]\n",
    "            raw_data = pd.concat([raw_data, tmp_df])\n",
    "    \n",
    "    osc_names = ['osc' + str(i+1) for i in range(41)]\n",
    "    prc_names = ['prc' + str(i+1) for i in range(41)]\n",
    "    macd_names = ['macd' + str(i+1) for i in range(41)]\n",
    "    raw_data.columns = ['symbol'] + osc_names + prc_names + macd_names + ['rtn']\n",
    "    raw_data = raw_data.reset_index(drop=True)\n",
    "    \n",
    "    return raw_data"
   ]
  },
  {
   "cell_type": "code",
   "execution_count": 6,
   "metadata": {
    "colab": {},
    "colab_type": "code",
    "id": "dG7LWXY6OlVY"
   },
   "outputs": [],
   "source": [
    "def remove_duplicates(raw_data):\n",
    "    target_names = list(raw_data.columns)\n",
    "    del target_names[0]\n",
    "    clean_data = raw_data.drop_duplicates(subset = target_names)\n",
    "    clean_data= clean_data.reset_index(drop=True)\n",
    "    \n",
    "    return clean_data"
   ]
  },
  {
   "cell_type": "code",
   "execution_count": 24,
   "metadata": {
    "colab": {},
    "colab_type": "code",
    "id": "zbVUfKM0OnZ5"
   },
   "outputs": [],
   "source": [
    "def remove_extreme_values(data): \n",
    "    data = data[(data['osc1'] > -7) & (data['osc1'] < 7)] \n",
    "    data = data.reset_index(drop=True)\n",
    "    return data"
   ]
  },
  {
   "cell_type": "code",
   "execution_count": 8,
   "metadata": {
    "colab": {},
    "colab_type": "code",
    "id": "tLCznp0dOqi9"
   },
   "outputs": [],
   "source": [
    "def check_zero_values(data):\n",
    "    data['n_osc_zero'] = [0] * data.shape[0]\n",
    "    data['n_prc_zero'] = [0] * data.shape[0]\n",
    "    data['n_macd_zero'] = [0] * data.shape[0]\n",
    "    for i in range(data.shape[0]):\n",
    "        if i%1000 == 0:\n",
    "            print(i, end=' ')\n",
    "        data.iloc[i, -3] = sum(data.iloc[i, 1:42] == 0)\n",
    "        data.iloc[i, -2] = sum(data.iloc[i, 42:83] == 0)\n",
    "        data.iloc[i, -1] = sum(data.iloc[i, 83:124] == 0)\n",
    "    return data"
   ]
  },
  {
   "cell_type": "code",
   "execution_count": 25,
   "metadata": {
    "colab": {},
    "colab_type": "code",
    "id": "fvlLZgFJOxJ9"
   },
   "outputs": [],
   "source": [
    "def remove_pos_values(data):\n",
    "    data = data[data['osc1'] < 0]\n",
    "    data = data.reset_index(drop=True)\n",
    "    return data"
   ]
  },
  {
   "cell_type": "code",
   "execution_count": 10,
   "metadata": {
    "colab": {},
    "colab_type": "code",
    "id": "z8QsM2NOQ5xv"
   },
   "outputs": [],
   "source": [
    "def standardize_data(data): \n",
    "    for i in range(data.shape[0]): \n",
    "        row = data.iloc[i, :] \n",
    "        data.iloc[i, :] = (row - np.mean(row))/np.std(row) \n",
    "    return data "
   ]
  },
  {
   "cell_type": "code",
   "execution_count": 11,
   "metadata": {
    "colab": {},
    "colab_type": "code",
    "id": "i_NOU4m4TCSr"
   },
   "outputs": [],
   "source": [
    "def normalize_data(data): \n",
    "    for i in range(data.shape[0]): \n",
    "        row = data.iloc[i, :] \n",
    "        data.iloc[i, :] = (row - min(row))/(max(row) - min(row)) \n",
    "    return data"
   ]
  },
  {
   "cell_type": "code",
   "execution_count": 12,
   "metadata": {
    "colab": {},
    "colab_type": "code",
    "id": "FLObCIOuTIMZ"
   },
   "outputs": [],
   "source": [
    "def sep_stock_data(data): \n",
    "    \n",
    "    symbol = pd.Series(data['symbol'], name = 'symbol')\n",
    "    osc_data = data.iloc[:, 1:42]\n",
    "    osc_data = osc_data[osc_data.columns[::-1]]\n",
    "    prc_data = data.iloc[:, 42:83]\n",
    "    prc_data = prc_data[prc_data.columns[::-1]]\n",
    "    macd_data = data.iloc[:, 83:124]\n",
    "    macd_data = macd_data[macd_data.columns[::-1]]\n",
    "    rtn = pd.Series(data.iloc[:, 124], name = 'rtn')\n",
    "    label = pd.Series(map(lambda x: 1 if x>0 else 0, rtn), name = 'label')\n",
    "    \n",
    "    return symbol, osc_data, prc_data, macd_data, rtn, label"
   ]
  },
  {
   "cell_type": "code",
   "execution_count": 13,
   "metadata": {
    "colab": {},
    "colab_type": "code",
    "id": "OE9WmGZLTI7X"
   },
   "outputs": [],
   "source": [
    "def calc_derivative(data, name):\n",
    "    derivatives = []\n",
    "    for i in range(data.shape[0]):\n",
    "        i_derivative = list(np.gradient(pd.Series(data.iloc[i,:])))\n",
    "        derivatives.append(i_derivative)\n",
    "    \n",
    "    names = []\n",
    "    for i in range(data.shape[1]):\n",
    "        names.append(name + \"_d\"+ str(i)) \n",
    "    \n",
    "    return pd.DataFrame(derivatives, columns=names, index=data.index)"
   ]
  },
  {
   "cell_type": "code",
   "execution_count": 38,
   "metadata": {
    "colab": {},
    "colab_type": "code",
    "id": "Kvm8dBPVTI4U"
   },
   "outputs": [],
   "source": [
    "def psd_calculator(data, name, NFFT = 100):\n",
    "    \"\"\"\n",
    "    calculate the psd seq as new feature. \n",
    "    this is a copy of the function from https://github.com/UBC-MDS/DSCI_591_capstone-Seahorse/blob/master/src/week4/RandomForest_Exploring_Q%26A_inluded.ipynb\n",
    "    \"\"\" \n",
    "\n",
    "    freq = []\n",
    "    for i in range(data.shape[0]):\n",
    "        data_osc = data.iloc[i,:]\n",
    "        p = Periodogram(data_osc, NFFT=NFFT)\n",
    "        temp_list = list(p.psd)\n",
    "        freq.append(temp_list)\n",
    "\n",
    "    col_name = []\n",
    "    for i in range(int(NFFT/2)+1):\n",
    "        col_name.append(name+ \"_psd\"+str(i))\n",
    "    \n",
    "    psd_df = pd.DataFrame(freq, columns=col_name)\n",
    "    psd_df.index = data.index\n",
    "        \n",
    "    return psd_df"
   ]
  },
  {
   "cell_type": "code",
   "execution_count": 15,
   "metadata": {
    "colab": {},
    "colab_type": "code",
    "id": "poFunPctg2Sm"
   },
   "outputs": [],
   "source": [
    "def cal_smoothness(data): \n",
    "    smoothness = []\n",
    "    for i in range(data.shape[0]):\n",
    "      smoothness.append(np.var(abs(np.diff(data.iloc[i,:]))))\n",
    "    smoothness = pd.Series(smoothness, name='smoothness', index=data.index)\n",
    "    return smoothness"
   ]
  },
  {
   "cell_type": "code",
   "execution_count": 16,
   "metadata": {
    "colab": {},
    "colab_type": "code",
    "id": "s8f1ICGQTQ_7"
   },
   "outputs": [],
   "source": [
    "def eng_osc_features(osc_data):\n",
    "    # new feature 'smoothness' - how smooth is the curve? \n",
    "    smoothness = cal_smoothness(osc_data)\n",
    "\n",
    "    # new features to record oscillator level \n",
    "    oscn6 = pd.Series(map(lambda x: True if x <= -6 else False, osc_data['osc1']), name='oscn6')\n",
    "    oscn63 = pd.Series(map(lambda x: True if (x > -6 and x <= -3) else False, osc_data['osc1']), name='oscn63')\n",
    "    oscn30 = pd.Series(map(lambda x: True if (x > -3 and x <= 0) else False, osc_data['osc1']), name='oscn30')\n",
    "    osc03 = pd.Series(map(lambda x: True if (x > 0 and x <= 3) else False, osc_data['osc1']), name='osc03')\n",
    "    osc36 = pd.Series(map(lambda x: True if (x > 3 and x <= 6) else False, osc_data['osc1']), name='osc36')\n",
    "    osc6 = pd.Series(map(lambda x: True if x >= 6 else False, osc_data['osc1']), name='osc6')\n",
    "\n",
    "    # new features to record 1st derivatives \n",
    "    osc_derv = calc_derivative(osc_data, name=\"osc\")\n",
    "    osc_psd = psd_calculator(osc_data, name=\"osc\")\n",
    "    new_osc_features = pd.concat([smoothness, oscn6, oscn63, oscn30, osc03, osc36, osc6, osc_derv], axis = 1)\n",
    "    new_osc_features.index = osc_data.index\n",
    "\n",
    "    return new_osc_features"
   ]
  },
  {
   "cell_type": "code",
   "execution_count": 17,
   "metadata": {
    "colab": {},
    "colab_type": "code",
    "id": "vGEU-QgZTORI"
   },
   "outputs": [],
   "source": [
    "def eng_prc_features(prc_data): \n",
    "    # new feature 'spike' - price spike? \n",
    "    spike = pd.Series(map(lambda x1, x2: 1 if x1/x2 > 1.05 else 0, prc_data['prc1'], prc_data['prc2']), name='spike')\n",
    "    \n",
    "    # new feature 'lower20' - price is at the bottom 20% zone? \n",
    "    # new feature 'flat' - price is flat in the last 6 bars? \n",
    "    lower20 = [] \n",
    "    flat = []\n",
    "    for i in range(prc_data.shape[0]):\n",
    "        max_prc = max(prc_data.iloc[i, :])\n",
    "        min_prc = min(prc_data.iloc[i, :])\n",
    "        prc_range = max_prc - min_prc \n",
    "        if prc_data.iloc[i, 40] - min_prc <=  min_prc + 0.2 * prc_range:\n",
    "            lower20.append(1)\n",
    "        else: \n",
    "            lower20.append(0)\n",
    "        last_6_range = max(prc_data.iloc[i, 35:]) - min(prc_data.iloc[i, 35:]) \n",
    "        if last_6_range <= 0.2 * prc_range:\n",
    "            flat.append(1)\n",
    "        else:\n",
    "            flat.append(0)        \n",
    "    lower20 = pd.Series(lower20, name='lower20') \n",
    "    flat = pd.Series(flat, name='flat')\n",
    "    \n",
    "    prc_derv = calc_derivative(prc_data, name=\"prc\")\n",
    "    \n",
    "    new_prc_features = pd.concat([spike, lower20, flat, prc_derv], axis=1) \n",
    "    new_prc_features.index = prc_data.index\n",
    "    \n",
    "    return new_prc_features"
   ]
  },
  {
   "cell_type": "code",
   "execution_count": 18,
   "metadata": {
    "colab": {},
    "colab_type": "code",
    "id": "5i-IdbieTTaN"
   },
   "outputs": [],
   "source": [
    "def eng_macd_features(macd_data):\n",
    "    # new features to record whether MACD is up in the last 1 to 5 bars\n",
    "    macd_up1 = pd.Series(macd_data['macd1'] > macd_data['macd2'], name='macd_up1')\n",
    "    macd_up2 = pd.Series(macd_up1 & (macd_data['macd2'] > macd_data['macd3']), name='macd_up2')\n",
    "    macd_up3 = pd.Series(macd_up2 & (macd_data['macd3'] > macd_data['macd4']), name='macd_up3')\n",
    "    macd_up4 = pd.Series(macd_up3 & (macd_data['macd4'] > macd_data['macd5']), name='macd_up4')\n",
    "    macd_up5 = pd.Series(macd_up4 & (macd_data['macd5'] > macd_data['macd6']), name='macd_up5')\n",
    "    \n",
    "    # new feature 'macd_co' - MACD crossover upward in the last three bars? \n",
    "    macd_co = pd.Series(map(lambda x1, x2: True if (x1 > 0 and x2 < 0) else False, macd_data['macd1'], macd_data['macd3']), \n",
    "                        name='macd_co')\n",
    "    \n",
    "    macd_derv = calc_derivative(macd_data, name=\"macd\")\n",
    "    macd_psd = psd_calculator(macd_data, name='macd')\n",
    "    \n",
    "    new_macd_features = pd.concat([macd_up1, macd_up2, macd_up3, macd_up4, macd_up5, macd_co, macd_derv, macd_psd], axis = 1)\n",
    "    new_macd_features.index = macd_data.index \n",
    "    \n",
    "    return new_macd_features"
   ]
  },
  {
   "cell_type": "code",
   "execution_count": 46,
   "metadata": {
    "colab": {},
    "colab_type": "code",
    "id": "ZRLpXDFtb87f"
   },
   "outputs": [],
   "source": [
    "def save_new_data(clean_data):\n",
    "    clean_data = clean_data.reset_index(drop = True)\n",
    "    symbol, osc_data, prc_data, macd_data, rtn, label = sep_stock_data(clean_data) \n",
    "    new_osc_features = eng_osc_features(osc_data)\n",
    "    new_prc_features = eng_prc_features(prc_data)\n",
    "    new_macd_features = eng_macd_features(macd_data) \n",
    "    osc_normalized = normalize_data(osc_data)\n",
    "    prc_normalized = normalize_data(prc_data)\n",
    "    macd_normalized = normalize_data(macd_data)\n",
    "\n",
    "    D1 = pd.concat([osc_data, prc_data, macd_data, \n",
    "                    symbol, rtn, label], axis = 1)\n",
    "    D2 = pd.concat([osc_data, prc_data, macd_data, \n",
    "                    new_prc_features, new_osc_features, new_macd_features, \n",
    "                    symbol, rtn, label], axis = 1)\n",
    "    D3 = pd.concat([osc_normalized, prc_normalized, macd_normalized, \n",
    "                    new_prc_features, new_osc_features, new_macd_features, \n",
    "                    symbol, rtn, label], axis = 1)\n",
    "    D4 = pd.concat([osc_data, prc_data, macd_data, \n",
    "                    osc_normalized, prc_normalized, macd_normalized, \n",
    "                    new_prc_features, new_osc_features, new_macd_features, \n",
    "                    symbol, rtn, label], axis = 1)\n",
    "    D1.to_csv('../data/D1.csv')\n",
    "    D2.to_csv('../data/D2.csv')\n",
    "    D3.to_csv('../data/D3.csv')\n",
    "    D4.to_csv('../data/D4.csv')"
   ]
  },
  {
   "cell_type": "code",
   "execution_count": 35,
   "metadata": {
    "colab": {
     "base_uri": "https://localhost:8080/",
     "height": 34
    },
    "colab_type": "code",
    "executionInfo": {
     "elapsed": 3462,
     "status": "ok",
     "timestamp": 1558069730351,
     "user": {
      "displayName": "Junxiong Lei",
      "photoUrl": "https://lh4.googleusercontent.com/-A_hLQrqfd5Q/AAAAAAAAAAI/AAAAAAAAAhA/VntD0J4mKNw/s64/photo.jpg",
      "userId": "11770709030165456358"
     },
     "user_tz": 420
    },
    "id": "gwQ1t_elQ269",
    "outputId": "61622063-8d90-4936-e72e-0875b78e3ada"
   },
   "outputs": [
    {
     "data": {
      "text/plain": [
       "(102631, 125)"
      ]
     },
     "execution_count": 35,
     "metadata": {},
     "output_type": "execute_result"
    }
   ],
   "source": [
    "dat1 = read_data_files()\n",
    "dat1.shape"
   ]
  },
  {
   "cell_type": "code",
   "execution_count": 36,
   "metadata": {
    "colab": {
     "base_uri": "https://localhost:8080/",
     "height": 34
    },
    "colab_type": "code",
    "executionInfo": {
     "elapsed": 1086,
     "status": "ok",
     "timestamp": 1558069811994,
     "user": {
      "displayName": "Junxiong Lei",
      "photoUrl": "https://lh4.googleusercontent.com/-A_hLQrqfd5Q/AAAAAAAAAAI/AAAAAAAAAhA/VntD0J4mKNw/s64/photo.jpg",
      "userId": "11770709030165456358"
     },
     "user_tz": 420
    },
    "id": "dYlXCtEeO1tz",
    "outputId": "cc2f6229-7276-4c6a-818d-4efe19c87c80"
   },
   "outputs": [
    {
     "data": {
      "text/plain": [
       "(101904, 125)"
      ]
     },
     "execution_count": 36,
     "metadata": {},
     "output_type": "execute_result"
    }
   ],
   "source": [
    "dat2 = remove_duplicates(dat1)\n",
    "dat2.shape"
   ]
  },
  {
   "cell_type": "code",
   "execution_count": 37,
   "metadata": {},
   "outputs": [
    {
     "data": {
      "text/plain": [
       "(100987, 125)"
      ]
     },
     "execution_count": 37,
     "metadata": {},
     "output_type": "execute_result"
    }
   ],
   "source": [
    "dat2 = remove_extreme_values(dat2)\n",
    "dat2.shape"
   ]
  },
  {
   "cell_type": "code",
   "execution_count": 47,
   "metadata": {},
   "outputs": [],
   "source": [
    "# save data that contain low price records\n",
    "save_new_data(dat2)"
   ]
  },
  {
   "cell_type": "code",
   "execution_count": 78,
   "metadata": {},
   "outputs": [
    {
     "data": {
      "text/plain": [
       "(96030, 125)"
      ]
     },
     "execution_count": 78,
     "metadata": {},
     "output_type": "execute_result"
    }
   ],
   "source": [
    "dat3 = dat2[dat2['prc1'] > 5]\n",
    "dat3.shape"
   ]
  },
  {
   "cell_type": "code",
   "execution_count": 79,
   "metadata": {},
   "outputs": [],
   "source": [
    "# save data that don't contain low price records\n",
    "save_new_data(dat3)"
   ]
  },
  {
   "cell_type": "code",
   "execution_count": null,
   "metadata": {},
   "outputs": [],
   "source": []
  },
  {
   "cell_type": "code",
   "execution_count": 53,
   "metadata": {
    "colab": {},
    "colab_type": "code",
    "id": "whY6y89TTiuI"
   },
   "outputs": [],
   "source": [
    "class StockData():\n",
    "    def __init__(self, file_path):\n",
    "        \n",
    "        data = pd.read_csv(file_path, header=0, index_col=0) \n",
    "        y = data['label'] \n",
    "        X = data.drop(['symbol', 'label'], axis = 1)\n",
    "        \n",
    "        X_train_valid_w_rtn, X_test_w_rtn, y_train_valid, y_test = train_test_split(X, y, test_size=0.25) \n",
    "        \n",
    "        # balance the train_valid data set\n",
    "        balance_data_set = True\n",
    "        if balance_data_set:\n",
    "            df = pd.concat([X_train_valid_w_rtn, y_train_valid], axis=1)\n",
    "            tmp_pos = df[df['rtn'] > 0] \n",
    "            tmp_neg = df[df['rtn'] < 0] \n",
    "            if tmp_pos.shape[0] > tmp_neg.shape[0]: \n",
    "                tmp_pos = tmp_pos.sample(tmp_neg.shape[0])\n",
    "            elif tmp_pos.shape[0] < tmp_neg.shape[0]:\n",
    "                tmp_neg = tmp_neg.sample(tmp_pos.shape[0])\n",
    "            df = pd.concat([tmp_pos, tmp_neg], axis = 0)\n",
    "            y_train_valid = df['label']\n",
    "            X_train_valid_w_rtn = df.drop(['label'], axis = 1)\n",
    "        \n",
    "        X_train_w_rtn, X_valid_w_rtn, y_train, y_valid = train_test_split(X_train_valid_w_rtn, y_train_valid, test_size=0.33) \n",
    "        # train_valid set\n",
    "        self.train_valid_rtn = X_train_valid_w_rtn['rtn']\n",
    "        self.X_train_valid = X_train_valid_w_rtn.drop(['rtn'], axis = 1)\n",
    "        self.y_train_valid = y_train_valid\n",
    "        # train set \n",
    "        self.train_rtn = X_train_w_rtn['rtn'] \n",
    "        self.X_train = X_train_w_rtn.drop(['rtn'], axis = 1)\n",
    "        self.y_train = y_train\n",
    "        # valid set\n",
    "        self.valid_rtn = X_valid_w_rtn['rtn']\n",
    "        self.X_valid = X_valid_w_rtn.drop(['rtn'], axis = 1) \n",
    "        self.y_valid = y_valid\n",
    "        # test set \n",
    "        self.test_rtn = X_test_w_rtn['rtn']\n",
    "        self.X_test = X_test_w_rtn.drop(['rtn'], axis = 1)        \n",
    "        self.y_test = y_test "
   ]
  },
  {
   "cell_type": "code",
   "execution_count": 77,
   "metadata": {
    "colab": {},
    "colab_type": "code",
    "id": "l6-gqOcRTmBZ"
   },
   "outputs": [],
   "source": [
    "class SeahorseBuyModel(): \n",
    "    def __init__(self):\n",
    "        self.clf = RandomForestClassifier(n_estimators = 32, max_depth = 50)\n",
    "        self.features = []\n",
    "        return \n",
    "    \n",
    "    def fit(self, X_train, y_train):\n",
    "        self.clf.fit(X_train, y_train)\n",
    "        self.features = X_train.columns\n",
    "        return\n",
    "    \n",
    "    def evaluate(self, X, y, rtn):\n",
    "        probs = self.clf.predict_proba(X)\n",
    "\n",
    "        win_probs = []\n",
    "        for i in range(len(probs)):\n",
    "            win_probs.append(probs[i][1])\n",
    "\n",
    "        trade_classes = [int(x * 10)/10 for x in win_probs]\n",
    "            \n",
    "        results = pd.concat([pd.Series(win_probs, name='win_prob'), \n",
    "                             pd.Series(trade_classes, name='trade_class'), \n",
    "                             y.reset_index(drop=True), \n",
    "                             rtn.reset_index(drop=True)], \n",
    "                            axis = 1)\n",
    "\n",
    "        summary = pd.concat([results.groupby(['trade_class']).mean(), \n",
    "                             results.groupby(['trade_class']).count()['win_prob'], \n",
    "                             100 * results.groupby(['trade_class']).count()['win_prob']/results.shape[0]], \n",
    "                            axis=1)\n",
    "        summary.columns = ['predicted win prob', 'actual win rate', 'mean return', '# of trades', '% of all trades']\n",
    "        # summary = summary.reindex([i/10 for i in range(10)])\n",
    "        print(summary.to_string())\n",
    "        return \n",
    "    \n",
    "    def feature_importances(self):\n",
    "        f = {'f_name': list(self.features), \n",
    "             'f_importance': list(self.clf.feature_importances_)}\n",
    "        f = pd.DataFrame(f)\n",
    "        f = f.sort_values(by=['f_importance'], ascending=False)\n",
    "        return f"
   ]
  },
  {
   "cell_type": "code",
   "execution_count": 80,
   "metadata": {
    "colab": {},
    "colab_type": "code",
    "id": "iFkZi1cXWAi6"
   },
   "outputs": [
    {
     "name": "stdout",
     "output_type": "stream",
     "text": [
      "using data file D1.csv\n",
      "             predicted win prob  actual win rate  mean return  # of trades  % of all trades\n",
      "trade_class                                                                                \n",
      "0.1                    0.177170         0.333333    -0.361333           15         0.076316\n",
      "0.2                    0.264842         0.492582     0.125549          337         1.714576\n",
      "0.3                    0.354345         0.491391     0.216203         2149        10.933605\n",
      "0.4                    0.442772         0.496855     0.207195         6042        30.740270\n",
      "0.5                    0.540689         0.506537     0.242127         8643        43.973544\n",
      "0.6                    0.645308         0.530726     0.355228         2148        10.928517\n",
      "0.7                    0.732281         0.503226     0.201935          310         1.577207\n",
      "0.8                    0.821648         0.400000    -0.190000           10         0.050878\n",
      "0.9                    0.906250         1.000000     1.080000            1         0.005088\n",
      "using data file D1all.csv\n",
      "             predicted win prob  actual win rate  mean return  # of trades  % of all trades\n",
      "trade_class                                                                                \n",
      "0.1                    0.173077         0.538462     0.369231           13         0.063147\n",
      "0.2                    0.268658         0.510000     0.328833          300         1.457230\n",
      "0.3                    0.353627         0.466547     0.164216         2227        10.817506\n",
      "0.4                    0.442279         0.497781     0.210681         6310        30.650410\n",
      "0.5                    0.541776         0.502821     0.266908         9039        43.906349\n",
      "0.6                    0.645300         0.509106     0.312368         2361        11.468402\n",
      "0.7                    0.733408         0.517028     0.119938          323         1.568951\n",
      "0.8                    0.823661         0.857143     0.948571           14         0.068004\n",
      "using data file D2.csv\n",
      "             predicted win prob  actual win rate  mean return  # of trades  % of all trades\n",
      "trade_class                                                                                \n",
      "0.1                    0.181301         0.600000     2.929000           10         0.050746\n",
      "0.2                    0.269461         0.494118     0.345647          255         1.294022\n",
      "0.3                    0.355525         0.481000     0.135635         2000        10.149193\n",
      "0.4                    0.443105         0.491906     0.250649         6239        31.660408\n",
      "0.5                    0.541275         0.503254     0.238835         8759        44.448391\n",
      "0.6                    0.644125         0.531581     0.311757         2169        11.006800\n",
      "0.7                    0.733408         0.490347     0.241815          259         1.314321\n",
      "0.8                    0.818750         0.533333    -0.336667           15         0.076119\n",
      "using data file D2all.csv\n",
      "             predicted win prob  actual win rate  mean return  # of trades  % of all trades\n",
      "trade_class                                                                                \n",
      "0.0                    0.093750         0.000000    -1.450000            2         0.009761\n",
      "0.1                    0.168750         0.200000    -0.649000           10         0.048807\n",
      "0.2                    0.265556         0.479401     0.183333          267         1.303138\n",
      "0.3                    0.354850         0.488550     0.226138         2227        10.869247\n",
      "0.4                    0.442784         0.509968     0.249471         6471        31.582801\n",
      "0.5                    0.541082         0.492731     0.196733         9080        44.316462\n",
      "0.6                    0.644589         0.507407     0.235227         2160        10.542242\n",
      "0.7                    0.733841         0.505660     0.325623          265         1.293377\n",
      "0.8                    0.812263         0.333333     1.436667            6         0.029284\n",
      "0.9                    0.906250         1.000000     0.210000            1         0.004881\n",
      "using data file D3.csv\n",
      "             predicted win prob  actual win rate  mean return  # of trades  % of all trades\n",
      "trade_class                                                                                \n",
      "0.0                    0.093750         0.000000    -0.090000            1         0.005082\n",
      "0.1                    0.167969         0.375000    -0.226250            8         0.040655\n",
      "0.2                    0.267847         0.516260     0.268537          246         1.250127\n",
      "0.3                    0.355522         0.484878     0.220605         2083        10.585425\n",
      "0.4                    0.443757         0.481795     0.194455         6152        31.263340\n",
      "0.5                    0.541283         0.505069     0.255389         8779        44.613274\n",
      "0.6                    0.645678         0.522045     0.246107         2132        10.834434\n",
      "0.7                    0.732652         0.498141     0.043532          269         1.367009\n",
      "0.8                    0.816964         0.571429     0.207143            7         0.035573\n",
      "0.9                    0.906250         1.000000     1.190000            1         0.005082\n",
      "using data file D3all.csv\n",
      "             predicted win prob  actual win rate  mean return  # of trades  % of all trades\n",
      "trade_class                                                                                \n",
      "0.0                    0.093750         0.000000    -0.320000            1         0.004882\n",
      "0.1                    0.176665         0.454545     0.172727           11         0.053706\n",
      "0.2                    0.267202         0.473118     0.207384          279         1.362172\n",
      "0.3                    0.355972         0.483028     0.226284         2180        10.643492\n",
      "0.4                    0.442619         0.499075     0.253059         6488        31.676594\n",
      "0.5                    0.541388         0.503819     0.219903         9033        44.102138\n",
      "0.6                    0.645201         0.511081     0.261986         2211        10.794844\n",
      "0.7                    0.733341         0.522901     0.210649          262         1.279172\n",
      "0.8                    0.830458         0.705882     0.739412           17         0.083000\n",
      "using data file D4.csv\n",
      "             predicted win prob  actual win rate  mean return  # of trades  % of all trades\n",
      "trade_class                                                                                \n",
      "0.1                    0.186765         0.466667     0.191333           15         0.075632\n",
      "0.2                    0.267953         0.514388     0.405863          278         1.401704\n",
      "0.3                    0.355368         0.512195     0.320933         2132        10.749761\n",
      "0.4                    0.443534         0.498205     0.233666         6405        32.294660\n",
      "0.5                    0.541781         0.498959     0.228662         8646        43.594010\n",
      "0.6                    0.644872         0.512613     0.212237         2101        10.593455\n",
      "0.7                    0.733728         0.514523     0.382531          241         1.215146\n",
      "0.8                    0.815786         0.500000     0.372857           14         0.070589\n",
      "0.9                    0.906250         1.000000     0.960000            1         0.005042\n",
      "using data file D4all.csv\n",
      "             predicted win prob  actual win rate  mean return  # of trades  % of all trades\n",
      "trade_class                                                                                \n",
      "0.1                    0.173611         0.333333    -0.410000            9         0.043932\n",
      "0.2                    0.265572         0.450450     0.153964          333         1.625500\n",
      "0.3                    0.355676         0.472635     0.201192         2156        10.524260\n",
      "0.4                    0.443348         0.506073     0.253644         6586        32.148785\n",
      "0.5                    0.541073         0.502700     0.253385         8888        43.385727\n",
      "0.6                    0.645883         0.516742     0.364063         2210        10.787855\n",
      "0.7                    0.735949         0.470790     0.079656          291         1.420482\n",
      "0.8                    0.822115         0.538462     0.274615           13         0.063458\n"
     ]
    }
   ],
   "source": [
    "for filename in os.listdir('../data/'):\n",
    "    if filename.endswith(\".csv\"): \n",
    "        file_path = os.path.join('../data/', filename)\n",
    "        stock_data = StockData(file_path)\n",
    "        model = SeahorseBuyModel()\n",
    "        model.fit(stock_data.X_train, stock_data.y_train)\n",
    "        print('using data file', filename)\n",
    "        model.evaluate(stock_data.X_valid, stock_data.y_valid, stock_data.valid_rtn)"
   ]
  },
  {
   "cell_type": "code",
   "execution_count": 63,
   "metadata": {},
   "outputs": [
    {
     "data": {
      "text/html": [
       "<div>\n",
       "<style scoped>\n",
       "    .dataframe tbody tr th:only-of-type {\n",
       "        vertical-align: middle;\n",
       "    }\n",
       "\n",
       "    .dataframe tbody tr th {\n",
       "        vertical-align: top;\n",
       "    }\n",
       "\n",
       "    .dataframe thead th {\n",
       "        text-align: right;\n",
       "    }\n",
       "</style>\n",
       "<table border=\"1\" class=\"dataframe\">\n",
       "  <thead>\n",
       "    <tr style=\"text-align: right;\">\n",
       "      <th></th>\n",
       "      <th>osc41</th>\n",
       "      <th>osc40</th>\n",
       "      <th>osc39</th>\n",
       "      <th>osc38</th>\n",
       "      <th>osc37</th>\n",
       "      <th>osc36</th>\n",
       "      <th>osc35</th>\n",
       "      <th>osc34</th>\n",
       "      <th>osc33</th>\n",
       "      <th>osc32</th>\n",
       "      <th>...</th>\n",
       "      <th>macd7</th>\n",
       "      <th>macd6</th>\n",
       "      <th>macd5</th>\n",
       "      <th>macd4</th>\n",
       "      <th>macd3</th>\n",
       "      <th>macd2</th>\n",
       "      <th>macd1</th>\n",
       "      <th>symbol</th>\n",
       "      <th>rtn</th>\n",
       "      <th>label</th>\n",
       "    </tr>\n",
       "  </thead>\n",
       "  <tbody>\n",
       "    <tr>\n",
       "      <th>0</th>\n",
       "      <td>0.490831</td>\n",
       "      <td>0.397519</td>\n",
       "      <td>0.259439</td>\n",
       "      <td>0.134844</td>\n",
       "      <td>0.042611</td>\n",
       "      <td>0.018878</td>\n",
       "      <td>0.000000</td>\n",
       "      <td>0.012406</td>\n",
       "      <td>0.018339</td>\n",
       "      <td>0.007012</td>\n",
       "      <td>...</td>\n",
       "      <td>0.787037</td>\n",
       "      <td>0.777778</td>\n",
       "      <td>0.814815</td>\n",
       "      <td>0.842593</td>\n",
       "      <td>0.851852</td>\n",
       "      <td>0.879630</td>\n",
       "      <td>0.879630</td>\n",
       "      <td>acad</td>\n",
       "      <td>-1.06</td>\n",
       "      <td>0</td>\n",
       "    </tr>\n",
       "    <tr>\n",
       "      <th>1</th>\n",
       "      <td>0.134844</td>\n",
       "      <td>0.042611</td>\n",
       "      <td>0.018878</td>\n",
       "      <td>0.000000</td>\n",
       "      <td>0.012406</td>\n",
       "      <td>0.018339</td>\n",
       "      <td>0.007012</td>\n",
       "      <td>0.059871</td>\n",
       "      <td>0.100324</td>\n",
       "      <td>0.126753</td>\n",
       "      <td>...</td>\n",
       "      <td>0.822917</td>\n",
       "      <td>0.833333</td>\n",
       "      <td>0.864583</td>\n",
       "      <td>0.864583</td>\n",
       "      <td>0.854167</td>\n",
       "      <td>0.833333</td>\n",
       "      <td>0.822917</td>\n",
       "      <td>acad</td>\n",
       "      <td>-0.53</td>\n",
       "      <td>0</td>\n",
       "    </tr>\n",
       "    <tr>\n",
       "      <th>2</th>\n",
       "      <td>0.018878</td>\n",
       "      <td>0.000000</td>\n",
       "      <td>0.012406</td>\n",
       "      <td>0.018339</td>\n",
       "      <td>0.007012</td>\n",
       "      <td>0.059871</td>\n",
       "      <td>0.100324</td>\n",
       "      <td>0.126753</td>\n",
       "      <td>0.161273</td>\n",
       "      <td>0.195254</td>\n",
       "      <td>...</td>\n",
       "      <td>0.858696</td>\n",
       "      <td>0.858696</td>\n",
       "      <td>0.847826</td>\n",
       "      <td>0.826087</td>\n",
       "      <td>0.815217</td>\n",
       "      <td>0.793478</td>\n",
       "      <td>0.793478</td>\n",
       "      <td>acad</td>\n",
       "      <td>-5.32</td>\n",
       "      <td>0</td>\n",
       "    </tr>\n",
       "    <tr>\n",
       "      <th>3</th>\n",
       "      <td>0.548205</td>\n",
       "      <td>0.580000</td>\n",
       "      <td>0.618974</td>\n",
       "      <td>0.649231</td>\n",
       "      <td>0.675385</td>\n",
       "      <td>0.656410</td>\n",
       "      <td>0.607179</td>\n",
       "      <td>0.539487</td>\n",
       "      <td>0.473846</td>\n",
       "      <td>0.383590</td>\n",
       "      <td>...</td>\n",
       "      <td>0.500000</td>\n",
       "      <td>0.464286</td>\n",
       "      <td>0.482143</td>\n",
       "      <td>0.500000</td>\n",
       "      <td>0.482143</td>\n",
       "      <td>0.482143</td>\n",
       "      <td>0.464286</td>\n",
       "      <td>acad</td>\n",
       "      <td>-0.56</td>\n",
       "      <td>0</td>\n",
       "    </tr>\n",
       "    <tr>\n",
       "      <th>4</th>\n",
       "      <td>0.618974</td>\n",
       "      <td>0.649231</td>\n",
       "      <td>0.675385</td>\n",
       "      <td>0.656410</td>\n",
       "      <td>0.607179</td>\n",
       "      <td>0.539487</td>\n",
       "      <td>0.473846</td>\n",
       "      <td>0.383590</td>\n",
       "      <td>0.288205</td>\n",
       "      <td>0.183590</td>\n",
       "      <td>...</td>\n",
       "      <td>0.482143</td>\n",
       "      <td>0.500000</td>\n",
       "      <td>0.482143</td>\n",
       "      <td>0.482143</td>\n",
       "      <td>0.464286</td>\n",
       "      <td>0.446429</td>\n",
       "      <td>0.446429</td>\n",
       "      <td>acad</td>\n",
       "      <td>-5.03</td>\n",
       "      <td>0</td>\n",
       "    </tr>\n",
       "  </tbody>\n",
       "</table>\n",
       "<p>5 rows × 126 columns</p>\n",
       "</div>"
      ],
      "text/plain": [
       "      osc41     osc40     osc39     osc38     osc37     osc36     osc35  \\\n",
       "0  0.490831  0.397519  0.259439  0.134844  0.042611  0.018878  0.000000   \n",
       "1  0.134844  0.042611  0.018878  0.000000  0.012406  0.018339  0.007012   \n",
       "2  0.018878  0.000000  0.012406  0.018339  0.007012  0.059871  0.100324   \n",
       "3  0.548205  0.580000  0.618974  0.649231  0.675385  0.656410  0.607179   \n",
       "4  0.618974  0.649231  0.675385  0.656410  0.607179  0.539487  0.473846   \n",
       "\n",
       "      osc34     osc33     osc32  ...     macd7     macd6     macd5     macd4  \\\n",
       "0  0.012406  0.018339  0.007012  ...  0.787037  0.777778  0.814815  0.842593   \n",
       "1  0.059871  0.100324  0.126753  ...  0.822917  0.833333  0.864583  0.864583   \n",
       "2  0.126753  0.161273  0.195254  ...  0.858696  0.858696  0.847826  0.826087   \n",
       "3  0.539487  0.473846  0.383590  ...  0.500000  0.464286  0.482143  0.500000   \n",
       "4  0.383590  0.288205  0.183590  ...  0.482143  0.500000  0.482143  0.482143   \n",
       "\n",
       "      macd3     macd2     macd1  symbol   rtn  label  \n",
       "0  0.851852  0.879630  0.879630    acad -1.06      0  \n",
       "1  0.854167  0.833333  0.822917    acad -0.53      0  \n",
       "2  0.815217  0.793478  0.793478    acad -5.32      0  \n",
       "3  0.482143  0.482143  0.464286    acad -0.56      0  \n",
       "4  0.464286  0.446429  0.446429    acad -5.03      0  \n",
       "\n",
       "[5 rows x 126 columns]"
      ]
     },
     "execution_count": 63,
     "metadata": {},
     "output_type": "execute_result"
    }
   ],
   "source": [
    "tmp = pd.read_csv('../data/D1all.csv', header=0, index_col=0) \n",
    "data.head()"
   ]
  },
  {
   "cell_type": "code",
   "execution_count": 64,
   "metadata": {},
   "outputs": [
    {
     "data": {
      "text/html": [
       "<div>\n",
       "<style scoped>\n",
       "    .dataframe tbody tr th:only-of-type {\n",
       "        vertical-align: middle;\n",
       "    }\n",
       "\n",
       "    .dataframe tbody tr th {\n",
       "        vertical-align: top;\n",
       "    }\n",
       "\n",
       "    .dataframe thead th {\n",
       "        text-align: right;\n",
       "    }\n",
       "</style>\n",
       "<table border=\"1\" class=\"dataframe\">\n",
       "  <thead>\n",
       "    <tr style=\"text-align: right;\">\n",
       "      <th></th>\n",
       "      <th>osc41</th>\n",
       "      <th>osc40</th>\n",
       "      <th>osc39</th>\n",
       "      <th>osc38</th>\n",
       "      <th>osc37</th>\n",
       "      <th>osc36</th>\n",
       "      <th>osc35</th>\n",
       "      <th>osc34</th>\n",
       "      <th>osc33</th>\n",
       "      <th>osc32</th>\n",
       "      <th>...</th>\n",
       "      <th>macd7</th>\n",
       "      <th>macd6</th>\n",
       "      <th>macd5</th>\n",
       "      <th>macd4</th>\n",
       "      <th>macd3</th>\n",
       "      <th>macd2</th>\n",
       "      <th>macd1</th>\n",
       "      <th>symbol</th>\n",
       "      <th>rtn</th>\n",
       "      <th>label</th>\n",
       "    </tr>\n",
       "  </thead>\n",
       "  <tbody>\n",
       "    <tr>\n",
       "      <th>100982</th>\n",
       "      <td>0.600000</td>\n",
       "      <td>0.492857</td>\n",
       "      <td>0.371429</td>\n",
       "      <td>0.200000</td>\n",
       "      <td>0.278571</td>\n",
       "      <td>0.328571</td>\n",
       "      <td>0.435714</td>\n",
       "      <td>0.500000</td>\n",
       "      <td>0.585714</td>\n",
       "      <td>0.678571</td>\n",
       "      <td>...</td>\n",
       "      <td>0.553398</td>\n",
       "      <td>0.475728</td>\n",
       "      <td>0.422330</td>\n",
       "      <td>0.288026</td>\n",
       "      <td>0.257282</td>\n",
       "      <td>0.242718</td>\n",
       "      <td>0.229773</td>\n",
       "      <td>uri</td>\n",
       "      <td>-0.33</td>\n",
       "      <td>0</td>\n",
       "    </tr>\n",
       "    <tr>\n",
       "      <th>100983</th>\n",
       "      <td>0.815287</td>\n",
       "      <td>0.993631</td>\n",
       "      <td>0.942675</td>\n",
       "      <td>0.929936</td>\n",
       "      <td>0.910828</td>\n",
       "      <td>0.910828</td>\n",
       "      <td>1.000000</td>\n",
       "      <td>0.898089</td>\n",
       "      <td>0.770701</td>\n",
       "      <td>0.643312</td>\n",
       "      <td>...</td>\n",
       "      <td>0.408163</td>\n",
       "      <td>0.464853</td>\n",
       "      <td>0.374150</td>\n",
       "      <td>0.242630</td>\n",
       "      <td>0.197279</td>\n",
       "      <td>0.195011</td>\n",
       "      <td>0.215420</td>\n",
       "      <td>uri</td>\n",
       "      <td>-0.11</td>\n",
       "      <td>0</td>\n",
       "    </tr>\n",
       "    <tr>\n",
       "      <th>100984</th>\n",
       "      <td>0.911392</td>\n",
       "      <td>0.911392</td>\n",
       "      <td>1.000000</td>\n",
       "      <td>0.898734</td>\n",
       "      <td>0.772152</td>\n",
       "      <td>0.645570</td>\n",
       "      <td>0.563291</td>\n",
       "      <td>0.493671</td>\n",
       "      <td>0.392405</td>\n",
       "      <td>0.297468</td>\n",
       "      <td>...</td>\n",
       "      <td>0.233871</td>\n",
       "      <td>0.231183</td>\n",
       "      <td>0.255376</td>\n",
       "      <td>0.303763</td>\n",
       "      <td>0.287634</td>\n",
       "      <td>0.247312</td>\n",
       "      <td>0.303763</td>\n",
       "      <td>uri</td>\n",
       "      <td>1.04</td>\n",
       "      <td>1</td>\n",
       "    </tr>\n",
       "    <tr>\n",
       "      <th>100985</th>\n",
       "      <td>0.937107</td>\n",
       "      <td>0.962264</td>\n",
       "      <td>0.993711</td>\n",
       "      <td>0.974843</td>\n",
       "      <td>1.000000</td>\n",
       "      <td>0.981132</td>\n",
       "      <td>0.874214</td>\n",
       "      <td>0.754717</td>\n",
       "      <td>0.635220</td>\n",
       "      <td>0.597484</td>\n",
       "      <td>...</td>\n",
       "      <td>0.000000</td>\n",
       "      <td>0.040404</td>\n",
       "      <td>0.161616</td>\n",
       "      <td>0.232323</td>\n",
       "      <td>0.228956</td>\n",
       "      <td>0.228956</td>\n",
       "      <td>0.208754</td>\n",
       "      <td>uri</td>\n",
       "      <td>-0.86</td>\n",
       "      <td>0</td>\n",
       "    </tr>\n",
       "    <tr>\n",
       "      <th>100986</th>\n",
       "      <td>0.834532</td>\n",
       "      <td>0.866906</td>\n",
       "      <td>0.928058</td>\n",
       "      <td>0.982014</td>\n",
       "      <td>0.996403</td>\n",
       "      <td>1.000000</td>\n",
       "      <td>0.985612</td>\n",
       "      <td>0.978417</td>\n",
       "      <td>0.971223</td>\n",
       "      <td>0.938849</td>\n",
       "      <td>...</td>\n",
       "      <td>0.037862</td>\n",
       "      <td>0.082405</td>\n",
       "      <td>0.160356</td>\n",
       "      <td>0.171492</td>\n",
       "      <td>0.256125</td>\n",
       "      <td>0.342984</td>\n",
       "      <td>0.505568</td>\n",
       "      <td>uri</td>\n",
       "      <td>4.55</td>\n",
       "      <td>1</td>\n",
       "    </tr>\n",
       "  </tbody>\n",
       "</table>\n",
       "<p>5 rows × 126 columns</p>\n",
       "</div>"
      ],
      "text/plain": [
       "           osc41     osc40     osc39     osc38     osc37     osc36     osc35  \\\n",
       "100982  0.600000  0.492857  0.371429  0.200000  0.278571  0.328571  0.435714   \n",
       "100983  0.815287  0.993631  0.942675  0.929936  0.910828  0.910828  1.000000   \n",
       "100984  0.911392  0.911392  1.000000  0.898734  0.772152  0.645570  0.563291   \n",
       "100985  0.937107  0.962264  0.993711  0.974843  1.000000  0.981132  0.874214   \n",
       "100986  0.834532  0.866906  0.928058  0.982014  0.996403  1.000000  0.985612   \n",
       "\n",
       "           osc34     osc33     osc32  ...     macd7     macd6     macd5  \\\n",
       "100982  0.500000  0.585714  0.678571  ...  0.553398  0.475728  0.422330   \n",
       "100983  0.898089  0.770701  0.643312  ...  0.408163  0.464853  0.374150   \n",
       "100984  0.493671  0.392405  0.297468  ...  0.233871  0.231183  0.255376   \n",
       "100985  0.754717  0.635220  0.597484  ...  0.000000  0.040404  0.161616   \n",
       "100986  0.978417  0.971223  0.938849  ...  0.037862  0.082405  0.160356   \n",
       "\n",
       "           macd4     macd3     macd2     macd1  symbol   rtn  label  \n",
       "100982  0.288026  0.257282  0.242718  0.229773     uri -0.33      0  \n",
       "100983  0.242630  0.197279  0.195011  0.215420     uri -0.11      0  \n",
       "100984  0.303763  0.287634  0.247312  0.303763     uri  1.04      1  \n",
       "100985  0.232323  0.228956  0.228956  0.208754     uri -0.86      0  \n",
       "100986  0.171492  0.256125  0.342984  0.505568     uri  4.55      1  \n",
       "\n",
       "[5 rows x 126 columns]"
      ]
     },
     "execution_count": 64,
     "metadata": {},
     "output_type": "execute_result"
    }
   ],
   "source": [
    "data.tail()"
   ]
  },
  {
   "cell_type": "code",
   "execution_count": 0,
   "metadata": {
    "colab": {},
    "colab_type": "code",
    "id": "dI3K8ZoIMySw"
   },
   "outputs": [],
   "source": [
    "model = SeahorseBuyModel()\n",
    "model.fit(stock_data.X_train, stock_data.y_train)"
   ]
  },
  {
   "cell_type": "code",
   "execution_count": 46,
   "metadata": {
    "colab": {
     "base_uri": "https://localhost:8080/",
     "height": 314
    },
    "colab_type": "code",
    "executionInfo": {
     "elapsed": 35090,
     "status": "ok",
     "timestamp": 1558072654687,
     "user": {
      "displayName": "Junxiong Lei",
      "photoUrl": "https://lh4.googleusercontent.com/-A_hLQrqfd5Q/AAAAAAAAAAI/AAAAAAAAAhA/VntD0J4mKNw/s64/photo.jpg",
      "userId": "11770709030165456358"
     },
     "user_tz": 420
    },
    "id": "idji2RKsMyQG",
    "outputId": "861ba6b9-d2ea-4ec5-84db-36e0581881f3"
   },
   "outputs": [
    {
     "data": {
      "text/html": [
       "<div>\n",
       "<style scoped>\n",
       "    .dataframe tbody tr th:only-of-type {\n",
       "        vertical-align: middle;\n",
       "    }\n",
       "\n",
       "    .dataframe tbody tr th {\n",
       "        vertical-align: top;\n",
       "    }\n",
       "\n",
       "    .dataframe thead th {\n",
       "        text-align: right;\n",
       "    }\n",
       "</style>\n",
       "<table border=\"1\" class=\"dataframe\">\n",
       "  <thead>\n",
       "    <tr style=\"text-align: right;\">\n",
       "      <th></th>\n",
       "      <th>predicted win prob</th>\n",
       "      <th>actual win rate</th>\n",
       "      <th>mean return</th>\n",
       "      <th># of trades</th>\n",
       "      <th>% of all trades</th>\n",
       "    </tr>\n",
       "    <tr>\n",
       "      <th>trade_class</th>\n",
       "      <th></th>\n",
       "      <th></th>\n",
       "      <th></th>\n",
       "      <th></th>\n",
       "      <th></th>\n",
       "    </tr>\n",
       "  </thead>\n",
       "  <tbody>\n",
       "    <tr>\n",
       "      <th>Buy1</th>\n",
       "      <td>0.826389</td>\n",
       "      <td>0.555556</td>\n",
       "      <td>0.244444</td>\n",
       "      <td>9</td>\n",
       "      <td>0.045429</td>\n",
       "    </tr>\n",
       "    <tr>\n",
       "      <th>Buy2</th>\n",
       "      <td>0.781250</td>\n",
       "      <td>0.428571</td>\n",
       "      <td>-0.216667</td>\n",
       "      <td>21</td>\n",
       "      <td>0.106002</td>\n",
       "    </tr>\n",
       "    <tr>\n",
       "      <th>Buy3</th>\n",
       "      <td>0.727438</td>\n",
       "      <td>0.467532</td>\n",
       "      <td>0.106234</td>\n",
       "      <td>231</td>\n",
       "      <td>1.166019</td>\n",
       "    </tr>\n",
       "    <tr>\n",
       "      <th>Buy4</th>\n",
       "      <td>0.666863</td>\n",
       "      <td>0.523949</td>\n",
       "      <td>0.238446</td>\n",
       "      <td>1023</td>\n",
       "      <td>5.163798</td>\n",
       "    </tr>\n",
       "    <tr>\n",
       "      <th>Others</th>\n",
       "      <td>0.487003</td>\n",
       "      <td>0.502165</td>\n",
       "      <td>0.227160</td>\n",
       "      <td>18474</td>\n",
       "      <td>93.251224</td>\n",
       "    </tr>\n",
       "    <tr>\n",
       "      <th>Sell3</th>\n",
       "      <td>0.220899</td>\n",
       "      <td>0.486486</td>\n",
       "      <td>-0.267297</td>\n",
       "      <td>37</td>\n",
       "      <td>0.186765</td>\n",
       "    </tr>\n",
       "    <tr>\n",
       "      <th>Sell2</th>\n",
       "      <td>0.181747</td>\n",
       "      <td>0.428571</td>\n",
       "      <td>-0.162857</td>\n",
       "      <td>14</td>\n",
       "      <td>0.070668</td>\n",
       "    </tr>\n",
       "    <tr>\n",
       "      <th>Sell1</th>\n",
       "      <td>0.125000</td>\n",
       "      <td>0.500000</td>\n",
       "      <td>-0.970000</td>\n",
       "      <td>2</td>\n",
       "      <td>0.010095</td>\n",
       "    </tr>\n",
       "  </tbody>\n",
       "</table>\n",
       "</div>"
      ],
      "text/plain": [
       "             predicted win prob  actual win rate  ...  # of trades  % of all trades\n",
       "trade_class                                       ...                              \n",
       "Buy1                   0.826389         0.555556  ...            9         0.045429\n",
       "Buy2                   0.781250         0.428571  ...           21         0.106002\n",
       "Buy3                   0.727438         0.467532  ...          231         1.166019\n",
       "Buy4                   0.666863         0.523949  ...         1023         5.163798\n",
       "Others                 0.487003         0.502165  ...        18474        93.251224\n",
       "Sell3                  0.220899         0.486486  ...           37         0.186765\n",
       "Sell2                  0.181747         0.428571  ...           14         0.070668\n",
       "Sell1                  0.125000         0.500000  ...            2         0.010095\n",
       "\n",
       "[8 rows x 5 columns]"
      ]
     },
     "execution_count": 46,
     "metadata": {
      "tags": []
     },
     "output_type": "execute_result"
    }
   ],
   "source": [
    "model.evaluate(stock_data.X_valid, stock_data.y_valid, stock_data.valid_rtn)"
   ]
  },
  {
   "cell_type": "code",
   "execution_count": 47,
   "metadata": {
    "colab": {
     "base_uri": "https://localhost:8080/",
     "height": 314
    },
    "colab_type": "code",
    "executionInfo": {
     "elapsed": 35667,
     "status": "ok",
     "timestamp": 1558072655551,
     "user": {
      "displayName": "Junxiong Lei",
      "photoUrl": "https://lh4.googleusercontent.com/-A_hLQrqfd5Q/AAAAAAAAAAI/AAAAAAAAAhA/VntD0J4mKNw/s64/photo.jpg",
      "userId": "11770709030165456358"
     },
     "user_tz": 420
    },
    "id": "sn5uQdoiNAFL",
    "outputId": "0df791a6-7ac6-4e85-92b6-59ebe4a167b2"
   },
   "outputs": [
    {
     "data": {
      "text/html": [
       "<div>\n",
       "<style scoped>\n",
       "    .dataframe tbody tr th:only-of-type {\n",
       "        vertical-align: middle;\n",
       "    }\n",
       "\n",
       "    .dataframe tbody tr th {\n",
       "        vertical-align: top;\n",
       "    }\n",
       "\n",
       "    .dataframe thead th {\n",
       "        text-align: right;\n",
       "    }\n",
       "</style>\n",
       "<table border=\"1\" class=\"dataframe\">\n",
       "  <thead>\n",
       "    <tr style=\"text-align: right;\">\n",
       "      <th></th>\n",
       "      <th>predicted win prob</th>\n",
       "      <th>actual win rate</th>\n",
       "      <th>mean return</th>\n",
       "      <th># of trades</th>\n",
       "      <th>% of all trades</th>\n",
       "    </tr>\n",
       "    <tr>\n",
       "      <th>trade_class</th>\n",
       "      <th></th>\n",
       "      <th></th>\n",
       "      <th></th>\n",
       "      <th></th>\n",
       "      <th></th>\n",
       "    </tr>\n",
       "  </thead>\n",
       "  <tbody>\n",
       "    <tr>\n",
       "      <th>Buy1</th>\n",
       "      <td>0.830729</td>\n",
       "      <td>0.500000</td>\n",
       "      <td>0.549167</td>\n",
       "      <td>12</td>\n",
       "      <td>0.049605</td>\n",
       "    </tr>\n",
       "    <tr>\n",
       "      <th>Buy2</th>\n",
       "      <td>0.780933</td>\n",
       "      <td>0.481481</td>\n",
       "      <td>0.129630</td>\n",
       "      <td>27</td>\n",
       "      <td>0.111612</td>\n",
       "    </tr>\n",
       "    <tr>\n",
       "      <th>Buy3</th>\n",
       "      <td>0.729237</td>\n",
       "      <td>0.437908</td>\n",
       "      <td>0.203464</td>\n",
       "      <td>306</td>\n",
       "      <td>1.264933</td>\n",
       "    </tr>\n",
       "    <tr>\n",
       "      <th>Buy4</th>\n",
       "      <td>0.667121</td>\n",
       "      <td>0.432998</td>\n",
       "      <td>0.065687</td>\n",
       "      <td>1194</td>\n",
       "      <td>4.935720</td>\n",
       "    </tr>\n",
       "    <tr>\n",
       "      <th>Others</th>\n",
       "      <td>0.487419</td>\n",
       "      <td>0.417563</td>\n",
       "      <td>0.064566</td>\n",
       "      <td>22593</td>\n",
       "      <td>93.394238</td>\n",
       "    </tr>\n",
       "    <tr>\n",
       "      <th>Sell3</th>\n",
       "      <td>0.221364</td>\n",
       "      <td>0.342857</td>\n",
       "      <td>-0.074571</td>\n",
       "      <td>35</td>\n",
       "      <td>0.144682</td>\n",
       "    </tr>\n",
       "    <tr>\n",
       "      <th>Sell2</th>\n",
       "      <td>0.176739</td>\n",
       "      <td>0.391304</td>\n",
       "      <td>0.005217</td>\n",
       "      <td>23</td>\n",
       "      <td>0.095077</td>\n",
       "    </tr>\n",
       "    <tr>\n",
       "      <th>Sell1</th>\n",
       "      <td>0.125000</td>\n",
       "      <td>1.000000</td>\n",
       "      <td>0.250000</td>\n",
       "      <td>1</td>\n",
       "      <td>0.004134</td>\n",
       "    </tr>\n",
       "  </tbody>\n",
       "</table>\n",
       "</div>"
      ],
      "text/plain": [
       "             predicted win prob  actual win rate  ...  # of trades  % of all trades\n",
       "trade_class                                       ...                              \n",
       "Buy1                   0.830729         0.500000  ...           12         0.049605\n",
       "Buy2                   0.780933         0.481481  ...           27         0.111612\n",
       "Buy3                   0.729237         0.437908  ...          306         1.264933\n",
       "Buy4                   0.667121         0.432998  ...         1194         4.935720\n",
       "Others                 0.487419         0.417563  ...        22593        93.394238\n",
       "Sell3                  0.221364         0.342857  ...           35         0.144682\n",
       "Sell2                  0.176739         0.391304  ...           23         0.095077\n",
       "Sell1                  0.125000         1.000000  ...            1         0.004134\n",
       "\n",
       "[8 rows x 5 columns]"
      ]
     },
     "execution_count": 47,
     "metadata": {
      "tags": []
     },
     "output_type": "execute_result"
    }
   ],
   "source": [
    "model.evaluate(stock_data.X_test, stock_data.y_test, stock_data.test_rtn)"
   ]
  },
  {
   "cell_type": "code",
   "execution_count": 76,
   "metadata": {
    "colab": {
     "base_uri": "https://localhost:8080/",
     "height": 244
    },
    "colab_type": "code",
    "executionInfo": {
     "elapsed": 266,
     "status": "ok",
     "timestamp": 1558073126856,
     "user": {
      "displayName": "Junxiong Lei",
      "photoUrl": "https://lh4.googleusercontent.com/-A_hLQrqfd5Q/AAAAAAAAAAI/AAAAAAAAAhA/VntD0J4mKNw/s64/photo.jpg",
      "userId": "11770709030165456358"
     },
     "user_tz": 420
    },
    "id": "0Z0k5CyPNDGP",
    "outputId": "2a8fd106-41e5-46c0-b08e-1e76cfc8023a"
   },
   "outputs": [
    {
     "name": "stdout",
     "output_type": "stream",
     "text": [
      "             predicted win prob  actual win rate  mean return  # of trades  % of all trades\n",
      "trade_class                                                                                \n",
      "0.1                    0.174107         0.857143     0.721429            7         0.034115\n",
      "0.2                    0.265839         0.491961     0.195691          311         1.515668\n",
      "0.3                    0.354277         0.494872     0.169470         2340        11.404065\n",
      "0.4                    0.441064         0.500381     0.230193         6565        31.994737\n",
      "0.5                    0.541339         0.506661     0.249617         8858        43.169745\n",
      "0.6                    0.645857         0.514286     0.277419         2135        10.404990\n",
      "0.7                    0.731661         0.501754     0.242281          285         1.388957\n",
      "0.8                    0.819602         0.388889     0.056111           18         0.087724\n"
     ]
    }
   ],
   "source": [
    "print(result.to_string())"
   ]
  },
  {
   "cell_type": "code",
   "execution_count": 0,
   "metadata": {
    "colab": {
     "base_uri": "https://localhost:8080/",
     "height": 54
    },
    "colab_type": "code",
    "executionInfo": {
     "elapsed": 330274,
     "status": "ok",
     "timestamp": 1558055745391,
     "user": {
      "displayName": "Junxiong Lei",
      "photoUrl": "https://lh4.googleusercontent.com/-A_hLQrqfd5Q/AAAAAAAAAAI/AAAAAAAAAhA/VntD0J4mKNw/s64/photo.jpg",
      "userId": "11770709030165456358"
     },
     "user_tz": 420
    },
    "id": "2yfGgtJqRwvh",
    "outputId": "eb215ab2-7879-426b-b613-092b4e70f419"
   },
   "outputs": [
    {
     "name": "stdout",
     "output_type": "stream",
     "text": [
      "0 1000 2000 3000 4000 5000 6000 7000 8000 9000 10000 11000 12000 13000 14000 15000 16000 17000 18000 19000 20000 21000 22000 23000 24000 25000 26000 27000 28000 29000 30000 31000 32000 33000 34000 35000 36000 37000 38000 39000 40000 41000 42000 43000 44000 45000 46000 47000 48000 49000 50000 51000 52000 53000 54000 55000 56000 57000 58000 59000 60000 61000 62000 63000 64000 65000 66000 67000 68000 69000 70000 71000 72000 73000 74000 75000 76000 77000 78000 79000 80000 81000 82000 83000 84000 85000 86000 87000 88000 89000 90000 91000 92000 93000 94000 95000 96000 97000 98000 99000 100000 101000 "
     ]
    },
    {
     "data": {
      "text/plain": [
       "(101904, 128)"
      ]
     },
     "execution_count": 15,
     "metadata": {
      "tags": []
     },
     "output_type": "execute_result"
    }
   ],
   "source": [
    "dat3 = remove_nonsense_data(dat2)\n",
    "dat3.shape"
   ]
  },
  {
   "cell_type": "code",
   "execution_count": 0,
   "metadata": {
    "colab": {
     "base_uri": "https://localhost:8080/",
     "height": 353
    },
    "colab_type": "code",
    "executionInfo": {
     "elapsed": 370,
     "status": "ok",
     "timestamp": 1558055869111,
     "user": {
      "displayName": "Junxiong Lei",
      "photoUrl": "https://lh4.googleusercontent.com/-A_hLQrqfd5Q/AAAAAAAAAAI/AAAAAAAAAhA/VntD0J4mKNw/s64/photo.jpg",
      "userId": "11770709030165456358"
     },
     "user_tz": 420
    },
    "id": "HPGKDJTXU1jJ",
    "outputId": "05ea7e60-28f0-4a14-f5ce-34155d0288d2"
   },
   "outputs": [
    {
     "data": {
      "text/plain": [
       "(array([446., 271., 178., 131.,  94.,  56.,  48.,  45.,  43.,  20.,  13.,\n",
       "         11.,  13.,   6.,   2.,   3.,   2.,   5.,   5.,   4.,   3.,   5.]),\n",
       " array([ 5.,  6.,  7.,  8.,  9., 10., 11., 12., 13., 14., 15., 16., 17.,\n",
       "        18., 19., 20., 21., 22., 23., 24., 25., 26., 27.]),\n",
       " <a list of 22 Patch objects>)"
      ]
     },
     "execution_count": 20,
     "metadata": {
      "tags": []
     },
     "output_type": "execute_result"
    },
    {
     "data": {
      "image/png": "[encoded data removed]",
      "text/plain": [
       "<Figure size 432x288 with 1 Axes>"
      ]
     },
     "metadata": {
      "tags": []
     },
     "output_type": "display_data"
    }
   ],
   "source": [
    "dat3_subset = dat3[dat3['n_macd_zero'] >= 5]\n",
    "plt.hist(dat3_subset['n_macd_zero'], bins = 22)"
   ]
  },
  {
   "cell_type": "code",
   "execution_count": 0,
   "metadata": {
    "colab": {
     "base_uri": "https://localhost:8080/",
     "height": 286
    },
    "colab_type": "code",
    "executionInfo": {
     "elapsed": 605,
     "status": "ok",
     "timestamp": 1558056063578,
     "user": {
      "displayName": "Junxiong Lei",
      "photoUrl": "https://lh4.googleusercontent.com/-A_hLQrqfd5Q/AAAAAAAAAAI/AAAAAAAAAhA/VntD0J4mKNw/s64/photo.jpg",
      "userId": "11770709030165456358"
     },
     "user_tz": 420
    },
    "id": "pIHspX-3XTUT",
    "outputId": "a36d6e85-d8d5-4c8e-9460-e465540925ea"
   },
   "outputs": [
    {
     "data": {
      "text/plain": [
       "[<matplotlib.lines.Line2D at 0x7fc4dcb13cc0>]"
      ]
     },
     "execution_count": 25,
     "metadata": {
      "tags": []
     },
     "output_type": "execute_result"
    },
    {
     "data": {
      "image/png": "[encoded data removed]",
      "text/plain": [
       "<Figure size 432x288 with 1 Axes>"
      ]
     },
     "metadata": {
      "tags": []
     },
     "output_type": "display_data"
    }
   ],
   "source": [
    "plt.plot(range(41), dat3_subset.iloc[0, 83:124])"
   ]
  },
  {
   "cell_type": "code",
   "execution_count": 0,
   "metadata": {
    "colab": {
     "base_uri": "https://localhost:8080/",
     "height": 286
    },
    "colab_type": "code",
    "executionInfo": {
     "elapsed": 330,
     "status": "ok",
     "timestamp": 1558056096954,
     "user": {
      "displayName": "Junxiong Lei",
      "photoUrl": "https://lh4.googleusercontent.com/-A_hLQrqfd5Q/AAAAAAAAAAI/AAAAAAAAAhA/VntD0J4mKNw/s64/photo.jpg",
      "userId": "11770709030165456358"
     },
     "user_tz": 420
    },
    "id": "hl1dSCQsXJqr",
    "outputId": "76d61008-d43b-417e-bde4-d9947740ad52"
   },
   "outputs": [
    {
     "data": {
      "text/plain": [
       "[<matplotlib.lines.Line2D at 0x7fc4dca7a1d0>]"
      ]
     },
     "execution_count": 26,
     "metadata": {
      "tags": []
     },
     "output_type": "execute_result"
    },
    {
     "data": {
      "image/png": "[encoded data removed]",
      "text/plain": [
       "<Figure size 432x288 with 1 Axes>"
      ]
     },
     "metadata": {
      "tags": []
     },
     "output_type": "display_data"
    }
   ],
   "source": [
    "plt.plot(range(41), dat3_subset.iloc[1, 83:124])"
   ]
  },
  {
   "cell_type": "code",
   "execution_count": 0,
   "metadata": {
    "colab": {
     "base_uri": "https://localhost:8080/",
     "height": 286
    },
    "colab_type": "code",
    "executionInfo": {
     "elapsed": 739,
     "status": "ok",
     "timestamp": 1558056181200,
     "user": {
      "displayName": "Junxiong Lei",
      "photoUrl": "https://lh4.googleusercontent.com/-A_hLQrqfd5Q/AAAAAAAAAAI/AAAAAAAAAhA/VntD0J4mKNw/s64/photo.jpg",
      "userId": "11770709030165456358"
     },
     "user_tz": 420
    },
    "id": "NHMDYXwLYVMk",
    "outputId": "aeae1075-275a-41f6-f874-fbc8bbcbaf53"
   },
   "outputs": [
    {
     "data": {
      "text/plain": [
       "[<matplotlib.lines.Line2D at 0x7fc4dca56588>]"
      ]
     },
     "execution_count": 27,
     "metadata": {
      "tags": []
     },
     "output_type": "execute_result"
    },
    {
     "data": {
      "image/png": "[encoded data removed]",
      "text/plain": [
       "<Figure size 432x288 with 1 Axes>"
      ]
     },
     "metadata": {
      "tags": []
     },
     "output_type": "display_data"
    }
   ],
   "source": [
    "dat3_subset_10 = dat3_subset[dat3_subset['n_macd_zero'] == 10]\n",
    "plt.plot(range(41), dat3_subset_10.iloc[0, 83:124])"
   ]
  },
  {
   "cell_type": "code",
   "execution_count": 0,
   "metadata": {
    "colab": {
     "base_uri": "https://localhost:8080/",
     "height": 286
    },
    "colab_type": "code",
    "executionInfo": {
     "elapsed": 430,
     "status": "ok",
     "timestamp": 1558056278410,
     "user": {
      "displayName": "Junxiong Lei",
      "photoUrl": "https://lh4.googleusercontent.com/-A_hLQrqfd5Q/AAAAAAAAAAI/AAAAAAAAAhA/VntD0J4mKNw/s64/photo.jpg",
      "userId": "11770709030165456358"
     },
     "user_tz": 420
    },
    "id": "BC0JhXOKYpqn",
    "outputId": "1af43e90-6f2c-4074-ff30-88c502a91bb4"
   },
   "outputs": [
    {
     "data": {
      "text/plain": [
       "[<matplotlib.lines.Line2D at 0x7fc4dc9b4e48>]"
      ]
     },
     "execution_count": 29,
     "metadata": {
      "tags": []
     },
     "output_type": "execute_result"
    },
    {
     "data": {
      "image/png": "[encoded data removed]",
      "text/plain": [
       "<Figure size 432x288 with 1 Axes>"
      ]
     },
     "metadata": {
      "tags": []
     },
     "output_type": "display_data"
    }
   ],
   "source": [
    "dat3_subset_15 = dat3_subset[dat3_subset['n_macd_zero'] == 15]\n",
    "plt.plot(range(41), dat3_subset_15.iloc[0, 83:124])"
   ]
  },
  {
   "cell_type": "code",
   "execution_count": 0,
   "metadata": {
    "colab": {
     "base_uri": "https://localhost:8080/",
     "height": 286
    },
    "colab_type": "code",
    "executionInfo": {
     "elapsed": 338,
     "status": "ok",
     "timestamp": 1558056300000,
     "user": {
      "displayName": "Junxiong Lei",
      "photoUrl": "https://lh4.googleusercontent.com/-A_hLQrqfd5Q/AAAAAAAAAAI/AAAAAAAAAhA/VntD0J4mKNw/s64/photo.jpg",
      "userId": "11770709030165456358"
     },
     "user_tz": 420
    },
    "id": "SrG366k4Y0Rj",
    "outputId": "c0757b1a-7278-47f6-b3af-dd6d463c587f"
   },
   "outputs": [
    {
     "data": {
      "text/plain": [
       "[<matplotlib.lines.Line2D at 0x7fc4dc99def0>]"
      ]
     },
     "execution_count": 30,
     "metadata": {
      "tags": []
     },
     "output_type": "execute_result"
    },
    {
     "data": {
      "image/png": "[encoded data removed]",
      "text/plain": [
       "<Figure size 432x288 with 1 Axes>"
      ]
     },
     "metadata": {
      "tags": []
     },
     "output_type": "display_data"
    }
   ],
   "source": [
    "dat3_subset_20 = dat3_subset[dat3_subset['n_macd_zero'] == 20]\n",
    "plt.plot(range(41), dat3_subset_20.iloc[0, 83:124])"
   ]
  },
  {
   "cell_type": "code",
   "execution_count": 0,
   "metadata": {
    "colab": {
     "base_uri": "https://localhost:8080/",
     "height": 562
    },
    "colab_type": "code",
    "executionInfo": {
     "elapsed": 680,
     "status": "ok",
     "timestamp": 1558056460366,
     "user": {
      "displayName": "Junxiong Lei",
      "photoUrl": "https://lh4.googleusercontent.com/-A_hLQrqfd5Q/AAAAAAAAAAI/AAAAAAAAAhA/VntD0J4mKNw/s64/photo.jpg",
      "userId": "11770709030165456358"
     },
     "user_tz": 420
    },
    "id": "3RaVrNUQZGxF",
    "outputId": "61c3559b-25a1-46bb-b7e0-bdc4c5ffb3e1"
   },
   "outputs": [
    {
     "name": "stdout",
     "output_type": "stream",
     "text": [
      "Stock: acad\n"
     ]
    },
    {
     "data": {
      "image/png": "[encoded data removed]",
      "text/plain": [
       "<Figure size 432x288 with 1 Axes>"
      ]
     },
     "metadata": {
      "tags": []
     },
     "output_type": "display_data"
    },
    {
     "data": {
      "image/png": "[encoded data removed]",
      "text/plain": [
       "<Figure size 432x288 with 1 Axes>"
      ]
     },
     "metadata": {
      "tags": []
     },
     "output_type": "display_data"
    }
   ],
   "source": [
    "dat3_subset_25 = dat3_subset[dat3_subset['n_macd_zero'] == 25]\n",
    "print(\"Stock:\", dat3_subset_25.iloc[0, 0])\n",
    "plt.plot(range(41), dat3_subset_25.iloc[0, 83:124])\n",
    "plt.title(\"MACD\")\n",
    "plt.show()\n",
    "plt.plot(range(41), dat3_subset_25.iloc[0, 42:83])\n",
    "plt.title(\"Stock Price\")\n",
    "plt.show()"
   ]
  },
  {
   "cell_type": "code",
   "execution_count": 0,
   "metadata": {
    "colab": {},
    "colab_type": "code",
    "id": "HuiDAlLsZY_Z"
   },
   "outputs": [],
   "source": []
  },
  {
   "cell_type": "code",
   "execution_count": 0,
   "metadata": {
    "colab": {
     "base_uri": "https://localhost:8080/",
     "height": 215
    },
    "colab_type": "code",
    "executionInfo": {
     "elapsed": 216,
     "status": "ok",
     "timestamp": 1558057657598,
     "user": {
      "displayName": "Junxiong Lei",
      "photoUrl": "https://lh4.googleusercontent.com/-A_hLQrqfd5Q/AAAAAAAAAAI/AAAAAAAAAhA/VntD0J4mKNw/s64/photo.jpg",
      "userId": "11770709030165456358"
     },
     "user_tz": 420
    },
    "id": "ai32t0SHZyGO",
    "outputId": "6a68b419-b65e-4497-84ac-bee27e52b794"
   },
   "outputs": [
    {
     "data": {
      "text/html": [
       "<div>\n",
       "<style scoped>\n",
       "    .dataframe tbody tr th:only-of-type {\n",
       "        vertical-align: middle;\n",
       "    }\n",
       "\n",
       "    .dataframe tbody tr th {\n",
       "        vertical-align: top;\n",
       "    }\n",
       "\n",
       "    .dataframe thead th {\n",
       "        text-align: right;\n",
       "    }\n",
       "</style>\n",
       "<table border=\"1\" class=\"dataframe\">\n",
       "  <thead>\n",
       "    <tr style=\"text-align: right;\">\n",
       "      <th></th>\n",
       "      <th>prc0</th>\n",
       "      <th>prc1</th>\n",
       "      <th>prc2</th>\n",
       "      <th>prc3</th>\n",
       "      <th>prc4</th>\n",
       "      <th>prc5</th>\n",
       "      <th>prc6</th>\n",
       "      <th>prc7</th>\n",
       "      <th>prc8</th>\n",
       "      <th>prc9</th>\n",
       "      <th>prc10</th>\n",
       "      <th>prc11</th>\n",
       "      <th>prc12</th>\n",
       "      <th>prc13</th>\n",
       "      <th>prc14</th>\n",
       "      <th>prc15</th>\n",
       "      <th>prc16</th>\n",
       "      <th>prc17</th>\n",
       "      <th>prc18</th>\n",
       "      <th>prc19</th>\n",
       "      <th>prc20</th>\n",
       "      <th>prc21</th>\n",
       "      <th>prc22</th>\n",
       "      <th>prc23</th>\n",
       "      <th>prc24</th>\n",
       "      <th>prc25</th>\n",
       "      <th>prc26</th>\n",
       "      <th>prc27</th>\n",
       "      <th>prc28</th>\n",
       "      <th>prc29</th>\n",
       "      <th>prc30</th>\n",
       "      <th>prc31</th>\n",
       "      <th>prc32</th>\n",
       "      <th>prc33</th>\n",
       "      <th>prc34</th>\n",
       "      <th>prc35</th>\n",
       "      <th>prc36</th>\n",
       "      <th>prc37</th>\n",
       "      <th>prc38</th>\n",
       "      <th>prc39</th>\n",
       "      <th>prc40</th>\n",
       "    </tr>\n",
       "  </thead>\n",
       "  <tbody>\n",
       "    <tr>\n",
       "      <th>515</th>\n",
       "      <td>0.9</td>\n",
       "      <td>0.90</td>\n",
       "      <td>0.90</td>\n",
       "      <td>0.89</td>\n",
       "      <td>0.90</td>\n",
       "      <td>0.92</td>\n",
       "      <td>0.91</td>\n",
       "      <td>0.91</td>\n",
       "      <td>0.91</td>\n",
       "      <td>0.91</td>\n",
       "      <td>0.91</td>\n",
       "      <td>0.91</td>\n",
       "      <td>0.91</td>\n",
       "      <td>0.91</td>\n",
       "      <td>0.92</td>\n",
       "      <td>0.92</td>\n",
       "      <td>0.91</td>\n",
       "      <td>0.92</td>\n",
       "      <td>0.92</td>\n",
       "      <td>0.91</td>\n",
       "      <td>0.91</td>\n",
       "      <td>0.91</td>\n",
       "      <td>0.91</td>\n",
       "      <td>0.91</td>\n",
       "      <td>0.91</td>\n",
       "      <td>0.91</td>\n",
       "      <td>0.91</td>\n",
       "      <td>0.91</td>\n",
       "      <td>0.92</td>\n",
       "      <td>0.93</td>\n",
       "      <td>0.92</td>\n",
       "      <td>0.92</td>\n",
       "      <td>0.92</td>\n",
       "      <td>0.92</td>\n",
       "      <td>0.93</td>\n",
       "      <td>0.94</td>\n",
       "      <td>0.93</td>\n",
       "      <td>0.93</td>\n",
       "      <td>0.93</td>\n",
       "      <td>0.94</td>\n",
       "      <td>0.93</td>\n",
       "    </tr>\n",
       "    <tr>\n",
       "      <th>516</th>\n",
       "      <td>0.9</td>\n",
       "      <td>0.90</td>\n",
       "      <td>0.90</td>\n",
       "      <td>0.90</td>\n",
       "      <td>0.90</td>\n",
       "      <td>0.90</td>\n",
       "      <td>0.90</td>\n",
       "      <td>0.89</td>\n",
       "      <td>0.90</td>\n",
       "      <td>0.92</td>\n",
       "      <td>0.91</td>\n",
       "      <td>0.91</td>\n",
       "      <td>0.91</td>\n",
       "      <td>0.91</td>\n",
       "      <td>0.91</td>\n",
       "      <td>0.91</td>\n",
       "      <td>0.91</td>\n",
       "      <td>0.91</td>\n",
       "      <td>0.92</td>\n",
       "      <td>0.92</td>\n",
       "      <td>0.91</td>\n",
       "      <td>0.92</td>\n",
       "      <td>0.92</td>\n",
       "      <td>0.91</td>\n",
       "      <td>0.91</td>\n",
       "      <td>0.91</td>\n",
       "      <td>0.91</td>\n",
       "      <td>0.91</td>\n",
       "      <td>0.91</td>\n",
       "      <td>0.91</td>\n",
       "      <td>0.91</td>\n",
       "      <td>0.91</td>\n",
       "      <td>0.92</td>\n",
       "      <td>0.93</td>\n",
       "      <td>0.92</td>\n",
       "      <td>0.92</td>\n",
       "      <td>0.92</td>\n",
       "      <td>0.92</td>\n",
       "      <td>0.93</td>\n",
       "      <td>0.94</td>\n",
       "      <td>0.93</td>\n",
       "    </tr>\n",
       "    <tr>\n",
       "      <th>519</th>\n",
       "      <td>0.9</td>\n",
       "      <td>0.90</td>\n",
       "      <td>0.90</td>\n",
       "      <td>0.90</td>\n",
       "      <td>0.90</td>\n",
       "      <td>0.90</td>\n",
       "      <td>0.89</td>\n",
       "      <td>0.90</td>\n",
       "      <td>0.89</td>\n",
       "      <td>0.90</td>\n",
       "      <td>0.90</td>\n",
       "      <td>0.90</td>\n",
       "      <td>0.90</td>\n",
       "      <td>0.90</td>\n",
       "      <td>0.90</td>\n",
       "      <td>0.90</td>\n",
       "      <td>0.90</td>\n",
       "      <td>0.90</td>\n",
       "      <td>0.90</td>\n",
       "      <td>0.89</td>\n",
       "      <td>0.89</td>\n",
       "      <td>0.89</td>\n",
       "      <td>0.89</td>\n",
       "      <td>0.88</td>\n",
       "      <td>0.89</td>\n",
       "      <td>0.89</td>\n",
       "      <td>0.89</td>\n",
       "      <td>0.89</td>\n",
       "      <td>0.90</td>\n",
       "      <td>0.90</td>\n",
       "      <td>0.90</td>\n",
       "      <td>0.90</td>\n",
       "      <td>0.89</td>\n",
       "      <td>0.89</td>\n",
       "      <td>0.89</td>\n",
       "      <td>0.90</td>\n",
       "      <td>0.90</td>\n",
       "      <td>0.90</td>\n",
       "      <td>0.90</td>\n",
       "      <td>0.90</td>\n",
       "      <td>0.90</td>\n",
       "    </tr>\n",
       "    <tr>\n",
       "      <th>520</th>\n",
       "      <td>0.9</td>\n",
       "      <td>0.90</td>\n",
       "      <td>0.90</td>\n",
       "      <td>0.90</td>\n",
       "      <td>0.90</td>\n",
       "      <td>0.90</td>\n",
       "      <td>0.90</td>\n",
       "      <td>0.90</td>\n",
       "      <td>0.89</td>\n",
       "      <td>0.90</td>\n",
       "      <td>0.89</td>\n",
       "      <td>0.90</td>\n",
       "      <td>0.90</td>\n",
       "      <td>0.90</td>\n",
       "      <td>0.90</td>\n",
       "      <td>0.90</td>\n",
       "      <td>0.90</td>\n",
       "      <td>0.90</td>\n",
       "      <td>0.90</td>\n",
       "      <td>0.90</td>\n",
       "      <td>0.90</td>\n",
       "      <td>0.89</td>\n",
       "      <td>0.89</td>\n",
       "      <td>0.89</td>\n",
       "      <td>0.89</td>\n",
       "      <td>0.88</td>\n",
       "      <td>0.89</td>\n",
       "      <td>0.89</td>\n",
       "      <td>0.89</td>\n",
       "      <td>0.89</td>\n",
       "      <td>0.90</td>\n",
       "      <td>0.90</td>\n",
       "      <td>0.90</td>\n",
       "      <td>0.90</td>\n",
       "      <td>0.89</td>\n",
       "      <td>0.89</td>\n",
       "      <td>0.89</td>\n",
       "      <td>0.90</td>\n",
       "      <td>0.90</td>\n",
       "      <td>0.90</td>\n",
       "      <td>0.90</td>\n",
       "    </tr>\n",
       "    <tr>\n",
       "      <th>522</th>\n",
       "      <td>0.9</td>\n",
       "      <td>0.89</td>\n",
       "      <td>0.89</td>\n",
       "      <td>0.89</td>\n",
       "      <td>0.88</td>\n",
       "      <td>0.89</td>\n",
       "      <td>0.90</td>\n",
       "      <td>0.90</td>\n",
       "      <td>0.90</td>\n",
       "      <td>0.90</td>\n",
       "      <td>0.90</td>\n",
       "      <td>0.90</td>\n",
       "      <td>0.90</td>\n",
       "      <td>0.90</td>\n",
       "      <td>0.90</td>\n",
       "      <td>0.90</td>\n",
       "      <td>0.89</td>\n",
       "      <td>0.90</td>\n",
       "      <td>0.89</td>\n",
       "      <td>0.90</td>\n",
       "      <td>0.90</td>\n",
       "      <td>0.90</td>\n",
       "      <td>0.90</td>\n",
       "      <td>0.90</td>\n",
       "      <td>0.90</td>\n",
       "      <td>0.90</td>\n",
       "      <td>0.90</td>\n",
       "      <td>0.90</td>\n",
       "      <td>0.90</td>\n",
       "      <td>0.89</td>\n",
       "      <td>0.89</td>\n",
       "      <td>0.89</td>\n",
       "      <td>0.89</td>\n",
       "      <td>0.88</td>\n",
       "      <td>0.89</td>\n",
       "      <td>0.89</td>\n",
       "      <td>0.89</td>\n",
       "      <td>0.89</td>\n",
       "      <td>0.90</td>\n",
       "      <td>0.90</td>\n",
       "      <td>0.90</td>\n",
       "    </tr>\n",
       "  </tbody>\n",
       "</table>\n",
       "</div>"
      ],
      "text/plain": [
       "     prc0  prc1  prc2  prc3  prc4  ...  prc36  prc37  prc38  prc39  prc40\n",
       "515   0.9  0.90  0.90  0.89  0.90  ...   0.93   0.93   0.93   0.94   0.93\n",
       "516   0.9  0.90  0.90  0.90  0.90  ...   0.92   0.92   0.93   0.94   0.93\n",
       "519   0.9  0.90  0.90  0.90  0.90  ...   0.90   0.90   0.90   0.90   0.90\n",
       "520   0.9  0.90  0.90  0.90  0.90  ...   0.89   0.90   0.90   0.90   0.90\n",
       "522   0.9  0.89  0.89  0.89  0.88  ...   0.89   0.89   0.90   0.90   0.90\n",
       "\n",
       "[5 rows x 41 columns]"
      ]
     },
     "execution_count": 41,
     "metadata": {
      "tags": []
     },
     "output_type": "execute_result"
    }
   ],
   "source": [
    "acad_prc = dat1[dat1['symbol'] == 'acad'].iloc[:, 42:83]\n",
    "acad_prc[acad_prc['prc0'] == 0.90].head()"
   ]
  },
  {
   "cell_type": "code",
   "execution_count": 0,
   "metadata": {
    "colab": {
     "base_uri": "https://localhost:8080/",
     "height": 286
    },
    "colab_type": "code",
    "executionInfo": {
     "elapsed": 421,
     "status": "ok",
     "timestamp": 1558058269220,
     "user": {
      "displayName": "Junxiong Lei",
      "photoUrl": "https://lh4.googleusercontent.com/-A_hLQrqfd5Q/AAAAAAAAAAI/AAAAAAAAAhA/VntD0J4mKNw/s64/photo.jpg",
      "userId": "11770709030165456358"
     },
     "user_tz": 420
    },
    "id": "5OhkTM4tdit2",
    "outputId": "9e247cbc-4f6b-4a7f-867e-1b68066d8d63"
   },
   "outputs": [
    {
     "data": {
      "text/plain": [
       "[<matplotlib.lines.Line2D at 0x7fc4dc644710>]"
      ]
     },
     "execution_count": 44,
     "metadata": {
      "tags": []
     },
     "output_type": "execute_result"
    },
    {
     "data": {
      "image/png": "[encoded data removed]",
      "text/plain": [
       "<Figure size 432x288 with 1 Axes>"
      ]
     },
     "metadata": {
      "tags": []
     },
     "output_type": "display_data"
    }
   ],
   "source": [
    "plt.plot(range(41), acad_prc[acad_prc['prc0'] == 0.90].iloc[0, :])"
   ]
  },
  {
   "cell_type": "code",
   "execution_count": 0,
   "metadata": {
    "colab": {
     "base_uri": "https://localhost:8080/",
     "height": 286
    },
    "colab_type": "code",
    "executionInfo": {
     "elapsed": 1501,
     "status": "ok",
     "timestamp": 1558064220393,
     "user": {
      "displayName": "Junxiong Lei",
      "photoUrl": "https://lh4.googleusercontent.com/-A_hLQrqfd5Q/AAAAAAAAAAI/AAAAAAAAAhA/VntD0J4mKNw/s64/photo.jpg",
      "userId": "11770709030165456358"
     },
     "user_tz": 420
    },
    "id": "2SwZAdjzyn3-",
    "outputId": "cc434c9b-d7c7-4d4c-e95e-c63cb93a50df"
   },
   "outputs": [
    {
     "data": {
      "text/plain": [
       "<matplotlib.collections.PathCollection at 0x7fc4dc401160>"
      ]
     },
     "execution_count": 76,
     "metadata": {
      "tags": []
     },
     "output_type": "execute_result"
    },
    {
     "data": {
      "image/png": "[encoded data removed]",
      "text/plain": [
       "<Figure size 432x288 with 1 Axes>"
      ]
     },
     "metadata": {
      "tags": []
     },
     "output_type": "display_data"
    }
   ],
   "source": [
    "tmp = prc_data.sort_values(['smoothness'], ascending = True)\n",
    "# tmp = tmp.iloc[:10000, :]\n",
    "plt.scatter(np.log(tmp['smoothness']), tmp['prc0'], alpha=0.1)\n",
    "# np.corrcoef(tmp['smoothness'], tmp['prc0'])"
   ]
  },
  {
   "cell_type": "code",
   "execution_count": 3,
   "metadata": {},
   "outputs": [],
   "source": [
    "tmp = pd.read_csv(\"../data/buy/amd1Buy3ML20years.txt\", delimiter= '\\s+', header = None)"
   ]
  },
  {
   "cell_type": "code",
   "execution_count": 22,
   "metadata": {},
   "outputs": [
    {
     "data": {
      "image/png": "[encoded data removed]",
      "text/plain": [
       "<Figure size 432x288 with 1 Axes>"
      ]
     },
     "metadata": {
      "needs_background": "light"
     },
     "output_type": "display_data"
    }
   ],
   "source": [
    "plt.plot(range(41), tmp.iloc[10, :41], \"r\", label = \"oscillator\")\n",
    "plt.plot(range(41), tmp.iloc[10, 41:82], \"b\", label = \"price\")\n",
    "plt.savefig(\"../gl/plt1.png\")"
   ]
  },
  {
   "cell_type": "code",
   "execution_count": 13,
   "metadata": {},
   "outputs": [
    {
     "data": {
      "text/plain": [
       "[<matplotlib.lines.Line2D at 0x1cac34afc88>]"
      ]
     },
     "execution_count": 13,
     "metadata": {},
     "output_type": "execute_result"
    },
    {
     "data": {
      "image/png": "[encoded data removed]",
      "text/plain": [
       "<Figure size 432x288 with 1 Axes>"
      ]
     },
     "metadata": {
      "needs_background": "light"
     },
     "output_type": "display_data"
    }
   ],
   "source": [
    "plt2 = plt.plot(range(41), tmp.iloc[10,41:82])\n",
    "plt2"
   ]
  },
  {
   "cell_type": "code",
   "execution_count": 19,
   "metadata": {},
   "outputs": [
    {
     "data": {
      "image/png": "[encoded data removed]",
      "text/plain": [
       "<Figure size 432x288 with 1 Axes>"
      ]
     },
     "metadata": {
      "needs_background": "light"
     },
     "output_type": "display_data"
    }
   ],
   "source": [
    "plt3 = plt.plot(range(41), tmp.iloc[10,82:123])\n",
    "plt.savefig(\"../gl/plt3.png\")"
   ]
  },
  {
   "cell_type": "code",
   "execution_count": 66,
   "metadata": {},
   "outputs": [
    {
     "data": {
      "image/png": "[encoded data removed]",
      "text/plain": [
       "<Figure size 216x144 with 1 Axes>"
      ]
     },
     "metadata": {},
     "output_type": "display_data"
    }
   ],
   "source": [
    "fig = plt.figure(figsize = (3, 2), frameon=False)\n",
    "fig.tight_layout(pad=0)\n",
    "plt.plot(range(41), tmp.iloc[10,41:82], 'g')\n",
    "plt.plot(range(41), tmp.iloc[10,82:123], 'b')\n",
    "plt.tick_params(axis = 'both', which = 'both', bottom=False, top=False, labelbottom=False, right=False, left=False, labelleft=False)\n",
    "fig.canvas.draw()\n",
    "data = np.frombuffer(fig.canvas.tostring_rgb(), dtype=np.uint8)\n",
    "data = data.reshape(fig.canvas.get_width_height()[::-1] + (3,))\n",
    "plt.savefig(\"../gl/plt0.png\")"
   ]
  },
  {
   "cell_type": "code",
   "execution_count": 52,
   "metadata": {},
   "outputs": [
    {
     "data": {
      "text/plain": [
       "array([255, 255, 255], dtype=uint8)"
      ]
     },
     "execution_count": 52,
     "metadata": {},
     "output_type": "execute_result"
    }
   ],
   "source": [
    "data[10, 10, :]"
   ]
  },
  {
   "cell_type": "code",
   "execution_count": 57,
   "metadata": {},
   "outputs": [],
   "source": [
    "counts = [[0], [0], [0]]\n",
    "for i in range(data.shape[0]):\n",
    "    for j in range(data.shape[1]):\n",
    "        for k in range(3):\n",
    "            if data[i, j, k] != 255:\n",
    "                counts[k].append(data[i, j, k])"
   ]
  },
  {
   "cell_type": "code",
   "execution_count": 58,
   "metadata": {},
   "outputs": [
    {
     "data": {
      "text/plain": [
       "1105"
      ]
     },
     "execution_count": 58,
     "metadata": {},
     "output_type": "execute_result"
    }
   ],
   "source": [
    "len(counts[0])"
   ]
  },
  {
   "cell_type": "code",
   "execution_count": 59,
   "metadata": {},
   "outputs": [
    {
     "data": {
      "text/plain": [
       "3072"
      ]
     },
     "execution_count": 59,
     "metadata": {},
     "output_type": "execute_result"
    }
   ],
   "source": [
    "len(counts[1])"
   ]
  },
  {
   "cell_type": "code",
   "execution_count": 60,
   "metadata": {},
   "outputs": [
    {
     "data": {
      "text/plain": [
       "3072"
      ]
     },
     "execution_count": 60,
     "metadata": {},
     "output_type": "execute_result"
    }
   ],
   "source": [
    "len(counts[2])"
   ]
  },
  {
   "cell_type": "code",
   "execution_count": 61,
   "metadata": {},
   "outputs": [
    {
     "data": {
      "text/plain": [
       "[0, 19, 51, 51, 51, 51, 51, 51, 51, 51]"
      ]
     },
     "execution_count": 61,
     "metadata": {},
     "output_type": "execute_result"
    }
   ],
   "source": [
    "counts[2][:10]"
   ]
  },
  {
   "cell_type": "code",
   "execution_count": null,
   "metadata": {},
   "outputs": [],
   "source": []
  }
 ],
 "metadata": {
  "accelerator": "GPU",
  "colab": {
   "collapsed_sections": [],
   "name": "Seahorse.ipynb",
   "provenance": [],
   "version": "0.3.2"
  },
  "kernelspec": {
   "display_name": "Python 3",
   "language": "python",
   "name": "python3"
  },
  "language_info": {
   "codemirror_mode": {
    "name": "ipython",
    "version": 3
   },
   "file_extension": ".py",
   "mimetype": "text/x-python",
   "name": "python",
   "nbconvert_exporter": "python",
   "pygments_lexer": "ipython3",
   "version": "3.7.3"
  }
 },
 "nbformat": 4,
 "nbformat_minor": 1
}
