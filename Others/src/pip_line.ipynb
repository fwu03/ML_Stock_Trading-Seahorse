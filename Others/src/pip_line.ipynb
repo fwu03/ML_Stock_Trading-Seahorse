{
 "cells": [
  {
   "cell_type": "code",
   "execution_count": 26,
   "metadata": {},
   "outputs": [],
   "source": [
    "# packages for basic python calculation\n",
    "import pandas as pd\n",
    "import numpy as np\n",
    "\n",
    "# warning ignore\n",
    "import warnings\n",
    "warnings.filterwarnings(\"ignore\")\n",
    "\n",
    "# packages for fft\n",
    "import spectrum\n",
    "from spectrum import Periodogram, data_cosine\n",
    "\n",
    "# packages for ML\n",
    "from sklearn.model_selection import train_test_split\n",
    "from sklearn.feature_selection import RFE\n",
    "\n",
    "\n",
    "# define function for psd calculation\n",
    "def psd_generator(data, NFFT = 100, name = \"osc\"):\n",
    "    freq = []\n",
    "    for i in range(data.shape[0]):\n",
    "        data_osc = data.iloc[i,:]\n",
    "        p = Periodogram(data_osc, NFFT=NFFT)\n",
    "        temp_list = list(p.psd)\n",
    "        freq.append(temp_list)\n",
    "        \n",
    "   \n",
    "     \n",
    "    col_name = []\n",
    "    for i in range(int(NFFT/2)+1):\n",
    "        col_name.append(\"freq\"+str(i))\n",
    "    \n",
    "    psd_df = pd.DataFrame(freq, columns=col_name) \n",
    "    return psd_df\n",
    "\n",
    "# define function for numerical differentiation\n",
    "def derivative(data, space = 1, name = \"macd\"):\n",
    "    dy = []\n",
    "    for i in range(data.shape[0]):\n",
    "        y = pd.Series(data.iloc[i,:])\n",
    "        temp_dy = list(np.gradient(y, space))\n",
    "        dy.append(temp_dy)\n",
    "    \n",
    "    col_name = []\n",
    "    for i in range(data.shape[1]):\n",
    "        col_name.append(name + \"deriv\"+ str(i))\n",
    "        \n",
    "    deriv_df = pd.DataFrame(dy, columns=col_name) \n",
    "    \n",
    "    return deriv_df\n",
    "    \n",
    "\n",
    "def precision_pipline(file_path, model):\n",
    "    \n",
    "    # read in the file and seperate indicators\n",
    "    df = pd.read_csv(file_path, delimiter=\"\\s+\", header = None)\n",
    "    osc = df.iloc[21:,0:41].reset_index()\n",
    "    stk = df.iloc[21:, 41:82].reset_index()\n",
    "    macd = df.iloc[21:, 82:123].reset_index()\n",
    "    rtn = df.iloc[21:,123]\n",
    "    label = np.sign(rtn)\n",
    "    label = label.map({1:1, -1:0, 0:0})\n",
    "    \n",
    "    results = label.map({1:\"EARN\", 0:\"LOSS\"})\n",
    "    \n",
    "    # calculate the fft frequencies for the oscillator\n",
    "    psd_osc = psd_generator(osc, NFFT = 100)\n",
    "    \n",
    "    # calculate the dy for macd\n",
    "    deriv_macd = derivative(macd)\n",
    "    \n",
    "    Feature_matrix = pd.concat([osc, stk, macd, psd_osc, deriv_macd], axis=1)\n",
    "    # Feature_matrix.head()\n",
    "\n",
    "    #Split test set\n",
    "    X, X_test, y, y_test = train_test_split(Feature_matrix, label, test_size=0.2)\n",
    "\n",
    "    #Split train/validation set\n",
    "    X_train, X_valid, y_train, y_valid = train_test_split(X, y, test_size=0.2)\n",
    "    \n",
    "    model.fit(X_train, y_train)\n",
    "    \n",
    "    print(\"Training Accuracy:\", model.score(X_train, y_train))\n",
    "    print(\"Test Accuracy:\", model.score(X_test, y_test))\n",
    "    \n",
    "    pre = model.predict(X_test)\n",
    "    true = y_test\n",
    "    df_ana = pd.DataFrame({\"pre\":pre,\n",
    "                          \"true\":true})\n",
    "    \n",
    "    \n",
    "        \n",
    "    percision = sum(df_ana[\"true\"] & df_ana[\"pre\"])/sum(df_ana[\"pre\"])\n",
    "    print(\"Test precision:\", percision)\n",
    "\n"
   ]
  },
  {
   "cell_type": "code",
   "execution_count": 31,
   "metadata": {},
   "outputs": [
    {
     "name": "stdout",
     "output_type": "stream",
     "text": [
      "Training Accuracy: 0.6331578947368421\n",
      "Test Accuracy: 0.6397306397306397\n",
      "Test precision: 0.2894736842105263\n"
     ]
    }
   ],
   "source": [
    "# Application\n",
    "\n",
    "from sklearn.linear_model import LogisticRegression\n",
    "model = LogisticRegression(solver = 'lbfgs')\n",
    "file_path = \"Seahorse_buys/acad1Buy3ML10years.txt\"\n",
    "precision_pipline(file_path, model)"
   ]
  },
  {
   "cell_type": "code",
   "execution_count": 32,
   "metadata": {},
   "outputs": [
    {
     "name": "stdout",
     "output_type": "stream",
     "text": [
      "Training Accuracy: 0.5705263157894737\n",
      "Test Accuracy: 0.5454545454545454\n",
      "Test precision: 0.3472803347280335\n"
     ]
    }
   ],
   "source": [
    "from sklearn.naive_bayes import BernoulliNB\n",
    "model = BernoulliNB()\n",
    "file_path = \"Seahorse_buys/acad1Buy3ML10years.txt\"\n",
    "precision_pipline(file_path, model)"
   ]
  },
  {
   "cell_type": "code",
   "execution_count": 33,
   "metadata": {},
   "outputs": [
    {
     "name": "stdout",
     "output_type": "stream",
     "text": [
      "Training Accuracy: 0.9757894736842105\n",
      "Test Accuracy: 0.6397306397306397\n",
      "Test precision: 0.42718446601941745\n"
     ]
    }
   ],
   "source": [
    "from sklearn.ensemble import RandomForestClassifier\n",
    "model = RandomForestClassifier()\n",
    "file_path = \"Seahorse_buys/acad1Buy3ML10years.txt\"\n",
    "precision_pipline(file_path, model)"
   ]
  },
  {
   "cell_type": "code",
   "execution_count": 34,
   "metadata": {},
   "outputs": [
    {
     "name": "stdout",
     "output_type": "stream",
     "text": [
      "Training Accuracy: 0.7784210526315789\n",
      "Test Accuracy: 0.5942760942760943\n",
      "Test precision: 0.38620689655172413\n"
     ]
    }
   ],
   "source": [
    "from sklearn.svm import SVC\n",
    "model = SVC(C=100, gamma=\"scale\")\n",
    "file_path = \"Seahorse_buys/acad1Buy3ML10years.txt\"\n",
    "precision_pipline(file_path, model)"
   ]
  },
  {
   "cell_type": "code",
   "execution_count": null,
   "metadata": {},
   "outputs": [],
   "source": []
  },
  {
   "cell_type": "code",
   "execution_count": null,
   "metadata": {},
   "outputs": [],
   "source": []
  }
 ],
 "metadata": {
  "kernelspec": {
   "display_name": "Python 3",
   "language": "python",
   "name": "python3"
  },
  "language_info": {
   "codemirror_mode": {
    "name": "ipython",
    "version": 3
   },
   "file_extension": ".py",
   "mimetype": "text/x-python",
   "name": "python",
   "nbconvert_exporter": "python",
   "pygments_lexer": "ipython3",
   "version": "3.7.3"
  }
 },
 "nbformat": 4,
 "nbformat_minor": 2
}
